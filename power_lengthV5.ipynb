{
 "cells": [
  {
   "metadata": {},
   "cell_type": "markdown",
   "source": [
    "# Power Length V5\n",
    "\n",
    "This takes a phase diagram - varies cavity length and power, and takes spectral readings, images and output power at each point. \n",
    "\n",
    "### Imports"
   ],
   "id": "8a77807f92f26ee"
  },
  {
   "metadata": {},
   "cell_type": "code",
   "outputs": [],
   "execution_count": null,
   "source": [
    "import sys\n",
    "import time\n",
    "import numpy as np\n",
    "import socket\n",
    "from tqdm import tqdm\n",
    "import Components as comp\n",
    "from Measure import Measure\n",
    "\n",
    "if socket.gethostname() == \"ph-photonbec5\":\n",
    "    sys.path.append(r\"D:/Control/PythonPackages/\")\n",
    "\n",
    "from pbec_analysis import make_timestamp, ExperimentalDataSet"
   ],
   "id": "fbc121e30a2defb3"
  },
  {
   "metadata": {},
   "cell_type": "markdown",
   "source": "### Initialise Equipment",
   "id": "7ffc4e537684ac8e"
  },
  {
   "metadata": {},
   "cell_type": "code",
   "outputs": [],
   "execution_count": null,
   "source": [
    "components = dict()\n",
    "\n",
    "components.update({\"powermeter\": comp.PowerMeter(num_power_readings=100, bs_factor=4)})\n",
    "components.update({\"spectrometer\": comp.Spectrometer(spec_nd=1 / 7)})\n",
    "components.update({\"wheel\": comp.FilterWheel()})\n",
    "components.update({\"camera\": comp.Camera()})\n",
    "components.update({\"laser\": comp.Laser()})"
   ],
   "id": "19e4d490f5a99599"
  },
  {
   "metadata": {},
   "cell_type": "markdown",
   "source": "### Choose loop parameters",
   "id": "4c0ca04888e34c6c"
  },
  {
   "metadata": {},
   "cell_type": "code",
   "outputs": [],
   "execution_count": null,
   "source": [
    "\n",
    "#Define PCA range\n",
    "length_list = np.linspace(-3, -4, 2)\n",
    "#Define power range\n",
    "power_list = np.linspace(0.015, 0.115, 20)\n"
   ],
   "id": "7a2eaa998d0fe77"
  },
  {
   "metadata": {},
   "cell_type": "markdown",
   "source": "### Measurement Loop",
   "id": "b45ac3a20569fff5"
  },
  {
   "metadata": {},
   "cell_type": "code",
   "outputs": [],
   "execution_count": null,
   "source": [
    "\n",
    "\n",
    "time_stamps = []\n",
    "for l in tqdm(length_list, leave=True):\n",
    "    comp.set_lock(l)\n",
    "\n",
    "\n",
    "    total_time = 100\n",
    "    for pwr in tqdm(power_list, leave=True):\n",
    "        #Set up measure class\n",
    "        Measure(components, pwr, l)\n",
    "        \n",
    "        #Take measurement\n",
    "        timestamp = Measure.take_measurement()\n",
    "        time_stamps.append(timestamp)\n",
    "\n",
    "print(time_stamps[0], time_stamps[-1])"
   ],
   "id": "b78e33f8c3f1cc64"
  }
 ],
 "metadata": {
  "kernelspec": {
   "display_name": "Python 3",
   "language": "python",
   "name": "python3"
  },
  "language_info": {
   "codemirror_mode": {
    "name": "ipython",
    "version": 2
   },
   "file_extension": ".py",
   "mimetype": "text/x-python",
   "name": "python",
   "nbconvert_exporter": "python",
   "pygments_lexer": "ipython2",
   "version": "2.7.6"
  }
 },
 "nbformat": 4,
 "nbformat_minor": 5
}
