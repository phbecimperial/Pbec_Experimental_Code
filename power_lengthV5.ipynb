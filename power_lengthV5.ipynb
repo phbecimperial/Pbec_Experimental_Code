{
 "cells": [
  {
   "metadata": {},
   "cell_type": "markdown",
   "source": [
    "# Power Length V5\n",
    "\n",
    "This takes a phase diagram - varies cavity length and power, and takes spectral readings, images and output power at each point. \n",
    "\n",
    "### Imports"
   ],
   "id": "8a77807f92f26ee"
  },
  {
   "metadata": {
    "ExecuteTime": {
     "end_time": "2024-08-21T15:51:28.837441Z",
     "start_time": "2024-08-21T15:51:27.813864100Z"
    }
   },
   "cell_type": "code",
   "source": [
    "%load_ext autoreload\n",
    "%autoreload 2\n",
    "\n",
    "import time\n",
    "import logging\n",
    "import winsound\n",
    "import numpy as np\n",
    "from tqdm.notebook import tqdm\n",
    "import Components as comp\n",
    "from Measure import power_scan\n",
    "import socket\n",
    "import sys\n",
    "if socket.gethostname() == \"ph-photonbec5\":\n",
    "    sys.path.append(r\"D:/Control/PythonPackages/\")\n",
    "\n",
    "from pbec_analysis import make_timestamp"
   ],
   "id": "fbc121e30a2defb3",
   "outputs": [
    {
     "name": "stderr",
     "output_type": "stream",
     "text": [
      "C:\\Semiconductor Cavity\\WheelBEC\\Experimental Code\\Measure.py:8: TqdmExperimentalWarning: Using `tqdm.autonotebook.tqdm` in notebook mode. Use `tqdm.tqdm` instead to force console mode (e.g. in jupyter console)\n",
      "  from tqdm.autonotebook import tqdm\n"
     ]
    }
   ],
   "execution_count": 1
  },
  {
   "metadata": {},
   "cell_type": "markdown",
   "source": [
    "### Initialise Equipment\n",
    "If equipment can take measurements, can set measure = True or False when initialising them. Note some components are interdependent."
   ],
   "id": "7ffc4e537684ac8e"
  },
  {
   "metadata": {
    "ExecuteTime": {
     "end_time": "2024-08-21T15:51:31.376584100Z",
     "start_time": "2024-08-21T15:51:28.839440400Z"
    }
   },
   "cell_type": "code",
   "outputs": [],
   "execution_count": 2,
   "source": [
    "components = dict()\n",
    "\n",
    "components.update({\"laser\": comp.Toptica_Laser(com_port='COM12')})\n",
    "components.update({\"powermeter\": comp.Thor_PowerMeter(power_meter_usb_name='USB0::0x1313::0x8078::P0034379::INSTR', num_power_readings=100, bs_factor=0.5, wavelength=950)})\n",
    "components.update({\"spectrometer\": comp.Spectrometer(spec_nd=1 / 30.5)})\n",
    "# components.update({\"camera\": comp.FLIR_Camera(measure=True, )})\n",
    "components.update({\"wheel\": comp.FilterWheel(com_port='COM9')})"
   ],
   "id": "19e4d490f5a99599"
  },
  {
   "metadata": {},
   "cell_type": "markdown",
   "source": [],
   "id": "db130fae7f60be"
  },
  {
   "metadata": {},
   "cell_type": "markdown",
   "source": [
    "### Choose loop parameters"
   ],
   "id": "4c0ca04888e34c6c"
  },
  {
   "cell_type": "code",
   "outputs": [],
   "source": [
    "# components['laser'].set(248e-3)"
   ],
   "metadata": {
    "collapsed": false,
    "ExecuteTime": {
     "end_time": "2024-08-21T15:51:31.453862500Z",
     "start_time": "2024-08-21T15:51:31.377571300Z"
    }
   },
   "id": "3d164619d2f288c4",
   "execution_count": 3
  },
  {
   "metadata": {
    "ExecuteTime": {
     "end_time": "2024-08-21T15:51:31.518684500Z",
     "start_time": "2024-08-21T15:51:31.455924300Z"
    }
   },
   "cell_type": "code",
   "outputs": [
    {
     "data": {
      "text/plain": "numpy.float64"
     },
     "execution_count": 4,
     "metadata": {},
     "output_type": "execute_result"
    }
   ],
   "execution_count": 4,
   "source": [
    "\n",
    "#Define PCA range\n",
    "length_list = np.linspace(8, -1, 7)\n",
    "stage_list = np.linspace(0, 4e6, 8, dtype=int)\n",
    "stage_list = stage_list + 0.0\n",
    "#Define power range\n",
    "power_list = np.linspace(15e-3, 245e-3, 20)\n",
    "\n",
    "type(stage_list[0])"
   ],
   "id": "7a2eaa998d0fe77"
  },
  {
   "metadata": {},
   "cell_type": "markdown",
   "source": [
    "### Measurement Loop\n",
    "Note Kinesis stage needs to be closed each time it is used, or won't be able to open again - so only use the stage using 'with' statements. "
   ],
   "id": "b45ac3a20569fff5"
  },
  {
   "metadata": {
    "is_executing": true,
    "ExecuteTime": {
     "start_time": "2024-08-21T15:51:31.522697300Z"
    }
   },
   "cell_type": "code",
   "outputs": [
    {
     "name": "stdout",
     "output_type": "stream",
     "text": [
      "hi\n",
      "Here are the camera names:\n",
      "{'blackfly_minisetup': '19128822', 'blackfly_semiconductor_cavity': '17458446', 'blackfly_semiconductor_cavity_lock': '19441065', 'bonus_chameleon': '14110699', 'nathans_dungeon_lock_NA0': '17458446', 'nathans_dungeon_cavity_NA1': '19128822'}\n",
      "\n",
      "\n",
      "-> Detected 2 USB3 cameras\n"
     ]
    },
    {
     "data": {
      "text/plain": "  0%|          | 0/8 [00:00<?, ?it/s]",
      "application/vnd.jupyter.widget-view+json": {
       "version_major": 2,
       "version_minor": 0,
       "model_id": "4a0bccd60106446294e2c6fa1083a722"
      }
     },
     "metadata": {},
     "output_type": "display_data"
    },
    {
     "data": {
      "text/plain": "  0%|          | 0/8 [00:00<?, ?it/s]",
      "application/vnd.jupyter.widget-view+json": {
       "version_major": 2,
       "version_minor": 0,
       "model_id": "ead5d6f3225d4cfcbc75bda30592b77e"
      }
     },
     "metadata": {},
     "output_type": "display_data"
    },
    {
     "data": {
      "text/plain": "  0%|          | 0/7 [00:00<?, ?it/s]",
      "application/vnd.jupyter.widget-view+json": {
       "version_major": 2,
       "version_minor": 0,
       "model_id": "d395390087854a698197d5e04793ef9b"
      }
     },
     "metadata": {},
     "output_type": "display_data"
    },
    {
     "data": {
      "text/plain": "  0%|          | 0/20 [00:00<?, ?it/s]",
      "application/vnd.jupyter.widget-view+json": {
       "version_major": 2,
       "version_minor": 0,
       "model_id": "653bec83f64144fbacf20be4173d2538"
      }
     },
     "metadata": {},
     "output_type": "display_data"
    }
   ],
   "execution_count": null,
   "source": [
    "# %qtconsole\n",
    "\n",
    "time_stamps = []\n",
    "logging.basicConfig(filename = fr'Logs\\power_lengthV5_{make_timestamp()}.log', filemode='w', level=logging.INFO, force=True)\n",
    "print('hi')\n",
    "with comp.Translation_Stage(26000913, is_rack_system = False, scale = 1) as stage, comp.FLIR_Camera(measure=True, algorithm='rising') as camera:\n",
    "    components.update({\"camera\": camera})\n",
    "    pbar = tqdm(stage_list)\n",
    "    for s in pbar:\n",
    "        stage.set(s)\n",
    "        pbar.set_description(f'Test Displacement {s}')\n",
    "        time.sleep(1)\n",
    "    \n",
    "    for s in tqdm(stage_list):\n",
    "        stage.set(s)\n",
    "        time.sleep(1)\n",
    "        comp.params.update({\"stage_pos\": s})\n",
    "        \n",
    "        #Slowly return to initial wavelength\n",
    "        for l in np.flip(length_list):\n",
    "            comp.set_lock(l)\n",
    "            time.sleep(5)\n",
    "        \n",
    "        for l in tqdm(length_list, leave=True):\n",
    "            comp.set_lock(l) #save pca value\n",
    "            ts = power_scan(power_list, components, l)\n",
    "            time_stamps.append(ts)\n",
    "    stage.set(0)\n",
    "    components['laser'].set(0)\n",
    "print(\"'\"+str(time_stamps[0][0])+\"'\"+\",\"+\"'\"+str(time_stamps[-1][-1])+\"'\")\n",
    "winsound.Beep(1000, 2000)\n",
    "\n"
   ],
   "id": "b78e33f8c3f1cc64"
  }
 ],
 "metadata": {
  "kernelspec": {
   "display_name": "Python 3",
   "language": "python",
   "name": "python3"
  },
  "language_info": {
   "codemirror_mode": {
    "name": "ipython",
    "version": 2
   },
   "file_extension": ".py",
   "mimetype": "text/x-python",
   "name": "python",
   "nbconvert_exporter": "python",
   "pygments_lexer": "ipython2",
   "version": "2.7.6"
  }
 },
 "nbformat": 4,
 "nbformat_minor": 5
}
