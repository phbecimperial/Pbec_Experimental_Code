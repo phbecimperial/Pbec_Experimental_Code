{
 "cells": [
  {
   "cell_type": "markdown",
   "id": "8a77807f92f26ee",
   "metadata": {},
   "source": [
    "# Power Length V5\n",
    "\n",
    "This takes a phase diagram - varies cavity length and power, and takes spectral readings, images and output power at each point. \n",
    "\n",
    "### Imports"
   ]
  },
  {
   "cell_type": "code",
   "execution_count": 1,
   "id": "fbc121e30a2defb3",
   "metadata": {
    "ExecuteTime": {
     "end_time": "2024-08-21T15:51:28.837441Z",
     "start_time": "2024-08-21T15:51:27.813864100Z"
    }
   },
   "outputs": [],
   "source": [
    "%load_ext autoreload\n",
    "%autoreload 2\n",
    "\n",
    "import time\n",
    "import logging\n",
    "import winsound\n",
    "import numpy as np\n",
    "from tqdm.notebook import tqdm\n",
    "import Components as comp\n",
    "from Measure import power_scan\n",
    "import socket\n",
    "import sys\n",
    "if socket.gethostname() == \"ph-photonbec5\":\n",
    "    sys.path.append(r\"D:/Control/PythonPackages/\")\n",
    "\n",
    "from pbec_analysis import make_timestamp"
   ],
   "id": "fbc121e30a2defb3",
   "outputs": [],
   "execution_count": 1
  },
  {
   "cell_type": "markdown",
   "id": "7ffc4e537684ac8e",
   "metadata": {},
   "source": [
    "### Initialise Equipment\n",
    "If equipment can take measurements, can set measure = True or False when initialising them. Note some components are interdependent."
   ]
  },
  {
   "cell_type": "code",
   "execution_count": 2,
   "id": "19e4d490f5a99599",
   "metadata": {
    "ExecuteTime": {
     "end_time": "2024-08-21T15:51:31.376584100Z",
     "start_time": "2024-08-21T15:51:28.839440400Z"
    }
   },
   "cell_type": "code",
   "outputs": [
    {
     "name": "stdout",
     "output_type": "stream",
     "text": [
      "Found laser\n",
      "Found power meter\n",
      "Found spectrometer\n"
     ]
    }
   ],
   "execution_count": 2,
   "source": [
    "components = dict()\n",
    "\n",
    "components.update({\"laser\": comp.Toptica_Laser(com_port='COM12')})\n",
    "components.update({\"powermeter\": comp.Thor_PowerMeter(power_meter_usb_name='USB0::0x1313::0x8078::P0034379::INSTR', num_power_readings=100, bs_factor=0.5, wavelength=950)})\n",
    "components.update({\"spectrometer\": comp.Spectrometer(spec_nd=1 / 30.5, total_time=100, initial_time=1000, min_lamb=910)})\n",
    "# components.update({\"camera\": comp.FLIR_Camera(measure=True, )})\n",
    "components.update({\"wheel\": comp.FilterWheel(com_port='COM9', allowed_filter_positions = [0, 5])})\n",
    "\n"
   ]
  },
  {
   "cell_type": "markdown",
   "id": "db130fae7f60be",
   "metadata": {},
   "source": []
  },
  {
   "cell_type": "markdown",
   "id": "4c0ca04888e34c6c",
   "metadata": {},
   "source": [
    "### Choose loop parameters"
   ]
  },
  {
   "cell_type": "code",
   "outputs": [],
   "source": [
    "# components['laser'].set(248e-3)"
   ],
   "metadata": {
    "collapsed": false,
    "ExecuteTime": {
     "end_time": "2024-08-21T15:51:31.453862500Z",
     "start_time": "2024-08-21T15:51:31.377571300Z"
    }
   },
   "id": "3d164619d2f288c4",
   "execution_count": 3
  },
  {
   "cell_type": "code",
   "execution_count": 3,
   "id": "7a2eaa998d0fe77",
   "metadata": {
    "ExecuteTime": {
     "end_time": "2024-08-21T15:51:31.518684500Z",
     "start_time": "2024-08-21T15:51:31.455924300Z"
    }
   },
   "outputs": [
    {
     "data": {
      "text/plain": [
       "numpy.float64"
      ]
     },
     "execution_count": 4,
     "metadata": {},
     "output_type": "execute_result"
    }
   ],
   "execution_count": 3,
   "source": [
    "\n",
    "#Define PCA range\n",
    "length_list = np.linspace(8, -1, 7)\n",
    "stage_list = np.linspace(0, 4e6, 8, dtype=int)\n",
    "stage_list = stage_list + 0.0\n",
    "#Define power range\n",
    "power_list = np.linspace(15e-3, 245e-3, 20)\n",
    "\n",
    "type(stage_list[0])"
   ]
  },
  {
   "cell_type": "markdown",
   "id": "b45ac3a20569fff5",
   "metadata": {},
   "source": [
    "### Measurement Loop\n",
    "Note Kinesis stage needs to be closed each time it is used, or won't be able to open again - so only use the stage using 'with' statements. "
   ]
  },
  {
   "cell_type": "code",
   "execution_count": null,
   "id": "b78e33f8c3f1cc64",
   "metadata": {
    "ExecuteTime": {
     "start_time": "2024-08-19T16:38:55.615120900Z"
    }
   },
   "outputs": [
    {
     "name": "stdout",
     "output_type": "stream",
     "text": [
      "hi\n",
      "Here are the camera names:\n",
      "{'blackfly_minisetup': '19128822', 'blackfly_semiconductor_cavity': '17458446', 'blackfly_semiconductor_cavity_lock': '19441065', 'bonus_chameleon': '14110699', 'nathans_dungeon_lock_NA0': '17458446', 'nathans_dungeon_cavity_NA1': '19128822'}\n",
      "\n",
      "\n",
      "-> Detected 2 USB3 cameras\n"
     ]
    },
    {
     "name": "stderr",
     "output_type": "stream",
     "text": [
      "  0%|          | 0/10 [00:00<?, ?it/s]"
     ]
    },
    {
     "name": "stdout",
     "output_type": "stream",
     "text": [
      "-7.0\n",
      "41231\n",
      "-5.222222222222221\n",
      "41231\n",
      "-3.444444444444443\n",
      "41231\n",
      "-1.666666666666666\n",
      "41231\n",
      "0.11111111111111072\n",
      "41231\n",
      "1.8888888888888893\n",
      "41231\n",
      "3.666666666666667\n",
      "41231\n",
      "5.444444444444445\n",
      "41231\n",
      "7.222222222222222\n",
      "41231\n",
      "9.0\n",
      "41231\n"
     ]
    },
    {
     "name": "stderr",
     "output_type": "stream",
     "text": [
      "\n",
      "  0%|          | 0/10 [00:00<?, ?it/s]\u001B[A"
     ]
    },
    {
     "name": "stdout",
     "output_type": "stream",
     "text": [
      "9.0\n",
      "41231\n"
     ]
    },
    {
     "name": "stderr",
     "output_type": "stream",
     "text": [
      "\n",
      "\n",
      "  0%|          | 0/20 [00:00<?, ?it/s]\u001B[A\u001B[A"
     ]
    },
    {
     "name": "stdout",
     "output_type": "stream",
     "text": [
      "PCA: 9.0\n",
      "powermeter complete\n",
      "952.3834838867188\n",
      "spectrometer complete\n",
      "n_frames 4\n",
      "Max pixel:  147.5\n",
      "952.3834838867188\n",
      "camera complete\n"
     ]
    },
    {
     "name": "stderr",
     "output_type": "stream",
     "text": [
      "\n",
      "\n",
      "  5%|▌         | 1/20 [00:11<03:41, 11.68s/it]\u001B[A\u001B[A"
     ]
    },
    {
     "name": "stdout",
     "output_type": "stream",
     "text": [
      "PCA: 9.0\n",
      "powermeter complete\n",
      "952.3834838867188\n",
      "spectrometer complete\n",
      "n_frames 50\n"
     ]
    },
    {
     "name": "stderr",
     "output_type": "stream",
     "text": [
      "\n",
      "\n",
      " 10%|█         | 2/20 [00:23<03:26, 11.47s/it]\u001B[A\u001B[A"
     ]
    },
    {
     "name": "stdout",
     "output_type": "stream",
     "text": [
      "Max pixel:  6.08\n",
      "952.3834838867188\n",
      "camera complete\n",
      "PCA: 9.0\n",
      "powermeter complete\n",
      "952.3053588867188\n",
      "spectrometer complete\n",
      "n_frames 50\n"
     ]
    },
    {
     "name": "stderr",
     "output_type": "stream",
     "text": [
      "\n",
      "\n",
      " 15%|█▌        | 3/20 [00:33<03:09, 11.12s/it]\u001B[A\u001B[A"
     ]
    },
    {
     "name": "stdout",
     "output_type": "stream",
     "text": [
      "Max pixel:  85.9\n",
      "952.3053588867188\n",
      "camera complete\n",
      "PCA: 9.0\n",
      "powermeter complete\n",
      "952.2271728515625\n",
      "spectrometer complete\n",
      "n_frames 50\n"
     ]
    },
    {
     "name": "stderr",
     "output_type": "stream",
     "text": [
      "\n",
      "\n",
      " 20%|██        | 4/20 [00:53<03:49, 14.37s/it]\u001B[A\u001B[A"
     ]
    },
    {
     "name": "stdout",
     "output_type": "stream",
     "text": [
      "Max pixel:  123.66\n",
      "952.2271728515625\n",
      "camera complete\n",
      "PCA: 9.0\n",
      "powermeter complete\n",
      "952.3834838867188\n",
      "spectrometer complete\n",
      "n_frames 50\n"
     ]
    },
    {
     "name": "stderr",
     "output_type": "stream",
     "text": [
      "\n",
      "\n",
      " 25%|██▌       | 5/20 [01:03<03:14, 12.95s/it]\u001B[A\u001B[A"
     ]
    },
    {
     "name": "stdout",
     "output_type": "stream",
     "text": [
      "Max pixel:  77.38\n",
      "952.3834838867188\n",
      "camera complete\n",
      "PCA: 9.0\n",
      "powermeter complete\n",
      "952.0706176757812\n",
      "spectrometer complete\n",
      "n_frames 50\n"
     ]
    },
    {
     "name": "stderr",
     "output_type": "stream",
     "text": [
      "\n",
      "\n",
      " 30%|███       | 6/20 [01:13<02:48, 12.06s/it]\u001B[A\u001B[A"
     ]
    },
    {
     "name": "stdout",
     "output_type": "stream",
     "text": [
      "Max pixel:  107.38\n",
      "952.0706176757812\n",
      "camera complete\n",
      "PCA: 9.0\n",
      "powermeter complete\n",
      "952.0706176757812\n",
      "spectrometer complete\n",
      "n_frames 50\n"
     ]
    },
    {
     "name": "stderr",
     "output_type": "stream",
     "text": [
      "\n",
      "\n",
      " 35%|███▌      | 7/20 [01:24<02:30, 11.54s/it]\u001B[A\u001B[A"
     ]
    },
    {
     "name": "stdout",
     "output_type": "stream",
     "text": [
      "Max pixel:  206.88\n",
      "952.0706176757812\n",
      "camera complete\n",
      "PCA: 9.0\n",
      "powermeter complete\n",
      "951.8357543945312\n",
      "spectrometer complete\n",
      "n_frames 50\n"
     ]
    },
    {
     "name": "stderr",
     "output_type": "stream",
     "text": [
      "\n",
      "\n",
      " 40%|████      | 8/20 [01:34<02:14, 11.19s/it]\u001B[A\u001B[A"
     ]
    },
    {
     "name": "stdout",
     "output_type": "stream",
     "text": [
      "Max pixel:  228.58\n",
      "951.8357543945312\n",
      "camera complete\n",
      "PCA: 9.0\n",
      "powermeter complete\n",
      "952.1488647460938\n",
      "spectrometer complete\n",
      "n_frames 50\n"
     ]
    },
    {
     "name": "stderr",
     "output_type": "stream",
     "text": [
      "\n",
      "\n",
      " 45%|████▌     | 9/20 [01:45<02:00, 10.96s/it]\u001B[A\u001B[A"
     ]
    },
    {
     "name": "stdout",
     "output_type": "stream",
     "text": [
      "Max pixel:  74.04\n",
      "952.1488647460938\n",
      "camera complete\n",
      "PCA: 9.0\n",
      "powermeter complete\n",
      "952.1488647460938\n",
      "spectrometer complete\n",
      "n_frames 50\n"
     ]
    },
    {
     "name": "stderr",
     "output_type": "stream",
     "text": [
      "\n",
      "\n",
      " 50%|█████     | 10/20 [01:55<01:47, 10.78s/it]\u001B[A\u001B[A"
     ]
    },
    {
     "name": "stdout",
     "output_type": "stream",
     "text": [
      "Max pixel:  71.84\n",
      "952.1488647460938\n",
      "camera complete\n",
      "PCA: 9.0\n",
      "powermeter complete\n",
      "951.9141235351562\n",
      "spectrometer complete\n",
      "n_frames 50\n"
     ]
    },
    {
     "name": "stderr",
     "output_type": "stream",
     "text": [
      "\n",
      "\n",
      " 55%|█████▌    | 11/20 [02:06<01:37, 10.79s/it]\u001B[A\u001B[A"
     ]
    },
    {
     "name": "stdout",
     "output_type": "stream",
     "text": [
      "Max pixel:  79.76\n",
      "951.9141235351562\n",
      "camera complete\n",
      "PCA: 9.0\n",
      "powermeter complete\n",
      "951.8357543945312\n",
      "spectrometer complete\n",
      "n_frames 50\n"
     ]
    },
    {
     "name": "stderr",
     "output_type": "stream",
     "text": [
      "\n",
      "\n",
      " 60%|██████    | 12/20 [02:16<01:25, 10.73s/it]\u001B[A\u001B[A"
     ]
    },
    {
     "name": "stdout",
     "output_type": "stream",
     "text": [
      "Max pixel:  128.56\n",
      "951.8357543945312\n",
      "camera complete\n",
      "PCA: 9.0\n",
      "powermeter complete\n",
      "951.6791381835938\n",
      "spectrometer complete\n",
      "n_frames 50\n"
     ]
    },
    {
     "name": "stderr",
     "output_type": "stream",
     "text": [
      "\n",
      "\n",
      " 65%|██████▌   | 13/20 [02:27<01:14, 10.61s/it]\u001B[A\u001B[A"
     ]
    },
    {
     "name": "stdout",
     "output_type": "stream",
     "text": [
      "Max pixel:  120.34\n",
      "951.6791381835938\n",
      "camera complete\n",
      "PCA: 9.0\n",
      "powermeter complete\n",
      "951.6791381835938\n",
      "spectrometer complete\n",
      "n_frames 50\n"
     ]
    },
    {
     "name": "stderr",
     "output_type": "stream",
     "text": [
      "\n",
      "\n",
      " 70%|███████   | 14/20 [02:38<01:03, 10.65s/it]\u001B[A\u001B[A"
     ]
    },
    {
     "name": "stdout",
     "output_type": "stream",
     "text": [
      "Max pixel:  140.84\n",
      "951.6791381835938\n",
      "camera complete\n",
      "PCA: 9.0\n",
      "powermeter complete\n",
      "951.5222778320312\n",
      "spectrometer complete\n",
      "n_frames 50\n"
     ]
    },
    {
     "name": "stderr",
     "output_type": "stream",
     "text": [
      "\n",
      "\n",
      " 75%|███████▌  | 15/20 [02:48<00:53, 10.67s/it]\u001B[A\u001B[A"
     ]
    },
    {
     "name": "stdout",
     "output_type": "stream",
     "text": [
      "Max pixel:  147.04\n",
      "951.5222778320312\n",
      "camera complete\n",
      "PCA: 9.0\n",
      "powermeter complete\n",
      "951.286865234375\n",
      "spectrometer complete\n",
      "n_frames 50\n"
     ]
    },
    {
     "name": "stderr",
     "output_type": "stream",
     "text": [
      "\n",
      "\n",
      " 80%|████████  | 16/20 [02:59<00:42, 10.72s/it]\u001B[A\u001B[A"
     ]
    },
    {
     "name": "stdout",
     "output_type": "stream",
     "text": [
      "Max pixel:  94.68\n",
      "951.286865234375\n",
      "camera complete\n",
      "PCA: 9.0\n",
      "powermeter complete\n",
      "951.286865234375\n",
      "spectrometer complete\n",
      "n_frames 50\n"
     ]
    },
    {
     "name": "stderr",
     "output_type": "stream",
     "text": [
      "\n",
      "\n",
      " 85%|████████▌ | 17/20 [03:10<00:32, 10.71s/it]\u001B[A\u001B[A"
     ]
    },
    {
     "name": "stdout",
     "output_type": "stream",
     "text": [
      "Max pixel:  43.92\n",
      "951.286865234375\n",
      "camera complete\n",
      "PCA: 9.0\n",
      "powermeter complete\n",
      "951.286865234375\n",
      "spectrometer complete\n",
      "n_frames 50\n"
     ]
    },
    {
     "name": "stderr",
     "output_type": "stream",
     "text": [
      "\n",
      "\n",
      " 90%|█████████ | 18/20 [03:20<00:21, 10.70s/it]\u001B[A\u001B[A"
     ]
    },
    {
     "name": "stdout",
     "output_type": "stream",
     "text": [
      "Max pixel:  26.48\n",
      "951.286865234375\n",
      "camera complete\n",
      "PCA: 9.0\n",
      "powermeter complete\n",
      "951.2083740234375\n",
      "spectrometer complete\n",
      "n_frames 50\n"
     ]
    },
    {
     "name": "stderr",
     "output_type": "stream",
     "text": [
      "\n",
      "\n",
      " 95%|█████████▌| 19/20 [03:31<00:10, 10.71s/it]\u001B[A\u001B[A"
     ]
    },
    {
     "name": "stdout",
     "output_type": "stream",
     "text": [
      "Max pixel:  60.02\n",
      "951.2083740234375\n",
      "camera complete\n",
      "PCA: 9.0\n",
      "powermeter complete\n",
      "951.0513305664062\n",
      "spectrometer complete\n",
      "n_frames 50\n"
     ]
    },
    {
     "name": "stderr",
     "output_type": "stream",
     "text": [
      "\n",
      "\n",
      "100%|██████████| 20/20 [03:42<00:00, 11.12s/it]\u001B[A\u001B[A\n",
      "\n",
      " 10%|█         | 1/10 [03:42<33:23, 222.60s/it]\u001B[A"
     ]
    },
    {
     "name": "stdout",
     "output_type": "stream",
     "text": [
      "Max pixel:  111.2\n",
      "951.0513305664062\n",
      "camera complete\n",
      "20240819_173949 20240819_174320\n",
      "7.222222222222222\n",
      "41231\n"
     ]
    },
    {
     "name": "stderr",
     "output_type": "stream",
     "text": [
      "\n",
      "\n",
      "  0%|          | 0/20 [00:00<?, ?it/s]\u001B[A\u001B[A"
     ]
    },
    {
     "name": "stdout",
     "output_type": "stream",
     "text": [
      "PCA: 7.222222222222222\n",
      "powermeter complete\n",
      "952.8519897460938\n",
      "spectrometer complete\n",
      "n_frames 4\n",
      "Max pixel:  148.5\n",
      "952.8519897460938\n",
      "camera complete\n"
     ]
    },
    {
     "name": "stderr",
     "output_type": "stream",
     "text": [
      "\n",
      "\n",
      "  5%|▌         | 1/20 [00:11<03:41, 11.64s/it]\u001B[A\u001B[A"
     ]
    },
    {
     "name": "stdout",
     "output_type": "stream",
     "text": [
      "PCA: 7.222222222222222\n",
      "powermeter complete\n",
      "952.8519897460938\n",
      "spectrometer complete\n",
      "n_frames 50\n"
     ]
    },
    {
     "name": "stderr",
     "output_type": "stream",
     "text": [
      "\n",
      "\n",
      " 10%|█         | 2/20 [00:22<03:26, 11.46s/it]\u001B[A\u001B[A"
     ]
    },
    {
     "name": "stdout",
     "output_type": "stream",
     "text": [
      "Max pixel:  6.08\n",
      "952.8519897460938\n",
      "camera complete\n",
      "PCA: 7.222222222222222\n",
      "powermeter complete\n",
      "952.5397338867188\n",
      "spectrometer complete\n",
      "n_frames 50\n"
     ]
    },
    {
     "name": "stderr",
     "output_type": "stream",
     "text": [
      "\n",
      "\n",
      " 15%|█▌        | 3/20 [00:33<03:09, 11.15s/it]\u001B[A\u001B[A"
     ]
    },
    {
     "name": "stdout",
     "output_type": "stream",
     "text": [
      "Max pixel:  32.04\n",
      "952.5397338867188\n",
      "camera complete\n",
      "PCA: 7.222222222222222\n",
      "powermeter complete\n"
     ]
    }
   ],
   "source": [
    "# %qtconsole\n",
    "\n",
    "time_stamps = []\n",
    "logging.basicConfig(filename = fr'Logs\\power_lengthV5_{make_timestamp()}.log', filemode='w', level=logging.INFO, force=True)\n",
    "print('hi')\n",
    "with comp.Translation_Stage(26000913, is_rack_system = False, scale = 1) as stage, comp.FLIR_Camera(measure=True, algorithm='rising') as camera:\n",
    "    components.update({\"camera\": camera})\n",
    "    pbar = tqdm(stage_list)\n",
    "    for s in pbar:\n",
    "        stage.set(s)\n",
    "        pbar.set_description(f'Test Displacement {s}')\n",
    "        time.sleep(1)\n",
    "    \n",
    "    for s in tqdm(stage_list):\n",
    "        stage.set(s)\n",
    "        time.sleep(1)\n",
    "        comp.params.update({\"stage_pos\": s})\n",
    "        \n",
    "        #Slowly return to initial wavelength\n",
    "        for l in np.flip(length_list):\n",
    "            comp.set_lock(l)\n",
    "            time.sleep(5)\n",
    "        \n",
    "        for l in tqdm(length_list, leave=True):\n",
    "            comp.set_lock(l) #save pca value\n",
    "            ts = power_scan(power_list, components, l)\n",
    "            time_stamps.append(ts)\n",
    "    stage.set(0)\n",
    "    components['laser'].set(0)\n",
    "print(\"'\"+str(time_stamps[0][0])+\"'\"+\",\"+\"'\"+str(time_stamps[-1][-1])+\"'\")\n",
    "winsound.Beep(1000, 2000)\n",
    "\n"
   ]
  }
 ],
 "metadata": {
  "kernelspec": {
   "display_name": "Python 3",
   "language": "python",
   "name": "python3"
  },
  "language_info": {
   "codemirror_mode": {
    "name": "ipython",
    "version": 2
   },
   "file_extension": ".py",
   "mimetype": "text/x-python",
   "name": "python",
   "nbconvert_exporter": "python",
   "pygments_lexer": "ipython2",
   "version": "2.7.6"
  }
 },
 "nbformat": 4,
 "nbformat_minor": 5
}
