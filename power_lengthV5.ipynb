{
 "cells": [
  {
   "metadata": {},
   "cell_type": "markdown",
   "source": [
    "# Power Length V5\n",
    "\n",
    "This takes a phase diagram - varies cavity length and power, and takes spectral readings, images and output power at each point. \n",
    "\n",
    "### Imports"
   ],
   "id": "8a77807f92f26ee"
  },
  {
   "metadata": {
    "ExecuteTime": {
     "end_time": "2024-08-19T16:08:24.470977100Z",
     "start_time": "2024-08-19T16:08:23.450635900Z"
    }
   },
   "cell_type": "code",
   "source": [
    "%load_ext autoreload\n",
    "%autoreload 2\n",
    "import time\n",
    "import winsound\n",
    "import numpy as np\n",
    "from tqdm import tqdm\n",
    "import Components as comp\n",
    "from Measure import power_scan"
   ],
   "id": "fbc121e30a2defb3",
   "outputs": [],
   "execution_count": 1
  },
  {
   "metadata": {},
   "cell_type": "markdown",
   "source": [
    "### Initialise Equipment\n",
    "If equipment can take measurements, can set measure = True or False when initialising them. Note some components are interdependent."
   ],
   "id": "7ffc4e537684ac8e"
  },
  {
   "metadata": {
    "ExecuteTime": {
     "end_time": "2024-08-19T16:08:26.787449400Z",
     "start_time": "2024-08-19T16:08:24.471954900Z"
    }
   },
   "cell_type": "code",
   "outputs": [
    {
     "name": "stdout",
     "output_type": "stream",
     "text": [
      "Found laser\n",
      "Found power meter\n",
      "Found spectrometer\n"
     ]
    }
   ],
   "execution_count": 2,
   "source": [
    "components = dict()\n",
    "\n",
    "components.update({\"laser\": comp.Toptica_Laser(com_port='COM12')})\n",
    "components.update({\"powermeter\": comp.Thor_PowerMeter(power_meter_usb_name='USB0::0x1313::0x8078::P0034379::INSTR', num_power_readings=100, bs_factor=0.5, wavelength=950)})\n",
    "components.update({\"spectrometer\": comp.Spectrometer(spec_nd=1 / 30.5)})\n",
    "# components.update({\"camera\": comp.FLIR_Camera(measure=True, )})\n",
    "components.update({\"wheel\": comp.FilterWheel(com_port='COM9')})"
   ],
   "id": "19e4d490f5a99599"
  },
  {
   "metadata": {},
   "cell_type": "markdown",
   "source": [],
   "id": "db130fae7f60be"
  },
  {
   "metadata": {},
   "cell_type": "markdown",
   "source": [
    "### Choose loop parameters"
   ],
   "id": "4c0ca04888e34c6c"
  },
  {
   "metadata": {
    "ExecuteTime": {
     "end_time": "2024-08-19T16:08:26.865892700Z",
     "start_time": "2024-08-19T16:08:26.789381Z"
    }
   },
   "cell_type": "code",
   "outputs": [
    {
     "data": {
      "text/plain": "numpy.float64"
     },
     "execution_count": 3,
     "metadata": {},
     "output_type": "execute_result"
    }
   ],
   "execution_count": 3,
   "source": [
    "\n",
    "#Define PCA range\n",
    "length_list = np.linspace(9, -7, 10)\n",
    "stage_list = np.linspace(0, 3e6, 10, dtype=int)\n",
    "stage_list = stage_list + 0.0\n",
    "#Define power range\n",
    "power_list = np.linspace(15e-3, 245e-3, 20)\n",
    "\n",
    "type(stage_list[0])"
   ],
   "id": "7a2eaa998d0fe77"
  },
  {
   "metadata": {},
   "cell_type": "markdown",
   "source": [
    "### Measurement Loop\n",
    "Note Kinesis stage needs to be closed each time it is used, or won't be able to open again - so only use the stage using 'with' statements. "
   ],
   "id": "b45ac3a20569fff5"
  },
  {
   "metadata": {
    "is_executing": true,
    "ExecuteTime": {
     "start_time": "2024-08-19T16:08:26.870892Z"
    }
   },
   "cell_type": "code",
   "outputs": [
    {
     "name": "stdout",
     "output_type": "stream",
     "text": [
      "hi\n",
      "Stage Found, postion: 0.0\n",
      "Stage is homed and operational\n",
      "Here are the camera names:\n",
      "{'blackfly_minisetup': '19128822', 'blackfly_semiconductor_cavity': '17458446', 'blackfly_semiconductor_cavity_lock': '19441065', 'bonus_chameleon': '14110699', 'nathans_dungeon_lock_NA0': '17458446', 'nathans_dungeon_cavity_NA1': '19128822'}\n",
      "\n",
      "\n",
      "-> Detected 2 USB3 cameras\n",
      "Found Cameras\n"
     ]
    },
    {
     "name": "stderr",
     "output_type": "stream",
     "text": [
      "  0%|          | 0/10 [00:00<?, ?it/s]"
     ]
    },
    {
     "name": "stdout",
     "output_type": "stream",
     "text": [
      "-7.0\n",
      "41231\n",
      "-5.222222222222221\n",
      "41231\n",
      "-3.444444444444443\n",
      "41231\n",
      "-1.666666666666666\n",
      "41231\n",
      "0.11111111111111072\n",
      "41231\n",
      "1.8888888888888893\n",
      "41231\n",
      "3.666666666666667\n",
      "41231\n",
      "5.444444444444445\n",
      "41231\n",
      "7.222222222222222\n",
      "41231\n",
      "9.0\n",
      "41231\n"
     ]
    },
    {
     "name": "stderr",
     "output_type": "stream",
     "text": [
      "\n",
      "  0%|          | 0/10 [00:00<?, ?it/s]\u001B[A"
     ]
    },
    {
     "name": "stdout",
     "output_type": "stream",
     "text": [
      "9.0\n",
      "41231\n"
     ]
    },
    {
     "name": "stderr",
     "output_type": "stream",
     "text": [
      "\n",
      "\n",
      "  0%|          | 0/20 [00:00<?, ?it/s]\u001B[A\u001B[A"
     ]
    },
    {
     "name": "stdout",
     "output_type": "stream",
     "text": [
      "PCA: 9.0\n",
      "powermeter complete\n",
      "953.4752197265625\n",
      "spectrometer complete\n",
      "n_frames 4\n",
      "953.4752197265625\n",
      "camera complete\n"
     ]
    },
    {
     "name": "stderr",
     "output_type": "stream",
     "text": [
      "\n",
      "\n",
      "  5%|▌         | 1/20 [00:11<03:39, 11.53s/it]\u001B[A\u001B[A"
     ]
    },
    {
     "name": "stdout",
     "output_type": "stream",
     "text": [
      "PCA: 9.0\n",
      "powermeter complete\n",
      "953.4752197265625\n",
      "spectrometer complete\n",
      "n_frames 50\n"
     ]
    },
    {
     "name": "stderr",
     "output_type": "stream",
     "text": [
      "\n",
      "\n",
      " 10%|█         | 2/20 [00:22<03:26, 11.49s/it]\u001B[A\u001B[A"
     ]
    },
    {
     "name": "stdout",
     "output_type": "stream",
     "text": [
      "953.4752197265625\n",
      "camera complete\n",
      "PCA: 9.0\n",
      "powermeter complete\n",
      "953.0079345703125\n",
      "spectrometer complete\n",
      "n_frames 8\n",
      "953.0079345703125\n",
      "camera complete\n"
     ]
    },
    {
     "name": "stderr",
     "output_type": "stream",
     "text": [
      "\n",
      "\n",
      " 15%|█▌        | 3/20 [00:34<03:15, 11.52s/it]\u001B[A\u001B[A"
     ]
    },
    {
     "name": "stdout",
     "output_type": "stream",
     "text": [
      "PCA: 9.0\n",
      "powermeter complete\n",
      "953.4752197265625\n",
      "spectrometer complete\n",
      "n_frames 50\n",
      "n_frames 50\n"
     ]
    },
    {
     "name": "stderr",
     "output_type": "stream",
     "text": [
      "\n",
      "\n",
      " 20%|██        | 4/20 [00:51<03:38, 13.66s/it]\u001B[A\u001B[A"
     ]
    },
    {
     "name": "stdout",
     "output_type": "stream",
     "text": [
      "953.4752197265625\n",
      "camera complete\n",
      "PCA: 9.0\n",
      "powermeter complete\n",
      "953.8639526367188\n",
      "spectrometer complete\n",
      "n_frames 50\n"
     ]
    },
    {
     "name": "stderr",
     "output_type": "stream",
     "text": [
      "\n",
      "\n",
      " 25%|██▌       | 5/20 [01:01<03:07, 12.51s/it]\u001B[A\u001B[A"
     ]
    },
    {
     "name": "stdout",
     "output_type": "stream",
     "text": [
      "953.8639526367188\n",
      "camera complete\n",
      "PCA: 9.0\n",
      "powermeter complete\n",
      "952.4616088867188\n",
      "spectrometer complete\n",
      "n_frames 50\n"
     ]
    },
    {
     "name": "stderr",
     "output_type": "stream",
     "text": [
      "\n",
      "\n",
      " 30%|███       | 6/20 [01:12<02:44, 11.78s/it]\u001B[A\u001B[A"
     ]
    },
    {
     "name": "stdout",
     "output_type": "stream",
     "text": [
      "952.4616088867188\n",
      "camera complete\n",
      "PCA: 9.0\n",
      "powermeter complete\n",
      "953.552978515625\n",
      "spectrometer complete\n",
      "n_frames 50\n"
     ]
    },
    {
     "name": "stderr",
     "output_type": "stream",
     "text": [
      "\n",
      "\n",
      " 35%|███▌      | 7/20 [01:22<02:27, 11.35s/it]\u001B[A\u001B[A"
     ]
    },
    {
     "name": "stdout",
     "output_type": "stream",
     "text": [
      "953.552978515625\n",
      "camera complete\n",
      "PCA: 9.0\n",
      "powermeter complete\n",
      "953.3973999023438\n",
      "spectrometer complete\n",
      "n_frames 50\n"
     ]
    },
    {
     "name": "stderr",
     "output_type": "stream",
     "text": [
      "\n",
      "\n",
      " 40%|████      | 8/20 [01:33<02:12, 11.01s/it]\u001B[A\u001B[A"
     ]
    },
    {
     "name": "stdout",
     "output_type": "stream",
     "text": [
      "953.3973999023438\n",
      "camera complete\n",
      "PCA: 9.0\n",
      "powermeter complete\n",
      "953.319580078125\n",
      "spectrometer complete\n",
      "n_frames 50\n"
     ]
    },
    {
     "name": "stderr",
     "output_type": "stream",
     "text": [
      "\n",
      "\n",
      " 45%|████▌     | 9/20 [01:43<01:58, 10.80s/it]\u001B[A\u001B[A"
     ]
    },
    {
     "name": "stdout",
     "output_type": "stream",
     "text": [
      "953.319580078125\n",
      "camera complete\n",
      "PCA: 9.0\n",
      "powermeter complete\n",
      "953.319580078125\n",
      "spectrometer complete\n",
      "n_frames 50\n"
     ]
    },
    {
     "name": "stderr",
     "output_type": "stream",
     "text": [
      "\n",
      "\n",
      " 50%|█████     | 10/20 [01:53<01:46, 10.68s/it]\u001B[A\u001B[A"
     ]
    },
    {
     "name": "stdout",
     "output_type": "stream",
     "text": [
      "953.319580078125\n",
      "camera complete\n",
      "PCA: 9.0\n",
      "powermeter complete\n",
      "953.4752197265625\n",
      "spectrometer complete\n",
      "n_frames 50\n"
     ]
    },
    {
     "name": "stderr",
     "output_type": "stream",
     "text": [
      "\n",
      "\n",
      " 55%|█████▌    | 11/20 [02:04<01:35, 10.61s/it]\u001B[A\u001B[A"
     ]
    },
    {
     "name": "stdout",
     "output_type": "stream",
     "text": [
      "953.4752197265625\n",
      "camera complete\n",
      "PCA: 9.0\n",
      "powermeter complete\n",
      "953.3973999023438\n",
      "spectrometer complete\n",
      "n_frames 50\n"
     ]
    },
    {
     "name": "stderr",
     "output_type": "stream",
     "text": [
      "\n",
      "\n",
      " 60%|██████    | 12/20 [02:14<01:24, 10.59s/it]\u001B[A\u001B[A"
     ]
    },
    {
     "name": "stdout",
     "output_type": "stream",
     "text": [
      "953.3973999023438\n",
      "camera complete\n",
      "PCA: 9.0\n",
      "powermeter complete\n",
      "953.4752197265625\n",
      "spectrometer complete\n",
      "n_frames 50\n"
     ]
    },
    {
     "name": "stderr",
     "output_type": "stream",
     "text": [
      "\n",
      "\n",
      " 65%|██████▌   | 13/20 [02:25<01:13, 10.47s/it]\u001B[A\u001B[A"
     ]
    },
    {
     "name": "stdout",
     "output_type": "stream",
     "text": [
      "953.4752197265625\n",
      "camera complete\n",
      "PCA: 9.0\n",
      "powermeter complete\n",
      "951.44384765625\n",
      "spectrometer complete\n",
      "n_frames 50\n"
     ]
    },
    {
     "name": "stderr",
     "output_type": "stream",
     "text": [
      "\n",
      "\n",
      " 70%|███████   | 14/20 [02:35<01:02, 10.40s/it]\u001B[A\u001B[A"
     ]
    },
    {
     "name": "stdout",
     "output_type": "stream",
     "text": [
      "951.44384765625\n",
      "camera complete\n",
      "PCA: 9.0\n",
      "powermeter complete\n",
      "953.2416381835938\n",
      "spectrometer complete\n",
      "n_frames 50\n"
     ]
    },
    {
     "name": "stderr",
     "output_type": "stream",
     "text": [
      "\n",
      "\n",
      " 75%|███████▌  | 15/20 [02:45<00:52, 10.50s/it]\u001B[A\u001B[A"
     ]
    },
    {
     "name": "stdout",
     "output_type": "stream",
     "text": [
      "953.2416381835938\n",
      "camera complete\n",
      "PCA: 9.0\n",
      "powermeter complete\n",
      "powermeter complete\n",
      "953.0079345703125\n",
      "spectrometer complete\n",
      "n_frames 50\n"
     ]
    },
    {
     "name": "stderr",
     "output_type": "stream",
     "text": [
      "\n",
      "\n",
      " 80%|████████  | 16/20 [02:56<00:42, 10.59s/it]\u001B[A\u001B[A"
     ]
    },
    {
     "name": "stdout",
     "output_type": "stream",
     "text": [
      "953.0079345703125\n",
      "camera complete\n",
      "PCA: 9.0\n",
      "953.1637573242188\n",
      "spectrometer complete\n",
      "n_frames 50\n"
     ]
    },
    {
     "name": "stderr",
     "output_type": "stream",
     "text": [
      "\n",
      "\n",
      " 85%|████████▌ | 17/20 [03:07<00:31, 10.60s/it]\u001B[A\u001B[A"
     ]
    },
    {
     "name": "stdout",
     "output_type": "stream",
     "text": [
      "953.1637573242188\n",
      "camera complete\n",
      "PCA: 9.0\n",
      "powermeter complete\n",
      "953.0079345703125\n",
      "spectrometer complete\n",
      "n_frames 50\n"
     ]
    },
    {
     "name": "stderr",
     "output_type": "stream",
     "text": [
      "\n",
      "\n",
      " 90%|█████████ | 18/20 [03:17<00:21, 10.59s/it]\u001B[A\u001B[A"
     ]
    },
    {
     "name": "stdout",
     "output_type": "stream",
     "text": [
      "953.0079345703125\n",
      "camera complete\n",
      "PCA: 9.0\n"
     ]
    }
   ],
   "execution_count": null,
   "source": [
    "%qtconsole\n",
    "\n",
    "time_stamps = []\n",
    "\n",
    "print('hi')\n",
    "with comp.Translation_Stage(26000913, is_rack_system = False) as stage, comp.FLIR_Camera(measure=True, algorithm='rising') as camera:\n",
    "    components.update({\"camera\": camera})\n",
    "    for s in tqdm(stage_list):\n",
    "        stage.set(s)\n",
    "        time.sleep(1)\n",
    "        comp.params.update({\"stage_pos\": s})\n",
    "        \n",
    "        #Slowly return to initial wavelength\n",
    "        for l in np.flip(length_list):\n",
    "            comp.set_lock(l)\n",
    "            time.sleep(5)\n",
    "        \n",
    "        for l in tqdm(length_list, leave=True):\n",
    "            comp.set_lock(l) #save pca value\n",
    "            ts = power_scan(power_list, components, l)\n",
    "            time_stamps.append(ts)\n",
    "    stage.set(0)\n",
    "print(\"'\"+str(time_stamps[0][0])+\"'\"+\",\"+\"'\"+str(time_stamps[-1][-1])+\"'\")\n",
    "winsound.Beep(1000, 2000)\n",
    "\n"
   ],
   "id": "b78e33f8c3f1cc64"
  }
 ],
 "metadata": {
  "kernelspec": {
   "display_name": "Python 3",
   "language": "python",
   "name": "python3"
  },
  "language_info": {
   "codemirror_mode": {
    "name": "ipython",
    "version": 2
   },
   "file_extension": ".py",
   "mimetype": "text/x-python",
   "name": "python",
   "nbconvert_exporter": "python",
   "pygments_lexer": "ipython2",
   "version": "2.7.6"
  }
 },
 "nbformat": 4,
 "nbformat_minor": 5
}
