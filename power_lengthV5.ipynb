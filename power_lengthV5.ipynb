{
 "cells": [
  {
   "metadata": {},
   "cell_type": "markdown",
   "source": [
    "# Power Length V5\n",
    "\n",
    "This takes a phase diagram - varies cavity length and power, and takes spectral readings, images and output power at each point. \n",
    "\n",
    "### Imports"
   ],
   "id": "8a77807f92f26ee"
  },
  {
   "metadata": {
    "ExecuteTime": {
     "end_time": "2024-08-20T15:13:21.632140400Z",
     "start_time": "2024-08-20T15:13:20.439577700Z"
    }
   },
   "cell_type": "code",
   "source": [
    "%load_ext autoreload\n",
    "%autoreload 2\n",
    "import time\n",
    "import winsound\n",
    "import numpy as np\n",
    "from tqdm import tqdm\n",
    "import Components as comp\n",
    "from Measure import power_scan"
   ],
   "id": "fbc121e30a2defb3",
   "outputs": [],
   "execution_count": 2
  },
  {
   "metadata": {},
   "cell_type": "markdown",
   "source": [
    "### Initialise Equipment\n",
    "If equipment can take measurements, can set measure = True or False when initialising them. Note some components are interdependent."
   ],
   "id": "7ffc4e537684ac8e"
  },
  {
   "metadata": {
    "ExecuteTime": {
     "end_time": "2024-08-20T15:13:23.968301100Z",
     "start_time": "2024-08-20T15:13:21.632140400Z"
    }
   },
   "cell_type": "code",
   "outputs": [
    {
     "name": "stdout",
     "output_type": "stream",
     "text": [
      "Found laser\n",
      "Found power meter\n",
      "Found spectrometer\n"
     ]
    }
   ],
   "execution_count": 3,
   "source": [
    "components = dict()\n",
    "\n",
    "\n",
    "\n",
    "components.update({\"laser\": comp.Toptica_Laser(com_port='COM12')})\n",
    "components.update({\"powermeter\": comp.Thor_PowerMeter(power_meter_usb_name='USB0::0x1313::0x8078::P0034379::INSTR', num_power_readings=100, bs_factor=0.5, wavelength=950)})\n",
    "components.update({\"spectrometer\": comp.Spectrometer(spec_nd=1 / 30.5)})\n",
    "# components.update({\"camera\": comp.FLIR_Camera(measure=True, )})\n",
    "components.update({\"wheel\": comp.FilterWheel(com_port='COM9')})"
   ],
   "id": "19e4d490f5a99599"
  },
  {
   "metadata": {},
   "cell_type": "markdown",
   "source": [],
   "id": "db130fae7f60be"
  },
  {
   "metadata": {},
   "cell_type": "markdown",
   "source": [
    "### Choose loop parameters"
   ],
   "id": "4c0ca04888e34c6c"
  },
  {
   "metadata": {
    "ExecuteTime": {
     "end_time": "2024-08-20T15:13:24.031303400Z",
     "start_time": "2024-08-20T15:13:23.972300200Z"
    }
   },
   "cell_type": "code",
   "outputs": [
    {
     "data": {
      "text/plain": "numpy.float64"
     },
     "execution_count": 4,
     "metadata": {},
     "output_type": "execute_result"
    }
   ],
   "execution_count": 4,
   "source": [
    "\n",
    "#Define PCA range\n",
    "length_list = np.linspace(9, -7, 10)\n",
    "stage_list = np.linspace(0, 3e6, 10, dtype=int)\n",
    "stage_list = stage_list + 0.0\n",
    "#Define power range\n",
    "power_list = np.linspace(15e-3, 240e-3, 20)\n",
    "\n",
    "type(stage_list[0])"
   ],
   "id": "7a2eaa998d0fe77"
  },
  {
   "metadata": {},
   "cell_type": "markdown",
   "source": [
    "### Measurement Loop\n",
    "Note Kinesis stage needs to be closed each time it is used, or won't be able to open again - so only use the stage using 'with' statements. "
   ],
   "id": "b45ac3a20569fff5"
  },
  {
   "metadata": {
    "ExecuteTime": {
     "end_time": "2024-08-20T15:36:41.560395600Z",
     "start_time": "2024-08-20T15:13:24.034301400Z"
    }
   },
   "cell_type": "code",
   "outputs": [
    {
     "name": "stdout",
     "output_type": "stream",
     "text": [
      "hi\n",
      "Stage Found, postion: 0\n",
      "Stage is homed and operational\n",
      "Here are the camera names:\n",
      "{'blackfly_minisetup': '19128822', 'blackfly_semiconductor_cavity': '17458446', 'blackfly_semiconductor_cavity_lock': '19441065', 'bonus_chameleon': '14110699', 'nathans_dungeon_lock_NA0': '17458446', 'nathans_dungeon_cavity_NA1': '19128822'}\n",
      "\n",
      "\n",
      "-> Detected 2 USB3 cameras\n",
      "Found Cameras\n"
     ]
    },
    {
     "name": "stderr",
     "output_type": "stream",
     "text": [
      "Test position 3000000.0: 100%|██████████| 10/10 [00:32<00:00,  3.27s/it]\n",
      "  0%|          | 0/10 [00:00<?, ?it/s]"
     ]
    },
    {
     "name": "stdout",
     "output_type": "stream",
     "text": [
      "-7.0\n",
      "41231\n",
      "-5.222222222222221\n",
      "41231\n",
      "-3.444444444444443\n",
      "41231\n",
      "-1.666666666666666\n",
      "41231\n",
      "0.11111111111111072\n",
      "41231\n",
      "1.8888888888888893\n",
      "41231\n",
      "3.666666666666667\n",
      "41231\n",
      "5.444444444444445\n",
      "41231\n",
      "7.222222222222222\n",
      "41231\n",
      "9.0\n",
      "41231\n"
     ]
    },
    {
     "name": "stderr",
     "output_type": "stream",
     "text": [
      "\n",
      "  0%|          | 0/10 [00:00<?, ?it/s]\u001B[A"
     ]
    },
    {
     "name": "stdout",
     "output_type": "stream",
     "text": [
      "9.0\n",
      "41231\n"
     ]
    },
    {
     "name": "stderr",
     "output_type": "stream",
     "text": [
      "\n",
      "\n",
      "  0%|          | 0/20 [00:00<?, ?it/s]\u001B[A\u001B[A"
     ]
    },
    {
     "name": "stdout",
     "output_type": "stream",
     "text": [
      "PCA: 9.0\n",
      "powermeter complete\n",
      "917.680419921875\n",
      "spectrometer complete\n",
      "n_frames 2\n",
      "Max pixel:  204.5\n",
      "camera complete\n"
     ]
    },
    {
     "name": "stderr",
     "output_type": "stream",
     "text": [
      "\n",
      "\n",
      "  5%|▌         | 1/20 [00:07<02:26,  7.72s/it]\u001B[A\u001B[A"
     ]
    },
    {
     "name": "stdout",
     "output_type": "stream",
     "text": [
      "PCA: 9.0\n",
      "powermeter complete\n",
      "912.6165161132812\n",
      "spectrometer complete\n",
      "n_frames 50\n"
     ]
    },
    {
     "name": "stderr",
     "output_type": "stream",
     "text": [
      "\n",
      "\n",
      " 10%|█         | 2/20 [00:15<02:16,  7.57s/it]\u001B[A\u001B[A"
     ]
    },
    {
     "name": "stdout",
     "output_type": "stream",
     "text": [
      "Max pixel:  6.08\n",
      "camera complete\n",
      "PCA: 9.0\n",
      "powermeter complete\n",
      "919.702392578125\n",
      "spectrometer complete\n",
      "n_frames 4\n",
      "Max pixel:  204.25\n",
      "camera complete\n"
     ]
    },
    {
     "name": "stderr",
     "output_type": "stream",
     "text": [
      "\n",
      "\n",
      " 15%|█▌        | 3/20 [00:22<02:08,  7.56s/it]\u001B[A\u001B[A"
     ]
    },
    {
     "name": "stdout",
     "output_type": "stream",
     "text": [
      "PCA: 9.0\n",
      "powermeter complete\n",
      "920.6650390625\n",
      "spectrometer complete\n",
      "n_frames 50\n"
     ]
    },
    {
     "name": "stderr",
     "output_type": "stream",
     "text": [
      "\n",
      "\n",
      " 20%|██        | 4/20 [00:30<01:59,  7.49s/it]\u001B[A\u001B[A"
     ]
    },
    {
     "name": "stdout",
     "output_type": "stream",
     "text": [
      "Max pixel:  6.08\n",
      "camera complete\n",
      "PCA: 9.0\n",
      "powermeter complete\n",
      "951.5222778320312\n",
      "spectrometer complete\n",
      "n_frames 8\n",
      "Max pixel:  214.125\n",
      "camera complete\n"
     ]
    },
    {
     "name": "stderr",
     "output_type": "stream",
     "text": [
      "\n",
      "\n",
      " 25%|██▌       | 5/20 [00:37<01:52,  7.48s/it]\u001B[A\u001B[A"
     ]
    },
    {
     "name": "stdout",
     "output_type": "stream",
     "text": [
      "PCA: 9.0\n",
      "powermeter complete\n",
      "951.6007080078125\n",
      "spectrometer complete\n",
      "n_frames 50\n"
     ]
    },
    {
     "name": "stderr",
     "output_type": "stream",
     "text": [
      "\n",
      "\n",
      " 30%|███       | 6/20 [00:44<01:44,  7.43s/it]\u001B[A\u001B[A"
     ]
    },
    {
     "name": "stdout",
     "output_type": "stream",
     "text": [
      "Max pixel:  142.86\n",
      "camera complete\n",
      "PCA: 9.0\n",
      "powermeter complete\n",
      "951.5222778320312\n",
      "spectrometer complete\n",
      "n_frames 50\n"
     ]
    },
    {
     "name": "stderr",
     "output_type": "stream",
     "text": [
      "\n",
      "\n",
      " 35%|███▌      | 7/20 [00:58<02:01,  9.32s/it]\u001B[A\u001B[A"
     ]
    },
    {
     "name": "stdout",
     "output_type": "stream",
     "text": [
      "Max pixel:  211.48\n",
      "camera complete\n",
      "PCA: 9.0\n",
      "powermeter complete\n",
      "951.6791381835938\n",
      "spectrometer complete\n",
      "n_frames 50\n"
     ]
    },
    {
     "name": "stderr",
     "output_type": "stream",
     "text": [
      "\n",
      "\n",
      " 40%|████      | 8/20 [01:05<01:45,  8.75s/it]\u001B[A\u001B[A"
     ]
    },
    {
     "name": "stdout",
     "output_type": "stream",
     "text": [
      "Max pixel:  209.42\n",
      "camera complete\n",
      "PCA: 9.0\n",
      "powermeter complete\n",
      "951.3654174804688\n",
      "spectrometer complete\n",
      "n_frames 50\n"
     ]
    },
    {
     "name": "stderr",
     "output_type": "stream",
     "text": [
      "\n",
      "\n",
      " 45%|████▌     | 9/20 [01:13<01:31,  8.33s/it]\u001B[A\u001B[A"
     ]
    },
    {
     "name": "stdout",
     "output_type": "stream",
     "text": [
      "Max pixel:  203.78\n",
      "camera complete\n",
      "PCA: 9.0\n",
      "powermeter complete\n",
      "951.3654174804688\n",
      "spectrometer complete\n",
      "n_frames 50\n"
     ]
    },
    {
     "name": "stderr",
     "output_type": "stream",
     "text": [
      "\n",
      "\n",
      " 50%|█████     | 10/20 [01:20<01:20,  8.05s/it]\u001B[A\u001B[A"
     ]
    },
    {
     "name": "stdout",
     "output_type": "stream",
     "text": [
      "Max pixel:  211.62\n",
      "camera complete\n",
      "PCA: 9.0\n",
      "powermeter complete\n",
      "951.2083740234375\n",
      "spectrometer complete\n",
      "n_frames 50\n"
     ]
    },
    {
     "name": "stderr",
     "output_type": "stream",
     "text": [
      "\n",
      "\n",
      " 55%|█████▌    | 11/20 [01:27<01:10,  7.85s/it]\u001B[A\u001B[A"
     ]
    },
    {
     "name": "stdout",
     "output_type": "stream",
     "text": [
      "Max pixel:  146.64\n",
      "camera complete\n",
      "PCA: 9.0\n",
      "powermeter complete\n",
      "951.3654174804688\n",
      "spectrometer complete\n",
      "n_frames 50\n"
     ]
    },
    {
     "name": "stderr",
     "output_type": "stream",
     "text": [
      "\n",
      "\n",
      " 60%|██████    | 12/20 [01:35<01:01,  7.68s/it]\u001B[A\u001B[A"
     ]
    },
    {
     "name": "stdout",
     "output_type": "stream",
     "text": [
      "Max pixel:  238.78\n",
      "camera complete\n",
      "PCA: 9.0\n",
      "powermeter complete\n",
      "951.3654174804688\n",
      "spectrometer complete\n",
      "n_frames 50\n"
     ]
    },
    {
     "name": "stderr",
     "output_type": "stream",
     "text": [
      "\n",
      "\n",
      " 65%|██████▌   | 13/20 [01:42<00:53,  7.57s/it]\u001B[A\u001B[A"
     ]
    },
    {
     "name": "stdout",
     "output_type": "stream",
     "text": [
      "Max pixel:  202.38\n",
      "camera complete\n",
      "PCA: 9.0\n",
      "powermeter complete\n",
      "951.286865234375\n",
      "spectrometer complete\n",
      "n_frames 50\n"
     ]
    },
    {
     "name": "stderr",
     "output_type": "stream",
     "text": [
      "\n",
      "\n",
      " 70%|███████   | 14/20 [01:49<00:45,  7.51s/it]\u001B[A\u001B[A"
     ]
    },
    {
     "name": "stdout",
     "output_type": "stream",
     "text": [
      "Max pixel:  88.04\n",
      "camera complete\n",
      "PCA: 9.0\n",
      "powermeter complete\n",
      "951.3654174804688\n",
      "spectrometer complete\n",
      "n_frames 50\n"
     ]
    },
    {
     "name": "stderr",
     "output_type": "stream",
     "text": [
      "\n",
      "\n",
      " 75%|███████▌  | 15/20 [01:57<00:37,  7.44s/it]\u001B[A\u001B[A"
     ]
    },
    {
     "name": "stdout",
     "output_type": "stream",
     "text": [
      "Max pixel:  101.96\n",
      "camera complete\n",
      "PCA: 9.0\n",
      "powermeter complete\n",
      "951.3654174804688\n",
      "spectrometer complete\n",
      "n_frames 50\n"
     ]
    },
    {
     "name": "stderr",
     "output_type": "stream",
     "text": [
      "\n",
      "\n",
      " 80%|████████  | 16/20 [02:04<00:29,  7.38s/it]\u001B[A\u001B[A"
     ]
    },
    {
     "name": "stdout",
     "output_type": "stream",
     "text": [
      "Max pixel:  216.42\n",
      "camera complete\n",
      "PCA: 9.0\n",
      "powermeter complete\n",
      "951.2083740234375\n",
      "spectrometer complete\n",
      "n_frames 50\n"
     ]
    },
    {
     "name": "stderr",
     "output_type": "stream",
     "text": [
      "\n",
      "\n",
      " 85%|████████▌ | 17/20 [02:11<00:22,  7.34s/it]\u001B[A\u001B[A"
     ]
    },
    {
     "name": "stdout",
     "output_type": "stream",
     "text": [
      "Max pixel:  99.02\n",
      "camera complete\n",
      "PCA: 9.0\n",
      "powermeter complete\n",
      "951.1298828125\n",
      "spectrometer complete\n",
      "n_frames 50\n"
     ]
    },
    {
     "name": "stderr",
     "output_type": "stream",
     "text": [
      "\n",
      "\n",
      " 90%|█████████ | 18/20 [02:19<00:14,  7.36s/it]\u001B[A\u001B[A"
     ]
    },
    {
     "name": "stdout",
     "output_type": "stream",
     "text": [
      "Max pixel:  224.42\n",
      "camera complete\n",
      "PCA: 9.0\n",
      "powermeter complete\n",
      "950.9727172851562\n",
      "spectrometer complete\n",
      "n_frames 50\n"
     ]
    },
    {
     "name": "stderr",
     "output_type": "stream",
     "text": [
      "\n",
      "\n",
      " 95%|█████████▌| 19/20 [02:26<00:07,  7.35s/it]\u001B[A\u001B[A"
     ]
    },
    {
     "name": "stdout",
     "output_type": "stream",
     "text": [
      "Max pixel:  27.58\n",
      "camera complete\n",
      "PCA: 9.0\n",
      "powermeter complete\n",
      "951.2083740234375\n",
      "spectrometer complete\n",
      "n_frames 50\n"
     ]
    },
    {
     "name": "stderr",
     "output_type": "stream",
     "text": [
      "\n",
      "\n",
      "100%|██████████| 20/20 [02:33<00:00,  7.68s/it]\u001B[A\u001B[A\n",
      "\n",
      " 10%|█         | 1/10 [02:33<23:03, 153.74s/it]\u001B[A"
     ]
    },
    {
     "name": "stdout",
     "output_type": "stream",
     "text": [
      "Max pixel:  74.96\n",
      "camera complete\n",
      "20240820_161455 20240820_161722\n",
      "7.222222222222222\n",
      "41231\n"
     ]
    },
    {
     "name": "stderr",
     "output_type": "stream",
     "text": [
      "\n",
      "\n",
      "  0%|          | 0/20 [00:00<?, ?it/s]\u001B[A\u001B[A"
     ]
    },
    {
     "name": "stdout",
     "output_type": "stream",
     "text": [
      "PCA: 7.222222222222222\n",
      "powermeter complete\n",
      "911.4511108398438\n",
      "spectrometer complete\n",
      "n_frames 2\n",
      "Max pixel:  204.5\n",
      "camera complete\n"
     ]
    },
    {
     "name": "stderr",
     "output_type": "stream",
     "text": [
      "\n",
      "\n",
      "  5%|▌         | 1/20 [00:07<02:27,  7.75s/it]\u001B[A\u001B[A"
     ]
    },
    {
     "name": "stdout",
     "output_type": "stream",
     "text": [
      "PCA: 7.222222222222222\n",
      "powermeter complete\n",
      "916.7090454101562\n",
      "spectrometer complete\n",
      "n_frames 50\n"
     ]
    },
    {
     "name": "stderr",
     "output_type": "stream",
     "text": [
      "\n",
      "\n",
      " 10%|█         | 2/20 [00:15<02:16,  7.58s/it]\u001B[A\u001B[A"
     ]
    },
    {
     "name": "stdout",
     "output_type": "stream",
     "text": [
      "Max pixel:  11.16\n",
      "camera complete\n",
      "PCA: 7.222222222222222\n",
      "powermeter complete\n",
      "921.8861694335938\n",
      "spectrometer complete\n",
      "n_frames 4\n",
      "Max pixel:  204.25\n",
      "camera complete\n"
     ]
    },
    {
     "name": "stderr",
     "output_type": "stream",
     "text": [
      "\n",
      "\n",
      " 15%|█▌        | 3/20 [00:22<02:08,  7.58s/it]\u001B[A\u001B[A"
     ]
    },
    {
     "name": "stdout",
     "output_type": "stream",
     "text": [
      "PCA: 7.222222222222222\n",
      "powermeter complete\n",
      "913.778076171875\n",
      "spectrometer complete\n",
      "n_frames 50\n"
     ]
    },
    {
     "name": "stderr",
     "output_type": "stream",
     "text": [
      "\n",
      "\n",
      " 20%|██        | 4/20 [00:30<01:59,  7.49s/it]\u001B[A\u001B[A"
     ]
    },
    {
     "name": "stdout",
     "output_type": "stream",
     "text": [
      "Max pixel:  11.16\n",
      "camera complete\n",
      "PCA: 7.222222222222222\n",
      "powermeter complete\n",
      "950.73681640625\n",
      "spectrometer complete\n",
      "n_frames 50\n"
     ]
    },
    {
     "name": "stderr",
     "output_type": "stream",
     "text": [
      "\n",
      "\n",
      " 25%|██▌       | 5/20 [00:37<01:51,  7.45s/it]\u001B[A\u001B[A"
     ]
    },
    {
     "name": "stdout",
     "output_type": "stream",
     "text": [
      "Max pixel:  98.64\n",
      "camera complete\n",
      "PCA: 7.222222222222222\n",
      "powermeter complete\n",
      "950.6580810546875\n",
      "spectrometer complete\n",
      "n_frames 50\n"
     ]
    },
    {
     "name": "stderr",
     "output_type": "stream",
     "text": [
      "\n",
      "\n",
      " 30%|███       | 6/20 [00:50<02:11,  9.41s/it]\u001B[A\u001B[A"
     ]
    },
    {
     "name": "stdout",
     "output_type": "stream",
     "text": [
      "Max pixel:  173.78\n",
      "camera complete\n",
      "PCA: 7.222222222222222\n",
      "powermeter complete\n",
      "950.8941040039062\n",
      "spectrometer complete\n",
      "n_frames 50\n"
     ]
    },
    {
     "name": "stderr",
     "output_type": "stream",
     "text": [
      "\n",
      "\n",
      " 35%|███▌      | 7/20 [00:58<01:54,  8.77s/it]\u001B[A\u001B[A"
     ]
    },
    {
     "name": "stdout",
     "output_type": "stream",
     "text": [
      "Max pixel:  250.28\n",
      "camera complete\n",
      "PCA: 7.222222222222222\n",
      "powermeter complete\n",
      "950.9727172851562\n",
      "spectrometer complete\n",
      "n_frames 50\n"
     ]
    },
    {
     "name": "stderr",
     "output_type": "stream",
     "text": [
      "\n",
      "\n",
      " 40%|████      | 8/20 [01:05<01:40,  8.34s/it]\u001B[A\u001B[A"
     ]
    },
    {
     "name": "stdout",
     "output_type": "stream",
     "text": [
      "Max pixel:  237.54\n",
      "camera complete\n",
      "PCA: 7.222222222222222\n",
      "powermeter complete\n",
      "950.73681640625\n",
      "spectrometer complete\n",
      "n_frames 50\n"
     ]
    },
    {
     "name": "stderr",
     "output_type": "stream",
     "text": [
      "\n",
      "\n",
      " 45%|████▌     | 9/20 [01:12<01:28,  8.00s/it]\u001B[A\u001B[A"
     ]
    },
    {
     "name": "stdout",
     "output_type": "stream",
     "text": [
      "Max pixel:  208.16\n",
      "camera complete\n",
      "PCA: 7.222222222222222\n",
      "powermeter complete\n",
      "950.8941040039062\n",
      "spectrometer complete\n",
      "n_frames 50\n"
     ]
    },
    {
     "name": "stderr",
     "output_type": "stream",
     "text": [
      "\n",
      "\n",
      " 50%|█████     | 10/20 [01:20<01:17,  7.80s/it]\u001B[A\u001B[A"
     ]
    },
    {
     "name": "stdout",
     "output_type": "stream",
     "text": [
      "Max pixel:  198.18\n",
      "camera complete\n",
      "PCA: 7.222222222222222\n",
      "powermeter complete\n",
      "950.5794067382812\n",
      "spectrometer complete\n",
      "n_frames 50\n"
     ]
    },
    {
     "name": "stderr",
     "output_type": "stream",
     "text": [
      "\n",
      "\n",
      " 55%|█████▌    | 11/20 [01:27<01:09,  7.68s/it]\u001B[A\u001B[A"
     ]
    },
    {
     "name": "stdout",
     "output_type": "stream",
     "text": [
      "Max pixel:  117.1\n",
      "camera complete\n",
      "PCA: 7.222222222222222\n",
      "powermeter complete\n",
      "950.0277099609375\n",
      "spectrometer complete\n",
      "n_frames 50\n"
     ]
    },
    {
     "name": "stderr",
     "output_type": "stream",
     "text": [
      "\n",
      "\n",
      " 60%|██████    | 12/20 [01:34<01:00,  7.58s/it]\u001B[A\u001B[A"
     ]
    },
    {
     "name": "stdout",
     "output_type": "stream",
     "text": [
      "Max pixel:  215.68\n",
      "camera complete\n",
      "PCA: 7.222222222222222\n",
      "powermeter complete\n",
      "950.6580810546875\n",
      "spectrometer complete\n",
      "n_frames 50\n"
     ]
    },
    {
     "name": "stderr",
     "output_type": "stream",
     "text": [
      "\n",
      "\n",
      " 65%|██████▌   | 13/20 [01:42<00:52,  7.49s/it]\u001B[A\u001B[A"
     ]
    },
    {
     "name": "stdout",
     "output_type": "stream",
     "text": [
      "Max pixel:  107.14\n",
      "camera complete\n",
      "PCA: 7.222222222222222\n",
      "powermeter complete\n",
      "950.5794067382812\n",
      "spectrometer complete\n",
      "n_frames 50\n"
     ]
    },
    {
     "name": "stderr",
     "output_type": "stream",
     "text": [
      "\n",
      "\n",
      " 70%|███████   | 14/20 [01:49<00:44,  7.43s/it]\u001B[A\u001B[A"
     ]
    },
    {
     "name": "stdout",
     "output_type": "stream",
     "text": [
      "Max pixel:  211.92\n",
      "camera complete\n",
      "PCA: 7.222222222222222\n",
      "powermeter complete\n",
      "950.5006713867188\n",
      "spectrometer complete\n",
      "n_frames 50\n"
     ]
    },
    {
     "name": "stderr",
     "output_type": "stream",
     "text": [
      "\n",
      "\n",
      " 75%|███████▌  | 15/20 [01:56<00:36,  7.40s/it]\u001B[A\u001B[A"
     ]
    },
    {
     "name": "stdout",
     "output_type": "stream",
     "text": [
      "Max pixel:  104.86\n",
      "camera complete\n",
      "PCA: 7.222222222222222\n",
      "powermeter complete\n",
      "950.3432006835938\n",
      "spectrometer complete\n",
      "n_frames 50\n"
     ]
    },
    {
     "name": "stderr",
     "output_type": "stream",
     "text": [
      "\n",
      "\n",
      " 80%|████████  | 16/20 [02:04<00:29,  7.38s/it]\u001B[A\u001B[A"
     ]
    },
    {
     "name": "stdout",
     "output_type": "stream",
     "text": [
      "Max pixel:  136.76\n",
      "camera complete\n",
      "PCA: 7.222222222222222\n",
      "powermeter complete\n",
      "950.5006713867188\n",
      "spectrometer complete\n",
      "n_frames 50\n"
     ]
    },
    {
     "name": "stderr",
     "output_type": "stream",
     "text": [
      "\n",
      "\n",
      " 85%|████████▌ | 17/20 [02:11<00:22,  7.37s/it]\u001B[A\u001B[A"
     ]
    },
    {
     "name": "stdout",
     "output_type": "stream",
     "text": [
      "Max pixel:  164.86\n",
      "camera complete\n",
      "PCA: 7.222222222222222\n",
      "powermeter complete\n",
      "950.5794067382812\n",
      "spectrometer complete\n",
      "n_frames 50\n"
     ]
    },
    {
     "name": "stderr",
     "output_type": "stream",
     "text": [
      "\n",
      "\n",
      " 90%|█████████ | 18/20 [02:18<00:14,  7.34s/it]\u001B[A\u001B[A"
     ]
    },
    {
     "name": "stdout",
     "output_type": "stream",
     "text": [
      "Max pixel:  84.02\n",
      "camera complete\n",
      "PCA: 7.222222222222222\n",
      "powermeter complete\n",
      "950.5006713867188\n",
      "spectrometer complete\n",
      "n_frames 50\n"
     ]
    },
    {
     "name": "stderr",
     "output_type": "stream",
     "text": [
      "\n",
      "\n",
      " 95%|█████████▌| 19/20 [02:26<00:07,  7.33s/it]\u001B[A\u001B[A"
     ]
    },
    {
     "name": "stdout",
     "output_type": "stream",
     "text": [
      "Max pixel:  43.96\n",
      "camera complete\n",
      "PCA: 7.222222222222222\n",
      "powermeter complete\n",
      "950.4219360351562\n",
      "spectrometer complete\n",
      "n_frames 50\n"
     ]
    },
    {
     "name": "stderr",
     "output_type": "stream",
     "text": [
      "\n",
      "\n",
      "100%|██████████| 20/20 [02:33<00:00,  7.67s/it]\u001B[A\u001B[A\n",
      "\n",
      " 20%|██        | 2/10 [05:07<20:28, 153.59s/it]\u001B[A"
     ]
    },
    {
     "name": "stdout",
     "output_type": "stream",
     "text": [
      "Max pixel:  154.26\n",
      "camera complete\n",
      "20240820_161729 20240820_161955\n",
      "5.444444444444445\n",
      "41231\n"
     ]
    },
    {
     "name": "stderr",
     "output_type": "stream",
     "text": [
      "\n",
      "\n",
      "  0%|          | 0/20 [00:00<?, ?it/s]\u001B[A\u001B[A"
     ]
    },
    {
     "name": "stdout",
     "output_type": "stream",
     "text": [
      "PCA: 5.444444444444445\n",
      "powermeter complete\n",
      "919.00048828125\n",
      "spectrometer complete\n",
      "n_frames 2\n",
      "Max pixel:  202.5\n",
      "camera complete\n"
     ]
    },
    {
     "name": "stderr",
     "output_type": "stream",
     "text": [
      "\n",
      "\n",
      "  5%|▌         | 1/20 [00:07<02:25,  7.63s/it]\u001B[A\u001B[A"
     ]
    },
    {
     "name": "stdout",
     "output_type": "stream",
     "text": [
      "PCA: 5.444444444444445\n",
      "powermeter complete\n",
      "923.276123046875\n",
      "spectrometer complete\n",
      "n_frames 50\n"
     ]
    },
    {
     "name": "stderr",
     "output_type": "stream",
     "text": [
      "\n",
      "\n",
      " 10%|█         | 2/20 [00:15<02:15,  7.54s/it]\u001B[A\u001B[A"
     ]
    },
    {
     "name": "stdout",
     "output_type": "stream",
     "text": [
      "Max pixel:  6.08\n",
      "camera complete\n",
      "PCA: 5.444444444444445\n",
      "powermeter complete\n",
      "913.9563598632812\n",
      "spectrometer complete\n",
      "n_frames 4\n",
      "Max pixel:  214.75\n",
      "camera complete\n"
     ]
    },
    {
     "name": "stderr",
     "output_type": "stream",
     "text": [
      "\n",
      "\n",
      " 15%|█▌        | 3/20 [00:22<02:08,  7.57s/it]\u001B[A\u001B[A"
     ]
    },
    {
     "name": "stdout",
     "output_type": "stream",
     "text": [
      "PCA: 5.444444444444445\n",
      "powermeter complete\n",
      "949.395751953125\n",
      "spectrometer complete\n",
      "n_frames 50\n"
     ]
    },
    {
     "name": "stderr",
     "output_type": "stream",
     "text": [
      "\n",
      "\n",
      " 20%|██        | 4/20 [00:30<01:59,  7.49s/it]\u001B[A\u001B[A"
     ]
    },
    {
     "name": "stdout",
     "output_type": "stream",
     "text": [
      "Max pixel:  6.08\n",
      "camera complete\n",
      "PCA: 5.444444444444445\n",
      "powermeter complete\n",
      "949.6329345703125\n",
      "spectrometer complete\n",
      "n_frames 50\n"
     ]
    },
    {
     "name": "stderr",
     "output_type": "stream",
     "text": [
      "\n",
      "\n",
      " 25%|██▌       | 5/20 [00:43<02:23,  9.56s/it]\u001B[A\u001B[A"
     ]
    },
    {
     "name": "stdout",
     "output_type": "stream",
     "text": [
      "Max pixel:  207.44\n",
      "camera complete\n",
      "PCA: 5.444444444444445\n",
      "powermeter complete\n",
      "949.7119750976562\n",
      "spectrometer complete\n",
      "n_frames 50\n"
     ]
    },
    {
     "name": "stderr",
     "output_type": "stream",
     "text": [
      "\n",
      "\n",
      " 30%|███       | 6/20 [00:50<02:03,  8.79s/it]\u001B[A\u001B[A"
     ]
    },
    {
     "name": "stdout",
     "output_type": "stream",
     "text": [
      "Max pixel:  128.14\n",
      "camera complete\n",
      "PCA: 5.444444444444445\n",
      "powermeter complete\n",
      "949.869873046875\n",
      "spectrometer complete\n",
      "n_frames 50\n"
     ]
    },
    {
     "name": "stderr",
     "output_type": "stream",
     "text": [
      "\n",
      "\n",
      " 35%|███▌      | 7/20 [00:58<01:48,  8.35s/it]\u001B[A\u001B[A"
     ]
    },
    {
     "name": "stdout",
     "output_type": "stream",
     "text": [
      "Max pixel:  163.6\n",
      "camera complete\n",
      "PCA: 5.444444444444445\n",
      "powermeter complete\n",
      "949.7119750976562\n",
      "spectrometer complete\n",
      "n_frames 50\n"
     ]
    },
    {
     "name": "stderr",
     "output_type": "stream",
     "text": [
      "\n",
      "\n",
      " 40%|████      | 8/20 [01:05<01:36,  8.06s/it]\u001B[A\u001B[A"
     ]
    },
    {
     "name": "stdout",
     "output_type": "stream",
     "text": [
      "Max pixel:  139.26\n",
      "camera complete\n",
      "PCA: 5.444444444444445\n",
      "powermeter complete\n",
      "949.6329345703125\n",
      "spectrometer complete\n",
      "n_frames 50\n"
     ]
    },
    {
     "name": "stderr",
     "output_type": "stream",
     "text": [
      "\n",
      "\n",
      " 45%|████▌     | 9/20 [01:12<01:26,  7.83s/it]\u001B[A\u001B[A"
     ]
    },
    {
     "name": "stdout",
     "output_type": "stream",
     "text": [
      "Max pixel:  101.74\n",
      "camera complete\n",
      "PCA: 5.444444444444445\n",
      "powermeter complete\n",
      "949.7119750976562\n",
      "spectrometer complete\n",
      "n_frames 50\n"
     ]
    },
    {
     "name": "stderr",
     "output_type": "stream",
     "text": [
      "\n",
      "\n",
      " 50%|█████     | 10/20 [01:20<01:16,  7.68s/it]\u001B[A\u001B[A"
     ]
    },
    {
     "name": "stdout",
     "output_type": "stream",
     "text": [
      "Max pixel:  127.76\n",
      "camera complete\n",
      "PCA: 5.444444444444445\n",
      "powermeter complete\n",
      "949.9487915039062\n",
      "spectrometer complete\n",
      "n_frames 50\n"
     ]
    },
    {
     "name": "stderr",
     "output_type": "stream",
     "text": [
      "\n",
      "\n",
      " 55%|█████▌    | 11/20 [01:27<01:08,  7.59s/it]\u001B[A\u001B[A"
     ]
    },
    {
     "name": "stdout",
     "output_type": "stream",
     "text": [
      "Max pixel:  137.6\n",
      "camera complete\n",
      "PCA: 5.444444444444445\n",
      "powermeter complete\n",
      "949.7909545898438\n",
      "spectrometer complete\n",
      "n_frames 50\n"
     ]
    },
    {
     "name": "stderr",
     "output_type": "stream",
     "text": [
      "\n",
      "\n",
      " 60%|██████    | 12/20 [01:34<01:00,  7.50s/it]\u001B[A\u001B[A"
     ]
    },
    {
     "name": "stdout",
     "output_type": "stream",
     "text": [
      "Max pixel:  186.18\n",
      "camera complete\n",
      "PCA: 5.444444444444445\n",
      "powermeter complete\n",
      "949.553955078125\n",
      "spectrometer complete\n",
      "n_frames 50\n"
     ]
    },
    {
     "name": "stderr",
     "output_type": "stream",
     "text": [
      "\n",
      "\n",
      " 65%|██████▌   | 13/20 [01:42<00:52,  7.49s/it]\u001B[A\u001B[A"
     ]
    },
    {
     "name": "stdout",
     "output_type": "stream",
     "text": [
      "Max pixel:  184.18\n",
      "camera complete\n",
      "PCA: 5.444444444444445\n",
      "powermeter complete\n",
      "949.6329345703125\n",
      "spectrometer complete\n",
      "n_frames 50\n"
     ]
    },
    {
     "name": "stderr",
     "output_type": "stream",
     "text": [
      "\n",
      "\n",
      " 70%|███████   | 14/20 [01:49<00:44,  7.44s/it]\u001B[A\u001B[A"
     ]
    },
    {
     "name": "stdout",
     "output_type": "stream",
     "text": [
      "Max pixel:  50.12\n",
      "camera complete\n",
      "PCA: 5.444444444444445\n",
      "powermeter complete\n",
      "949.7119750976562\n",
      "spectrometer complete\n",
      "n_frames 50\n"
     ]
    },
    {
     "name": "stderr",
     "output_type": "stream",
     "text": [
      "\n",
      "\n",
      " 75%|███████▌  | 15/20 [01:56<00:36,  7.39s/it]\u001B[A\u001B[A"
     ]
    },
    {
     "name": "stdout",
     "output_type": "stream",
     "text": [
      "Max pixel:  43.2\n",
      "camera complete\n",
      "PCA: 5.444444444444445\n",
      "powermeter complete\n",
      "949.9487915039062\n",
      "spectrometer complete\n",
      "n_frames 50\n"
     ]
    },
    {
     "name": "stderr",
     "output_type": "stream",
     "text": [
      "\n",
      "\n",
      " 80%|████████  | 16/20 [02:04<00:29,  7.39s/it]\u001B[A\u001B[A"
     ]
    },
    {
     "name": "stdout",
     "output_type": "stream",
     "text": [
      "Max pixel:  231.92\n",
      "camera complete\n",
      "PCA: 5.444444444444445\n",
      "powermeter complete\n",
      "949.7119750976562\n",
      "spectrometer complete\n",
      "n_frames 50\n"
     ]
    },
    {
     "name": "stderr",
     "output_type": "stream",
     "text": [
      "\n",
      "\n",
      " 85%|████████▌ | 17/20 [02:11<00:22,  7.36s/it]\u001B[A\u001B[A"
     ]
    },
    {
     "name": "stdout",
     "output_type": "stream",
     "text": [
      "Max pixel:  50.68\n",
      "camera complete\n",
      "PCA: 5.444444444444445\n",
      "powermeter complete\n",
      "949.869873046875\n",
      "spectrometer complete\n",
      "n_frames 50\n"
     ]
    },
    {
     "name": "stderr",
     "output_type": "stream",
     "text": [
      "\n",
      "\n",
      " 90%|█████████ | 18/20 [02:18<00:14,  7.35s/it]\u001B[A\u001B[A"
     ]
    },
    {
     "name": "stdout",
     "output_type": "stream",
     "text": [
      "Max pixel:  38.24\n",
      "camera complete\n",
      "PCA: 5.444444444444445\n",
      "powermeter complete\n",
      "949.9487915039062\n",
      "spectrometer complete\n",
      "n_frames 50\n"
     ]
    },
    {
     "name": "stderr",
     "output_type": "stream",
     "text": [
      "\n",
      "\n",
      " 95%|█████████▌| 19/20 [02:26<00:07,  7.38s/it]\u001B[A\u001B[A"
     ]
    },
    {
     "name": "stdout",
     "output_type": "stream",
     "text": [
      "Max pixel:  139.92\n",
      "camera complete\n",
      "PCA: 5.444444444444445\n",
      "powermeter complete\n",
      "949.7909545898438\n",
      "spectrometer complete\n",
      "n_frames 50\n"
     ]
    },
    {
     "name": "stderr",
     "output_type": "stream",
     "text": [
      "\n",
      "\n",
      "100%|██████████| 20/20 [02:33<00:00,  7.69s/it]\u001B[A\u001B[A\n",
      "\n",
      " 30%|███       | 3/10 [07:41<17:56, 153.72s/it]\u001B[A"
     ]
    },
    {
     "name": "stdout",
     "output_type": "stream",
     "text": [
      "Max pixel:  102.36\n",
      "camera complete\n",
      "20240820_162003 20240820_162229\n",
      "3.666666666666667\n",
      "41231\n"
     ]
    },
    {
     "name": "stderr",
     "output_type": "stream",
     "text": [
      "\n",
      "\n",
      "  0%|          | 0/20 [00:00<?, ?it/s]\u001B[A\u001B[A"
     ]
    },
    {
     "name": "stdout",
     "output_type": "stream",
     "text": [
      "PCA: 3.666666666666667\n",
      "powermeter complete\n",
      "918.1210327148438\n",
      "spectrometer complete\n",
      "n_frames 2\n",
      "Max pixel:  204.0\n",
      "camera complete\n"
     ]
    },
    {
     "name": "stderr",
     "output_type": "stream",
     "text": [
      "\n",
      "\n",
      "  5%|▌         | 1/20 [00:07<02:27,  7.74s/it]\u001B[A\u001B[A"
     ]
    },
    {
     "name": "stdout",
     "output_type": "stream",
     "text": [
      "PCA: 3.666666666666667\n",
      "powermeter complete\n",
      "915.1134033203125\n",
      "spectrometer complete\n",
      "n_frames 50\n"
     ]
    },
    {
     "name": "stderr",
     "output_type": "stream",
     "text": [
      "\n",
      "\n",
      " 10%|█         | 2/20 [00:15<02:16,  7.59s/it]\u001B[A\u001B[A"
     ]
    },
    {
     "name": "stdout",
     "output_type": "stream",
     "text": [
      "Max pixel:  6.08\n",
      "camera complete\n",
      "PCA: 3.666666666666667\n",
      "powermeter complete\n",
      "929.4561767578125\n",
      "spectrometer complete\n",
      "n_frames 4\n",
      "Max pixel:  227.0\n",
      "camera complete\n"
     ]
    },
    {
     "name": "stderr",
     "output_type": "stream",
     "text": [
      "\n",
      "\n",
      " 15%|█▌        | 3/20 [00:22<02:08,  7.57s/it]\u001B[A\u001B[A"
     ]
    },
    {
     "name": "stdout",
     "output_type": "stream",
     "text": [
      "PCA: 3.666666666666667\n",
      "powermeter complete\n",
      "948.6829223632812\n",
      "spectrometer complete\n",
      "n_frames 50\n"
     ]
    },
    {
     "name": "stderr",
     "output_type": "stream",
     "text": [
      "\n",
      "\n",
      " 20%|██        | 4/20 [00:30<01:59,  7.48s/it]\u001B[A\u001B[A"
     ]
    },
    {
     "name": "stdout",
     "output_type": "stream",
     "text": [
      "Max pixel:  13.6\n",
      "camera complete\n",
      "PCA: 3.666666666666667\n",
      "powermeter complete\n",
      "948.841552734375\n",
      "spectrometer complete\n",
      "n_frames 50\n"
     ]
    },
    {
     "name": "stderr",
     "output_type": "stream",
     "text": [
      "\n",
      "\n",
      " 25%|██▌       | 5/20 [00:43<02:23,  9.56s/it]\u001B[A\u001B[A"
     ]
    },
    {
     "name": "stdout",
     "output_type": "stream",
     "text": [
      "Max pixel:  232.58\n",
      "camera complete\n",
      "PCA: 3.666666666666667\n",
      "powermeter complete\n",
      "948.841552734375\n",
      "spectrometer complete\n",
      "n_frames 50\n"
     ]
    },
    {
     "name": "stderr",
     "output_type": "stream",
     "text": [
      "\n",
      "\n",
      " 30%|███       | 6/20 [00:50<02:03,  8.83s/it]\u001B[A\u001B[A"
     ]
    },
    {
     "name": "stdout",
     "output_type": "stream",
     "text": [
      "Max pixel:  207.08\n",
      "camera complete\n",
      "PCA: 3.666666666666667\n",
      "powermeter complete\n",
      "947.9680786132812\n",
      "spectrometer complete\n",
      "n_frames 50\n"
     ]
    },
    {
     "name": "stderr",
     "output_type": "stream",
     "text": [
      "\n",
      "\n",
      " 35%|███▌      | 7/20 [00:58<01:48,  8.33s/it]\u001B[A\u001B[A"
     ]
    },
    {
     "name": "stdout",
     "output_type": "stream",
     "text": [
      "Max pixel:  88.6\n",
      "camera complete\n",
      "PCA: 3.666666666666667\n",
      "powermeter complete\n",
      "948.5242919921875\n",
      "spectrometer complete\n",
      "n_frames 50\n"
     ]
    },
    {
     "name": "stderr",
     "output_type": "stream",
     "text": [
      "\n",
      "\n",
      " 40%|████      | 8/20 [01:05<01:36,  8.04s/it]\u001B[A\u001B[A"
     ]
    },
    {
     "name": "stdout",
     "output_type": "stream",
     "text": [
      "Max pixel:  163.28\n",
      "camera complete\n",
      "PCA: 3.666666666666667\n",
      "powermeter complete\n",
      "948.5242919921875\n",
      "spectrometer complete\n",
      "n_frames 50\n"
     ]
    },
    {
     "name": "stderr",
     "output_type": "stream",
     "text": [
      "\n",
      "\n",
      " 45%|████▌     | 9/20 [01:12<01:25,  7.81s/it]\u001B[A\u001B[A"
     ]
    },
    {
     "name": "stdout",
     "output_type": "stream",
     "text": [
      "Max pixel:  153.26\n",
      "camera complete\n",
      "PCA: 3.666666666666667\n",
      "powermeter complete\n",
      "948.5242919921875\n",
      "spectrometer complete\n",
      "n_frames 50\n"
     ]
    },
    {
     "name": "stderr",
     "output_type": "stream",
     "text": [
      "\n",
      "\n",
      " 50%|█████     | 10/20 [01:20<01:16,  7.63s/it]\u001B[A\u001B[A"
     ]
    },
    {
     "name": "stdout",
     "output_type": "stream",
     "text": [
      "Max pixel:  66.42\n",
      "camera complete\n",
      "PCA: 3.666666666666667\n",
      "powermeter complete\n",
      "948.365478515625\n",
      "spectrometer complete\n",
      "n_frames 50\n"
     ]
    },
    {
     "name": "stderr",
     "output_type": "stream",
     "text": [
      "\n",
      "\n",
      " 55%|█████▌    | 11/20 [01:27<01:07,  7.55s/it]\u001B[A\u001B[A"
     ]
    },
    {
     "name": "stdout",
     "output_type": "stream",
     "text": [
      "Max pixel:  107.02\n",
      "camera complete\n",
      "PCA: 3.666666666666667\n",
      "powermeter complete\n",
      "948.365478515625\n",
      "spectrometer complete\n",
      "n_frames 50\n"
     ]
    },
    {
     "name": "stderr",
     "output_type": "stream",
     "text": [
      "\n",
      "\n",
      " 60%|██████    | 12/20 [01:34<00:59,  7.49s/it]\u001B[A\u001B[A"
     ]
    },
    {
     "name": "stdout",
     "output_type": "stream",
     "text": [
      "Max pixel:  224.46\n",
      "camera complete\n",
      "PCA: 3.666666666666667\n",
      "powermeter complete\n",
      "948.365478515625\n",
      "spectrometer complete\n",
      "n_frames 50\n"
     ]
    },
    {
     "name": "stderr",
     "output_type": "stream",
     "text": [
      "\n",
      "\n",
      " 65%|██████▌   | 13/20 [01:42<00:52,  7.45s/it]\u001B[A\u001B[A"
     ]
    },
    {
     "name": "stdout",
     "output_type": "stream",
     "text": [
      "Max pixel:  214.1\n",
      "camera complete\n",
      "PCA: 3.666666666666667\n",
      "powermeter complete\n",
      "948.2860107421875\n",
      "spectrometer complete\n",
      "n_frames 50\n"
     ]
    },
    {
     "name": "stderr",
     "output_type": "stream",
     "text": [
      "\n",
      "\n",
      " 70%|███████   | 14/20 [01:49<00:44,  7.41s/it]\u001B[A\u001B[A"
     ]
    },
    {
     "name": "stdout",
     "output_type": "stream",
     "text": [
      "Max pixel:  64.34\n",
      "camera complete\n",
      "PCA: 3.666666666666667\n",
      "powermeter complete\n",
      "948.365478515625\n",
      "spectrometer complete\n",
      "n_frames 50\n"
     ]
    },
    {
     "name": "stderr",
     "output_type": "stream",
     "text": [
      "\n",
      "\n",
      " 75%|███████▌  | 15/20 [01:56<00:36,  7.39s/it]\u001B[A\u001B[A"
     ]
    },
    {
     "name": "stdout",
     "output_type": "stream",
     "text": [
      "Max pixel:  121.54\n",
      "camera complete\n",
      "PCA: 3.666666666666667\n",
      "powermeter complete\n",
      "948.365478515625\n",
      "spectrometer complete\n",
      "n_frames 50\n"
     ]
    },
    {
     "name": "stderr",
     "output_type": "stream",
     "text": [
      "\n",
      "\n",
      " 80%|████████  | 16/20 [02:04<00:29,  7.37s/it]\u001B[A\u001B[A"
     ]
    },
    {
     "name": "stdout",
     "output_type": "stream",
     "text": [
      "Max pixel:  100.02\n",
      "camera complete\n",
      "PCA: 3.666666666666667\n",
      "powermeter complete\n",
      "948.2860107421875\n",
      "spectrometer complete\n",
      "n_frames 50\n"
     ]
    },
    {
     "name": "stderr",
     "output_type": "stream",
     "text": [
      "\n",
      "\n",
      " 85%|████████▌ | 17/20 [02:11<00:22,  7.35s/it]\u001B[A\u001B[A"
     ]
    },
    {
     "name": "stdout",
     "output_type": "stream",
     "text": [
      "Max pixel:  106.38\n",
      "camera complete\n",
      "PCA: 3.666666666666667\n",
      "powermeter complete\n",
      "948.4448852539062\n",
      "spectrometer complete\n",
      "n_frames 50\n"
     ]
    },
    {
     "name": "stderr",
     "output_type": "stream",
     "text": [
      "\n",
      "\n",
      " 90%|█████████ | 18/20 [02:18<00:14,  7.33s/it]\u001B[A\u001B[A"
     ]
    },
    {
     "name": "stdout",
     "output_type": "stream",
     "text": [
      "Max pixel:  56.22\n",
      "camera complete\n",
      "PCA: 3.666666666666667\n",
      "powermeter complete\n",
      "948.365478515625\n",
      "spectrometer complete\n",
      "n_frames 50\n"
     ]
    },
    {
     "name": "stderr",
     "output_type": "stream",
     "text": [
      "\n",
      "\n",
      " 95%|█████████▌| 19/20 [02:25<00:07,  7.31s/it]\u001B[A\u001B[A"
     ]
    },
    {
     "name": "stdout",
     "output_type": "stream",
     "text": [
      "Max pixel:  67.08\n",
      "camera complete\n",
      "PCA: 3.666666666666667\n",
      "powermeter complete\n",
      "948.2860107421875\n",
      "spectrometer complete\n",
      "n_frames 50\n"
     ]
    },
    {
     "name": "stderr",
     "output_type": "stream",
     "text": [
      "\n",
      "\n",
      "100%|██████████| 20/20 [02:33<00:00,  7.66s/it]\u001B[A\u001B[A\n",
      "\n",
      " 40%|████      | 4/10 [10:14<15:21, 153.57s/it]\u001B[A"
     ]
    },
    {
     "name": "stdout",
     "output_type": "stream",
     "text": [
      "Max pixel:  30.04\n",
      "camera complete\n",
      "20240820_162236 20240820_162502\n",
      "1.8888888888888893\n",
      "41231\n"
     ]
    },
    {
     "name": "stderr",
     "output_type": "stream",
     "text": [
      "\n",
      "\n",
      "  0%|          | 0/20 [00:00<?, ?it/s]\u001B[A\u001B[A"
     ]
    },
    {
     "name": "stdout",
     "output_type": "stream",
     "text": [
      "PCA: 1.8888888888888893\n",
      "powermeter complete\n",
      "913.5103149414062\n",
      "spectrometer complete\n",
      "n_frames 2\n",
      "Max pixel:  205.5\n",
      "camera complete\n"
     ]
    },
    {
     "name": "stderr",
     "output_type": "stream",
     "text": [
      "\n",
      "\n",
      "  5%|▌         | 1/20 [00:07<02:24,  7.62s/it]\u001B[A\u001B[A"
     ]
    },
    {
     "name": "stdout",
     "output_type": "stream",
     "text": [
      "PCA: 1.8888888888888893\n",
      "powermeter complete\n",
      "913.6888427734375\n",
      "spectrometer complete\n",
      "n_frames 50\n"
     ]
    },
    {
     "name": "stderr",
     "output_type": "stream",
     "text": [
      "\n",
      "\n",
      " 10%|█         | 2/20 [00:15<02:15,  7.53s/it]\u001B[A\u001B[A"
     ]
    },
    {
     "name": "stdout",
     "output_type": "stream",
     "text": [
      "Max pixel:  6.08\n",
      "camera complete\n",
      "PCA: 1.8888888888888893\n",
      "powermeter complete\n",
      "913.599609375\n",
      "spectrometer complete\n",
      "n_frames 4\n",
      "Max pixel:  222.75\n",
      "camera complete\n"
     ]
    },
    {
     "name": "stderr",
     "output_type": "stream",
     "text": [
      "\n",
      "\n",
      " 15%|█▌        | 3/20 [00:22<02:07,  7.52s/it]\u001B[A\u001B[A"
     ]
    },
    {
     "name": "stdout",
     "output_type": "stream",
     "text": [
      "PCA: 1.8888888888888893\n",
      "powermeter complete\n",
      "947.570068359375\n",
      "spectrometer complete\n",
      "n_frames 50\n"
     ]
    },
    {
     "name": "stderr",
     "output_type": "stream",
     "text": [
      "\n",
      "\n",
      " 20%|██        | 4/20 [00:35<02:35,  9.74s/it]\u001B[A\u001B[A"
     ]
    },
    {
     "name": "stdout",
     "output_type": "stream",
     "text": [
      "Max pixel:  6.38\n",
      "camera complete\n",
      "PCA: 1.8888888888888893\n",
      "powermeter complete\n",
      "947.6497192382812\n",
      "spectrometer complete\n",
      "n_frames 50\n"
     ]
    },
    {
     "name": "stderr",
     "output_type": "stream",
     "text": [
      "\n",
      "\n",
      " 25%|██▌       | 5/20 [00:43<02:13,  8.89s/it]\u001B[A\u001B[A"
     ]
    },
    {
     "name": "stdout",
     "output_type": "stream",
     "text": [
      "Max pixel:  228.48\n",
      "camera complete\n",
      "PCA: 1.8888888888888893\n",
      "powermeter complete\n",
      "947.7293701171875\n",
      "spectrometer complete\n",
      "n_frames 50\n"
     ]
    },
    {
     "name": "stderr",
     "output_type": "stream",
     "text": [
      "\n",
      "\n",
      " 30%|███       | 6/20 [00:50<01:57,  8.37s/it]\u001B[A\u001B[A"
     ]
    },
    {
     "name": "stdout",
     "output_type": "stream",
     "text": [
      "Max pixel:  109.04\n",
      "camera complete\n",
      "PCA: 1.8888888888888893\n",
      "powermeter complete\n",
      "947.7293701171875\n",
      "spectrometer complete\n",
      "n_frames 50\n"
     ]
    },
    {
     "name": "stderr",
     "output_type": "stream",
     "text": [
      "\n",
      "\n",
      " 35%|███▌      | 7/20 [00:57<01:44,  8.07s/it]\u001B[A\u001B[A"
     ]
    },
    {
     "name": "stdout",
     "output_type": "stream",
     "text": [
      "Max pixel:  144.68\n",
      "camera complete\n",
      "PCA: 1.8888888888888893\n",
      "powermeter complete\n",
      "947.570068359375\n",
      "spectrometer complete\n",
      "n_frames 50\n"
     ]
    },
    {
     "name": "stderr",
     "output_type": "stream",
     "text": [
      "\n",
      "\n",
      " 40%|████      | 8/20 [01:05<01:34,  7.86s/it]\u001B[A\u001B[A"
     ]
    },
    {
     "name": "stdout",
     "output_type": "stream",
     "text": [
      "Max pixel:  169.22\n",
      "camera complete\n",
      "PCA: 1.8888888888888893\n",
      "powermeter complete\n",
      "947.570068359375\n",
      "spectrometer complete\n",
      "n_frames 50\n"
     ]
    },
    {
     "name": "stderr",
     "output_type": "stream",
     "text": [
      "\n",
      "\n",
      " 45%|████▌     | 9/20 [01:12<01:24,  7.68s/it]\u001B[A\u001B[A"
     ]
    },
    {
     "name": "stdout",
     "output_type": "stream",
     "text": [
      "Max pixel:  77.94\n",
      "camera complete\n",
      "PCA: 1.8888888888888893\n",
      "powermeter complete\n",
      "947.4903564453125\n",
      "spectrometer complete\n",
      "n_frames 50\n"
     ]
    },
    {
     "name": "stderr",
     "output_type": "stream",
     "text": [
      "\n",
      "\n",
      " 50%|█████     | 10/20 [01:19<01:15,  7.58s/it]\u001B[A\u001B[A"
     ]
    },
    {
     "name": "stdout",
     "output_type": "stream",
     "text": [
      "Max pixel:  127.4\n",
      "camera complete\n",
      "PCA: 1.8888888888888893\n",
      "powermeter complete\n",
      "947.4107055664062\n",
      "spectrometer complete\n",
      "n_frames 50\n"
     ]
    },
    {
     "name": "stderr",
     "output_type": "stream",
     "text": [
      "\n",
      "\n",
      " 55%|█████▌    | 11/20 [01:27<01:07,  7.51s/it]\u001B[A\u001B[A"
     ]
    },
    {
     "name": "stdout",
     "output_type": "stream",
     "text": [
      "Max pixel:  120.98\n",
      "camera complete\n",
      "PCA: 1.8888888888888893\n",
      "powermeter complete\n",
      "947.4107055664062\n",
      "spectrometer complete\n",
      "n_frames 50\n"
     ]
    },
    {
     "name": "stderr",
     "output_type": "stream",
     "text": [
      "\n",
      "\n",
      " 60%|██████    | 12/20 [01:34<00:59,  7.47s/it]\u001B[A\u001B[A"
     ]
    },
    {
     "name": "stdout",
     "output_type": "stream",
     "text": [
      "Max pixel:  183.6\n",
      "camera complete\n",
      "PCA: 1.8888888888888893\n",
      "powermeter complete\n",
      "947.4107055664062\n",
      "spectrometer complete\n",
      "n_frames 50\n"
     ]
    },
    {
     "name": "stderr",
     "output_type": "stream",
     "text": [
      "\n",
      "\n",
      " 65%|██████▌   | 13/20 [01:42<00:51,  7.42s/it]\u001B[A\u001B[A"
     ]
    },
    {
     "name": "stdout",
     "output_type": "stream",
     "text": [
      "Max pixel:  123.5\n",
      "camera complete\n",
      "PCA: 1.8888888888888893\n",
      "powermeter complete\n",
      "947.3310546875\n",
      "spectrometer complete\n",
      "n_frames 50\n"
     ]
    },
    {
     "name": "stderr",
     "output_type": "stream",
     "text": [
      "\n",
      "\n",
      " 70%|███████   | 14/20 [01:49<00:44,  7.39s/it]\u001B[A\u001B[A"
     ]
    },
    {
     "name": "stdout",
     "output_type": "stream",
     "text": [
      "Max pixel:  172.82\n",
      "camera complete\n",
      "PCA: 1.8888888888888893\n",
      "powermeter complete\n",
      "947.1715087890625\n",
      "spectrometer complete\n",
      "n_frames 50\n"
     ]
    },
    {
     "name": "stderr",
     "output_type": "stream",
     "text": [
      "\n",
      "\n",
      " 75%|███████▌  | 15/20 [01:56<00:36,  7.36s/it]\u001B[A\u001B[A"
     ]
    },
    {
     "name": "stdout",
     "output_type": "stream",
     "text": [
      "Max pixel:  101.64\n",
      "camera complete\n",
      "PCA: 1.8888888888888893\n",
      "powermeter complete\n",
      "947.3310546875\n",
      "spectrometer complete\n",
      "n_frames 50\n"
     ]
    },
    {
     "name": "stderr",
     "output_type": "stream",
     "text": [
      "\n",
      "\n",
      " 80%|████████  | 16/20 [02:03<00:29,  7.33s/it]\u001B[A\u001B[A"
     ]
    },
    {
     "name": "stdout",
     "output_type": "stream",
     "text": [
      "Max pixel:  21.82\n",
      "camera complete\n",
      "PCA: 1.8888888888888893\n",
      "powermeter complete\n",
      "947.2512817382812\n",
      "spectrometer complete\n",
      "n_frames 50\n"
     ]
    },
    {
     "name": "stderr",
     "output_type": "stream",
     "text": [
      "\n",
      "\n",
      " 85%|████████▌ | 17/20 [02:11<00:21,  7.31s/it]\u001B[A\u001B[A"
     ]
    },
    {
     "name": "stdout",
     "output_type": "stream",
     "text": [
      "Max pixel:  57.2\n",
      "camera complete\n",
      "PCA: 1.8888888888888893\n",
      "powermeter complete\n",
      "947.1715087890625\n",
      "spectrometer complete\n",
      "n_frames 50\n"
     ]
    },
    {
     "name": "stderr",
     "output_type": "stream",
     "text": [
      "\n",
      "\n",
      " 90%|█████████ | 18/20 [02:18<00:14,  7.31s/it]\u001B[A\u001B[A"
     ]
    },
    {
     "name": "stdout",
     "output_type": "stream",
     "text": [
      "Max pixel:  143.78\n",
      "camera complete\n",
      "PCA: 1.8888888888888893\n",
      "powermeter complete\n",
      "947.4107055664062\n",
      "spectrometer complete\n",
      "n_frames 50\n"
     ]
    },
    {
     "name": "stderr",
     "output_type": "stream",
     "text": [
      "\n",
      "\n",
      " 95%|█████████▌| 19/20 [02:25<00:07,  7.32s/it]\u001B[A\u001B[A"
     ]
    },
    {
     "name": "stdout",
     "output_type": "stream",
     "text": [
      "Max pixel:  177.1\n",
      "camera complete\n",
      "PCA: 1.8888888888888893\n",
      "powermeter complete\n",
      "947.1715087890625\n",
      "spectrometer complete\n",
      "n_frames 50\n"
     ]
    },
    {
     "name": "stderr",
     "output_type": "stream",
     "text": [
      "\n",
      "\n",
      "100%|██████████| 20/20 [02:33<00:00,  7.66s/it]\u001B[A\u001B[A\n",
      "\n",
      " 50%|█████     | 5/10 [12:47<12:47, 153.49s/it]\u001B[A"
     ]
    },
    {
     "name": "stdout",
     "output_type": "stream",
     "text": [
      "Max pixel:  182.72\n",
      "camera complete\n",
      "20240820_162510 20240820_162736\n",
      "0.11111111111111072\n",
      "41231\n"
     ]
    },
    {
     "name": "stderr",
     "output_type": "stream",
     "text": [
      "\n",
      "\n",
      "  0%|          | 0/20 [00:00<?, ?it/s]\u001B[A\u001B[A"
     ]
    },
    {
     "name": "stdout",
     "output_type": "stream",
     "text": [
      "PCA: 0.11111111111111072\n",
      "powermeter complete\n",
      "910.8218994140625\n",
      "spectrometer complete\n",
      "n_frames 2\n",
      "Max pixel:  204.5\n",
      "camera complete\n"
     ]
    },
    {
     "name": "stderr",
     "output_type": "stream",
     "text": [
      "\n",
      "\n",
      "  5%|▌         | 1/20 [00:07<02:26,  7.69s/it]\u001B[A\u001B[A"
     ]
    },
    {
     "name": "stdout",
     "output_type": "stream",
     "text": [
      "PCA: 0.11111111111111072\n",
      "powermeter complete\n",
      "910.1015014648438\n",
      "spectrometer complete\n",
      "n_frames 50\n"
     ]
    },
    {
     "name": "stderr",
     "output_type": "stream",
     "text": [
      "\n",
      "\n",
      " 10%|█         | 2/20 [00:15<02:18,  7.70s/it]\u001B[A\u001B[A"
     ]
    },
    {
     "name": "stdout",
     "output_type": "stream",
     "text": [
      "Max pixel:  11.16\n",
      "camera complete\n",
      "PCA: 0.11111111111111072\n",
      "powermeter complete\n",
      "946.4525146484375\n",
      "spectrometer complete\n",
      "n_frames 8\n",
      "Max pixel:  166.0\n",
      "camera complete\n"
     ]
    },
    {
     "name": "stderr",
     "output_type": "stream",
     "text": [
      "\n",
      "\n",
      " 15%|█▌        | 3/20 [00:22<02:08,  7.55s/it]\u001B[A\u001B[A"
     ]
    },
    {
     "name": "stdout",
     "output_type": "stream",
     "text": [
      "PCA: 0.11111111111111072\n",
      "powermeter complete\n",
      "946.2924194335938\n",
      "spectrometer complete\n",
      "n_frames 50\n"
     ]
    },
    {
     "name": "stderr",
     "output_type": "stream",
     "text": [
      "\n",
      "\n",
      " 20%|██        | 4/20 [00:36<02:37,  9.84s/it]\u001B[A\u001B[A"
     ]
    },
    {
     "name": "stdout",
     "output_type": "stream",
     "text": [
      "Max pixel:  191.56\n",
      "camera complete\n",
      "PCA: 0.11111111111111072\n",
      "powermeter complete\n",
      "946.2924194335938\n",
      "spectrometer complete\n",
      "n_frames 50\n"
     ]
    },
    {
     "name": "stderr",
     "output_type": "stream",
     "text": [
      "\n",
      "\n",
      " 25%|██▌       | 5/20 [00:43<02:14,  8.98s/it]\u001B[A\u001B[A"
     ]
    },
    {
     "name": "stdout",
     "output_type": "stream",
     "text": [
      "Max pixel:  181.84\n",
      "camera complete\n",
      "PCA: 0.11111111111111072\n",
      "powermeter complete\n",
      "946.2924194335938\n",
      "spectrometer complete\n",
      "n_frames 50\n"
     ]
    },
    {
     "name": "stderr",
     "output_type": "stream",
     "text": [
      "\n",
      "\n",
      " 30%|███       | 6/20 [00:50<01:58,  8.45s/it]\u001B[A\u001B[A"
     ]
    },
    {
     "name": "stdout",
     "output_type": "stream",
     "text": [
      "Max pixel:  206.04\n",
      "camera complete\n",
      "PCA: 0.11111111111111072\n",
      "powermeter complete\n",
      "946.2924194335938\n",
      "spectrometer complete\n",
      "n_frames 50\n"
     ]
    },
    {
     "name": "stderr",
     "output_type": "stream",
     "text": [
      "\n",
      "\n",
      " 35%|███▌      | 7/20 [00:58<01:45,  8.09s/it]\u001B[A\u001B[A"
     ]
    },
    {
     "name": "stdout",
     "output_type": "stream",
     "text": [
      "Max pixel:  128.3\n",
      "camera complete\n",
      "PCA: 0.11111111111111072\n",
      "powermeter complete\n",
      "946.2123413085938\n",
      "spectrometer complete\n",
      "n_frames 50\n"
     ]
    },
    {
     "name": "stderr",
     "output_type": "stream",
     "text": [
      "\n",
      "\n",
      " 40%|████      | 8/20 [01:05<01:34,  7.86s/it]\u001B[A\u001B[A"
     ]
    },
    {
     "name": "stdout",
     "output_type": "stream",
     "text": [
      "Max pixel:  134.62\n",
      "camera complete\n",
      "PCA: 0.11111111111111072\n",
      "powermeter complete\n",
      "946.2123413085938\n",
      "spectrometer complete\n",
      "n_frames 50\n"
     ]
    },
    {
     "name": "stderr",
     "output_type": "stream",
     "text": [
      "\n",
      "\n",
      " 45%|████▌     | 9/20 [01:13<01:24,  7.71s/it]\u001B[A\u001B[A"
     ]
    },
    {
     "name": "stdout",
     "output_type": "stream",
     "text": [
      "Max pixel:  142.64\n",
      "camera complete\n",
      "PCA: 0.11111111111111072\n",
      "powermeter complete\n",
      "946.1322021484375\n",
      "spectrometer complete\n",
      "n_frames 50\n"
     ]
    },
    {
     "name": "stderr",
     "output_type": "stream",
     "text": [
      "\n",
      "\n",
      " 50%|█████     | 10/20 [01:20<01:16,  7.62s/it]\u001B[A\u001B[A"
     ]
    },
    {
     "name": "stdout",
     "output_type": "stream",
     "text": [
      "Max pixel:  133.02\n",
      "camera complete\n",
      "PCA: 0.11111111111111072\n",
      "powermeter complete\n",
      "946.1322021484375\n",
      "spectrometer complete\n",
      "n_frames 50\n"
     ]
    },
    {
     "name": "stderr",
     "output_type": "stream",
     "text": [
      "\n",
      "\n",
      " 55%|█████▌    | 11/20 [01:27<01:07,  7.53s/it]\u001B[A\u001B[A"
     ]
    },
    {
     "name": "stdout",
     "output_type": "stream",
     "text": [
      "Max pixel:  167.6\n",
      "camera complete\n",
      "PCA: 0.11111111111111072\n",
      "powermeter complete\n",
      "946.1322021484375\n",
      "spectrometer complete\n",
      "n_frames 50\n"
     ]
    },
    {
     "name": "stderr",
     "output_type": "stream",
     "text": [
      "\n",
      "\n",
      " 60%|██████    | 12/20 [01:35<00:59,  7.49s/it]\u001B[A\u001B[A"
     ]
    },
    {
     "name": "stdout",
     "output_type": "stream",
     "text": [
      "Max pixel:  50.96\n",
      "camera complete\n",
      "PCA: 0.11111111111111072\n",
      "powermeter complete\n",
      "945.9719848632812\n",
      "spectrometer complete\n",
      "n_frames 50\n"
     ]
    },
    {
     "name": "stderr",
     "output_type": "stream",
     "text": [
      "\n",
      "\n",
      " 65%|██████▌   | 13/20 [01:42<00:52,  7.46s/it]\u001B[A\u001B[A"
     ]
    },
    {
     "name": "stdout",
     "output_type": "stream",
     "text": [
      "Max pixel:  162.8\n",
      "camera complete\n",
      "PCA: 0.11111111111111072\n",
      "powermeter complete\n",
      "945.891845703125\n",
      "spectrometer complete\n",
      "n_frames 50\n"
     ]
    },
    {
     "name": "stderr",
     "output_type": "stream",
     "text": [
      "\n",
      "\n",
      " 70%|███████   | 14/20 [01:50<00:44,  7.44s/it]\u001B[A\u001B[A"
     ]
    },
    {
     "name": "stdout",
     "output_type": "stream",
     "text": [
      "Max pixel:  204.64\n",
      "camera complete\n",
      "PCA: 0.11111111111111072\n",
      "powermeter complete\n",
      "945.9719848632812\n",
      "spectrometer complete\n",
      "n_frames 50\n"
     ]
    },
    {
     "name": "stderr",
     "output_type": "stream",
     "text": [
      "\n",
      "\n",
      " 75%|███████▌  | 15/20 [01:57<00:37,  7.42s/it]\u001B[A\u001B[A"
     ]
    },
    {
     "name": "stdout",
     "output_type": "stream",
     "text": [
      "Max pixel:  159.64\n",
      "camera complete\n",
      "PCA: 0.11111111111111072\n",
      "powermeter complete\n",
      "945.8116455078125\n",
      "spectrometer complete\n",
      "n_frames 50\n"
     ]
    },
    {
     "name": "stderr",
     "output_type": "stream",
     "text": [
      "\n",
      "\n",
      " 80%|████████  | 16/20 [02:04<00:29,  7.39s/it]\u001B[A\u001B[A"
     ]
    },
    {
     "name": "stdout",
     "output_type": "stream",
     "text": [
      "Max pixel:  141.74\n",
      "camera complete\n",
      "PCA: 0.11111111111111072\n",
      "powermeter complete\n",
      "945.8116455078125\n",
      "spectrometer complete\n",
      "n_frames 50\n"
     ]
    },
    {
     "name": "stderr",
     "output_type": "stream",
     "text": [
      "\n",
      "\n",
      " 85%|████████▌ | 17/20 [02:11<00:22,  7.35s/it]\u001B[A\u001B[A"
     ]
    },
    {
     "name": "stdout",
     "output_type": "stream",
     "text": [
      "Max pixel:  27.88\n",
      "camera complete\n",
      "PCA: 0.11111111111111072\n",
      "powermeter complete\n",
      "945.8116455078125\n",
      "spectrometer complete\n",
      "n_frames 50\n"
     ]
    },
    {
     "name": "stderr",
     "output_type": "stream",
     "text": [
      "\n",
      "\n",
      " 90%|█████████ | 18/20 [02:19<00:14,  7.33s/it]\u001B[A\u001B[A"
     ]
    },
    {
     "name": "stdout",
     "output_type": "stream",
     "text": [
      "Max pixel:  32.46\n",
      "camera complete\n",
      "PCA: 0.11111111111111072\n",
      "powermeter complete\n",
      "945.8116455078125\n",
      "spectrometer complete\n",
      "n_frames 50\n"
     ]
    },
    {
     "name": "stderr",
     "output_type": "stream",
     "text": [
      "\n",
      "\n",
      " 95%|█████████▌| 19/20 [02:26<00:07,  7.31s/it]\u001B[A\u001B[A"
     ]
    },
    {
     "name": "stdout",
     "output_type": "stream",
     "text": [
      "Max pixel:  35.62\n",
      "camera complete\n",
      "PCA: 0.11111111111111072\n",
      "powermeter complete\n",
      "945.891845703125\n",
      "spectrometer complete\n",
      "n_frames 50\n"
     ]
    },
    {
     "name": "stderr",
     "output_type": "stream",
     "text": [
      "\n",
      "\n",
      "100%|██████████| 20/20 [02:33<00:00,  7.69s/it]\u001B[A\u001B[A\n",
      "\n",
      " 60%|██████    | 6/10 [15:21<10:14, 153.67s/it]\u001B[A"
     ]
    },
    {
     "name": "stdout",
     "output_type": "stream",
     "text": [
      "Max pixel:  220.54\n",
      "camera complete\n",
      "20240820_162743 20240820_163010\n",
      "-1.666666666666666\n",
      "41231\n"
     ]
    },
    {
     "name": "stderr",
     "output_type": "stream",
     "text": [
      "\n",
      "\n",
      "  0%|          | 0/20 [00:00<?, ?it/s]\u001B[A\u001B[A"
     ]
    },
    {
     "name": "stdout",
     "output_type": "stream",
     "text": [
      "PCA: -1.666666666666666\n",
      "powermeter complete\n",
      "910.8218994140625\n",
      "spectrometer complete\n",
      "n_frames 2\n",
      "Max pixel:  201.0\n",
      "camera complete\n"
     ]
    },
    {
     "name": "stderr",
     "output_type": "stream",
     "text": [
      "\n",
      "\n",
      "  5%|▌         | 1/20 [00:07<02:26,  7.71s/it]\u001B[A\u001B[A"
     ]
    },
    {
     "name": "stdout",
     "output_type": "stream",
     "text": [
      "PCA: -1.666666666666666\n",
      "powermeter complete\n",
      "917.5921630859375\n",
      "spectrometer complete\n",
      "n_frames 50\n"
     ]
    },
    {
     "name": "stderr",
     "output_type": "stream",
     "text": [
      "\n",
      "\n",
      " 10%|█         | 2/20 [00:15<02:16,  7.57s/it]\u001B[A\u001B[A"
     ]
    },
    {
     "name": "stdout",
     "output_type": "stream",
     "text": [
      "Max pixel:  6.08\n",
      "camera complete\n",
      "PCA: -1.666666666666666\n",
      "powermeter complete\n",
      "944.7669067382812\n",
      "spectrometer complete\n",
      "n_frames 16\n"
     ]
    },
    {
     "name": "stderr",
     "output_type": "stream",
     "text": [
      "\n",
      "\n",
      " 15%|█▌        | 3/20 [00:22<02:07,  7.47s/it]\u001B[A\u001B[A"
     ]
    },
    {
     "name": "stdout",
     "output_type": "stream",
     "text": [
      "Max pixel:  125.1875\n",
      "camera complete\n",
      "PCA: -1.666666666666666\n",
      "powermeter complete\n",
      "944.9279174804688\n",
      "spectrometer complete\n",
      "n_frames 50\n"
     ]
    },
    {
     "name": "stderr",
     "output_type": "stream",
     "text": [
      "\n",
      "\n",
      " 20%|██        | 4/20 [00:35<02:36,  9.80s/it]\u001B[A\u001B[A"
     ]
    },
    {
     "name": "stdout",
     "output_type": "stream",
     "text": [
      "Max pixel:  240.38\n",
      "camera complete\n",
      "PCA: -1.666666666666666\n",
      "powermeter complete\n",
      "944.8474731445312\n",
      "spectrometer complete\n",
      "n_frames 50\n"
     ]
    },
    {
     "name": "stderr",
     "output_type": "stream",
     "text": [
      "\n",
      "\n",
      " 25%|██▌       | 5/20 [00:43<02:13,  8.90s/it]\u001B[A\u001B[A"
     ]
    },
    {
     "name": "stdout",
     "output_type": "stream",
     "text": [
      "Max pixel:  216.28\n",
      "camera complete\n",
      "PCA: -1.666666666666666\n",
      "powermeter complete\n",
      "944.8474731445312\n",
      "spectrometer complete\n",
      "n_frames 50\n"
     ]
    },
    {
     "name": "stderr",
     "output_type": "stream",
     "text": [
      "\n",
      "\n",
      " 30%|███       | 6/20 [00:50<01:57,  8.39s/it]\u001B[A\u001B[A"
     ]
    },
    {
     "name": "stdout",
     "output_type": "stream",
     "text": [
      "Max pixel:  92.74\n",
      "camera complete\n",
      "PCA: -1.666666666666666\n",
      "powermeter complete\n",
      "944.9279174804688\n",
      "spectrometer complete\n",
      "n_frames 50\n"
     ]
    },
    {
     "name": "stderr",
     "output_type": "stream",
     "text": [
      "\n",
      "\n",
      " 35%|███▌      | 7/20 [00:57<01:44,  8.04s/it]\u001B[A\u001B[A"
     ]
    },
    {
     "name": "stdout",
     "output_type": "stream",
     "text": [
      "Max pixel:  128.4\n",
      "camera complete\n",
      "PCA: -1.666666666666666\n",
      "powermeter complete\n",
      "944.6864013671875\n",
      "spectrometer complete\n",
      "n_frames 50\n"
     ]
    },
    {
     "name": "stderr",
     "output_type": "stream",
     "text": [
      "\n",
      "\n",
      " 40%|████      | 8/20 [01:05<01:33,  7.81s/it]\u001B[A\u001B[A"
     ]
    },
    {
     "name": "stdout",
     "output_type": "stream",
     "text": [
      "Max pixel:  85.98\n",
      "camera complete\n",
      "PCA: -1.666666666666666\n",
      "powermeter complete\n",
      "944.6864013671875\n",
      "spectrometer complete\n",
      "n_frames 50\n"
     ]
    },
    {
     "name": "stderr",
     "output_type": "stream",
     "text": [
      "\n",
      "\n",
      " 45%|████▌     | 9/20 [01:12<01:24,  7.64s/it]\u001B[A\u001B[A"
     ]
    },
    {
     "name": "stdout",
     "output_type": "stream",
     "text": [
      "Max pixel:  109.68\n",
      "camera complete\n",
      "PCA: -1.666666666666666\n",
      "powermeter complete\n",
      "944.6864013671875\n",
      "spectrometer complete\n",
      "n_frames 50\n"
     ]
    },
    {
     "name": "stderr",
     "output_type": "stream",
     "text": [
      "\n",
      "\n",
      " 50%|█████     | 10/20 [01:19<01:15,  7.53s/it]\u001B[A\u001B[A"
     ]
    },
    {
     "name": "stdout",
     "output_type": "stream",
     "text": [
      "Max pixel:  62.48\n",
      "camera complete\n",
      "PCA: -1.666666666666666\n",
      "powermeter complete\n",
      "944.6058959960938\n",
      "spectrometer complete\n",
      "n_frames 50\n"
     ]
    },
    {
     "name": "stderr",
     "output_type": "stream",
     "text": [
      "\n",
      "\n",
      " 55%|█████▌    | 11/20 [01:27<01:07,  7.46s/it]\u001B[A\u001B[A"
     ]
    },
    {
     "name": "stdout",
     "output_type": "stream",
     "text": [
      "Max pixel:  177.34\n",
      "camera complete\n",
      "PCA: -1.666666666666666\n",
      "powermeter complete\n",
      "944.5253295898438\n",
      "spectrometer complete\n",
      "n_frames 50\n"
     ]
    },
    {
     "name": "stderr",
     "output_type": "stream",
     "text": [
      "\n",
      "\n",
      " 60%|██████    | 12/20 [01:34<00:59,  7.42s/it]\u001B[A\u001B[A"
     ]
    },
    {
     "name": "stdout",
     "output_type": "stream",
     "text": [
      "Max pixel:  158.94\n",
      "camera complete\n",
      "PCA: -1.666666666666666\n",
      "powermeter complete\n",
      "944.6058959960938\n",
      "spectrometer complete\n",
      "n_frames 50\n"
     ]
    },
    {
     "name": "stderr",
     "output_type": "stream",
     "text": [
      "\n",
      "\n",
      " 65%|██████▌   | 13/20 [01:41<00:51,  7.39s/it]\u001B[A\u001B[A"
     ]
    },
    {
     "name": "stdout",
     "output_type": "stream",
     "text": [
      "Max pixel:  70.06\n",
      "camera complete\n",
      "PCA: -1.666666666666666\n",
      "powermeter complete\n",
      "944.5253295898438\n",
      "spectrometer complete\n",
      "n_frames 50\n"
     ]
    },
    {
     "name": "stderr",
     "output_type": "stream",
     "text": [
      "\n",
      "\n",
      " 70%|███████   | 14/20 [01:48<00:44,  7.34s/it]\u001B[A\u001B[A"
     ]
    },
    {
     "name": "stdout",
     "output_type": "stream",
     "text": [
      "Max pixel:  193.7\n",
      "camera complete\n",
      "PCA: -1.666666666666666\n",
      "powermeter complete\n",
      "944.4447021484375\n",
      "spectrometer complete\n",
      "n_frames 50\n"
     ]
    },
    {
     "name": "stderr",
     "output_type": "stream",
     "text": [
      "\n",
      "\n",
      " 75%|███████▌  | 15/20 [01:56<00:36,  7.35s/it]\u001B[A\u001B[A"
     ]
    },
    {
     "name": "stdout",
     "output_type": "stream",
     "text": [
      "Max pixel:  69.18\n",
      "camera complete\n",
      "PCA: -1.666666666666666\n",
      "powermeter complete\n",
      "944.5253295898438\n",
      "spectrometer complete\n",
      "n_frames 50\n"
     ]
    },
    {
     "name": "stderr",
     "output_type": "stream",
     "text": [
      "\n",
      "\n",
      " 80%|████████  | 16/20 [02:03<00:29,  7.36s/it]\u001B[A\u001B[A"
     ]
    },
    {
     "name": "stdout",
     "output_type": "stream",
     "text": [
      "Max pixel:  215.62\n",
      "camera complete\n",
      "PCA: -1.666666666666666\n",
      "powermeter complete\n",
      "944.8474731445312\n",
      "spectrometer complete\n",
      "n_frames 50\n"
     ]
    },
    {
     "name": "stderr",
     "output_type": "stream",
     "text": [
      "\n",
      "\n",
      " 85%|████████▌ | 17/20 [02:10<00:21,  7.33s/it]\u001B[A\u001B[A"
     ]
    },
    {
     "name": "stdout",
     "output_type": "stream",
     "text": [
      "Max pixel:  37.3\n",
      "camera complete\n",
      "PCA: -1.666666666666666\n",
      "powermeter complete\n",
      "944.7669067382812\n",
      "spectrometer complete\n",
      "n_frames 50\n"
     ]
    },
    {
     "name": "stderr",
     "output_type": "stream",
     "text": [
      "\n",
      "\n",
      " 90%|█████████ | 18/20 [02:18<00:14,  7.34s/it]\u001B[A\u001B[A"
     ]
    },
    {
     "name": "stdout",
     "output_type": "stream",
     "text": [
      "Max pixel:  90.92\n",
      "camera complete\n",
      "PCA: -1.666666666666666\n",
      "powermeter complete\n",
      "944.7669067382812\n",
      "spectrometer complete\n",
      "n_frames 50\n"
     ]
    },
    {
     "name": "stderr",
     "output_type": "stream",
     "text": [
      "\n",
      "\n",
      " 95%|█████████▌| 19/20 [02:25<00:07,  7.37s/it]\u001B[A\u001B[A"
     ]
    },
    {
     "name": "stdout",
     "output_type": "stream",
     "text": [
      "Max pixel:  217.56\n",
      "camera complete\n",
      "PCA: -1.666666666666666\n",
      "powermeter complete\n",
      "944.6864013671875\n",
      "spectrometer complete\n",
      "n_frames 50\n"
     ]
    },
    {
     "name": "stderr",
     "output_type": "stream",
     "text": [
      "\n",
      "\n",
      "100%|██████████| 20/20 [02:33<00:00,  7.66s/it]\u001B[A\u001B[A\n",
      "\n",
      " 70%|███████   | 7/10 [17:55<07:40, 153.54s/it]\u001B[A"
     ]
    },
    {
     "name": "stdout",
     "output_type": "stream",
     "text": [
      "Max pixel:  27.42\n",
      "camera complete\n",
      "20240820_163017 20240820_163243\n",
      "-3.444444444444443\n",
      "41231\n"
     ]
    },
    {
     "name": "stderr",
     "output_type": "stream",
     "text": [
      "\n",
      "\n",
      "  0%|          | 0/20 [00:00<?, ?it/s]\u001B[A\u001B[A"
     ]
    },
    {
     "name": "stdout",
     "output_type": "stream",
     "text": [
      "PCA: -3.444444444444443\n",
      "powermeter complete\n",
      "910.73193359375\n",
      "spectrometer complete\n",
      "n_frames 2\n",
      "Max pixel:  201.5\n",
      "camera complete\n"
     ]
    },
    {
     "name": "stderr",
     "output_type": "stream",
     "text": [
      "\n",
      "\n",
      "  5%|▌         | 1/20 [00:07<02:25,  7.67s/it]\u001B[A\u001B[A"
     ]
    },
    {
     "name": "stdout",
     "output_type": "stream",
     "text": [
      "PCA: -3.444444444444443\n",
      "powermeter complete\n",
      "913.331787109375\n",
      "spectrometer complete\n",
      "n_frames 50\n"
     ]
    },
    {
     "name": "stderr",
     "output_type": "stream",
     "text": [
      "\n",
      "\n",
      " 10%|█         | 2/20 [00:15<02:18,  7.70s/it]\u001B[A\u001B[A"
     ]
    },
    {
     "name": "stdout",
     "output_type": "stream",
     "text": [
      "Max pixel:  11.16\n",
      "camera complete\n",
      "PCA: -3.444444444444443\n",
      "powermeter complete\n",
      "920.4027709960938\n",
      "spectrometer complete\n",
      "n_frames 8\n",
      "Max pixel:  186.875\n",
      "camera complete\n"
     ]
    },
    {
     "name": "stderr",
     "output_type": "stream",
     "text": [
      "\n",
      "\n",
      " 15%|█▌        | 3/20 [00:22<02:08,  7.57s/it]\u001B[A\u001B[A"
     ]
    },
    {
     "name": "stdout",
     "output_type": "stream",
     "text": [
      "PCA: -3.444444444444443\n",
      "powermeter complete\n",
      "943.6372680664062\n",
      "spectrometer complete\n",
      "n_frames 50\n"
     ]
    },
    {
     "name": "stderr",
     "output_type": "stream",
     "text": [
      "\n",
      "\n",
      " 20%|██        | 4/20 [00:35<02:36,  9.76s/it]\u001B[A\u001B[A"
     ]
    },
    {
     "name": "stdout",
     "output_type": "stream",
     "text": [
      "Max pixel:  9.3\n",
      "camera complete\n",
      "PCA: -3.444444444444443\n",
      "powermeter complete\n",
      "943.556396484375\n",
      "spectrometer complete\n",
      "n_frames 50\n"
     ]
    },
    {
     "name": "stderr",
     "output_type": "stream",
     "text": [
      "\n",
      "\n",
      " 25%|██▌       | 5/20 [00:43<02:13,  8.91s/it]\u001B[A\u001B[A"
     ]
    },
    {
     "name": "stdout",
     "output_type": "stream",
     "text": [
      "Max pixel:  195.52\n",
      "camera complete\n",
      "PCA: -3.444444444444443\n",
      "powermeter complete\n",
      "943.6372680664062\n",
      "spectrometer complete\n",
      "n_frames 50\n"
     ]
    },
    {
     "name": "stderr",
     "output_type": "stream",
     "text": [
      "\n",
      "\n",
      " 30%|███       | 6/20 [00:50<01:57,  8.40s/it]\u001B[A\u001B[A"
     ]
    },
    {
     "name": "stdout",
     "output_type": "stream",
     "text": [
      "Max pixel:  101.04\n",
      "camera complete\n",
      "PCA: -3.444444444444443\n",
      "powermeter complete\n",
      "943.7181396484375\n",
      "spectrometer complete\n",
      "n_frames 50\n"
     ]
    },
    {
     "name": "stderr",
     "output_type": "stream",
     "text": [
      "\n",
      "\n",
      " 35%|███▌      | 7/20 [00:58<01:45,  8.12s/it]\u001B[A\u001B[A"
     ]
    },
    {
     "name": "stdout",
     "output_type": "stream",
     "text": [
      "Max pixel:  246.72\n",
      "camera complete\n",
      "PCA: -3.444444444444443\n",
      "powermeter complete\n",
      "943.8797607421875\n",
      "spectrometer complete\n",
      "n_frames 50\n"
     ]
    },
    {
     "name": "stderr",
     "output_type": "stream",
     "text": [
      "\n",
      "\n",
      " 40%|████      | 8/20 [01:05<01:35,  7.93s/it]\u001B[A\u001B[A"
     ]
    },
    {
     "name": "stdout",
     "output_type": "stream",
     "text": [
      "Max pixel:  73.04\n",
      "camera complete\n",
      "PCA: -3.444444444444443\n",
      "powermeter complete\n",
      "943.6372680664062\n",
      "spectrometer complete\n",
      "n_frames 50\n"
     ]
    },
    {
     "name": "stderr",
     "output_type": "stream",
     "text": [
      "\n",
      "\n",
      " 45%|████▌     | 9/20 [01:13<01:24,  7.72s/it]\u001B[A\u001B[A"
     ]
    },
    {
     "name": "stdout",
     "output_type": "stream",
     "text": [
      "Max pixel:  103.04\n",
      "camera complete\n",
      "PCA: -3.444444444444443\n",
      "powermeter complete\n",
      "943.6372680664062\n",
      "spectrometer complete\n",
      "n_frames 50\n"
     ]
    },
    {
     "name": "stderr",
     "output_type": "stream",
     "text": [
      "\n",
      "\n",
      " 50%|█████     | 10/20 [01:20<01:15,  7.56s/it]\u001B[A\u001B[A"
     ]
    },
    {
     "name": "stdout",
     "output_type": "stream",
     "text": [
      "Max pixel:  71.64\n",
      "camera complete\n",
      "PCA: -3.444444444444443\n",
      "powermeter complete\n",
      "943.7989501953125\n",
      "spectrometer complete\n",
      "n_frames 50\n"
     ]
    },
    {
     "name": "stderr",
     "output_type": "stream",
     "text": [
      "\n",
      "\n",
      " 55%|█████▌    | 11/20 [01:27<01:07,  7.49s/it]\u001B[A\u001B[A"
     ]
    },
    {
     "name": "stdout",
     "output_type": "stream",
     "text": [
      "Max pixel:  141.9\n",
      "camera complete\n",
      "PCA: -3.444444444444443\n",
      "powermeter complete\n",
      "943.6372680664062\n",
      "spectrometer complete\n",
      "n_frames 50\n"
     ]
    },
    {
     "name": "stderr",
     "output_type": "stream",
     "text": [
      "\n",
      "\n",
      " 60%|██████    | 12/20 [01:34<00:59,  7.44s/it]\u001B[A\u001B[A"
     ]
    },
    {
     "name": "stdout",
     "output_type": "stream",
     "text": [
      "Max pixel:  78.18\n",
      "camera complete\n",
      "PCA: -3.444444444444443\n",
      "powermeter complete\n",
      "944.0413208007812\n",
      "spectrometer complete\n",
      "n_frames 50\n"
     ]
    },
    {
     "name": "stderr",
     "output_type": "stream",
     "text": [
      "\n",
      "\n",
      " 65%|██████▌   | 13/20 [01:42<00:51,  7.39s/it]\u001B[A\u001B[A"
     ]
    },
    {
     "name": "stdout",
     "output_type": "stream",
     "text": [
      "Max pixel:  196.02\n",
      "camera complete\n",
      "PCA: -3.444444444444443\n",
      "powermeter complete\n",
      "943.7989501953125\n",
      "spectrometer complete\n",
      "n_frames 50\n"
     ]
    },
    {
     "name": "stderr",
     "output_type": "stream",
     "text": [
      "\n",
      "\n",
      " 70%|███████   | 14/20 [01:49<00:44,  7.41s/it]\u001B[A\u001B[A"
     ]
    },
    {
     "name": "stdout",
     "output_type": "stream",
     "text": [
      "Max pixel:  155.8\n",
      "camera complete\n",
      "PCA: -3.444444444444443\n",
      "powermeter complete\n",
      "944.0413208007812\n",
      "spectrometer complete\n",
      "n_frames 50\n"
     ]
    },
    {
     "name": "stderr",
     "output_type": "stream",
     "text": [
      "\n",
      "\n",
      " 75%|███████▌  | 15/20 [01:57<00:36,  7.40s/it]\u001B[A\u001B[A"
     ]
    },
    {
     "name": "stdout",
     "output_type": "stream",
     "text": [
      "Max pixel:  86.32\n",
      "camera complete\n",
      "PCA: -3.444444444444443\n",
      "powermeter complete\n",
      "943.4755249023438\n",
      "spectrometer complete\n",
      "n_frames 50\n"
     ]
    },
    {
     "name": "stderr",
     "output_type": "stream",
     "text": [
      "\n",
      "\n",
      " 80%|████████  | 16/20 [02:04<00:29,  7.38s/it]\u001B[A\u001B[A"
     ]
    },
    {
     "name": "stdout",
     "output_type": "stream",
     "text": [
      "Max pixel:  156.7\n",
      "camera complete\n",
      "PCA: -3.444444444444443\n",
      "powermeter complete\n",
      "943.3136596679688\n",
      "spectrometer complete\n",
      "n_frames 50\n"
     ]
    },
    {
     "name": "stderr",
     "output_type": "stream",
     "text": [
      "\n",
      "\n",
      " 85%|████████▌ | 17/20 [02:11<00:22,  7.36s/it]\u001B[A\u001B[A"
     ]
    },
    {
     "name": "stdout",
     "output_type": "stream",
     "text": [
      "Max pixel:  127.86\n",
      "camera complete\n",
      "PCA: -3.444444444444443\n",
      "powermeter complete\n",
      "943.0706787109375\n",
      "spectrometer complete\n",
      "n_frames 50\n"
     ]
    },
    {
     "name": "stderr",
     "output_type": "stream",
     "text": [
      "\n",
      "\n",
      " 90%|█████████ | 18/20 [02:19<00:14,  7.37s/it]\u001B[A\u001B[A"
     ]
    },
    {
     "name": "stdout",
     "output_type": "stream",
     "text": [
      "Max pixel:  51.72\n",
      "camera complete\n",
      "PCA: -3.444444444444443\n",
      "powermeter complete\n",
      "943.232666015625\n",
      "spectrometer complete\n",
      "n_frames 50\n"
     ]
    },
    {
     "name": "stderr",
     "output_type": "stream",
     "text": [
      "\n",
      "\n",
      " 95%|█████████▌| 19/20 [02:26<00:07,  7.36s/it]\u001B[A\u001B[A"
     ]
    },
    {
     "name": "stdout",
     "output_type": "stream",
     "text": [
      "Max pixel:  43.34\n",
      "camera complete\n",
      "PCA: -3.444444444444443\n",
      "powermeter complete\n",
      "943.232666015625\n",
      "spectrometer complete\n",
      "n_frames 50\n"
     ]
    },
    {
     "name": "stderr",
     "output_type": "stream",
     "text": [
      "\n",
      "\n",
      "100%|██████████| 20/20 [02:33<00:00,  7.68s/it]\u001B[A\u001B[A\n",
      "\n",
      " 80%|████████  | 8/10 [20:28<05:07, 153.62s/it]\u001B[A"
     ]
    },
    {
     "name": "stdout",
     "output_type": "stream",
     "text": [
      "Max pixel:  27.92\n",
      "camera complete\n",
      "20240820_163250 20240820_163517\n",
      "-5.222222222222221\n",
      "41231\n"
     ]
    },
    {
     "name": "stderr",
     "output_type": "stream",
     "text": [
      "\n",
      "\n",
      "  0%|          | 0/20 [00:00<?, ?it/s]\u001B[A\u001B[A"
     ]
    },
    {
     "name": "stdout",
     "output_type": "stream",
     "text": [
      "PCA: -5.222222222222221\n",
      "powermeter complete\n",
      "915.4686279296875\n",
      "spectrometer complete\n",
      "n_frames 2\n",
      "Max pixel:  203.0\n",
      "camera complete\n"
     ]
    },
    {
     "name": "stderr",
     "output_type": "stream",
     "text": [
      "\n",
      "\n",
      "  5%|▌         | 1/20 [00:07<02:27,  7.79s/it]\u001B[A\u001B[A"
     ]
    },
    {
     "name": "stdout",
     "output_type": "stream",
     "text": [
      "PCA: -5.222222222222221\n",
      "powermeter complete\n",
      "923.88232421875\n",
      "spectrometer complete\n",
      "n_frames 50\n"
     ]
    },
    {
     "name": "stderr",
     "output_type": "stream",
     "text": [
      "\n",
      "\n",
      " 10%|█         | 2/20 [00:15<02:16,  7.59s/it]\u001B[A\u001B[A"
     ]
    },
    {
     "name": "stdout",
     "output_type": "stream",
     "text": [
      "Max pixel:  6.08\n",
      "camera complete\n",
      "PCA: -5.222222222222221\n",
      "powermeter complete\n",
      "939.8098754882812\n",
      "spectrometer complete\n",
      "n_frames 4\n",
      "Max pixel:  224.0\n",
      "camera complete\n"
     ]
    },
    {
     "name": "stderr",
     "output_type": "stream",
     "text": [
      "\n",
      "\n",
      " 15%|█▌        | 3/20 [00:22<02:08,  7.55s/it]\u001B[A\u001B[A"
     ]
    },
    {
     "name": "stdout",
     "output_type": "stream",
     "text": [
      "PCA: -5.222222222222221\n",
      "powermeter complete\n",
      "938.4947509765625\n",
      "spectrometer complete\n",
      "n_frames 50\n"
     ]
    },
    {
     "name": "stderr",
     "output_type": "stream",
     "text": [
      "\n",
      "\n",
      " 20%|██        | 4/20 [00:30<01:59,  7.48s/it]\u001B[A\u001B[A"
     ]
    },
    {
     "name": "stdout",
     "output_type": "stream",
     "text": [
      "Max pixel:  52.5\n",
      "camera complete\n",
      "PCA: -5.222222222222221\n",
      "powermeter complete\n",
      "933.08837890625\n",
      "spectrometer complete\n",
      "n_frames 16\n"
     ]
    },
    {
     "name": "stderr",
     "output_type": "stream",
     "text": [
      "\n",
      "\n",
      " 25%|██▌       | 5/20 [00:37<01:52,  7.49s/it]\u001B[A\u001B[A"
     ]
    },
    {
     "name": "stdout",
     "output_type": "stream",
     "text": [
      "Max pixel:  91.75\n",
      "camera complete\n",
      "PCA: -5.222222222222221\n",
      "powermeter complete\n",
      "921.18896484375\n",
      "spectrometer complete\n",
      "n_frames 16\n"
     ]
    },
    {
     "name": "stderr",
     "output_type": "stream",
     "text": [
      "\n",
      "\n",
      " 30%|███       | 6/20 [00:44<01:43,  7.43s/it]\u001B[A\u001B[A"
     ]
    },
    {
     "name": "stdout",
     "output_type": "stream",
     "text": [
      "Max pixel:  104.25\n",
      "camera complete\n",
      "PCA: -5.222222222222221\n",
      "powermeter complete\n",
      "913.778076171875\n",
      "spectrometer complete\n",
      "n_frames 4\n",
      "Max pixel:  228.25\n",
      "camera complete\n"
     ]
    },
    {
     "name": "stderr",
     "output_type": "stream",
     "text": [
      "\n",
      "\n",
      " 35%|███▌      | 7/20 [00:52<01:37,  7.48s/it]\u001B[A\u001B[A"
     ]
    },
    {
     "name": "stdout",
     "output_type": "stream",
     "text": [
      "PCA: -5.222222222222221\n",
      "powermeter complete\n",
      "914.9356689453125\n",
      "spectrometer complete\n",
      "n_frames 50\n"
     ]
    },
    {
     "name": "stderr",
     "output_type": "stream",
     "text": [
      "\n",
      "\n",
      " 40%|████      | 8/20 [00:59<01:29,  7.48s/it]\u001B[A\u001B[A"
     ]
    },
    {
     "name": "stdout",
     "output_type": "stream",
     "text": [
      "Max pixel:  6.08\n",
      "camera complete\n",
      "PCA: -5.222222222222221\n",
      "powermeter complete\n",
      "930.7282104492188\n",
      "spectrometer complete\n",
      "n_frames 16\n"
     ]
    },
    {
     "name": "stderr",
     "output_type": "stream",
     "text": [
      "\n",
      "\n",
      " 45%|████▌     | 9/20 [01:07<01:21,  7.44s/it]\u001B[A\u001B[A"
     ]
    },
    {
     "name": "stdout",
     "output_type": "stream",
     "text": [
      "Max pixel:  184.1875\n",
      "camera complete\n",
      "PCA: -5.222222222222221\n",
      "powermeter complete\n",
      "926.981689453125\n",
      "spectrometer complete\n",
      "n_frames 16\n"
     ]
    },
    {
     "name": "stderr",
     "output_type": "stream",
     "text": [
      "\n",
      "\n",
      " 50%|█████     | 10/20 [01:14<01:14,  7.41s/it]\u001B[A\u001B[A"
     ]
    },
    {
     "name": "stdout",
     "output_type": "stream",
     "text": [
      "Max pixel:  203.875\n",
      "camera complete\n",
      "PCA: -5.222222222222221\n"
     ]
    },
    {
     "name": "stderr",
     "output_type": "stream",
     "text": [
      " 50%|█████     | 10/20 [01:16<01:16,  7.68s/it]\n",
      " 80%|████████  | 8/10 [21:45<05:26, 163.22s/it]\n",
      "  0%|          | 0/10 [22:37<?, ?it/s]\n"
     ]
    },
    {
     "ename": "KeyboardInterrupt",
     "evalue": "",
     "output_type": "error",
     "traceback": [
      "\u001B[1;31m---------------------------------------------------------------------------\u001B[0m",
      "\u001B[1;31mKeyboardInterrupt\u001B[0m                         Traceback (most recent call last)",
      "Cell \u001B[1;32mIn[5], line 27\u001B[0m\n\u001B[0;32m     25\u001B[0m     \u001B[38;5;28;01mfor\u001B[39;00m l \u001B[38;5;129;01min\u001B[39;00m tqdm(length_list, leave\u001B[38;5;241m=\u001B[39m\u001B[38;5;28;01mTrue\u001B[39;00m):\n\u001B[0;32m     26\u001B[0m         comp\u001B[38;5;241m.\u001B[39mset_lock(l) \u001B[38;5;66;03m#save pca value\u001B[39;00m\n\u001B[1;32m---> 27\u001B[0m         ts \u001B[38;5;241m=\u001B[39m \u001B[43mpower_scan\u001B[49m\u001B[43m(\u001B[49m\u001B[43mpower_list\u001B[49m\u001B[43m,\u001B[49m\u001B[43m \u001B[49m\u001B[43mcomponents\u001B[49m\u001B[43m,\u001B[49m\u001B[43m \u001B[49m\u001B[43ml\u001B[49m\u001B[43m)\u001B[49m\n\u001B[0;32m     28\u001B[0m         time_stamps\u001B[38;5;241m.\u001B[39mappend(ts)\n\u001B[0;32m     29\u001B[0m stage\u001B[38;5;241m.\u001B[39mset(\u001B[38;5;241m0\u001B[39m)\n",
      "File \u001B[1;32mC:\\Semiconductor Cavity\\WheelBEC\\Experimental Code\\Measure.py:178\u001B[0m, in \u001B[0;36mpower_scan\u001B[1;34m(p_list, components, pca)\u001B[0m\n\u001B[0;32m    176\u001B[0m     measure \u001B[38;5;241m=\u001B[39m Measure(components, pwr, pca)\n\u001B[0;32m    177\u001B[0m     \u001B[38;5;66;03m# Take measurement\u001B[39;00m\n\u001B[1;32m--> 178\u001B[0m     timestamp \u001B[38;5;241m=\u001B[39m \u001B[43mmeasure\u001B[49m\u001B[38;5;241;43m.\u001B[39;49m\u001B[43mtake_measurement\u001B[49m\u001B[43m(\u001B[49m\u001B[43m)\u001B[49m\n\u001B[0;32m    179\u001B[0m     time_stamps\u001B[38;5;241m.\u001B[39mappend(timestamp)\n\u001B[0;32m    181\u001B[0m \u001B[38;5;28mprint\u001B[39m(time_stamps[\u001B[38;5;241m0\u001B[39m], time_stamps[\u001B[38;5;241m-\u001B[39m\u001B[38;5;241m1\u001B[39m])\n",
      "File \u001B[1;32mC:\\Semiconductor Cavity\\WheelBEC\\Experimental Code\\Measure.py:80\u001B[0m, in \u001B[0;36mMeasure.take_measurement\u001B[1;34m(self)\u001B[0m\n\u001B[0;32m     79\u001B[0m \u001B[38;5;28;01mdef\u001B[39;00m \u001B[38;5;21mtake_measurement\u001B[39m(\u001B[38;5;28mself\u001B[39m):\n\u001B[1;32m---> 80\u001B[0m     \u001B[43mtime\u001B[49m\u001B[38;5;241;43m.\u001B[39;49m\u001B[43msleep\u001B[49m\u001B[43m(\u001B[49m\u001B[38;5;241;43m2\u001B[39;49m\u001B[43m)\u001B[49m\n\u001B[0;32m     82\u001B[0m     \u001B[38;5;28;01mfor\u001B[39;00m key, value \u001B[38;5;129;01min\u001B[39;00m \u001B[38;5;28mself\u001B[39m\u001B[38;5;241m.\u001B[39mcomps\u001B[38;5;241m.\u001B[39mitems(): \u001B[38;5;66;03m#Get names and component objects from dictionary\u001B[39;00m\n\u001B[0;32m     83\u001B[0m         \u001B[38;5;28;01mif\u001B[39;00m value\u001B[38;5;241m.\u001B[39mmeasure \u001B[38;5;241m==\u001B[39m \u001B[38;5;28;01mTrue\u001B[39;00m:\n\u001B[0;32m     84\u001B[0m             \u001B[38;5;66;03m#key = re.sub(r'\\d', '', key)\u001B[39;00m\n",
      "\u001B[1;31mKeyboardInterrupt\u001B[0m: "
     ]
    }
   ],
   "execution_count": 5,
   "source": [
    "# %qtconsole\n",
    "\n",
    "time_stamps = []\n",
    "\n",
    "\n",
    "print('hi')\n",
    "with comp.Translation_Stage(26000913, is_rack_system = False, scale=1) as stage, comp.FLIR_Camera(measure=True, algorithm='rising') as camera:\n",
    "    components.update({\"camera\": camera})\n",
    "    pbar = tqdm(stage_list)\n",
    "    for s in pbar:\n",
    "        stage.set(s)\n",
    "        pbar.set_description(f'Test position {s}')\n",
    "        time.sleep(1)\n",
    "    stage.set(0)\n",
    "    for s in tqdm(stage_list):\n",
    "        stage.set(s)\n",
    "        time.sleep(1)\n",
    "        comp.params.update({\"stage_pos\": s})\n",
    "        \n",
    "        #Slowly return to initial wavelength\n",
    "        for l in np.flip(length_list):\n",
    "            comp.set_lock(l)\n",
    "            time.sleep(5)\n",
    "        \n",
    "        for l in tqdm(length_list, leave=True):\n",
    "            comp.set_lock(l) #save pca value\n",
    "            ts = power_scan(power_list, components, l)\n",
    "            time_stamps.append(ts)\n",
    "    stage.set(0)\n",
    "print(\"'\"+str(time_stamps[0][0])+\"'\"+\",\"+\"'\"+str(time_stamps[-1][-1])+\"'\")\n",
    "winsound.Beep(1000, 2000)\n",
    "\n"
   ],
   "id": "b78e33f8c3f1cc64"
  }
 ],
 "metadata": {
  "kernelspec": {
   "display_name": "Python 3",
   "language": "python",
   "name": "python3"
  },
  "language_info": {
   "codemirror_mode": {
    "name": "ipython",
    "version": 2
   },
   "file_extension": ".py",
   "mimetype": "text/x-python",
   "name": "python",
   "nbconvert_exporter": "python",
   "pygments_lexer": "ipython2",
   "version": "2.7.6"
  }
 },
 "nbformat": 4,
 "nbformat_minor": 5
}
