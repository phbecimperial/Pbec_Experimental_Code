{
 "cells": [
  {
   "metadata": {},
   "cell_type": "markdown",
   "source": [
    "# Power Length V5\n",
    "\n",
    "This takes a phase diagram - varies cavity length and power, and takes spectral readings, images and output power at each point. \n",
    "\n",
    "### Imports"
   ],
   "id": "8a77807f92f26ee"
  },
  {
   "metadata": {
    "ExecuteTime": {
     "end_time": "2024-08-20T06:27:48.173953Z",
     "start_time": "2024-08-20T06:27:47.117953300Z"
    }
   },
   "cell_type": "code",
   "source": [
    "%load_ext autoreload\n",
    "%autoreload 2\n",
    "import time\n",
    "import winsound\n",
    "import numpy as np\n",
    "from tqdm import tqdm\n",
    "import Components as comp\n",
    "from Measure import power_scan"
   ],
   "id": "fbc121e30a2defb3",
   "outputs": [],
   "execution_count": 1
  },
  {
   "metadata": {},
   "cell_type": "markdown",
   "source": [
    "### Initialise Equipment\n",
    "If equipment can take measurements, can set measure = True or False when initialising them. Note some components are interdependent."
   ],
   "id": "7ffc4e537684ac8e"
  },
  {
   "metadata": {
    "ExecuteTime": {
     "end_time": "2024-08-20T06:27:50.392173700Z",
     "start_time": "2024-08-20T06:27:48.178951700Z"
    }
   },
   "cell_type": "code",
   "outputs": [
    {
     "name": "stdout",
     "output_type": "stream",
     "text": [
      "Found laser\n",
      "Found power meter\n",
      "Found spectrometer\n"
     ]
    }
   ],
   "execution_count": 2,
   "source": [
    "components = dict()\n",
    "\n",
    "\n",
    "\n",
    "components.update({\"laser\": comp.Toptica_Laser(com_port='COM12')})\n",
    "components.update({\"powermeter\": comp.Thor_PowerMeter(power_meter_usb_name='USB0::0x1313::0x8078::P0034379::INSTR', num_power_readings=100, bs_factor=0.5, wavelength=950)})\n",
    "components.update({\"spectrometer\": comp.Spectrometer(spec_nd=1 / 30.5)})\n",
    "# components.update({\"camera\": comp.FLIR_Camera(measure=True, )})\n",
    "components.update({\"wheel\": comp.FilterWheel(com_port='COM9')})"
   ],
   "id": "19e4d490f5a99599"
  },
  {
   "metadata": {},
   "cell_type": "markdown",
   "source": [],
   "id": "db130fae7f60be"
  },
  {
   "metadata": {},
   "cell_type": "markdown",
   "source": [
    "### Choose loop parameters"
   ],
   "id": "4c0ca04888e34c6c"
  },
  {
   "metadata": {
    "ExecuteTime": {
     "end_time": "2024-08-20T06:27:50.455172300Z",
     "start_time": "2024-08-20T06:27:50.391173100Z"
    }
   },
   "cell_type": "code",
   "outputs": [
    {
     "data": {
      "text/plain": "numpy.float64"
     },
     "execution_count": 3,
     "metadata": {},
     "output_type": "execute_result"
    }
   ],
   "execution_count": 3,
   "source": [
    "\n",
    "#Define PCA range\n",
    "length_list = np.linspace(9, -7, 10)\n",
    "stage_list = np.linspace(0, 3e6, 10, dtype=int)\n",
    "stage_list = stage_list + 0.0\n",
    "#Define power range\n",
    "power_list = np.linspace(15e-3, 240e-3, 20)\n",
    "\n",
    "type(stage_list[0])"
   ],
   "id": "7a2eaa998d0fe77"
  },
  {
   "metadata": {},
   "cell_type": "markdown",
   "source": [
    "### Measurement Loop\n",
    "Note Kinesis stage needs to be closed each time it is used, or won't be able to open again - so only use the stage using 'with' statements. "
   ],
   "id": "b45ac3a20569fff5"
  },
  {
   "metadata": {
    "is_executing": true,
    "ExecuteTime": {
     "start_time": "2024-08-20T06:27:50.459172100Z"
    }
   },
   "cell_type": "code",
   "outputs": [
    {
     "name": "stdout",
     "output_type": "stream",
     "text": [
      "hi\n",
      "Stage Found, postion: 0\n",
      "Stage is homed and operational\n",
      "Here are the camera names:\n",
      "{'blackfly_minisetup': '19128822', 'blackfly_semiconductor_cavity': '17458446', 'blackfly_semiconductor_cavity_lock': '19441065', 'bonus_chameleon': '14110699', 'nathans_dungeon_lock_NA0': '17458446', 'nathans_dungeon_cavity_NA1': '19128822'}\n",
      "\n",
      "\n",
      "-> Detected 2 USB3 cameras\n",
      "Found Cameras\n"
     ]
    },
    {
     "name": "stderr",
     "output_type": "stream",
     "text": [
      "Test position 3000000.0: 100%|██████████| 10/10 [00:32<00:00,  3.27s/it]\n",
      "  0%|          | 0/10 [00:00<?, ?it/s]"
     ]
    },
    {
     "name": "stdout",
     "output_type": "stream",
     "text": [
      "-7.0\n",
      "41231\n",
      "-5.222222222222221\n",
      "41231\n",
      "-3.444444444444443\n",
      "41231\n",
      "-1.666666666666666\n",
      "41231\n",
      "0.11111111111111072\n",
      "41231\n",
      "1.8888888888888893\n",
      "41231\n",
      "3.666666666666667\n",
      "41231\n",
      "5.444444444444445\n",
      "41231\n",
      "7.222222222222222\n",
      "41231\n",
      "9.0\n",
      "41231\n"
     ]
    },
    {
     "name": "stderr",
     "output_type": "stream",
     "text": [
      "\n",
      "  0%|          | 0/10 [00:00<?, ?it/s]\u001B[A"
     ]
    },
    {
     "name": "stdout",
     "output_type": "stream",
     "text": [
      "9.0\n",
      "41231\n"
     ]
    },
    {
     "name": "stderr",
     "output_type": "stream",
     "text": [
      "\n",
      "\n",
      "  0%|          | 0/20 [00:00<?, ?it/s]\u001B[A\u001B[A"
     ]
    },
    {
     "name": "stdout",
     "output_type": "stream",
     "text": [
      "PCA: 9.0\n",
      "powermeter complete\n",
      "952.0706176757812\n",
      "spectrometer complete\n",
      "n_frames 2\n",
      "Max pixel:  189.0\n",
      "952.0706176757812\n",
      "camera complete\n"
     ]
    },
    {
     "name": "stderr",
     "output_type": "stream",
     "text": [
      "\n",
      "\n",
      "  5%|▌         | 1/20 [00:11<03:42, 11.71s/it]\u001B[A\u001B[A"
     ]
    },
    {
     "name": "stdout",
     "output_type": "stream",
     "text": [
      "PCA: 9.0\n",
      "powermeter complete\n",
      "952.2271728515625\n",
      "spectrometer complete\n",
      "n_frames 50\n"
     ]
    },
    {
     "name": "stderr",
     "output_type": "stream",
     "text": [
      "\n",
      "\n",
      " 10%|█         | 2/20 [00:23<03:29, 11.64s/it]\u001B[A\u001B[A"
     ]
    },
    {
     "name": "stdout",
     "output_type": "stream",
     "text": [
      "Max pixel:  6.08\n",
      "952.2271728515625\n",
      "camera complete\n",
      "PCA: 9.0\n",
      "powermeter complete\n",
      "951.992431640625\n",
      "spectrometer complete\n",
      "n_frames 50\n"
     ]
    },
    {
     "name": "stderr",
     "output_type": "stream",
     "text": [
      "\n",
      "\n",
      " 15%|█▌        | 3/20 [00:33<03:10, 11.21s/it]\u001B[A\u001B[A"
     ]
    },
    {
     "name": "stdout",
     "output_type": "stream",
     "text": [
      "Max pixel:  92.38\n",
      "951.992431640625\n",
      "camera complete\n",
      "PCA: 9.0\n",
      "powermeter complete\n",
      "951.992431640625\n",
      "spectrometer complete\n",
      "n_frames 50\n"
     ]
    },
    {
     "name": "stderr",
     "output_type": "stream",
     "text": [
      "\n",
      "\n",
      " 20%|██        | 4/20 [00:53<03:50, 14.43s/it]\u001B[A\u001B[A"
     ]
    },
    {
     "name": "stdout",
     "output_type": "stream",
     "text": [
      "Max pixel:  165.74\n",
      "951.992431640625\n",
      "camera complete\n",
      "PCA: 9.0\n",
      "powermeter complete\n",
      "951.8357543945312\n",
      "spectrometer complete\n",
      "n_frames 50\n"
     ]
    },
    {
     "name": "stderr",
     "output_type": "stream",
     "text": [
      "\n",
      "\n",
      " 25%|██▌       | 5/20 [01:03<03:14, 12.95s/it]\u001B[A\u001B[A"
     ]
    },
    {
     "name": "stdout",
     "output_type": "stream",
     "text": [
      "Max pixel:  193.78\n",
      "951.8357543945312\n",
      "camera complete\n",
      "PCA: 9.0\n",
      "powermeter complete\n",
      "951.8357543945312\n",
      "spectrometer complete\n",
      "n_frames 50\n"
     ]
    },
    {
     "name": "stderr",
     "output_type": "stream",
     "text": [
      "\n",
      "\n",
      " 30%|███       | 6/20 [01:14<02:49, 12.13s/it]\u001B[A\u001B[A"
     ]
    },
    {
     "name": "stdout",
     "output_type": "stream",
     "text": [
      "Max pixel:  93.3\n",
      "951.8357543945312\n",
      "camera complete\n",
      "PCA: 9.0\n",
      "powermeter complete\n",
      "951.6007080078125\n",
      "spectrometer complete\n",
      "n_frames 50\n"
     ]
    },
    {
     "name": "stderr",
     "output_type": "stream",
     "text": [
      "\n",
      "\n",
      " 35%|███▌      | 7/20 [01:24<02:30, 11.56s/it]\u001B[A\u001B[A"
     ]
    },
    {
     "name": "stdout",
     "output_type": "stream",
     "text": [
      "Max pixel:  239.54\n",
      "951.6007080078125\n",
      "camera complete\n",
      "PCA: 9.0\n",
      "powermeter complete\n",
      "951.5222778320312\n",
      "spectrometer complete\n",
      "n_frames 50\n"
     ]
    },
    {
     "name": "stderr",
     "output_type": "stream",
     "text": [
      "\n",
      "\n",
      " 40%|████      | 8/20 [01:34<02:14, 11.17s/it]\u001B[A\u001B[A"
     ]
    },
    {
     "name": "stdout",
     "output_type": "stream",
     "text": [
      "Max pixel:  133.04\n",
      "951.5222778320312\n",
      "camera complete\n",
      "PCA: 9.0\n",
      "powermeter complete\n",
      "951.3654174804688\n",
      "spectrometer complete\n",
      "n_frames 50\n"
     ]
    },
    {
     "name": "stderr",
     "output_type": "stream",
     "text": [
      "\n",
      "\n",
      " 45%|████▌     | 9/20 [01:45<02:00, 10.96s/it]\u001B[A\u001B[A"
     ]
    },
    {
     "name": "stdout",
     "output_type": "stream",
     "text": [
      "Max pixel:  145.44\n",
      "951.3654174804688\n",
      "camera complete\n",
      "PCA: 9.0\n",
      "powermeter complete\n",
      "951.44384765625\n",
      "spectrometer complete\n",
      "n_frames 50\n"
     ]
    },
    {
     "name": "stderr",
     "output_type": "stream",
     "text": [
      "\n",
      "\n",
      " 50%|█████     | 10/20 [01:55<01:47, 10.76s/it]\u001B[A\u001B[A"
     ]
    },
    {
     "name": "stdout",
     "output_type": "stream",
     "text": [
      "Max pixel:  94.0\n",
      "951.44384765625\n",
      "camera complete\n",
      "PCA: 9.0\n",
      "powermeter complete\n",
      "951.5222778320312\n",
      "spectrometer complete\n",
      "n_frames 50\n"
     ]
    },
    {
     "name": "stderr",
     "output_type": "stream",
     "text": [
      "\n",
      "\n",
      " 55%|█████▌    | 11/20 [02:06<01:35, 10.62s/it]\u001B[A\u001B[A"
     ]
    },
    {
     "name": "stdout",
     "output_type": "stream",
     "text": [
      "Max pixel:  95.14\n",
      "951.5222778320312\n",
      "camera complete\n",
      "PCA: 9.0\n",
      "powermeter complete\n",
      "951.1298828125\n",
      "spectrometer complete\n",
      "n_frames 50\n"
     ]
    },
    {
     "name": "stderr",
     "output_type": "stream",
     "text": [
      "\n",
      "\n",
      " 60%|██████    | 12/20 [02:16<01:24, 10.54s/it]\u001B[A\u001B[A"
     ]
    },
    {
     "name": "stdout",
     "output_type": "stream",
     "text": [
      "Max pixel:  97.26\n",
      "951.1298828125\n",
      "camera complete\n",
      "PCA: 9.0\n",
      "powermeter complete\n",
      "951.2083740234375\n",
      "spectrometer complete\n",
      "n_frames 50\n"
     ]
    },
    {
     "name": "stderr",
     "output_type": "stream",
     "text": [
      "\n",
      "\n",
      " 65%|██████▌   | 13/20 [02:27<01:13, 10.56s/it]\u001B[A\u001B[A"
     ]
    },
    {
     "name": "stdout",
     "output_type": "stream",
     "text": [
      "Max pixel:  44.96\n",
      "951.2083740234375\n",
      "camera complete\n",
      "PCA: 9.0\n",
      "powermeter complete\n",
      "951.1298828125\n",
      "spectrometer complete\n",
      "n_frames 50\n"
     ]
    },
    {
     "name": "stderr",
     "output_type": "stream",
     "text": [
      "\n",
      "\n",
      " 70%|███████   | 14/20 [02:37<01:03, 10.60s/it]\u001B[A\u001B[A"
     ]
    },
    {
     "name": "stdout",
     "output_type": "stream",
     "text": [
      "Max pixel:  115.92\n",
      "951.1298828125\n",
      "camera complete\n",
      "PCA: 9.0\n",
      "powermeter complete\n",
      "951.1298828125\n",
      "spectrometer complete\n",
      "n_frames 50\n"
     ]
    },
    {
     "name": "stderr",
     "output_type": "stream",
     "text": [
      "\n",
      "\n",
      " 75%|███████▌  | 15/20 [02:48<00:53, 10.62s/it]\u001B[A\u001B[A"
     ]
    },
    {
     "name": "stdout",
     "output_type": "stream",
     "text": [
      "Max pixel:  44.74\n",
      "951.1298828125\n",
      "camera complete\n",
      "PCA: 9.0\n",
      "powermeter complete\n",
      "951.2083740234375\n",
      "spectrometer complete\n",
      "n_frames 50\n"
     ]
    },
    {
     "name": "stderr",
     "output_type": "stream",
     "text": [
      "\n",
      "\n",
      " 80%|████████  | 16/20 [02:58<00:42, 10.52s/it]\u001B[A\u001B[A"
     ]
    },
    {
     "name": "stdout",
     "output_type": "stream",
     "text": [
      "Max pixel:  130.04\n",
      "951.2083740234375\n",
      "camera complete\n",
      "PCA: 9.0\n",
      "powermeter complete\n",
      "951.0513305664062\n",
      "spectrometer complete\n",
      "n_frames 50\n"
     ]
    },
    {
     "name": "stderr",
     "output_type": "stream",
     "text": [
      "\n",
      "\n",
      " 85%|████████▌ | 17/20 [03:09<00:31, 10.62s/it]\u001B[A\u001B[A"
     ]
    },
    {
     "name": "stdout",
     "output_type": "stream",
     "text": [
      "Max pixel:  239.3\n",
      "951.0513305664062\n",
      "camera complete\n",
      "PCA: 9.0\n",
      "powermeter complete\n",
      "950.8154296875\n",
      "spectrometer complete\n",
      "n_frames 50\n"
     ]
    },
    {
     "name": "stderr",
     "output_type": "stream",
     "text": [
      "\n",
      "\n",
      " 90%|█████████ | 18/20 [03:20<00:21, 10.64s/it]\u001B[A\u001B[A"
     ]
    },
    {
     "name": "stdout",
     "output_type": "stream",
     "text": [
      "Max pixel:  76.2\n",
      "950.8154296875\n",
      "camera complete\n",
      "PCA: 9.0\n",
      "powermeter complete\n",
      "950.8941040039062\n",
      "spectrometer complete\n",
      "n_frames 50\n"
     ]
    },
    {
     "name": "stderr",
     "output_type": "stream",
     "text": [
      "\n",
      "\n",
      " 95%|█████████▌| 19/20 [03:30<00:10, 10.66s/it]\u001B[A\u001B[A"
     ]
    },
    {
     "name": "stdout",
     "output_type": "stream",
     "text": [
      "Max pixel:  84.46\n",
      "950.8941040039062\n",
      "camera complete\n",
      "PCA: 9.0\n",
      "powermeter complete\n",
      "950.8941040039062\n",
      "spectrometer complete\n",
      "n_frames 50\n"
     ]
    },
    {
     "name": "stderr",
     "output_type": "stream",
     "text": [
      "\n",
      "\n",
      "100%|██████████| 20/20 [03:41<00:00, 11.08s/it]\u001B[A\u001B[A\n",
      "\n",
      " 10%|█         | 1/10 [03:41<33:15, 221.73s/it]\u001B[A"
     ]
    },
    {
     "name": "stdout",
     "output_type": "stream",
     "text": [
      "Max pixel:  130.06\n",
      "950.8941040039062\n",
      "camera complete\n",
      "20240820_072922 20240820_073253\n",
      "7.222222222222222\n",
      "41231\n"
     ]
    },
    {
     "name": "stderr",
     "output_type": "stream",
     "text": [
      "\n",
      "\n",
      "  0%|          | 0/20 [00:00<?, ?it/s]\u001B[A\u001B[A"
     ]
    },
    {
     "name": "stdout",
     "output_type": "stream",
     "text": [
      "PCA: 7.222222222222222\n",
      "powermeter complete\n",
      "952.2271728515625\n",
      "spectrometer complete\n",
      "n_frames 2\n",
      "Max pixel:  191.0\n",
      "952.2271728515625\n",
      "camera complete\n"
     ]
    },
    {
     "name": "stderr",
     "output_type": "stream",
     "text": [
      "\n",
      "\n",
      "  5%|▌         | 1/20 [00:11<03:42, 11.72s/it]\u001B[A\u001B[A"
     ]
    },
    {
     "name": "stdout",
     "output_type": "stream",
     "text": [
      "PCA: 7.222222222222222\n",
      "powermeter complete\n",
      "952.9299926757812\n",
      "spectrometer complete\n",
      "n_frames 50\n"
     ]
    },
    {
     "name": "stderr",
     "output_type": "stream",
     "text": [
      "\n",
      "\n",
      " 10%|█         | 2/20 [00:23<03:32, 11.80s/it]\u001B[A\u001B[A"
     ]
    },
    {
     "name": "stdout",
     "output_type": "stream",
     "text": [
      "Max pixel:  11.16\n",
      "952.9299926757812\n",
      "camera complete\n",
      "PCA: 7.222222222222222\n",
      "powermeter complete\n",
      "952.2271728515625\n",
      "spectrometer complete\n",
      "n_frames 16\n"
     ]
    },
    {
     "name": "stderr",
     "output_type": "stream",
     "text": [
      "\n",
      "\n",
      " 15%|█▌        | 3/20 [00:35<03:20, 11.79s/it]\u001B[A\u001B[A"
     ]
    },
    {
     "name": "stdout",
     "output_type": "stream",
     "text": [
      "Max pixel:  135.625\n",
      "952.2271728515625\n",
      "camera complete\n",
      "PCA: 7.222222222222222\n",
      "powermeter complete\n",
      "952.5397338867188\n",
      "spectrometer complete\n",
      "n_frames 50\n"
     ]
    },
    {
     "name": "stderr",
     "output_type": "stream",
     "text": [
      "\n",
      "\n",
      " 20%|██        | 4/20 [00:46<03:03, 11.45s/it]\u001B[A\u001B[A"
     ]
    },
    {
     "name": "stdout",
     "output_type": "stream",
     "text": [
      "Max pixel:  218.9\n",
      "952.5397338867188\n",
      "camera complete\n",
      "PCA: 7.222222222222222\n",
      "powermeter complete\n",
      "952.5397338867188\n",
      "spectrometer complete\n",
      "n_frames 50\n"
     ]
    },
    {
     "name": "stderr",
     "output_type": "stream",
     "text": [
      "\n",
      "\n",
      " 25%|██▌       | 5/20 [01:05<03:33, 14.26s/it]\u001B[A\u001B[A"
     ]
    },
    {
     "name": "stdout",
     "output_type": "stream",
     "text": [
      "Max pixel:  119.18\n",
      "952.5397338867188\n",
      "camera complete\n",
      "PCA: 7.222222222222222\n",
      "powermeter complete\n",
      "952.77392578125\n",
      "spectrometer complete\n",
      "n_frames 50\n"
     ]
    },
    {
     "name": "stderr",
     "output_type": "stream",
     "text": [
      "\n",
      "\n",
      " 30%|███       | 6/20 [01:15<03:01, 12.94s/it]\u001B[A\u001B[A"
     ]
    },
    {
     "name": "stdout",
     "output_type": "stream",
     "text": [
      "Max pixel:  220.1\n",
      "952.77392578125\n",
      "camera complete\n",
      "PCA: 7.222222222222222\n",
      "powermeter complete\n",
      "952.6959228515625\n",
      "spectrometer complete\n",
      "n_frames 50\n"
     ]
    },
    {
     "name": "stderr",
     "output_type": "stream",
     "text": [
      "\n",
      "\n",
      " 35%|███▌      | 7/20 [01:26<02:37, 12.13s/it]\u001B[A\u001B[A"
     ]
    },
    {
     "name": "stdout",
     "output_type": "stream",
     "text": [
      "Max pixel:  102.16\n",
      "952.6959228515625\n",
      "camera complete\n",
      "PCA: 7.222222222222222\n",
      "powermeter complete\n",
      "952.9299926757812\n",
      "spectrometer complete\n",
      "n_frames 50\n"
     ]
    },
    {
     "name": "stderr",
     "output_type": "stream",
     "text": [
      "\n",
      "\n",
      " 40%|████      | 8/20 [01:36<02:18, 11.58s/it]\u001B[A\u001B[A"
     ]
    },
    {
     "name": "stdout",
     "output_type": "stream",
     "text": [
      "Max pixel:  189.36\n",
      "952.9299926757812\n",
      "camera complete\n",
      "PCA: 7.222222222222222\n",
      "powermeter complete\n",
      "952.9299926757812\n",
      "spectrometer complete\n",
      "n_frames 50\n"
     ]
    },
    {
     "name": "stderr",
     "output_type": "stream",
     "text": [
      "\n",
      "\n",
      " 45%|████▌     | 9/20 [01:47<02:03, 11.21s/it]\u001B[A\u001B[A"
     ]
    },
    {
     "name": "stdout",
     "output_type": "stream",
     "text": [
      "Max pixel:  221.84\n",
      "952.9299926757812\n",
      "camera complete\n",
      "PCA: 7.222222222222222\n",
      "powermeter complete\n",
      "952.77392578125\n",
      "spectrometer complete\n",
      "n_frames 50\n"
     ]
    },
    {
     "name": "stderr",
     "output_type": "stream",
     "text": [
      "\n",
      "\n",
      " 50%|█████     | 10/20 [01:57<01:49, 10.95s/it]\u001B[A\u001B[A"
     ]
    },
    {
     "name": "stdout",
     "output_type": "stream",
     "text": [
      "Max pixel:  138.8\n",
      "952.77392578125\n",
      "camera complete\n",
      "PCA: 7.222222222222222\n",
      "powermeter complete\n",
      "952.77392578125\n",
      "spectrometer complete\n",
      "n_frames 50\n"
     ]
    },
    {
     "name": "stderr",
     "output_type": "stream",
     "text": [
      "\n",
      "\n",
      " 55%|█████▌    | 11/20 [02:07<01:37, 10.80s/it]\u001B[A\u001B[A"
     ]
    },
    {
     "name": "stdout",
     "output_type": "stream",
     "text": [
      "Max pixel:  212.08\n",
      "952.77392578125\n",
      "camera complete\n",
      "PCA: 7.222222222222222\n",
      "powermeter complete\n",
      "952.5397338867188\n",
      "spectrometer complete\n",
      "n_frames 50\n"
     ]
    },
    {
     "name": "stderr",
     "output_type": "stream",
     "text": [
      "\n",
      "\n",
      " 60%|██████    | 12/20 [02:18<01:25, 10.68s/it]\u001B[A\u001B[A"
     ]
    },
    {
     "name": "stdout",
     "output_type": "stream",
     "text": [
      "Max pixel:  93.62\n",
      "952.5397338867188\n",
      "camera complete\n",
      "PCA: 7.222222222222222\n",
      "powermeter complete\n",
      "952.5397338867188\n",
      "spectrometer complete\n",
      "n_frames 50\n"
     ]
    },
    {
     "name": "stderr",
     "output_type": "stream",
     "text": [
      "\n",
      "\n",
      " 65%|██████▌   | 13/20 [02:28<01:14, 10.62s/it]\u001B[A\u001B[A"
     ]
    },
    {
     "name": "stdout",
     "output_type": "stream",
     "text": [
      "Max pixel:  42.66\n",
      "952.5397338867188\n",
      "camera complete\n",
      "PCA: 7.222222222222222\n",
      "powermeter complete\n",
      "952.77392578125\n",
      "spectrometer complete\n",
      "n_frames 50\n"
     ]
    },
    {
     "name": "stderr",
     "output_type": "stream",
     "text": [
      "\n",
      "\n",
      " 70%|███████   | 14/20 [02:39<01:04, 10.68s/it]\u001B[A\u001B[A"
     ]
    },
    {
     "name": "stdout",
     "output_type": "stream",
     "text": [
      "Max pixel:  189.24\n",
      "952.77392578125\n",
      "camera complete\n",
      "PCA: 7.222222222222222\n",
      "powermeter complete\n",
      "952.4616088867188\n",
      "spectrometer complete\n",
      "n_frames 50\n"
     ]
    },
    {
     "name": "stderr",
     "output_type": "stream",
     "text": [
      "\n",
      "\n",
      " 75%|███████▌  | 15/20 [02:50<00:53, 10.70s/it]\u001B[A\u001B[A"
     ]
    },
    {
     "name": "stdout",
     "output_type": "stream",
     "text": [
      "Max pixel:  104.24\n",
      "952.4616088867188\n",
      "camera complete\n",
      "PCA: 7.222222222222222\n",
      "powermeter complete\n",
      "952.4616088867188\n",
      "spectrometer complete\n",
      "n_frames 50\n"
     ]
    },
    {
     "name": "stderr",
     "output_type": "stream",
     "text": [
      "\n",
      "\n",
      " 80%|████████  | 16/20 [03:00<00:42, 10.63s/it]\u001B[A\u001B[A"
     ]
    },
    {
     "name": "stdout",
     "output_type": "stream",
     "text": [
      "Max pixel:  101.24\n",
      "952.4616088867188\n",
      "camera complete\n",
      "PCA: 7.222222222222222\n",
      "powermeter complete\n",
      "952.3053588867188\n",
      "spectrometer complete\n",
      "n_frames 50\n"
     ]
    },
    {
     "name": "stderr",
     "output_type": "stream",
     "text": [
      "\n",
      "\n",
      " 85%|████████▌ | 17/20 [03:11<00:31, 10.57s/it]\u001B[A\u001B[A"
     ]
    },
    {
     "name": "stdout",
     "output_type": "stream",
     "text": [
      "Max pixel:  233.86\n",
      "952.3053588867188\n",
      "camera complete\n",
      "PCA: 7.222222222222222\n",
      "powermeter complete\n",
      "952.4616088867188\n",
      "spectrometer complete\n",
      "n_frames 50\n"
     ]
    },
    {
     "name": "stderr",
     "output_type": "stream",
     "text": [
      "\n",
      "\n",
      " 90%|█████████ | 18/20 [03:22<00:21, 10.60s/it]\u001B[A\u001B[A"
     ]
    },
    {
     "name": "stdout",
     "output_type": "stream",
     "text": [
      "Max pixel:  72.94\n",
      "952.4616088867188\n",
      "camera complete\n",
      "PCA: 7.222222222222222\n",
      "powermeter complete\n",
      "950.9727172851562\n",
      "spectrometer complete\n",
      "n_frames 50\n"
     ]
    },
    {
     "name": "stderr",
     "output_type": "stream",
     "text": [
      "\n",
      "\n",
      " 95%|█████████▌| 19/20 [03:32<00:10, 10.68s/it]\u001B[A\u001B[A"
     ]
    },
    {
     "name": "stdout",
     "output_type": "stream",
     "text": [
      "Max pixel:  81.88\n",
      "950.9727172851562\n",
      "camera complete\n",
      "PCA: 7.222222222222222\n",
      "powermeter complete\n",
      "952.1488647460938\n",
      "spectrometer complete\n",
      "n_frames 50\n"
     ]
    },
    {
     "name": "stderr",
     "output_type": "stream",
     "text": [
      "\n",
      "\n",
      "100%|██████████| 20/20 [03:43<00:00, 11.18s/it]\u001B[A\u001B[A\n",
      "\n",
      " 20%|██        | 2/10 [07:25<29:43, 222.91s/it]\u001B[A"
     ]
    },
    {
     "name": "stdout",
     "output_type": "stream",
     "text": [
      "Max pixel:  78.08\n",
      "952.1488647460938\n",
      "camera complete\n",
      "20240820_073303 20240820_073636\n",
      "5.444444444444445\n",
      "41231\n"
     ]
    },
    {
     "name": "stderr",
     "output_type": "stream",
     "text": [
      "\n",
      "\n",
      "  0%|          | 0/20 [00:00<?, ?it/s]\u001B[A\u001B[A"
     ]
    },
    {
     "name": "stdout",
     "output_type": "stream",
     "text": [
      "PCA: 5.444444444444445\n",
      "powermeter complete\n",
      "953.4752197265625\n",
      "spectrometer complete\n",
      "n_frames 2\n",
      "Max pixel:  186.5\n",
      "953.4752197265625\n",
      "camera complete\n"
     ]
    },
    {
     "name": "stderr",
     "output_type": "stream",
     "text": [
      "\n",
      "\n",
      "  5%|▌         | 1/20 [00:11<03:40, 11.63s/it]\u001B[A\u001B[A"
     ]
    },
    {
     "name": "stdout",
     "output_type": "stream",
     "text": [
      "PCA: 5.444444444444445\n",
      "powermeter complete\n",
      "953.4752197265625\n",
      "spectrometer complete\n",
      "n_frames 50\n"
     ]
    },
    {
     "name": "stderr",
     "output_type": "stream",
     "text": [
      "\n",
      "\n",
      " 10%|█         | 2/20 [00:23<03:28, 11.60s/it]\u001B[A\u001B[A"
     ]
    },
    {
     "name": "stdout",
     "output_type": "stream",
     "text": [
      "Max pixel:  11.16\n",
      "953.4752197265625\n",
      "camera complete\n",
      "PCA: 5.444444444444445\n",
      "powermeter complete\n",
      "953.4752197265625\n",
      "spectrometer complete\n",
      "n_frames 8\n"
     ]
    },
    {
     "name": "stderr",
     "output_type": "stream",
     "text": [
      "\n",
      "\n"
     ]
    },
    {
     "name": "stdout",
     "output_type": "stream",
     "text": [
      "Max pixel:  168.125\n",
      "953.4752197265625\n",
      "camera complete\n"
     ]
    },
    {
     "name": "stderr",
     "output_type": "stream",
     "text": [
      " 15%|█▌        | 3/20 [00:34<03:15, 11.53s/it]\u001B[A\u001B[A"
     ]
    },
    {
     "name": "stdout",
     "output_type": "stream",
     "text": [
      "PCA: 5.444444444444445\n",
      "powermeter complete\n",
      "953.552978515625\n",
      "spectrometer complete\n",
      "n_frames 50\n"
     ]
    },
    {
     "name": "stderr",
     "output_type": "stream",
     "text": [
      "\n",
      "\n",
      " 20%|██        | 4/20 [00:45<02:59, 11.20s/it]\u001B[A\u001B[A"
     ]
    },
    {
     "name": "stdout",
     "output_type": "stream",
     "text": [
      "Max pixel:  135.44\n",
      "953.552978515625\n",
      "camera complete\n",
      "PCA: 5.444444444444445\n",
      "powermeter complete\n",
      "953.319580078125\n",
      "spectrometer complete\n",
      "n_frames 50\n"
     ]
    },
    {
     "name": "stderr",
     "output_type": "stream",
     "text": [
      "\n",
      "\n",
      " 25%|██▌       | 5/20 [01:04<03:31, 14.10s/it]\u001B[A\u001B[A"
     ]
    },
    {
     "name": "stdout",
     "output_type": "stream",
     "text": [
      "Max pixel:  186.42\n",
      "953.319580078125\n",
      "camera complete\n",
      "PCA: 5.444444444444445\n",
      "powermeter complete\n",
      "953.1637573242188\n",
      "spectrometer complete\n",
      "n_frames 50\n"
     ]
    },
    {
     "name": "stderr",
     "output_type": "stream",
     "text": [
      "\n",
      "\n",
      " 30%|███       | 6/20 [01:14<02:59, 12.80s/it]\u001B[A\u001B[A"
     ]
    },
    {
     "name": "stdout",
     "output_type": "stream",
     "text": [
      "Max pixel:  155.74\n",
      "953.1637573242188\n",
      "camera complete\n",
      "PCA: 5.444444444444445\n",
      "powermeter complete\n",
      "953.3973999023438\n",
      "spectrometer complete\n",
      "n_frames 50\n"
     ]
    },
    {
     "name": "stderr",
     "output_type": "stream",
     "text": [
      "\n",
      "\n",
      " 35%|███▌      | 7/20 [01:25<02:37, 12.11s/it]\u001B[A\u001B[A"
     ]
    },
    {
     "name": "stdout",
     "output_type": "stream",
     "text": [
      "Max pixel:  206.64\n",
      "953.3973999023438\n",
      "camera complete\n",
      "PCA: 5.444444444444445\n",
      "powermeter complete\n",
      "953.0079345703125\n",
      "spectrometer complete\n",
      "n_frames 50\n"
     ]
    },
    {
     "name": "stderr",
     "output_type": "stream",
     "text": [
      "\n",
      "\n",
      " 40%|████      | 8/20 [01:35<02:18, 11.57s/it]\u001B[A\u001B[A"
     ]
    },
    {
     "name": "stdout",
     "output_type": "stream",
     "text": [
      "Max pixel:  192.04\n",
      "953.0079345703125\n",
      "camera complete\n",
      "PCA: 5.444444444444445\n",
      "powermeter complete\n",
      "953.1637573242188\n",
      "spectrometer complete\n",
      "n_frames 50\n"
     ]
    },
    {
     "name": "stderr",
     "output_type": "stream",
     "text": [
      "\n",
      "\n",
      " 45%|████▌     | 9/20 [01:46<02:03, 11.20s/it]\u001B[A\u001B[A"
     ]
    },
    {
     "name": "stdout",
     "output_type": "stream",
     "text": [
      "Max pixel:  123.28\n",
      "953.1637573242188\n",
      "camera complete\n",
      "PCA: 5.444444444444445\n",
      "powermeter complete\n",
      "953.1637573242188\n",
      "spectrometer complete\n",
      "n_frames 50\n"
     ]
    },
    {
     "name": "stderr",
     "output_type": "stream",
     "text": [
      "\n",
      "\n",
      " 50%|█████     | 10/20 [01:56<01:49, 10.95s/it]\u001B[A\u001B[A"
     ]
    },
    {
     "name": "stdout",
     "output_type": "stream",
     "text": [
      "Max pixel:  120.26\n",
      "953.1637573242188\n",
      "camera complete\n",
      "PCA: 5.444444444444445\n",
      "powermeter complete\n",
      "953.2416381835938\n",
      "spectrometer complete\n",
      "n_frames 50\n"
     ]
    },
    {
     "name": "stderr",
     "output_type": "stream",
     "text": [
      "\n",
      "\n",
      " 55%|█████▌    | 11/20 [02:07<01:37, 10.79s/it]\u001B[A\u001B[A"
     ]
    },
    {
     "name": "stdout",
     "output_type": "stream",
     "text": [
      "Max pixel:  196.3\n",
      "953.2416381835938\n",
      "camera complete\n",
      "PCA: 5.444444444444445\n",
      "powermeter complete\n",
      "953.0079345703125\n",
      "spectrometer complete\n",
      "n_frames 50\n"
     ]
    },
    {
     "name": "stderr",
     "output_type": "stream",
     "text": [
      "\n",
      "\n",
      " 60%|██████    | 12/20 [02:17<01:25, 10.66s/it]\u001B[A\u001B[A"
     ]
    },
    {
     "name": "stdout",
     "output_type": "stream",
     "text": [
      "Max pixel:  132.98\n",
      "953.0079345703125\n",
      "camera complete\n",
      "PCA: 5.444444444444445\n",
      "powermeter complete\n",
      "953.2416381835938\n",
      "spectrometer complete\n",
      "n_frames 50\n"
     ]
    },
    {
     "name": "stderr",
     "output_type": "stream",
     "text": [
      "\n",
      "\n",
      " 65%|██████▌   | 13/20 [02:28<01:14, 10.70s/it]\u001B[A\u001B[A"
     ]
    },
    {
     "name": "stdout",
     "output_type": "stream",
     "text": [
      "Max pixel:  150.66\n",
      "953.2416381835938\n",
      "camera complete\n",
      "PCA: 5.444444444444445\n",
      "powermeter complete\n",
      "953.2416381835938\n",
      "spectrometer complete\n",
      "n_frames 50\n"
     ]
    },
    {
     "name": "stderr",
     "output_type": "stream",
     "text": [
      "\n",
      "\n",
      " 70%|███████   | 14/20 [02:39<01:04, 10.70s/it]\u001B[A\u001B[A"
     ]
    },
    {
     "name": "stdout",
     "output_type": "stream",
     "text": [
      "Max pixel:  89.82\n",
      "953.2416381835938\n",
      "camera complete\n",
      "PCA: 5.444444444444445\n",
      "powermeter complete\n",
      "953.319580078125\n",
      "spectrometer complete\n",
      "n_frames 50\n"
     ]
    },
    {
     "name": "stderr",
     "output_type": "stream",
     "text": [
      "\n",
      "\n",
      " 75%|███████▌  | 15/20 [02:49<00:53, 10.70s/it]\u001B[A\u001B[A"
     ]
    },
    {
     "name": "stdout",
     "output_type": "stream",
     "text": [
      "Max pixel:  175.38\n",
      "953.319580078125\n",
      "camera complete\n",
      "PCA: 5.444444444444445\n",
      "powermeter complete\n",
      "952.9299926757812\n",
      "spectrometer complete\n",
      "n_frames 50\n"
     ]
    },
    {
     "name": "stderr",
     "output_type": "stream",
     "text": [
      "\n",
      "\n",
      " 80%|████████  | 16/20 [03:00<00:42, 10.71s/it]\u001B[A\u001B[A"
     ]
    },
    {
     "name": "stdout",
     "output_type": "stream",
     "text": [
      "Max pixel:  122.24\n",
      "952.9299926757812\n",
      "camera complete\n",
      "PCA: 5.444444444444445\n",
      "powermeter complete\n",
      "953.0079345703125\n",
      "spectrometer complete\n",
      "n_frames 50\n"
     ]
    },
    {
     "name": "stderr",
     "output_type": "stream",
     "text": [
      "\n",
      "\n",
      " 85%|████████▌ | 17/20 [03:11<00:32, 10.71s/it]\u001B[A\u001B[A"
     ]
    },
    {
     "name": "stdout",
     "output_type": "stream",
     "text": [
      "Max pixel:  166.48\n",
      "953.0079345703125\n",
      "camera complete\n",
      "PCA: 5.444444444444445\n",
      "powermeter complete\n",
      "952.77392578125\n",
      "spectrometer complete\n",
      "n_frames 50\n"
     ]
    },
    {
     "name": "stderr",
     "output_type": "stream",
     "text": [
      "\n",
      "\n",
      " 90%|█████████ | 18/20 [03:22<00:21, 10.76s/it]\u001B[A\u001B[A"
     ]
    },
    {
     "name": "stdout",
     "output_type": "stream",
     "text": [
      "Max pixel:  176.78\n",
      "952.77392578125\n",
      "camera complete\n",
      "PCA: 5.444444444444445\n",
      "powermeter complete\n",
      "952.9299926757812\n",
      "spectrometer complete\n",
      "n_frames 50\n"
     ]
    },
    {
     "name": "stderr",
     "output_type": "stream",
     "text": [
      "\n",
      "\n",
      " 95%|█████████▌| 19/20 [03:32<00:10, 10.75s/it]\u001B[A\u001B[A"
     ]
    },
    {
     "name": "stdout",
     "output_type": "stream",
     "text": [
      "Max pixel:  49.64\n",
      "952.9299926757812\n",
      "camera complete\n",
      "PCA: 5.444444444444445\n",
      "powermeter complete\n",
      "952.6959228515625\n",
      "spectrometer complete\n",
      "n_frames 50\n"
     ]
    },
    {
     "name": "stderr",
     "output_type": "stream",
     "text": [
      "\n",
      "\n",
      "100%|██████████| 20/20 [03:43<00:00, 11.18s/it]\u001B[A\u001B[A\n",
      "\n",
      " 30%|███       | 3/10 [11:09<26:02, 223.25s/it]\u001B[A"
     ]
    },
    {
     "name": "stdout",
     "output_type": "stream",
     "text": [
      "Max pixel:  191.22\n",
      "952.6959228515625\n",
      "camera complete\n",
      "20240820_073647 20240820_074020\n",
      "3.666666666666667\n",
      "41231\n"
     ]
    },
    {
     "name": "stderr",
     "output_type": "stream",
     "text": [
      "\n",
      "\n",
      "  0%|          | 0/20 [00:00<?, ?it/s]\u001B[A\u001B[A"
     ]
    },
    {
     "name": "stdout",
     "output_type": "stream",
     "text": [
      "PCA: 3.666666666666667\n",
      "powermeter complete\n",
      "954.1744384765625\n",
      "spectrometer complete\n",
      "n_frames 2\n",
      "Max pixel:  188.0\n",
      "954.1744384765625\n",
      "camera complete\n"
     ]
    },
    {
     "name": "stderr",
     "output_type": "stream",
     "text": [
      "\n",
      "\n",
      "  5%|▌         | 1/20 [00:11<03:41, 11.66s/it]\u001B[A\u001B[A"
     ]
    },
    {
     "name": "stdout",
     "output_type": "stream",
     "text": [
      "PCA: 3.666666666666667\n",
      "powermeter complete\n",
      "954.406982421875\n",
      "spectrometer complete\n",
      "n_frames 50\n"
     ]
    },
    {
     "name": "stderr",
     "output_type": "stream",
     "text": [
      "\n",
      "\n",
      " 10%|█         | 2/20 [00:23<03:29, 11.62s/it]\u001B[A\u001B[A"
     ]
    },
    {
     "name": "stdout",
     "output_type": "stream",
     "text": [
      "Max pixel:  11.16\n",
      "954.406982421875\n",
      "camera complete\n",
      "PCA: 3.666666666666667\n",
      "powermeter complete\n",
      "954.0968627929688\n",
      "spectrometer complete\n",
      "n_frames 8\n"
     ]
    },
    {
     "name": "stderr",
     "output_type": "stream",
     "text": [
      "\n",
      "\n"
     ]
    },
    {
     "name": "stdout",
     "output_type": "stream",
     "text": [
      "Max pixel:  153.75\n",
      "954.0968627929688\n",
      "camera complete\n"
     ]
    },
    {
     "name": "stderr",
     "output_type": "stream",
     "text": [
      " 15%|█▌        | 3/20 [00:34<03:17, 11.61s/it]\u001B[A\u001B[A"
     ]
    },
    {
     "name": "stdout",
     "output_type": "stream",
     "text": [
      "PCA: 3.666666666666667\n",
      "powermeter complete\n",
      "953.6307373046875\n",
      "spectrometer complete\n",
      "n_frames 50\n"
     ]
    },
    {
     "name": "stderr",
     "output_type": "stream",
     "text": [
      "\n",
      "\n",
      " 20%|██        | 4/20 [00:45<02:58, 11.14s/it]\u001B[A\u001B[A"
     ]
    },
    {
     "name": "stdout",
     "output_type": "stream",
     "text": [
      "Max pixel:  86.64\n",
      "953.6307373046875\n",
      "camera complete\n",
      "PCA: 3.666666666666667\n",
      "powermeter complete\n",
      "953.8639526367188\n",
      "spectrometer complete\n",
      "n_frames 50\n"
     ]
    },
    {
     "name": "stderr",
     "output_type": "stream",
     "text": [
      "\n",
      "\n",
      " 25%|██▌       | 5/20 [00:56<02:45, 11.06s/it]\u001B[A\u001B[A"
     ]
    },
    {
     "name": "stdout",
     "output_type": "stream",
     "text": [
      "Max pixel:  252.3\n",
      "953.8639526367188\n",
      "camera complete\n",
      "PCA: 3.666666666666667\n",
      "powermeter complete\n",
      "953.7861328125\n",
      "spectrometer complete\n",
      "n_frames 50\n"
     ]
    },
    {
     "name": "stderr",
     "output_type": "stream",
     "text": [
      "\n",
      "\n",
      " 30%|███       | 6/20 [01:15<03:13, 13.84s/it]\u001B[A\u001B[A"
     ]
    },
    {
     "name": "stdout",
     "output_type": "stream",
     "text": [
      "Max pixel:  235.5\n",
      "953.7861328125\n",
      "camera complete\n",
      "PCA: 3.666666666666667\n",
      "powermeter complete\n",
      "953.6307373046875\n",
      "spectrometer complete\n",
      "n_frames 50\n"
     ]
    },
    {
     "name": "stderr",
     "output_type": "stream",
     "text": [
      "\n",
      "\n",
      " 35%|███▌      | 7/20 [01:25<02:45, 12.75s/it]\u001B[A\u001B[A"
     ]
    },
    {
     "name": "stdout",
     "output_type": "stream",
     "text": [
      "Max pixel:  250.64\n",
      "953.6307373046875\n",
      "camera complete\n",
      "PCA: 3.666666666666667\n",
      "powermeter complete\n",
      "953.6307373046875\n",
      "spectrometer complete\n",
      "n_frames 50\n"
     ]
    },
    {
     "name": "stderr",
     "output_type": "stream",
     "text": [
      "\n",
      "\n",
      " 40%|████      | 8/20 [01:36<02:23, 11.99s/it]\u001B[A\u001B[A"
     ]
    },
    {
     "name": "stdout",
     "output_type": "stream",
     "text": [
      "Max pixel:  158.78\n",
      "953.6307373046875\n",
      "camera complete\n",
      "PCA: 3.666666666666667\n",
      "powermeter complete\n",
      "953.70849609375\n",
      "spectrometer complete\n",
      "n_frames 50\n"
     ]
    },
    {
     "name": "stderr",
     "output_type": "stream",
     "text": [
      "\n",
      "\n",
      " 45%|████▌     | 9/20 [01:46<02:06, 11.49s/it]\u001B[A\u001B[A"
     ]
    },
    {
     "name": "stdout",
     "output_type": "stream",
     "text": [
      "Max pixel:  111.98\n",
      "953.70849609375\n",
      "camera complete\n",
      "PCA: 3.666666666666667\n",
      "powermeter complete\n",
      "953.6307373046875\n",
      "spectrometer complete\n",
      "n_frames 50\n"
     ]
    },
    {
     "name": "stderr",
     "output_type": "stream",
     "text": [
      "\n",
      "\n",
      " 50%|█████     | 10/20 [01:57<01:51, 11.16s/it]\u001B[A\u001B[A"
     ]
    },
    {
     "name": "stdout",
     "output_type": "stream",
     "text": [
      "Max pixel:  125.6\n",
      "953.6307373046875\n",
      "camera complete\n",
      "PCA: 3.666666666666667\n",
      "powermeter complete\n",
      "953.6307373046875\n",
      "spectrometer complete\n",
      "n_frames 50\n"
     ]
    },
    {
     "name": "stderr",
     "output_type": "stream",
     "text": [
      "\n",
      "\n",
      " 55%|█████▌    | 11/20 [02:07<01:38, 10.91s/it]\u001B[A\u001B[A"
     ]
    },
    {
     "name": "stdout",
     "output_type": "stream",
     "text": [
      "Max pixel:  85.08\n",
      "953.6307373046875\n",
      "camera complete\n",
      "PCA: 3.666666666666667\n",
      "powermeter complete\n",
      "953.552978515625\n",
      "spectrometer complete\n",
      "n_frames 50\n"
     ]
    },
    {
     "name": "stderr",
     "output_type": "stream",
     "text": [
      "\n",
      "\n",
      " 60%|██████    | 12/20 [02:17<01:26, 10.76s/it]\u001B[A\u001B[A"
     ]
    },
    {
     "name": "stdout",
     "output_type": "stream",
     "text": [
      "Max pixel:  212.32\n",
      "953.552978515625\n",
      "camera complete\n",
      "PCA: 3.666666666666667\n",
      "powermeter complete\n",
      "953.3973999023438\n",
      "spectrometer complete\n",
      "n_frames 50\n"
     ]
    },
    {
     "name": "stderr",
     "output_type": "stream",
     "text": [
      "\n",
      "\n",
      " 65%|██████▌   | 13/20 [02:28<01:14, 10.66s/it]\u001B[A\u001B[A"
     ]
    },
    {
     "name": "stdout",
     "output_type": "stream",
     "text": [
      "Max pixel:  212.7\n",
      "953.3973999023438\n",
      "camera complete\n",
      "PCA: 3.666666666666667\n",
      "powermeter complete\n",
      "953.4752197265625\n",
      "spectrometer complete\n",
      "n_frames 50\n"
     ]
    },
    {
     "name": "stderr",
     "output_type": "stream",
     "text": [
      "\n",
      "\n",
      " 70%|███████   | 14/20 [02:38<01:03, 10.59s/it]\u001B[A\u001B[A"
     ]
    },
    {
     "name": "stdout",
     "output_type": "stream",
     "text": [
      "Max pixel:  151.18\n",
      "953.4752197265625\n",
      "camera complete\n",
      "PCA: 3.666666666666667\n",
      "powermeter complete\n",
      "953.4752197265625\n",
      "spectrometer complete\n",
      "n_frames 50\n"
     ]
    },
    {
     "name": "stderr",
     "output_type": "stream",
     "text": [
      "\n",
      "\n",
      " 75%|███████▌  | 15/20 [02:49<00:53, 10.65s/it]\u001B[A\u001B[A"
     ]
    },
    {
     "name": "stdout",
     "output_type": "stream",
     "text": [
      "Max pixel:  173.24\n",
      "953.4752197265625\n",
      "camera complete\n",
      "PCA: 3.666666666666667\n",
      "powermeter complete\n",
      "953.0858764648438\n",
      "spectrometer complete\n",
      "n_frames 50\n"
     ]
    },
    {
     "name": "stderr",
     "output_type": "stream",
     "text": [
      "\n",
      "\n",
      " 80%|████████  | 16/20 [03:00<00:42, 10.66s/it]\u001B[A\u001B[A"
     ]
    },
    {
     "name": "stdout",
     "output_type": "stream",
     "text": [
      "Max pixel:  183.28\n",
      "953.0858764648438\n",
      "camera complete\n",
      "PCA: 3.666666666666667\n",
      "powermeter complete\n",
      "953.0858764648438\n",
      "spectrometer complete\n",
      "n_frames 50\n"
     ]
    },
    {
     "name": "stderr",
     "output_type": "stream",
     "text": [
      "\n",
      "\n",
      " 85%|████████▌ | 17/20 [03:10<00:32, 10.68s/it]\u001B[A\u001B[A"
     ]
    },
    {
     "name": "stdout",
     "output_type": "stream",
     "text": [
      "Max pixel:  42.04\n",
      "953.0858764648438\n",
      "camera complete\n",
      "PCA: 3.666666666666667\n",
      "powermeter complete\n",
      "953.0858764648438\n",
      "spectrometer complete\n",
      "n_frames 50\n"
     ]
    },
    {
     "name": "stderr",
     "output_type": "stream",
     "text": [
      "\n",
      "\n",
      " 90%|█████████ | 18/20 [03:21<00:21, 10.58s/it]\u001B[A\u001B[A"
     ]
    },
    {
     "name": "stdout",
     "output_type": "stream",
     "text": [
      "Max pixel:  56.36\n",
      "953.0858764648438\n",
      "camera complete\n",
      "PCA: 3.666666666666667\n",
      "powermeter complete\n",
      "952.9299926757812\n",
      "spectrometer complete\n",
      "n_frames 50\n"
     ]
    },
    {
     "name": "stderr",
     "output_type": "stream",
     "text": [
      "\n",
      "\n",
      " 95%|█████████▌| 19/20 [03:31<00:10, 10.62s/it]\u001B[A\u001B[A"
     ]
    },
    {
     "name": "stdout",
     "output_type": "stream",
     "text": [
      "Max pixel:  59.22\n",
      "952.9299926757812\n",
      "camera complete\n",
      "PCA: 3.666666666666667\n",
      "powermeter complete\n",
      "952.9299926757812\n",
      "spectrometer complete\n",
      "n_frames 50\n"
     ]
    },
    {
     "name": "stderr",
     "output_type": "stream",
     "text": [
      "\n",
      "\n",
      "100%|██████████| 20/20 [03:42<00:00, 11.14s/it]\u001B[A\u001B[A\n",
      "\n",
      " 40%|████      | 4/10 [14:52<22:18, 223.11s/it]\u001B[A"
     ]
    },
    {
     "name": "stdout",
     "output_type": "stream",
     "text": [
      "Max pixel:  34.3\n",
      "952.9299926757812\n",
      "camera complete\n",
      "20240820_074031 20240820_074403\n",
      "1.8888888888888893\n",
      "41231\n"
     ]
    },
    {
     "name": "stderr",
     "output_type": "stream",
     "text": [
      "\n",
      "\n",
      "  0%|          | 0/20 [00:00<?, ?it/s]\u001B[A\u001B[A"
     ]
    },
    {
     "name": "stdout",
     "output_type": "stream",
     "text": [
      "PCA: 1.8888888888888893\n",
      "powermeter complete\n",
      "954.0968627929688\n",
      "spectrometer complete\n",
      "n_frames 2\n",
      "Max pixel:  188.0\n",
      "954.0968627929688\n",
      "camera complete\n"
     ]
    },
    {
     "name": "stderr",
     "output_type": "stream",
     "text": [
      "\n",
      "\n",
      "  5%|▌         | 1/20 [00:11<03:43, 11.75s/it]\u001B[A\u001B[A"
     ]
    },
    {
     "name": "stdout",
     "output_type": "stream",
     "text": [
      "PCA: 1.8888888888888893\n",
      "powermeter complete\n",
      "954.56201171875\n",
      "spectrometer complete\n",
      "n_frames 50\n"
     ]
    },
    {
     "name": "stderr",
     "output_type": "stream",
     "text": [
      "\n",
      "\n",
      " 10%|█         | 2/20 [00:23<03:29, 11.66s/it]\u001B[A\u001B[A"
     ]
    },
    {
     "name": "stdout",
     "output_type": "stream",
     "text": [
      "Max pixel:  6.08\n",
      "954.56201171875\n",
      "camera complete\n",
      "PCA: 1.8888888888888893\n",
      "powermeter complete\n",
      "954.4844970703125\n",
      "spectrometer complete\n",
      "n_frames 8\n",
      "Max pixel:  152.25\n",
      "954.4844970703125\n",
      "camera complete\n"
     ]
    },
    {
     "name": "stderr",
     "output_type": "stream",
     "text": [
      "\n",
      "\n",
      " 15%|█▌        | 3/20 [00:34<03:16, 11.55s/it]\u001B[A\u001B[A"
     ]
    },
    {
     "name": "stdout",
     "output_type": "stream",
     "text": [
      "PCA: 1.8888888888888893\n",
      "powermeter complete\n",
      "953.7861328125\n",
      "spectrometer complete\n",
      "n_frames 50\n"
     ]
    },
    {
     "name": "stderr",
     "output_type": "stream",
     "text": [
      "\n",
      "\n",
      " 20%|██        | 4/20 [00:46<03:06, 11.64s/it]\u001B[A\u001B[A"
     ]
    },
    {
     "name": "stdout",
     "output_type": "stream",
     "text": [
      "Max pixel:  115.5\n",
      "953.7861328125\n",
      "camera complete\n",
      "PCA: 1.8888888888888893\n",
      "powermeter complete\n",
      "954.3295288085938\n",
      "spectrometer complete\n",
      "n_frames 50\n"
     ]
    },
    {
     "name": "stderr",
     "output_type": "stream",
     "text": [
      "\n",
      "\n",
      " 25%|██▌       | 5/20 [00:57<02:51, 11.44s/it]\u001B[A\u001B[A"
     ]
    },
    {
     "name": "stdout",
     "output_type": "stream",
     "text": [
      "Max pixel:  206.4\n",
      "954.3295288085938\n",
      "camera complete\n",
      "PCA: 1.8888888888888893\n",
      "powermeter complete\n",
      "954.1744384765625\n",
      "spectrometer complete\n",
      "n_frames 50\n"
     ]
    },
    {
     "name": "stderr",
     "output_type": "stream",
     "text": [
      "\n",
      "\n",
      " 30%|███       | 6/20 [01:16<03:17, 14.09s/it]\u001B[A\u001B[A"
     ]
    },
    {
     "name": "stdout",
     "output_type": "stream",
     "text": [
      "Max pixel:  185.32\n",
      "954.1744384765625\n",
      "camera complete\n",
      "PCA: 1.8888888888888893\n",
      "powermeter complete\n",
      "954.0968627929688\n",
      "spectrometer complete\n",
      "n_frames 50\n"
     ]
    },
    {
     "name": "stderr",
     "output_type": "stream",
     "text": [
      "\n",
      "\n",
      " 35%|███▌      | 7/20 [01:27<02:47, 12.89s/it]\u001B[A\u001B[A"
     ]
    },
    {
     "name": "stdout",
     "output_type": "stream",
     "text": [
      "Max pixel:  61.04\n",
      "954.0968627929688\n",
      "camera complete\n",
      "PCA: 1.8888888888888893\n",
      "powermeter complete\n",
      "953.9415893554688\n",
      "spectrometer complete\n",
      "n_frames 50\n"
     ]
    },
    {
     "name": "stderr",
     "output_type": "stream",
     "text": [
      "\n",
      "\n",
      " 40%|████      | 8/20 [01:37<02:25, 12.12s/it]\u001B[A\u001B[A"
     ]
    },
    {
     "name": "stdout",
     "output_type": "stream",
     "text": [
      "Max pixel:  173.12\n",
      "953.9415893554688\n",
      "camera complete\n",
      "PCA: 1.8888888888888893\n",
      "powermeter complete\n",
      "954.948974609375\n",
      "spectrometer complete\n",
      "n_frames 50\n"
     ]
    },
    {
     "name": "stderr",
     "output_type": "stream",
     "text": [
      "\n",
      "\n",
      " 45%|████▌     | 9/20 [01:48<02:07, 11.55s/it]\u001B[A\u001B[A"
     ]
    },
    {
     "name": "stdout",
     "output_type": "stream",
     "text": [
      "Max pixel:  137.54\n",
      "954.948974609375\n",
      "camera complete\n",
      "PCA: 1.8888888888888893\n",
      "powermeter complete\n",
      "954.1744384765625\n",
      "spectrometer complete\n",
      "n_frames 50\n"
     ]
    },
    {
     "name": "stderr",
     "output_type": "stream",
     "text": [
      "\n",
      "\n",
      " 50%|█████     | 10/20 [01:58<01:51, 11.16s/it]\u001B[A\u001B[A"
     ]
    },
    {
     "name": "stdout",
     "output_type": "stream",
     "text": [
      "Max pixel:  61.02\n",
      "954.1744384765625\n",
      "camera complete\n",
      "PCA: 1.8888888888888893\n",
      "powermeter complete\n",
      "954.0968627929688\n",
      "spectrometer complete\n",
      "n_frames 50\n"
     ]
    },
    {
     "name": "stderr",
     "output_type": "stream",
     "text": [
      "\n",
      "\n",
      " 55%|█████▌    | 11/20 [02:08<01:38, 10.93s/it]\u001B[A\u001B[A"
     ]
    },
    {
     "name": "stdout",
     "output_type": "stream",
     "text": [
      "Max pixel:  78.54\n",
      "954.0968627929688\n",
      "camera complete\n",
      "PCA: 1.8888888888888893\n",
      "powermeter complete\n",
      "953.8639526367188\n",
      "spectrometer complete\n",
      "n_frames 50\n"
     ]
    },
    {
     "name": "stderr",
     "output_type": "stream",
     "text": [
      "\n",
      "\n",
      " 60%|██████    | 12/20 [02:19<01:25, 10.73s/it]\u001B[A\u001B[A"
     ]
    },
    {
     "name": "stdout",
     "output_type": "stream",
     "text": [
      "Max pixel:  143.46\n",
      "953.8639526367188\n",
      "camera complete\n",
      "PCA: 1.8888888888888893\n",
      "powermeter complete\n",
      "953.8639526367188\n",
      "spectrometer complete\n",
      "n_frames 50\n"
     ]
    },
    {
     "name": "stderr",
     "output_type": "stream",
     "text": [
      "\n",
      "\n",
      " 65%|██████▌   | 13/20 [02:29<01:14, 10.65s/it]\u001B[A\u001B[A"
     ]
    },
    {
     "name": "stdout",
     "output_type": "stream",
     "text": [
      "Max pixel:  205.8\n",
      "953.8639526367188\n",
      "camera complete\n",
      "PCA: 1.8888888888888893\n",
      "powermeter complete\n",
      "953.7861328125\n",
      "spectrometer complete\n",
      "n_frames 50\n"
     ]
    },
    {
     "name": "stderr",
     "output_type": "stream",
     "text": [
      "\n",
      "\n",
      " 70%|███████   | 14/20 [02:39<01:03, 10.57s/it]\u001B[A\u001B[A"
     ]
    },
    {
     "name": "stdout",
     "output_type": "stream",
     "text": [
      "Max pixel:  142.0\n",
      "953.7861328125\n",
      "camera complete\n",
      "PCA: 1.8888888888888893\n",
      "powermeter complete\n",
      "953.70849609375\n",
      "spectrometer complete\n",
      "n_frames 50\n"
     ]
    },
    {
     "name": "stderr",
     "output_type": "stream",
     "text": [
      "\n",
      "\n",
      " 75%|███████▌  | 15/20 [02:50<00:52, 10.53s/it]\u001B[A\u001B[A"
     ]
    },
    {
     "name": "stdout",
     "output_type": "stream",
     "text": [
      "Max pixel:  93.56\n",
      "953.70849609375\n",
      "camera complete\n",
      "PCA: 1.8888888888888893\n",
      "powermeter complete\n",
      "953.4752197265625\n",
      "spectrometer complete\n",
      "n_frames 50\n"
     ]
    },
    {
     "name": "stderr",
     "output_type": "stream",
     "text": [
      "\n",
      "\n",
      " 80%|████████  | 16/20 [03:01<00:42, 10.61s/it]\u001B[A\u001B[A"
     ]
    },
    {
     "name": "stdout",
     "output_type": "stream",
     "text": [
      "Max pixel:  66.0\n",
      "953.4752197265625\n",
      "camera complete\n",
      "PCA: 1.8888888888888893\n",
      "powermeter complete\n",
      "955.0262451171875\n",
      "spectrometer complete\n",
      "n_frames 50\n"
     ]
    },
    {
     "name": "stderr",
     "output_type": "stream",
     "text": [
      "\n",
      "\n",
      " 85%|████████▌ | 17/20 [03:11<00:31, 10.54s/it]\u001B[A\u001B[A"
     ]
    },
    {
     "name": "stdout",
     "output_type": "stream",
     "text": [
      "Max pixel:  97.1\n",
      "955.0262451171875\n",
      "camera complete\n",
      "PCA: 1.8888888888888893\n",
      "powermeter complete\n",
      "953.70849609375\n",
      "spectrometer complete\n",
      "n_frames 50\n"
     ]
    },
    {
     "name": "stderr",
     "output_type": "stream",
     "text": [
      "\n",
      "\n",
      " 90%|█████████ | 18/20 [03:21<00:20, 10.48s/it]\u001B[A\u001B[A"
     ]
    },
    {
     "name": "stdout",
     "output_type": "stream",
     "text": [
      "Max pixel:  62.24\n",
      "953.70849609375\n",
      "camera complete\n",
      "PCA: 1.8888888888888893\n",
      "powermeter complete\n",
      "953.6307373046875\n",
      "spectrometer complete\n",
      "n_frames 50\n"
     ]
    },
    {
     "name": "stderr",
     "output_type": "stream",
     "text": [
      "\n",
      "\n",
      " 95%|█████████▌| 19/20 [03:32<00:10, 10.46s/it]\u001B[A\u001B[A"
     ]
    },
    {
     "name": "stdout",
     "output_type": "stream",
     "text": [
      "Max pixel:  87.1\n",
      "953.6307373046875\n",
      "camera complete\n",
      "PCA: 1.8888888888888893\n",
      "powermeter complete\n",
      "953.7861328125\n",
      "spectrometer complete\n",
      "n_frames 50\n"
     ]
    },
    {
     "name": "stderr",
     "output_type": "stream",
     "text": [
      "\n",
      "\n",
      "100%|██████████| 20/20 [03:42<00:00, 11.13s/it]\u001B[A\u001B[A\n",
      "\n",
      " 50%|█████     | 5/10 [18:34<18:34, 222.96s/it]\u001B[A"
     ]
    },
    {
     "name": "stdout",
     "output_type": "stream",
     "text": [
      "Max pixel:  237.4\n",
      "953.7861328125\n",
      "camera complete\n",
      "20240820_074414 20240820_074746\n",
      "0.11111111111111072\n",
      "41231\n"
     ]
    },
    {
     "name": "stderr",
     "output_type": "stream",
     "text": [
      "\n",
      "\n",
      "  0%|          | 0/20 [00:00<?, ?it/s]\u001B[A\u001B[A"
     ]
    },
    {
     "name": "stdout",
     "output_type": "stream",
     "text": [
      "PCA: 0.11111111111111072\n",
      "powermeter complete\n",
      "955.4896850585938\n",
      "spectrometer complete\n",
      "n_frames 2\n",
      "Max pixel:  188.5\n",
      "955.4896850585938\n",
      "camera complete\n"
     ]
    },
    {
     "name": "stderr",
     "output_type": "stream",
     "text": [
      "\n",
      "\n",
      "  5%|▌         | 1/20 [00:11<03:42, 11.71s/it]\u001B[A\u001B[A"
     ]
    },
    {
     "name": "stdout",
     "output_type": "stream",
     "text": [
      "PCA: 0.11111111111111072\n",
      "powermeter complete\n",
      "955.4896850585938\n",
      "spectrometer complete\n",
      "n_frames 50\n"
     ]
    },
    {
     "name": "stderr",
     "output_type": "stream",
     "text": [
      "\n",
      "\n",
      " 10%|█         | 2/20 [00:23<03:29, 11.64s/it]\u001B[A\u001B[A"
     ]
    },
    {
     "name": "stdout",
     "output_type": "stream",
     "text": [
      "Max pixel:  11.16\n",
      "955.4896850585938\n",
      "camera complete\n",
      "PCA: 0.11111111111111072\n",
      "powermeter complete\n",
      "955.4896850585938\n",
      "spectrometer complete\n",
      "n_frames 4\n",
      "Max pixel:  229.75\n",
      "955.4896850585938\n",
      "camera complete\n"
     ]
    },
    {
     "name": "stderr",
     "output_type": "stream",
     "text": [
      "\n",
      "\n",
      " 15%|█▌        | 3/20 [00:34<03:17, 11.61s/it]\u001B[A\u001B[A"
     ]
    },
    {
     "name": "stdout",
     "output_type": "stream",
     "text": [
      "PCA: 0.11111111111111072\n",
      "powermeter complete\n",
      "955.4896850585938\n",
      "spectrometer complete\n",
      "n_frames 50\n"
     ]
    },
    {
     "name": "stderr",
     "output_type": "stream",
     "text": [
      "\n",
      "\n",
      " 20%|██        | 4/20 [00:46<03:04, 11.51s/it]\u001B[A\u001B[A"
     ]
    },
    {
     "name": "stdout",
     "output_type": "stream",
     "text": [
      "Max pixel:  6.08\n",
      "955.4896850585938\n",
      "camera complete\n",
      "PCA: 0.11111111111111072\n",
      "powermeter complete\n",
      "954.948974609375\n",
      "spectrometer complete\n",
      "n_frames 50\n"
     ]
    },
    {
     "name": "stderr",
     "output_type": "stream",
     "text": [
      "\n",
      "\n",
      " 25%|██▌       | 5/20 [00:56<02:45, 11.07s/it]\u001B[A\u001B[A"
     ]
    },
    {
     "name": "stdout",
     "output_type": "stream",
     "text": [
      "Max pixel:  6.62\n",
      "954.948974609375\n",
      "camera complete\n",
      "PCA: 0.11111111111111072\n",
      "powermeter complete\n",
      "955.1035766601562\n",
      "spectrometer complete\n",
      "n_frames 50\n"
     ]
    },
    {
     "name": "stderr",
     "output_type": "stream",
     "text": [
      "\n",
      "\n",
      " 30%|███       | 6/20 [01:07<02:34, 11.05s/it]\u001B[A\u001B[A"
     ]
    },
    {
     "name": "stdout",
     "output_type": "stream",
     "text": [
      "Max pixel:  191.26\n",
      "955.1035766601562\n",
      "camera complete\n",
      "PCA: 0.11111111111111072\n",
      "powermeter complete\n",
      "954.8716430664062\n",
      "spectrometer complete\n",
      "n_frames 50\n"
     ]
    },
    {
     "name": "stderr",
     "output_type": "stream",
     "text": [
      "\n",
      "\n",
      " 35%|███▌      | 7/20 [01:26<02:58, 13.75s/it]\u001B[A\u001B[A"
     ]
    },
    {
     "name": "stdout",
     "output_type": "stream",
     "text": [
      "Max pixel:  69.4\n",
      "954.8716430664062\n",
      "camera complete\n",
      "PCA: 0.11111111111111072\n",
      "powermeter complete\n",
      "956.4906005859375\n",
      "spectrometer complete\n",
      "n_frames 50\n"
     ]
    },
    {
     "name": "stderr",
     "output_type": "stream",
     "text": [
      "\n",
      "\n",
      " 40%|████      | 8/20 [01:37<02:32, 12.68s/it]\u001B[A\u001B[A"
     ]
    },
    {
     "name": "stdout",
     "output_type": "stream",
     "text": [
      "Max pixel:  228.2\n",
      "956.4906005859375\n",
      "camera complete\n",
      "PCA: 0.11111111111111072\n",
      "powermeter complete\n",
      "955.1035766601562\n",
      "spectrometer complete\n",
      "n_frames 50\n"
     ]
    },
    {
     "name": "stderr",
     "output_type": "stream",
     "text": [
      "\n",
      "\n",
      " 45%|████▌     | 9/20 [01:47<02:11, 11.94s/it]\u001B[A\u001B[A"
     ]
    },
    {
     "name": "stdout",
     "output_type": "stream",
     "text": [
      "Max pixel:  200.94\n",
      "955.1035766601562\n",
      "camera complete\n",
      "PCA: 0.11111111111111072\n",
      "powermeter complete\n",
      "955.0262451171875\n",
      "spectrometer complete\n",
      "n_frames 50\n"
     ]
    },
    {
     "name": "stderr",
     "output_type": "stream",
     "text": [
      "\n",
      "\n",
      " 50%|█████     | 10/20 [01:58<01:55, 11.51s/it]\u001B[A\u001B[A"
     ]
    },
    {
     "name": "stdout",
     "output_type": "stream",
     "text": [
      "Max pixel:  199.4\n",
      "955.0262451171875\n",
      "camera complete\n",
      "PCA: 0.11111111111111072\n",
      "powermeter complete\n",
      "955.1808471679688\n",
      "spectrometer complete\n",
      "n_frames 50\n"
     ]
    },
    {
     "name": "stderr",
     "output_type": "stream",
     "text": [
      "\n",
      "\n",
      " 55%|█████▌    | 11/20 [02:08<01:40, 11.16s/it]\u001B[A\u001B[A"
     ]
    },
    {
     "name": "stdout",
     "output_type": "stream",
     "text": [
      "Max pixel:  141.82\n",
      "955.1808471679688\n",
      "camera complete\n",
      "PCA: 0.11111111111111072\n",
      "powermeter complete\n",
      "954.7943115234375\n",
      "spectrometer complete\n",
      "n_frames 50\n"
     ]
    },
    {
     "name": "stderr",
     "output_type": "stream",
     "text": [
      "\n",
      "\n",
      " 60%|██████    | 12/20 [02:18<01:27, 10.90s/it]\u001B[A\u001B[A"
     ]
    },
    {
     "name": "stdout",
     "output_type": "stream",
     "text": [
      "Max pixel:  227.48\n",
      "954.7943115234375\n",
      "camera complete\n",
      "PCA: 0.11111111111111072\n",
      "powermeter complete\n",
      "954.948974609375\n",
      "spectrometer complete\n",
      "n_frames 50\n"
     ]
    },
    {
     "name": "stderr",
     "output_type": "stream",
     "text": [
      "\n",
      "\n",
      " 65%|██████▌   | 13/20 [02:29<01:15, 10.73s/it]\u001B[A\u001B[A"
     ]
    },
    {
     "name": "stdout",
     "output_type": "stream",
     "text": [
      "Max pixel:  110.74\n",
      "954.948974609375\n",
      "camera complete\n",
      "PCA: 0.11111111111111072\n",
      "powermeter complete\n",
      "954.7168579101562\n",
      "spectrometer complete\n",
      "n_frames 50\n"
     ]
    },
    {
     "name": "stderr",
     "output_type": "stream",
     "text": [
      "\n",
      "\n",
      " 70%|███████   | 14/20 [02:39<01:03, 10.64s/it]\u001B[A\u001B[A"
     ]
    },
    {
     "name": "stdout",
     "output_type": "stream",
     "text": [
      "Max pixel:  137.96\n",
      "954.7168579101562\n",
      "camera complete\n",
      "PCA: 0.11111111111111072\n",
      "powermeter complete\n",
      "954.8716430664062\n",
      "spectrometer complete\n",
      "n_frames 50\n"
     ]
    },
    {
     "name": "stderr",
     "output_type": "stream",
     "text": [
      "\n",
      "\n",
      " 75%|███████▌  | 15/20 [02:49<00:52, 10.56s/it]\u001B[A\u001B[A"
     ]
    },
    {
     "name": "stdout",
     "output_type": "stream",
     "text": [
      "Max pixel:  73.22\n",
      "954.8716430664062\n",
      "camera complete\n",
      "PCA: 0.11111111111111072\n",
      "powermeter complete\n",
      "954.8716430664062\n",
      "spectrometer complete\n",
      "n_frames 50\n"
     ]
    },
    {
     "name": "stderr",
     "output_type": "stream",
     "text": [
      "\n",
      "\n",
      " 80%|████████  | 16/20 [03:00<00:41, 10.49s/it]\u001B[A\u001B[A"
     ]
    },
    {
     "name": "stdout",
     "output_type": "stream",
     "text": [
      "Max pixel:  74.7\n",
      "954.8716430664062\n",
      "camera complete\n",
      "PCA: 0.11111111111111072\n",
      "powermeter complete\n",
      "954.7943115234375\n",
      "spectrometer complete\n",
      "n_frames 50\n"
     ]
    },
    {
     "name": "stderr",
     "output_type": "stream",
     "text": [
      "\n",
      "\n",
      " 85%|████████▌ | 17/20 [03:10<00:31, 10.47s/it]\u001B[A\u001B[A"
     ]
    },
    {
     "name": "stdout",
     "output_type": "stream",
     "text": [
      "Max pixel:  222.84\n",
      "954.7943115234375\n",
      "camera complete\n",
      "PCA: 0.11111111111111072\n",
      "powermeter complete\n",
      "954.4844970703125\n",
      "spectrometer complete\n",
      "n_frames 50\n"
     ]
    },
    {
     "name": "stderr",
     "output_type": "stream",
     "text": [
      "\n",
      "\n",
      " 90%|█████████ | 18/20 [03:21<00:20, 10.46s/it]\u001B[A\u001B[A"
     ]
    },
    {
     "name": "stdout",
     "output_type": "stream",
     "text": [
      "Max pixel:  146.22\n",
      "954.4844970703125\n",
      "camera complete\n",
      "PCA: 0.11111111111111072\n",
      "powermeter complete\n",
      "954.7168579101562\n",
      "spectrometer complete\n",
      "n_frames 50\n"
     ]
    },
    {
     "name": "stderr",
     "output_type": "stream",
     "text": [
      "\n",
      "\n",
      " 95%|█████████▌| 19/20 [03:31<00:10, 10.42s/it]\u001B[A\u001B[A"
     ]
    },
    {
     "name": "stdout",
     "output_type": "stream",
     "text": [
      "Max pixel:  228.18\n",
      "954.7168579101562\n",
      "camera complete\n",
      "PCA: 0.11111111111111072\n",
      "powermeter complete\n",
      "954.2520141601562\n",
      "spectrometer complete\n",
      "n_frames 50\n"
     ]
    },
    {
     "name": "stderr",
     "output_type": "stream",
     "text": [
      "\n",
      "\n",
      "100%|██████████| 20/20 [03:41<00:00, 11.09s/it]\u001B[A\u001B[A\n",
      "\n",
      " 60%|██████    | 6/10 [22:16<14:50, 222.62s/it]\u001B[A"
     ]
    },
    {
     "name": "stdout",
     "output_type": "stream",
     "text": [
      "Max pixel:  238.38\n",
      "954.2520141601562\n",
      "camera complete\n",
      "20240820_074756 20240820_075128\n",
      "-1.666666666666666\n",
      "41231\n"
     ]
    },
    {
     "name": "stderr",
     "output_type": "stream",
     "text": [
      "\n",
      "\n",
      "  0%|          | 0/20 [00:00<?, ?it/s]\u001B[A\u001B[A"
     ]
    },
    {
     "name": "stdout",
     "output_type": "stream",
     "text": [
      "PCA: -1.666666666666666\n",
      "powermeter complete\n",
      "928.8607177734375\n",
      "spectrometer complete\n",
      "n_frames 2\n",
      "Max pixel:  187.5\n",
      "928.8607177734375\n",
      "camera complete\n"
     ]
    },
    {
     "name": "stderr",
     "output_type": "stream",
     "text": [
      "\n",
      "\n",
      "  5%|▌         | 1/20 [00:11<03:42, 11.72s/it]\u001B[A\u001B[A"
     ]
    },
    {
     "name": "stdout",
     "output_type": "stream",
     "text": [
      "PCA: -1.666666666666666\n",
      "powermeter complete\n",
      "956.18310546875\n",
      "spectrometer complete\n",
      "n_frames 50\n"
     ]
    },
    {
     "name": "stderr",
     "output_type": "stream",
     "text": [
      "\n",
      "\n",
      " 10%|█         | 2/20 [00:23<03:29, 11.64s/it]\u001B[A\u001B[A"
     ]
    },
    {
     "name": "stdout",
     "output_type": "stream",
     "text": [
      "Max pixel:  11.16\n",
      "956.18310546875\n",
      "camera complete\n",
      "PCA: -1.666666666666666\n",
      "powermeter complete\n",
      "956.1061401367188\n",
      "spectrometer complete\n",
      "n_frames 4\n",
      "Max pixel:  228.25\n",
      "956.1061401367188\n",
      "camera complete\n"
     ]
    },
    {
     "name": "stderr",
     "output_type": "stream",
     "text": [
      "\n",
      "\n",
      " 15%|█▌        | 3/20 [00:34<03:17, 11.61s/it]\u001B[A\u001B[A"
     ]
    },
    {
     "name": "stdout",
     "output_type": "stream",
     "text": [
      "PCA: -1.666666666666666\n",
      "powermeter complete\n",
      "956.1061401367188\n",
      "spectrometer complete\n",
      "n_frames 50\n"
     ]
    },
    {
     "name": "stderr",
     "output_type": "stream",
     "text": [
      "\n",
      "\n",
      " 20%|██        | 4/20 [00:46<03:04, 11.52s/it]\u001B[A\u001B[A"
     ]
    },
    {
     "name": "stdout",
     "output_type": "stream",
     "text": [
      "Max pixel:  6.08\n",
      "956.1061401367188\n",
      "camera complete\n",
      "PCA: -1.666666666666666\n",
      "powermeter complete\n",
      "955.9521484375\n",
      "spectrometer complete\n",
      "n_frames 8\n"
     ]
    },
    {
     "name": "stderr",
     "output_type": "stream",
     "text": [
      "\n",
      "\n"
     ]
    },
    {
     "name": "stdout",
     "output_type": "stream",
     "text": [
      "Max pixel:  234.5\n",
      "955.9521484375\n",
      "camera complete\n"
     ]
    },
    {
     "name": "stderr",
     "output_type": "stream",
     "text": [
      " 25%|██▌       | 5/20 [00:57<02:52, 11.50s/it]\u001B[A\u001B[A"
     ]
    },
    {
     "name": "stdout",
     "output_type": "stream",
     "text": [
      "PCA: -1.666666666666666\n",
      "powermeter complete\n",
      "956.260009765625\n",
      "spectrometer complete\n",
      "n_frames 50\n"
     ]
    },
    {
     "name": "stderr",
     "output_type": "stream",
     "text": [
      "\n",
      "\n",
      " 30%|███       | 6/20 [01:09<02:40, 11.46s/it]\u001B[A\u001B[A"
     ]
    },
    {
     "name": "stdout",
     "output_type": "stream",
     "text": [
      "Max pixel:  6.08\n",
      "956.260009765625\n",
      "camera complete\n",
      "PCA: -1.666666666666666\n",
      "powermeter complete\n",
      "956.1061401367188\n",
      "spectrometer complete\n",
      "n_frames 50\n"
     ]
    },
    {
     "name": "stderr",
     "output_type": "stream",
     "text": [
      "\n",
      "\n",
      " 35%|███▌      | 7/20 [01:19<02:26, 11.25s/it]\u001B[A\u001B[A"
     ]
    },
    {
     "name": "stdout",
     "output_type": "stream",
     "text": [
      "Max pixel:  80.68\n",
      "956.1061401367188\n",
      "camera complete\n",
      "PCA: -1.666666666666666\n",
      "powermeter complete\n",
      "956.1061401367188\n",
      "spectrometer complete\n",
      "n_frames 50\n"
     ]
    },
    {
     "name": "stderr",
     "output_type": "stream",
     "text": [
      "\n",
      "\n",
      " 40%|████      | 8/20 [01:30<02:13, 11.15s/it]\u001B[A\u001B[A"
     ]
    },
    {
     "name": "stdout",
     "output_type": "stream",
     "text": [
      "Max pixel:  236.3\n",
      "956.1061401367188\n",
      "camera complete\n",
      "PCA: -1.666666666666666\n",
      "powermeter complete\n",
      "955.9521484375\n",
      "spectrometer complete\n",
      "n_frames 50\n"
     ]
    },
    {
     "name": "stderr",
     "output_type": "stream",
     "text": [
      "\n",
      "\n",
      " 45%|████▌     | 9/20 [01:50<02:30, 13.71s/it]\u001B[A\u001B[A"
     ]
    },
    {
     "name": "stdout",
     "output_type": "stream",
     "text": [
      "Max pixel:  195.54\n",
      "955.9521484375\n",
      "camera complete\n",
      "PCA: -1.666666666666666\n",
      "powermeter complete\n",
      "955.9521484375\n",
      "spectrometer complete\n",
      "n_frames 50\n"
     ]
    },
    {
     "name": "stderr",
     "output_type": "stream",
     "text": [
      "\n",
      "\n",
      " 50%|█████     | 10/20 [02:00<02:06, 12.65s/it]\u001B[A\u001B[A"
     ]
    },
    {
     "name": "stdout",
     "output_type": "stream",
     "text": [
      "Max pixel:  173.82\n",
      "955.9521484375\n",
      "camera complete\n",
      "PCA: -1.666666666666666\n",
      "powermeter complete\n",
      "955.8751220703125\n",
      "spectrometer complete\n",
      "n_frames 50\n"
     ]
    },
    {
     "name": "stderr",
     "output_type": "stream",
     "text": [
      "\n",
      "\n",
      " 55%|█████▌    | 11/20 [02:10<01:47, 11.99s/it]\u001B[A\u001B[A"
     ]
    },
    {
     "name": "stdout",
     "output_type": "stream",
     "text": [
      "Max pixel:  117.02\n",
      "955.8751220703125\n",
      "camera complete\n",
      "PCA: -1.666666666666666\n",
      "powermeter complete\n",
      "956.5673828125\n",
      "spectrometer complete\n",
      "n_frames 50\n"
     ]
    },
    {
     "name": "stderr",
     "output_type": "stream",
     "text": [
      "\n",
      "\n",
      " 60%|██████    | 12/20 [02:21<01:32, 11.50s/it]\u001B[A\u001B[A"
     ]
    },
    {
     "name": "stdout",
     "output_type": "stream",
     "text": [
      "Max pixel:  113.3\n",
      "956.5673828125\n",
      "camera complete\n",
      "PCA: -1.666666666666666\n",
      "powermeter complete\n",
      "956.18310546875\n",
      "spectrometer complete\n",
      "n_frames 50\n"
     ]
    },
    {
     "name": "stderr",
     "output_type": "stream",
     "text": [
      "\n",
      "\n",
      " 65%|██████▌   | 13/20 [02:31<01:18, 11.17s/it]\u001B[A\u001B[A"
     ]
    },
    {
     "name": "stdout",
     "output_type": "stream",
     "text": [
      "Max pixel:  229.1\n",
      "956.18310546875\n",
      "camera complete\n",
      "PCA: -1.666666666666666\n",
      "powermeter complete\n",
      "956.18310546875\n",
      "spectrometer complete\n",
      "n_frames 50\n"
     ]
    },
    {
     "name": "stderr",
     "output_type": "stream",
     "text": [
      "\n",
      "\n",
      " 70%|███████   | 14/20 [02:42<01:05, 10.92s/it]\u001B[A\u001B[A"
     ]
    },
    {
     "name": "stdout",
     "output_type": "stream",
     "text": [
      "Max pixel:  229.36\n",
      "956.18310546875\n",
      "camera complete\n",
      "PCA: -1.666666666666666\n",
      "powermeter complete\n",
      "956.1061401367188\n",
      "spectrometer complete\n",
      "n_frames 50\n"
     ]
    },
    {
     "name": "stderr",
     "output_type": "stream",
     "text": [
      "\n",
      "\n",
      " 75%|███████▌  | 15/20 [02:52<00:53, 10.76s/it]\u001B[A\u001B[A"
     ]
    },
    {
     "name": "stdout",
     "output_type": "stream",
     "text": [
      "Max pixel:  132.9\n",
      "956.1061401367188\n",
      "camera complete\n",
      "PCA: -1.666666666666666\n",
      "powermeter complete\n",
      "955.9521484375\n",
      "spectrometer complete\n",
      "n_frames 50\n"
     ]
    },
    {
     "name": "stderr",
     "output_type": "stream",
     "text": [
      "\n",
      "\n",
      " 80%|████████  | 16/20 [03:02<00:42, 10.66s/it]\u001B[A\u001B[A"
     ]
    },
    {
     "name": "stdout",
     "output_type": "stream",
     "text": [
      "Max pixel:  162.0\n",
      "955.9521484375\n",
      "camera complete\n",
      "PCA: -1.666666666666666\n",
      "powermeter complete\n",
      "955.8751220703125\n",
      "spectrometer complete\n",
      "n_frames 50\n"
     ]
    },
    {
     "name": "stderr",
     "output_type": "stream",
     "text": [
      "\n",
      "\n",
      " 85%|████████▌ | 17/20 [03:13<00:31, 10.58s/it]\u001B[A\u001B[A"
     ]
    },
    {
     "name": "stdout",
     "output_type": "stream",
     "text": [
      "Max pixel:  103.14\n",
      "955.8751220703125\n",
      "camera complete\n",
      "PCA: -1.666666666666666\n",
      "powermeter complete\n",
      "955.798095703125\n",
      "spectrometer complete\n",
      "n_frames 50\n"
     ]
    },
    {
     "name": "stderr",
     "output_type": "stream",
     "text": [
      "\n",
      "\n",
      " 90%|█████████ | 18/20 [03:23<00:21, 10.51s/it]\u001B[A\u001B[A"
     ]
    },
    {
     "name": "stdout",
     "output_type": "stream",
     "text": [
      "Max pixel:  203.02\n",
      "955.798095703125\n",
      "camera complete\n",
      "PCA: -1.666666666666666\n",
      "powermeter complete\n",
      "955.798095703125\n",
      "spectrometer complete\n",
      "n_frames 50\n"
     ]
    },
    {
     "name": "stderr",
     "output_type": "stream",
     "text": [
      "\n",
      "\n",
      " 95%|█████████▌| 19/20 [03:34<00:10, 10.50s/it]\u001B[A\u001B[A"
     ]
    },
    {
     "name": "stdout",
     "output_type": "stream",
     "text": [
      "Max pixel:  248.7\n",
      "955.798095703125\n",
      "camera complete\n",
      "PCA: -1.666666666666666\n",
      "powermeter complete\n",
      "956.260009765625\n",
      "spectrometer complete\n",
      "n_frames 50\n"
     ]
    },
    {
     "name": "stderr",
     "output_type": "stream",
     "text": [
      "\n",
      "\n",
      "100%|██████████| 20/20 [03:44<00:00, 11.23s/it]\u001B[A\u001B[A\n",
      "\n",
      " 70%|███████   | 7/10 [26:01<11:09, 223.29s/it]\u001B[A"
     ]
    },
    {
     "name": "stdout",
     "output_type": "stream",
     "text": [
      "Max pixel:  137.3\n",
      "956.260009765625\n",
      "camera complete\n",
      "20240820_075138 20240820_075513\n",
      "-3.444444444444443\n",
      "41231\n"
     ]
    },
    {
     "name": "stderr",
     "output_type": "stream",
     "text": [
      "\n",
      "\n",
      "  0%|          | 0/20 [00:00<?, ?it/s]\u001B[A\u001B[A"
     ]
    },
    {
     "name": "stdout",
     "output_type": "stream",
     "text": [
      "PCA: -3.444444444444443\n",
      "powermeter complete\n",
      "928.8607177734375\n",
      "spectrometer complete\n",
      "n_frames 2\n",
      "Max pixel:  190.5\n",
      "928.8607177734375\n",
      "camera complete\n"
     ]
    },
    {
     "name": "stderr",
     "output_type": "stream",
     "text": [
      "\n",
      "\n",
      "  5%|▌         | 1/20 [00:11<03:42, 11.72s/it]\u001B[A\u001B[A"
     ]
    },
    {
     "name": "stdout",
     "output_type": "stream",
     "text": [
      "PCA: -3.444444444444443\n",
      "powermeter complete\n",
      "957.334228515625\n",
      "spectrometer complete\n",
      "n_frames 50\n"
     ]
    },
    {
     "name": "stderr",
     "output_type": "stream",
     "text": [
      "\n",
      "\n",
      " 10%|█         | 2/20 [00:23<03:29, 11.65s/it]\u001B[A\u001B[A"
     ]
    },
    {
     "name": "stdout",
     "output_type": "stream",
     "text": [
      "Max pixel:  11.16\n",
      "957.334228515625\n",
      "camera complete\n",
      "PCA: -3.444444444444443\n",
      "powermeter complete\n",
      "957.2576904296875\n",
      "spectrometer complete\n",
      "n_frames 4\n",
      "Max pixel:  220.25\n",
      "957.2576904296875\n",
      "camera complete\n"
     ]
    },
    {
     "name": "stderr",
     "output_type": "stream",
     "text": [
      "\n",
      "\n",
      " 15%|█▌        | 3/20 [00:34<03:17, 11.60s/it]\u001B[A\u001B[A"
     ]
    },
    {
     "name": "stdout",
     "output_type": "stream",
     "text": [
      "PCA: -3.444444444444443\n",
      "powermeter complete\n",
      "957.6402587890625\n",
      "spectrometer complete\n",
      "n_frames 50\n"
     ]
    },
    {
     "name": "stderr",
     "output_type": "stream",
     "text": [
      "\n",
      "\n",
      " 20%|██        | 4/20 [00:46<03:05, 11.56s/it]\u001B[A\u001B[A"
     ]
    },
    {
     "name": "stdout",
     "output_type": "stream",
     "text": [
      "Max pixel:  6.08\n",
      "957.6402587890625\n",
      "camera complete\n",
      "PCA: -3.444444444444443\n",
      "powermeter complete\n",
      "957.4107666015625\n",
      "spectrometer complete\n",
      "n_frames 16\n"
     ]
    },
    {
     "name": "stderr",
     "output_type": "stream",
     "text": [
      "\n",
      "\n",
      " 25%|██▌       | 5/20 [00:57<02:51, 11.47s/it]\u001B[A\u001B[A"
     ]
    },
    {
     "name": "stdout",
     "output_type": "stream",
     "text": [
      "Max pixel:  124.4375\n",
      "957.4107666015625\n",
      "camera complete\n",
      "PCA: -3.444444444444443\n",
      "powermeter complete\n",
      "957.4107666015625\n",
      "spectrometer complete\n",
      "n_frames 8\n"
     ]
    },
    {
     "name": "stderr",
     "output_type": "stream",
     "text": [
      "\n",
      "\n"
     ]
    },
    {
     "name": "stdout",
     "output_type": "stream",
     "text": [
      "Max pixel:  242.125\n",
      "957.4107666015625\n",
      "camera complete\n"
     ]
    },
    {
     "name": "stderr",
     "output_type": "stream",
     "text": [
      " 30%|███       | 6/20 [01:09<02:40, 11.45s/it]\u001B[A\u001B[A"
     ]
    },
    {
     "name": "stdout",
     "output_type": "stream",
     "text": [
      "PCA: -3.444444444444443\n",
      "powermeter complete\n",
      "957.4107666015625\n",
      "spectrometer complete\n",
      "n_frames 50\n"
     ]
    },
    {
     "name": "stderr",
     "output_type": "stream",
     "text": [
      "\n",
      "\n",
      " 35%|███▌      | 7/20 [01:20<02:28, 11.40s/it]\u001B[A\u001B[A"
     ]
    },
    {
     "name": "stdout",
     "output_type": "stream",
     "text": [
      "Max pixel:  6.08\n",
      "957.4107666015625\n",
      "camera complete\n",
      "PCA: -3.444444444444443\n",
      "powermeter complete\n",
      "957.2576904296875\n",
      "spectrometer complete\n",
      "n_frames 16\n"
     ]
    },
    {
     "name": "stderr",
     "output_type": "stream",
     "text": [
      "\n",
      "\n",
      " 40%|████      | 8/20 [01:32<02:18, 11.55s/it]\u001B[A\u001B[A"
     ]
    },
    {
     "name": "stdout",
     "output_type": "stream",
     "text": [
      "Max pixel:  204.0625\n",
      "957.2576904296875\n",
      "camera complete\n",
      "PCA: -3.444444444444443\n",
      "powermeter complete\n",
      "957.1810302734375\n",
      "spectrometer complete\n",
      "n_frames 50\n"
     ]
    },
    {
     "name": "stderr",
     "output_type": "stream",
     "text": [
      "\n",
      "\n",
      " 45%|████▌     | 9/20 [01:43<02:04, 11.35s/it]\u001B[A\u001B[A"
     ]
    },
    {
     "name": "stdout",
     "output_type": "stream",
     "text": [
      "Max pixel:  21.28\n",
      "957.1810302734375\n",
      "camera complete\n",
      "PCA: -3.444444444444443\n",
      "powermeter complete\n",
      "957.1810302734375\n",
      "spectrometer complete\n",
      "n_frames 50\n"
     ]
    },
    {
     "name": "stderr",
     "output_type": "stream",
     "text": [
      "\n",
      "\n",
      " 50%|█████     | 10/20 [01:54<01:52, 11.24s/it]\u001B[A\u001B[A"
     ]
    },
    {
     "name": "stdout",
     "output_type": "stream",
     "text": [
      "Max pixel:  181.62\n",
      "957.1810302734375\n",
      "camera complete\n",
      "PCA: -3.444444444444443\n",
      "powermeter complete\n",
      "957.1044921875\n",
      "spectrometer complete\n",
      "n_frames 50\n"
     ]
    },
    {
     "name": "stderr",
     "output_type": "stream",
     "text": [
      "\n",
      "\n",
      " 55%|█████▌    | 11/20 [02:13<02:03, 13.68s/it]\u001B[A\u001B[A"
     ]
    },
    {
     "name": "stdout",
     "output_type": "stream",
     "text": [
      "Max pixel:  223.14\n",
      "957.1044921875\n",
      "camera complete\n",
      "PCA: -3.444444444444443\n",
      "powermeter complete\n",
      "957.1044921875\n",
      "spectrometer complete\n",
      "n_frames 50\n"
     ]
    },
    {
     "name": "stderr",
     "output_type": "stream",
     "text": [
      "\n",
      "\n",
      " 60%|██████    | 12/20 [02:23<01:41, 12.71s/it]\u001B[A\u001B[A"
     ]
    },
    {
     "name": "stdout",
     "output_type": "stream",
     "text": [
      "Max pixel:  191.04\n",
      "957.1044921875\n",
      "camera complete\n",
      "PCA: -3.444444444444443\n",
      "powermeter complete\n",
      "957.334228515625\n",
      "spectrometer complete\n",
      "n_frames 50\n"
     ]
    },
    {
     "name": "stderr",
     "output_type": "stream",
     "text": [
      "\n",
      "\n",
      " 65%|██████▌   | 13/20 [02:35<01:26, 12.32s/it]\u001B[A\u001B[A"
     ]
    },
    {
     "name": "stdout",
     "output_type": "stream",
     "text": [
      "Max pixel:  154.9\n",
      "957.334228515625\n",
      "camera complete\n",
      "PCA: -3.444444444444443\n",
      "powermeter complete\n",
      "957.2576904296875\n",
      "spectrometer complete\n",
      "n_frames 50\n"
     ]
    },
    {
     "name": "stderr",
     "output_type": "stream",
     "text": [
      "\n",
      "\n",
      " 70%|███████   | 14/20 [02:45<01:10, 11.74s/it]\u001B[A\u001B[A"
     ]
    },
    {
     "name": "stdout",
     "output_type": "stream",
     "text": [
      "Max pixel:  123.6\n",
      "957.2576904296875\n",
      "camera complete\n",
      "PCA: -3.444444444444443\n",
      "powermeter complete\n",
      "957.02783203125\n",
      "spectrometer complete\n",
      "n_frames 50\n"
     ]
    },
    {
     "name": "stderr",
     "output_type": "stream",
     "text": [
      "\n",
      "\n",
      " 75%|███████▌  | 15/20 [02:56<00:56, 11.34s/it]\u001B[A\u001B[A"
     ]
    },
    {
     "name": "stdout",
     "output_type": "stream",
     "text": [
      "Max pixel:  149.54\n",
      "957.02783203125\n",
      "camera complete\n",
      "PCA: -3.444444444444443\n",
      "powermeter complete\n",
      "956.9511108398438\n",
      "spectrometer complete\n",
      "n_frames 50\n"
     ]
    },
    {
     "name": "stderr",
     "output_type": "stream",
     "text": [
      "\n",
      "\n",
      " 80%|████████  | 16/20 [03:06<00:44, 11.08s/it]\u001B[A\u001B[A"
     ]
    },
    {
     "name": "stdout",
     "output_type": "stream",
     "text": [
      "Max pixel:  67.02\n",
      "956.9511108398438\n",
      "camera complete\n",
      "PCA: -3.444444444444443\n",
      "powermeter complete\n",
      "956.8744506835938\n",
      "spectrometer complete\n",
      "n_frames 50\n"
     ]
    },
    {
     "name": "stderr",
     "output_type": "stream",
     "text": [
      "\n",
      "\n",
      " 85%|████████▌ | 17/20 [03:17<00:32, 10.90s/it]\u001B[A\u001B[A"
     ]
    },
    {
     "name": "stdout",
     "output_type": "stream",
     "text": [
      "Max pixel:  216.18\n",
      "956.8744506835938\n",
      "camera complete\n",
      "PCA: -3.444444444444443\n",
      "powermeter complete\n",
      "956.9511108398438\n",
      "spectrometer complete\n",
      "n_frames 50\n"
     ]
    },
    {
     "name": "stderr",
     "output_type": "stream",
     "text": [
      "\n",
      "\n",
      " 90%|█████████ | 18/20 [03:27<00:21, 10.78s/it]\u001B[A\u001B[A"
     ]
    },
    {
     "name": "stdout",
     "output_type": "stream",
     "text": [
      "Max pixel:  123.44\n",
      "956.9511108398438\n",
      "camera complete\n",
      "PCA: -3.444444444444443\n",
      "powermeter complete\n",
      "957.334228515625\n",
      "spectrometer complete\n",
      "n_frames 50\n"
     ]
    },
    {
     "name": "stderr",
     "output_type": "stream",
     "text": [
      "\n",
      "\n",
      " 95%|█████████▌| 19/20 [03:38<00:10, 10.70s/it]\u001B[A\u001B[A"
     ]
    },
    {
     "name": "stdout",
     "output_type": "stream",
     "text": [
      "Max pixel:  102.92\n",
      "957.334228515625\n",
      "camera complete\n",
      "PCA: -3.444444444444443\n",
      "powermeter complete\n",
      "956.7977294921875\n",
      "spectrometer complete\n",
      "n_frames 50\n"
     ]
    },
    {
     "name": "stderr",
     "output_type": "stream",
     "text": [
      "\n",
      "\n",
      "100%|██████████| 20/20 [03:48<00:00, 11.42s/it]\u001B[A\u001B[A\n",
      "\n",
      " 80%|████████  | 8/10 [29:49<07:29, 224.98s/it]\u001B[A"
     ]
    },
    {
     "name": "stdout",
     "output_type": "stream",
     "text": [
      "Max pixel:  129.42\n",
      "956.7977294921875\n",
      "camera complete\n",
      "20240820_075523 20240820_075901\n",
      "-5.222222222222221\n",
      "41231\n"
     ]
    },
    {
     "name": "stderr",
     "output_type": "stream",
     "text": [
      "\n",
      "\n",
      "  0%|          | 0/20 [00:00<?, ?it/s]\u001B[A\u001B[A"
     ]
    },
    {
     "name": "stdout",
     "output_type": "stream",
     "text": [
      "PCA: -5.222222222222221\n",
      "powermeter complete\n",
      "931.4888305664062\n",
      "spectrometer complete\n",
      "n_frames 2\n",
      "Max pixel:  189.5\n",
      "931.4888305664062\n",
      "camera complete\n"
     ]
    },
    {
     "name": "stderr",
     "output_type": "stream",
     "text": [
      "\n",
      "\n",
      "  5%|▌         | 1/20 [00:11<03:42, 11.72s/it]\u001B[A\u001B[A"
     ]
    },
    {
     "name": "stdout",
     "output_type": "stream",
     "text": [
      "PCA: -5.222222222222221\n",
      "powermeter complete\n",
      "931.0665283203125\n",
      "spectrometer complete\n",
      "n_frames 50\n"
     ]
    },
    {
     "name": "stderr",
     "output_type": "stream",
     "text": [
      "\n",
      "\n",
      " 10%|█         | 2/20 [00:23<03:29, 11.65s/it]\u001B[A\u001B[A"
     ]
    },
    {
     "name": "stdout",
     "output_type": "stream",
     "text": [
      "Max pixel:  11.16\n",
      "931.0665283203125\n",
      "camera complete\n",
      "PCA: -5.222222222222221\n",
      "powermeter complete\n",
      "958.9364013671875\n",
      "spectrometer complete\n",
      "n_frames 4\n",
      "Max pixel:  207.0\n",
      "958.9364013671875\n",
      "camera complete\n"
     ]
    },
    {
     "name": "stderr",
     "output_type": "stream",
     "text": [
      "\n",
      "\n",
      " 15%|█▌        | 3/20 [00:34<03:16, 11.57s/it]\u001B[A\u001B[A"
     ]
    },
    {
     "name": "stdout",
     "output_type": "stream",
     "text": [
      "PCA: -5.222222222222221\n",
      "powermeter complete\n",
      "958.403564453125\n",
      "spectrometer complete\n",
      "n_frames 50\n"
     ]
    },
    {
     "name": "stderr",
     "output_type": "stream",
     "text": [
      "\n",
      "\n",
      " 20%|██        | 4/20 [00:46<03:04, 11.54s/it]\u001B[A\u001B[A"
     ]
    },
    {
     "name": "stdout",
     "output_type": "stream",
     "text": [
      "Max pixel:  6.08\n",
      "958.403564453125\n",
      "camera complete\n",
      "PCA: -5.222222222222221\n",
      "powermeter complete\n",
      "958.8603515625\n",
      "spectrometer complete\n",
      "n_frames 8\n",
      "Max pixel:  201.625\n",
      "958.8603515625\n",
      "camera complete\n"
     ]
    },
    {
     "name": "stderr",
     "output_type": "stream",
     "text": [
      "\n",
      "\n",
      " 25%|██▌       | 5/20 [00:57<02:52, 11.50s/it]\u001B[A\u001B[A"
     ]
    },
    {
     "name": "stdout",
     "output_type": "stream",
     "text": [
      "PCA: -5.222222222222221\n",
      "powermeter complete\n",
      "958.7081909179688\n",
      "spectrometer complete\n",
      "n_frames 50\n"
     ]
    },
    {
     "name": "stderr",
     "output_type": "stream",
     "text": [
      "\n",
      "\n",
      " 30%|███       | 6/20 [01:08<02:39, 11.38s/it]\u001B[A\u001B[A"
     ]
    },
    {
     "name": "stdout",
     "output_type": "stream",
     "text": [
      "Max pixel:  4.34\n",
      "958.7081909179688\n",
      "camera complete\n",
      "PCA: -5.222222222222221\n",
      "powermeter complete\n",
      "958.7081909179688\n",
      "spectrometer complete\n",
      "n_frames 16\n"
     ]
    },
    {
     "name": "stderr",
     "output_type": "stream",
     "text": [
      "\n",
      "\n",
      " 35%|███▌      | 7/20 [01:20<02:27, 11.35s/it]\u001B[A\u001B[A"
     ]
    },
    {
     "name": "stdout",
     "output_type": "stream",
     "text": [
      "Max pixel:  163.3125\n",
      "958.7081909179688\n",
      "camera complete\n",
      "PCA: -5.222222222222221\n",
      "powermeter complete\n",
      "958.555908203125\n",
      "spectrometer complete\n",
      "n_frames 16\n"
     ]
    },
    {
     "name": "stderr",
     "output_type": "stream",
     "text": [
      "\n",
      "\n",
      " 40%|████      | 8/20 [01:31<02:16, 11.37s/it]\u001B[A\u001B[A"
     ]
    },
    {
     "name": "stdout",
     "output_type": "stream",
     "text": [
      "Max pixel:  182.75\n",
      "958.555908203125\n",
      "camera complete\n",
      "PCA: -5.222222222222221\n",
      "powermeter complete\n",
      "958.479736328125\n",
      "spectrometer complete\n",
      "n_frames 16\n"
     ]
    },
    {
     "name": "stderr",
     "output_type": "stream",
     "text": [
      "\n",
      "\n"
     ]
    },
    {
     "name": "stdout",
     "output_type": "stream",
     "text": [
      "Max pixel:  209.75\n",
      "958.479736328125\n",
      "camera complete\n"
     ]
    },
    {
     "name": "stderr",
     "output_type": "stream",
     "text": [
      " 45%|████▌     | 9/20 [01:42<02:04, 11.34s/it]\u001B[A\u001B[A"
     ]
    },
    {
     "name": "stdout",
     "output_type": "stream",
     "text": [
      "PCA: -5.222222222222221\n",
      "powermeter complete\n",
      "958.403564453125\n",
      "spectrometer complete\n",
      "n_frames 16\n"
     ]
    },
    {
     "name": "stderr",
     "output_type": "stream",
     "text": [
      "\n",
      "\n"
     ]
    },
    {
     "name": "stdout",
     "output_type": "stream",
     "text": [
      "Max pixel:  232.0\n",
      "958.403564453125\n",
      "camera complete\n"
     ]
    },
    {
     "name": "stderr",
     "output_type": "stream",
     "text": [
      " 50%|█████     | 10/20 [01:54<01:53, 11.34s/it]\u001B[A\u001B[A"
     ]
    },
    {
     "name": "stdout",
     "output_type": "stream",
     "text": [
      "PCA: -5.222222222222221\n",
      "powermeter complete\n",
      "957.9459228515625\n",
      "spectrometer complete\n",
      "n_frames 50\n"
     ]
    },
    {
     "name": "stderr",
     "output_type": "stream",
     "text": [
      "\n",
      "\n",
      " 55%|█████▌    | 11/20 [02:05<01:42, 11.40s/it]\u001B[A\u001B[A"
     ]
    },
    {
     "name": "stdout",
     "output_type": "stream",
     "text": [
      "Max pixel:  4.14\n",
      "957.9459228515625\n",
      "camera complete\n",
      "PCA: -5.222222222222221\n",
      "powermeter complete\n",
      "957.9459228515625\n",
      "spectrometer complete\n",
      "n_frames 31\n"
     ]
    },
    {
     "name": "stderr",
     "output_type": "stream",
     "text": [
      "\n",
      "\n",
      " 60%|██████    | 12/20 [02:16<01:30, 11.29s/it]\u001B[A\u001B[A"
     ]
    },
    {
     "name": "stdout",
     "output_type": "stream",
     "text": [
      "Max pixel:  223.06451612903226\n",
      "957.9459228515625\n",
      "camera complete\n",
      "PCA: -5.222222222222221\n",
      "powermeter complete\n",
      "958.1748046875\n",
      "spectrometer complete\n",
      "n_frames 50\n"
     ]
    },
    {
     "name": "stderr",
     "output_type": "stream",
     "text": [
      "\n",
      "\n",
      " 65%|██████▌   | 13/20 [02:27<01:17, 11.12s/it]\u001B[A\u001B[A"
     ]
    },
    {
     "name": "stdout",
     "output_type": "stream",
     "text": [
      "Max pixel:  69.5\n",
      "958.1748046875\n",
      "camera complete\n",
      "PCA: -5.222222222222221\n",
      "powermeter complete\n",
      "958.1748046875\n",
      "spectrometer complete\n",
      "n_frames 50\n"
     ]
    },
    {
     "name": "stderr",
     "output_type": "stream",
     "text": [
      "\n",
      "\n",
      " 70%|███████   | 14/20 [02:38<01:06, 11.11s/it]\u001B[A\u001B[A"
     ]
    },
    {
     "name": "stdout",
     "output_type": "stream",
     "text": [
      "Max pixel:  226.46\n",
      "958.1748046875\n",
      "camera complete\n",
      "PCA: -5.222222222222221\n",
      "powermeter complete\n",
      "958.1748046875\n",
      "spectrometer complete\n",
      "n_frames 50\n"
     ]
    },
    {
     "name": "stderr",
     "output_type": "stream",
     "text": [
      "\n",
      "\n",
      " 75%|███████▌  | 15/20 [02:57<01:07, 13.59s/it]\u001B[A\u001B[A"
     ]
    },
    {
     "name": "stdout",
     "output_type": "stream",
     "text": [
      "Max pixel:  147.78\n",
      "958.1748046875\n",
      "camera complete\n",
      "PCA: -5.222222222222221\n",
      "powermeter complete\n",
      "957.9459228515625\n",
      "spectrometer complete\n",
      "n_frames 50\n"
     ]
    },
    {
     "name": "stderr",
     "output_type": "stream",
     "text": [
      "\n",
      "\n",
      " 80%|████████  | 16/20 [03:08<00:50, 12.63s/it]\u001B[A\u001B[A"
     ]
    },
    {
     "name": "stdout",
     "output_type": "stream",
     "text": [
      "Max pixel:  122.64\n",
      "957.9459228515625\n",
      "camera complete\n",
      "PCA: -5.222222222222221\n",
      "powermeter complete\n",
      "957.9459228515625\n",
      "spectrometer complete\n",
      "n_frames 50\n"
     ]
    },
    {
     "name": "stderr",
     "output_type": "stream",
     "text": [
      "\n",
      "\n",
      " 85%|████████▌ | 17/20 [03:18<00:35, 11.96s/it]\u001B[A\u001B[A"
     ]
    },
    {
     "name": "stdout",
     "output_type": "stream",
     "text": [
      "Max pixel:  110.92\n",
      "957.9459228515625\n",
      "camera complete\n",
      "PCA: -5.222222222222221\n",
      "powermeter complete\n",
      "958.022216796875\n",
      "spectrometer complete\n",
      "n_frames 50\n"
     ]
    },
    {
     "name": "stderr",
     "output_type": "stream",
     "text": [
      "\n",
      "\n",
      " 90%|█████████ | 18/20 [03:29<00:22, 11.50s/it]\u001B[A\u001B[A"
     ]
    },
    {
     "name": "stdout",
     "output_type": "stream",
     "text": [
      "Max pixel:  174.74\n",
      "958.022216796875\n",
      "camera complete\n",
      "PCA: -5.222222222222221\n",
      "powermeter complete\n",
      "957.9459228515625\n",
      "spectrometer complete\n",
      "n_frames 50\n"
     ]
    },
    {
     "name": "stderr",
     "output_type": "stream",
     "text": [
      "\n",
      "\n",
      " 95%|█████████▌| 19/20 [03:39<00:11, 11.14s/it]\u001B[A\u001B[A"
     ]
    },
    {
     "name": "stdout",
     "output_type": "stream",
     "text": [
      "Max pixel:  146.84\n",
      "957.9459228515625\n",
      "camera complete\n",
      "PCA: -5.222222222222221\n",
      "powermeter complete\n",
      "957.9459228515625\n",
      "spectrometer complete\n",
      "n_frames 50\n"
     ]
    },
    {
     "name": "stderr",
     "output_type": "stream",
     "text": [
      "\n",
      "\n",
      "100%|██████████| 20/20 [03:49<00:00, 11.49s/it]\u001B[A\u001B[A\n",
      "\n",
      " 90%|█████████ | 9/10 [33:39<03:46, 226.53s/it]\u001B[A"
     ]
    },
    {
     "name": "stdout",
     "output_type": "stream",
     "text": [
      "Max pixel:  234.48\n",
      "957.9459228515625\n",
      "camera complete\n",
      "20240820_075912 20240820_080251\n",
      "-7.0\n",
      "41231\n"
     ]
    },
    {
     "name": "stderr",
     "output_type": "stream",
     "text": [
      "\n",
      "\n",
      "  0%|          | 0/20 [00:00<?, ?it/s]\u001B[A\u001B[A"
     ]
    },
    {
     "name": "stdout",
     "output_type": "stream",
     "text": [
      "PCA: -7.0\n",
      "powermeter complete\n",
      "929.0309448242188\n",
      "spectrometer complete\n",
      "n_frames 2\n",
      "Max pixel:  192.0\n",
      "929.0309448242188\n",
      "camera complete\n"
     ]
    },
    {
     "name": "stderr",
     "output_type": "stream",
     "text": [
      "\n",
      "\n",
      "  5%|▌         | 1/20 [00:11<03:43, 11.75s/it]\u001B[A\u001B[A"
     ]
    },
    {
     "name": "stdout",
     "output_type": "stream",
     "text": [
      "PCA: -7.0\n",
      "powermeter complete\n",
      "928.8607177734375\n",
      "spectrometer complete\n",
      "n_frames 50\n"
     ]
    },
    {
     "name": "stderr",
     "output_type": "stream",
     "text": [
      "\n",
      "\n",
      " 10%|█         | 2/20 [00:23<03:29, 11.66s/it]\u001B[A\u001B[A"
     ]
    },
    {
     "name": "stdout",
     "output_type": "stream",
     "text": [
      "Max pixel:  11.16\n",
      "928.8607177734375\n",
      "camera complete\n",
      "PCA: -7.0\n",
      "powermeter complete\n",
      "928.8607177734375\n",
      "spectrometer complete\n",
      "n_frames 4\n",
      "Max pixel:  199.25\n",
      "928.8607177734375\n",
      "camera complete\n"
     ]
    },
    {
     "name": "stderr",
     "output_type": "stream",
     "text": [
      "\n",
      "\n",
      " 15%|█▌        | 3/20 [00:34<03:17, 11.60s/it]\u001B[A\u001B[A"
     ]
    },
    {
     "name": "stdout",
     "output_type": "stream",
     "text": [
      "PCA: -7.0\n",
      "powermeter complete\n",
      "959.922607421875\n",
      "spectrometer complete\n",
      "n_frames 50\n"
     ]
    },
    {
     "name": "stderr",
     "output_type": "stream",
     "text": [
      "\n",
      "\n",
      " 20%|██        | 4/20 [00:46<03:04, 11.51s/it]\u001B[A\u001B[A"
     ]
    },
    {
     "name": "stdout",
     "output_type": "stream",
     "text": [
      "Max pixel:  6.08\n",
      "959.922607421875\n",
      "camera complete\n",
      "PCA: -7.0\n",
      "powermeter complete\n",
      "959.922607421875\n",
      "spectrometer complete\n",
      "n_frames 16\n"
     ]
    },
    {
     "name": "stderr",
     "output_type": "stream",
     "text": [
      "\n",
      "\n",
      " 25%|██▌       | 5/20 [00:57<02:52, 11.49s/it]\u001B[A\u001B[A"
     ]
    },
    {
     "name": "stdout",
     "output_type": "stream",
     "text": [
      "Max pixel:  111.375\n",
      "959.922607421875\n",
      "camera complete\n",
      "PCA: -7.0\n",
      "powermeter complete\n",
      "959.922607421875\n",
      "spectrometer complete\n",
      "n_frames 8\n",
      "Max pixel:  230.75\n",
      "959.922607421875\n",
      "camera complete\n"
     ]
    },
    {
     "name": "stderr",
     "output_type": "stream",
     "text": [
      "\n",
      "\n",
      " 30%|███       | 6/20 [01:09<02:40, 11.47s/it]\u001B[A\u001B[A"
     ]
    },
    {
     "name": "stdout",
     "output_type": "stream",
     "text": [
      "PCA: -7.0\n",
      "powermeter complete\n",
      "959.6195678710938\n",
      "spectrometer complete\n",
      "n_frames 16\n"
     ]
    },
    {
     "name": "stderr",
     "output_type": "stream",
     "text": [
      "\n",
      "\n",
      " 35%|███▌      | 7/20 [01:20<02:28, 11.42s/it]\u001B[A\u001B[A"
     ]
    },
    {
     "name": "stdout",
     "output_type": "stream",
     "text": [
      "Max pixel:  155.75\n",
      "959.6195678710938\n",
      "camera complete\n",
      "PCA: -7.0\n",
      "powermeter complete\n",
      "959.6195678710938\n",
      "spectrometer complete\n",
      "n_frames 16\n"
     ]
    },
    {
     "name": "stderr",
     "output_type": "stream",
     "text": [
      "\n",
      "\n",
      " 40%|████      | 8/20 [01:31<02:16, 11.40s/it]\u001B[A\u001B[A"
     ]
    },
    {
     "name": "stdout",
     "output_type": "stream",
     "text": [
      "Max pixel:  175.6875\n",
      "959.6195678710938\n",
      "camera complete\n",
      "PCA: -7.0\n",
      "powermeter complete\n",
      "959.5437622070312\n",
      "spectrometer complete\n",
      "n_frames 16\n"
     ]
    },
    {
     "name": "stderr",
     "output_type": "stream",
     "text": [
      "\n",
      "\n",
      " 45%|████▌     | 9/20 [01:43<02:05, 11.40s/it]\u001B[A\u001B[A"
     ]
    },
    {
     "name": "stdout",
     "output_type": "stream",
     "text": [
      "Max pixel:  198.375\n",
      "959.5437622070312\n",
      "camera complete\n",
      "PCA: -7.0\n",
      "powermeter complete\n",
      "959.6195678710938\n",
      "spectrometer complete\n",
      "n_frames 16\n"
     ]
    },
    {
     "name": "stderr",
     "output_type": "stream",
     "text": [
      "\n",
      "\n",
      " 50%|█████     | 10/20 [01:54<01:53, 11.38s/it]\u001B[A\u001B[A"
     ]
    },
    {
     "name": "stdout",
     "output_type": "stream",
     "text": [
      "Max pixel:  219.375\n",
      "959.6195678710938\n",
      "camera complete\n",
      "PCA: -7.0\n",
      "powermeter complete\n",
      "959.6195678710938\n",
      "spectrometer complete\n",
      "n_frames 16\n"
     ]
    },
    {
     "name": "stderr",
     "output_type": "stream",
     "text": [
      "\n",
      "\n"
     ]
    },
    {
     "name": "stdout",
     "output_type": "stream",
     "text": [
      "Max pixel:  243.3125\n",
      "959.6195678710938\n",
      "camera complete\n"
     ]
    },
    {
     "name": "stderr",
     "output_type": "stream",
     "text": [
      " 55%|█████▌    | 11/20 [02:05<01:42, 11.39s/it]\u001B[A\u001B[A"
     ]
    },
    {
     "name": "stdout",
     "output_type": "stream",
     "text": [
      "PCA: -7.0\n",
      "powermeter complete\n",
      "959.240234375\n",
      "spectrometer complete\n",
      "n_frames 16\n"
     ]
    },
    {
     "name": "stderr",
     "output_type": "stream",
     "text": [
      "\n",
      "\n"
     ]
    },
    {
     "name": "stdout",
     "output_type": "stream",
     "text": [
      "Max pixel:  248.875\n",
      "959.240234375\n",
      "camera complete\n"
     ]
    },
    {
     "name": "stderr",
     "output_type": "stream",
     "text": [
      " 60%|██████    | 12/20 [02:17<01:31, 11.38s/it]\u001B[A\u001B[A"
     ]
    },
    {
     "name": "stdout",
     "output_type": "stream",
     "text": [
      "PCA: -7.0\n",
      "powermeter complete\n",
      "959.240234375\n",
      "spectrometer complete\n",
      "n_frames 16\n"
     ]
    },
    {
     "name": "stderr",
     "output_type": "stream",
     "text": [
      "\n",
      "\n",
      " 65%|██████▌   | 13/20 [02:28<01:19, 11.39s/it]\u001B[A\u001B[A"
     ]
    },
    {
     "name": "stdout",
     "output_type": "stream",
     "text": [
      "Max pixel:  249.5\n",
      "959.240234375\n",
      "camera complete\n",
      "PCA: -7.0\n",
      "powermeter complete\n",
      "958.555908203125\n",
      "spectrometer complete\n",
      "n_frames 50\n"
     ]
    },
    {
     "name": "stderr",
     "output_type": "stream",
     "text": [
      "\n",
      "\n",
      " 70%|███████   | 14/20 [02:39<01:06, 11.14s/it]\u001B[A\u001B[A"
     ]
    },
    {
     "name": "stdout",
     "output_type": "stream",
     "text": [
      "Max pixel:  4.26\n",
      "958.555908203125\n",
      "camera complete\n",
      "PCA: -7.0\n",
      "powermeter complete\n",
      "958.7081909179688\n",
      "spectrometer complete\n",
      "n_frames 31\n"
     ]
    },
    {
     "name": "stderr",
     "output_type": "stream",
     "text": [
      "\n",
      "\n",
      " 75%|███████▌  | 15/20 [02:49<00:54, 10.93s/it]\u001B[A\u001B[A"
     ]
    },
    {
     "name": "stdout",
     "output_type": "stream",
     "text": [
      "Max pixel:  202.8709677419355\n",
      "958.7081909179688\n",
      "camera complete\n",
      "PCA: -7.0\n",
      "powermeter complete\n",
      "958.8603515625\n",
      "spectrometer complete\n",
      "n_frames 50\n"
     ]
    },
    {
     "name": "stderr",
     "output_type": "stream",
     "text": [
      "\n",
      "\n",
      " 80%|████████  | 16/20 [03:00<00:43, 10.94s/it]\u001B[A\u001B[A"
     ]
    },
    {
     "name": "stdout",
     "output_type": "stream",
     "text": [
      "Max pixel:  39.7\n",
      "958.8603515625\n",
      "camera complete\n",
      "PCA: -7.0\n",
      "powermeter complete\n",
      "958.8603515625\n",
      "spectrometer complete\n",
      "n_frames 50\n"
     ]
    },
    {
     "name": "stderr",
     "output_type": "stream",
     "text": [
      "\n",
      "\n",
      " 85%|████████▌ | 17/20 [03:11<00:32, 10.86s/it]\u001B[A\u001B[A"
     ]
    },
    {
     "name": "stdout",
     "output_type": "stream",
     "text": [
      "Max pixel:  63.66\n",
      "958.8603515625\n",
      "camera complete\n",
      "PCA: -7.0\n",
      "powermeter complete\n",
      "958.9364013671875\n",
      "spectrometer complete\n",
      "n_frames 50\n"
     ]
    },
    {
     "name": "stderr",
     "output_type": "stream",
     "text": [
      "\n",
      "\n",
      " 90%|█████████ | 18/20 [03:22<00:21, 10.90s/it]\u001B[A\u001B[A"
     ]
    },
    {
     "name": "stdout",
     "output_type": "stream",
     "text": [
      "Max pixel:  147.48\n",
      "958.9364013671875\n",
      "camera complete\n",
      "PCA: -7.0\n",
      "powermeter complete\n",
      "958.7842407226562\n",
      "spectrometer complete\n",
      "n_frames 50\n"
     ]
    },
    {
     "name": "stderr",
     "output_type": "stream",
     "text": [
      "\n",
      "\n",
      " 95%|█████████▌| 19/20 [03:33<00:10, 10.91s/it]\u001B[A\u001B[A"
     ]
    },
    {
     "name": "stdout",
     "output_type": "stream",
     "text": [
      "Max pixel:  163.04\n",
      "958.7842407226562\n",
      "camera complete\n",
      "PCA: -7.0\n",
      "powermeter complete\n",
      "958.479736328125\n",
      "spectrometer complete\n",
      "n_frames 50\n"
     ]
    },
    {
     "name": "stderr",
     "output_type": "stream",
     "text": [
      "\n",
      "\n",
      "100%|██████████| 20/20 [03:53<00:00, 11.68s/it]\u001B[A\u001B[A\n",
      "\n",
      "100%|██████████| 10/10 [37:33<00:00, 225.37s/it]\u001B[A\n",
      " 10%|█         | 1/10 [38:25<5:45:52, 2305.83s/it]"
     ]
    },
    {
     "name": "stdout",
     "output_type": "stream",
     "text": [
      "Max pixel:  88.52\n",
      "958.479736328125\n",
      "camera complete\n",
      "20240820_080302 20240820_080635\n",
      "-7.0\n",
      "41231\n",
      "-5.222222222222221\n",
      "41231\n",
      "-3.444444444444443\n",
      "41231\n",
      "-1.666666666666666\n",
      "41231\n",
      "0.11111111111111072\n",
      "41231\n",
      "1.8888888888888893\n",
      "41231\n",
      "3.666666666666667\n",
      "41231\n",
      "5.444444444444445\n",
      "41231\n",
      "7.222222222222222\n",
      "41231\n",
      "9.0\n",
      "41231\n"
     ]
    },
    {
     "name": "stderr",
     "output_type": "stream",
     "text": [
      "\n",
      "  0%|          | 0/10 [00:00<?, ?it/s]\u001B[A"
     ]
    },
    {
     "name": "stdout",
     "output_type": "stream",
     "text": [
      "9.0\n",
      "41231\n"
     ]
    },
    {
     "name": "stderr",
     "output_type": "stream",
     "text": [
      "\n",
      "\n",
      "  0%|          | 0/20 [00:00<?, ?it/s]\u001B[A\u001B[A"
     ]
    },
    {
     "name": "stdout",
     "output_type": "stream",
     "text": [
      "PCA: 9.0\n",
      "powermeter complete\n",
      "952.0706176757812\n",
      "spectrometer complete\n",
      "n_frames 2\n",
      "Max pixel:  191.5\n",
      "952.0706176757812\n",
      "camera complete\n"
     ]
    },
    {
     "name": "stderr",
     "output_type": "stream",
     "text": [
      "\n",
      "\n",
      "  5%|▌         | 1/20 [00:11<03:41, 11.66s/it]\u001B[A\u001B[A"
     ]
    },
    {
     "name": "stdout",
     "output_type": "stream",
     "text": [
      "PCA: 9.0\n",
      "powermeter complete\n",
      "951.7574462890625\n",
      "spectrometer complete\n",
      "n_frames 50\n"
     ]
    },
    {
     "name": "stderr",
     "output_type": "stream",
     "text": [
      "\n",
      "\n",
      " 10%|█         | 2/20 [00:23<03:29, 11.62s/it]\u001B[A\u001B[A"
     ]
    },
    {
     "name": "stdout",
     "output_type": "stream",
     "text": [
      "Max pixel:  11.16\n",
      "951.7574462890625\n",
      "camera complete\n",
      "PCA: 9.0\n",
      "powermeter complete\n",
      "951.9141235351562\n",
      "spectrometer complete\n",
      "n_frames 50\n"
     ]
    },
    {
     "name": "stderr",
     "output_type": "stream",
     "text": [
      "\n",
      "\n",
      " 15%|█▌        | 3/20 [00:34<03:11, 11.25s/it]\u001B[A\u001B[A"
     ]
    },
    {
     "name": "stdout",
     "output_type": "stream",
     "text": [
      "Max pixel:  73.56\n",
      "951.9141235351562\n",
      "camera complete\n",
      "PCA: 9.0\n",
      "powermeter complete\n",
      "952.0706176757812\n",
      "spectrometer complete\n",
      "n_frames 50\n"
     ]
    },
    {
     "name": "stderr",
     "output_type": "stream",
     "text": [
      "\n",
      "\n",
      " 20%|██        | 4/20 [00:53<03:49, 14.35s/it]\u001B[A\u001B[A"
     ]
    },
    {
     "name": "stdout",
     "output_type": "stream",
     "text": [
      "Max pixel:  49.98\n",
      "952.0706176757812\n",
      "camera complete\n",
      "PCA: 9.0\n",
      "powermeter complete\n",
      "952.0706176757812\n",
      "spectrometer complete\n",
      "n_frames 50\n"
     ]
    },
    {
     "name": "stderr",
     "output_type": "stream",
     "text": [
      "\n",
      "\n",
      " 25%|██▌       | 5/20 [01:03<03:13, 12.93s/it]\u001B[A\u001B[A"
     ]
    },
    {
     "name": "stdout",
     "output_type": "stream",
     "text": [
      "Max pixel:  179.36\n",
      "952.0706176757812\n",
      "camera complete\n",
      "PCA: 9.0\n",
      "powermeter complete\n",
      "952.0706176757812\n",
      "spectrometer complete\n",
      "n_frames 50\n"
     ]
    },
    {
     "name": "stderr",
     "output_type": "stream",
     "text": [
      "\n",
      "\n",
      " 30%|███       | 6/20 [01:14<02:49, 12.10s/it]\u001B[A\u001B[A"
     ]
    },
    {
     "name": "stdout",
     "output_type": "stream",
     "text": [
      "Max pixel:  153.48\n",
      "952.0706176757812\n",
      "camera complete\n",
      "PCA: 9.0\n",
      "powermeter complete\n",
      "951.8357543945312\n",
      "spectrometer complete\n",
      "n_frames 50\n"
     ]
    },
    {
     "name": "stderr",
     "output_type": "stream",
     "text": [
      "\n",
      "\n",
      " 35%|███▌      | 7/20 [01:24<02:29, 11.53s/it]\u001B[A\u001B[A"
     ]
    },
    {
     "name": "stdout",
     "output_type": "stream",
     "text": [
      "Max pixel:  63.54\n",
      "951.8357543945312\n",
      "camera complete\n",
      "PCA: 9.0\n",
      "powermeter complete\n",
      "951.7574462890625\n",
      "spectrometer complete\n",
      "n_frames 50\n"
     ]
    },
    {
     "name": "stderr",
     "output_type": "stream",
     "text": [
      "\n",
      "\n",
      " 40%|████      | 8/20 [01:34<02:14, 11.18s/it]\u001B[A\u001B[A"
     ]
    },
    {
     "name": "stdout",
     "output_type": "stream",
     "text": [
      "Max pixel:  209.48\n",
      "951.7574462890625\n",
      "camera complete\n",
      "PCA: 9.0\n",
      "powermeter complete\n",
      "951.6007080078125\n",
      "spectrometer complete\n",
      "n_frames 50\n"
     ]
    },
    {
     "name": "stderr",
     "output_type": "stream",
     "text": [
      "\n",
      "\n",
      " 45%|████▌     | 9/20 [01:45<01:59, 10.90s/it]\u001B[A\u001B[A"
     ]
    },
    {
     "name": "stdout",
     "output_type": "stream",
     "text": [
      "Max pixel:  82.54\n",
      "951.6007080078125\n",
      "camera complete\n",
      "PCA: 9.0\n",
      "powermeter complete\n",
      "951.6791381835938\n",
      "spectrometer complete\n",
      "n_frames 50\n"
     ]
    },
    {
     "name": "stderr",
     "output_type": "stream",
     "text": [
      "\n",
      "\n",
      " 50%|█████     | 10/20 [01:55<01:47, 10.73s/it]\u001B[A\u001B[A"
     ]
    },
    {
     "name": "stdout",
     "output_type": "stream",
     "text": [
      "Max pixel:  52.62\n",
      "951.6791381835938\n",
      "camera complete\n",
      "PCA: 9.0\n",
      "powermeter complete\n",
      "951.6007080078125\n",
      "spectrometer complete\n",
      "n_frames 50\n"
     ]
    },
    {
     "name": "stderr",
     "output_type": "stream",
     "text": [
      "\n",
      "\n",
      " 55%|█████▌    | 11/20 [02:06<01:36, 10.73s/it]\u001B[A\u001B[A"
     ]
    },
    {
     "name": "stdout",
     "output_type": "stream",
     "text": [
      "Max pixel:  167.5\n",
      "951.6007080078125\n",
      "camera complete\n",
      "PCA: 9.0\n",
      "powermeter complete\n",
      "951.5222778320312\n",
      "spectrometer complete\n",
      "n_frames 50\n"
     ]
    },
    {
     "name": "stderr",
     "output_type": "stream",
     "text": [
      "\n",
      "\n",
      " 60%|██████    | 12/20 [02:16<01:25, 10.73s/it]\u001B[A\u001B[A"
     ]
    },
    {
     "name": "stdout",
     "output_type": "stream",
     "text": [
      "Max pixel:  236.76\n",
      "951.5222778320312\n",
      "camera complete\n",
      "PCA: 9.0\n",
      "powermeter complete\n",
      "951.3654174804688\n",
      "spectrometer complete\n",
      "n_frames 50\n"
     ]
    },
    {
     "name": "stderr",
     "output_type": "stream",
     "text": [
      "\n",
      "\n",
      " 65%|██████▌   | 13/20 [02:27<01:14, 10.63s/it]\u001B[A\u001B[A"
     ]
    },
    {
     "name": "stdout",
     "output_type": "stream",
     "text": [
      "Max pixel:  85.18\n",
      "951.3654174804688\n",
      "camera complete\n",
      "PCA: 9.0\n",
      "powermeter complete\n",
      "951.3654174804688\n",
      "spectrometer complete\n",
      "n_frames 50\n"
     ]
    },
    {
     "name": "stderr",
     "output_type": "stream",
     "text": [
      "\n",
      "\n",
      " 70%|███████   | 14/20 [02:38<01:03, 10.65s/it]\u001B[A\u001B[A"
     ]
    },
    {
     "name": "stdout",
     "output_type": "stream",
     "text": [
      "Max pixel:  69.24\n",
      "951.3654174804688\n",
      "camera complete\n",
      "PCA: 9.0\n",
      "powermeter complete\n",
      "951.1298828125\n",
      "spectrometer complete\n",
      "n_frames 50\n"
     ]
    },
    {
     "name": "stderr",
     "output_type": "stream",
     "text": [
      "\n",
      "\n",
      " 75%|███████▌  | 15/20 [02:48<00:52, 10.53s/it]\u001B[A\u001B[A"
     ]
    },
    {
     "name": "stdout",
     "output_type": "stream",
     "text": [
      "Max pixel:  159.76\n",
      "951.1298828125\n",
      "camera complete\n",
      "PCA: 9.0\n",
      "powermeter complete\n",
      "951.2083740234375\n",
      "spectrometer complete\n",
      "n_frames 50\n"
     ]
    },
    {
     "name": "stderr",
     "output_type": "stream",
     "text": [
      "\n",
      "\n",
      " 80%|████████  | 16/20 [02:59<00:42, 10.60s/it]\u001B[A\u001B[A"
     ]
    },
    {
     "name": "stdout",
     "output_type": "stream",
     "text": [
      "Max pixel:  115.52\n",
      "951.2083740234375\n",
      "camera complete\n",
      "PCA: 9.0\n",
      "powermeter complete\n",
      "951.0513305664062\n",
      "spectrometer complete\n",
      "n_frames 50\n"
     ]
    },
    {
     "name": "stderr",
     "output_type": "stream",
     "text": [
      "\n",
      "\n",
      " 85%|████████▌ | 17/20 [03:09<00:31, 10.63s/it]\u001B[A\u001B[A"
     ]
    },
    {
     "name": "stdout",
     "output_type": "stream",
     "text": [
      "Max pixel:  117.88\n",
      "951.0513305664062\n",
      "camera complete\n",
      "PCA: 9.0\n",
      "powermeter complete\n",
      "951.1298828125\n",
      "spectrometer complete\n",
      "n_frames 50\n"
     ]
    },
    {
     "name": "stderr",
     "output_type": "stream",
     "text": [
      "\n",
      "\n",
      " 90%|█████████ | 18/20 [03:20<00:21, 10.68s/it]\u001B[A\u001B[A"
     ]
    },
    {
     "name": "stdout",
     "output_type": "stream",
     "text": [
      "Max pixel:  119.02\n",
      "951.1298828125\n",
      "camera complete\n",
      "PCA: 9.0\n",
      "powermeter complete\n",
      "950.8941040039062\n",
      "spectrometer complete\n",
      "n_frames 50\n"
     ]
    },
    {
     "name": "stderr",
     "output_type": "stream",
     "text": [
      "\n",
      "\n",
      " 95%|█████████▌| 19/20 [03:31<00:10, 10.68s/it]\u001B[A\u001B[A"
     ]
    },
    {
     "name": "stdout",
     "output_type": "stream",
     "text": [
      "Max pixel:  178.0\n",
      "950.8941040039062\n",
      "camera complete\n",
      "PCA: 9.0\n",
      "powermeter complete\n",
      "951.1298828125\n",
      "spectrometer complete\n",
      "n_frames 50\n"
     ]
    },
    {
     "name": "stderr",
     "output_type": "stream",
     "text": [
      "\n",
      "\n",
      "100%|██████████| 20/20 [03:42<00:00, 11.10s/it]\u001B[A\u001B[A\n",
      "\n",
      " 10%|█         | 1/10 [03:42<33:19, 222.18s/it]\u001B[A"
     ]
    },
    {
     "name": "stdout",
     "output_type": "stream",
     "text": [
      "Max pixel:  188.06\n",
      "951.1298828125\n",
      "camera complete\n",
      "20240820_080749 20240820_081120\n",
      "7.222222222222222\n",
      "41231\n"
     ]
    },
    {
     "name": "stderr",
     "output_type": "stream",
     "text": [
      "\n",
      "\n",
      "  0%|          | 0/20 [00:00<?, ?it/s]\u001B[A\u001B[A"
     ]
    },
    {
     "name": "stdout",
     "output_type": "stream",
     "text": [
      "PCA: 7.222222222222222\n",
      "powermeter complete\n",
      "952.8519897460938\n",
      "spectrometer complete\n",
      "n_frames 2\n",
      "Max pixel:  191.5\n",
      "952.8519897460938\n",
      "camera complete\n"
     ]
    },
    {
     "name": "stderr",
     "output_type": "stream",
     "text": [
      "\n",
      "\n",
      "  5%|▌         | 1/20 [00:11<03:42, 11.69s/it]\u001B[A\u001B[A"
     ]
    },
    {
     "name": "stdout",
     "output_type": "stream",
     "text": [
      "PCA: 7.222222222222222\n",
      "powermeter complete\n",
      "952.77392578125\n",
      "spectrometer complete\n",
      "n_frames 50\n"
     ]
    },
    {
     "name": "stderr",
     "output_type": "stream",
     "text": [
      "\n",
      "\n",
      " 10%|█         | 2/20 [00:23<03:29, 11.64s/it]\u001B[A\u001B[A"
     ]
    },
    {
     "name": "stdout",
     "output_type": "stream",
     "text": [
      "Max pixel:  11.16\n",
      "952.77392578125\n",
      "camera complete\n",
      "PCA: 7.222222222222222\n",
      "powermeter complete\n",
      "952.2271728515625\n",
      "spectrometer complete\n",
      "n_frames 8\n"
     ]
    },
    {
     "name": "stderr",
     "output_type": "stream",
     "text": [
      "\n",
      "\n"
     ]
    },
    {
     "name": "stdout",
     "output_type": "stream",
     "text": [
      "Max pixel:  197.875\n",
      "952.2271728515625\n",
      "camera complete\n"
     ]
    },
    {
     "name": "stderr",
     "output_type": "stream",
     "text": [
      " 15%|█▌        | 3/20 [00:34<03:15, 11.52s/it]\u001B[A\u001B[A"
     ]
    },
    {
     "name": "stdout",
     "output_type": "stream",
     "text": [
      "PCA: 7.222222222222222\n",
      "powermeter complete\n",
      "952.6959228515625\n",
      "spectrometer complete\n",
      "n_frames 50\n"
     ]
    },
    {
     "name": "stderr",
     "output_type": "stream",
     "text": [
      "\n",
      "\n",
      " 20%|██        | 4/20 [00:45<03:01, 11.36s/it]\u001B[A\u001B[A"
     ]
    },
    {
     "name": "stdout",
     "output_type": "stream",
     "text": [
      "Max pixel:  188.54\n",
      "952.6959228515625\n",
      "camera complete\n",
      "PCA: 7.222222222222222\n",
      "powermeter complete\n",
      "952.4616088867188\n",
      "spectrometer complete\n",
      "n_frames 50\n"
     ]
    },
    {
     "name": "stderr",
     "output_type": "stream",
     "text": [
      "\n",
      "\n",
      " 25%|██▌       | 5/20 [01:04<03:32, 14.19s/it]\u001B[A\u001B[A"
     ]
    },
    {
     "name": "stdout",
     "output_type": "stream",
     "text": [
      "Max pixel:  216.3\n",
      "952.4616088867188\n",
      "camera complete\n",
      "PCA: 7.222222222222222\n",
      "powermeter complete\n",
      "952.6959228515625\n",
      "spectrometer complete\n",
      "n_frames 50\n"
     ]
    },
    {
     "name": "stderr",
     "output_type": "stream",
     "text": [
      "\n",
      "\n",
      " 30%|███       | 6/20 [01:15<03:00, 12.92s/it]\u001B[A\u001B[A"
     ]
    },
    {
     "name": "stdout",
     "output_type": "stream",
     "text": [
      "Max pixel:  207.92\n",
      "952.6959228515625\n",
      "camera complete\n",
      "PCA: 7.222222222222222\n",
      "powermeter complete\n",
      "952.4616088867188\n",
      "spectrometer complete\n",
      "n_frames 50\n"
     ]
    },
    {
     "name": "stderr",
     "output_type": "stream",
     "text": [
      "\n",
      "\n",
      " 35%|███▌      | 7/20 [01:25<02:36, 12.05s/it]\u001B[A\u001B[A"
     ]
    },
    {
     "name": "stdout",
     "output_type": "stream",
     "text": [
      "Max pixel:  158.7\n",
      "952.4616088867188\n",
      "camera complete\n",
      "PCA: 7.222222222222222\n",
      "powermeter complete\n",
      "952.5397338867188\n",
      "spectrometer complete\n",
      "n_frames 50\n"
     ]
    },
    {
     "name": "stderr",
     "output_type": "stream",
     "text": [
      "\n",
      "\n",
      " 40%|████      | 8/20 [01:36<02:18, 11.53s/it]\u001B[A\u001B[A"
     ]
    },
    {
     "name": "stdout",
     "output_type": "stream",
     "text": [
      "Max pixel:  116.04\n",
      "952.5397338867188\n",
      "camera complete\n",
      "PCA: 7.222222222222222\n",
      "powermeter complete\n",
      "952.5397338867188\n",
      "spectrometer complete\n",
      "n_frames 50\n"
     ]
    },
    {
     "name": "stderr",
     "output_type": "stream",
     "text": [
      "\n",
      "\n",
      " 45%|████▌     | 9/20 [01:46<02:02, 11.16s/it]\u001B[A\u001B[A"
     ]
    },
    {
     "name": "stdout",
     "output_type": "stream",
     "text": [
      "Max pixel:  137.52\n",
      "952.5397338867188\n",
      "camera complete\n",
      "PCA: 7.222222222222222\n",
      "powermeter complete\n",
      "952.3053588867188\n",
      "spectrometer complete\n",
      "n_frames 50\n"
     ]
    },
    {
     "name": "stderr",
     "output_type": "stream",
     "text": [
      "\n",
      "\n",
      " 50%|█████     | 10/20 [01:56<01:49, 10.93s/it]\u001B[A\u001B[A"
     ]
    },
    {
     "name": "stdout",
     "output_type": "stream",
     "text": [
      "Max pixel:  80.32\n",
      "952.3053588867188\n",
      "camera complete\n",
      "PCA: 7.222222222222222\n",
      "powermeter complete\n",
      "952.4616088867188\n",
      "spectrometer complete\n",
      "n_frames 50\n"
     ]
    },
    {
     "name": "stderr",
     "output_type": "stream",
     "text": [
      "\n",
      "\n",
      " 55%|█████▌    | 11/20 [02:07<01:36, 10.77s/it]\u001B[A\u001B[A"
     ]
    },
    {
     "name": "stdout",
     "output_type": "stream",
     "text": [
      "Max pixel:  208.5\n",
      "952.4616088867188\n",
      "camera complete\n",
      "PCA: 7.222222222222222\n",
      "powermeter complete\n",
      "952.4616088867188\n",
      "spectrometer complete\n",
      "n_frames 50\n"
     ]
    },
    {
     "name": "stderr",
     "output_type": "stream",
     "text": [
      "\n",
      "\n",
      " 60%|██████    | 12/20 [02:18<01:26, 10.79s/it]\u001B[A\u001B[A"
     ]
    },
    {
     "name": "stdout",
     "output_type": "stream",
     "text": [
      "Max pixel:  55.72\n",
      "952.4616088867188\n",
      "camera complete\n",
      "PCA: 7.222222222222222\n",
      "powermeter complete\n",
      "952.3834838867188\n",
      "spectrometer complete\n",
      "n_frames 50\n"
     ]
    },
    {
     "name": "stderr",
     "output_type": "stream",
     "text": [
      "\n",
      "\n",
      " 65%|██████▌   | 13/20 [02:28<01:14, 10.68s/it]\u001B[A\u001B[A"
     ]
    },
    {
     "name": "stdout",
     "output_type": "stream",
     "text": [
      "Max pixel:  236.82\n",
      "952.3834838867188\n",
      "camera complete\n",
      "PCA: 7.222222222222222\n",
      "powermeter complete\n",
      "952.3053588867188\n",
      "spectrometer complete\n",
      "n_frames 50\n"
     ]
    },
    {
     "name": "stderr",
     "output_type": "stream",
     "text": [
      "\n",
      "\n",
      " 70%|███████   | 14/20 [02:38<01:03, 10.58s/it]\u001B[A\u001B[A"
     ]
    },
    {
     "name": "stdout",
     "output_type": "stream",
     "text": [
      "Max pixel:  60.28\n",
      "952.3053588867188\n",
      "camera complete\n",
      "PCA: 7.222222222222222\n",
      "powermeter complete\n",
      "952.1488647460938\n",
      "spectrometer complete\n",
      "n_frames 50\n"
     ]
    },
    {
     "name": "stderr",
     "output_type": "stream",
     "text": [
      "\n",
      "\n",
      " 75%|███████▌  | 15/20 [02:49<00:52, 10.53s/it]\u001B[A\u001B[A"
     ]
    },
    {
     "name": "stdout",
     "output_type": "stream",
     "text": [
      "Max pixel:  127.72\n",
      "952.1488647460938\n",
      "camera complete\n",
      "PCA: 7.222222222222222\n",
      "powermeter complete\n",
      "952.0706176757812\n",
      "spectrometer complete\n",
      "n_frames 50\n"
     ]
    },
    {
     "name": "stderr",
     "output_type": "stream",
     "text": [
      "\n",
      "\n",
      " 80%|████████  | 16/20 [02:59<00:41, 10.48s/it]\u001B[A\u001B[A"
     ]
    },
    {
     "name": "stdout",
     "output_type": "stream",
     "text": [
      "Max pixel:  82.32\n",
      "952.0706176757812\n",
      "camera complete\n",
      "PCA: 7.222222222222222\n",
      "powermeter complete\n",
      "951.992431640625\n",
      "spectrometer complete\n",
      "n_frames 50\n"
     ]
    },
    {
     "name": "stderr",
     "output_type": "stream",
     "text": [
      "\n",
      "\n",
      " 85%|████████▌ | 17/20 [03:10<00:31, 10.48s/it]\u001B[A\u001B[A"
     ]
    },
    {
     "name": "stdout",
     "output_type": "stream",
     "text": [
      "Max pixel:  170.54\n",
      "951.992431640625\n",
      "camera complete\n",
      "PCA: 7.222222222222222\n",
      "powermeter complete\n",
      "952.0706176757812\n",
      "spectrometer complete\n",
      "n_frames 50\n"
     ]
    },
    {
     "name": "stderr",
     "output_type": "stream",
     "text": [
      "\n",
      "\n",
      " 90%|█████████ | 18/20 [03:20<00:21, 10.57s/it]\u001B[A\u001B[A"
     ]
    },
    {
     "name": "stdout",
     "output_type": "stream",
     "text": [
      "Max pixel:  170.24\n",
      "952.0706176757812\n",
      "camera complete\n",
      "PCA: 7.222222222222222\n",
      "powermeter complete\n",
      "951.992431640625\n",
      "spectrometer complete\n",
      "n_frames 50\n"
     ]
    },
    {
     "name": "stderr",
     "output_type": "stream",
     "text": [
      "\n",
      "\n",
      " 95%|█████████▌| 19/20 [03:31<00:10, 10.62s/it]\u001B[A\u001B[A"
     ]
    },
    {
     "name": "stdout",
     "output_type": "stream",
     "text": [
      "Max pixel:  116.06\n",
      "951.992431640625\n",
      "camera complete\n",
      "PCA: 7.222222222222222\n",
      "powermeter complete\n",
      "951.9141235351562\n",
      "spectrometer complete\n",
      "n_frames 50\n"
     ]
    },
    {
     "name": "stderr",
     "output_type": "stream",
     "text": [
      "\n",
      "\n",
      "100%|██████████| 20/20 [03:42<00:00, 11.12s/it]\u001B[A\u001B[A\n",
      "\n",
      " 20%|██        | 2/10 [07:24<29:39, 222.40s/it]\u001B[A"
     ]
    },
    {
     "name": "stdout",
     "output_type": "stream",
     "text": [
      "Max pixel:  83.86\n",
      "951.9141235351562\n",
      "camera complete\n",
      "20240820_081131 20240820_081503\n",
      "5.444444444444445\n",
      "41231\n"
     ]
    },
    {
     "name": "stderr",
     "output_type": "stream",
     "text": [
      "\n",
      "\n",
      "  0%|          | 0/20 [00:00<?, ?it/s]\u001B[A\u001B[A"
     ]
    },
    {
     "name": "stdout",
     "output_type": "stream",
     "text": [
      "PCA: 5.444444444444445\n",
      "powermeter complete\n",
      "953.552978515625\n",
      "spectrometer complete\n",
      "n_frames 2\n",
      "Max pixel:  193.5\n",
      "953.552978515625\n",
      "camera complete\n"
     ]
    },
    {
     "name": "stderr",
     "output_type": "stream",
     "text": [
      "\n",
      "\n",
      "  5%|▌         | 1/20 [00:11<03:43, 11.76s/it]\u001B[A\u001B[A"
     ]
    },
    {
     "name": "stdout",
     "output_type": "stream",
     "text": [
      "PCA: 5.444444444444445\n",
      "powermeter complete\n",
      "953.4752197265625\n",
      "spectrometer complete\n",
      "n_frames 50\n"
     ]
    },
    {
     "name": "stderr",
     "output_type": "stream",
     "text": [
      "\n",
      "\n",
      " 10%|█         | 2/20 [00:23<03:29, 11.65s/it]\u001B[A\u001B[A"
     ]
    },
    {
     "name": "stdout",
     "output_type": "stream",
     "text": [
      "Max pixel:  6.08\n",
      "953.4752197265625\n",
      "camera complete\n",
      "PCA: 5.444444444444445\n",
      "powermeter complete\n",
      "953.4752197265625\n",
      "spectrometer complete\n",
      "n_frames 16\n"
     ]
    },
    {
     "name": "stderr",
     "output_type": "stream",
     "text": [
      "\n",
      "\n",
      " 15%|█▌        | 3/20 [00:34<03:15, 11.52s/it]\u001B[A\u001B[A"
     ]
    },
    {
     "name": "stdout",
     "output_type": "stream",
     "text": [
      "Max pixel:  92.6875\n",
      "953.4752197265625\n",
      "camera complete\n",
      "PCA: 5.444444444444445\n",
      "powermeter complete\n",
      "953.3973999023438\n",
      "spectrometer complete\n",
      "n_frames 50\n"
     ]
    },
    {
     "name": "stderr",
     "output_type": "stream",
     "text": [
      "\n",
      "\n",
      " 20%|██        | 4/20 [00:45<02:58, 11.18s/it]\u001B[A\u001B[A"
     ]
    },
    {
     "name": "stdout",
     "output_type": "stream",
     "text": [
      "Max pixel:  173.88\n",
      "953.3973999023438\n",
      "camera complete\n",
      "PCA: 5.444444444444445\n",
      "powermeter complete\n",
      "953.3973999023438\n",
      "spectrometer complete\n",
      "n_frames 50\n"
     ]
    },
    {
     "name": "stderr",
     "output_type": "stream",
     "text": [
      "\n",
      "\n",
      " 25%|██▌       | 5/20 [01:04<03:31, 14.11s/it]\u001B[A\u001B[A"
     ]
    },
    {
     "name": "stdout",
     "output_type": "stream",
     "text": [
      "Max pixel:  239.92\n",
      "953.3973999023438\n",
      "camera complete\n",
      "PCA: 5.444444444444445\n",
      "powermeter complete\n",
      "953.552978515625\n",
      "spectrometer complete\n",
      "n_frames 50\n"
     ]
    },
    {
     "name": "stderr",
     "output_type": "stream",
     "text": [
      "\n",
      "\n",
      " 30%|███       | 6/20 [01:15<02:59, 12.84s/it]\u001B[A\u001B[A"
     ]
    },
    {
     "name": "stdout",
     "output_type": "stream",
     "text": [
      "Max pixel:  81.38\n",
      "953.552978515625\n",
      "camera complete\n",
      "PCA: 5.444444444444445\n",
      "powermeter complete\n",
      "953.4752197265625\n",
      "spectrometer complete\n",
      "n_frames 50\n"
     ]
    },
    {
     "name": "stderr",
     "output_type": "stream",
     "text": [
      "\n",
      "\n",
      " 35%|███▌      | 7/20 [01:25<02:36, 12.07s/it]\u001B[A\u001B[A"
     ]
    },
    {
     "name": "stdout",
     "output_type": "stream",
     "text": [
      "Max pixel:  173.6\n",
      "953.4752197265625\n",
      "camera complete\n",
      "PCA: 5.444444444444445\n",
      "powermeter complete\n",
      "953.3973999023438\n",
      "spectrometer complete\n",
      "n_frames 50\n"
     ]
    },
    {
     "name": "stderr",
     "output_type": "stream",
     "text": [
      "\n",
      "\n",
      " 40%|████      | 8/20 [01:35<02:18, 11.55s/it]\u001B[A\u001B[A"
     ]
    },
    {
     "name": "stdout",
     "output_type": "stream",
     "text": [
      "Max pixel:  233.74\n",
      "953.3973999023438\n",
      "camera complete\n",
      "PCA: 5.444444444444445\n",
      "powermeter complete\n",
      "953.3973999023438\n",
      "spectrometer complete\n",
      "n_frames 50\n"
     ]
    },
    {
     "name": "stderr",
     "output_type": "stream",
     "text": [
      "\n",
      "\n",
      " 45%|████▌     | 9/20 [01:46<02:03, 11.23s/it]\u001B[A\u001B[A"
     ]
    },
    {
     "name": "stdout",
     "output_type": "stream",
     "text": [
      "Max pixel:  103.76\n",
      "953.3973999023438\n",
      "camera complete\n",
      "PCA: 5.444444444444445\n",
      "powermeter complete\n",
      "953.2416381835938\n",
      "spectrometer complete\n",
      "n_frames 50\n"
     ]
    },
    {
     "name": "stderr",
     "output_type": "stream",
     "text": [
      "\n",
      "\n",
      " 50%|█████     | 10/20 [01:56<01:49, 10.99s/it]\u001B[A\u001B[A"
     ]
    },
    {
     "name": "stdout",
     "output_type": "stream",
     "text": [
      "Max pixel:  62.64\n",
      "953.2416381835938\n",
      "camera complete\n",
      "PCA: 5.444444444444445\n",
      "powermeter complete\n",
      "953.1637573242188\n",
      "spectrometer complete\n",
      "n_frames 50\n"
     ]
    },
    {
     "name": "stderr",
     "output_type": "stream",
     "text": [
      "\n",
      "\n",
      " 55%|█████▌    | 11/20 [02:07<01:37, 10.83s/it]\u001B[A\u001B[A"
     ]
    },
    {
     "name": "stdout",
     "output_type": "stream",
     "text": [
      "Max pixel:  210.18\n",
      "953.1637573242188\n",
      "camera complete\n",
      "PCA: 5.444444444444445\n",
      "powermeter complete\n",
      "953.2416381835938\n",
      "spectrometer complete\n",
      "n_frames 50\n"
     ]
    },
    {
     "name": "stderr",
     "output_type": "stream",
     "text": [
      "\n",
      "\n",
      " 60%|██████    | 12/20 [02:17<01:25, 10.69s/it]\u001B[A\u001B[A"
     ]
    },
    {
     "name": "stdout",
     "output_type": "stream",
     "text": [
      "Max pixel:  69.1\n",
      "953.2416381835938\n",
      "camera complete\n",
      "PCA: 5.444444444444445\n",
      "powermeter complete\n",
      "953.319580078125\n",
      "spectrometer complete\n",
      "n_frames 50\n"
     ]
    },
    {
     "name": "stderr",
     "output_type": "stream",
     "text": [
      "\n",
      "\n",
      " 65%|██████▌   | 13/20 [02:28<01:14, 10.60s/it]\u001B[A\u001B[A"
     ]
    },
    {
     "name": "stdout",
     "output_type": "stream",
     "text": [
      "Max pixel:  199.26\n",
      "953.319580078125\n",
      "camera complete\n",
      "PCA: 5.444444444444445\n",
      "powermeter complete\n",
      "953.0858764648438\n",
      "spectrometer complete\n",
      "n_frames 50\n"
     ]
    },
    {
     "name": "stderr",
     "output_type": "stream",
     "text": [
      "\n",
      "\n",
      " 70%|███████   | 14/20 [02:38<01:03, 10.53s/it]\u001B[A\u001B[A"
     ]
    },
    {
     "name": "stdout",
     "output_type": "stream",
     "text": [
      "Max pixel:  87.28\n",
      "953.0858764648438\n",
      "camera complete\n",
      "PCA: 5.444444444444445\n",
      "powermeter complete\n",
      "953.0858764648438\n",
      "spectrometer complete\n",
      "n_frames 50\n"
     ]
    },
    {
     "name": "stderr",
     "output_type": "stream",
     "text": [
      "\n",
      "\n",
      " 75%|███████▌  | 15/20 [02:49<00:52, 10.58s/it]\u001B[A\u001B[A"
     ]
    },
    {
     "name": "stdout",
     "output_type": "stream",
     "text": [
      "Max pixel:  55.06\n",
      "953.0858764648438\n",
      "camera complete\n",
      "PCA: 5.444444444444445\n",
      "powermeter complete\n",
      "953.0079345703125\n",
      "spectrometer complete\n",
      "n_frames 50\n"
     ]
    },
    {
     "name": "stderr",
     "output_type": "stream",
     "text": [
      "\n",
      "\n",
      " 80%|████████  | 16/20 [02:59<00:42, 10.57s/it]\u001B[A\u001B[A"
     ]
    },
    {
     "name": "stdout",
     "output_type": "stream",
     "text": [
      "Max pixel:  147.54\n",
      "953.0079345703125\n",
      "camera complete\n",
      "PCA: 5.444444444444445\n",
      "powermeter complete\n",
      "953.0858764648438\n",
      "spectrometer complete\n",
      "n_frames 50\n"
     ]
    },
    {
     "name": "stderr",
     "output_type": "stream",
     "text": [
      "\n",
      "\n",
      " 85%|████████▌ | 17/20 [03:10<00:31, 10.51s/it]\u001B[A\u001B[A"
     ]
    },
    {
     "name": "stdout",
     "output_type": "stream",
     "text": [
      "Max pixel:  218.12\n",
      "953.0858764648438\n",
      "camera complete\n",
      "PCA: 5.444444444444445\n",
      "powermeter complete\n",
      "952.9299926757812\n",
      "spectrometer complete\n",
      "n_frames 50\n"
     ]
    },
    {
     "name": "stderr",
     "output_type": "stream",
     "text": [
      "\n",
      "\n",
      " 90%|█████████ | 18/20 [03:20<00:20, 10.48s/it]\u001B[A\u001B[A"
     ]
    },
    {
     "name": "stdout",
     "output_type": "stream",
     "text": [
      "Max pixel:  84.72\n",
      "952.9299926757812\n",
      "camera complete\n",
      "PCA: 5.444444444444445\n",
      "powermeter complete\n",
      "952.6178588867188\n",
      "spectrometer complete\n",
      "n_frames 50\n"
     ]
    },
    {
     "name": "stderr",
     "output_type": "stream",
     "text": [
      "\n",
      "\n",
      " 95%|█████████▌| 19/20 [03:31<00:10, 10.49s/it]\u001B[A\u001B[A"
     ]
    },
    {
     "name": "stdout",
     "output_type": "stream",
     "text": [
      "Max pixel:  152.34\n",
      "952.6178588867188\n",
      "camera complete\n",
      "PCA: 5.444444444444445\n",
      "powermeter complete\n",
      "952.77392578125\n",
      "spectrometer complete\n",
      "n_frames 50\n"
     ]
    },
    {
     "name": "stderr",
     "output_type": "stream",
     "text": [
      "\n",
      "\n",
      "100%|██████████| 20/20 [03:41<00:00, 11.09s/it]\u001B[A\u001B[A\n",
      "\n",
      " 30%|███       | 3/10 [11:06<25:55, 222.19s/it]\u001B[A"
     ]
    },
    {
     "name": "stdout",
     "output_type": "stream",
     "text": [
      "Max pixel:  164.16\n",
      "952.77392578125\n",
      "camera complete\n",
      "20240820_081514 20240820_081845\n",
      "3.666666666666667\n",
      "41231\n"
     ]
    },
    {
     "name": "stderr",
     "output_type": "stream",
     "text": [
      "\n",
      "\n",
      "  0%|          | 0/20 [00:00<?, ?it/s]\u001B[A\u001B[A"
     ]
    },
    {
     "name": "stdout",
     "output_type": "stream",
     "text": [
      "PCA: 3.666666666666667\n",
      "powermeter complete\n",
      "954.2520141601562\n",
      "spectrometer complete\n",
      "n_frames 2\n",
      "Max pixel:  192.5\n",
      "954.2520141601562\n",
      "camera complete\n"
     ]
    },
    {
     "name": "stderr",
     "output_type": "stream",
     "text": [
      "\n",
      "\n",
      "  5%|▌         | 1/20 [00:11<03:42, 11.69s/it]\u001B[A\u001B[A"
     ]
    },
    {
     "name": "stdout",
     "output_type": "stream",
     "text": [
      "PCA: 3.666666666666667\n",
      "powermeter complete\n",
      "954.4844970703125\n",
      "spectrometer complete\n",
      "n_frames 50\n"
     ]
    },
    {
     "name": "stderr",
     "output_type": "stream",
     "text": [
      "\n",
      "\n",
      " 10%|█         | 2/20 [00:23<03:29, 11.64s/it]\u001B[A\u001B[A"
     ]
    },
    {
     "name": "stdout",
     "output_type": "stream",
     "text": [
      "Max pixel:  11.16\n",
      "954.4844970703125\n",
      "camera complete\n",
      "PCA: 3.666666666666667\n",
      "powermeter complete\n",
      "954.2520141601562\n",
      "spectrometer complete\n",
      "n_frames 16\n"
     ]
    },
    {
     "name": "stderr",
     "output_type": "stream",
     "text": [
      "\n",
      "\n",
      " 15%|█▌        | 3/20 [00:34<03:16, 11.54s/it]\u001B[A\u001B[A"
     ]
    },
    {
     "name": "stdout",
     "output_type": "stream",
     "text": [
      "Max pixel:  85.25\n",
      "954.2520141601562\n",
      "camera complete\n",
      "PCA: 3.666666666666667\n",
      "powermeter complete\n",
      "953.9415893554688\n",
      "spectrometer complete\n",
      "n_frames 8\n"
     ]
    },
    {
     "name": "stderr",
     "output_type": "stream",
     "text": [
      "\n",
      "\n"
     ]
    },
    {
     "name": "stdout",
     "output_type": "stream",
     "text": [
      "Max pixel:  234.375\n",
      "953.9415893554688\n",
      "camera complete\n"
     ]
    },
    {
     "name": "stderr",
     "output_type": "stream",
     "text": [
      " 20%|██        | 4/20 [00:46<03:04, 11.55s/it]\u001B[A\u001B[A"
     ]
    },
    {
     "name": "stdout",
     "output_type": "stream",
     "text": [
      "PCA: 3.666666666666667\n",
      "powermeter complete\n",
      "954.3295288085938\n",
      "spectrometer complete\n",
      "n_frames 50\n"
     ]
    },
    {
     "name": "stderr",
     "output_type": "stream",
     "text": [
      "\n",
      "\n",
      " 25%|██▌       | 5/20 [00:57<02:49, 11.33s/it]\u001B[A\u001B[A"
     ]
    },
    {
     "name": "stdout",
     "output_type": "stream",
     "text": [
      "Max pixel:  192.98\n",
      "954.3295288085938\n",
      "camera complete\n",
      "PCA: 3.666666666666667\n",
      "powermeter complete\n",
      "953.9415893554688\n",
      "spectrometer complete\n",
      "n_frames 50\n"
     ]
    },
    {
     "name": "stderr",
     "output_type": "stream",
     "text": [
      "\n",
      "\n",
      " 30%|███       | 6/20 [01:16<03:16, 14.00s/it]\u001B[A\u001B[A"
     ]
    },
    {
     "name": "stdout",
     "output_type": "stream",
     "text": [
      "Max pixel:  218.0\n",
      "953.9415893554688\n",
      "camera complete\n",
      "PCA: 3.666666666666667\n",
      "powermeter complete\n",
      "954.0968627929688\n",
      "spectrometer complete\n",
      "n_frames 50\n"
     ]
    },
    {
     "name": "stderr",
     "output_type": "stream",
     "text": [
      "\n",
      "\n",
      " 35%|███▌      | 7/20 [01:26<02:47, 12.86s/it]\u001B[A\u001B[A"
     ]
    },
    {
     "name": "stdout",
     "output_type": "stream",
     "text": [
      "Max pixel:  249.12\n",
      "954.0968627929688\n",
      "camera complete\n",
      "PCA: 3.666666666666667\n",
      "powermeter complete\n",
      "954.3295288085938\n",
      "spectrometer complete\n",
      "n_frames 50\n"
     ]
    },
    {
     "name": "stderr",
     "output_type": "stream",
     "text": [
      "\n",
      "\n",
      " 40%|████      | 8/20 [01:37<02:25, 12.10s/it]\u001B[A\u001B[A"
     ]
    },
    {
     "name": "stdout",
     "output_type": "stream",
     "text": [
      "Max pixel:  153.26\n",
      "954.3295288085938\n",
      "camera complete\n",
      "PCA: 3.666666666666667\n",
      "powermeter complete\n",
      "953.8639526367188\n",
      "spectrometer complete\n",
      "n_frames 50\n"
     ]
    },
    {
     "name": "stderr",
     "output_type": "stream",
     "text": [
      "\n",
      "\n",
      " 45%|████▌     | 9/20 [01:47<02:07, 11.56s/it]\u001B[A\u001B[A"
     ]
    },
    {
     "name": "stdout",
     "output_type": "stream",
     "text": [
      "Max pixel:  218.18\n",
      "953.8639526367188\n",
      "camera complete\n",
      "PCA: 3.666666666666667\n",
      "powermeter complete\n",
      "954.0968627929688\n",
      "spectrometer complete\n",
      "n_frames 50\n"
     ]
    },
    {
     "name": "stderr",
     "output_type": "stream",
     "text": [
      "\n",
      "\n",
      " 50%|█████     | 10/20 [01:58<01:52, 11.21s/it]\u001B[A\u001B[A"
     ]
    },
    {
     "name": "stdout",
     "output_type": "stream",
     "text": [
      "Max pixel:  104.0\n",
      "954.0968627929688\n",
      "camera complete\n",
      "PCA: 3.666666666666667\n",
      "powermeter complete\n",
      "953.9415893554688\n",
      "spectrometer complete\n",
      "n_frames 50\n"
     ]
    },
    {
     "name": "stderr",
     "output_type": "stream",
     "text": [
      "\n",
      "\n",
      " 55%|█████▌    | 11/20 [02:08<01:38, 10.95s/it]\u001B[A\u001B[A"
     ]
    },
    {
     "name": "stdout",
     "output_type": "stream",
     "text": [
      "Max pixel:  68.08\n",
      "953.9415893554688\n",
      "camera complete\n",
      "PCA: 3.666666666666667\n",
      "powermeter complete\n",
      "953.9415893554688\n",
      "spectrometer complete\n",
      "n_frames 50\n"
     ]
    },
    {
     "name": "stderr",
     "output_type": "stream",
     "text": [
      "\n",
      "\n",
      " 60%|██████    | 12/20 [02:18<01:26, 10.77s/it]\u001B[A\u001B[A"
     ]
    },
    {
     "name": "stdout",
     "output_type": "stream",
     "text": [
      "Max pixel:  131.8\n",
      "953.9415893554688\n",
      "camera complete\n",
      "PCA: 3.666666666666667\n",
      "powermeter complete\n",
      "953.9415893554688\n",
      "spectrometer complete\n",
      "n_frames 50\n"
     ]
    },
    {
     "name": "stderr",
     "output_type": "stream",
     "text": [
      "\n",
      "\n",
      " 65%|██████▌   | 13/20 [02:29<01:14, 10.65s/it]\u001B[A\u001B[A"
     ]
    },
    {
     "name": "stdout",
     "output_type": "stream",
     "text": [
      "Max pixel:  204.44\n",
      "953.9415893554688\n",
      "camera complete\n",
      "PCA: 3.666666666666667\n",
      "powermeter complete\n",
      "953.7861328125\n",
      "spectrometer complete\n",
      "n_frames 50\n"
     ]
    },
    {
     "name": "stderr",
     "output_type": "stream",
     "text": [
      "\n",
      "\n",
      " 70%|███████   | 14/20 [02:39<01:03, 10.55s/it]\u001B[A\u001B[A"
     ]
    },
    {
     "name": "stdout",
     "output_type": "stream",
     "text": [
      "Max pixel:  71.96\n",
      "953.7861328125\n",
      "camera complete\n",
      "PCA: 3.666666666666667\n",
      "powermeter complete\n",
      "953.7861328125\n",
      "spectrometer complete\n",
      "n_frames 50\n"
     ]
    },
    {
     "name": "stderr",
     "output_type": "stream",
     "text": [
      "\n",
      "\n",
      " 75%|███████▌  | 15/20 [02:49<00:52, 10.50s/it]\u001B[A\u001B[A"
     ]
    },
    {
     "name": "stdout",
     "output_type": "stream",
     "text": [
      "Max pixel:  207.62\n",
      "953.7861328125\n",
      "camera complete\n",
      "PCA: 3.666666666666667\n",
      "powermeter complete\n",
      "953.70849609375\n",
      "spectrometer complete\n",
      "n_frames 50\n"
     ]
    },
    {
     "name": "stderr",
     "output_type": "stream",
     "text": [
      "\n",
      "\n",
      " 80%|████████  | 16/20 [03:00<00:41, 10.44s/it]\u001B[A\u001B[A"
     ]
    },
    {
     "name": "stdout",
     "output_type": "stream",
     "text": [
      "Max pixel:  93.06\n",
      "953.70849609375\n",
      "camera complete\n",
      "PCA: 3.666666666666667\n",
      "powermeter complete\n",
      "953.70849609375\n",
      "spectrometer complete\n",
      "n_frames 50\n"
     ]
    },
    {
     "name": "stderr",
     "output_type": "stream",
     "text": [
      "\n",
      "\n",
      " 85%|████████▌ | 17/20 [03:10<00:31, 10.42s/it]\u001B[A\u001B[A"
     ]
    },
    {
     "name": "stdout",
     "output_type": "stream",
     "text": [
      "Max pixel:  231.66\n",
      "953.70849609375\n",
      "camera complete\n",
      "PCA: 3.666666666666667\n",
      "powermeter complete\n",
      "954.0968627929688\n",
      "spectrometer complete\n",
      "n_frames 50\n"
     ]
    },
    {
     "name": "stderr",
     "output_type": "stream",
     "text": [
      "\n",
      "\n",
      " 90%|█████████ | 18/20 [03:21<00:20, 10.42s/it]\u001B[A\u001B[A"
     ]
    },
    {
     "name": "stdout",
     "output_type": "stream",
     "text": [
      "Max pixel:  139.58\n",
      "954.0968627929688\n",
      "camera complete\n",
      "PCA: 3.666666666666667\n",
      "powermeter complete\n",
      "953.9415893554688\n",
      "spectrometer complete\n",
      "n_frames 50\n"
     ]
    },
    {
     "name": "stderr",
     "output_type": "stream",
     "text": [
      "\n",
      "\n",
      " 95%|█████████▌| 19/20 [03:31<00:10, 10.40s/it]\u001B[A\u001B[A"
     ]
    },
    {
     "name": "stdout",
     "output_type": "stream",
     "text": [
      "Max pixel:  136.92\n",
      "953.9415893554688\n",
      "camera complete\n",
      "PCA: 3.666666666666667\n",
      "powermeter complete\n",
      "953.9415893554688\n",
      "spectrometer complete\n",
      "n_frames 50\n"
     ]
    },
    {
     "name": "stderr",
     "output_type": "stream",
     "text": [
      "\n",
      "\n",
      "100%|██████████| 20/20 [03:41<00:00, 11.09s/it]\u001B[A\u001B[A\n",
      "\n",
      " 40%|████      | 4/10 [14:48<22:12, 222.07s/it]\u001B[A"
     ]
    },
    {
     "name": "stdout",
     "output_type": "stream",
     "text": [
      "Max pixel:  86.7\n",
      "953.9415893554688\n",
      "camera complete\n",
      "20240820_081856 20240820_082227\n",
      "1.8888888888888893\n",
      "41231\n"
     ]
    },
    {
     "name": "stderr",
     "output_type": "stream",
     "text": [
      "\n",
      "\n",
      "  0%|          | 0/20 [00:00<?, ?it/s]\u001B[A\u001B[A"
     ]
    },
    {
     "name": "stdout",
     "output_type": "stream",
     "text": [
      "PCA: 1.8888888888888893\n",
      "powermeter complete\n",
      "955.4896850585938\n",
      "spectrometer complete\n",
      "n_frames 2\n",
      "Max pixel:  196.5\n",
      "955.4896850585938\n",
      "camera complete\n"
     ]
    },
    {
     "name": "stderr",
     "output_type": "stream",
     "text": [
      "\n",
      "\n",
      "  5%|▌         | 1/20 [00:11<03:42, 11.70s/it]\u001B[A\u001B[A"
     ]
    },
    {
     "name": "stdout",
     "output_type": "stream",
     "text": [
      "PCA: 1.8888888888888893\n",
      "powermeter complete\n",
      "955.4896850585938\n",
      "spectrometer complete\n",
      "n_frames 50\n"
     ]
    },
    {
     "name": "stderr",
     "output_type": "stream",
     "text": [
      "\n",
      "\n",
      " 10%|█         | 2/20 [00:23<03:29, 11.64s/it]\u001B[A\u001B[A"
     ]
    },
    {
     "name": "stdout",
     "output_type": "stream",
     "text": [
      "Max pixel:  11.16\n",
      "955.4896850585938\n",
      "camera complete\n",
      "PCA: 1.8888888888888893\n",
      "powermeter complete\n",
      "955.4896850585938\n",
      "spectrometer complete\n",
      "n_frames 4\n",
      "Max pixel:  229.25\n",
      "955.4896850585938\n",
      "camera complete\n"
     ]
    },
    {
     "name": "stderr",
     "output_type": "stream",
     "text": [
      "\n",
      "\n",
      " 15%|█▌        | 3/20 [00:34<03:17, 11.60s/it]\u001B[A\u001B[A"
     ]
    },
    {
     "name": "stdout",
     "output_type": "stream",
     "text": [
      "PCA: 1.8888888888888893\n",
      "powermeter complete\n",
      "955.4896850585938\n",
      "spectrometer complete\n",
      "n_frames 50\n"
     ]
    },
    {
     "name": "stderr",
     "output_type": "stream",
     "text": [
      "\n",
      "\n",
      " 20%|██        | 4/20 [00:46<03:04, 11.51s/it]\u001B[A\u001B[A"
     ]
    },
    {
     "name": "stdout",
     "output_type": "stream",
     "text": [
      "Max pixel:  6.08\n",
      "955.4896850585938\n",
      "camera complete\n",
      "PCA: 1.8888888888888893\n",
      "powermeter complete\n",
      "954.948974609375\n",
      "spectrometer complete\n",
      "n_frames 8\n",
      "Max pixel:  241.125\n",
      "954.948974609375\n",
      "camera complete\n"
     ]
    },
    {
     "name": "stderr",
     "output_type": "stream",
     "text": [
      "\n",
      "\n",
      " 25%|██▌       | 5/20 [00:58<02:54, 11.62s/it]\u001B[A\u001B[A"
     ]
    },
    {
     "name": "stdout",
     "output_type": "stream",
     "text": [
      "PCA: 1.8888888888888893\n",
      "powermeter complete\n",
      "955.4125366210938\n",
      "spectrometer complete\n",
      "n_frames 50\n"
     ]
    },
    {
     "name": "stderr",
     "output_type": "stream",
     "text": [
      "\n",
      "\n",
      " 30%|███       | 6/20 [01:09<02:39, 11.40s/it]\u001B[A\u001B[A"
     ]
    },
    {
     "name": "stdout",
     "output_type": "stream",
     "text": [
      "Max pixel:  48.86\n",
      "955.4125366210938\n",
      "camera complete\n",
      "PCA: 1.8888888888888893\n",
      "powermeter complete\n",
      "955.4125366210938\n",
      "spectrometer complete\n",
      "n_frames 50\n"
     ]
    },
    {
     "name": "stderr",
     "output_type": "stream",
     "text": [
      "\n",
      "\n",
      " 35%|███▌      | 7/20 [01:20<02:26, 11.30s/it]\u001B[A\u001B[A"
     ]
    },
    {
     "name": "stdout",
     "output_type": "stream",
     "text": [
      "Max pixel:  244.06\n",
      "955.4125366210938\n",
      "camera complete\n",
      "PCA: 1.8888888888888893\n",
      "powermeter complete\n",
      "955.5668334960938\n",
      "spectrometer complete\n",
      "n_frames 50\n"
     ]
    },
    {
     "name": "stderr",
     "output_type": "stream",
     "text": [
      "\n",
      "\n",
      " 40%|████      | 8/20 [01:39<02:46, 13.84s/it]\u001B[A\u001B[A"
     ]
    },
    {
     "name": "stdout",
     "output_type": "stream",
     "text": [
      "Max pixel:  98.56\n",
      "955.5668334960938\n",
      "camera complete\n",
      "PCA: 1.8888888888888893\n",
      "powermeter complete\n",
      "955.7210083007812\n",
      "spectrometer complete\n",
      "n_frames 50\n"
     ]
    },
    {
     "name": "stderr",
     "output_type": "stream",
     "text": [
      "\n",
      "\n",
      " 45%|████▌     | 9/20 [01:49<02:20, 12.74s/it]\u001B[A\u001B[A"
     ]
    },
    {
     "name": "stdout",
     "output_type": "stream",
     "text": [
      "Max pixel:  204.32\n",
      "955.7210083007812\n",
      "camera complete\n",
      "PCA: 1.8888888888888893\n",
      "powermeter complete\n",
      "955.6439208984375\n",
      "spectrometer complete\n",
      "n_frames 50\n"
     ]
    },
    {
     "name": "stderr",
     "output_type": "stream",
     "text": [
      "\n",
      "\n",
      " 50%|█████     | 10/20 [02:00<02:00, 12.02s/it]\u001B[A\u001B[A"
     ]
    },
    {
     "name": "stdout",
     "output_type": "stream",
     "text": [
      "Max pixel:  186.96\n",
      "955.6439208984375\n",
      "camera complete\n",
      "PCA: 1.8888888888888893\n",
      "powermeter complete\n",
      "955.4125366210938\n",
      "spectrometer complete\n",
      "n_frames 50\n"
     ]
    },
    {
     "name": "stderr",
     "output_type": "stream",
     "text": [
      "\n",
      "\n",
      " 55%|█████▌    | 11/20 [02:10<01:44, 11.60s/it]\u001B[A\u001B[A"
     ]
    },
    {
     "name": "stdout",
     "output_type": "stream",
     "text": [
      "Max pixel:  208.74\n",
      "955.4125366210938\n",
      "camera complete\n",
      "PCA: 1.8888888888888893\n",
      "powermeter complete\n",
      "955.4896850585938\n",
      "spectrometer complete\n",
      "n_frames 50\n"
     ]
    },
    {
     "name": "stderr",
     "output_type": "stream",
     "text": [
      "\n",
      "\n",
      " 60%|██████    | 12/20 [02:21<01:30, 11.26s/it]\u001B[A\u001B[A"
     ]
    },
    {
     "name": "stdout",
     "output_type": "stream",
     "text": [
      "Max pixel:  146.38\n",
      "955.4896850585938\n",
      "camera complete\n",
      "PCA: 1.8888888888888893\n",
      "powermeter complete\n",
      "955.6439208984375\n",
      "spectrometer complete\n",
      "n_frames 50\n"
     ]
    },
    {
     "name": "stderr",
     "output_type": "stream",
     "text": [
      "\n",
      "\n",
      " 65%|██████▌   | 13/20 [02:31<01:17, 11.00s/it]\u001B[A\u001B[A"
     ]
    },
    {
     "name": "stdout",
     "output_type": "stream",
     "text": [
      "Max pixel:  227.16\n",
      "955.6439208984375\n",
      "camera complete\n",
      "PCA: 1.8888888888888893\n",
      "powermeter complete\n",
      "956.0292358398438\n",
      "spectrometer complete\n",
      "n_frames 50\n"
     ]
    },
    {
     "name": "stderr",
     "output_type": "stream",
     "text": [
      "\n",
      "\n",
      " 70%|███████   | 14/20 [02:42<01:04, 10.81s/it]\u001B[A\u001B[A"
     ]
    },
    {
     "name": "stdout",
     "output_type": "stream",
     "text": [
      "Max pixel:  238.28\n",
      "956.0292358398438\n",
      "camera complete\n",
      "PCA: 1.8888888888888893\n",
      "powermeter complete\n",
      "955.5668334960938\n",
      "spectrometer complete\n",
      "n_frames 50\n"
     ]
    },
    {
     "name": "stderr",
     "output_type": "stream",
     "text": [
      "\n",
      "\n",
      " 75%|███████▌  | 15/20 [02:52<00:53, 10.69s/it]\u001B[A\u001B[A"
     ]
    },
    {
     "name": "stdout",
     "output_type": "stream",
     "text": [
      "Max pixel:  232.62\n",
      "955.5668334960938\n",
      "camera complete\n",
      "PCA: 1.8888888888888893\n",
      "powermeter complete\n",
      "955.5668334960938\n",
      "spectrometer complete\n",
      "n_frames 50\n"
     ]
    },
    {
     "name": "stderr",
     "output_type": "stream",
     "text": [
      "\n",
      "\n",
      " 80%|████████  | 16/20 [03:02<00:42, 10.58s/it]\u001B[A\u001B[A"
     ]
    },
    {
     "name": "stdout",
     "output_type": "stream",
     "text": [
      "Max pixel:  171.8\n",
      "955.5668334960938\n",
      "camera complete\n",
      "PCA: 1.8888888888888893\n",
      "powermeter complete\n",
      "955.4896850585938\n",
      "spectrometer complete\n",
      "n_frames 50\n"
     ]
    },
    {
     "name": "stderr",
     "output_type": "stream",
     "text": [
      "\n",
      "\n",
      " 85%|████████▌ | 17/20 [03:13<00:31, 10.51s/it]\u001B[A\u001B[A"
     ]
    },
    {
     "name": "stdout",
     "output_type": "stream",
     "text": [
      "Max pixel:  181.78\n",
      "955.4896850585938\n",
      "camera complete\n",
      "PCA: 1.8888888888888893\n",
      "powermeter complete\n",
      "955.5668334960938\n",
      "spectrometer complete\n",
      "n_frames 50\n"
     ]
    },
    {
     "name": "stderr",
     "output_type": "stream",
     "text": [
      "\n",
      "\n",
      " 90%|█████████ | 18/20 [03:23<00:20, 10.47s/it]\u001B[A\u001B[A"
     ]
    },
    {
     "name": "stdout",
     "output_type": "stream",
     "text": [
      "Max pixel:  132.18\n",
      "955.5668334960938\n",
      "camera complete\n",
      "PCA: 1.8888888888888893\n",
      "powermeter complete\n",
      "955.4896850585938\n",
      "spectrometer complete\n",
      "n_frames 50\n"
     ]
    },
    {
     "name": "stderr",
     "output_type": "stream",
     "text": [
      "\n",
      "\n",
      " 95%|█████████▌| 19/20 [03:33<00:10, 10.43s/it]\u001B[A\u001B[A"
     ]
    },
    {
     "name": "stdout",
     "output_type": "stream",
     "text": [
      "Max pixel:  70.26\n",
      "955.4896850585938\n",
      "camera complete\n",
      "PCA: 1.8888888888888893\n",
      "powermeter complete\n",
      "955.3352661132812\n",
      "spectrometer complete\n",
      "n_frames 50\n"
     ]
    },
    {
     "name": "stderr",
     "output_type": "stream",
     "text": [
      "\n",
      "\n",
      "100%|██████████| 20/20 [03:44<00:00, 11.21s/it]\u001B[A\u001B[A\n",
      "\n",
      " 50%|█████     | 5/10 [18:32<18:34, 222.89s/it]\u001B[A"
     ]
    },
    {
     "name": "stdout",
     "output_type": "stream",
     "text": [
      "Max pixel:  210.84\n",
      "955.3352661132812\n",
      "camera complete\n",
      "20240820_082238 20240820_082611\n",
      "0.11111111111111072\n",
      "41231\n"
     ]
    },
    {
     "name": "stderr",
     "output_type": "stream",
     "text": [
      "\n",
      "\n",
      "  0%|          | 0/20 [00:00<?, ?it/s]\u001B[A\u001B[A"
     ]
    },
    {
     "name": "stdout",
     "output_type": "stream",
     "text": [
      "PCA: 0.11111111111111072\n",
      "powermeter complete\n",
      "931.0665283203125\n",
      "spectrometer complete\n",
      "n_frames 2\n",
      "Max pixel:  194.5\n",
      "931.0665283203125\n",
      "camera complete\n"
     ]
    },
    {
     "name": "stderr",
     "output_type": "stream",
     "text": [
      "\n",
      "\n",
      "  5%|▌         | 1/20 [00:11<03:41, 11.68s/it]\u001B[A\u001B[A"
     ]
    },
    {
     "name": "stdout",
     "output_type": "stream",
     "text": [
      "PCA: 0.11111111111111072\n",
      "powermeter complete\n",
      "957.2576904296875\n",
      "spectrometer complete\n",
      "n_frames 50\n"
     ]
    },
    {
     "name": "stderr",
     "output_type": "stream",
     "text": [
      "\n",
      "\n",
      " 10%|█         | 2/20 [00:23<03:29, 11.63s/it]\u001B[A\u001B[A"
     ]
    },
    {
     "name": "stdout",
     "output_type": "stream",
     "text": [
      "Max pixel:  11.16\n",
      "957.2576904296875\n",
      "camera complete\n",
      "PCA: 0.11111111111111072\n",
      "powermeter complete\n",
      "956.7210083007812\n",
      "spectrometer complete\n",
      "n_frames 4\n",
      "Max pixel:  223.5\n",
      "956.7210083007812\n",
      "camera complete\n"
     ]
    },
    {
     "name": "stderr",
     "output_type": "stream",
     "text": [
      "\n",
      "\n",
      " 15%|█▌        | 3/20 [00:34<03:16, 11.54s/it]\u001B[A\u001B[A"
     ]
    },
    {
     "name": "stdout",
     "output_type": "stream",
     "text": [
      "PCA: 0.11111111111111072\n",
      "powermeter complete\n",
      "957.2576904296875\n",
      "spectrometer complete\n",
      "n_frames 50\n"
     ]
    },
    {
     "name": "stderr",
     "output_type": "stream",
     "text": [
      "\n",
      "\n",
      " 20%|██        | 4/20 [00:46<03:03, 11.48s/it]\u001B[A\u001B[A"
     ]
    },
    {
     "name": "stdout",
     "output_type": "stream",
     "text": [
      "Max pixel:  6.08\n",
      "957.2576904296875\n",
      "camera complete\n",
      "PCA: 0.11111111111111072\n",
      "powermeter complete\n",
      "956.7210083007812\n",
      "spectrometer complete\n",
      "n_frames 16\n"
     ]
    },
    {
     "name": "stderr",
     "output_type": "stream",
     "text": [
      "\n",
      "\n",
      " 25%|██▌       | 5/20 [00:57<02:51, 11.42s/it]\u001B[A\u001B[A"
     ]
    },
    {
     "name": "stdout",
     "output_type": "stream",
     "text": [
      "Max pixel:  127.375\n",
      "956.7210083007812\n",
      "camera complete\n",
      "PCA: 0.11111111111111072\n",
      "powermeter complete\n",
      "954.7168579101562\n",
      "spectrometer complete\n",
      "n_frames 16\n"
     ]
    },
    {
     "name": "stderr",
     "output_type": "stream",
     "text": [
      "\n",
      "\n",
      " 30%|███       | 6/20 [01:08<02:39, 11.38s/it]\u001B[A\u001B[A"
     ]
    },
    {
     "name": "stdout",
     "output_type": "stream",
     "text": [
      "Max pixel:  162.0\n",
      "954.7168579101562\n",
      "camera complete\n",
      "PCA: 0.11111111111111072\n",
      "powermeter complete\n",
      "956.260009765625\n",
      "spectrometer complete\n",
      "n_frames 50\n"
     ]
    },
    {
     "name": "stderr",
     "output_type": "stream",
     "text": [
      "\n",
      "\n",
      " 35%|███▌      | 7/20 [01:19<02:23, 11.03s/it]\u001B[A\u001B[A"
     ]
    },
    {
     "name": "stdout",
     "output_type": "stream",
     "text": [
      "Max pixel:  32.28\n",
      "956.260009765625\n",
      "camera complete\n",
      "PCA: 0.11111111111111072\n",
      "powermeter complete\n",
      "956.4137573242188\n",
      "spectrometer complete\n",
      "n_frames 50\n"
     ]
    },
    {
     "name": "stderr",
     "output_type": "stream",
     "text": [
      "\n",
      "\n",
      " 40%|████      | 8/20 [01:30<02:12, 11.01s/it]\u001B[A\u001B[A"
     ]
    },
    {
     "name": "stdout",
     "output_type": "stream",
     "text": [
      "Max pixel:  218.76\n",
      "956.4137573242188\n",
      "camera complete\n",
      "PCA: 0.11111111111111072\n",
      "powermeter complete\n",
      "956.4137573242188\n",
      "spectrometer complete\n",
      "n_frames 50\n"
     ]
    },
    {
     "name": "stderr",
     "output_type": "stream",
     "text": [
      "\n",
      "\n",
      " 45%|████▌     | 9/20 [01:41<02:01, 11.05s/it]\u001B[A\u001B[A"
     ]
    },
    {
     "name": "stdout",
     "output_type": "stream",
     "text": [
      "Max pixel:  232.64\n",
      "956.4137573242188\n",
      "camera complete\n",
      "PCA: 0.11111111111111072\n",
      "powermeter complete\n",
      "954.1744384765625\n",
      "spectrometer complete\n",
      "n_frames 50\n"
     ]
    },
    {
     "name": "stderr",
     "output_type": "stream",
     "text": [
      "\n",
      "\n",
      " 50%|█████     | 10/20 [02:00<02:15, 13.59s/it]\u001B[A\u001B[A"
     ]
    },
    {
     "name": "stdout",
     "output_type": "stream",
     "text": [
      "Max pixel:  250.2\n",
      "954.1744384765625\n",
      "camera complete\n",
      "PCA: 0.11111111111111072\n",
      "powermeter complete\n",
      "955.9521484375\n",
      "spectrometer complete\n",
      "n_frames 50\n"
     ]
    },
    {
     "name": "stderr",
     "output_type": "stream",
     "text": [
      "\n",
      "\n",
      " 55%|█████▌    | 11/20 [02:10<01:53, 12.61s/it]\u001B[A\u001B[A"
     ]
    },
    {
     "name": "stdout",
     "output_type": "stream",
     "text": [
      "Max pixel:  156.48\n",
      "955.9521484375\n",
      "camera complete\n",
      "PCA: 0.11111111111111072\n",
      "powermeter complete\n",
      "956.4137573242188\n",
      "spectrometer complete\n",
      "n_frames 50\n"
     ]
    },
    {
     "name": "stderr",
     "output_type": "stream",
     "text": [
      "\n",
      "\n",
      " 60%|██████    | 12/20 [02:21<01:35, 11.95s/it]\u001B[A\u001B[A"
     ]
    },
    {
     "name": "stdout",
     "output_type": "stream",
     "text": [
      "Max pixel:  248.52\n",
      "956.4137573242188\n",
      "camera complete\n",
      "PCA: 0.11111111111111072\n",
      "powermeter complete\n",
      "956.18310546875\n",
      "spectrometer complete\n",
      "n_frames 50\n"
     ]
    },
    {
     "name": "stderr",
     "output_type": "stream",
     "text": [
      "\n",
      "\n",
      " 65%|██████▌   | 13/20 [02:32<01:21, 11.59s/it]\u001B[A\u001B[A"
     ]
    },
    {
     "name": "stdout",
     "output_type": "stream",
     "text": [
      "Max pixel:  171.9\n",
      "956.18310546875\n",
      "camera complete\n",
      "PCA: 0.11111111111111072\n",
      "powermeter complete\n",
      "956.18310546875\n",
      "spectrometer complete\n",
      "n_frames 50\n"
     ]
    },
    {
     "name": "stderr",
     "output_type": "stream",
     "text": [
      "\n",
      "\n",
      " 70%|███████   | 14/20 [02:42<01:07, 11.25s/it]\u001B[A\u001B[A"
     ]
    },
    {
     "name": "stdout",
     "output_type": "stream",
     "text": [
      "Max pixel:  124.68\n",
      "956.18310546875\n",
      "camera complete\n",
      "PCA: 0.11111111111111072\n",
      "powermeter complete\n",
      "956.1061401367188\n",
      "spectrometer complete\n",
      "n_frames 50\n"
     ]
    },
    {
     "name": "stderr",
     "output_type": "stream",
     "text": [
      "\n",
      "\n",
      " 75%|███████▌  | 15/20 [02:52<00:55, 11.01s/it]\u001B[A\u001B[A"
     ]
    },
    {
     "name": "stdout",
     "output_type": "stream",
     "text": [
      "Max pixel:  124.92\n",
      "956.1061401367188\n",
      "camera complete\n",
      "PCA: 0.11111111111111072\n",
      "powermeter complete\n",
      "955.9521484375\n",
      "spectrometer complete\n",
      "n_frames 50\n"
     ]
    },
    {
     "name": "stderr",
     "output_type": "stream",
     "text": [
      "\n",
      "\n",
      " 80%|████████  | 16/20 [03:03<00:43, 10.85s/it]\u001B[A\u001B[A"
     ]
    },
    {
     "name": "stdout",
     "output_type": "stream",
     "text": [
      "Max pixel:  91.9\n",
      "955.9521484375\n",
      "camera complete\n",
      "PCA: 0.11111111111111072\n",
      "powermeter complete\n",
      "956.1061401367188\n",
      "spectrometer complete\n",
      "n_frames 50\n"
     ]
    },
    {
     "name": "stderr",
     "output_type": "stream",
     "text": [
      "\n",
      "\n",
      " 85%|████████▌ | 17/20 [03:13<00:32, 10.68s/it]\u001B[A\u001B[A"
     ]
    },
    {
     "name": "stdout",
     "output_type": "stream",
     "text": [
      "Max pixel:  162.94\n",
      "956.1061401367188\n",
      "camera complete\n",
      "PCA: 0.11111111111111072\n",
      "powermeter complete\n",
      "955.6439208984375\n",
      "spectrometer complete\n",
      "n_frames 50\n"
     ]
    },
    {
     "name": "stderr",
     "output_type": "stream",
     "text": [
      "\n",
      "\n",
      " 90%|█████████ | 18/20 [03:24<00:21, 10.59s/it]\u001B[A\u001B[A"
     ]
    },
    {
     "name": "stdout",
     "output_type": "stream",
     "text": [
      "Max pixel:  190.76\n",
      "955.6439208984375\n",
      "camera complete\n",
      "PCA: 0.11111111111111072\n",
      "powermeter complete\n",
      "955.7210083007812\n",
      "spectrometer complete\n",
      "n_frames 50\n"
     ]
    },
    {
     "name": "stderr",
     "output_type": "stream",
     "text": [
      "\n",
      "\n",
      " 95%|█████████▌| 19/20 [03:34<00:10, 10.51s/it]\u001B[A\u001B[A"
     ]
    },
    {
     "name": "stdout",
     "output_type": "stream",
     "text": [
      "Max pixel:  69.24\n",
      "955.7210083007812\n",
      "camera complete\n",
      "PCA: 0.11111111111111072\n",
      "powermeter complete\n",
      "955.798095703125\n",
      "spectrometer complete\n",
      "n_frames 50\n"
     ]
    },
    {
     "name": "stderr",
     "output_type": "stream",
     "text": [
      "\n",
      "\n",
      "100%|██████████| 20/20 [03:44<00:00, 11.24s/it]\u001B[A\u001B[A\n",
      "\n",
      " 60%|██████    | 6/10 [22:17<14:54, 223.58s/it]\u001B[A"
     ]
    },
    {
     "name": "stdout",
     "output_type": "stream",
     "text": [
      "Max pixel:  205.32\n",
      "955.798095703125\n",
      "camera complete\n",
      "20240820_082622 20240820_082956\n",
      "-1.666666666666666\n",
      "41231\n"
     ]
    },
    {
     "name": "stderr",
     "output_type": "stream",
     "text": [
      "\n",
      "\n",
      "  0%|          | 0/20 [00:00<?, ?it/s]\u001B[A\u001B[A"
     ]
    },
    {
     "name": "stdout",
     "output_type": "stream",
     "text": [
      "PCA: -1.666666666666666\n",
      "powermeter complete\n",
      "928.8607177734375\n",
      "spectrometer complete\n",
      "n_frames 2\n",
      "Max pixel:  191.0\n",
      "928.8607177734375\n",
      "camera complete\n"
     ]
    },
    {
     "name": "stderr",
     "output_type": "stream",
     "text": [
      "\n",
      "\n",
      "  5%|▌         | 1/20 [00:11<03:39, 11.58s/it]\u001B[A\u001B[A"
     ]
    },
    {
     "name": "stdout",
     "output_type": "stream",
     "text": [
      "PCA: -1.666666666666666\n",
      "powermeter complete\n",
      "929.0309448242188\n",
      "spectrometer complete\n",
      "n_frames 50\n"
     ]
    },
    {
     "name": "stderr",
     "output_type": "stream",
     "text": [
      "\n",
      "\n",
      " 10%|█         | 2/20 [00:23<03:28, 11.59s/it]\u001B[A\u001B[A"
     ]
    },
    {
     "name": "stdout",
     "output_type": "stream",
     "text": [
      "Max pixel:  11.16\n",
      "929.0309448242188\n",
      "camera complete\n",
      "PCA: -1.666666666666666\n",
      "powermeter complete\n",
      "957.4107666015625\n",
      "spectrometer complete\n",
      "n_frames 4\n",
      "Max pixel:  215.25\n",
      "957.4107666015625\n",
      "camera complete\n"
     ]
    },
    {
     "name": "stderr",
     "output_type": "stream",
     "text": [
      "\n",
      "\n",
      " 15%|█▌        | 3/20 [00:34<03:15, 11.52s/it]\u001B[A\u001B[A"
     ]
    },
    {
     "name": "stdout",
     "output_type": "stream",
     "text": [
      "PCA: -1.666666666666666\n",
      "powermeter complete\n",
      "956.7210083007812\n",
      "spectrometer complete\n",
      "n_frames 50\n"
     ]
    },
    {
     "name": "stderr",
     "output_type": "stream",
     "text": [
      "\n",
      "\n",
      " 20%|██        | 4/20 [00:46<03:04, 11.51s/it]\u001B[A\u001B[A"
     ]
    },
    {
     "name": "stdout",
     "output_type": "stream",
     "text": [
      "Max pixel:  11.16\n",
      "956.7210083007812\n",
      "camera complete\n",
      "PCA: -1.666666666666666\n",
      "powermeter complete\n",
      "957.2576904296875\n",
      "spectrometer complete\n",
      "n_frames 8\n",
      "Max pixel:  213.0\n",
      "957.2576904296875\n",
      "camera complete\n"
     ]
    },
    {
     "name": "stderr",
     "output_type": "stream",
     "text": [
      "\n",
      "\n",
      " 25%|██▌       | 5/20 [00:57<02:52, 11.50s/it]\u001B[A\u001B[A"
     ]
    },
    {
     "name": "stdout",
     "output_type": "stream",
     "text": [
      "PCA: -1.666666666666666\n",
      "powermeter complete\n",
      "957.1044921875\n",
      "spectrometer complete\n",
      "n_frames 16\n"
     ]
    },
    {
     "name": "stderr",
     "output_type": "stream",
     "text": [
      "\n",
      "\n",
      " 30%|███       | 6/20 [01:08<02:40, 11.46s/it]\u001B[A\u001B[A"
     ]
    },
    {
     "name": "stdout",
     "output_type": "stream",
     "text": [
      "Max pixel:  149.375\n",
      "957.1044921875\n",
      "camera complete\n",
      "PCA: -1.666666666666666\n",
      "powermeter complete\n",
      "957.1810302734375\n",
      "spectrometer complete\n",
      "n_frames 16\n"
     ]
    },
    {
     "name": "stderr",
     "output_type": "stream",
     "text": [
      "\n",
      "\n",
      " 35%|███▌      | 7/20 [01:20<02:28, 11.43s/it]\u001B[A\u001B[A"
     ]
    },
    {
     "name": "stdout",
     "output_type": "stream",
     "text": [
      "Max pixel:  177.125\n",
      "957.1810302734375\n",
      "camera complete\n",
      "PCA: -1.666666666666666\n",
      "powermeter complete\n",
      "956.7210083007812\n",
      "spectrometer complete\n",
      "n_frames 31\n"
     ]
    },
    {
     "name": "stderr",
     "output_type": "stream",
     "text": [
      "\n",
      "\n",
      " 40%|████      | 8/20 [01:30<02:13, 11.14s/it]\u001B[A\u001B[A"
     ]
    },
    {
     "name": "stdout",
     "output_type": "stream",
     "text": [
      "Max pixel:  183.58064516129033\n",
      "956.7210083007812\n",
      "camera complete\n",
      "PCA: -1.666666666666666\n",
      "powermeter complete\n",
      "956.9511108398438\n",
      "spectrometer complete\n",
      "n_frames 50\n"
     ]
    },
    {
     "name": "stderr",
     "output_type": "stream",
     "text": [
      "\n",
      "\n",
      " 45%|████▌     | 9/20 [01:41<02:00, 10.98s/it]\u001B[A\u001B[A"
     ]
    },
    {
     "name": "stdout",
     "output_type": "stream",
     "text": [
      "Max pixel:  63.04\n",
      "956.9511108398438\n",
      "camera complete\n",
      "PCA: -1.666666666666666\n",
      "powermeter complete\n",
      "956.7210083007812\n",
      "spectrometer complete\n",
      "n_frames 50\n"
     ]
    },
    {
     "name": "stderr",
     "output_type": "stream",
     "text": [
      "\n",
      "\n",
      " 50%|█████     | 10/20 [02:00<02:15, 13.53s/it]\u001B[A\u001B[A"
     ]
    },
    {
     "name": "stdout",
     "output_type": "stream",
     "text": [
      "Max pixel:  105.46\n",
      "956.7210083007812\n",
      "camera complete\n",
      "PCA: -1.666666666666666\n",
      "powermeter complete\n",
      "956.5673828125\n",
      "spectrometer complete\n",
      "n_frames 50\n"
     ]
    },
    {
     "name": "stderr",
     "output_type": "stream",
     "text": [
      "\n",
      "\n",
      " 55%|█████▌    | 11/20 [02:11<01:53, 12.56s/it]\u001B[A\u001B[A"
     ]
    },
    {
     "name": "stdout",
     "output_type": "stream",
     "text": [
      "Max pixel:  167.82\n",
      "956.5673828125\n",
      "camera complete\n",
      "PCA: -1.666666666666666\n",
      "powermeter complete\n",
      "956.3368530273438\n",
      "spectrometer complete\n",
      "n_frames 50\n"
     ]
    },
    {
     "name": "stderr",
     "output_type": "stream",
     "text": [
      "\n",
      "\n",
      " 60%|██████    | 12/20 [02:21<01:35, 11.90s/it]\u001B[A\u001B[A"
     ]
    },
    {
     "name": "stdout",
     "output_type": "stream",
     "text": [
      "Max pixel:  244.48\n",
      "956.3368530273438\n",
      "camera complete\n",
      "PCA: -1.666666666666666\n",
      "powermeter complete\n",
      "956.260009765625\n",
      "spectrometer complete\n",
      "n_frames 50\n"
     ]
    },
    {
     "name": "stderr",
     "output_type": "stream",
     "text": [
      "\n",
      "\n",
      " 65%|██████▌   | 13/20 [02:31<01:20, 11.45s/it]\u001B[A\u001B[A"
     ]
    },
    {
     "name": "stdout",
     "output_type": "stream",
     "text": [
      "Max pixel:  186.36\n",
      "956.260009765625\n",
      "camera complete\n",
      "PCA: -1.666666666666666\n",
      "powermeter complete\n",
      "956.3368530273438\n",
      "spectrometer complete\n",
      "n_frames 50\n"
     ]
    },
    {
     "name": "stderr",
     "output_type": "stream",
     "text": [
      "\n",
      "\n",
      " 70%|███████   | 14/20 [02:42<01:06, 11.15s/it]\u001B[A\u001B[A"
     ]
    },
    {
     "name": "stdout",
     "output_type": "stream",
     "text": [
      "Max pixel:  125.76\n",
      "956.3368530273438\n",
      "camera complete\n",
      "PCA: -1.666666666666666\n",
      "powermeter complete\n",
      "956.18310546875\n",
      "spectrometer complete\n",
      "n_frames 50\n"
     ]
    },
    {
     "name": "stderr",
     "output_type": "stream",
     "text": [
      "\n",
      "\n",
      " 75%|███████▌  | 15/20 [02:52<00:54, 10.93s/it]\u001B[A\u001B[A"
     ]
    },
    {
     "name": "stdout",
     "output_type": "stream",
     "text": [
      "Max pixel:  204.1\n",
      "956.18310546875\n",
      "camera complete\n",
      "PCA: -1.666666666666666\n",
      "powermeter complete\n",
      "956.1061401367188\n",
      "spectrometer complete\n",
      "n_frames 50\n"
     ]
    },
    {
     "name": "stderr",
     "output_type": "stream",
     "text": [
      "\n",
      "\n",
      " 80%|████████  | 16/20 [03:03<00:42, 10.74s/it]\u001B[A\u001B[A"
     ]
    },
    {
     "name": "stdout",
     "output_type": "stream",
     "text": [
      "Max pixel:  77.06\n",
      "956.1061401367188\n",
      "camera complete\n",
      "PCA: -1.666666666666666\n",
      "powermeter complete\n",
      "956.18310546875\n",
      "spectrometer complete\n",
      "n_frames 50\n"
     ]
    },
    {
     "name": "stderr",
     "output_type": "stream",
     "text": [
      "\n",
      "\n",
      " 85%|████████▌ | 17/20 [03:13<00:31, 10.62s/it]\u001B[A\u001B[A"
     ]
    },
    {
     "name": "stdout",
     "output_type": "stream",
     "text": [
      "Max pixel:  237.86\n",
      "956.18310546875\n",
      "camera complete\n",
      "PCA: -1.666666666666666\n",
      "powermeter complete\n",
      "956.260009765625\n",
      "spectrometer complete\n",
      "n_frames 50\n"
     ]
    },
    {
     "name": "stderr",
     "output_type": "stream",
     "text": [
      "\n",
      "\n",
      " 90%|█████████ | 18/20 [03:23<00:21, 10.56s/it]\u001B[A\u001B[A"
     ]
    },
    {
     "name": "stdout",
     "output_type": "stream",
     "text": [
      "Max pixel:  174.4\n",
      "956.260009765625\n",
      "camera complete\n",
      "PCA: -1.666666666666666\n",
      "powermeter complete\n",
      "955.9521484375\n",
      "spectrometer complete\n",
      "n_frames 50\n"
     ]
    },
    {
     "name": "stderr",
     "output_type": "stream",
     "text": [
      "\n",
      "\n",
      " 95%|█████████▌| 19/20 [03:34<00:10, 10.52s/it]\u001B[A\u001B[A"
     ]
    },
    {
     "name": "stdout",
     "output_type": "stream",
     "text": [
      "Max pixel:  69.4\n",
      "955.9521484375\n",
      "camera complete\n",
      "PCA: -1.666666666666666\n",
      "powermeter complete\n",
      "955.798095703125\n",
      "spectrometer complete\n",
      "n_frames 50\n"
     ]
    },
    {
     "name": "stderr",
     "output_type": "stream",
     "text": [
      "\n",
      "\n",
      "100%|██████████| 20/20 [03:44<00:00, 11.23s/it]\u001B[A\u001B[A\n",
      "\n",
      " 70%|███████   | 7/10 [26:02<11:11, 223.97s/it]\u001B[A"
     ]
    },
    {
     "name": "stdout",
     "output_type": "stream",
     "text": [
      "Max pixel:  252.32\n",
      "955.798095703125\n",
      "camera complete\n",
      "20240820_083007 20240820_083341\n",
      "-3.444444444444443\n",
      "41231\n"
     ]
    },
    {
     "name": "stderr",
     "output_type": "stream",
     "text": [
      "\n",
      "\n",
      "  0%|          | 0/20 [00:00<?, ?it/s]\u001B[A\u001B[A"
     ]
    },
    {
     "name": "stdout",
     "output_type": "stream",
     "text": [
      "PCA: -3.444444444444443\n",
      "powermeter complete\n",
      "929.0309448242188\n",
      "spectrometer complete\n",
      "n_frames 2\n",
      "Max pixel:  191.0\n",
      "929.0309448242188\n",
      "camera complete\n"
     ]
    },
    {
     "name": "stderr",
     "output_type": "stream",
     "text": [
      "\n",
      "\n",
      "  5%|▌         | 1/20 [00:11<03:42, 11.72s/it]\u001B[A\u001B[A"
     ]
    },
    {
     "name": "stdout",
     "output_type": "stream",
     "text": [
      "PCA: -3.444444444444443\n",
      "powermeter complete\n",
      "957.334228515625\n",
      "spectrometer complete\n",
      "n_frames 50\n"
     ]
    },
    {
     "name": "stderr",
     "output_type": "stream",
     "text": [
      "\n",
      "\n",
      " 10%|█         | 2/20 [00:23<03:29, 11.64s/it]\u001B[A\u001B[A"
     ]
    },
    {
     "name": "stdout",
     "output_type": "stream",
     "text": [
      "Max pixel:  11.16\n",
      "957.334228515625\n",
      "camera complete\n",
      "PCA: -3.444444444444443\n",
      "powermeter complete\n",
      "957.4107666015625\n",
      "spectrometer complete\n",
      "n_frames 4\n",
      "Max pixel:  216.25\n",
      "957.4107666015625\n",
      "camera complete\n"
     ]
    },
    {
     "name": "stderr",
     "output_type": "stream",
     "text": [
      "\n",
      "\n",
      " 15%|█▌        | 3/20 [00:34<03:16, 11.58s/it]\u001B[A\u001B[A"
     ]
    },
    {
     "name": "stdout",
     "output_type": "stream",
     "text": [
      "PCA: -3.444444444444443\n",
      "powermeter complete\n",
      "957.4107666015625\n",
      "spectrometer complete\n",
      "n_frames 50\n"
     ]
    },
    {
     "name": "stderr",
     "output_type": "stream",
     "text": [
      "\n",
      "\n",
      " 20%|██        | 4/20 [00:46<03:03, 11.49s/it]\u001B[A\u001B[A"
     ]
    },
    {
     "name": "stdout",
     "output_type": "stream",
     "text": [
      "Max pixel:  11.16\n",
      "957.4107666015625\n",
      "camera complete\n",
      "PCA: -3.444444444444443\n",
      "powermeter complete\n",
      "957.563720703125\n",
      "spectrometer complete\n",
      "n_frames 8\n"
     ]
    },
    {
     "name": "stderr",
     "output_type": "stream",
     "text": [
      "\n",
      "\n"
     ]
    },
    {
     "name": "stdout",
     "output_type": "stream",
     "text": [
      "Max pixel:  209.25\n",
      "957.563720703125\n",
      "camera complete\n"
     ]
    },
    {
     "name": "stderr",
     "output_type": "stream",
     "text": [
      " 25%|██▌       | 5/20 [00:57<02:51, 11.46s/it]\u001B[A\u001B[A"
     ]
    },
    {
     "name": "stdout",
     "output_type": "stream",
     "text": [
      "PCA: -3.444444444444443\n",
      "powermeter complete\n",
      "957.4107666015625\n",
      "spectrometer complete\n",
      "n_frames 50\n"
     ]
    },
    {
     "name": "stderr",
     "output_type": "stream",
     "text": [
      "\n",
      "\n",
      " 30%|███       | 6/20 [01:08<02:39, 11.42s/it]\u001B[A\u001B[A"
     ]
    },
    {
     "name": "stdout",
     "output_type": "stream",
     "text": [
      "Max pixel:  6.08\n",
      "957.4107666015625\n",
      "camera complete\n",
      "PCA: -3.444444444444443\n",
      "powermeter complete\n",
      "957.4107666015625\n",
      "spectrometer complete\n",
      "n_frames 16\n"
     ]
    },
    {
     "name": "stderr",
     "output_type": "stream",
     "text": [
      "\n",
      "\n",
      " 35%|███▌      | 7/20 [01:20<02:28, 11.41s/it]\u001B[A\u001B[A"
     ]
    },
    {
     "name": "stdout",
     "output_type": "stream",
     "text": [
      "Max pixel:  172.9375\n",
      "957.4107666015625\n",
      "camera complete\n",
      "PCA: -3.444444444444443\n",
      "powermeter complete\n",
      "956.9511108398438\n",
      "spectrometer complete\n",
      "n_frames 16\n"
     ]
    },
    {
     "name": "stderr",
     "output_type": "stream",
     "text": [
      "\n",
      "\n",
      " 40%|████      | 8/20 [01:30<02:13, 11.08s/it]\u001B[A\u001B[A"
     ]
    },
    {
     "name": "stdout",
     "output_type": "stream",
     "text": [
      "Max pixel:  235.0\n",
      "956.9511108398438\n",
      "camera complete\n",
      "PCA: -3.444444444444443\n",
      "powermeter complete\n",
      "957.1044921875\n",
      "spectrometer complete\n",
      "n_frames 50\n"
     ]
    },
    {
     "name": "stderr",
     "output_type": "stream",
     "text": [
      "\n",
      "\n",
      " 45%|████▌     | 9/20 [01:41<02:00, 10.97s/it]\u001B[A\u001B[A"
     ]
    },
    {
     "name": "stdout",
     "output_type": "stream",
     "text": [
      "Max pixel:  29.92\n",
      "957.1044921875\n",
      "camera complete\n",
      "PCA: -3.444444444444443\n",
      "powermeter complete\n",
      "957.1044921875\n",
      "spectrometer complete\n",
      "n_frames 50\n"
     ]
    },
    {
     "name": "stderr",
     "output_type": "stream",
     "text": [
      "\n",
      "\n",
      " 50%|█████     | 10/20 [01:52<01:49, 11.00s/it]\u001B[A\u001B[A"
     ]
    },
    {
     "name": "stdout",
     "output_type": "stream",
     "text": [
      "Max pixel:  166.68\n",
      "957.1044921875\n",
      "camera complete\n",
      "PCA: -3.444444444444443\n",
      "powermeter complete\n",
      "956.8744506835938\n",
      "spectrometer complete\n",
      "n_frames 50\n"
     ]
    },
    {
     "name": "stderr",
     "output_type": "stream",
     "text": [
      "\n",
      "\n",
      " 55%|█████▌    | 11/20 [02:11<02:01, 13.52s/it]\u001B[A\u001B[A"
     ]
    },
    {
     "name": "stdout",
     "output_type": "stream",
     "text": [
      "Max pixel:  143.46\n",
      "956.8744506835938\n",
      "camera complete\n",
      "PCA: -3.444444444444443\n",
      "powermeter complete\n",
      "957.1044921875\n",
      "spectrometer complete\n",
      "n_frames 50\n"
     ]
    },
    {
     "name": "stderr",
     "output_type": "stream",
     "text": [
      "\n",
      "\n",
      " 60%|██████    | 12/20 [02:22<01:40, 12.56s/it]\u001B[A\u001B[A"
     ]
    },
    {
     "name": "stdout",
     "output_type": "stream",
     "text": [
      "Max pixel:  182.18\n",
      "957.1044921875\n",
      "camera complete\n",
      "PCA: -3.444444444444443\n",
      "powermeter complete\n",
      "956.5673828125\n",
      "spectrometer complete\n",
      "n_frames 50\n"
     ]
    },
    {
     "name": "stderr",
     "output_type": "stream",
     "text": [
      "\n",
      "\n",
      " 65%|██████▌   | 13/20 [02:32<01:23, 11.89s/it]\u001B[A\u001B[A"
     ]
    },
    {
     "name": "stdout",
     "output_type": "stream",
     "text": [
      "Max pixel:  223.44\n",
      "956.5673828125\n",
      "camera complete\n",
      "PCA: -3.444444444444443\n",
      "powermeter complete\n",
      "956.644287109375\n",
      "spectrometer complete\n",
      "n_frames 50\n"
     ]
    },
    {
     "name": "stderr",
     "output_type": "stream",
     "text": [
      "\n",
      "\n",
      " 70%|███████   | 14/20 [02:42<01:08, 11.43s/it]\u001B[A\u001B[A"
     ]
    },
    {
     "name": "stdout",
     "output_type": "stream",
     "text": [
      "Max pixel:  210.94\n",
      "956.644287109375\n",
      "camera complete\n",
      "PCA: -3.444444444444443\n",
      "powermeter complete\n",
      "956.4137573242188\n",
      "spectrometer complete\n",
      "n_frames 50\n"
     ]
    },
    {
     "name": "stderr",
     "output_type": "stream",
     "text": [
      "\n",
      "\n",
      " 75%|███████▌  | 15/20 [02:53<00:55, 11.12s/it]\u001B[A\u001B[A"
     ]
    },
    {
     "name": "stdout",
     "output_type": "stream",
     "text": [
      "Max pixel:  192.96\n",
      "956.4137573242188\n",
      "camera complete\n",
      "PCA: -3.444444444444443\n",
      "powermeter complete\n",
      "956.644287109375\n",
      "spectrometer complete\n",
      "n_frames 50\n"
     ]
    },
    {
     "name": "stderr",
     "output_type": "stream",
     "text": [
      "\n",
      "\n",
      " 80%|████████  | 16/20 [03:03<00:43, 10.90s/it]\u001B[A\u001B[A"
     ]
    },
    {
     "name": "stdout",
     "output_type": "stream",
     "text": [
      "Max pixel:  191.38\n",
      "956.644287109375\n",
      "camera complete\n",
      "PCA: -3.444444444444443\n",
      "powermeter complete\n",
      "956.644287109375\n",
      "spectrometer complete\n",
      "n_frames 50\n"
     ]
    },
    {
     "name": "stderr",
     "output_type": "stream",
     "text": [
      "\n",
      "\n",
      " 85%|████████▌ | 17/20 [03:13<00:32, 10.74s/it]\u001B[A\u001B[A"
     ]
    },
    {
     "name": "stdout",
     "output_type": "stream",
     "text": [
      "Max pixel:  225.4\n",
      "956.644287109375\n",
      "camera complete\n",
      "PCA: -3.444444444444443\n",
      "powermeter complete\n",
      "956.4137573242188\n",
      "spectrometer complete\n",
      "n_frames 50\n"
     ]
    },
    {
     "name": "stderr",
     "output_type": "stream",
     "text": [
      "\n",
      "\n",
      " 90%|█████████ | 18/20 [03:24<00:21, 10.64s/it]\u001B[A\u001B[A"
     ]
    },
    {
     "name": "stdout",
     "output_type": "stream",
     "text": [
      "Max pixel:  246.54\n",
      "956.4137573242188\n",
      "camera complete\n",
      "PCA: -3.444444444444443\n",
      "powermeter complete\n",
      "956.4906005859375\n",
      "spectrometer complete\n",
      "n_frames 50\n"
     ]
    },
    {
     "name": "stderr",
     "output_type": "stream",
     "text": [
      "\n",
      "\n",
      " 95%|█████████▌| 19/20 [03:34<00:10, 10.55s/it]\u001B[A\u001B[A"
     ]
    },
    {
     "name": "stdout",
     "output_type": "stream",
     "text": [
      "Max pixel:  163.96\n",
      "956.4906005859375\n",
      "camera complete\n",
      "PCA: -3.444444444444443\n",
      "powermeter complete\n",
      "956.4906005859375\n",
      "spectrometer complete\n",
      "n_frames 50\n"
     ]
    },
    {
     "name": "stderr",
     "output_type": "stream",
     "text": [
      "\n",
      "\n",
      "100%|██████████| 20/20 [03:45<00:00, 11.25s/it]\u001B[A\u001B[A\n",
      "\n",
      " 80%|████████  | 8/10 [29:47<07:28, 224.34s/it]\u001B[A"
     ]
    },
    {
     "name": "stdout",
     "output_type": "stream",
     "text": [
      "Max pixel:  147.7\n",
      "956.4906005859375\n",
      "camera complete\n",
      "20240820_083352 20240820_083726\n",
      "-5.222222222222221\n",
      "41231\n"
     ]
    },
    {
     "name": "stderr",
     "output_type": "stream",
     "text": [
      "\n",
      "\n",
      "  0%|          | 0/20 [00:00<?, ?it/s]\u001B[A\u001B[A"
     ]
    },
    {
     "name": "stdout",
     "output_type": "stream",
     "text": [
      "PCA: -5.222222222222221\n",
      "powermeter complete\n",
      "929.0309448242188\n",
      "spectrometer complete\n",
      "n_frames 2\n",
      "Max pixel:  194.5\n",
      "929.0309448242188\n",
      "camera complete\n"
     ]
    },
    {
     "name": "stderr",
     "output_type": "stream",
     "text": [
      "\n",
      "\n",
      "  5%|▌         | 1/20 [00:11<03:42, 11.71s/it]\u001B[A\u001B[A"
     ]
    },
    {
     "name": "stdout",
     "output_type": "stream",
     "text": [
      "PCA: -5.222222222222221\n",
      "powermeter complete\n",
      "958.3273315429688\n",
      "spectrometer complete\n",
      "n_frames 50\n"
     ]
    },
    {
     "name": "stderr",
     "output_type": "stream",
     "text": [
      "\n",
      "\n",
      " 10%|█         | 2/20 [00:23<03:29, 11.64s/it]\u001B[A\u001B[A"
     ]
    },
    {
     "name": "stdout",
     "output_type": "stream",
     "text": [
      "Max pixel:  6.08\n",
      "958.3273315429688\n",
      "camera complete\n",
      "PCA: -5.222222222222221\n",
      "powermeter complete\n",
      "958.3273315429688\n",
      "spectrometer complete\n",
      "n_frames 4\n",
      "Max pixel:  209.75\n",
      "958.3273315429688\n",
      "camera complete\n"
     ]
    },
    {
     "name": "stderr",
     "output_type": "stream",
     "text": [
      "\n",
      "\n",
      " 15%|█▌        | 3/20 [00:34<03:17, 11.62s/it]\u001B[A\u001B[A"
     ]
    },
    {
     "name": "stdout",
     "output_type": "stream",
     "text": [
      "PCA: -5.222222222222221\n",
      "powermeter complete\n",
      "958.0985107421875\n",
      "spectrometer complete\n",
      "n_frames 50\n"
     ]
    },
    {
     "name": "stderr",
     "output_type": "stream",
     "text": [
      "\n",
      "\n",
      " 20%|██        | 4/20 [00:46<03:04, 11.52s/it]\u001B[A\u001B[A"
     ]
    },
    {
     "name": "stdout",
     "output_type": "stream",
     "text": [
      "Max pixel:  6.08\n",
      "958.0985107421875\n",
      "camera complete\n",
      "PCA: -5.222222222222221\n",
      "powermeter complete\n",
      "958.0985107421875\n",
      "spectrometer complete\n",
      "n_frames 16\n"
     ]
    },
    {
     "name": "stderr",
     "output_type": "stream",
     "text": [
      "\n",
      "\n",
      " 25%|██▌       | 5/20 [00:57<02:52, 11.47s/it]\u001B[A\u001B[A"
     ]
    },
    {
     "name": "stdout",
     "output_type": "stream",
     "text": [
      "Max pixel:  118.75\n",
      "958.0985107421875\n",
      "camera complete\n",
      "PCA: -5.222222222222221\n",
      "powermeter complete\n",
      "957.9459228515625\n",
      "spectrometer complete\n",
      "n_frames 16\n"
     ]
    },
    {
     "name": "stderr",
     "output_type": "stream",
     "text": [
      "\n",
      "\n",
      " 30%|███       | 6/20 [01:09<02:40, 11.43s/it]\u001B[A\u001B[A"
     ]
    },
    {
     "name": "stdout",
     "output_type": "stream",
     "text": [
      "Max pixel:  141.8125\n",
      "957.9459228515625\n",
      "camera complete\n",
      "PCA: -5.222222222222221\n",
      "powermeter complete\n",
      "958.022216796875\n",
      "spectrometer complete\n",
      "n_frames 16\n"
     ]
    },
    {
     "name": "stderr",
     "output_type": "stream",
     "text": [
      "\n",
      "\n",
      " 35%|███▌      | 7/20 [01:20<02:28, 11.41s/it]\u001B[A\u001B[A"
     ]
    },
    {
     "name": "stdout",
     "output_type": "stream",
     "text": [
      "Max pixel:  166.1875\n",
      "958.022216796875\n",
      "camera complete\n",
      "PCA: -5.222222222222221\n",
      "powermeter complete\n",
      "958.3273315429688\n",
      "spectrometer complete\n",
      "n_frames 16\n"
     ]
    },
    {
     "name": "stderr",
     "output_type": "stream",
     "text": [
      "\n",
      "\n",
      " 40%|████      | 8/20 [01:31<02:16, 11.36s/it]\u001B[A\u001B[A"
     ]
    },
    {
     "name": "stdout",
     "output_type": "stream",
     "text": [
      "Max pixel:  186.625\n",
      "958.3273315429688\n",
      "camera complete\n",
      "PCA: -5.222222222222221\n",
      "powermeter complete\n",
      "958.2510986328125\n",
      "spectrometer complete\n",
      "n_frames 16\n"
     ]
    },
    {
     "name": "stderr",
     "output_type": "stream",
     "text": [
      "\n",
      "\n",
      " 45%|████▌     | 9/20 [01:43<02:05, 11.38s/it]\u001B[A\u001B[A"
     ]
    },
    {
     "name": "stdout",
     "output_type": "stream",
     "text": [
      "Max pixel:  210.75\n",
      "958.2510986328125\n",
      "camera complete\n",
      "PCA: -5.222222222222221\n",
      "powermeter complete\n",
      "957.6402587890625\n",
      "spectrometer complete\n",
      "n_frames 16\n"
     ]
    },
    {
     "name": "stderr",
     "output_type": "stream",
     "text": [
      "\n",
      "\n"
     ]
    },
    {
     "name": "stdout",
     "output_type": "stream",
     "text": [
      "Max pixel:  245.125\n",
      "957.6402587890625\n",
      "camera complete\n"
     ]
    },
    {
     "name": "stderr",
     "output_type": "stream",
     "text": [
      " 50%|█████     | 10/20 [01:53<01:51, 11.15s/it]\u001B[A\u001B[A"
     ]
    },
    {
     "name": "stdout",
     "output_type": "stream",
     "text": [
      "PCA: -5.222222222222221\n",
      "powermeter complete\n",
      "957.6402587890625\n",
      "spectrometer complete\n",
      "n_frames 50\n"
     ]
    },
    {
     "name": "stderr",
     "output_type": "stream",
     "text": [
      "\n",
      "\n",
      " 55%|█████▌    | 11/20 [02:04<01:38, 10.94s/it]\u001B[A\u001B[A"
     ]
    },
    {
     "name": "stdout",
     "output_type": "stream",
     "text": [
      "Max pixel:  23.7\n",
      "957.6402587890625\n",
      "camera complete\n",
      "PCA: -5.222222222222221\n",
      "powermeter complete\n",
      "957.7166748046875\n",
      "spectrometer complete\n",
      "n_frames 50\n"
     ]
    },
    {
     "name": "stderr",
     "output_type": "stream",
     "text": [
      "\n",
      "\n",
      " 60%|██████    | 12/20 [02:15<01:27, 10.96s/it]\u001B[A\u001B[A"
     ]
    },
    {
     "name": "stdout",
     "output_type": "stream",
     "text": [
      "Max pixel:  162.02\n",
      "957.7166748046875\n",
      "camera complete\n",
      "PCA: -5.222222222222221\n",
      "powermeter complete\n",
      "957.6402587890625\n",
      "spectrometer complete\n",
      "n_frames 50\n"
     ]
    },
    {
     "name": "stderr",
     "output_type": "stream",
     "text": [
      "\n",
      "\n",
      " 65%|██████▌   | 13/20 [02:26<01:16, 10.97s/it]\u001B[A\u001B[A"
     ]
    },
    {
     "name": "stdout",
     "output_type": "stream",
     "text": [
      "Max pixel:  116.54\n",
      "957.6402587890625\n",
      "camera complete\n",
      "PCA: -5.222222222222221\n",
      "powermeter complete\n",
      "957.6402587890625\n",
      "spectrometer complete\n",
      "n_frames 50\n"
     ]
    },
    {
     "name": "stderr",
     "output_type": "stream",
     "text": [
      "\n",
      "\n",
      " 70%|███████   | 14/20 [02:37<01:05, 10.97s/it]\u001B[A\u001B[A"
     ]
    },
    {
     "name": "stdout",
     "output_type": "stream",
     "text": [
      "Max pixel:  211.66\n",
      "957.6402587890625\n",
      "camera complete\n",
      "PCA: -5.222222222222221\n",
      "powermeter complete\n",
      "957.6402587890625\n",
      "spectrometer complete\n",
      "n_frames 50\n"
     ]
    },
    {
     "name": "stderr",
     "output_type": "stream",
     "text": [
      "\n",
      "\n",
      " 75%|███████▌  | 15/20 [02:56<01:07, 13.47s/it]\u001B[A\u001B[A"
     ]
    },
    {
     "name": "stdout",
     "output_type": "stream",
     "text": [
      "Max pixel:  183.5\n",
      "957.6402587890625\n",
      "camera complete\n",
      "PCA: -5.222222222222221\n",
      "powermeter complete\n",
      "957.7931518554688\n",
      "spectrometer complete\n",
      "n_frames 50\n"
     ]
    },
    {
     "name": "stderr",
     "output_type": "stream",
     "text": [
      "\n",
      "\n",
      " 80%|████████  | 16/20 [03:06<00:50, 12.50s/it]\u001B[A\u001B[A"
     ]
    },
    {
     "name": "stdout",
     "output_type": "stream",
     "text": [
      "Max pixel:  136.14\n",
      "957.7931518554688\n",
      "camera complete\n",
      "PCA: -5.222222222222221\n",
      "powermeter complete\n",
      "957.563720703125\n",
      "spectrometer complete\n",
      "n_frames 50\n"
     ]
    },
    {
     "name": "stderr",
     "output_type": "stream",
     "text": [
      "\n",
      "\n",
      " 85%|████████▌ | 17/20 [03:17<00:36, 12.02s/it]\u001B[A\u001B[A"
     ]
    },
    {
     "name": "stdout",
     "output_type": "stream",
     "text": [
      "Max pixel:  166.64\n",
      "957.563720703125\n",
      "camera complete\n",
      "PCA: -5.222222222222221\n",
      "powermeter complete\n",
      "957.4872436523438\n",
      "spectrometer complete\n",
      "n_frames 50\n"
     ]
    },
    {
     "name": "stderr",
     "output_type": "stream",
     "text": [
      "\n",
      "\n",
      " 90%|█████████ | 18/20 [03:27<00:23, 11.51s/it]\u001B[A\u001B[A"
     ]
    },
    {
     "name": "stdout",
     "output_type": "stream",
     "text": [
      "Max pixel:  241.46\n",
      "957.4872436523438\n",
      "camera complete\n",
      "PCA: -5.222222222222221\n",
      "powermeter complete\n",
      "957.563720703125\n",
      "spectrometer complete\n",
      "n_frames 50\n"
     ]
    },
    {
     "name": "stderr",
     "output_type": "stream",
     "text": [
      "\n",
      "\n",
      " 95%|█████████▌| 19/20 [03:38<00:11, 11.19s/it]\u001B[A\u001B[A"
     ]
    },
    {
     "name": "stdout",
     "output_type": "stream",
     "text": [
      "Max pixel:  129.04\n",
      "957.563720703125\n",
      "camera complete\n",
      "PCA: -5.222222222222221\n",
      "powermeter complete\n",
      "957.4107666015625\n",
      "spectrometer complete\n",
      "n_frames 50\n"
     ]
    },
    {
     "name": "stderr",
     "output_type": "stream",
     "text": [
      "\n",
      "\n",
      "100%|██████████| 20/20 [03:48<00:00, 11.44s/it]\u001B[A\u001B[A\n",
      "\n",
      " 90%|█████████ | 9/10 [33:36<03:45, 225.77s/it]\u001B[A"
     ]
    },
    {
     "name": "stdout",
     "output_type": "stream",
     "text": [
      "Max pixel:  127.7\n",
      "957.4107666015625\n",
      "camera complete\n",
      "20240820_083737 20240820_084115\n",
      "-7.0\n",
      "41231\n"
     ]
    },
    {
     "name": "stderr",
     "output_type": "stream",
     "text": [
      "\n",
      "\n",
      "  0%|          | 0/20 [00:00<?, ?it/s]\u001B[A\u001B[A"
     ]
    },
    {
     "name": "stdout",
     "output_type": "stream",
     "text": [
      "PCA: -7.0\n",
      "powermeter complete\n",
      "931.0665283203125\n",
      "spectrometer complete\n",
      "n_frames 2\n",
      "Max pixel:  193.5\n",
      "931.0665283203125\n",
      "camera complete\n"
     ]
    },
    {
     "name": "stderr",
     "output_type": "stream",
     "text": [
      "\n",
      "\n",
      "  5%|▌         | 1/20 [00:11<03:43, 11.79s/it]\u001B[A\u001B[A"
     ]
    },
    {
     "name": "stdout",
     "output_type": "stream",
     "text": [
      "PCA: -7.0\n",
      "powermeter complete\n",
      "929.0309448242188\n",
      "spectrometer complete\n",
      "n_frames 50\n"
     ]
    },
    {
     "name": "stderr",
     "output_type": "stream",
     "text": [
      "\n",
      "\n",
      " 10%|█         | 2/20 [00:23<03:30, 11.67s/it]\u001B[A\u001B[A"
     ]
    },
    {
     "name": "stdout",
     "output_type": "stream",
     "text": [
      "Max pixel:  6.08\n",
      "929.0309448242188\n",
      "camera complete\n",
      "PCA: -7.0\n",
      "powermeter complete\n",
      "928.8607177734375\n",
      "spectrometer complete\n",
      "n_frames 4\n",
      "Max pixel:  198.75\n",
      "928.8607177734375\n",
      "camera complete\n"
     ]
    },
    {
     "name": "stderr",
     "output_type": "stream",
     "text": [
      "\n",
      "\n",
      " 15%|█▌        | 3/20 [00:34<03:17, 11.63s/it]\u001B[A\u001B[A"
     ]
    },
    {
     "name": "stdout",
     "output_type": "stream",
     "text": [
      "PCA: -7.0\n",
      "powermeter complete\n",
      "959.1643676757812\n",
      "spectrometer complete\n",
      "n_frames 50\n"
     ]
    },
    {
     "name": "stderr",
     "output_type": "stream",
     "text": [
      "\n",
      "\n",
      " 20%|██        | 4/20 [00:46<03:04, 11.53s/it]\u001B[A\u001B[A"
     ]
    },
    {
     "name": "stdout",
     "output_type": "stream",
     "text": [
      "Max pixel:  6.08\n",
      "959.1643676757812\n",
      "camera complete\n",
      "PCA: -7.0\n",
      "powermeter complete\n",
      "959.240234375\n",
      "spectrometer complete\n",
      "n_frames 8\n",
      "Max pixel:  194.125\n",
      "959.240234375\n",
      "camera complete\n"
     ]
    },
    {
     "name": "stderr",
     "output_type": "stream",
     "text": [
      "\n",
      "\n",
      " 25%|██▌       | 5/20 [00:57<02:52, 11.50s/it]\u001B[A\u001B[A"
     ]
    },
    {
     "name": "stdout",
     "output_type": "stream",
     "text": [
      "PCA: -7.0\n",
      "powermeter complete\n",
      "958.8603515625\n",
      "spectrometer complete\n",
      "n_frames 16\n"
     ]
    },
    {
     "name": "stderr",
     "output_type": "stream",
     "text": [
      "\n",
      "\n",
      " 30%|███       | 6/20 [01:09<02:40, 11.46s/it]\u001B[A\u001B[A"
     ]
    },
    {
     "name": "stdout",
     "output_type": "stream",
     "text": [
      "Max pixel:  136.875\n",
      "958.8603515625\n",
      "camera complete\n",
      "PCA: -7.0\n",
      "powermeter complete\n",
      "960.3764038085938\n",
      "spectrometer complete\n",
      "n_frames 16\n"
     ]
    },
    {
     "name": "stderr",
     "output_type": "stream",
     "text": [
      "\n",
      "\n",
      " 35%|███▌      | 7/20 [01:20<02:28, 11.45s/it]\u001B[A\u001B[A"
     ]
    },
    {
     "name": "stdout",
     "output_type": "stream",
     "text": [
      "Max pixel:  153.375\n",
      "960.3764038085938\n",
      "camera complete\n",
      "PCA: -7.0\n",
      "powermeter complete\n",
      "959.240234375\n",
      "spectrometer complete\n",
      "n_frames 16\n"
     ]
    },
    {
     "name": "stderr",
     "output_type": "stream",
     "text": [
      "\n",
      "\n",
      " 40%|████      | 8/20 [01:32<02:17, 11.44s/it]"
     ]
    },
    {
     "name": "stdout",
     "output_type": "stream",
     "text": [
      "Max pixel:  176.0\n",
      "959.240234375\n",
      "camera complete\n"
     ]
    },
    {
     "name": "stderr",
     "output_type": "stream",
     "text": [
      "\u001B[A\u001B[A"
     ]
    },
    {
     "name": "stdout",
     "output_type": "stream",
     "text": [
      "PCA: -7.0\n",
      "powermeter complete\n",
      "959.1643676757812\n",
      "spectrometer complete\n",
      "n_frames 16\n"
     ]
    },
    {
     "name": "stderr",
     "output_type": "stream",
     "text": [
      "\n",
      "\n",
      " 45%|████▌     | 9/20 [01:43<02:05, 11.44s/it]\u001B[A\u001B[A"
     ]
    },
    {
     "name": "stdout",
     "output_type": "stream",
     "text": [
      "Max pixel:  199.125\n",
      "959.1643676757812\n",
      "camera complete\n",
      "PCA: -7.0\n",
      "powermeter complete\n",
      "959.240234375\n",
      "spectrometer complete\n",
      "n_frames 16\n"
     ]
    },
    {
     "name": "stderr",
     "output_type": "stream",
     "text": [
      "\n",
      "\n",
      " 50%|█████     | 10/20 [01:54<01:54, 11.46s/it]\u001B[A\u001B[A"
     ]
    },
    {
     "name": "stdout",
     "output_type": "stream",
     "text": [
      "Max pixel:  219.75\n",
      "959.240234375\n",
      "camera complete\n",
      "PCA: -7.0\n",
      "powermeter complete\n",
      "959.1643676757812\n",
      "spectrometer complete\n",
      "n_frames 16\n"
     ]
    },
    {
     "name": "stderr",
     "output_type": "stream",
     "text": [
      "\n",
      "\n"
     ]
    },
    {
     "name": "stdout",
     "output_type": "stream",
     "text": [
      "Max pixel:  241.8125\n",
      "959.1643676757812\n",
      "camera complete\n"
     ]
    },
    {
     "name": "stderr",
     "output_type": "stream",
     "text": [
      " 55%|█████▌    | 11/20 [02:06<01:42, 11.44s/it]\u001B[A\u001B[A"
     ]
    },
    {
     "name": "stdout",
     "output_type": "stream",
     "text": [
      "PCA: -7.0\n",
      "powermeter complete\n",
      "958.9364013671875\n",
      "spectrometer complete\n",
      "n_frames 16\n"
     ]
    },
    {
     "name": "stderr",
     "output_type": "stream",
     "text": [
      "\n",
      "\n",
      " 60%|██████    | 12/20 [02:17<01:31, 11.44s/it]\u001B[A\u001B[A"
     ]
    },
    {
     "name": "stdout",
     "output_type": "stream",
     "text": [
      "Max pixel:  248.75\n",
      "958.9364013671875\n",
      "camera complete\n",
      "PCA: -7.0\n",
      "powermeter complete\n",
      "958.7081909179688\n",
      "spectrometer complete\n",
      "n_frames 31\n"
     ]
    },
    {
     "name": "stderr",
     "output_type": "stream",
     "text": [
      "\n",
      "\n",
      " 65%|██████▌   | 13/20 [02:29<01:20, 11.46s/it]\u001B[A\u001B[A"
     ]
    },
    {
     "name": "stdout",
     "output_type": "stream",
     "text": [
      "Max pixel:  167.5483870967742\n",
      "958.7081909179688\n",
      "camera complete\n",
      "PCA: -7.0\n",
      "powermeter complete\n",
      "958.8603515625\n",
      "spectrometer complete\n",
      "n_frames 31\n"
     ]
    },
    {
     "name": "stderr",
     "output_type": "stream",
     "text": [
      "\n",
      "\n",
      " 70%|███████   | 14/20 [02:40<01:08, 11.46s/it]\u001B[A\u001B[A"
     ]
    },
    {
     "name": "stdout",
     "output_type": "stream",
     "text": [
      "Max pixel:  180.09677419354838\n",
      "958.8603515625\n",
      "camera complete\n",
      "PCA: -7.0\n",
      "powermeter complete\n",
      "958.555908203125\n",
      "spectrometer complete\n",
      "n_frames 31\n"
     ]
    },
    {
     "name": "stderr",
     "output_type": "stream",
     "text": [
      "\n",
      "\n",
      " 75%|███████▌  | 15/20 [02:52<00:57, 11.60s/it]\u001B[A\u001B[A"
     ]
    },
    {
     "name": "stdout",
     "output_type": "stream",
     "text": [
      "Max pixel:  199.19354838709677\n",
      "958.555908203125\n",
      "camera complete\n",
      "PCA: -7.0\n",
      "powermeter complete\n",
      "958.403564453125\n",
      "spectrometer complete\n",
      "n_frames 50\n"
     ]
    },
    {
     "name": "stderr",
     "output_type": "stream",
     "text": [
      "\n",
      "\n",
      " 80%|████████  | 16/20 [03:02<00:44, 11.21s/it]\u001B[A\u001B[A"
     ]
    },
    {
     "name": "stdout",
     "output_type": "stream",
     "text": [
      "Max pixel:  17.7\n",
      "958.403564453125\n",
      "camera complete\n",
      "PCA: -7.0\n",
      "powermeter complete\n",
      "958.555908203125\n",
      "spectrometer complete\n",
      "n_frames 50\n"
     ]
    },
    {
     "name": "stderr",
     "output_type": "stream",
     "text": [
      "\n",
      "\n",
      " 85%|████████▌ | 17/20 [03:13<00:33, 11.05s/it]\u001B[A\u001B[A"
     ]
    },
    {
     "name": "stdout",
     "output_type": "stream",
     "text": [
      "Max pixel:  108.88\n",
      "958.555908203125\n",
      "camera complete\n",
      "PCA: -7.0\n",
      "powermeter complete\n",
      "959.8468627929688\n",
      "spectrometer complete\n",
      "n_frames 31\n"
     ]
    },
    {
     "name": "stderr",
     "output_type": "stream",
     "text": [
      "\n",
      "\n",
      " 90%|█████████ | 18/20 [03:24<00:21, 10.86s/it]\u001B[A\u001B[A"
     ]
    },
    {
     "name": "stdout",
     "output_type": "stream",
     "text": [
      "Max pixel:  218.2258064516129\n",
      "959.8468627929688\n",
      "camera complete\n",
      "PCA: -7.0\n",
      "powermeter complete\n",
      "958.555908203125\n",
      "spectrometer complete\n",
      "n_frames 50\n"
     ]
    },
    {
     "name": "stderr",
     "output_type": "stream",
     "text": [
      "\n",
      "\n",
      " 95%|█████████▌| 19/20 [03:43<00:13, 13.35s/it]\u001B[A\u001B[A"
     ]
    },
    {
     "name": "stdout",
     "output_type": "stream",
     "text": [
      "Max pixel:  206.3\n",
      "958.555908203125\n",
      "camera complete\n",
      "PCA: -7.0\n",
      "powermeter complete\n",
      "958.555908203125\n",
      "spectrometer complete\n",
      "n_frames 50\n"
     ]
    },
    {
     "name": "stderr",
     "output_type": "stream",
     "text": [
      "\n",
      "\n",
      "100%|██████████| 20/20 [03:53<00:00, 11.68s/it]\u001B[A\u001B[A\n",
      "\n",
      "100%|██████████| 10/10 [37:30<00:00, 225.03s/it]\u001B[A\n",
      " 20%|██        | 2/10 [1:16:49<5:07:17, 2304.66s/it]"
     ]
    },
    {
     "name": "stdout",
     "output_type": "stream",
     "text": [
      "Max pixel:  156.16\n",
      "958.555908203125\n",
      "camera complete\n",
      "20240820_084126 20240820_084509\n",
      "-7.0\n",
      "41231\n",
      "-5.222222222222221\n",
      "41231\n",
      "-3.444444444444443\n",
      "41231\n",
      "-1.666666666666666\n",
      "41231\n",
      "0.11111111111111072\n",
      "41231\n",
      "1.8888888888888893\n",
      "41231\n",
      "3.666666666666667\n",
      "41231\n",
      "5.444444444444445\n",
      "41231\n",
      "7.222222222222222\n",
      "41231\n",
      "9.0\n",
      "41231\n"
     ]
    },
    {
     "name": "stderr",
     "output_type": "stream",
     "text": [
      "\n",
      "  0%|          | 0/10 [00:00<?, ?it/s]\u001B[A"
     ]
    },
    {
     "name": "stdout",
     "output_type": "stream",
     "text": [
      "9.0\n",
      "41231\n"
     ]
    },
    {
     "name": "stderr",
     "output_type": "stream",
     "text": [
      "\n",
      "\n",
      "  0%|          | 0/20 [00:00<?, ?it/s]\u001B[A\u001B[A"
     ]
    },
    {
     "name": "stdout",
     "output_type": "stream",
     "text": [
      "PCA: 9.0\n",
      "powermeter complete\n",
      "951.3654174804688\n",
      "spectrometer complete\n",
      "n_frames 2\n",
      "Max pixel:  196.0\n",
      "951.3654174804688\n",
      "camera complete\n"
     ]
    },
    {
     "name": "stderr",
     "output_type": "stream",
     "text": [
      "\n",
      "\n",
      "  5%|▌         | 1/20 [00:11<03:43, 11.74s/it]\u001B[A\u001B[A"
     ]
    },
    {
     "name": "stdout",
     "output_type": "stream",
     "text": [
      "PCA: 9.0\n",
      "powermeter complete\n",
      "951.3654174804688\n",
      "spectrometer complete\n",
      "n_frames 50\n"
     ]
    },
    {
     "name": "stderr",
     "output_type": "stream",
     "text": [
      "\n",
      "\n",
      " 10%|█         | 2/20 [00:23<03:29, 11.66s/it]\u001B[A\u001B[A"
     ]
    },
    {
     "name": "stdout",
     "output_type": "stream",
     "text": [
      "Max pixel:  6.08\n",
      "951.3654174804688\n",
      "camera complete\n",
      "PCA: 9.0\n",
      "powermeter complete\n",
      "951.5222778320312\n",
      "spectrometer complete\n",
      "n_frames 50\n"
     ]
    },
    {
     "name": "stderr",
     "output_type": "stream",
     "text": [
      "\n",
      "\n",
      " 15%|█▌        | 3/20 [00:33<03:10, 11.20s/it]\u001B[A\u001B[A"
     ]
    },
    {
     "name": "stdout",
     "output_type": "stream",
     "text": [
      "Max pixel:  118.0\n",
      "951.5222778320312\n",
      "camera complete\n",
      "PCA: 9.0\n",
      "powermeter complete\n",
      "951.3654174804688\n",
      "spectrometer complete\n",
      "n_frames 50\n"
     ]
    },
    {
     "name": "stderr",
     "output_type": "stream",
     "text": [
      "\n",
      "\n",
      " 20%|██        | 4/20 [00:53<03:50, 14.40s/it]\u001B[A\u001B[A"
     ]
    },
    {
     "name": "stdout",
     "output_type": "stream",
     "text": [
      "Max pixel:  193.4\n",
      "951.3654174804688\n",
      "camera complete\n",
      "PCA: 9.0\n",
      "powermeter complete\n",
      "951.3654174804688\n",
      "spectrometer complete\n",
      "n_frames 50\n"
     ]
    },
    {
     "name": "stderr",
     "output_type": "stream",
     "text": [
      "\n",
      "\n",
      " 25%|██▌       | 5/20 [01:03<03:14, 12.97s/it]\u001B[A\u001B[A"
     ]
    },
    {
     "name": "stdout",
     "output_type": "stream",
     "text": [
      "Max pixel:  73.42\n",
      "951.3654174804688\n",
      "camera complete\n",
      "PCA: 9.0\n",
      "powermeter complete\n",
      "951.3654174804688\n",
      "spectrometer complete\n",
      "n_frames 50\n"
     ]
    },
    {
     "name": "stderr",
     "output_type": "stream",
     "text": [
      "\n",
      "\n",
      " 30%|███       | 6/20 [01:14<02:49, 12.07s/it]\u001B[A\u001B[A"
     ]
    },
    {
     "name": "stdout",
     "output_type": "stream",
     "text": [
      "Max pixel:  149.78\n",
      "951.3654174804688\n",
      "camera complete\n",
      "PCA: 9.0\n",
      "powermeter complete\n",
      "951.0513305664062\n",
      "spectrometer complete\n",
      "n_frames 50\n"
     ]
    },
    {
     "name": "stderr",
     "output_type": "stream",
     "text": [
      "\n",
      "\n",
      " 35%|███▌      | 7/20 [01:24<02:30, 11.56s/it]\u001B[A\u001B[A"
     ]
    },
    {
     "name": "stdout",
     "output_type": "stream",
     "text": [
      "Max pixel:  243.3\n",
      "951.0513305664062\n",
      "camera complete\n",
      "PCA: 9.0\n",
      "powermeter complete\n",
      "951.0513305664062\n",
      "spectrometer complete\n",
      "n_frames 50\n"
     ]
    },
    {
     "name": "stderr",
     "output_type": "stream",
     "text": [
      "\n",
      "\n",
      " 40%|████      | 8/20 [01:34<02:14, 11.18s/it]\u001B[A\u001B[A"
     ]
    },
    {
     "name": "stdout",
     "output_type": "stream",
     "text": [
      "Max pixel:  44.86\n",
      "951.0513305664062\n",
      "camera complete\n",
      "PCA: 9.0\n",
      "powermeter complete\n",
      "951.2083740234375\n",
      "spectrometer complete\n",
      "n_frames 50\n"
     ]
    },
    {
     "name": "stderr",
     "output_type": "stream",
     "text": [
      "\n",
      "\n",
      " 45%|████▌     | 9/20 [01:45<02:00, 10.92s/it]\u001B[A\u001B[A"
     ]
    },
    {
     "name": "stdout",
     "output_type": "stream",
     "text": [
      "Max pixel:  86.66\n",
      "951.2083740234375\n",
      "camera complete\n",
      "PCA: 9.0\n",
      "powermeter complete\n",
      "951.1298828125\n",
      "spectrometer complete\n",
      "n_frames 50\n"
     ]
    },
    {
     "name": "stderr",
     "output_type": "stream",
     "text": [
      "\n",
      "\n",
      " 50%|█████     | 10/20 [01:55<01:47, 10.76s/it]\u001B[A\u001B[A"
     ]
    },
    {
     "name": "stdout",
     "output_type": "stream",
     "text": [
      "Max pixel:  210.4\n",
      "951.1298828125\n",
      "camera complete\n",
      "PCA: 9.0\n",
      "powermeter complete\n",
      "951.0513305664062\n",
      "spectrometer complete\n",
      "n_frames 50\n"
     ]
    },
    {
     "name": "stderr",
     "output_type": "stream",
     "text": [
      "\n",
      "\n",
      " 55%|█████▌    | 11/20 [02:06<01:35, 10.66s/it]\u001B[A\u001B[A"
     ]
    },
    {
     "name": "stdout",
     "output_type": "stream",
     "text": [
      "Max pixel:  75.48\n",
      "951.0513305664062\n",
      "camera complete\n",
      "PCA: 9.0\n",
      "powermeter complete\n",
      "950.73681640625\n",
      "spectrometer complete\n",
      "n_frames 50\n"
     ]
    },
    {
     "name": "stderr",
     "output_type": "stream",
     "text": [
      "\n",
      "\n",
      " 60%|██████    | 12/20 [02:16<01:24, 10.57s/it]\u001B[A\u001B[A"
     ]
    },
    {
     "name": "stdout",
     "output_type": "stream",
     "text": [
      "Max pixel:  107.74\n",
      "950.73681640625\n",
      "camera complete\n",
      "PCA: 9.0\n",
      "powermeter complete\n",
      "950.9727172851562\n",
      "spectrometer complete\n",
      "n_frames 50\n"
     ]
    },
    {
     "name": "stderr",
     "output_type": "stream",
     "text": [
      "\n",
      "\n",
      " 65%|██████▌   | 13/20 [02:26<01:13, 10.53s/it]\u001B[A\u001B[A"
     ]
    },
    {
     "name": "stdout",
     "output_type": "stream",
     "text": [
      "Max pixel:  235.02\n",
      "950.9727172851562\n",
      "camera complete\n",
      "PCA: 9.0\n",
      "powermeter complete\n",
      "950.8941040039062\n",
      "spectrometer complete\n",
      "n_frames 50\n"
     ]
    },
    {
     "name": "stderr",
     "output_type": "stream",
     "text": [
      "\n",
      "\n",
      " 70%|███████   | 14/20 [02:37<01:02, 10.48s/it]\u001B[A\u001B[A"
     ]
    },
    {
     "name": "stdout",
     "output_type": "stream",
     "text": [
      "Max pixel:  53.02\n",
      "950.8941040039062\n",
      "camera complete\n",
      "PCA: 9.0\n",
      "powermeter complete\n",
      "950.6580810546875\n",
      "spectrometer complete\n",
      "n_frames 50\n"
     ]
    },
    {
     "name": "stderr",
     "output_type": "stream",
     "text": [
      "\n",
      "\n",
      " 75%|███████▌  | 15/20 [02:47<00:52, 10.43s/it]\u001B[A\u001B[A"
     ]
    },
    {
     "name": "stdout",
     "output_type": "stream",
     "text": [
      "Max pixel:  56.26\n",
      "950.6580810546875\n",
      "camera complete\n",
      "PCA: 9.0\n",
      "powermeter complete\n",
      "950.6580810546875\n",
      "spectrometer complete\n",
      "n_frames 50\n"
     ]
    },
    {
     "name": "stderr",
     "output_type": "stream",
     "text": [
      "\n",
      "\n",
      " 80%|████████  | 16/20 [02:58<00:41, 10.43s/it]\u001B[A\u001B[A"
     ]
    },
    {
     "name": "stdout",
     "output_type": "stream",
     "text": [
      "Max pixel:  97.4\n",
      "950.6580810546875\n",
      "camera complete\n",
      "PCA: 9.0\n",
      "powermeter complete\n",
      "950.5794067382812\n",
      "spectrometer complete\n",
      "n_frames 50\n"
     ]
    },
    {
     "name": "stderr",
     "output_type": "stream",
     "text": [
      "\n",
      "\n",
      " 85%|████████▌ | 17/20 [03:08<00:31, 10.52s/it]\u001B[A\u001B[A"
     ]
    },
    {
     "name": "stdout",
     "output_type": "stream",
     "text": [
      "Max pixel:  100.32\n",
      "950.5794067382812\n",
      "camera complete\n",
      "PCA: 9.0\n",
      "powermeter complete\n",
      "950.8154296875\n",
      "spectrometer complete\n",
      "n_frames 50\n"
     ]
    },
    {
     "name": "stderr",
     "output_type": "stream",
     "text": [
      "\n",
      "\n",
      " 90%|█████████ | 18/20 [03:19<00:21, 10.51s/it]\u001B[A\u001B[A"
     ]
    },
    {
     "name": "stdout",
     "output_type": "stream",
     "text": [
      "Max pixel:  175.74\n",
      "950.8154296875\n",
      "camera complete\n",
      "PCA: 9.0\n",
      "powermeter complete\n",
      "950.6580810546875\n",
      "spectrometer complete\n",
      "n_frames 50\n"
     ]
    },
    {
     "name": "stderr",
     "output_type": "stream",
     "text": [
      "\n",
      "\n",
      " 95%|█████████▌| 19/20 [03:29<00:10, 10.56s/it]\u001B[A\u001B[A"
     ]
    },
    {
     "name": "stdout",
     "output_type": "stream",
     "text": [
      "Max pixel:  164.5\n",
      "950.6580810546875\n",
      "camera complete\n",
      "PCA: 9.0\n",
      "powermeter complete\n",
      "950.6580810546875\n",
      "spectrometer complete\n",
      "n_frames 50\n"
     ]
    },
    {
     "name": "stderr",
     "output_type": "stream",
     "text": [
      "\n",
      "\n",
      "100%|██████████| 20/20 [03:40<00:00, 11.03s/it]\u001B[A\u001B[A\n",
      "\n",
      " 10%|█         | 1/10 [03:40<33:06, 220.71s/it]\u001B[A"
     ]
    },
    {
     "name": "stdout",
     "output_type": "stream",
     "text": [
      "Max pixel:  104.96\n",
      "950.6580810546875\n",
      "camera complete\n",
      "20240820_084613 20240820_084943\n",
      "7.222222222222222\n",
      "41231\n"
     ]
    },
    {
     "name": "stderr",
     "output_type": "stream",
     "text": [
      "\n",
      "\n",
      "  0%|          | 0/20 [00:00<?, ?it/s]\u001B[A\u001B[A"
     ]
    },
    {
     "name": "stdout",
     "output_type": "stream",
     "text": [
      "PCA: 7.222222222222222\n",
      "powermeter complete\n",
      "952.0706176757812\n",
      "spectrometer complete\n",
      "n_frames 2\n",
      "Max pixel:  195.0\n",
      "952.0706176757812\n",
      "camera complete\n"
     ]
    },
    {
     "name": "stderr",
     "output_type": "stream",
     "text": [
      "\n",
      "\n",
      "  5%|▌         | 1/20 [00:11<03:43, 11.77s/it]\u001B[A\u001B[A"
     ]
    },
    {
     "name": "stdout",
     "output_type": "stream",
     "text": [
      "PCA: 7.222222222222222\n",
      "powermeter complete\n",
      "952.1488647460938\n",
      "spectrometer complete\n",
      "n_frames 50\n"
     ]
    },
    {
     "name": "stderr",
     "output_type": "stream",
     "text": [
      "\n",
      "\n",
      " 10%|█         | 2/20 [00:23<03:30, 11.68s/it]\u001B[A\u001B[A"
     ]
    },
    {
     "name": "stdout",
     "output_type": "stream",
     "text": [
      "Max pixel:  6.08\n",
      "952.1488647460938\n",
      "camera complete\n",
      "PCA: 7.222222222222222\n",
      "powermeter complete\n",
      "951.992431640625\n",
      "spectrometer complete\n",
      "n_frames 16\n"
     ]
    },
    {
     "name": "stderr",
     "output_type": "stream",
     "text": [
      "\n",
      "\n",
      " 15%|█▌        | 3/20 [00:33<03:07, 11.02s/it]\u001B[A\u001B[A"
     ]
    },
    {
     "name": "stdout",
     "output_type": "stream",
     "text": [
      "Max pixel:  178.3125\n",
      "951.992431640625\n",
      "camera complete\n",
      "PCA: 7.222222222222222\n",
      "powermeter complete\n",
      "951.992431640625\n",
      "spectrometer complete\n",
      "n_frames 50\n"
     ]
    },
    {
     "name": "stderr",
     "output_type": "stream",
     "text": [
      "\n",
      "\n",
      " 20%|██        | 4/20 [00:52<03:48, 14.28s/it]\u001B[A\u001B[A"
     ]
    },
    {
     "name": "stdout",
     "output_type": "stream",
     "text": [
      "Max pixel:  191.4\n",
      "951.992431640625\n",
      "camera complete\n",
      "PCA: 7.222222222222222\n",
      "powermeter complete\n",
      "952.0706176757812\n",
      "spectrometer complete\n",
      "n_frames 50\n"
     ]
    },
    {
     "name": "stderr",
     "output_type": "stream",
     "text": [
      "\n",
      "\n",
      " 25%|██▌       | 5/20 [01:03<03:13, 12.91s/it]\u001B[A\u001B[A"
     ]
    },
    {
     "name": "stdout",
     "output_type": "stream",
     "text": [
      "Max pixel:  165.78\n",
      "952.0706176757812\n",
      "camera complete\n",
      "PCA: 7.222222222222222\n",
      "powermeter complete\n",
      "951.8357543945312\n",
      "spectrometer complete\n",
      "n_frames 50\n"
     ]
    },
    {
     "name": "stderr",
     "output_type": "stream",
     "text": [
      "\n",
      "\n",
      " 30%|███       | 6/20 [01:13<02:48, 12.05s/it]\u001B[A\u001B[A"
     ]
    },
    {
     "name": "stdout",
     "output_type": "stream",
     "text": [
      "Max pixel:  82.3\n",
      "951.8357543945312\n",
      "camera complete\n",
      "PCA: 7.222222222222222\n",
      "powermeter complete\n",
      "951.8357543945312\n",
      "spectrometer complete\n",
      "n_frames 50\n"
     ]
    },
    {
     "name": "stderr",
     "output_type": "stream",
     "text": [
      "\n",
      "\n",
      " 35%|███▌      | 7/20 [01:24<02:29, 11.52s/it]\u001B[A\u001B[A"
     ]
    },
    {
     "name": "stdout",
     "output_type": "stream",
     "text": [
      "Max pixel:  57.86\n",
      "951.8357543945312\n",
      "camera complete\n",
      "PCA: 7.222222222222222\n",
      "powermeter complete\n",
      "951.6791381835938\n",
      "spectrometer complete\n",
      "n_frames 50\n"
     ]
    },
    {
     "name": "stderr",
     "output_type": "stream",
     "text": [
      "\n",
      "\n",
      " 40%|████      | 8/20 [01:34<02:13, 11.15s/it]\u001B[A\u001B[A"
     ]
    },
    {
     "name": "stdout",
     "output_type": "stream",
     "text": [
      "Max pixel:  129.68\n",
      "951.6791381835938\n",
      "camera complete\n",
      "PCA: 7.222222222222222\n",
      "powermeter complete\n",
      "951.6007080078125\n",
      "spectrometer complete\n",
      "n_frames 50\n"
     ]
    },
    {
     "name": "stderr",
     "output_type": "stream",
     "text": [
      "\n",
      "\n",
      " 45%|████▌     | 9/20 [01:45<02:00, 10.93s/it]\u001B[A\u001B[A"
     ]
    },
    {
     "name": "stdout",
     "output_type": "stream",
     "text": [
      "Max pixel:  131.98\n",
      "951.6007080078125\n",
      "camera complete\n",
      "PCA: 7.222222222222222\n",
      "powermeter complete\n",
      "951.6791381835938\n",
      "spectrometer complete\n",
      "n_frames 50\n"
     ]
    },
    {
     "name": "stderr",
     "output_type": "stream",
     "text": [
      "\n",
      "\n",
      " 50%|█████     | 10/20 [01:55<01:47, 10.77s/it]\u001B[A\u001B[A"
     ]
    },
    {
     "name": "stdout",
     "output_type": "stream",
     "text": [
      "Max pixel:  80.58\n",
      "951.6791381835938\n",
      "camera complete\n",
      "PCA: 7.222222222222222\n",
      "powermeter complete\n",
      "951.6791381835938\n",
      "spectrometer complete\n",
      "n_frames 50\n"
     ]
    },
    {
     "name": "stderr",
     "output_type": "stream",
     "text": [
      "\n",
      "\n",
      " 55%|█████▌    | 11/20 [02:05<01:36, 10.67s/it]\u001B[A\u001B[A"
     ]
    },
    {
     "name": "stdout",
     "output_type": "stream",
     "text": [
      "Max pixel:  218.78\n",
      "951.6791381835938\n",
      "camera complete\n",
      "PCA: 7.222222222222222\n",
      "powermeter complete\n",
      "951.5222778320312\n",
      "spectrometer complete\n",
      "n_frames 50\n"
     ]
    },
    {
     "name": "stderr",
     "output_type": "stream",
     "text": [
      "\n",
      "\n",
      " 60%|██████    | 12/20 [02:16<01:24, 10.59s/it]\u001B[A\u001B[A"
     ]
    },
    {
     "name": "stdout",
     "output_type": "stream",
     "text": [
      "Max pixel:  84.82\n",
      "951.5222778320312\n",
      "camera complete\n",
      "PCA: 7.222222222222222\n",
      "powermeter complete\n",
      "951.286865234375\n",
      "spectrometer complete\n",
      "n_frames 50\n"
     ]
    },
    {
     "name": "stderr",
     "output_type": "stream",
     "text": [
      "\n",
      "\n",
      " 65%|██████▌   | 13/20 [02:26<01:13, 10.54s/it]\u001B[A\u001B[A"
     ]
    },
    {
     "name": "stdout",
     "output_type": "stream",
     "text": [
      "Max pixel:  209.32\n",
      "951.286865234375\n",
      "camera complete\n",
      "PCA: 7.222222222222222\n",
      "powermeter complete\n",
      "951.0513305664062\n",
      "spectrometer complete\n",
      "n_frames 50\n"
     ]
    },
    {
     "name": "stderr",
     "output_type": "stream",
     "text": [
      "\n",
      "\n",
      " 70%|███████   | 14/20 [02:36<01:02, 10.45s/it]\u001B[A\u001B[A"
     ]
    },
    {
     "name": "stdout",
     "output_type": "stream",
     "text": [
      "Max pixel:  153.56\n",
      "951.0513305664062\n",
      "camera complete\n",
      "PCA: 7.222222222222222\n",
      "powermeter complete\n",
      "951.2083740234375\n",
      "spectrometer complete\n",
      "n_frames 50\n"
     ]
    },
    {
     "name": "stderr",
     "output_type": "stream",
     "text": [
      "\n",
      "\n",
      " 75%|███████▌  | 15/20 [02:47<00:52, 10.46s/it]\u001B[A\u001B[A"
     ]
    },
    {
     "name": "stdout",
     "output_type": "stream",
     "text": [
      "Max pixel:  243.8\n",
      "951.2083740234375\n",
      "camera complete\n",
      "PCA: 7.222222222222222\n",
      "powermeter complete\n",
      "951.1298828125\n",
      "spectrometer complete\n",
      "n_frames 50\n"
     ]
    },
    {
     "name": "stderr",
     "output_type": "stream",
     "text": [
      "\n",
      "\n",
      " 80%|████████  | 16/20 [02:57<00:41, 10.42s/it]\u001B[A\u001B[A"
     ]
    },
    {
     "name": "stdout",
     "output_type": "stream",
     "text": [
      "Max pixel:  104.34\n",
      "951.1298828125\n",
      "camera complete\n",
      "PCA: 7.222222222222222\n",
      "powermeter complete\n",
      "951.2083740234375\n",
      "spectrometer complete\n",
      "n_frames 50\n"
     ]
    },
    {
     "name": "stderr",
     "output_type": "stream",
     "text": [
      "\n",
      "\n",
      " 85%|████████▌ | 17/20 [03:08<00:31, 10.43s/it]\u001B[A\u001B[A"
     ]
    },
    {
     "name": "stdout",
     "output_type": "stream",
     "text": [
      "Max pixel:  159.66\n",
      "951.2083740234375\n",
      "camera complete\n",
      "PCA: 7.222222222222222\n",
      "powermeter complete\n",
      "951.1298828125\n",
      "spectrometer complete\n",
      "n_frames 50\n"
     ]
    },
    {
     "name": "stderr",
     "output_type": "stream",
     "text": [
      "\n",
      "\n",
      " 90%|█████████ | 18/20 [03:18<00:20, 10.41s/it]\u001B[A\u001B[A"
     ]
    },
    {
     "name": "stdout",
     "output_type": "stream",
     "text": [
      "Max pixel:  165.26\n",
      "951.1298828125\n",
      "camera complete\n",
      "PCA: 7.222222222222222\n",
      "powermeter complete\n",
      "951.44384765625\n",
      "spectrometer complete\n",
      "n_frames 50\n"
     ]
    },
    {
     "name": "stderr",
     "output_type": "stream",
     "text": [
      "\n",
      "\n",
      " 95%|█████████▌| 19/20 [03:29<00:10, 10.44s/it]\u001B[A\u001B[A"
     ]
    },
    {
     "name": "stdout",
     "output_type": "stream",
     "text": [
      "Max pixel:  145.7\n",
      "951.44384765625\n",
      "camera complete\n",
      "PCA: 7.222222222222222\n",
      "powermeter complete\n",
      "951.3654174804688\n",
      "spectrometer complete\n",
      "n_frames 50\n"
     ]
    },
    {
     "name": "stderr",
     "output_type": "stream",
     "text": [
      "\n",
      "\n",
      "100%|██████████| 20/20 [03:39<00:00, 10.97s/it]\u001B[A\u001B[A\n",
      "\n",
      " 20%|██        | 2/10 [07:20<29:20, 220.06s/it]\u001B[A"
     ]
    },
    {
     "name": "stdout",
     "output_type": "stream",
     "text": [
      "Max pixel:  236.68\n",
      "951.3654174804688\n",
      "camera complete\n",
      "20240820_084954 20240820_085323\n",
      "5.444444444444445\n",
      "41231\n"
     ]
    },
    {
     "name": "stderr",
     "output_type": "stream",
     "text": [
      "\n",
      "\n",
      "  0%|          | 0/20 [00:00<?, ?it/s]\u001B[A\u001B[A"
     ]
    },
    {
     "name": "stdout",
     "output_type": "stream",
     "text": [
      "PCA: 5.444444444444445\n",
      "powermeter complete\n",
      "953.4752197265625\n",
      "spectrometer complete\n",
      "n_frames 2\n",
      "Max pixel:  197.5\n",
      "953.4752197265625\n",
      "camera complete\n"
     ]
    },
    {
     "name": "stderr",
     "output_type": "stream",
     "text": [
      "\n",
      "\n",
      "  5%|▌         | 1/20 [00:11<03:41, 11.64s/it]\u001B[A\u001B[A"
     ]
    },
    {
     "name": "stdout",
     "output_type": "stream",
     "text": [
      "PCA: 5.444444444444445\n",
      "powermeter complete\n",
      "953.0858764648438\n",
      "spectrometer complete\n",
      "n_frames 50\n"
     ]
    },
    {
     "name": "stderr",
     "output_type": "stream",
     "text": [
      "\n",
      "\n",
      " 10%|█         | 2/20 [00:23<03:29, 11.61s/it]\u001B[A\u001B[A"
     ]
    },
    {
     "name": "stdout",
     "output_type": "stream",
     "text": [
      "Max pixel:  6.08\n",
      "953.0858764648438\n",
      "camera complete\n",
      "PCA: 5.444444444444445\n",
      "powermeter complete\n",
      "953.3973999023438\n",
      "spectrometer complete\n",
      "n_frames 8\n"
     ]
    },
    {
     "name": "stderr",
     "output_type": "stream",
     "text": [
      "\n",
      "\n"
     ]
    },
    {
     "name": "stdout",
     "output_type": "stream",
     "text": [
      "Max pixel:  155.875\n",
      "953.3973999023438\n",
      "camera complete\n"
     ]
    },
    {
     "name": "stderr",
     "output_type": "stream",
     "text": [
      " 15%|█▌        | 3/20 [00:34<03:15, 11.52s/it]\u001B[A\u001B[A"
     ]
    },
    {
     "name": "stdout",
     "output_type": "stream",
     "text": [
      "PCA: 5.444444444444445\n",
      "powermeter complete\n",
      "953.2416381835938\n",
      "spectrometer complete\n",
      "n_frames 50\n"
     ]
    },
    {
     "name": "stderr",
     "output_type": "stream",
     "text": [
      "\n",
      "\n",
      " 20%|██        | 4/20 [00:45<02:58, 11.14s/it]\u001B[A\u001B[A"
     ]
    },
    {
     "name": "stdout",
     "output_type": "stream",
     "text": [
      "Max pixel:  75.5\n",
      "953.2416381835938\n",
      "camera complete\n",
      "PCA: 5.444444444444445\n",
      "powermeter complete\n",
      "953.2416381835938\n",
      "spectrometer complete\n",
      "n_frames 50\n"
     ]
    },
    {
     "name": "stderr",
     "output_type": "stream",
     "text": [
      "\n",
      "\n",
      " 25%|██▌       | 5/20 [01:04<03:30, 14.06s/it]\u001B[A\u001B[A"
     ]
    },
    {
     "name": "stdout",
     "output_type": "stream",
     "text": [
      "Max pixel:  164.94\n",
      "953.2416381835938\n",
      "camera complete\n",
      "PCA: 5.444444444444445\n",
      "powermeter complete\n",
      "953.2416381835938\n",
      "spectrometer complete\n",
      "n_frames 50\n"
     ]
    },
    {
     "name": "stderr",
     "output_type": "stream",
     "text": [
      "\n",
      "\n",
      " 30%|███       | 6/20 [01:14<02:59, 12.79s/it]\u001B[A\u001B[A"
     ]
    },
    {
     "name": "stdout",
     "output_type": "stream",
     "text": [
      "Max pixel:  68.68\n",
      "953.2416381835938\n",
      "camera complete\n",
      "PCA: 5.444444444444445\n",
      "powermeter complete\n",
      "953.0858764648438\n",
      "spectrometer complete\n",
      "n_frames 50\n"
     ]
    },
    {
     "name": "stderr",
     "output_type": "stream",
     "text": [
      "\n",
      "\n",
      " 35%|███▌      | 7/20 [01:25<02:35, 11.99s/it]\u001B[A\u001B[A"
     ]
    },
    {
     "name": "stdout",
     "output_type": "stream",
     "text": [
      "Max pixel:  73.8\n",
      "953.0858764648438\n",
      "camera complete\n",
      "PCA: 5.444444444444445\n",
      "powermeter complete\n",
      "952.77392578125\n",
      "spectrometer complete\n",
      "n_frames 50\n"
     ]
    },
    {
     "name": "stderr",
     "output_type": "stream",
     "text": [
      "\n",
      "\n",
      " 40%|████      | 8/20 [01:35<02:17, 11.49s/it]\u001B[A\u001B[A"
     ]
    },
    {
     "name": "stdout",
     "output_type": "stream",
     "text": [
      "Max pixel:  105.14\n",
      "952.77392578125\n",
      "camera complete\n",
      "PCA: 5.444444444444445\n",
      "powermeter complete\n",
      "952.77392578125\n",
      "spectrometer complete\n",
      "n_frames 50\n"
     ]
    },
    {
     "name": "stderr",
     "output_type": "stream",
     "text": [
      "\n",
      "\n",
      " 45%|████▌     | 9/20 [01:45<02:02, 11.15s/it]\u001B[A\u001B[A"
     ]
    },
    {
     "name": "stdout",
     "output_type": "stream",
     "text": [
      "Max pixel:  120.68\n",
      "952.77392578125\n",
      "camera complete\n",
      "PCA: 5.444444444444445\n",
      "powermeter complete\n",
      "952.77392578125\n",
      "spectrometer complete\n",
      "n_frames 50\n"
     ]
    },
    {
     "name": "stderr",
     "output_type": "stream",
     "text": [
      "\n",
      "\n",
      " 50%|█████     | 10/20 [01:56<01:48, 10.89s/it]\u001B[A\u001B[A"
     ]
    },
    {
     "name": "stdout",
     "output_type": "stream",
     "text": [
      "Max pixel:  74.3\n",
      "952.77392578125\n",
      "camera complete\n",
      "PCA: 5.444444444444445\n",
      "powermeter complete\n",
      "952.6178588867188\n",
      "spectrometer complete\n",
      "n_frames 50\n"
     ]
    },
    {
     "name": "stderr",
     "output_type": "stream",
     "text": [
      "\n",
      "\n",
      " 55%|█████▌    | 11/20 [02:06<01:36, 10.73s/it]\u001B[A\u001B[A"
     ]
    },
    {
     "name": "stdout",
     "output_type": "stream",
     "text": [
      "Max pixel:  116.24\n",
      "952.6178588867188\n",
      "camera complete\n",
      "PCA: 5.444444444444445\n",
      "powermeter complete\n",
      "952.6959228515625\n",
      "spectrometer complete\n",
      "n_frames 50\n"
     ]
    },
    {
     "name": "stderr",
     "output_type": "stream",
     "text": [
      "\n",
      "\n",
      " 60%|██████    | 12/20 [02:17<01:25, 10.63s/it]\u001B[A\u001B[A"
     ]
    },
    {
     "name": "stdout",
     "output_type": "stream",
     "text": [
      "Max pixel:  206.06\n",
      "952.6959228515625\n",
      "camera complete\n",
      "PCA: 5.444444444444445\n",
      "powermeter complete\n",
      "952.6959228515625\n",
      "spectrometer complete\n",
      "n_frames 50\n"
     ]
    },
    {
     "name": "stderr",
     "output_type": "stream",
     "text": [
      "\n",
      "\n",
      " 65%|██████▌   | 13/20 [02:27<01:13, 10.55s/it]\u001B[A\u001B[A"
     ]
    },
    {
     "name": "stdout",
     "output_type": "stream",
     "text": [
      "Max pixel:  123.08\n",
      "952.6959228515625\n",
      "camera complete\n",
      "PCA: 5.444444444444445\n",
      "powermeter complete\n",
      "952.77392578125\n",
      "spectrometer complete\n",
      "n_frames 50\n"
     ]
    },
    {
     "name": "stderr",
     "output_type": "stream",
     "text": [
      "\n",
      "\n",
      " 70%|███████   | 14/20 [02:37<01:03, 10.51s/it]\u001B[A\u001B[A"
     ]
    },
    {
     "name": "stdout",
     "output_type": "stream",
     "text": [
      "Max pixel:  76.5\n",
      "952.77392578125\n",
      "camera complete\n",
      "PCA: 5.444444444444445\n",
      "powermeter complete\n",
      "952.6959228515625\n",
      "spectrometer complete\n",
      "n_frames 50\n"
     ]
    },
    {
     "name": "stderr",
     "output_type": "stream",
     "text": [
      "\n",
      "\n",
      " 75%|███████▌  | 15/20 [02:48<00:52, 10.48s/it]\u001B[A\u001B[A"
     ]
    },
    {
     "name": "stdout",
     "output_type": "stream",
     "text": [
      "Max pixel:  228.74\n",
      "952.6959228515625\n",
      "camera complete\n",
      "PCA: 5.444444444444445\n",
      "powermeter complete\n",
      "952.5397338867188\n",
      "spectrometer complete\n",
      "n_frames 50\n"
     ]
    },
    {
     "name": "stderr",
     "output_type": "stream",
     "text": [
      "\n",
      "\n",
      " 80%|████████  | 16/20 [02:58<00:41, 10.47s/it]\u001B[A\u001B[A"
     ]
    },
    {
     "name": "stdout",
     "output_type": "stream",
     "text": [
      "Max pixel:  148.4\n",
      "952.5397338867188\n",
      "camera complete\n",
      "PCA: 5.444444444444445\n",
      "powermeter complete\n",
      "952.5397338867188\n",
      "spectrometer complete\n",
      "n_frames 50\n"
     ]
    },
    {
     "name": "stderr",
     "output_type": "stream",
     "text": [
      "\n",
      "\n",
      " 85%|████████▌ | 17/20 [03:09<00:31, 10.45s/it]\u001B[A\u001B[A"
     ]
    },
    {
     "name": "stdout",
     "output_type": "stream",
     "text": [
      "Max pixel:  216.86\n",
      "952.5397338867188\n",
      "camera complete\n",
      "PCA: 5.444444444444445\n",
      "powermeter complete\n",
      "952.3053588867188\n",
      "spectrometer complete\n",
      "n_frames 50\n"
     ]
    },
    {
     "name": "stderr",
     "output_type": "stream",
     "text": [
      "\n",
      "\n",
      " 90%|█████████ | 18/20 [03:19<00:20, 10.45s/it]\u001B[A\u001B[A"
     ]
    },
    {
     "name": "stdout",
     "output_type": "stream",
     "text": [
      "Max pixel:  147.54\n",
      "952.3053588867188\n",
      "camera complete\n",
      "PCA: 5.444444444444445\n",
      "powermeter complete\n",
      "952.4616088867188\n",
      "spectrometer complete\n",
      "n_frames 50\n"
     ]
    },
    {
     "name": "stderr",
     "output_type": "stream",
     "text": [
      "\n",
      "\n",
      " 95%|█████████▌| 19/20 [03:29<00:10, 10.44s/it]\u001B[A\u001B[A"
     ]
    },
    {
     "name": "stdout",
     "output_type": "stream",
     "text": [
      "Max pixel:  133.78\n",
      "952.4616088867188\n",
      "camera complete\n",
      "PCA: 5.444444444444445\n",
      "powermeter complete\n",
      "952.3053588867188\n",
      "spectrometer complete\n",
      "n_frames 50\n"
     ]
    },
    {
     "name": "stderr",
     "output_type": "stream",
     "text": [
      "\n",
      "\n",
      "100%|██████████| 20/20 [03:40<00:00, 11.03s/it]\u001B[A\u001B[A\n",
      "\n",
      " 30%|███       | 3/10 [11:01<25:42, 220.40s/it]\u001B[A"
     ]
    },
    {
     "name": "stdout",
     "output_type": "stream",
     "text": [
      "Max pixel:  160.68\n",
      "952.3053588867188\n",
      "camera complete\n",
      "20240820_085333 20240820_085703\n",
      "3.666666666666667\n",
      "41231\n"
     ]
    },
    {
     "name": "stderr",
     "output_type": "stream",
     "text": [
      "\n",
      "\n",
      "  0%|          | 0/20 [00:00<?, ?it/s]\u001B[A\u001B[A"
     ]
    },
    {
     "name": "stdout",
     "output_type": "stream",
     "text": [
      "PCA: 3.666666666666667\n",
      "powermeter complete\n",
      "931.0665283203125\n",
      "spectrometer complete\n",
      "n_frames 2\n",
      "Max pixel:  198.0\n",
      "931.0665283203125\n",
      "camera complete\n"
     ]
    },
    {
     "name": "stderr",
     "output_type": "stream",
     "text": [
      "\n",
      "\n",
      "  5%|▌         | 1/20 [00:11<03:41, 11.67s/it]\u001B[A\u001B[A"
     ]
    },
    {
     "name": "stdout",
     "output_type": "stream",
     "text": [
      "PCA: 3.666666666666667\n",
      "powermeter complete\n",
      "954.406982421875\n",
      "spectrometer complete\n",
      "n_frames 50\n"
     ]
    },
    {
     "name": "stderr",
     "output_type": "stream",
     "text": [
      "\n",
      "\n",
      " 10%|█         | 2/20 [00:23<03:29, 11.61s/it]\u001B[A\u001B[A"
     ]
    },
    {
     "name": "stdout",
     "output_type": "stream",
     "text": [
      "Max pixel:  11.16\n",
      "954.406982421875\n",
      "camera complete\n",
      "PCA: 3.666666666666667\n",
      "powermeter complete\n",
      "954.0968627929688\n",
      "spectrometer complete\n",
      "n_frames 16\n"
     ]
    },
    {
     "name": "stderr",
     "output_type": "stream",
     "text": [
      "\n",
      "\n",
      " 15%|█▌        | 3/20 [00:34<03:15, 11.50s/it]\u001B[A\u001B[A"
     ]
    },
    {
     "name": "stdout",
     "output_type": "stream",
     "text": [
      "Max pixel:  84.1875\n",
      "954.0968627929688\n",
      "camera complete\n",
      "PCA: 3.666666666666667\n",
      "powermeter complete\n",
      "954.2520141601562\n",
      "spectrometer complete\n",
      "n_frames 16\n"
     ]
    },
    {
     "name": "stderr",
     "output_type": "stream",
     "text": [
      "\n",
      "\n",
      " 20%|██        | 4/20 [00:46<03:03, 11.49s/it]\u001B[A\u001B[A"
     ]
    },
    {
     "name": "stdout",
     "output_type": "stream",
     "text": [
      "Max pixel:  120.0625\n",
      "954.2520141601562\n",
      "camera complete\n",
      "PCA: 3.666666666666667\n",
      "powermeter complete\n",
      "954.2520141601562\n",
      "spectrometer complete\n",
      "n_frames 50\n"
     ]
    },
    {
     "name": "stderr",
     "output_type": "stream",
     "text": [
      "\n",
      "\n",
      " 25%|██▌       | 5/20 [00:57<02:50, 11.35s/it]\u001B[A\u001B[A"
     ]
    },
    {
     "name": "stdout",
     "output_type": "stream",
     "text": [
      "Max pixel:  160.2\n",
      "954.2520141601562\n",
      "camera complete\n",
      "PCA: 3.666666666666667\n",
      "powermeter complete\n",
      "954.1744384765625\n",
      "spectrometer complete\n",
      "n_frames 50\n"
     ]
    },
    {
     "name": "stderr",
     "output_type": "stream",
     "text": [
      "\n",
      "\n",
      " 30%|███       | 6/20 [01:16<03:16, 14.02s/it]\u001B[A\u001B[A"
     ]
    },
    {
     "name": "stdout",
     "output_type": "stream",
     "text": [
      "Max pixel:  152.22\n",
      "954.1744384765625\n",
      "camera complete\n",
      "PCA: 3.666666666666667\n",
      "powermeter complete\n",
      "954.1744384765625\n",
      "spectrometer complete\n",
      "n_frames 50\n"
     ]
    },
    {
     "name": "stderr",
     "output_type": "stream",
     "text": [
      "\n",
      "\n",
      " 35%|███▌      | 7/20 [01:26<02:46, 12.82s/it]\u001B[A\u001B[A"
     ]
    },
    {
     "name": "stdout",
     "output_type": "stream",
     "text": [
      "Max pixel:  74.04\n",
      "954.1744384765625\n",
      "camera complete\n",
      "PCA: 3.666666666666667\n",
      "powermeter complete\n",
      "953.9415893554688\n",
      "spectrometer complete\n",
      "n_frames 50\n"
     ]
    },
    {
     "name": "stderr",
     "output_type": "stream",
     "text": [
      "\n",
      "\n",
      " 40%|████      | 8/20 [01:37<02:24, 12.04s/it]\u001B[A\u001B[A"
     ]
    },
    {
     "name": "stdout",
     "output_type": "stream",
     "text": [
      "Max pixel:  85.18\n",
      "953.9415893554688\n",
      "camera complete\n",
      "PCA: 3.666666666666667\n",
      "powermeter complete\n",
      "953.8639526367188\n",
      "spectrometer complete\n",
      "n_frames 50\n"
     ]
    },
    {
     "name": "stderr",
     "output_type": "stream",
     "text": [
      "\n",
      "\n",
      " 45%|████▌     | 9/20 [01:47<02:07, 11.56s/it]\u001B[A\u001B[A"
     ]
    },
    {
     "name": "stdout",
     "output_type": "stream",
     "text": [
      "Max pixel:  198.96\n",
      "953.8639526367188\n",
      "camera complete\n",
      "PCA: 3.666666666666667\n",
      "powermeter complete\n",
      "953.9415893554688\n",
      "spectrometer complete\n",
      "n_frames 50\n"
     ]
    },
    {
     "name": "stderr",
     "output_type": "stream",
     "text": [
      "\n",
      "\n",
      " 50%|█████     | 10/20 [01:57<01:51, 11.19s/it]\u001B[A\u001B[A"
     ]
    },
    {
     "name": "stdout",
     "output_type": "stream",
     "text": [
      "Max pixel:  166.94\n",
      "953.9415893554688\n",
      "camera complete\n",
      "PCA: 3.666666666666667\n",
      "powermeter complete\n",
      "953.8639526367188\n",
      "spectrometer complete\n",
      "n_frames 50\n"
     ]
    },
    {
     "name": "stderr",
     "output_type": "stream",
     "text": [
      "\n",
      "\n",
      " 55%|█████▌    | 11/20 [02:08<01:38, 10.95s/it]\u001B[A\u001B[A"
     ]
    },
    {
     "name": "stdout",
     "output_type": "stream",
     "text": [
      "Max pixel:  84.56\n",
      "953.8639526367188\n",
      "camera complete\n",
      "PCA: 3.666666666666667\n",
      "powermeter complete\n",
      "953.8639526367188\n",
      "spectrometer complete\n",
      "n_frames 50\n"
     ]
    },
    {
     "name": "stderr",
     "output_type": "stream",
     "text": [
      "\n",
      "\n",
      " 60%|██████    | 12/20 [02:18<01:26, 10.76s/it]\u001B[A\u001B[A"
     ]
    },
    {
     "name": "stdout",
     "output_type": "stream",
     "text": [
      "Max pixel:  63.18\n",
      "953.8639526367188\n",
      "camera complete\n",
      "PCA: 3.666666666666667\n",
      "powermeter complete\n",
      "953.9415893554688\n",
      "spectrometer complete\n",
      "n_frames 50\n"
     ]
    },
    {
     "name": "stderr",
     "output_type": "stream",
     "text": [
      "\n",
      "\n",
      " 65%|██████▌   | 13/20 [02:29<01:14, 10.66s/it]\u001B[A\u001B[A"
     ]
    },
    {
     "name": "stdout",
     "output_type": "stream",
     "text": [
      "Max pixel:  101.4\n",
      "953.9415893554688\n",
      "camera complete\n",
      "PCA: 3.666666666666667\n",
      "powermeter complete\n",
      "953.7861328125\n",
      "spectrometer complete\n",
      "n_frames 50\n"
     ]
    },
    {
     "name": "stderr",
     "output_type": "stream",
     "text": [
      "\n",
      "\n",
      " 70%|███████   | 14/20 [02:39<01:03, 10.61s/it]\u001B[A\u001B[A"
     ]
    },
    {
     "name": "stdout",
     "output_type": "stream",
     "text": [
      "Max pixel:  252.1\n",
      "953.7861328125\n",
      "camera complete\n",
      "PCA: 3.666666666666667\n",
      "powermeter complete\n",
      "953.7861328125\n",
      "spectrometer complete\n",
      "n_frames 50\n"
     ]
    },
    {
     "name": "stderr",
     "output_type": "stream",
     "text": [
      "\n",
      "\n",
      " 75%|███████▌  | 15/20 [02:50<00:52, 10.56s/it]\u001B[A\u001B[A"
     ]
    },
    {
     "name": "stdout",
     "output_type": "stream",
     "text": [
      "Max pixel:  71.42\n",
      "953.7861328125\n",
      "camera complete\n",
      "PCA: 3.666666666666667\n",
      "powermeter complete\n",
      "953.70849609375\n",
      "spectrometer complete\n",
      "n_frames 50\n"
     ]
    },
    {
     "name": "stderr",
     "output_type": "stream",
     "text": [
      "\n",
      "\n",
      " 80%|████████  | 16/20 [03:00<00:42, 10.51s/it]\u001B[A\u001B[A"
     ]
    },
    {
     "name": "stdout",
     "output_type": "stream",
     "text": [
      "Max pixel:  135.4\n",
      "953.70849609375\n",
      "camera complete\n",
      "PCA: 3.666666666666667\n",
      "powermeter complete\n",
      "953.70849609375\n",
      "spectrometer complete\n",
      "n_frames 50\n"
     ]
    },
    {
     "name": "stderr",
     "output_type": "stream",
     "text": [
      "\n",
      "\n",
      " 85%|████████▌ | 17/20 [03:10<00:31, 10.47s/it]\u001B[A\u001B[A"
     ]
    },
    {
     "name": "stdout",
     "output_type": "stream",
     "text": [
      "Max pixel:  136.04\n",
      "953.70849609375\n",
      "camera complete\n",
      "PCA: 3.666666666666667\n",
      "powermeter complete\n",
      "953.4752197265625\n",
      "spectrometer complete\n",
      "n_frames 50\n"
     ]
    },
    {
     "name": "stderr",
     "output_type": "stream",
     "text": [
      "\n",
      "\n",
      " 90%|█████████ | 18/20 [03:21<00:20, 10.46s/it]\u001B[A\u001B[A"
     ]
    },
    {
     "name": "stdout",
     "output_type": "stream",
     "text": [
      "Max pixel:  139.2\n",
      "953.4752197265625\n",
      "camera complete\n",
      "PCA: 3.666666666666667\n",
      "powermeter complete\n",
      "953.552978515625\n",
      "spectrometer complete\n",
      "n_frames 50\n"
     ]
    },
    {
     "name": "stderr",
     "output_type": "stream",
     "text": [
      "\n",
      "\n",
      " 95%|█████████▌| 19/20 [03:31<00:10, 10.47s/it]\u001B[A\u001B[A"
     ]
    },
    {
     "name": "stdout",
     "output_type": "stream",
     "text": [
      "Max pixel:  112.74\n",
      "953.552978515625\n",
      "camera complete\n",
      "PCA: 3.666666666666667\n",
      "powermeter complete\n",
      "953.552978515625\n",
      "spectrometer complete\n",
      "n_frames 50\n"
     ]
    },
    {
     "name": "stderr",
     "output_type": "stream",
     "text": [
      "\n",
      "\n",
      "100%|██████████| 20/20 [03:42<00:00, 11.11s/it]\u001B[A\u001B[A\n",
      "\n",
      " 40%|████      | 4/10 [14:43<22:07, 221.17s/it]\u001B[A"
     ]
    },
    {
     "name": "stdout",
     "output_type": "stream",
     "text": [
      "Max pixel:  85.18\n",
      "953.552978515625\n",
      "camera complete\n",
      "20240820_085714 20240820_090046\n",
      "1.8888888888888893\n",
      "41231\n"
     ]
    },
    {
     "name": "stderr",
     "output_type": "stream",
     "text": [
      "\n",
      "\n",
      "  0%|          | 0/20 [00:00<?, ?it/s]\u001B[A\u001B[A"
     ]
    },
    {
     "name": "stdout",
     "output_type": "stream",
     "text": [
      "PCA: 1.8888888888888893\n",
      "powermeter complete\n",
      "955.4896850585938\n",
      "spectrometer complete\n",
      "n_frames 2\n",
      "Max pixel:  195.0\n",
      "955.4896850585938\n",
      "camera complete\n"
     ]
    },
    {
     "name": "stderr",
     "output_type": "stream",
     "text": [
      "\n",
      "\n",
      "  5%|▌         | 1/20 [00:11<03:42, 11.73s/it]\u001B[A\u001B[A"
     ]
    },
    {
     "name": "stdout",
     "output_type": "stream",
     "text": [
      "PCA: 1.8888888888888893\n",
      "powermeter complete\n",
      "955.4896850585938\n",
      "spectrometer complete\n",
      "n_frames 50\n"
     ]
    },
    {
     "name": "stderr",
     "output_type": "stream",
     "text": [
      "\n",
      "\n",
      " 10%|█         | 2/20 [00:23<03:29, 11.66s/it]\u001B[A\u001B[A"
     ]
    },
    {
     "name": "stdout",
     "output_type": "stream",
     "text": [
      "Max pixel:  11.16\n",
      "955.4896850585938\n",
      "camera complete\n",
      "PCA: 1.8888888888888893\n",
      "powermeter complete\n",
      "955.3352661132812\n",
      "spectrometer complete\n",
      "n_frames 4\n",
      "Max pixel:  228.5\n",
      "955.3352661132812\n",
      "camera complete\n"
     ]
    },
    {
     "name": "stderr",
     "output_type": "stream",
     "text": [
      "\n",
      "\n",
      " 15%|█▌        | 3/20 [00:34<03:16, 11.58s/it]\u001B[A\u001B[A"
     ]
    },
    {
     "name": "stdout",
     "output_type": "stream",
     "text": [
      "PCA: 1.8888888888888893\n",
      "powermeter complete\n",
      "955.3352661132812\n",
      "spectrometer complete\n",
      "n_frames 50\n"
     ]
    },
    {
     "name": "stderr",
     "output_type": "stream",
     "text": [
      "\n",
      "\n",
      " 20%|██        | 4/20 [00:46<03:03, 11.50s/it]\u001B[A\u001B[A"
     ]
    },
    {
     "name": "stdout",
     "output_type": "stream",
     "text": [
      "Max pixel:  6.08\n",
      "955.3352661132812\n",
      "camera complete\n",
      "PCA: 1.8888888888888893\n",
      "powermeter complete\n",
      "954.8716430664062\n",
      "spectrometer complete\n",
      "n_frames 50\n"
     ]
    },
    {
     "name": "stderr",
     "output_type": "stream",
     "text": [
      "\n",
      "\n",
      " 25%|██▌       | 5/20 [00:56<02:47, 11.14s/it]\u001B[A\u001B[A"
     ]
    },
    {
     "name": "stdout",
     "output_type": "stream",
     "text": [
      "Max pixel:  54.34\n",
      "954.8716430664062\n",
      "camera complete\n",
      "PCA: 1.8888888888888893\n",
      "powermeter complete\n",
      "955.1808471679688\n",
      "spectrometer complete\n",
      "n_frames 50\n"
     ]
    },
    {
     "name": "stderr",
     "output_type": "stream",
     "text": [
      "\n",
      "\n",
      " 30%|███       | 6/20 [01:07<02:35, 11.13s/it]\u001B[A\u001B[A"
     ]
    },
    {
     "name": "stdout",
     "output_type": "stream",
     "text": [
      "Max pixel:  145.06\n",
      "955.1808471679688\n",
      "camera complete\n",
      "PCA: 1.8888888888888893\n",
      "powermeter complete\n",
      "955.0262451171875\n",
      "spectrometer complete\n",
      "n_frames 50\n"
     ]
    },
    {
     "name": "stderr",
     "output_type": "stream",
     "text": [
      "\n",
      "\n",
      " 35%|███▌      | 7/20 [01:18<02:24, 11.10s/it]\u001B[A\u001B[A"
     ]
    },
    {
     "name": "stdout",
     "output_type": "stream",
     "text": [
      "Max pixel:  245.38\n",
      "955.0262451171875\n",
      "camera complete\n",
      "PCA: 1.8888888888888893\n",
      "powermeter complete\n",
      "954.948974609375\n",
      "spectrometer complete\n",
      "n_frames 50\n"
     ]
    },
    {
     "name": "stderr",
     "output_type": "stream",
     "text": [
      "\n",
      "\n",
      " 40%|████      | 8/20 [01:38<02:44, 13.68s/it]\u001B[A\u001B[A"
     ]
    },
    {
     "name": "stdout",
     "output_type": "stream",
     "text": [
      "Max pixel:  205.48\n",
      "954.948974609375\n",
      "camera complete\n",
      "PCA: 1.8888888888888893\n",
      "powermeter complete\n",
      "954.7943115234375\n",
      "spectrometer complete\n",
      "n_frames 50\n"
     ]
    },
    {
     "name": "stderr",
     "output_type": "stream",
     "text": [
      "\n",
      "\n",
      " 45%|████▌     | 9/20 [01:48<02:18, 12.63s/it]\u001B[A\u001B[A"
     ]
    },
    {
     "name": "stdout",
     "output_type": "stream",
     "text": [
      "Max pixel:  81.18\n",
      "954.7943115234375\n",
      "camera complete\n",
      "PCA: 1.8888888888888893\n",
      "powermeter complete\n",
      "954.8716430664062\n",
      "spectrometer complete\n",
      "n_frames 50\n"
     ]
    },
    {
     "name": "stderr",
     "output_type": "stream",
     "text": [
      "\n",
      "\n",
      " 50%|█████     | 10/20 [01:59<02:00, 12.03s/it]\u001B[A\u001B[A"
     ]
    },
    {
     "name": "stdout",
     "output_type": "stream",
     "text": [
      "Max pixel:  105.88\n",
      "954.8716430664062\n",
      "camera complete\n",
      "PCA: 1.8888888888888893\n",
      "powermeter complete\n",
      "954.948974609375\n",
      "spectrometer complete\n",
      "n_frames 50\n"
     ]
    },
    {
     "name": "stderr",
     "output_type": "stream",
     "text": [
      "\n",
      "\n",
      " 55%|█████▌    | 11/20 [02:09<01:43, 11.50s/it]\u001B[A\u001B[A"
     ]
    },
    {
     "name": "stdout",
     "output_type": "stream",
     "text": [
      "Max pixel:  180.14\n",
      "954.948974609375\n",
      "camera complete\n",
      "PCA: 1.8888888888888893\n",
      "powermeter complete\n",
      "954.7168579101562\n",
      "spectrometer complete\n",
      "n_frames 50\n"
     ]
    },
    {
     "name": "stderr",
     "output_type": "stream",
     "text": [
      "\n",
      "\n",
      " 60%|██████    | 12/20 [02:19<01:29, 11.18s/it]\u001B[A\u001B[A"
     ]
    },
    {
     "name": "stdout",
     "output_type": "stream",
     "text": [
      "Max pixel:  156.38\n",
      "954.7168579101562\n",
      "camera complete\n",
      "PCA: 1.8888888888888893\n",
      "powermeter complete\n",
      "954.7943115234375\n",
      "spectrometer complete\n",
      "n_frames 50\n"
     ]
    },
    {
     "name": "stderr",
     "output_type": "stream",
     "text": [
      "\n",
      "\n",
      " 65%|██████▌   | 13/20 [02:30<01:16, 10.98s/it]\u001B[A\u001B[A"
     ]
    },
    {
     "name": "stdout",
     "output_type": "stream",
     "text": [
      "Max pixel:  239.48\n",
      "954.7943115234375\n",
      "camera complete\n",
      "PCA: 1.8888888888888893\n",
      "powermeter complete\n",
      "954.56201171875\n",
      "spectrometer complete\n",
      "n_frames 50\n"
     ]
    },
    {
     "name": "stderr",
     "output_type": "stream",
     "text": [
      "\n",
      "\n",
      " 70%|███████   | 14/20 [02:40<01:04, 10.81s/it]\u001B[A\u001B[A"
     ]
    },
    {
     "name": "stdout",
     "output_type": "stream",
     "text": [
      "Max pixel:  153.1\n",
      "954.56201171875\n",
      "camera complete\n",
      "PCA: 1.8888888888888893\n",
      "powermeter complete\n",
      "954.6394653320312\n",
      "spectrometer complete\n",
      "n_frames 50\n"
     ]
    },
    {
     "name": "stderr",
     "output_type": "stream",
     "text": [
      "\n",
      "\n",
      " 75%|███████▌  | 15/20 [02:51<00:53, 10.66s/it]\u001B[A\u001B[A"
     ]
    },
    {
     "name": "stdout",
     "output_type": "stream",
     "text": [
      "Max pixel:  109.68\n",
      "954.6394653320312\n",
      "camera complete\n",
      "PCA: 1.8888888888888893\n",
      "powermeter complete\n",
      "954.6394653320312\n",
      "spectrometer complete\n",
      "n_frames 50\n"
     ]
    },
    {
     "name": "stderr",
     "output_type": "stream",
     "text": [
      "\n",
      "\n",
      " 80%|████████  | 16/20 [03:01<00:42, 10.60s/it]\u001B[A\u001B[A"
     ]
    },
    {
     "name": "stdout",
     "output_type": "stream",
     "text": [
      "Max pixel:  125.34\n",
      "954.6394653320312\n",
      "camera complete\n",
      "PCA: 1.8888888888888893\n",
      "powermeter complete\n",
      "954.6394653320312\n",
      "spectrometer complete\n",
      "n_frames 50\n"
     ]
    },
    {
     "name": "stderr",
     "output_type": "stream",
     "text": [
      "\n",
      "\n",
      " 85%|████████▌ | 17/20 [03:11<00:31, 10.54s/it]\u001B[A\u001B[A"
     ]
    },
    {
     "name": "stdout",
     "output_type": "stream",
     "text": [
      "Max pixel:  74.72\n",
      "954.6394653320312\n",
      "camera complete\n",
      "PCA: 1.8888888888888893\n",
      "powermeter complete\n",
      "954.6394653320312\n",
      "spectrometer complete\n",
      "n_frames 50\n"
     ]
    },
    {
     "name": "stderr",
     "output_type": "stream",
     "text": [
      "\n",
      "\n",
      " 90%|█████████ | 18/20 [03:22<00:21, 10.50s/it]\u001B[A\u001B[A"
     ]
    },
    {
     "name": "stdout",
     "output_type": "stream",
     "text": [
      "Max pixel:  114.72\n",
      "954.6394653320312\n",
      "camera complete\n",
      "PCA: 1.8888888888888893\n",
      "powermeter complete\n",
      "954.56201171875\n",
      "spectrometer complete\n",
      "n_frames 50\n"
     ]
    },
    {
     "name": "stderr",
     "output_type": "stream",
     "text": [
      "\n",
      "\n",
      " 95%|█████████▌| 19/20 [03:32<00:10, 10.47s/it]\u001B[A\u001B[A"
     ]
    },
    {
     "name": "stdout",
     "output_type": "stream",
     "text": [
      "Max pixel:  199.18\n",
      "954.56201171875\n",
      "camera complete\n",
      "PCA: 1.8888888888888893\n",
      "powermeter complete\n",
      "954.4844970703125\n",
      "spectrometer complete\n",
      "n_frames 50\n"
     ]
    },
    {
     "name": "stderr",
     "output_type": "stream",
     "text": [
      "\n",
      "\n",
      "100%|██████████| 20/20 [03:43<00:00, 11.15s/it]\u001B[A\u001B[A\n",
      "\n",
      " 50%|█████     | 5/10 [18:26<18:29, 221.90s/it]\u001B[A"
     ]
    },
    {
     "name": "stdout",
     "output_type": "stream",
     "text": [
      "Max pixel:  128.14\n",
      "954.4844970703125\n",
      "camera complete\n",
      "20240820_090056 20240820_090429\n",
      "0.11111111111111072\n",
      "41231\n"
     ]
    },
    {
     "name": "stderr",
     "output_type": "stream",
     "text": [
      "\n",
      "\n",
      "  0%|          | 0/20 [00:00<?, ?it/s]\u001B[A\u001B[A"
     ]
    },
    {
     "name": "stdout",
     "output_type": "stream",
     "text": [
      "PCA: 0.11111111111111072\n",
      "powermeter complete\n",
      "928.8607177734375\n",
      "spectrometer complete\n",
      "n_frames 2\n",
      "Max pixel:  197.0\n",
      "928.8607177734375\n",
      "camera complete\n"
     ]
    },
    {
     "name": "stderr",
     "output_type": "stream",
     "text": [
      "\n",
      "\n",
      "  5%|▌         | 1/20 [00:11<03:42, 11.72s/it]\u001B[A\u001B[A"
     ]
    },
    {
     "name": "stdout",
     "output_type": "stream",
     "text": [
      "PCA: 0.11111111111111072\n",
      "powermeter complete\n",
      "956.1061401367188\n",
      "spectrometer complete\n",
      "n_frames 50\n"
     ]
    },
    {
     "name": "stderr",
     "output_type": "stream",
     "text": [
      "\n",
      "\n",
      " 10%|█         | 2/20 [00:23<03:29, 11.66s/it]\u001B[A\u001B[A"
     ]
    },
    {
     "name": "stdout",
     "output_type": "stream",
     "text": [
      "Max pixel:  6.08\n",
      "956.1061401367188\n",
      "camera complete\n",
      "PCA: 0.11111111111111072\n",
      "powermeter complete\n",
      "956.1061401367188\n",
      "spectrometer complete\n",
      "n_frames 4\n",
      "Max pixel:  225.75\n",
      "956.1061401367188\n",
      "camera complete\n"
     ]
    },
    {
     "name": "stderr",
     "output_type": "stream",
     "text": [
      "\n",
      "\n",
      " 15%|█▌        | 3/20 [00:34<03:16, 11.57s/it]\u001B[A\u001B[A"
     ]
    },
    {
     "name": "stdout",
     "output_type": "stream",
     "text": [
      "PCA: 0.11111111111111072\n",
      "powermeter complete\n",
      "956.1061401367188\n",
      "spectrometer complete\n",
      "n_frames 50\n"
     ]
    },
    {
     "name": "stderr",
     "output_type": "stream",
     "text": [
      "\n",
      "\n",
      " 20%|██        | 4/20 [00:46<03:03, 11.49s/it]\u001B[A\u001B[A"
     ]
    },
    {
     "name": "stdout",
     "output_type": "stream",
     "text": [
      "Max pixel:  6.08\n",
      "956.1061401367188\n",
      "camera complete\n",
      "PCA: 0.11111111111111072\n",
      "powermeter complete\n",
      "956.1061401367188\n",
      "spectrometer complete\n",
      "n_frames 8\n",
      "Max pixel:  225.625\n",
      "956.1061401367188\n",
      "camera complete\n"
     ]
    },
    {
     "name": "stderr",
     "output_type": "stream",
     "text": [
      "\n",
      "\n",
      " 25%|██▌       | 5/20 [00:57<02:52, 11.47s/it]\u001B[A\u001B[A"
     ]
    },
    {
     "name": "stdout",
     "output_type": "stream",
     "text": [
      "PCA: 0.11111111111111072\n",
      "powermeter complete\n",
      "955.5668334960938\n",
      "spectrometer complete\n",
      "n_frames 50\n"
     ]
    },
    {
     "name": "stderr",
     "output_type": "stream",
     "text": [
      "\n",
      "\n",
      " 30%|███       | 6/20 [01:08<02:36, 11.17s/it]\u001B[A\u001B[A"
     ]
    },
    {
     "name": "stdout",
     "output_type": "stream",
     "text": [
      "Max pixel:  4.26\n",
      "955.5668334960938\n",
      "camera complete\n",
      "PCA: 0.11111111111111072\n",
      "powermeter complete\n",
      "955.9521484375\n",
      "spectrometer complete\n",
      "n_frames 50\n"
     ]
    },
    {
     "name": "stderr",
     "output_type": "stream",
     "text": [
      "\n",
      "\n",
      " 35%|███▌      | 7/20 [01:19<02:23, 11.06s/it]\u001B[A\u001B[A"
     ]
    },
    {
     "name": "stdout",
     "output_type": "stream",
     "text": [
      "Max pixel:  56.22\n",
      "955.9521484375\n",
      "camera complete\n",
      "PCA: 0.11111111111111072\n",
      "powermeter complete\n",
      "955.7210083007812\n",
      "spectrometer complete\n",
      "n_frames 50\n"
     ]
    },
    {
     "name": "stderr",
     "output_type": "stream",
     "text": [
      "\n",
      "\n",
      " 40%|████      | 8/20 [01:30<02:12, 11.08s/it]\u001B[A\u001B[A"
     ]
    },
    {
     "name": "stdout",
     "output_type": "stream",
     "text": [
      "Max pixel:  240.8\n",
      "955.7210083007812\n",
      "camera complete\n",
      "PCA: 0.11111111111111072\n",
      "powermeter complete\n",
      "955.5668334960938\n",
      "spectrometer complete\n",
      "n_frames 50\n"
     ]
    },
    {
     "name": "stderr",
     "output_type": "stream",
     "text": [
      "\n",
      "\n",
      " 45%|████▌     | 9/20 [01:49<02:29, 13.63s/it]\u001B[A\u001B[A"
     ]
    },
    {
     "name": "stdout",
     "output_type": "stream",
     "text": [
      "Max pixel:  105.8\n",
      "955.5668334960938\n",
      "camera complete\n",
      "PCA: 0.11111111111111072\n",
      "powermeter complete\n",
      "956.1061401367188\n",
      "spectrometer complete\n",
      "n_frames 50\n"
     ]
    },
    {
     "name": "stderr",
     "output_type": "stream",
     "text": [
      "\n",
      "\n",
      " 50%|█████     | 10/20 [02:00<02:09, 12.93s/it]\u001B[A\u001B[A"
     ]
    },
    {
     "name": "stdout",
     "output_type": "stream",
     "text": [
      "Max pixel:  104.0\n",
      "956.1061401367188\n",
      "camera complete\n",
      "PCA: 0.11111111111111072\n",
      "powermeter complete\n",
      "955.8751220703125\n",
      "spectrometer complete\n",
      "n_frames 50\n"
     ]
    },
    {
     "name": "stderr",
     "output_type": "stream",
     "text": [
      "\n",
      "\n",
      " 55%|█████▌    | 11/20 [02:11<01:49, 12.17s/it]\u001B[A\u001B[A"
     ]
    },
    {
     "name": "stdout",
     "output_type": "stream",
     "text": [
      "Max pixel:  193.1\n",
      "955.8751220703125\n",
      "camera complete\n",
      "PCA: 0.11111111111111072\n",
      "powermeter complete\n",
      "955.798095703125\n",
      "spectrometer complete\n",
      "n_frames 50\n"
     ]
    },
    {
     "name": "stderr",
     "output_type": "stream",
     "text": [
      "\n",
      "\n",
      " 60%|██████    | 12/20 [02:21<01:33, 11.68s/it]\u001B[A\u001B[A"
     ]
    },
    {
     "name": "stdout",
     "output_type": "stream",
     "text": [
      "Max pixel:  234.14\n",
      "955.798095703125\n",
      "camera complete\n",
      "PCA: 0.11111111111111072\n",
      "powermeter complete\n",
      "955.8751220703125\n",
      "spectrometer complete\n",
      "n_frames 50\n"
     ]
    },
    {
     "name": "stderr",
     "output_type": "stream",
     "text": [
      "\n",
      "\n",
      " 65%|██████▌   | 13/20 [02:32<01:19, 11.31s/it]\u001B[A\u001B[A"
     ]
    },
    {
     "name": "stdout",
     "output_type": "stream",
     "text": [
      "Max pixel:  60.28\n",
      "955.8751220703125\n",
      "camera complete\n",
      "PCA: 0.11111111111111072\n",
      "powermeter complete\n",
      "955.8751220703125\n",
      "spectrometer complete\n",
      "n_frames 50\n"
     ]
    },
    {
     "name": "stderr",
     "output_type": "stream",
     "text": [
      "\n",
      "\n",
      " 70%|███████   | 14/20 [02:42<01:06, 11.02s/it]\u001B[A\u001B[A"
     ]
    },
    {
     "name": "stdout",
     "output_type": "stream",
     "text": [
      "Max pixel:  192.74\n",
      "955.8751220703125\n",
      "camera complete\n",
      "PCA: 0.11111111111111072\n",
      "powermeter complete\n",
      "955.798095703125\n",
      "spectrometer complete\n",
      "n_frames 50\n"
     ]
    },
    {
     "name": "stderr",
     "output_type": "stream",
     "text": [
      "\n",
      "\n",
      " 75%|███████▌  | 15/20 [02:52<00:54, 10.83s/it]\u001B[A\u001B[A"
     ]
    },
    {
     "name": "stdout",
     "output_type": "stream",
     "text": [
      "Max pixel:  170.22\n",
      "955.798095703125\n",
      "camera complete\n",
      "PCA: 0.11111111111111072\n",
      "powermeter complete\n",
      "956.0292358398438\n",
      "spectrometer complete\n",
      "n_frames 50\n"
     ]
    },
    {
     "name": "stderr",
     "output_type": "stream",
     "text": [
      "\n",
      "\n",
      " 80%|████████  | 16/20 [03:03<00:42, 10.71s/it]\u001B[A\u001B[A"
     ]
    },
    {
     "name": "stdout",
     "output_type": "stream",
     "text": [
      "Max pixel:  226.52\n",
      "956.0292358398438\n",
      "camera complete\n",
      "PCA: 0.11111111111111072\n",
      "powermeter complete\n",
      "955.8751220703125\n",
      "spectrometer complete\n",
      "n_frames 50\n"
     ]
    },
    {
     "name": "stderr",
     "output_type": "stream",
     "text": [
      "\n",
      "\n",
      " 85%|████████▌ | 17/20 [03:13<00:31, 10.63s/it]\u001B[A\u001B[A"
     ]
    },
    {
     "name": "stdout",
     "output_type": "stream",
     "text": [
      "Max pixel:  92.5\n",
      "955.8751220703125\n",
      "camera complete\n",
      "PCA: 0.11111111111111072\n",
      "powermeter complete\n",
      "955.798095703125\n",
      "spectrometer complete\n",
      "n_frames 50\n"
     ]
    },
    {
     "name": "stderr",
     "output_type": "stream",
     "text": [
      "\n",
      "\n",
      " 90%|█████████ | 18/20 [03:24<00:21, 10.58s/it]\u001B[A\u001B[A"
     ]
    },
    {
     "name": "stdout",
     "output_type": "stream",
     "text": [
      "Max pixel:  169.64\n",
      "955.798095703125\n",
      "camera complete\n",
      "PCA: 0.11111111111111072\n",
      "powermeter complete\n",
      "955.8751220703125\n",
      "spectrometer complete\n",
      "n_frames 50\n"
     ]
    },
    {
     "name": "stderr",
     "output_type": "stream",
     "text": [
      "\n",
      "\n",
      " 95%|█████████▌| 19/20 [03:34<00:10, 10.53s/it]\u001B[A\u001B[A"
     ]
    },
    {
     "name": "stdout",
     "output_type": "stream",
     "text": [
      "Max pixel:  240.94\n",
      "955.8751220703125\n",
      "camera complete\n",
      "PCA: 0.11111111111111072\n",
      "powermeter complete\n",
      "955.798095703125\n",
      "spectrometer complete\n",
      "n_frames 50\n"
     ]
    },
    {
     "name": "stderr",
     "output_type": "stream",
     "text": [
      "\n",
      "\n",
      "100%|██████████| 20/20 [03:45<00:00, 11.26s/it]\u001B[A\u001B[A\n",
      "\n",
      " 60%|██████    | 6/10 [22:11<14:52, 223.05s/it]\u001B[A"
     ]
    },
    {
     "name": "stdout",
     "output_type": "stream",
     "text": [
      "Max pixel:  184.82\n",
      "955.798095703125\n",
      "camera complete\n",
      "20240820_090439 20240820_090814\n",
      "-1.666666666666666\n",
      "41231\n"
     ]
    },
    {
     "name": "stderr",
     "output_type": "stream",
     "text": [
      "\n",
      "\n",
      "  0%|          | 0/20 [00:00<?, ?it/s]\u001B[A\u001B[A"
     ]
    },
    {
     "name": "stdout",
     "output_type": "stream",
     "text": [
      "PCA: -1.666666666666666\n",
      "powermeter complete\n",
      "929.0309448242188\n",
      "spectrometer complete\n",
      "n_frames 2\n",
      "Max pixel:  196.0\n",
      "929.0309448242188\n",
      "camera complete\n"
     ]
    },
    {
     "name": "stderr",
     "output_type": "stream",
     "text": [
      "\n",
      "\n",
      "  5%|▌         | 1/20 [00:11<03:40, 11.63s/it]\u001B[A\u001B[A"
     ]
    },
    {
     "name": "stdout",
     "output_type": "stream",
     "text": [
      "PCA: -1.666666666666666\n",
      "powermeter complete\n",
      "957.4107666015625\n",
      "spectrometer complete\n",
      "n_frames 50\n"
     ]
    },
    {
     "name": "stderr",
     "output_type": "stream",
     "text": [
      "\n",
      "\n",
      " 10%|█         | 2/20 [00:23<03:29, 11.62s/it]\u001B[A\u001B[A"
     ]
    },
    {
     "name": "stdout",
     "output_type": "stream",
     "text": [
      "Max pixel:  6.08\n",
      "957.4107666015625\n",
      "camera complete\n",
      "PCA: -1.666666666666666\n",
      "powermeter complete\n",
      "957.2576904296875\n",
      "spectrometer complete\n",
      "n_frames 4\n",
      "Max pixel:  212.5\n",
      "957.2576904296875\n",
      "camera complete\n"
     ]
    },
    {
     "name": "stderr",
     "output_type": "stream",
     "text": [
      "\n",
      "\n",
      " 15%|█▌        | 3/20 [00:34<03:18, 11.65s/it]\u001B[A\u001B[A"
     ]
    },
    {
     "name": "stdout",
     "output_type": "stream",
     "text": [
      "PCA: -1.666666666666666\n",
      "powermeter complete\n",
      "957.6402587890625\n",
      "spectrometer complete\n",
      "n_frames 50\n"
     ]
    },
    {
     "name": "stderr",
     "output_type": "stream",
     "text": [
      "\n",
      "\n",
      " 20%|██        | 4/20 [00:46<03:04, 11.55s/it]\u001B[A\u001B[A"
     ]
    },
    {
     "name": "stdout",
     "output_type": "stream",
     "text": [
      "Max pixel:  6.08\n",
      "957.6402587890625\n",
      "camera complete\n",
      "PCA: -1.666666666666666\n",
      "powermeter complete\n",
      "957.4107666015625\n",
      "spectrometer complete\n",
      "n_frames 8\n"
     ]
    },
    {
     "name": "stderr",
     "output_type": "stream",
     "text": [
      "\n",
      "\n"
     ]
    },
    {
     "name": "stdout",
     "output_type": "stream",
     "text": [
      "Max pixel:  208.0\n",
      "957.4107666015625\n",
      "camera complete\n"
     ]
    },
    {
     "name": "stderr",
     "output_type": "stream",
     "text": [
      " 25%|██▌       | 5/20 [00:57<02:53, 11.55s/it]\u001B[A\u001B[A"
     ]
    },
    {
     "name": "stdout",
     "output_type": "stream",
     "text": [
      "PCA: -1.666666666666666\n",
      "powermeter complete\n",
      "957.4107666015625\n",
      "spectrometer complete\n",
      "n_frames 50\n"
     ]
    },
    {
     "name": "stderr",
     "output_type": "stream",
     "text": [
      "\n",
      "\n",
      " 30%|███       | 6/20 [01:09<02:41, 11.51s/it]\u001B[A\u001B[A"
     ]
    },
    {
     "name": "stdout",
     "output_type": "stream",
     "text": [
      "Max pixel:  6.08\n",
      "957.4107666015625\n",
      "camera complete\n",
      "PCA: -1.666666666666666\n",
      "powermeter complete\n",
      "957.334228515625\n",
      "spectrometer complete\n",
      "n_frames 16\n"
     ]
    },
    {
     "name": "stderr",
     "output_type": "stream",
     "text": [
      "\n",
      "\n",
      " 35%|███▌      | 7/20 [01:20<02:28, 11.46s/it]\u001B[A\u001B[A"
     ]
    },
    {
     "name": "stdout",
     "output_type": "stream",
     "text": [
      "Max pixel:  172.625\n",
      "957.334228515625\n",
      "camera complete\n",
      "PCA: -1.666666666666666\n",
      "powermeter complete\n",
      "956.644287109375\n",
      "spectrometer complete\n",
      "n_frames 16\n"
     ]
    },
    {
     "name": "stderr",
     "output_type": "stream",
     "text": [
      "\n",
      "\n",
      " 40%|████      | 8/20 [01:32<02:18, 11.55s/it]\u001B[A\u001B[A"
     ]
    },
    {
     "name": "stdout",
     "output_type": "stream",
     "text": [
      "Max pixel:  205.625\n",
      "956.644287109375\n",
      "camera complete\n",
      "PCA: -1.666666666666666\n",
      "powermeter complete\n",
      "956.9511108398438\n",
      "spectrometer complete\n",
      "n_frames 50\n"
     ]
    },
    {
     "name": "stderr",
     "output_type": "stream",
     "text": [
      "\n",
      "\n",
      " 45%|████▌     | 9/20 [01:43<02:04, 11.28s/it]\u001B[A\u001B[A"
     ]
    },
    {
     "name": "stdout",
     "output_type": "stream",
     "text": [
      "Max pixel:  25.84\n",
      "956.9511108398438\n",
      "camera complete\n",
      "PCA: -1.666666666666666\n",
      "powermeter complete\n",
      "957.02783203125\n",
      "spectrometer complete\n",
      "n_frames 50\n"
     ]
    },
    {
     "name": "stderr",
     "output_type": "stream",
     "text": [
      "\n",
      "\n",
      " 50%|█████     | 10/20 [01:53<01:51, 11.11s/it]\u001B[A\u001B[A"
     ]
    },
    {
     "name": "stdout",
     "output_type": "stream",
     "text": [
      "Max pixel:  80.96\n",
      "957.02783203125\n",
      "camera complete\n",
      "PCA: -1.666666666666666\n",
      "powermeter complete\n",
      "956.8744506835938\n",
      "spectrometer complete\n",
      "n_frames 50\n"
     ]
    },
    {
     "name": "stderr",
     "output_type": "stream",
     "text": [
      "\n",
      "\n",
      " 55%|█████▌    | 11/20 [02:04<01:38, 10.98s/it]\u001B[A\u001B[A"
     ]
    },
    {
     "name": "stdout",
     "output_type": "stream",
     "text": [
      "Max pixel:  148.8\n",
      "956.8744506835938\n",
      "camera complete\n",
      "PCA: -1.666666666666666\n",
      "powermeter complete\n",
      "957.1044921875\n",
      "spectrometer complete\n",
      "n_frames 50\n"
     ]
    },
    {
     "name": "stderr",
     "output_type": "stream",
     "text": [
      "\n",
      "\n",
      " 60%|██████    | 12/20 [02:15<01:27, 10.97s/it]\u001B[A\u001B[A"
     ]
    },
    {
     "name": "stdout",
     "output_type": "stream",
     "text": [
      "Max pixel:  147.62\n",
      "957.1044921875\n",
      "camera complete\n",
      "PCA: -1.666666666666666\n",
      "powermeter complete\n",
      "957.02783203125\n",
      "spectrometer complete\n",
      "n_frames 50\n"
     ]
    },
    {
     "name": "stderr",
     "output_type": "stream",
     "text": [
      "\n",
      "\n",
      " 65%|██████▌   | 13/20 [02:34<01:34, 13.44s/it]\u001B[A\u001B[A"
     ]
    },
    {
     "name": "stdout",
     "output_type": "stream",
     "text": [
      "Max pixel:  94.36\n",
      "957.02783203125\n",
      "camera complete\n",
      "PCA: -1.666666666666666\n",
      "powermeter complete\n",
      "956.9511108398438\n",
      "spectrometer complete\n",
      "n_frames 50\n"
     ]
    },
    {
     "name": "stderr",
     "output_type": "stream",
     "text": [
      "\n",
      "\n",
      " 70%|███████   | 14/20 [02:44<01:14, 12.48s/it]\u001B[A\u001B[A"
     ]
    },
    {
     "name": "stdout",
     "output_type": "stream",
     "text": [
      "Max pixel:  213.58\n",
      "956.9511108398438\n",
      "camera complete\n",
      "PCA: -1.666666666666666\n",
      "powermeter complete\n",
      "957.02783203125\n",
      "spectrometer complete\n",
      "n_frames 50\n"
     ]
    },
    {
     "name": "stderr",
     "output_type": "stream",
     "text": [
      "\n",
      "\n",
      " 75%|███████▌  | 15/20 [02:55<00:59, 11.89s/it]\u001B[A\u001B[A"
     ]
    },
    {
     "name": "stdout",
     "output_type": "stream",
     "text": [
      "Max pixel:  232.74\n",
      "957.02783203125\n",
      "camera complete\n",
      "PCA: -1.666666666666666\n",
      "powermeter complete\n",
      "956.7977294921875\n",
      "spectrometer complete\n",
      "n_frames 50\n"
     ]
    },
    {
     "name": "stderr",
     "output_type": "stream",
     "text": [
      "\n",
      "\n",
      " 80%|████████  | 16/20 [03:05<00:45, 11.42s/it]\u001B[A\u001B[A"
     ]
    },
    {
     "name": "stdout",
     "output_type": "stream",
     "text": [
      "Max pixel:  68.96\n",
      "956.7977294921875\n",
      "camera complete\n",
      "PCA: -1.666666666666666\n",
      "powermeter complete\n",
      "956.5673828125\n",
      "spectrometer complete\n",
      "n_frames 50\n"
     ]
    },
    {
     "name": "stderr",
     "output_type": "stream",
     "text": [
      "\n",
      "\n",
      " 85%|████████▌ | 17/20 [03:16<00:33, 11.10s/it]\u001B[A\u001B[A"
     ]
    },
    {
     "name": "stdout",
     "output_type": "stream",
     "text": [
      "Max pixel:  126.98\n",
      "956.5673828125\n",
      "camera complete\n",
      "PCA: -1.666666666666666\n",
      "powermeter complete\n",
      "956.5673828125\n",
      "spectrometer complete\n",
      "n_frames 50\n"
     ]
    },
    {
     "name": "stderr",
     "output_type": "stream",
     "text": [
      "\n",
      "\n",
      " 90%|█████████ | 18/20 [03:26<00:21, 10.87s/it]\u001B[A\u001B[A"
     ]
    },
    {
     "name": "stdout",
     "output_type": "stream",
     "text": [
      "Max pixel:  167.98\n",
      "956.5673828125\n",
      "camera complete\n",
      "PCA: -1.666666666666666\n",
      "powermeter complete\n",
      "956.8744506835938\n",
      "spectrometer complete\n",
      "n_frames 50\n"
     ]
    },
    {
     "name": "stderr",
     "output_type": "stream",
     "text": [
      "\n",
      "\n",
      " 95%|█████████▌| 19/20 [03:36<00:10, 10.72s/it]\u001B[A\u001B[A"
     ]
    },
    {
     "name": "stdout",
     "output_type": "stream",
     "text": [
      "Max pixel:  149.12\n",
      "956.8744506835938\n",
      "camera complete\n",
      "PCA: -1.666666666666666\n",
      "powermeter complete\n",
      "956.5673828125\n",
      "spectrometer complete\n",
      "n_frames 50\n"
     ]
    },
    {
     "name": "stderr",
     "output_type": "stream",
     "text": [
      "\n",
      "\n",
      "100%|██████████| 20/20 [03:47<00:00, 11.35s/it]\u001B[A\u001B[A\n",
      "\n",
      " 70%|███████   | 7/10 [25:59<11:13, 224.42s/it]\u001B[A"
     ]
    },
    {
     "name": "stdout",
     "output_type": "stream",
     "text": [
      "Max pixel:  78.22\n",
      "956.5673828125\n",
      "camera complete\n",
      "20240820_090825 20240820_091202\n",
      "-3.444444444444443\n",
      "41231\n"
     ]
    },
    {
     "name": "stderr",
     "output_type": "stream",
     "text": [
      "\n",
      "\n",
      "  0%|          | 0/20 [00:00<?, ?it/s]\u001B[A\u001B[A"
     ]
    },
    {
     "name": "stdout",
     "output_type": "stream",
     "text": [
      "PCA: -3.444444444444443\n",
      "powermeter complete\n",
      "928.8607177734375\n",
      "spectrometer complete\n",
      "n_frames 4\n",
      "Max pixel:  151.75\n",
      "928.8607177734375\n",
      "camera complete\n"
     ]
    },
    {
     "name": "stderr",
     "output_type": "stream",
     "text": [
      "\n",
      "\n",
      "  5%|▌         | 1/20 [00:11<03:40, 11.60s/it]\u001B[A\u001B[A"
     ]
    },
    {
     "name": "stdout",
     "output_type": "stream",
     "text": [
      "PCA: -3.444444444444443\n",
      "powermeter complete\n",
      "928.8607177734375\n",
      "spectrometer complete\n",
      "n_frames 50\n"
     ]
    },
    {
     "name": "stderr",
     "output_type": "stream",
     "text": [
      "\n",
      "\n",
      " 10%|█         | 2/20 [00:22<03:25, 11.44s/it]\u001B[A\u001B[A"
     ]
    },
    {
     "name": "stdout",
     "output_type": "stream",
     "text": [
      "Max pixel:  4.84\n",
      "928.8607177734375\n",
      "camera complete\n",
      "PCA: -3.444444444444443\n",
      "powermeter complete\n",
      "958.403564453125\n",
      "spectrometer complete\n",
      "n_frames 4\n",
      "Max pixel:  225.75\n",
      "958.403564453125\n",
      "camera complete\n"
     ]
    },
    {
     "name": "stderr",
     "output_type": "stream",
     "text": [
      "\n",
      "\n",
      " 15%|█▌        | 3/20 [00:34<03:15, 11.52s/it]\u001B[A\u001B[A"
     ]
    },
    {
     "name": "stdout",
     "output_type": "stream",
     "text": [
      "PCA: -3.444444444444443\n",
      "powermeter complete\n",
      "958.403564453125\n",
      "spectrometer complete\n",
      "n_frames 50\n"
     ]
    },
    {
     "name": "stderr",
     "output_type": "stream",
     "text": [
      "\n",
      "\n",
      " 20%|██        | 4/20 [00:46<03:03, 11.50s/it]\u001B[A\u001B[A"
     ]
    },
    {
     "name": "stdout",
     "output_type": "stream",
     "text": [
      "Max pixel:  6.08\n",
      "958.403564453125\n",
      "camera complete\n",
      "PCA: -3.444444444444443\n",
      "powermeter complete\n",
      "958.3273315429688\n",
      "spectrometer complete\n",
      "n_frames 8\n",
      "Max pixel:  211.0\n",
      "958.3273315429688\n",
      "camera complete\n"
     ]
    },
    {
     "name": "stderr",
     "output_type": "stream",
     "text": [
      "\n",
      "\n",
      " 25%|██▌       | 5/20 [00:57<02:52, 11.53s/it]\u001B[A\u001B[A"
     ]
    },
    {
     "name": "stdout",
     "output_type": "stream",
     "text": [
      "PCA: -3.444444444444443\n",
      "powermeter complete\n",
      "958.403564453125\n",
      "spectrometer complete\n",
      "n_frames 50\n"
     ]
    },
    {
     "name": "stderr",
     "output_type": "stream",
     "text": [
      "\n",
      "\n",
      " 30%|███       | 6/20 [01:09<02:40, 11.49s/it]\u001B[A\u001B[A"
     ]
    },
    {
     "name": "stdout",
     "output_type": "stream",
     "text": [
      "Max pixel:  4.28\n",
      "958.403564453125\n",
      "camera complete\n",
      "PCA: -3.444444444444443\n",
      "powermeter complete\n",
      "958.403564453125\n",
      "spectrometer complete\n",
      "n_frames 16\n"
     ]
    },
    {
     "name": "stderr",
     "output_type": "stream",
     "text": [
      "\n",
      "\n"
     ]
    },
    {
     "name": "stdout",
     "output_type": "stream",
     "text": [
      "Max pixel:  168.1875\n",
      "958.403564453125\n",
      "camera complete\n"
     ]
    },
    {
     "name": "stderr",
     "output_type": "stream",
     "text": [
      " 35%|███▌      | 7/20 [01:20<02:29, 11.48s/it]\u001B[A\u001B[A"
     ]
    },
    {
     "name": "stdout",
     "output_type": "stream",
     "text": [
      "PCA: -3.444444444444443\n",
      "powermeter complete\n",
      "958.3273315429688\n",
      "spectrometer complete\n",
      "n_frames 16\n"
     ]
    },
    {
     "name": "stderr",
     "output_type": "stream",
     "text": [
      "\n",
      "\n"
     ]
    },
    {
     "name": "stdout",
     "output_type": "stream",
     "text": [
      "Max pixel:  191.375\n",
      "958.3273315429688\n",
      "camera complete\n"
     ]
    },
    {
     "name": "stderr",
     "output_type": "stream",
     "text": [
      " 40%|████      | 8/20 [01:31<02:17, 11.47s/it]\u001B[A\u001B[A"
     ]
    },
    {
     "name": "stdout",
     "output_type": "stream",
     "text": [
      "PCA: -3.444444444444443\n",
      "powermeter complete\n",
      "958.3273315429688\n",
      "spectrometer complete\n",
      "n_frames 16\n"
     ]
    },
    {
     "name": "stderr",
     "output_type": "stream",
     "text": [
      "\n",
      "\n"
     ]
    },
    {
     "name": "stdout",
     "output_type": "stream",
     "text": [
      "Max pixel:  211.8125\n",
      "958.3273315429688\n",
      "camera complete\n"
     ]
    },
    {
     "name": "stderr",
     "output_type": "stream",
     "text": [
      " 45%|████▌     | 9/20 [01:43<02:05, 11.45s/it]\u001B[A\u001B[A"
     ]
    },
    {
     "name": "stdout",
     "output_type": "stream",
     "text": [
      "PCA: -3.444444444444443\n",
      "powermeter complete\n",
      "958.3273315429688\n",
      "spectrometer complete\n",
      "n_frames 16\n"
     ]
    },
    {
     "name": "stderr",
     "output_type": "stream",
     "text": [
      "\n",
      "\n"
     ]
    },
    {
     "name": "stdout",
     "output_type": "stream",
     "text": [
      "Max pixel:  232.625\n",
      "958.3273315429688\n",
      "camera complete\n"
     ]
    },
    {
     "name": "stderr",
     "output_type": "stream",
     "text": [
      " 50%|█████     | 10/20 [01:54<01:54, 11.45s/it]\u001B[A\u001B[A"
     ]
    },
    {
     "name": "stdout",
     "output_type": "stream",
     "text": [
      "PCA: -3.444444444444443\n",
      "powermeter complete\n",
      "958.0985107421875\n",
      "spectrometer complete\n",
      "n_frames 16\n"
     ]
    },
    {
     "name": "stderr",
     "output_type": "stream",
     "text": [
      "\n",
      "\n"
     ]
    },
    {
     "name": "stdout",
     "output_type": "stream",
     "text": [
      "Max pixel:  248.6875\n",
      "958.0985107421875\n",
      "camera complete\n"
     ]
    },
    {
     "name": "stderr",
     "output_type": "stream",
     "text": [
      " 55%|█████▌    | 11/20 [02:06<01:43, 11.47s/it]\u001B[A\u001B[A"
     ]
    },
    {
     "name": "stdout",
     "output_type": "stream",
     "text": [
      "PCA: -3.444444444444443\n",
      "powermeter complete\n",
      "957.1810302734375\n",
      "spectrometer complete\n",
      "n_frames 31\n"
     ]
    },
    {
     "name": "stderr",
     "output_type": "stream",
     "text": [
      "\n",
      "\n",
      " 60%|██████    | 12/20 [02:17<01:32, 11.51s/it]\u001B[A\u001B[A"
     ]
    },
    {
     "name": "stdout",
     "output_type": "stream",
     "text": [
      "Max pixel:  166.3548387096774\n",
      "957.1810302734375\n",
      "camera complete\n",
      "PCA: -3.444444444444443\n",
      "powermeter complete\n",
      "957.8695068359375\n",
      "spectrometer complete\n",
      "n_frames 50\n"
     ]
    },
    {
     "name": "stderr",
     "output_type": "stream",
     "text": [
      "\n",
      "\n",
      " 65%|██████▌   | 13/20 [02:28<01:19, 11.33s/it]\u001B[A\u001B[A"
     ]
    },
    {
     "name": "stdout",
     "output_type": "stream",
     "text": [
      "Max pixel:  28.0\n",
      "957.8695068359375\n",
      "camera complete\n",
      "PCA: -3.444444444444443\n",
      "powermeter complete\n",
      "958.022216796875\n",
      "spectrometer complete\n",
      "n_frames 50\n"
     ]
    },
    {
     "name": "stderr",
     "output_type": "stream",
     "text": [
      "\n",
      "\n",
      " 70%|███████   | 14/20 [02:39<01:06, 11.13s/it]\u001B[A\u001B[A"
     ]
    },
    {
     "name": "stdout",
     "output_type": "stream",
     "text": [
      "Max pixel:  146.86\n",
      "958.022216796875\n",
      "camera complete\n",
      "PCA: -3.444444444444443\n",
      "powermeter complete\n",
      "958.0985107421875\n",
      "spectrometer complete\n",
      "n_frames 50\n"
     ]
    },
    {
     "name": "stderr",
     "output_type": "stream",
     "text": [
      "\n",
      "\n",
      " 75%|███████▌  | 15/20 [02:50<00:55, 11.01s/it]\u001B[A\u001B[A"
     ]
    },
    {
     "name": "stdout",
     "output_type": "stream",
     "text": [
      "Max pixel:  27.26\n",
      "958.0985107421875\n",
      "camera complete\n",
      "PCA: -3.444444444444443\n",
      "powermeter complete\n",
      "958.3273315429688\n",
      "spectrometer complete\n",
      "n_frames 50\n"
     ]
    },
    {
     "name": "stderr",
     "output_type": "stream",
     "text": [
      "\n",
      "\n",
      " 80%|████████  | 16/20 [03:01<00:44, 11.01s/it]\u001B[A\u001B[A"
     ]
    },
    {
     "name": "stdout",
     "output_type": "stream",
     "text": [
      "Max pixel:  144.3\n",
      "958.3273315429688\n",
      "camera complete\n",
      "PCA: -3.444444444444443\n",
      "powermeter complete\n",
      "957.6402587890625\n",
      "spectrometer complete\n",
      "n_frames 50\n"
     ]
    },
    {
     "name": "stderr",
     "output_type": "stream",
     "text": [
      "\n",
      "\n",
      " 85%|████████▌ | 17/20 [03:12<00:33, 11.05s/it]\u001B[A\u001B[A"
     ]
    },
    {
     "name": "stdout",
     "output_type": "stream",
     "text": [
      "Max pixel:  208.94\n",
      "957.6402587890625\n",
      "camera complete\n",
      "PCA: -3.444444444444443\n",
      "powermeter complete\n",
      "957.9459228515625\n",
      "spectrometer complete\n",
      "n_frames 50\n"
     ]
    },
    {
     "name": "stderr",
     "output_type": "stream",
     "text": [
      "\n",
      "\n",
      " 90%|█████████ | 18/20 [03:31<00:27, 13.53s/it]\u001B[A\u001B[A"
     ]
    },
    {
     "name": "stdout",
     "output_type": "stream",
     "text": [
      "Max pixel:  249.8\n",
      "957.9459228515625\n",
      "camera complete\n",
      "PCA: -3.444444444444443\n",
      "powermeter complete\n",
      "957.8695068359375\n",
      "spectrometer complete\n",
      "n_frames 50\n"
     ]
    },
    {
     "name": "stderr",
     "output_type": "stream",
     "text": [
      "\n",
      "\n",
      " 95%|█████████▌| 19/20 [03:41<00:12, 12.56s/it]\u001B[A\u001B[A"
     ]
    },
    {
     "name": "stdout",
     "output_type": "stream",
     "text": [
      "Max pixel:  219.12\n",
      "957.8695068359375\n",
      "camera complete\n",
      "PCA: -3.444444444444443\n",
      "powermeter complete\n",
      "957.563720703125\n",
      "spectrometer complete\n",
      "n_frames 50\n"
     ]
    },
    {
     "name": "stderr",
     "output_type": "stream",
     "text": [
      "\n",
      "\n",
      "100%|██████████| 20/20 [03:52<00:00, 11.62s/it]\u001B[A\u001B[A\n",
      "\n",
      " 80%|████████  | 8/10 [29:51<07:33, 226.98s/it]\u001B[A"
     ]
    },
    {
     "name": "stdout",
     "output_type": "stream",
     "text": [
      "Max pixel:  196.08\n",
      "957.563720703125\n",
      "camera complete\n",
      "20240820_091212 20240820_091554\n",
      "-5.222222222222221\n",
      "41231\n"
     ]
    },
    {
     "name": "stderr",
     "output_type": "stream",
     "text": [
      "\n",
      "\n",
      "  0%|          | 0/20 [00:00<?, ?it/s]\u001B[A\u001B[A"
     ]
    },
    {
     "name": "stdout",
     "output_type": "stream",
     "text": [
      "PCA: -5.222222222222221\n",
      "powermeter complete\n",
      "928.8607177734375\n",
      "spectrometer complete\n",
      "n_frames 4\n",
      "Max pixel:  152.5\n",
      "928.8607177734375\n",
      "camera complete\n"
     ]
    },
    {
     "name": "stderr",
     "output_type": "stream",
     "text": [
      "\n",
      "\n",
      "  5%|▌         | 1/20 [00:11<03:40, 11.60s/it]\u001B[A\u001B[A"
     ]
    },
    {
     "name": "stdout",
     "output_type": "stream",
     "text": [
      "PCA: -5.222222222222221\n",
      "powermeter complete\n",
      "928.8607177734375\n",
      "spectrometer complete\n",
      "n_frames 50\n"
     ]
    },
    {
     "name": "stderr",
     "output_type": "stream",
     "text": [
      "\n",
      "\n",
      " 10%|█         | 2/20 [00:23<03:27, 11.52s/it]\u001B[A\u001B[A"
     ]
    },
    {
     "name": "stdout",
     "output_type": "stream",
     "text": [
      "Max pixel:  4.94\n",
      "928.8607177734375\n",
      "camera complete\n",
      "PCA: -5.222222222222221\n",
      "powermeter complete\n",
      "929.0309448242188\n",
      "spectrometer complete\n",
      "n_frames 4\n",
      "Max pixel:  215.0\n",
      "929.0309448242188\n",
      "camera complete\n"
     ]
    },
    {
     "name": "stderr",
     "output_type": "stream",
     "text": [
      "\n",
      "\n",
      " 15%|█▌        | 3/20 [00:34<03:17, 11.61s/it]\u001B[A\u001B[A"
     ]
    },
    {
     "name": "stdout",
     "output_type": "stream",
     "text": [
      "PCA: -5.222222222222221\n",
      "powermeter complete\n",
      "959.922607421875\n",
      "spectrometer complete\n",
      "n_frames 50\n"
     ]
    },
    {
     "name": "stderr",
     "output_type": "stream",
     "text": [
      "\n",
      "\n",
      " 20%|██        | 4/20 [00:46<03:03, 11.50s/it]\u001B[A\u001B[A"
     ]
    },
    {
     "name": "stdout",
     "output_type": "stream",
     "text": [
      "Max pixel:  6.08\n",
      "959.922607421875\n",
      "camera complete\n",
      "PCA: -5.222222222222221\n",
      "powermeter complete\n",
      "959.922607421875\n",
      "spectrometer complete\n",
      "n_frames 8\n",
      "Max pixel:  201.0\n",
      "959.922607421875\n",
      "camera complete\n"
     ]
    },
    {
     "name": "stderr",
     "output_type": "stream",
     "text": [
      "\n",
      "\n",
      " 25%|██▌       | 5/20 [00:57<02:52, 11.50s/it]\u001B[A\u001B[A"
     ]
    },
    {
     "name": "stdout",
     "output_type": "stream",
     "text": [
      "PCA: -5.222222222222221\n",
      "powermeter complete\n",
      "959.6954345703125\n",
      "spectrometer complete\n",
      "n_frames 50\n"
     ]
    },
    {
     "name": "stderr",
     "output_type": "stream",
     "text": [
      "\n",
      "\n",
      " 30%|███       | 6/20 [01:08<02:39, 11.41s/it]\u001B[A\u001B[A"
     ]
    },
    {
     "name": "stdout",
     "output_type": "stream",
     "text": [
      "Max pixel:  6.0\n",
      "959.6954345703125\n",
      "camera complete\n",
      "PCA: -5.222222222222221\n",
      "powermeter complete\n",
      "959.6195678710938\n",
      "spectrometer complete\n",
      "n_frames 16\n"
     ]
    },
    {
     "name": "stderr",
     "output_type": "stream",
     "text": [
      "\n",
      "\n"
     ]
    },
    {
     "name": "stdout",
     "output_type": "stream",
     "text": [
      "Max pixel:  159.5\n",
      "959.6195678710938\n",
      "camera complete\n"
     ]
    },
    {
     "name": "stderr",
     "output_type": "stream",
     "text": [
      " 35%|███▌      | 7/20 [01:20<02:28, 11.44s/it]\u001B[A\u001B[A"
     ]
    },
    {
     "name": "stdout",
     "output_type": "stream",
     "text": [
      "PCA: -5.222222222222221\n",
      "powermeter complete\n",
      "959.8468627929688\n",
      "spectrometer complete\n",
      "n_frames 16\n"
     ]
    },
    {
     "name": "stderr",
     "output_type": "stream",
     "text": [
      "\n",
      "\n"
     ]
    },
    {
     "name": "stdout",
     "output_type": "stream",
     "text": [
      "Max pixel:  178.125\n",
      "959.8468627929688\n",
      "camera complete\n"
     ]
    },
    {
     "name": "stderr",
     "output_type": "stream",
     "text": [
      " 40%|████      | 8/20 [01:31<02:17, 11.42s/it]\u001B[A\u001B[A"
     ]
    },
    {
     "name": "stdout",
     "output_type": "stream",
     "text": [
      "PCA: -5.222222222222221\n",
      "powermeter complete\n",
      "959.6954345703125\n",
      "spectrometer complete\n",
      "n_frames 16\n",
      "Max pixel:  201.0\n",
      "959.6954345703125\n",
      "camera complete\n"
     ]
    },
    {
     "name": "stderr",
     "output_type": "stream",
     "text": [
      "\n",
      "\n",
      " 45%|████▌     | 9/20 [01:43<02:05, 11.42s/it]\u001B[A\u001B[A"
     ]
    },
    {
     "name": "stdout",
     "output_type": "stream",
     "text": [
      "PCA: -5.222222222222221\n",
      "powermeter complete\n",
      "959.6195678710938\n",
      "spectrometer complete\n",
      "n_frames 16\n"
     ]
    },
    {
     "name": "stderr",
     "output_type": "stream",
     "text": [
      "\n",
      "\n"
     ]
    },
    {
     "name": "stdout",
     "output_type": "stream",
     "text": [
      "Max pixel:  219.4375\n",
      "959.6195678710938\n",
      "camera complete\n"
     ]
    },
    {
     "name": "stderr",
     "output_type": "stream",
     "text": [
      " 50%|█████     | 10/20 [01:54<01:54, 11.41s/it]\u001B[A\u001B[A"
     ]
    },
    {
     "name": "stdout",
     "output_type": "stream",
     "text": [
      "PCA: -5.222222222222221\n",
      "powermeter complete\n",
      "959.922607421875\n",
      "spectrometer complete\n",
      "n_frames 16\n"
     ]
    },
    {
     "name": "stderr",
     "output_type": "stream",
     "text": [
      "\n",
      "\n"
     ]
    },
    {
     "name": "stdout",
     "output_type": "stream",
     "text": [
      "Max pixel:  238.25\n",
      "959.922607421875\n",
      "camera complete\n"
     ]
    },
    {
     "name": "stderr",
     "output_type": "stream",
     "text": [
      " 55%|█████▌    | 11/20 [02:06<01:42, 11.44s/it]\u001B[A\u001B[A"
     ]
    },
    {
     "name": "stdout",
     "output_type": "stream",
     "text": [
      "PCA: -5.222222222222221\n",
      "powermeter complete\n",
      "959.6195678710938\n",
      "spectrometer complete\n",
      "n_frames 16\n"
     ]
    },
    {
     "name": "stderr",
     "output_type": "stream",
     "text": [
      "\n",
      "\n"
     ]
    },
    {
     "name": "stdout",
     "output_type": "stream",
     "text": [
      "Max pixel:  248.5625\n",
      "959.6195678710938\n",
      "camera complete\n"
     ]
    },
    {
     "name": "stderr",
     "output_type": "stream",
     "text": [
      " 60%|██████    | 12/20 [02:17<01:31, 11.45s/it]\u001B[A\u001B[A"
     ]
    },
    {
     "name": "stdout",
     "output_type": "stream",
     "text": [
      "PCA: -5.222222222222221\n",
      "powermeter complete\n",
      "959.6954345703125\n",
      "spectrometer complete\n",
      "n_frames 31\n"
     ]
    },
    {
     "name": "stderr",
     "output_type": "stream",
     "text": [
      "\n",
      "\n",
      " 65%|██████▌   | 13/20 [02:28<01:19, 11.41s/it]\u001B[A\u001B[A"
     ]
    },
    {
     "name": "stdout",
     "output_type": "stream",
     "text": [
      "Max pixel:  158.74193548387098\n",
      "959.6954345703125\n",
      "camera complete\n",
      "PCA: -5.222222222222221\n",
      "powermeter complete\n",
      "959.922607421875\n",
      "spectrometer complete\n",
      "n_frames 31\n"
     ]
    },
    {
     "name": "stderr",
     "output_type": "stream",
     "text": [
      "\n",
      "\n",
      " 70%|███████   | 14/20 [02:40<01:08, 11.39s/it]\u001B[A\u001B[A"
     ]
    },
    {
     "name": "stdout",
     "output_type": "stream",
     "text": [
      "Max pixel:  170.0\n",
      "959.922607421875\n",
      "camera complete\n",
      "PCA: -5.222222222222221\n",
      "powermeter complete\n",
      "959.3920288085938\n",
      "spectrometer complete\n",
      "n_frames 31\n"
     ]
    },
    {
     "name": "stderr",
     "output_type": "stream",
     "text": [
      "\n",
      "\n",
      " 75%|███████▌  | 15/20 [02:50<00:55, 11.04s/it]\u001B[A\u001B[A"
     ]
    },
    {
     "name": "stdout",
     "output_type": "stream",
     "text": [
      "Max pixel:  184.41935483870967\n",
      "959.3920288085938\n",
      "camera complete\n",
      "PCA: -5.222222222222221\n",
      "powermeter complete\n",
      "959.6195678710938\n",
      "spectrometer complete\n",
      "n_frames 31\n"
     ]
    },
    {
     "name": "stderr",
     "output_type": "stream",
     "text": [
      "\n",
      "\n",
      " 80%|████████  | 16/20 [03:01<00:44, 11.13s/it]\u001B[A\u001B[A"
     ]
    },
    {
     "name": "stdout",
     "output_type": "stream",
     "text": [
      "Max pixel:  198.1290322580645\n",
      "959.6195678710938\n",
      "camera complete\n",
      "PCA: -5.222222222222221\n",
      "powermeter complete\n",
      "959.3920288085938\n",
      "spectrometer complete\n",
      "n_frames 31\n"
     ]
    },
    {
     "name": "stderr",
     "output_type": "stream",
     "text": [
      "\n",
      "\n",
      " 85%|████████▌ | 17/20 [03:13<00:33, 11.18s/it]\u001B[A\u001B[A"
     ]
    },
    {
     "name": "stdout",
     "output_type": "stream",
     "text": [
      "Max pixel:  210.67741935483872\n",
      "959.3920288085938\n",
      "camera complete\n",
      "PCA: -5.222222222222221\n",
      "powermeter complete\n",
      "958.8603515625\n",
      "spectrometer complete\n",
      "n_frames 31\n"
     ]
    },
    {
     "name": "stderr",
     "output_type": "stream",
     "text": [
      "\n",
      "\n",
      " 90%|█████████ | 18/20 [03:24<00:22, 11.24s/it]\u001B[A\u001B[A"
     ]
    },
    {
     "name": "stdout",
     "output_type": "stream",
     "text": [
      "Max pixel:  228.25806451612902\n",
      "958.8603515625\n",
      "camera complete\n",
      "PCA: -5.222222222222221\n",
      "powermeter complete\n",
      "959.316162109375\n",
      "spectrometer complete\n",
      "n_frames 50\n"
     ]
    },
    {
     "name": "stderr",
     "output_type": "stream",
     "text": [
      "\n",
      "\n",
      " 95%|█████████▌| 19/20 [03:35<00:11, 11.20s/it]\u001B[A\u001B[A"
     ]
    },
    {
     "name": "stdout",
     "output_type": "stream",
     "text": [
      "Max pixel:  199.08\n",
      "959.316162109375\n",
      "camera complete\n",
      "PCA: -5.222222222222221\n",
      "powermeter complete\n",
      "959.240234375\n",
      "spectrometer complete\n",
      "n_frames 50\n"
     ]
    },
    {
     "name": "stderr",
     "output_type": "stream",
     "text": [
      "\n",
      "\n",
      "100%|██████████| 20/20 [03:46<00:00, 11.33s/it]\u001B[A\u001B[A\n",
      "\n",
      " 90%|█████████ | 9/10 [33:38<03:46, 226.90s/it]\u001B[A"
     ]
    },
    {
     "name": "stdout",
     "output_type": "stream",
     "text": [
      "Max pixel:  210.76\n",
      "959.240234375\n",
      "camera complete\n",
      "20240820_091604 20240820_091940\n",
      "-7.0\n",
      "41231\n"
     ]
    },
    {
     "name": "stderr",
     "output_type": "stream",
     "text": [
      "\n",
      "\n",
      "  0%|          | 0/20 [00:00<?, ?it/s]\u001B[A\u001B[A"
     ]
    },
    {
     "name": "stdout",
     "output_type": "stream",
     "text": [
      "PCA: -7.0\n",
      "powermeter complete\n",
      "928.8607177734375\n",
      "spectrometer complete\n",
      "n_frames 4\n",
      "Max pixel:  150.5\n",
      "928.8607177734375\n",
      "camera complete\n"
     ]
    },
    {
     "name": "stderr",
     "output_type": "stream",
     "text": [
      "\n",
      "\n",
      "  5%|▌         | 1/20 [00:11<03:39, 11.53s/it]\u001B[A\u001B[A"
     ]
    },
    {
     "name": "stdout",
     "output_type": "stream",
     "text": [
      "PCA: -7.0\n",
      "powermeter complete\n",
      "928.8607177734375\n",
      "spectrometer complete\n",
      "n_frames 50\n"
     ]
    },
    {
     "name": "stderr",
     "output_type": "stream",
     "text": [
      "\n",
      "\n",
      " 10%|█         | 2/20 [00:22<03:25, 11.41s/it]\u001B[A\u001B[A"
     ]
    },
    {
     "name": "stdout",
     "output_type": "stream",
     "text": [
      "Max pixel:  4.76\n",
      "928.8607177734375\n",
      "camera complete\n",
      "PCA: -7.0\n",
      "powermeter complete\n",
      "929.0309448242188\n",
      "spectrometer complete\n",
      "n_frames 4\n",
      "Max pixel:  204.5\n",
      "929.0309448242188\n",
      "camera complete\n"
     ]
    },
    {
     "name": "stderr",
     "output_type": "stream",
     "text": [
      "\n",
      "\n",
      " 15%|█▌        | 3/20 [00:34<03:15, 11.52s/it]\u001B[A\u001B[A"
     ]
    },
    {
     "name": "stdout",
     "output_type": "stream",
     "text": [
      "PCA: -7.0\n",
      "powermeter complete\n",
      "929.0309448242188\n",
      "spectrometer complete\n",
      "n_frames 50\n"
     ]
    },
    {
     "name": "stderr",
     "output_type": "stream",
     "text": [
      "\n",
      "\n",
      " 20%|██        | 4/20 [00:45<03:03, 11.49s/it]\u001B[A\u001B[A"
     ]
    },
    {
     "name": "stdout",
     "output_type": "stream",
     "text": [
      "Max pixel:  6.08\n",
      "929.0309448242188\n",
      "camera complete\n",
      "PCA: -7.0\n",
      "powermeter complete\n",
      "960.7537841796875\n",
      "spectrometer complete\n",
      "n_frames 8\n",
      "Max pixel:  193.75\n",
      "960.7537841796875\n",
      "camera complete\n"
     ]
    },
    {
     "name": "stderr",
     "output_type": "stream",
     "text": [
      "\n",
      "\n",
      " 25%|██▌       | 5/20 [00:57<02:52, 11.48s/it]\u001B[A\u001B[A"
     ]
    },
    {
     "name": "stdout",
     "output_type": "stream",
     "text": [
      "PCA: -7.0\n",
      "powermeter complete\n",
      "960.8292236328125\n",
      "spectrometer complete\n",
      "n_frames 50\n"
     ]
    },
    {
     "name": "stderr",
     "output_type": "stream",
     "text": [
      "\n",
      "\n",
      " 30%|███       | 6/20 [01:08<02:39, 11.43s/it]\u001B[A\u001B[A"
     ]
    },
    {
     "name": "stdout",
     "output_type": "stream",
     "text": [
      "Max pixel:  4.24\n",
      "960.8292236328125\n",
      "camera complete\n",
      "PCA: -7.0\n",
      "powermeter complete\n",
      "960.7537841796875\n",
      "spectrometer complete\n",
      "n_frames 8\n",
      "Max pixel:  242.875\n",
      "960.7537841796875\n",
      "camera complete\n"
     ]
    },
    {
     "name": "stderr",
     "output_type": "stream",
     "text": [
      "\n",
      "\n",
      " 35%|███▌      | 7/20 [01:20<02:29, 11.46s/it]\u001B[A\u001B[A"
     ]
    },
    {
     "name": "stdout",
     "output_type": "stream",
     "text": [
      "PCA: -7.0\n",
      "powermeter complete\n",
      "960.7537841796875\n",
      "spectrometer complete\n",
      "n_frames 16\n"
     ]
    },
    {
     "name": "stderr",
     "output_type": "stream",
     "text": [
      "\n",
      "\n"
     ]
    },
    {
     "name": "stdout",
     "output_type": "stream",
     "text": [
      "Max pixel:  172.0625\n",
      "960.7537841796875\n",
      "camera complete\n"
     ]
    },
    {
     "name": "stderr",
     "output_type": "stream",
     "text": [
      " 40%|████      | 8/20 [01:31<02:17, 11.45s/it]\u001B[A\u001B[A"
     ]
    },
    {
     "name": "stdout",
     "output_type": "stream",
     "text": [
      "PCA: -7.0\n",
      "powermeter complete\n",
      "960.3764038085938\n",
      "spectrometer complete\n",
      "n_frames 16\n"
     ]
    },
    {
     "name": "stderr",
     "output_type": "stream",
     "text": [
      "\n",
      "\n"
     ]
    },
    {
     "name": "stdout",
     "output_type": "stream",
     "text": [
      "Max pixel:  193.4375\n",
      "960.3764038085938\n",
      "camera complete\n"
     ]
    },
    {
     "name": "stderr",
     "output_type": "stream",
     "text": [
      " 45%|████▌     | 9/20 [01:43<02:05, 11.45s/it]\u001B[A\u001B[A"
     ]
    },
    {
     "name": "stdout",
     "output_type": "stream",
     "text": [
      "PCA: -7.0\n",
      "powermeter complete\n",
      "960.073974609375\n",
      "spectrometer complete\n",
      "n_frames 16\n"
     ]
    },
    {
     "name": "stderr",
     "output_type": "stream",
     "text": [
      "\n",
      "\n"
     ]
    },
    {
     "name": "stdout",
     "output_type": "stream",
     "text": [
      "Max pixel:  214.4375\n",
      "960.073974609375\n",
      "camera complete\n"
     ]
    },
    {
     "name": "stderr",
     "output_type": "stream",
     "text": [
      " 50%|█████     | 10/20 [01:54<01:54, 11.42s/it]\u001B[A\u001B[A"
     ]
    },
    {
     "name": "stdout",
     "output_type": "stream",
     "text": [
      "PCA: -7.0\n",
      "powermeter complete\n",
      "960.073974609375\n",
      "spectrometer complete\n",
      "n_frames 16\n"
     ]
    },
    {
     "name": "stderr",
     "output_type": "stream",
     "text": [
      "\n",
      "\n"
     ]
    },
    {
     "name": "stdout",
     "output_type": "stream",
     "text": [
      "Max pixel:  233.0625\n",
      "960.073974609375\n",
      "camera complete\n"
     ]
    },
    {
     "name": "stderr",
     "output_type": "stream",
     "text": [
      " 55%|█████▌    | 11/20 [02:05<01:42, 11.42s/it]\u001B[A\u001B[A"
     ]
    },
    {
     "name": "stdout",
     "output_type": "stream",
     "text": [
      "PCA: -7.0\n",
      "powermeter complete\n",
      "960.073974609375\n",
      "spectrometer complete\n",
      "n_frames 16\n",
      "Max pixel:  248.3125\n",
      "960.073974609375\n",
      "camera complete\n"
     ]
    },
    {
     "name": "stderr",
     "output_type": "stream",
     "text": [
      "\n",
      "\n",
      " 60%|██████    | 12/20 [02:17<01:31, 11.42s/it]\u001B[A\u001B[A"
     ]
    },
    {
     "name": "stdout",
     "output_type": "stream",
     "text": [
      "PCA: -7.0\n",
      "powermeter complete\n",
      "959.922607421875\n",
      "spectrometer complete\n",
      "n_frames 31\n"
     ]
    },
    {
     "name": "stderr",
     "output_type": "stream",
     "text": [
      "\n",
      "\n",
      " 65%|██████▌   | 13/20 [02:28<01:19, 11.40s/it]\u001B[A\u001B[A"
     ]
    },
    {
     "name": "stdout",
     "output_type": "stream",
     "text": [
      "Max pixel:  157.93548387096774\n",
      "959.922607421875\n",
      "camera complete\n",
      "PCA: -7.0\n",
      "powermeter complete\n",
      "959.6195678710938\n",
      "spectrometer complete\n",
      "n_frames 31\n"
     ]
    },
    {
     "name": "stderr",
     "output_type": "stream",
     "text": [
      "\n",
      "\n",
      " 70%|███████   | 14/20 [02:40<01:08, 11.39s/it]\u001B[A\u001B[A"
     ]
    },
    {
     "name": "stdout",
     "output_type": "stream",
     "text": [
      "Max pixel:  170.48387096774192\n",
      "959.6195678710938\n",
      "camera complete\n",
      "PCA: -7.0\n",
      "powermeter complete\n",
      "959.6195678710938\n",
      "spectrometer complete\n",
      "n_frames 16\n",
      "Max pixel:  250.625\n",
      "959.6195678710938\n",
      "camera complete\n"
     ]
    },
    {
     "name": "stderr",
     "output_type": "stream",
     "text": [
      "\n",
      "\n",
      " 75%|███████▌  | 15/20 [02:51<00:57, 11.42s/it]\u001B[A\u001B[A"
     ]
    },
    {
     "name": "stdout",
     "output_type": "stream",
     "text": [
      "PCA: -7.0\n",
      "powermeter complete\n",
      "959.922607421875\n",
      "spectrometer complete\n",
      "n_frames 31\n"
     ]
    },
    {
     "name": "stderr",
     "output_type": "stream",
     "text": [
      "\n",
      "\n",
      " 80%|████████  | 16/20 [03:02<00:45, 11.42s/it]\u001B[A\u001B[A"
     ]
    },
    {
     "name": "stdout",
     "output_type": "stream",
     "text": [
      "Max pixel:  192.96774193548387\n",
      "959.922607421875\n",
      "camera complete\n",
      "PCA: -7.0\n",
      "powermeter complete\n",
      "959.922607421875\n",
      "spectrometer complete\n",
      "n_frames 31\n"
     ]
    },
    {
     "name": "stderr",
     "output_type": "stream",
     "text": [
      "\n",
      "\n",
      " 85%|████████▌ | 17/20 [03:14<00:34, 11.38s/it]\u001B[A\u001B[A"
     ]
    },
    {
     "name": "stdout",
     "output_type": "stream",
     "text": [
      "Max pixel:  205.09677419354838\n",
      "959.922607421875\n",
      "camera complete\n",
      "PCA: -7.0\n",
      "powermeter complete\n",
      "959.0123901367188\n",
      "spectrometer complete\n",
      "n_frames 31\n"
     ]
    },
    {
     "name": "stderr",
     "output_type": "stream",
     "text": [
      "\n",
      "\n",
      " 90%|█████████ | 18/20 [03:25<00:22, 11.35s/it]\u001B[A\u001B[A"
     ]
    },
    {
     "name": "stdout",
     "output_type": "stream",
     "text": [
      "Max pixel:  223.09677419354838\n",
      "959.0123901367188\n",
      "camera complete\n",
      "PCA: -7.0\n",
      "powermeter complete\n",
      "959.3920288085938\n",
      "spectrometer complete\n",
      "n_frames 50\n"
     ]
    },
    {
     "name": "stderr",
     "output_type": "stream",
     "text": [
      "\n",
      "\n",
      " 95%|█████████▌| 19/20 [03:36<00:11, 11.09s/it]\u001B[A\u001B[A"
     ]
    },
    {
     "name": "stdout",
     "output_type": "stream",
     "text": [
      "Max pixel:  197.86\n",
      "959.3920288085938\n",
      "camera complete\n",
      "PCA: -7.0\n",
      "powermeter complete\n",
      "959.3920288085938\n",
      "spectrometer complete\n",
      "n_frames 50\n"
     ]
    },
    {
     "name": "stderr",
     "output_type": "stream",
     "text": [
      "\n",
      "\n",
      "100%|██████████| 20/20 [03:46<00:00, 11.33s/it]\u001B[A\u001B[A\n",
      "\n",
      "100%|██████████| 10/10 [37:25<00:00, 224.52s/it]\u001B[A\n",
      " 30%|███       | 3/10 [1:55:08<4:28:33, 2301.94s/it]"
     ]
    },
    {
     "name": "stdout",
     "output_type": "stream",
     "text": [
      "Max pixel:  8.26\n",
      "959.3920288085938\n",
      "camera complete\n",
      "20240820_091951 20240820_092327\n",
      "-7.0\n",
      "41231\n",
      "-5.222222222222221\n",
      "41231\n",
      "-3.444444444444443\n",
      "41231\n",
      "-1.666666666666666\n",
      "41231\n",
      "0.11111111111111072\n",
      "41231\n",
      "1.8888888888888893\n",
      "41231\n",
      "3.666666666666667\n",
      "41231\n",
      "5.444444444444445\n",
      "41231\n",
      "7.222222222222222\n",
      "41231\n",
      "9.0\n",
      "41231\n"
     ]
    },
    {
     "name": "stderr",
     "output_type": "stream",
     "text": [
      "\n",
      "  0%|          | 0/10 [00:00<?, ?it/s]\u001B[A"
     ]
    },
    {
     "name": "stdout",
     "output_type": "stream",
     "text": [
      "9.0\n",
      "41231\n"
     ]
    },
    {
     "name": "stderr",
     "output_type": "stream",
     "text": [
      "\n",
      "\n",
      "  0%|          | 0/20 [00:00<?, ?it/s]\u001B[A\u001B[A"
     ]
    },
    {
     "name": "stdout",
     "output_type": "stream",
     "text": [
      "PCA: 9.0\n",
      "powermeter complete\n",
      "952.0706176757812\n",
      "spectrometer complete\n",
      "n_frames 4\n",
      "Max pixel:  150.25\n",
      "952.0706176757812\n",
      "camera complete\n"
     ]
    },
    {
     "name": "stderr",
     "output_type": "stream",
     "text": [
      "\n",
      "\n",
      "  5%|▌         | 1/20 [00:11<03:38, 11.51s/it]\u001B[A\u001B[A"
     ]
    },
    {
     "name": "stdout",
     "output_type": "stream",
     "text": [
      "PCA: 9.0\n",
      "powermeter complete\n",
      "951.3654174804688\n",
      "spectrometer complete\n",
      "n_frames 50\n"
     ]
    },
    {
     "name": "stderr",
     "output_type": "stream",
     "text": [
      "\n",
      "\n",
      " 10%|█         | 2/20 [00:22<03:25, 11.40s/it]\u001B[A\u001B[A"
     ]
    },
    {
     "name": "stdout",
     "output_type": "stream",
     "text": [
      "Max pixel:  10.52\n",
      "951.3654174804688\n",
      "camera complete\n",
      "PCA: 9.0\n",
      "powermeter complete\n",
      "951.286865234375\n",
      "spectrometer complete\n",
      "n_frames 50\n"
     ]
    },
    {
     "name": "stderr",
     "output_type": "stream",
     "text": [
      "\n",
      "\n",
      " 15%|█▌        | 3/20 [00:33<03:05, 10.90s/it]\u001B[A\u001B[A"
     ]
    },
    {
     "name": "stdout",
     "output_type": "stream",
     "text": [
      "Max pixel:  41.16\n",
      "951.286865234375\n",
      "camera complete\n",
      "PCA: 9.0\n",
      "powermeter complete\n",
      "951.6791381835938\n",
      "spectrometer complete\n",
      "n_frames 50\n"
     ]
    },
    {
     "name": "stderr",
     "output_type": "stream",
     "text": [
      "\n",
      "\n",
      " 20%|██        | 4/20 [00:52<03:47, 14.24s/it]\u001B[A\u001B[A"
     ]
    },
    {
     "name": "stdout",
     "output_type": "stream",
     "text": [
      "Max pixel:  203.22\n",
      "951.6791381835938\n",
      "camera complete\n",
      "PCA: 9.0\n",
      "powermeter complete\n",
      "951.5222778320312\n",
      "spectrometer complete\n",
      "n_frames 50\n"
     ]
    },
    {
     "name": "stderr",
     "output_type": "stream",
     "text": [
      "\n",
      "\n",
      " 25%|██▌       | 5/20 [01:02<03:12, 12.86s/it]\u001B[A\u001B[A"
     ]
    },
    {
     "name": "stdout",
     "output_type": "stream",
     "text": [
      "Max pixel:  143.44\n",
      "951.5222778320312\n",
      "camera complete\n",
      "PCA: 9.0\n",
      "powermeter complete\n",
      "951.44384765625\n",
      "spectrometer complete\n",
      "n_frames 50\n"
     ]
    },
    {
     "name": "stderr",
     "output_type": "stream",
     "text": [
      "\n",
      "\n",
      " 30%|███       | 6/20 [01:13<02:48, 12.02s/it]\u001B[A\u001B[A"
     ]
    },
    {
     "name": "stdout",
     "output_type": "stream",
     "text": [
      "Max pixel:  195.3\n",
      "951.44384765625\n",
      "camera complete\n",
      "PCA: 9.0\n",
      "powermeter complete\n",
      "951.5222778320312\n",
      "spectrometer complete\n",
      "n_frames 50\n"
     ]
    },
    {
     "name": "stderr",
     "output_type": "stream",
     "text": [
      "\n",
      "\n",
      " 35%|███▌      | 7/20 [01:23<02:29, 11.51s/it]\u001B[A\u001B[A"
     ]
    },
    {
     "name": "stdout",
     "output_type": "stream",
     "text": [
      "Max pixel:  80.58\n",
      "951.5222778320312\n",
      "camera complete\n",
      "PCA: 9.0\n",
      "powermeter complete\n",
      "951.6007080078125\n",
      "spectrometer complete\n",
      "n_frames 50\n"
     ]
    },
    {
     "name": "stderr",
     "output_type": "stream",
     "text": [
      "\n",
      "\n",
      " 40%|████      | 8/20 [01:34<02:13, 11.16s/it]\u001B[A\u001B[A"
     ]
    },
    {
     "name": "stdout",
     "output_type": "stream",
     "text": [
      "Max pixel:  191.76\n",
      "951.6007080078125\n",
      "camera complete\n",
      "PCA: 9.0\n",
      "powermeter complete\n",
      "951.1298828125\n",
      "spectrometer complete\n",
      "n_frames 50\n"
     ]
    },
    {
     "name": "stderr",
     "output_type": "stream",
     "text": [
      "\n",
      "\n",
      " 45%|████▌     | 9/20 [01:44<02:00, 10.93s/it]\u001B[A\u001B[A"
     ]
    },
    {
     "name": "stdout",
     "output_type": "stream",
     "text": [
      "Max pixel:  176.1\n",
      "951.1298828125\n",
      "camera complete\n",
      "PCA: 9.0\n",
      "powermeter complete\n",
      "951.0513305664062\n",
      "spectrometer complete\n",
      "n_frames 50\n"
     ]
    },
    {
     "name": "stderr",
     "output_type": "stream",
     "text": [
      "\n",
      "\n",
      " 50%|█████     | 10/20 [01:55<01:47, 10.77s/it]\u001B[A\u001B[A"
     ]
    },
    {
     "name": "stdout",
     "output_type": "stream",
     "text": [
      "Max pixel:  118.3\n",
      "951.0513305664062\n",
      "camera complete\n",
      "PCA: 9.0\n",
      "powermeter complete\n",
      "951.1298828125\n",
      "spectrometer complete\n",
      "n_frames 50\n"
     ]
    },
    {
     "name": "stderr",
     "output_type": "stream",
     "text": [
      "\n",
      "\n",
      " 55%|█████▌    | 11/20 [02:05<01:35, 10.66s/it]\u001B[A\u001B[A"
     ]
    },
    {
     "name": "stdout",
     "output_type": "stream",
     "text": [
      "Max pixel:  190.66\n",
      "951.1298828125\n",
      "camera complete\n",
      "PCA: 9.0\n",
      "powermeter complete\n",
      "950.8154296875\n",
      "spectrometer complete\n",
      "n_frames 50\n"
     ]
    },
    {
     "name": "stderr",
     "output_type": "stream",
     "text": [
      "\n",
      "\n",
      " 60%|██████    | 12/20 [02:15<01:24, 10.58s/it]\u001B[A\u001B[A"
     ]
    },
    {
     "name": "stdout",
     "output_type": "stream",
     "text": [
      "Max pixel:  132.72\n",
      "950.8154296875\n",
      "camera complete\n",
      "PCA: 9.0\n",
      "powermeter complete\n",
      "950.8941040039062\n",
      "spectrometer complete\n",
      "n_frames 50\n"
     ]
    },
    {
     "name": "stderr",
     "output_type": "stream",
     "text": [
      "\n",
      "\n",
      " 65%|██████▌   | 13/20 [02:26<01:13, 10.52s/it]\u001B[A\u001B[A"
     ]
    },
    {
     "name": "stdout",
     "output_type": "stream",
     "text": [
      "Max pixel:  101.1\n",
      "950.8941040039062\n",
      "camera complete\n",
      "PCA: 9.0\n",
      "powermeter complete\n",
      "950.73681640625\n",
      "spectrometer complete\n",
      "n_frames 50\n"
     ]
    },
    {
     "name": "stderr",
     "output_type": "stream",
     "text": [
      "\n",
      "\n",
      " 70%|███████   | 14/20 [02:36<01:02, 10.50s/it]\u001B[A\u001B[A"
     ]
    },
    {
     "name": "stdout",
     "output_type": "stream",
     "text": [
      "Max pixel:  115.78\n",
      "950.73681640625\n",
      "camera complete\n",
      "PCA: 9.0\n",
      "powermeter complete\n",
      "950.5794067382812\n",
      "spectrometer complete\n",
      "n_frames 50\n"
     ]
    },
    {
     "name": "stderr",
     "output_type": "stream",
     "text": [
      "\n",
      "\n",
      " 75%|███████▌  | 15/20 [02:47<00:52, 10.47s/it]\u001B[A\u001B[A"
     ]
    },
    {
     "name": "stdout",
     "output_type": "stream",
     "text": [
      "Max pixel:  80.94\n",
      "950.5794067382812\n",
      "camera complete\n",
      "PCA: 9.0\n",
      "powermeter complete\n",
      "950.5794067382812\n",
      "spectrometer complete\n",
      "n_frames 50\n"
     ]
    },
    {
     "name": "stderr",
     "output_type": "stream",
     "text": [
      "\n",
      "\n",
      " 80%|████████  | 16/20 [02:57<00:41, 10.45s/it]\u001B[A\u001B[A"
     ]
    },
    {
     "name": "stdout",
     "output_type": "stream",
     "text": [
      "Max pixel:  132.8\n",
      "950.5794067382812\n",
      "camera complete\n",
      "PCA: 9.0\n",
      "powermeter complete\n",
      "950.3432006835938\n",
      "spectrometer complete\n",
      "n_frames 50\n"
     ]
    },
    {
     "name": "stderr",
     "output_type": "stream",
     "text": [
      "\n",
      "\n",
      " 85%|████████▌ | 17/20 [03:07<00:31, 10.45s/it]\u001B[A\u001B[A"
     ]
    },
    {
     "name": "stdout",
     "output_type": "stream",
     "text": [
      "Max pixel:  74.82\n",
      "950.3432006835938\n",
      "camera complete\n",
      "PCA: 9.0\n",
      "powermeter complete\n",
      "950.3432006835938\n",
      "spectrometer complete\n",
      "n_frames 50\n"
     ]
    },
    {
     "name": "stderr",
     "output_type": "stream",
     "text": [
      "\n",
      "\n",
      " 90%|█████████ | 18/20 [03:18<00:21, 10.56s/it]\u001B[A\u001B[A"
     ]
    },
    {
     "name": "stdout",
     "output_type": "stream",
     "text": [
      "Max pixel:  66.98\n",
      "950.3432006835938\n",
      "camera complete\n",
      "PCA: 9.0\n",
      "powermeter complete\n",
      "950.3432006835938\n",
      "spectrometer complete\n",
      "n_frames 50\n"
     ]
    },
    {
     "name": "stderr",
     "output_type": "stream",
     "text": [
      "\n",
      "\n",
      " 95%|█████████▌| 19/20 [03:29<00:10, 10.61s/it]\u001B[A\u001B[A"
     ]
    },
    {
     "name": "stdout",
     "output_type": "stream",
     "text": [
      "Max pixel:  126.04\n",
      "950.3432006835938\n",
      "camera complete\n",
      "PCA: 9.0\n",
      "powermeter complete\n",
      "950.1066284179688\n",
      "spectrometer complete\n",
      "n_frames 50\n"
     ]
    },
    {
     "name": "stderr",
     "output_type": "stream",
     "text": [
      "\n",
      "\n",
      "100%|██████████| 20/20 [03:40<00:00, 11.01s/it]\u001B[A\u001B[A\n",
      "\n",
      " 10%|█         | 1/10 [03:40<33:03, 220.40s/it]\u001B[A"
     ]
    },
    {
     "name": "stdout",
     "output_type": "stream",
     "text": [
      "Max pixel:  175.74\n",
      "950.1066284179688\n",
      "camera complete\n",
      "20240820_092431 20240820_092801\n",
      "7.222222222222222\n",
      "41231\n"
     ]
    },
    {
     "name": "stderr",
     "output_type": "stream",
     "text": [
      "\n",
      "\n",
      "  0%|          | 0/20 [00:00<?, ?it/s]\u001B[A\u001B[A"
     ]
    },
    {
     "name": "stdout",
     "output_type": "stream",
     "text": [
      "PCA: 7.222222222222222\n",
      "powermeter complete\n",
      "952.0706176757812\n",
      "spectrometer complete\n",
      "n_frames 4\n",
      "Max pixel:  149.25\n",
      "952.0706176757812\n",
      "camera complete\n"
     ]
    },
    {
     "name": "stderr",
     "output_type": "stream",
     "text": [
      "\n",
      "\n",
      "  5%|▌         | 1/20 [00:11<03:42, 11.72s/it]\u001B[A\u001B[A"
     ]
    },
    {
     "name": "stdout",
     "output_type": "stream",
     "text": [
      "PCA: 7.222222222222222\n",
      "powermeter complete\n",
      "951.8357543945312\n",
      "spectrometer complete\n",
      "n_frames 50\n"
     ]
    },
    {
     "name": "stderr",
     "output_type": "stream",
     "text": [
      "\n",
      "\n",
      " 10%|█         | 2/20 [00:23<03:27, 11.56s/it]\u001B[A\u001B[A"
     ]
    },
    {
     "name": "stdout",
     "output_type": "stream",
     "text": [
      "Max pixel:  10.22\n",
      "951.8357543945312\n",
      "camera complete\n",
      "PCA: 7.222222222222222\n",
      "powermeter complete\n",
      "951.6007080078125\n",
      "spectrometer complete\n",
      "n_frames 50\n"
     ]
    },
    {
     "name": "stderr",
     "output_type": "stream",
     "text": [
      "\n",
      "\n",
      " 15%|█▌        | 3/20 [00:33<03:06, 10.99s/it]\u001B[A\u001B[A"
     ]
    },
    {
     "name": "stdout",
     "output_type": "stream",
     "text": [
      "Max pixel:  4.24\n",
      "951.6007080078125\n",
      "camera complete\n",
      "PCA: 7.222222222222222\n",
      "powermeter complete\n",
      "951.7574462890625\n",
      "spectrometer complete\n",
      "n_frames 50\n"
     ]
    },
    {
     "name": "stderr",
     "output_type": "stream",
     "text": [
      "\n",
      "\n",
      " 20%|██        | 4/20 [00:44<02:55, 10.96s/it]\u001B[A\u001B[A"
     ]
    },
    {
     "name": "stdout",
     "output_type": "stream",
     "text": [
      "Max pixel:  248.88\n",
      "951.7574462890625\n",
      "camera complete\n",
      "PCA: 7.222222222222222\n",
      "powermeter complete\n",
      "951.7574462890625\n",
      "spectrometer complete\n",
      "n_frames 50\n"
     ]
    },
    {
     "name": "stderr",
     "output_type": "stream",
     "text": [
      "\n",
      "\n",
      " 25%|██▌       | 5/20 [01:03<03:29, 13.97s/it]\u001B[A\u001B[A"
     ]
    },
    {
     "name": "stdout",
     "output_type": "stream",
     "text": [
      "Max pixel:  235.44\n",
      "951.7574462890625\n",
      "camera complete\n",
      "PCA: 7.222222222222222\n",
      "powermeter complete\n",
      "951.6007080078125\n",
      "spectrometer complete\n",
      "n_frames 50\n"
     ]
    },
    {
     "name": "stderr",
     "output_type": "stream",
     "text": [
      "\n",
      "\n",
      " 30%|███       | 6/20 [01:14<02:59, 12.82s/it]\u001B[A\u001B[A"
     ]
    },
    {
     "name": "stdout",
     "output_type": "stream",
     "text": [
      "Max pixel:  209.64\n",
      "951.6007080078125\n",
      "camera complete\n",
      "PCA: 7.222222222222222\n",
      "powermeter complete\n",
      "951.44384765625\n",
      "spectrometer complete\n",
      "n_frames 50\n"
     ]
    },
    {
     "name": "stderr",
     "output_type": "stream",
     "text": [
      "\n",
      "\n",
      " 35%|███▌      | 7/20 [01:24<02:36, 12.06s/it]\u001B[A\u001B[A"
     ]
    },
    {
     "name": "stdout",
     "output_type": "stream",
     "text": [
      "Max pixel:  157.32\n",
      "951.44384765625\n",
      "camera complete\n",
      "PCA: 7.222222222222222\n",
      "powermeter complete\n",
      "951.3654174804688\n",
      "spectrometer complete\n",
      "n_frames 50\n"
     ]
    },
    {
     "name": "stderr",
     "output_type": "stream",
     "text": [
      "\n",
      "\n",
      " 40%|████      | 8/20 [01:35<02:18, 11.53s/it]\u001B[A\u001B[A"
     ]
    },
    {
     "name": "stdout",
     "output_type": "stream",
     "text": [
      "Max pixel:  115.18\n",
      "951.3654174804688\n",
      "camera complete\n",
      "PCA: 7.222222222222222\n",
      "powermeter complete\n",
      "951.44384765625\n",
      "spectrometer complete\n",
      "n_frames 50\n"
     ]
    },
    {
     "name": "stderr",
     "output_type": "stream",
     "text": [
      "\n",
      "\n",
      " 45%|████▌     | 9/20 [01:45<02:02, 11.18s/it]\u001B[A\u001B[A"
     ]
    },
    {
     "name": "stdout",
     "output_type": "stream",
     "text": [
      "Max pixel:  165.3\n",
      "951.44384765625\n",
      "camera complete\n",
      "PCA: 7.222222222222222\n",
      "powermeter complete\n",
      "951.6791381835938\n",
      "spectrometer complete\n",
      "n_frames 50\n"
     ]
    },
    {
     "name": "stderr",
     "output_type": "stream",
     "text": [
      "\n",
      "\n",
      " 50%|█████     | 10/20 [01:56<01:49, 10.96s/it]\u001B[A\u001B[A"
     ]
    },
    {
     "name": "stdout",
     "output_type": "stream",
     "text": [
      "Max pixel:  109.04\n",
      "951.6791381835938\n",
      "camera complete\n",
      "PCA: 7.222222222222222\n",
      "powermeter complete\n",
      "951.2083740234375\n",
      "spectrometer complete\n",
      "n_frames 50\n"
     ]
    },
    {
     "name": "stderr",
     "output_type": "stream",
     "text": [
      "\n",
      "\n",
      " 55%|█████▌    | 11/20 [02:06<01:37, 10.79s/it]\u001B[A\u001B[A"
     ]
    },
    {
     "name": "stdout",
     "output_type": "stream",
     "text": [
      "Max pixel:  57.04\n",
      "951.2083740234375\n",
      "camera complete\n",
      "PCA: 7.222222222222222\n",
      "powermeter complete\n",
      "951.6007080078125\n",
      "spectrometer complete\n",
      "n_frames 50\n"
     ]
    },
    {
     "name": "stderr",
     "output_type": "stream",
     "text": [
      "\n",
      "\n",
      " 60%|██████    | 12/20 [02:16<01:25, 10.66s/it]\u001B[A\u001B[A"
     ]
    },
    {
     "name": "stdout",
     "output_type": "stream",
     "text": [
      "Max pixel:  206.94\n",
      "951.6007080078125\n",
      "camera complete\n",
      "PCA: 7.222222222222222\n",
      "powermeter complete\n",
      "951.6791381835938\n",
      "spectrometer complete\n",
      "n_frames 50\n"
     ]
    },
    {
     "name": "stderr",
     "output_type": "stream",
     "text": [
      "\n",
      "\n",
      " 65%|██████▌   | 13/20 [02:27<01:14, 10.58s/it]\u001B[A\u001B[A"
     ]
    },
    {
     "name": "stdout",
     "output_type": "stream",
     "text": [
      "Max pixel:  246.22\n",
      "951.6791381835938\n",
      "camera complete\n",
      "PCA: 7.222222222222222\n",
      "powermeter complete\n",
      "951.3654174804688\n",
      "spectrometer complete\n",
      "n_frames 50\n"
     ]
    },
    {
     "name": "stderr",
     "output_type": "stream",
     "text": [
      "\n",
      "\n",
      " 70%|███████   | 14/20 [02:37<01:03, 10.54s/it]\u001B[A\u001B[A"
     ]
    },
    {
     "name": "stdout",
     "output_type": "stream",
     "text": [
      "Max pixel:  191.24\n",
      "951.3654174804688\n",
      "camera complete\n",
      "PCA: 7.222222222222222\n",
      "powermeter complete\n",
      "951.286865234375\n",
      "spectrometer complete\n",
      "n_frames 50\n"
     ]
    },
    {
     "name": "stderr",
     "output_type": "stream",
     "text": [
      "\n",
      "\n",
      " 75%|███████▌  | 15/20 [02:48<00:52, 10.50s/it]\u001B[A\u001B[A"
     ]
    },
    {
     "name": "stdout",
     "output_type": "stream",
     "text": [
      "Max pixel:  69.44\n",
      "951.286865234375\n",
      "camera complete\n",
      "PCA: 7.222222222222222\n",
      "powermeter complete\n",
      "951.2083740234375\n",
      "spectrometer complete\n",
      "n_frames 50\n"
     ]
    },
    {
     "name": "stderr",
     "output_type": "stream",
     "text": [
      "\n",
      "\n",
      " 80%|████████  | 16/20 [02:58<00:41, 10.49s/it]\u001B[A\u001B[A"
     ]
    },
    {
     "name": "stdout",
     "output_type": "stream",
     "text": [
      "Max pixel:  123.48\n",
      "951.2083740234375\n",
      "camera complete\n",
      "PCA: 7.222222222222222\n",
      "powermeter complete\n",
      "951.6791381835938\n",
      "spectrometer complete\n",
      "n_frames 50\n"
     ]
    },
    {
     "name": "stderr",
     "output_type": "stream",
     "text": [
      "\n",
      "\n",
      " 85%|████████▌ | 17/20 [03:08<00:31, 10.47s/it]\u001B[A\u001B[A"
     ]
    },
    {
     "name": "stdout",
     "output_type": "stream",
     "text": [
      "Max pixel:  127.72\n",
      "951.6791381835938\n",
      "camera complete\n",
      "PCA: 7.222222222222222\n",
      "powermeter complete\n",
      "951.286865234375\n",
      "spectrometer complete\n",
      "n_frames 50\n"
     ]
    },
    {
     "name": "stderr",
     "output_type": "stream",
     "text": [
      "\n",
      "\n",
      " 90%|█████████ | 18/20 [03:19<00:20, 10.49s/it]\u001B[A\u001B[A"
     ]
    },
    {
     "name": "stdout",
     "output_type": "stream",
     "text": [
      "Max pixel:  223.18\n",
      "951.286865234375\n",
      "camera complete\n",
      "PCA: 7.222222222222222\n",
      "powermeter complete\n",
      "951.2083740234375\n",
      "spectrometer complete\n",
      "n_frames 50\n"
     ]
    },
    {
     "name": "stderr",
     "output_type": "stream",
     "text": [
      "\n",
      "\n",
      " 95%|█████████▌| 19/20 [03:29<00:10, 10.46s/it]\u001B[A\u001B[A"
     ]
    },
    {
     "name": "stdout",
     "output_type": "stream",
     "text": [
      "Max pixel:  205.6\n",
      "951.2083740234375\n",
      "camera complete\n",
      "PCA: 7.222222222222222\n",
      "powermeter complete\n",
      "951.1298828125\n",
      "spectrometer complete\n",
      "n_frames 50\n"
     ]
    },
    {
     "name": "stderr",
     "output_type": "stream",
     "text": [
      "\n",
      "\n",
      "100%|██████████| 20/20 [03:40<00:00, 11.02s/it]\u001B[A\u001B[A\n",
      "\n",
      " 20%|██        | 2/10 [07:20<29:23, 220.44s/it]\u001B[A"
     ]
    },
    {
     "name": "stdout",
     "output_type": "stream",
     "text": [
      "Max pixel:  217.36\n",
      "951.1298828125\n",
      "camera complete\n",
      "20240820_092812 20240820_093142\n",
      "5.444444444444445\n",
      "41231\n"
     ]
    },
    {
     "name": "stderr",
     "output_type": "stream",
     "text": [
      "\n",
      "\n",
      "  0%|          | 0/20 [00:00<?, ?it/s]\u001B[A\u001B[A"
     ]
    },
    {
     "name": "stdout",
     "output_type": "stream",
     "text": [
      "PCA: 5.444444444444445\n",
      "powermeter complete\n",
      "952.8519897460938\n",
      "spectrometer complete\n",
      "n_frames 4\n",
      "Max pixel:  150.5\n",
      "952.8519897460938\n",
      "camera complete\n"
     ]
    },
    {
     "name": "stderr",
     "output_type": "stream",
     "text": [
      "\n",
      "\n",
      "  5%|▌         | 1/20 [00:11<03:40, 11.63s/it]\u001B[A\u001B[A"
     ]
    },
    {
     "name": "stdout",
     "output_type": "stream",
     "text": [
      "PCA: 5.444444444444445\n",
      "powermeter complete\n",
      "952.77392578125\n",
      "spectrometer complete\n",
      "n_frames 50\n"
     ]
    },
    {
     "name": "stderr",
     "output_type": "stream",
     "text": [
      "\n",
      "\n",
      " 10%|█         | 2/20 [00:23<03:27, 11.53s/it]\u001B[A\u001B[A"
     ]
    },
    {
     "name": "stdout",
     "output_type": "stream",
     "text": [
      "Max pixel:  5.5\n",
      "952.77392578125\n",
      "camera complete\n",
      "PCA: 5.444444444444445\n",
      "powermeter complete\n",
      "952.77392578125\n",
      "spectrometer complete\n",
      "n_frames 8\n",
      "Max pixel:  172.875\n",
      "952.77392578125\n",
      "camera complete\n"
     ]
    },
    {
     "name": "stderr",
     "output_type": "stream",
     "text": [
      "\n",
      "\n",
      " 15%|█▌        | 3/20 [00:34<03:15, 11.52s/it]\u001B[A\u001B[A"
     ]
    },
    {
     "name": "stdout",
     "output_type": "stream",
     "text": [
      "PCA: 5.444444444444445\n",
      "powermeter complete\n",
      "952.6959228515625\n",
      "spectrometer complete\n",
      "n_frames 50\n"
     ]
    },
    {
     "name": "stderr",
     "output_type": "stream",
     "text": [
      "\n",
      "\n",
      " 20%|██        | 4/20 [00:45<02:58, 11.18s/it]\u001B[A\u001B[A"
     ]
    },
    {
     "name": "stdout",
     "output_type": "stream",
     "text": [
      "Max pixel:  73.44\n",
      "952.6959228515625\n",
      "camera complete\n",
      "PCA: 5.444444444444445\n",
      "powermeter complete\n",
      "954.3295288085938\n",
      "spectrometer complete\n",
      "n_frames 50\n"
     ]
    },
    {
     "name": "stderr",
     "output_type": "stream",
     "text": [
      "\n",
      "\n",
      " 25%|██▌       | 5/20 [00:55<02:42, 10.83s/it]\u001B[A\u001B[A"
     ]
    },
    {
     "name": "stdout",
     "output_type": "stream",
     "text": [
      "Max pixel:  229.24\n",
      "954.3295288085938\n",
      "camera complete\n",
      "PCA: 5.444444444444445\n",
      "powermeter complete\n",
      "952.9299926757812\n",
      "spectrometer complete\n",
      "n_frames 50\n"
     ]
    },
    {
     "name": "stderr",
     "output_type": "stream",
     "text": [
      "\n",
      "\n",
      " 30%|███       | 6/20 [01:14<03:11, 13.67s/it]\u001B[A\u001B[A"
     ]
    },
    {
     "name": "stdout",
     "output_type": "stream",
     "text": [
      "Max pixel:  202.54\n",
      "952.9299926757812\n",
      "camera complete\n",
      "PCA: 5.444444444444445\n",
      "powermeter complete\n",
      "952.9299926757812\n",
      "spectrometer complete\n",
      "n_frames 50\n"
     ]
    },
    {
     "name": "stderr",
     "output_type": "stream",
     "text": [
      "\n",
      "\n",
      " 35%|███▌      | 7/20 [01:24<02:43, 12.57s/it]\u001B[A\u001B[A"
     ]
    },
    {
     "name": "stdout",
     "output_type": "stream",
     "text": [
      "Max pixel:  173.0\n",
      "952.9299926757812\n",
      "camera complete\n",
      "PCA: 5.444444444444445\n",
      "powermeter complete\n",
      "952.9299926757812\n",
      "spectrometer complete\n",
      "n_frames 50\n"
     ]
    },
    {
     "name": "stderr",
     "output_type": "stream",
     "text": [
      "\n",
      "\n",
      " 40%|████      | 8/20 [01:35<02:22, 11.87s/it]\u001B[A\u001B[A"
     ]
    },
    {
     "name": "stdout",
     "output_type": "stream",
     "text": [
      "Max pixel:  122.34\n",
      "952.9299926757812\n",
      "camera complete\n",
      "PCA: 5.444444444444445\n",
      "powermeter complete\n",
      "953.0858764648438\n",
      "spectrometer complete\n",
      "n_frames 50\n"
     ]
    },
    {
     "name": "stderr",
     "output_type": "stream",
     "text": [
      "\n",
      "\n",
      " 45%|████▌     | 9/20 [01:45<02:05, 11.44s/it]\u001B[A\u001B[A"
     ]
    },
    {
     "name": "stdout",
     "output_type": "stream",
     "text": [
      "Max pixel:  207.92\n",
      "953.0858764648438\n",
      "camera complete\n",
      "PCA: 5.444444444444445\n",
      "powermeter complete\n",
      "952.9299926757812\n",
      "spectrometer complete\n",
      "n_frames 50\n"
     ]
    },
    {
     "name": "stderr",
     "output_type": "stream",
     "text": [
      "\n",
      "\n",
      " 50%|█████     | 10/20 [01:56<01:51, 11.13s/it]\u001B[A\u001B[A"
     ]
    },
    {
     "name": "stdout",
     "output_type": "stream",
     "text": [
      "Max pixel:  239.0\n",
      "952.9299926757812\n",
      "camera complete\n",
      "PCA: 5.444444444444445\n",
      "powermeter complete\n",
      "953.0079345703125\n",
      "spectrometer complete\n",
      "n_frames 50\n"
     ]
    },
    {
     "name": "stderr",
     "output_type": "stream",
     "text": [
      "\n",
      "\n",
      " 55%|█████▌    | 11/20 [02:06<01:38, 10.89s/it]\u001B[A\u001B[A"
     ]
    },
    {
     "name": "stdout",
     "output_type": "stream",
     "text": [
      "Max pixel:  138.86\n",
      "953.0079345703125\n",
      "camera complete\n",
      "PCA: 5.444444444444445\n",
      "powermeter complete\n",
      "952.77392578125\n",
      "spectrometer complete\n",
      "n_frames 50\n"
     ]
    },
    {
     "name": "stderr",
     "output_type": "stream",
     "text": [
      "\n",
      "\n",
      " 60%|██████    | 12/20 [02:16<01:25, 10.72s/it]\u001B[A\u001B[A"
     ]
    },
    {
     "name": "stdout",
     "output_type": "stream",
     "text": [
      "Max pixel:  104.04\n",
      "952.77392578125\n",
      "camera complete\n",
      "PCA: 5.444444444444445\n",
      "powermeter complete\n",
      "952.77392578125\n",
      "spectrometer complete\n",
      "n_frames 50\n"
     ]
    },
    {
     "name": "stderr",
     "output_type": "stream",
     "text": [
      "\n",
      "\n",
      " 65%|██████▌   | 13/20 [02:27<01:14, 10.61s/it]\u001B[A\u001B[A"
     ]
    },
    {
     "name": "stdout",
     "output_type": "stream",
     "text": [
      "Max pixel:  130.66\n",
      "952.77392578125\n",
      "camera complete\n",
      "PCA: 5.444444444444445\n",
      "powermeter complete\n",
      "952.77392578125\n",
      "spectrometer complete\n",
      "n_frames 50\n"
     ]
    },
    {
     "name": "stderr",
     "output_type": "stream",
     "text": [
      "\n",
      "\n",
      " 70%|███████   | 14/20 [02:37<01:03, 10.53s/it]\u001B[A\u001B[A"
     ]
    },
    {
     "name": "stdout",
     "output_type": "stream",
     "text": [
      "Max pixel:  147.64\n",
      "952.77392578125\n",
      "camera complete\n",
      "PCA: 5.444444444444445\n",
      "powermeter complete\n",
      "952.77392578125\n",
      "spectrometer complete\n",
      "n_frames 50\n"
     ]
    },
    {
     "name": "stderr",
     "output_type": "stream",
     "text": [
      "\n",
      "\n",
      " 75%|███████▌  | 15/20 [02:47<00:52, 10.46s/it]\u001B[A\u001B[A"
     ]
    },
    {
     "name": "stdout",
     "output_type": "stream",
     "text": [
      "Max pixel:  125.24\n",
      "952.77392578125\n",
      "camera complete\n",
      "PCA: 5.444444444444445\n",
      "powermeter complete\n",
      "952.77392578125\n",
      "spectrometer complete\n",
      "n_frames 50\n"
     ]
    },
    {
     "name": "stderr",
     "output_type": "stream",
     "text": [
      "\n",
      "\n",
      " 80%|████████  | 16/20 [02:58<00:41, 10.44s/it]\u001B[A\u001B[A"
     ]
    },
    {
     "name": "stdout",
     "output_type": "stream",
     "text": [
      "Max pixel:  131.74\n",
      "952.77392578125\n",
      "camera complete\n",
      "PCA: 5.444444444444445\n",
      "powermeter complete\n",
      "952.6178588867188\n",
      "spectrometer complete\n",
      "n_frames 50\n"
     ]
    },
    {
     "name": "stderr",
     "output_type": "stream",
     "text": [
      "\n",
      "\n",
      " 85%|████████▌ | 17/20 [03:08<00:31, 10.41s/it]\u001B[A\u001B[A"
     ]
    },
    {
     "name": "stdout",
     "output_type": "stream",
     "text": [
      "Max pixel:  121.76\n",
      "952.6178588867188\n",
      "camera complete\n",
      "PCA: 5.444444444444445\n",
      "powermeter complete\n",
      "952.3834838867188\n",
      "spectrometer complete\n",
      "n_frames 50\n"
     ]
    },
    {
     "name": "stderr",
     "output_type": "stream",
     "text": [
      "\n",
      "\n",
      " 90%|█████████ | 18/20 [03:19<00:20, 10.42s/it]\u001B[A\u001B[A"
     ]
    },
    {
     "name": "stdout",
     "output_type": "stream",
     "text": [
      "Max pixel:  92.16\n",
      "952.3834838867188\n",
      "camera complete\n",
      "PCA: 5.444444444444445\n",
      "powermeter complete\n",
      "952.3834838867188\n",
      "spectrometer complete\n",
      "n_frames 50\n"
     ]
    },
    {
     "name": "stderr",
     "output_type": "stream",
     "text": [
      "\n",
      "\n",
      " 95%|█████████▌| 19/20 [03:29<00:10, 10.42s/it]\u001B[A\u001B[A"
     ]
    },
    {
     "name": "stdout",
     "output_type": "stream",
     "text": [
      "Max pixel:  183.74\n",
      "952.3834838867188\n",
      "camera complete\n",
      "PCA: 5.444444444444445\n",
      "powermeter complete\n",
      "952.2271728515625\n",
      "spectrometer complete\n",
      "n_frames 50\n"
     ]
    },
    {
     "name": "stderr",
     "output_type": "stream",
     "text": [
      "\n",
      "\n",
      "100%|██████████| 20/20 [03:39<00:00, 11.00s/it]\u001B[A\u001B[A\n",
      "\n",
      " 30%|███       | 3/10 [11:00<25:41, 220.28s/it]\u001B[A"
     ]
    },
    {
     "name": "stdout",
     "output_type": "stream",
     "text": [
      "Max pixel:  230.28\n",
      "952.2271728515625\n",
      "camera complete\n",
      "20240820_093152 20240820_093522\n",
      "3.666666666666667\n",
      "41231\n"
     ]
    },
    {
     "name": "stderr",
     "output_type": "stream",
     "text": [
      "\n",
      "\n",
      "  0%|          | 0/20 [00:00<?, ?it/s]\u001B[A\u001B[A"
     ]
    },
    {
     "name": "stdout",
     "output_type": "stream",
     "text": [
      "PCA: 3.666666666666667\n",
      "powermeter complete\n",
      "954.1744384765625\n",
      "spectrometer complete\n",
      "n_frames 4\n",
      "Max pixel:  150.0\n",
      "954.1744384765625\n",
      "camera complete\n"
     ]
    },
    {
     "name": "stderr",
     "output_type": "stream",
     "text": [
      "\n",
      "\n",
      "  5%|▌         | 1/20 [00:11<03:42, 11.72s/it]\u001B[A\u001B[A"
     ]
    },
    {
     "name": "stdout",
     "output_type": "stream",
     "text": [
      "PCA: 3.666666666666667\n",
      "powermeter complete\n",
      "954.2520141601562\n",
      "spectrometer complete\n",
      "n_frames 50\n"
     ]
    },
    {
     "name": "stderr",
     "output_type": "stream",
     "text": [
      "\n",
      "\n",
      " 10%|█         | 2/20 [00:23<03:29, 11.63s/it]\u001B[A\u001B[A"
     ]
    },
    {
     "name": "stdout",
     "output_type": "stream",
     "text": [
      "Max pixel:  9.66\n",
      "954.2520141601562\n",
      "camera complete\n",
      "PCA: 3.666666666666667\n",
      "powermeter complete\n",
      "954.406982421875\n",
      "spectrometer complete\n",
      "n_frames 8\n",
      "Max pixel:  154.75\n",
      "954.406982421875\n",
      "camera complete\n"
     ]
    },
    {
     "name": "stderr",
     "output_type": "stream",
     "text": [
      "\n",
      "\n",
      " 15%|█▌        | 3/20 [00:34<03:16, 11.58s/it]\u001B[A\u001B[A"
     ]
    },
    {
     "name": "stdout",
     "output_type": "stream",
     "text": [
      "PCA: 3.666666666666667\n",
      "powermeter complete\n",
      "954.406982421875\n",
      "spectrometer complete\n",
      "n_frames 50\n"
     ]
    },
    {
     "name": "stderr",
     "output_type": "stream",
     "text": [
      "\n",
      "\n",
      " 20%|██        | 4/20 [00:46<03:04, 11.52s/it]\u001B[A\u001B[A"
     ]
    },
    {
     "name": "stdout",
     "output_type": "stream",
     "text": [
      "Max pixel:  4.12\n",
      "954.406982421875\n",
      "camera complete\n",
      "PCA: 3.666666666666667\n",
      "powermeter complete\n",
      "954.3295288085938\n",
      "spectrometer complete\n",
      "n_frames 50\n"
     ]
    },
    {
     "name": "stderr",
     "output_type": "stream",
     "text": [
      "\n",
      "\n",
      " 25%|██▌       | 5/20 [00:56<02:47, 11.17s/it]\u001B[A\u001B[A"
     ]
    },
    {
     "name": "stdout",
     "output_type": "stream",
     "text": [
      "Max pixel:  28.94\n",
      "954.3295288085938\n",
      "camera complete\n",
      "PCA: 3.666666666666667\n",
      "powermeter complete\n",
      "954.0968627929688\n",
      "spectrometer complete\n",
      "n_frames 50\n"
     ]
    },
    {
     "name": "stderr",
     "output_type": "stream",
     "text": [
      "\n",
      "\n",
      " 30%|███       | 6/20 [01:07<02:35, 11.10s/it]\u001B[A\u001B[A"
     ]
    },
    {
     "name": "stdout",
     "output_type": "stream",
     "text": [
      "Max pixel:  243.18\n",
      "954.0968627929688\n",
      "camera complete\n",
      "PCA: 3.666666666666667\n",
      "powermeter complete\n",
      "954.1744384765625\n",
      "spectrometer complete\n",
      "n_frames 50\n"
     ]
    },
    {
     "name": "stderr",
     "output_type": "stream",
     "text": [
      "\n",
      "\n",
      " 35%|███▌      | 7/20 [01:26<02:58, 13.76s/it]\u001B[A\u001B[A"
     ]
    },
    {
     "name": "stdout",
     "output_type": "stream",
     "text": [
      "Max pixel:  135.06\n",
      "954.1744384765625\n",
      "camera complete\n",
      "PCA: 3.666666666666667\n",
      "powermeter complete\n",
      "953.8639526367188\n",
      "spectrometer complete\n",
      "n_frames 50\n"
     ]
    },
    {
     "name": "stderr",
     "output_type": "stream",
     "text": [
      "\n",
      "\n",
      " 40%|████      | 8/20 [01:37<02:32, 12.68s/it]\u001B[A\u001B[A"
     ]
    },
    {
     "name": "stdout",
     "output_type": "stream",
     "text": [
      "Max pixel:  181.7\n",
      "953.8639526367188\n",
      "camera complete\n",
      "PCA: 3.666666666666667\n",
      "powermeter complete\n",
      "954.0968627929688\n",
      "spectrometer complete\n",
      "n_frames 50\n"
     ]
    },
    {
     "name": "stderr",
     "output_type": "stream",
     "text": [
      "\n",
      "\n",
      " 45%|████▌     | 9/20 [01:47<02:11, 11.97s/it]\u001B[A\u001B[A"
     ]
    },
    {
     "name": "stdout",
     "output_type": "stream",
     "text": [
      "Max pixel:  211.72\n",
      "954.0968627929688\n",
      "camera complete\n",
      "PCA: 3.666666666666667\n",
      "powermeter complete\n",
      "954.0968627929688\n",
      "spectrometer complete\n",
      "n_frames 50\n"
     ]
    },
    {
     "name": "stderr",
     "output_type": "stream",
     "text": [
      "\n",
      "\n",
      " 50%|█████     | 10/20 [01:58<01:55, 11.51s/it]\u001B[A\u001B[A"
     ]
    },
    {
     "name": "stdout",
     "output_type": "stream",
     "text": [
      "Max pixel:  93.02\n",
      "954.0968627929688\n",
      "camera complete\n",
      "PCA: 3.666666666666667\n",
      "powermeter complete\n",
      "952.4616088867188\n",
      "spectrometer complete\n",
      "n_frames 50\n"
     ]
    },
    {
     "name": "stderr",
     "output_type": "stream",
     "text": [
      "\n",
      "\n",
      " 55%|█████▌    | 11/20 [02:08<01:40, 11.22s/it]\u001B[A\u001B[A"
     ]
    },
    {
     "name": "stdout",
     "output_type": "stream",
     "text": [
      "Max pixel:  182.84\n",
      "952.4616088867188\n",
      "camera complete\n",
      "PCA: 3.666666666666667\n",
      "powermeter complete\n",
      "953.6307373046875\n",
      "spectrometer complete\n",
      "n_frames 50\n"
     ]
    },
    {
     "name": "stderr",
     "output_type": "stream",
     "text": [
      "\n",
      "\n",
      " 60%|██████    | 12/20 [02:19<01:27, 10.98s/it]\u001B[A\u001B[A"
     ]
    },
    {
     "name": "stdout",
     "output_type": "stream",
     "text": [
      "Max pixel:  209.56\n",
      "953.6307373046875\n",
      "camera complete\n",
      "PCA: 3.666666666666667\n",
      "powermeter complete\n",
      "953.4752197265625\n",
      "spectrometer complete\n",
      "n_frames 50\n"
     ]
    },
    {
     "name": "stderr",
     "output_type": "stream",
     "text": [
      "\n",
      "\n",
      " 65%|██████▌   | 13/20 [02:29<01:15, 10.81s/it]\u001B[A\u001B[A"
     ]
    },
    {
     "name": "stdout",
     "output_type": "stream",
     "text": [
      "Max pixel:  209.7\n",
      "953.4752197265625\n",
      "camera complete\n",
      "PCA: 3.666666666666667\n",
      "powermeter complete\n",
      "953.552978515625\n",
      "spectrometer complete\n",
      "n_frames 50\n"
     ]
    },
    {
     "name": "stderr",
     "output_type": "stream",
     "text": [
      "\n",
      "\n",
      " 70%|███████   | 14/20 [02:40<01:04, 10.69s/it]\u001B[A\u001B[A"
     ]
    },
    {
     "name": "stdout",
     "output_type": "stream",
     "text": [
      "Max pixel:  210.86\n",
      "953.552978515625\n",
      "camera complete\n",
      "PCA: 3.666666666666667\n",
      "powermeter complete\n",
      "953.6307373046875\n",
      "spectrometer complete\n",
      "n_frames 50\n"
     ]
    },
    {
     "name": "stderr",
     "output_type": "stream",
     "text": [
      "\n",
      "\n",
      " 75%|███████▌  | 15/20 [02:50<00:53, 10.61s/it]\u001B[A\u001B[A"
     ]
    },
    {
     "name": "stdout",
     "output_type": "stream",
     "text": [
      "Max pixel:  193.06\n",
      "953.6307373046875\n",
      "camera complete\n",
      "PCA: 3.666666666666667\n",
      "powermeter complete\n",
      "953.6307373046875\n",
      "spectrometer complete\n",
      "n_frames 50\n"
     ]
    },
    {
     "name": "stderr",
     "output_type": "stream",
     "text": [
      "\n",
      "\n",
      " 80%|████████  | 16/20 [03:00<00:42, 10.56s/it]\u001B[A\u001B[A"
     ]
    },
    {
     "name": "stdout",
     "output_type": "stream",
     "text": [
      "Max pixel:  126.86\n",
      "953.6307373046875\n",
      "camera complete\n",
      "PCA: 3.666666666666667\n",
      "powermeter complete\n",
      "953.6307373046875\n",
      "spectrometer complete\n",
      "n_frames 50\n"
     ]
    },
    {
     "name": "stderr",
     "output_type": "stream",
     "text": [
      "\n",
      "\n",
      " 85%|████████▌ | 17/20 [03:11<00:31, 10.48s/it]\u001B[A\u001B[A"
     ]
    },
    {
     "name": "stdout",
     "output_type": "stream",
     "text": [
      "Max pixel:  89.84\n",
      "953.6307373046875\n",
      "camera complete\n",
      "PCA: 3.666666666666667\n",
      "powermeter complete\n",
      "953.70849609375\n",
      "spectrometer complete\n",
      "n_frames 50\n"
     ]
    },
    {
     "name": "stderr",
     "output_type": "stream",
     "text": [
      "\n",
      "\n",
      " 90%|█████████ | 18/20 [03:21<00:20, 10.47s/it]\u001B[A\u001B[A"
     ]
    },
    {
     "name": "stdout",
     "output_type": "stream",
     "text": [
      "Max pixel:  174.78\n",
      "953.70849609375\n",
      "camera complete\n",
      "PCA: 3.666666666666667\n",
      "powermeter complete\n",
      "953.552978515625\n",
      "spectrometer complete\n",
      "n_frames 50\n"
     ]
    },
    {
     "name": "stderr",
     "output_type": "stream",
     "text": [
      "\n",
      "\n",
      " 95%|█████████▌| 19/20 [03:31<00:10, 10.43s/it]\u001B[A\u001B[A"
     ]
    },
    {
     "name": "stdout",
     "output_type": "stream",
     "text": [
      "Max pixel:  129.52\n",
      "953.552978515625\n",
      "camera complete\n",
      "PCA: 3.666666666666667\n",
      "powermeter complete\n",
      "953.552978515625\n",
      "spectrometer complete\n",
      "n_frames 50\n"
     ]
    },
    {
     "name": "stderr",
     "output_type": "stream",
     "text": [
      "\n",
      "\n",
      "100%|██████████| 20/20 [03:42<00:00, 11.12s/it]\u001B[A\u001B[A\n",
      "\n",
      " 40%|████      | 4/10 [14:43<22:07, 221.17s/it]\u001B[A"
     ]
    },
    {
     "name": "stdout",
     "output_type": "stream",
     "text": [
      "Max pixel:  138.38\n",
      "953.552978515625\n",
      "camera complete\n",
      "20240820_093532 20240820_093904\n",
      "1.8888888888888893\n",
      "41231\n"
     ]
    },
    {
     "name": "stderr",
     "output_type": "stream",
     "text": [
      "\n",
      "\n",
      "  0%|          | 0/20 [00:00<?, ?it/s]\u001B[A\u001B[A"
     ]
    },
    {
     "name": "stdout",
     "output_type": "stream",
     "text": [
      "PCA: 1.8888888888888893\n",
      "powermeter complete\n",
      "955.4896850585938\n",
      "spectrometer complete\n",
      "n_frames 4\n",
      "Max pixel:  148.75\n",
      "955.4896850585938\n",
      "camera complete\n"
     ]
    },
    {
     "name": "stderr",
     "output_type": "stream",
     "text": [
      "\n",
      "\n",
      "  5%|▌         | 1/20 [00:11<03:42, 11.72s/it]\u001B[A\u001B[A"
     ]
    },
    {
     "name": "stdout",
     "output_type": "stream",
     "text": [
      "PCA: 1.8888888888888893\n",
      "powermeter complete\n",
      "955.4896850585938\n",
      "spectrometer complete\n",
      "n_frames 50\n"
     ]
    },
    {
     "name": "stderr",
     "output_type": "stream",
     "text": [
      "\n",
      "\n",
      " 10%|█         | 2/20 [00:23<03:28, 11.56s/it]\u001B[A\u001B[A"
     ]
    },
    {
     "name": "stdout",
     "output_type": "stream",
     "text": [
      "Max pixel:  5.12\n",
      "955.4896850585938\n",
      "camera complete\n",
      "PCA: 1.8888888888888893\n",
      "powermeter complete\n",
      "955.0262451171875\n",
      "spectrometer complete\n",
      "n_frames 16\n"
     ]
    },
    {
     "name": "stderr",
     "output_type": "stream",
     "text": [
      "\n",
      "\n"
     ]
    },
    {
     "name": "stdout",
     "output_type": "stream",
     "text": [
      "Max pixel:  85.5\n",
      "955.0262451171875\n",
      "camera complete\n"
     ]
    },
    {
     "name": "stderr",
     "output_type": "stream",
     "text": [
      " 15%|█▌        | 3/20 [00:34<03:15, 11.50s/it]\u001B[A\u001B[A"
     ]
    },
    {
     "name": "stdout",
     "output_type": "stream",
     "text": [
      "PCA: 1.8888888888888893\n",
      "powermeter complete\n",
      "955.0262451171875\n",
      "spectrometer complete\n",
      "n_frames 16\n"
     ]
    },
    {
     "name": "stderr",
     "output_type": "stream",
     "text": [
      "\n",
      "\n"
     ]
    },
    {
     "name": "stdout",
     "output_type": "stream",
     "text": [
      "Max pixel:  112.125\n",
      "955.0262451171875\n",
      "camera complete\n"
     ]
    },
    {
     "name": "stderr",
     "output_type": "stream",
     "text": [
      " 20%|██        | 4/20 [00:46<03:03, 11.46s/it]\u001B[A\u001B[A"
     ]
    },
    {
     "name": "stdout",
     "output_type": "stream",
     "text": [
      "PCA: 1.8888888888888893\n",
      "powermeter complete\n",
      "954.6394653320312\n",
      "spectrometer complete\n",
      "n_frames 16\n"
     ]
    },
    {
     "name": "stderr",
     "output_type": "stream",
     "text": [
      "\n",
      "\n"
     ]
    },
    {
     "name": "stdout",
     "output_type": "stream",
     "text": [
      "Max pixel:  140.4375\n",
      "954.6394653320312\n",
      "camera complete\n"
     ]
    },
    {
     "name": "stderr",
     "output_type": "stream",
     "text": [
      " 25%|██▌       | 5/20 [00:57<02:52, 11.47s/it]\u001B[A\u001B[A"
     ]
    },
    {
     "name": "stdout",
     "output_type": "stream",
     "text": [
      "PCA: 1.8888888888888893\n",
      "powermeter complete\n",
      "954.948974609375\n",
      "spectrometer complete\n",
      "n_frames 50\n"
     ]
    },
    {
     "name": "stderr",
     "output_type": "stream",
     "text": [
      "\n",
      "\n",
      " 30%|███       | 6/20 [01:08<02:36, 11.21s/it]\u001B[A\u001B[A"
     ]
    },
    {
     "name": "stdout",
     "output_type": "stream",
     "text": [
      "Max pixel:  101.32\n",
      "954.948974609375\n",
      "camera complete\n",
      "PCA: 1.8888888888888893\n",
      "powermeter complete\n",
      "954.7943115234375\n",
      "spectrometer complete\n",
      "n_frames 50\n"
     ]
    },
    {
     "name": "stderr",
     "output_type": "stream",
     "text": [
      "\n",
      "\n",
      " 35%|███▌      | 7/20 [01:19<02:25, 11.16s/it]\u001B[A\u001B[A"
     ]
    },
    {
     "name": "stdout",
     "output_type": "stream",
     "text": [
      "Max pixel:  151.92\n",
      "954.7943115234375\n",
      "camera complete\n",
      "PCA: 1.8888888888888893\n",
      "powermeter complete\n",
      "954.7943115234375\n",
      "spectrometer complete\n",
      "n_frames 50\n"
     ]
    },
    {
     "name": "stderr",
     "output_type": "stream",
     "text": [
      "\n",
      "\n",
      " 40%|████      | 8/20 [01:38<02:45, 13.76s/it]\u001B[A\u001B[A"
     ]
    },
    {
     "name": "stdout",
     "output_type": "stream",
     "text": [
      "Max pixel:  145.42\n",
      "954.7943115234375\n",
      "camera complete\n",
      "PCA: 1.8888888888888893\n",
      "powermeter complete\n",
      "954.7943115234375\n",
      "spectrometer complete\n",
      "n_frames 50\n"
     ]
    },
    {
     "name": "stderr",
     "output_type": "stream",
     "text": [
      "\n",
      "\n",
      " 45%|████▌     | 9/20 [01:48<02:19, 12.70s/it]\u001B[A\u001B[A"
     ]
    },
    {
     "name": "stdout",
     "output_type": "stream",
     "text": [
      "Max pixel:  215.72\n",
      "954.7943115234375\n",
      "camera complete\n",
      "PCA: 1.8888888888888893\n",
      "powermeter complete\n",
      "954.8716430664062\n",
      "spectrometer complete\n",
      "n_frames 50\n"
     ]
    },
    {
     "name": "stderr",
     "output_type": "stream",
     "text": [
      "\n",
      "\n",
      " 50%|█████     | 10/20 [01:59<02:00, 12.02s/it]\u001B[A\u001B[A"
     ]
    },
    {
     "name": "stdout",
     "output_type": "stream",
     "text": [
      "Max pixel:  252.92\n",
      "954.8716430664062\n",
      "camera complete\n",
      "PCA: 1.8888888888888893\n",
      "powermeter complete\n",
      "954.7168579101562\n",
      "spectrometer complete\n",
      "n_frames 50\n"
     ]
    },
    {
     "name": "stderr",
     "output_type": "stream",
     "text": [
      "\n",
      "\n",
      " 55%|█████▌    | 11/20 [02:09<01:43, 11.54s/it]\u001B[A\u001B[A"
     ]
    },
    {
     "name": "stdout",
     "output_type": "stream",
     "text": [
      "Max pixel:  157.0\n",
      "954.7168579101562\n",
      "camera complete\n",
      "PCA: 1.8888888888888893\n",
      "powermeter complete\n",
      "954.6394653320312\n",
      "spectrometer complete\n",
      "n_frames 50\n"
     ]
    },
    {
     "name": "stderr",
     "output_type": "stream",
     "text": [
      "\n",
      "\n",
      " 60%|██████    | 12/20 [02:20<01:29, 11.24s/it]\u001B[A\u001B[A"
     ]
    },
    {
     "name": "stdout",
     "output_type": "stream",
     "text": [
      "Max pixel:  241.4\n",
      "954.6394653320312\n",
      "camera complete\n",
      "PCA: 1.8888888888888893\n",
      "powermeter complete\n",
      "954.4844970703125\n",
      "spectrometer complete\n",
      "n_frames 50\n"
     ]
    },
    {
     "name": "stderr",
     "output_type": "stream",
     "text": [
      "\n",
      "\n",
      " 65%|██████▌   | 13/20 [02:30<01:16, 10.99s/it]\u001B[A\u001B[A"
     ]
    },
    {
     "name": "stdout",
     "output_type": "stream",
     "text": [
      "Max pixel:  148.84\n",
      "954.4844970703125\n",
      "camera complete\n",
      "PCA: 1.8888888888888893\n",
      "powermeter complete\n",
      "954.4844970703125\n",
      "spectrometer complete\n",
      "n_frames 50\n"
     ]
    },
    {
     "name": "stderr",
     "output_type": "stream",
     "text": [
      "\n",
      "\n",
      " 70%|███████   | 14/20 [02:41<01:04, 10.81s/it]\u001B[A\u001B[A"
     ]
    },
    {
     "name": "stdout",
     "output_type": "stream",
     "text": [
      "Max pixel:  214.22\n",
      "954.4844970703125\n",
      "camera complete\n",
      "PCA: 1.8888888888888893\n",
      "powermeter complete\n",
      "954.3295288085938\n",
      "spectrometer complete\n",
      "n_frames 50\n"
     ]
    },
    {
     "name": "stderr",
     "output_type": "stream",
     "text": [
      "\n",
      "\n",
      " 75%|███████▌  | 15/20 [02:51<00:53, 10.66s/it]\u001B[A\u001B[A"
     ]
    },
    {
     "name": "stdout",
     "output_type": "stream",
     "text": [
      "Max pixel:  78.94\n",
      "954.3295288085938\n",
      "camera complete\n",
      "PCA: 1.8888888888888893\n",
      "powermeter complete\n",
      "954.3295288085938\n",
      "spectrometer complete\n",
      "n_frames 50\n"
     ]
    },
    {
     "name": "stderr",
     "output_type": "stream",
     "text": [
      "\n",
      "\n",
      " 80%|████████  | 16/20 [03:01<00:42, 10.58s/it]\u001B[A\u001B[A"
     ]
    },
    {
     "name": "stdout",
     "output_type": "stream",
     "text": [
      "Max pixel:  142.56\n",
      "954.3295288085938\n",
      "camera complete\n",
      "PCA: 1.8888888888888893\n",
      "powermeter complete\n",
      "954.1744384765625\n",
      "spectrometer complete\n",
      "n_frames 50\n"
     ]
    },
    {
     "name": "stderr",
     "output_type": "stream",
     "text": [
      "\n",
      "\n",
      " 85%|████████▌ | 17/20 [03:12<00:31, 10.50s/it]\u001B[A\u001B[A"
     ]
    },
    {
     "name": "stdout",
     "output_type": "stream",
     "text": [
      "Max pixel:  46.68\n",
      "954.1744384765625\n",
      "camera complete\n",
      "PCA: 1.8888888888888893\n",
      "powermeter complete\n",
      "954.1744384765625\n",
      "spectrometer complete\n",
      "n_frames 50\n"
     ]
    },
    {
     "name": "stderr",
     "output_type": "stream",
     "text": [
      "\n",
      "\n",
      " 90%|█████████ | 18/20 [03:22<00:20, 10.46s/it]\u001B[A\u001B[A"
     ]
    },
    {
     "name": "stdout",
     "output_type": "stream",
     "text": [
      "Max pixel:  167.44\n",
      "954.1744384765625\n",
      "camera complete\n",
      "PCA: 1.8888888888888893\n",
      "powermeter complete\n",
      "954.1744384765625\n",
      "spectrometer complete\n",
      "n_frames 50\n"
     ]
    },
    {
     "name": "stderr",
     "output_type": "stream",
     "text": [
      "\n",
      "\n",
      " 95%|█████████▌| 19/20 [03:33<00:10, 10.44s/it]\u001B[A\u001B[A"
     ]
    },
    {
     "name": "stdout",
     "output_type": "stream",
     "text": [
      "Max pixel:  117.84\n",
      "954.1744384765625\n",
      "camera complete\n",
      "PCA: 1.8888888888888893\n",
      "powermeter complete\n",
      "954.1744384765625\n",
      "spectrometer complete\n",
      "n_frames 50\n"
     ]
    },
    {
     "name": "stderr",
     "output_type": "stream",
     "text": [
      "\n",
      "\n",
      "100%|██████████| 20/20 [03:43<00:00, 11.17s/it]\u001B[A\u001B[A\n",
      "\n",
      " 50%|█████     | 5/10 [18:26<18:30, 222.01s/it]\u001B[A"
     ]
    },
    {
     "name": "stdout",
     "output_type": "stream",
     "text": [
      "Max pixel:  79.04\n",
      "954.1744384765625\n",
      "camera complete\n",
      "20240820_093915 20240820_094248\n",
      "0.11111111111111072\n",
      "41231\n"
     ]
    },
    {
     "name": "stderr",
     "output_type": "stream",
     "text": [
      "\n",
      "\n",
      "  0%|          | 0/20 [00:00<?, ?it/s]\u001B[A\u001B[A"
     ]
    },
    {
     "name": "stdout",
     "output_type": "stream",
     "text": [
      "PCA: 0.11111111111111072\n",
      "powermeter complete\n",
      "929.0309448242188\n",
      "spectrometer complete\n",
      "n_frames 4\n",
      "Max pixel:  147.5\n",
      "929.0309448242188\n",
      "camera complete\n"
     ]
    },
    {
     "name": "stderr",
     "output_type": "stream",
     "text": [
      "\n",
      "\n",
      "  5%|▌         | 1/20 [00:11<03:39, 11.56s/it]\u001B[A\u001B[A"
     ]
    },
    {
     "name": "stdout",
     "output_type": "stream",
     "text": [
      "PCA: 0.11111111111111072\n",
      "powermeter complete\n",
      "955.798095703125\n",
      "spectrometer complete\n",
      "n_frames 50\n"
     ]
    },
    {
     "name": "stderr",
     "output_type": "stream",
     "text": [
      "\n",
      "\n",
      " 10%|█         | 2/20 [00:23<03:26, 11.50s/it]\u001B[A\u001B[A"
     ]
    },
    {
     "name": "stdout",
     "output_type": "stream",
     "text": [
      "Max pixel:  9.14\n",
      "955.798095703125\n",
      "camera complete\n",
      "PCA: 0.11111111111111072\n",
      "powermeter complete\n",
      "955.4896850585938\n",
      "spectrometer complete\n",
      "n_frames 16\n"
     ]
    },
    {
     "name": "stderr",
     "output_type": "stream",
     "text": [
      "\n",
      "\n"
     ]
    },
    {
     "name": "stdout",
     "output_type": "stream",
     "text": [
      "Max pixel:  84.1875\n",
      "955.4896850585938\n",
      "camera complete\n"
     ]
    },
    {
     "name": "stderr",
     "output_type": "stream",
     "text": [
      " 15%|█▌        | 3/20 [00:34<03:15, 11.50s/it]\u001B[A\u001B[A"
     ]
    },
    {
     "name": "stdout",
     "output_type": "stream",
     "text": [
      "PCA: 0.11111111111111072\n",
      "powermeter complete\n",
      "955.4896850585938\n",
      "spectrometer complete\n",
      "n_frames 16\n"
     ]
    },
    {
     "name": "stderr",
     "output_type": "stream",
     "text": [
      "\n",
      "\n"
     ]
    },
    {
     "name": "stdout",
     "output_type": "stream",
     "text": [
      "Max pixel:  108.8125\n",
      "955.4896850585938\n",
      "camera complete\n"
     ]
    },
    {
     "name": "stderr",
     "output_type": "stream",
     "text": [
      " 20%|██        | 4/20 [00:46<03:04, 11.50s/it]\u001B[A\u001B[A"
     ]
    },
    {
     "name": "stdout",
     "output_type": "stream",
     "text": [
      "PCA: 0.11111111111111072\n",
      "powermeter complete\n",
      "955.4896850585938\n",
      "spectrometer complete\n",
      "n_frames 8\n",
      "Max pixel:  233.875\n",
      "955.4896850585938\n",
      "camera complete\n"
     ]
    },
    {
     "name": "stderr",
     "output_type": "stream",
     "text": [
      "\n",
      "\n",
      " 25%|██▌       | 5/20 [00:57<02:52, 11.48s/it]\u001B[A\u001B[A"
     ]
    },
    {
     "name": "stdout",
     "output_type": "stream",
     "text": [
      "PCA: 0.11111111111111072\n",
      "powermeter complete\n",
      "955.1808471679688\n",
      "spectrometer complete\n",
      "n_frames 50\n"
     ]
    },
    {
     "name": "stderr",
     "output_type": "stream",
     "text": [
      "\n",
      "\n",
      " 30%|███       | 6/20 [01:08<02:39, 11.42s/it]\u001B[A\u001B[A"
     ]
    },
    {
     "name": "stdout",
     "output_type": "stream",
     "text": [
      "Max pixel:  12.66\n",
      "955.1808471679688\n",
      "camera complete\n",
      "PCA: 0.11111111111111072\n",
      "powermeter complete\n",
      "955.3352661132812\n",
      "spectrometer complete\n",
      "n_frames 50\n"
     ]
    },
    {
     "name": "stderr",
     "output_type": "stream",
     "text": [
      "\n",
      "\n",
      " 35%|███▌      | 7/20 [01:19<02:23, 11.05s/it]\u001B[A\u001B[A"
     ]
    },
    {
     "name": "stdout",
     "output_type": "stream",
     "text": [
      "Max pixel:  24.74\n",
      "955.3352661132812\n",
      "camera complete\n",
      "PCA: 0.11111111111111072\n",
      "powermeter complete\n",
      "955.1808471679688\n",
      "spectrometer complete\n",
      "n_frames 50\n"
     ]
    },
    {
     "name": "stderr",
     "output_type": "stream",
     "text": [
      "\n",
      "\n",
      " 40%|████      | 8/20 [01:30<02:12, 11.02s/it]\u001B[A\u001B[A"
     ]
    },
    {
     "name": "stdout",
     "output_type": "stream",
     "text": [
      "Max pixel:  231.72\n",
      "955.1808471679688\n",
      "camera complete\n",
      "PCA: 0.11111111111111072\n",
      "powermeter complete\n",
      "955.3352661132812\n",
      "spectrometer complete\n",
      "n_frames 50\n"
     ]
    },
    {
     "name": "stderr",
     "output_type": "stream",
     "text": [
      "\n",
      "\n",
      " 45%|████▌     | 9/20 [01:41<02:01, 11.02s/it]\u001B[A\u001B[A"
     ]
    },
    {
     "name": "stdout",
     "output_type": "stream",
     "text": [
      "Max pixel:  239.32\n",
      "955.3352661132812\n",
      "camera complete\n",
      "PCA: 0.11111111111111072\n",
      "powermeter complete\n",
      "955.1808471679688\n",
      "spectrometer complete\n",
      "n_frames 50\n"
     ]
    },
    {
     "name": "stderr",
     "output_type": "stream",
     "text": [
      "\n",
      "\n",
      " 50%|█████     | 10/20 [02:00<02:15, 13.58s/it]\u001B[A\u001B[A"
     ]
    },
    {
     "name": "stdout",
     "output_type": "stream",
     "text": [
      "Max pixel:  251.88\n",
      "955.1808471679688\n",
      "camera complete\n",
      "PCA: 0.11111111111111072\n",
      "powermeter complete\n",
      "955.0262451171875\n",
      "spectrometer complete\n",
      "n_frames 50\n"
     ]
    },
    {
     "name": "stderr",
     "output_type": "stream",
     "text": [
      "\n",
      "\n",
      " 55%|█████▌    | 11/20 [02:10<01:53, 12.64s/it]\u001B[A\u001B[A"
     ]
    },
    {
     "name": "stdout",
     "output_type": "stream",
     "text": [
      "Max pixel:  235.4\n",
      "955.0262451171875\n",
      "camera complete\n",
      "PCA: 0.11111111111111072\n",
      "powermeter complete\n",
      "954.948974609375\n",
      "spectrometer complete\n",
      "n_frames 50\n"
     ]
    },
    {
     "name": "stderr",
     "output_type": "stream",
     "text": [
      "\n",
      "\n",
      " 60%|██████    | 12/20 [02:21<01:35, 11.98s/it]\u001B[A\u001B[A"
     ]
    },
    {
     "name": "stdout",
     "output_type": "stream",
     "text": [
      "Max pixel:  216.28\n",
      "954.948974609375\n",
      "camera complete\n",
      "PCA: 0.11111111111111072\n",
      "powermeter complete\n",
      "954.56201171875\n",
      "spectrometer complete\n",
      "n_frames 50\n"
     ]
    },
    {
     "name": "stderr",
     "output_type": "stream",
     "text": [
      "\n",
      "\n",
      " 65%|██████▌   | 13/20 [02:31<01:20, 11.50s/it]\u001B[A\u001B[A"
     ]
    },
    {
     "name": "stdout",
     "output_type": "stream",
     "text": [
      "Max pixel:  113.62\n",
      "954.56201171875\n",
      "camera complete\n",
      "PCA: 0.11111111111111072\n",
      "powermeter complete\n",
      "954.56201171875\n",
      "spectrometer complete\n",
      "n_frames 50\n"
     ]
    },
    {
     "name": "stderr",
     "output_type": "stream",
     "text": [
      "\n",
      "\n",
      " 70%|███████   | 14/20 [02:42<01:06, 11.16s/it]\u001B[A\u001B[A"
     ]
    },
    {
     "name": "stdout",
     "output_type": "stream",
     "text": [
      "Max pixel:  139.74\n",
      "954.56201171875\n",
      "camera complete\n",
      "PCA: 0.11111111111111072\n",
      "powermeter complete\n",
      "954.6394653320312\n",
      "spectrometer complete\n",
      "n_frames 50\n"
     ]
    },
    {
     "name": "stderr",
     "output_type": "stream",
     "text": [
      "\n",
      "\n",
      " 75%|███████▌  | 15/20 [02:52<00:54, 10.96s/it]\u001B[A\u001B[A"
     ]
    },
    {
     "name": "stdout",
     "output_type": "stream",
     "text": [
      "Max pixel:  135.94\n",
      "954.6394653320312\n",
      "camera complete\n",
      "PCA: 0.11111111111111072\n",
      "powermeter complete\n",
      "954.7168579101562\n",
      "spectrometer complete\n",
      "n_frames 50\n"
     ]
    },
    {
     "name": "stderr",
     "output_type": "stream",
     "text": [
      "\n",
      "\n",
      " 80%|████████  | 16/20 [03:03<00:43, 10.81s/it]\u001B[A\u001B[A"
     ]
    },
    {
     "name": "stdout",
     "output_type": "stream",
     "text": [
      "Max pixel:  139.62\n",
      "954.7168579101562\n",
      "camera complete\n",
      "PCA: 0.11111111111111072\n",
      "powermeter complete\n",
      "954.56201171875\n",
      "spectrometer complete\n",
      "n_frames 50\n"
     ]
    },
    {
     "name": "stderr",
     "output_type": "stream",
     "text": [
      "\n",
      "\n",
      " 85%|████████▌ | 17/20 [03:13<00:32, 10.68s/it]\u001B[A\u001B[A"
     ]
    },
    {
     "name": "stdout",
     "output_type": "stream",
     "text": [
      "Max pixel:  210.64\n",
      "954.56201171875\n",
      "camera complete\n",
      "PCA: 0.11111111111111072\n",
      "powermeter complete\n",
      "954.406982421875\n",
      "spectrometer complete\n",
      "n_frames 50\n"
     ]
    },
    {
     "name": "stderr",
     "output_type": "stream",
     "text": [
      "\n",
      "\n",
      " 90%|█████████ | 18/20 [03:23<00:21, 10.62s/it]\u001B[A\u001B[A"
     ]
    },
    {
     "name": "stdout",
     "output_type": "stream",
     "text": [
      "Max pixel:  176.52\n",
      "954.406982421875\n",
      "camera complete\n",
      "PCA: 0.11111111111111072\n",
      "powermeter complete\n",
      "954.3295288085938\n",
      "spectrometer complete\n",
      "n_frames 50\n"
     ]
    },
    {
     "name": "stderr",
     "output_type": "stream",
     "text": [
      "\n",
      "\n",
      " 95%|█████████▌| 19/20 [03:34<00:10, 10.59s/it]\u001B[A\u001B[A"
     ]
    },
    {
     "name": "stdout",
     "output_type": "stream",
     "text": [
      "Max pixel:  70.48\n",
      "954.3295288085938\n",
      "camera complete\n",
      "PCA: 0.11111111111111072\n",
      "powermeter complete\n",
      "954.7168579101562\n",
      "spectrometer complete\n",
      "n_frames 50\n"
     ]
    },
    {
     "name": "stderr",
     "output_type": "stream",
     "text": [
      "\n",
      "\n",
      "100%|██████████| 20/20 [03:44<00:00, 11.24s/it]\u001B[A\u001B[A\n",
      "\n",
      " 60%|██████    | 6/10 [22:11<14:51, 222.99s/it]\u001B[A"
     ]
    },
    {
     "name": "stdout",
     "output_type": "stream",
     "text": [
      "Max pixel:  76.46\n",
      "954.7168579101562\n",
      "camera complete\n",
      "20240820_094258 20240820_094633\n",
      "-1.666666666666666\n",
      "41231\n"
     ]
    },
    {
     "name": "stderr",
     "output_type": "stream",
     "text": [
      "\n",
      "\n",
      "  0%|          | 0/20 [00:00<?, ?it/s]\u001B[A\u001B[A"
     ]
    },
    {
     "name": "stdout",
     "output_type": "stream",
     "text": [
      "PCA: -1.666666666666666\n",
      "powermeter complete\n",
      "931.0665283203125\n",
      "spectrometer complete\n",
      "n_frames 4\n",
      "Max pixel:  147.5\n",
      "931.0665283203125\n",
      "camera complete\n"
     ]
    },
    {
     "name": "stderr",
     "output_type": "stream",
     "text": [
      "\n",
      "\n",
      "  5%|▌         | 1/20 [00:11<03:41, 11.64s/it]\u001B[A\u001B[A"
     ]
    },
    {
     "name": "stdout",
     "output_type": "stream",
     "text": [
      "PCA: -1.666666666666666\n",
      "powermeter complete\n",
      "956.260009765625\n",
      "spectrometer complete\n",
      "n_frames 50\n"
     ]
    },
    {
     "name": "stderr",
     "output_type": "stream",
     "text": [
      "\n",
      "\n",
      " 10%|█         | 2/20 [00:22<03:26, 11.47s/it]\u001B[A\u001B[A"
     ]
    },
    {
     "name": "stdout",
     "output_type": "stream",
     "text": [
      "Max pixel:  4.96\n",
      "956.260009765625\n",
      "camera complete\n",
      "PCA: -1.666666666666666\n",
      "powermeter complete\n",
      "956.260009765625\n",
      "spectrometer complete\n",
      "n_frames 4\n",
      "Max pixel:  229.75\n",
      "956.260009765625\n",
      "camera complete\n"
     ]
    },
    {
     "name": "stderr",
     "output_type": "stream",
     "text": [
      "\n",
      "\n",
      " 15%|█▌        | 3/20 [00:34<03:16, 11.53s/it]\u001B[A\u001B[A"
     ]
    },
    {
     "name": "stdout",
     "output_type": "stream",
     "text": [
      "PCA: -1.666666666666666\n",
      "powermeter complete\n",
      "956.260009765625\n",
      "spectrometer complete\n",
      "n_frames 50\n"
     ]
    },
    {
     "name": "stderr",
     "output_type": "stream",
     "text": [
      "\n",
      "\n",
      " 20%|██        | 4/20 [00:46<03:05, 11.57s/it]\u001B[A\u001B[A"
     ]
    },
    {
     "name": "stdout",
     "output_type": "stream",
     "text": [
      "Max pixel:  6.08\n",
      "956.260009765625\n",
      "camera complete\n",
      "PCA: -1.666666666666666\n",
      "powermeter complete\n",
      "956.1061401367188\n",
      "spectrometer complete\n",
      "n_frames 16\n"
     ]
    },
    {
     "name": "stderr",
     "output_type": "stream",
     "text": [
      "\n",
      "\n"
     ]
    },
    {
     "name": "stdout",
     "output_type": "stream",
     "text": [
      "Max pixel:  132.625\n",
      "956.1061401367188\n",
      "camera complete\n"
     ]
    },
    {
     "name": "stderr",
     "output_type": "stream",
     "text": [
      " 25%|██▌       | 5/20 [00:57<02:53, 11.55s/it]\u001B[A\u001B[A"
     ]
    },
    {
     "name": "stdout",
     "output_type": "stream",
     "text": [
      "PCA: -1.666666666666666\n",
      "powermeter complete\n",
      "956.18310546875\n",
      "spectrometer complete\n",
      "n_frames 16\n"
     ]
    },
    {
     "name": "stderr",
     "output_type": "stream",
     "text": [
      "\n",
      "\n"
     ]
    },
    {
     "name": "stdout",
     "output_type": "stream",
     "text": [
      "Max pixel:  157.5\n",
      "956.18310546875\n",
      "camera complete\n"
     ]
    },
    {
     "name": "stderr",
     "output_type": "stream",
     "text": [
      " 30%|███       | 6/20 [01:09<02:40, 11.49s/it]\u001B[A\u001B[A"
     ]
    },
    {
     "name": "stdout",
     "output_type": "stream",
     "text": [
      "PCA: -1.666666666666666\n",
      "powermeter complete\n",
      "955.9521484375\n",
      "spectrometer complete\n",
      "n_frames 16\n"
     ]
    },
    {
     "name": "stderr",
     "output_type": "stream",
     "text": [
      "\n",
      "\n"
     ]
    },
    {
     "name": "stdout",
     "output_type": "stream",
     "text": [
      "Max pixel:  217.9375\n",
      "955.9521484375\n",
      "camera complete\n"
     ]
    },
    {
     "name": "stderr",
     "output_type": "stream",
     "text": [
      " 35%|███▌      | 7/20 [01:19<02:25, 11.17s/it]\u001B[A\u001B[A"
     ]
    },
    {
     "name": "stdout",
     "output_type": "stream",
     "text": [
      "PCA: -1.666666666666666\n",
      "powermeter complete\n",
      "955.7210083007812\n",
      "spectrometer complete\n",
      "n_frames 16\n"
     ]
    },
    {
     "name": "stderr",
     "output_type": "stream",
     "text": [
      "\n",
      "\n"
     ]
    },
    {
     "name": "stdout",
     "output_type": "stream",
     "text": [
      "Max pixel:  193.8125\n",
      "955.7210083007812\n",
      "camera complete\n"
     ]
    },
    {
     "name": "stderr",
     "output_type": "stream",
     "text": [
      " 40%|████      | 8/20 [01:30<02:12, 11.03s/it]\u001B[A\u001B[A"
     ]
    },
    {
     "name": "stdout",
     "output_type": "stream",
     "text": [
      "PCA: -1.666666666666666\n",
      "powermeter complete\n",
      "955.9521484375\n",
      "spectrometer complete\n",
      "n_frames 50\n"
     ]
    },
    {
     "name": "stderr",
     "output_type": "stream",
     "text": [
      "\n",
      "\n",
      " 45%|████▌     | 9/20 [01:40<01:58, 10.78s/it]\u001B[A\u001B[A"
     ]
    },
    {
     "name": "stdout",
     "output_type": "stream",
     "text": [
      "Max pixel:  59.82\n",
      "955.9521484375\n",
      "camera complete\n",
      "PCA: -1.666666666666666\n",
      "powermeter complete\n",
      "955.9521484375\n",
      "spectrometer complete\n",
      "n_frames 50\n"
     ]
    },
    {
     "name": "stderr",
     "output_type": "stream",
     "text": [
      "\n",
      "\n",
      " 50%|█████     | 10/20 [01:51<01:48, 10.86s/it]\u001B[A\u001B[A"
     ]
    },
    {
     "name": "stdout",
     "output_type": "stream",
     "text": [
      "Max pixel:  190.98\n",
      "955.9521484375\n",
      "camera complete\n",
      "PCA: -1.666666666666666\n",
      "powermeter complete\n",
      "956.1061401367188\n",
      "spectrometer complete\n",
      "n_frames 50\n"
     ]
    },
    {
     "name": "stderr",
     "output_type": "stream",
     "text": [
      "\n",
      "\n",
      " 55%|█████▌    | 11/20 [02:02<01:37, 10.89s/it]\u001B[A\u001B[A"
     ]
    },
    {
     "name": "stdout",
     "output_type": "stream",
     "text": [
      "Max pixel:  234.46\n",
      "956.1061401367188\n",
      "camera complete\n",
      "PCA: -1.666666666666666\n",
      "powermeter complete\n",
      "955.798095703125\n",
      "spectrometer complete\n",
      "n_frames 50\n"
     ]
    },
    {
     "name": "stderr",
     "output_type": "stream",
     "text": [
      "\n",
      "\n",
      " 60%|██████    | 12/20 [02:21<01:47, 13.48s/it]\u001B[A\u001B[A"
     ]
    },
    {
     "name": "stdout",
     "output_type": "stream",
     "text": [
      "Max pixel:  121.68\n",
      "955.798095703125\n",
      "camera complete\n",
      "PCA: -1.666666666666666\n",
      "powermeter complete\n",
      "955.798095703125\n",
      "spectrometer complete\n",
      "n_frames 50\n"
     ]
    },
    {
     "name": "stderr",
     "output_type": "stream",
     "text": [
      "\n",
      "\n",
      " 65%|██████▌   | 13/20 [02:32<01:27, 12.56s/it]\u001B[A\u001B[A"
     ]
    },
    {
     "name": "stdout",
     "output_type": "stream",
     "text": [
      "Max pixel:  139.6\n",
      "955.798095703125\n",
      "camera complete\n",
      "PCA: -1.666666666666666\n",
      "powermeter complete\n",
      "955.8751220703125\n",
      "spectrometer complete\n",
      "n_frames 50\n"
     ]
    },
    {
     "name": "stderr",
     "output_type": "stream",
     "text": [
      "\n",
      "\n",
      " 70%|███████   | 14/20 [02:42<01:11, 11.89s/it]\u001B[A\u001B[A"
     ]
    },
    {
     "name": "stdout",
     "output_type": "stream",
     "text": [
      "Max pixel:  85.82\n",
      "955.8751220703125\n",
      "camera complete\n",
      "PCA: -1.666666666666666\n",
      "powermeter complete\n",
      "955.8751220703125\n",
      "spectrometer complete\n",
      "n_frames 50\n"
     ]
    },
    {
     "name": "stderr",
     "output_type": "stream",
     "text": [
      "\n",
      "\n",
      " 75%|███████▌  | 15/20 [02:53<00:57, 11.43s/it]\u001B[A\u001B[A"
     ]
    },
    {
     "name": "stdout",
     "output_type": "stream",
     "text": [
      "Max pixel:  102.12\n",
      "955.8751220703125\n",
      "camera complete\n",
      "PCA: -1.666666666666666\n",
      "powermeter complete\n",
      "955.798095703125\n",
      "spectrometer complete\n",
      "n_frames 50\n"
     ]
    },
    {
     "name": "stderr",
     "output_type": "stream",
     "text": [
      "\n",
      "\n",
      " 80%|████████  | 16/20 [03:03<00:44, 11.13s/it]\u001B[A\u001B[A"
     ]
    },
    {
     "name": "stdout",
     "output_type": "stream",
     "text": [
      "Max pixel:  101.72\n",
      "955.798095703125\n",
      "camera complete\n",
      "PCA: -1.666666666666666\n",
      "powermeter complete\n",
      "955.5668334960938\n",
      "spectrometer complete\n",
      "n_frames 50\n"
     ]
    },
    {
     "name": "stderr",
     "output_type": "stream",
     "text": [
      "\n",
      "\n",
      " 85%|████████▌ | 17/20 [03:13<00:32, 10.91s/it]\u001B[A\u001B[A"
     ]
    },
    {
     "name": "stdout",
     "output_type": "stream",
     "text": [
      "Max pixel:  126.14\n",
      "955.5668334960938\n",
      "camera complete\n",
      "PCA: -1.666666666666666\n",
      "powermeter complete\n",
      "955.6439208984375\n",
      "spectrometer complete\n",
      "n_frames 50\n"
     ]
    },
    {
     "name": "stderr",
     "output_type": "stream",
     "text": [
      "\n",
      "\n",
      " 90%|█████████ | 18/20 [03:24<00:21, 10.69s/it]\u001B[A\u001B[A"
     ]
    },
    {
     "name": "stdout",
     "output_type": "stream",
     "text": [
      "Max pixel:  49.08\n",
      "955.6439208984375\n",
      "camera complete\n",
      "PCA: -1.666666666666666\n",
      "powermeter complete\n",
      "955.8751220703125\n",
      "spectrometer complete\n",
      "n_frames 50\n"
     ]
    },
    {
     "name": "stderr",
     "output_type": "stream",
     "text": [
      "\n",
      "\n",
      " 95%|█████████▌| 19/20 [03:34<00:10, 10.57s/it]\u001B[A\u001B[A"
     ]
    },
    {
     "name": "stdout",
     "output_type": "stream",
     "text": [
      "Max pixel:  106.46\n",
      "955.8751220703125\n",
      "camera complete\n",
      "PCA: -1.666666666666666\n",
      "powermeter complete\n",
      "955.6439208984375\n",
      "spectrometer complete\n",
      "n_frames 50\n"
     ]
    },
    {
     "name": "stderr",
     "output_type": "stream",
     "text": [
      "\n",
      "\n",
      "100%|██████████| 20/20 [03:44<00:00, 11.24s/it]\u001B[A\u001B[A\n",
      "\n",
      " 70%|███████   | 7/10 [25:56<11:10, 223.65s/it]\u001B[A"
     ]
    },
    {
     "name": "stdout",
     "output_type": "stream",
     "text": [
      "Max pixel:  105.54\n",
      "955.6439208984375\n",
      "camera complete\n",
      "20240820_094643 20240820_095018\n",
      "-3.444444444444443\n",
      "41231\n"
     ]
    },
    {
     "name": "stderr",
     "output_type": "stream",
     "text": [
      "\n",
      "\n",
      "  0%|          | 0/20 [00:00<?, ?it/s]\u001B[A\u001B[A"
     ]
    },
    {
     "name": "stdout",
     "output_type": "stream",
     "text": [
      "PCA: -3.444444444444443\n",
      "powermeter complete\n",
      "928.8607177734375\n",
      "spectrometer complete\n",
      "n_frames 4\n",
      "Max pixel:  148.25\n",
      "928.8607177734375\n",
      "camera complete\n"
     ]
    },
    {
     "name": "stderr",
     "output_type": "stream",
     "text": [
      "\n",
      "\n",
      "  5%|▌         | 1/20 [00:11<03:38, 11.52s/it]\u001B[A\u001B[A"
     ]
    },
    {
     "name": "stdout",
     "output_type": "stream",
     "text": [
      "PCA: -3.444444444444443\n",
      "powermeter complete\n",
      "957.4107666015625\n",
      "spectrometer complete\n",
      "n_frames 50\n"
     ]
    },
    {
     "name": "stderr",
     "output_type": "stream",
     "text": [
      "\n",
      "\n",
      " 10%|█         | 2/20 [00:23<03:26, 11.50s/it]\u001B[A\u001B[A"
     ]
    },
    {
     "name": "stdout",
     "output_type": "stream",
     "text": [
      "Max pixel:  4.92\n",
      "957.4107666015625\n",
      "camera complete\n",
      "PCA: -3.444444444444443\n",
      "powermeter complete\n",
      "957.4107666015625\n",
      "spectrometer complete\n",
      "n_frames 4\n",
      "Max pixel:  227.75\n",
      "957.4107666015625\n",
      "camera complete\n"
     ]
    },
    {
     "name": "stderr",
     "output_type": "stream",
     "text": [
      "\n",
      "\n",
      " 15%|█▌        | 3/20 [00:34<03:16, 11.54s/it]\u001B[A\u001B[A"
     ]
    },
    {
     "name": "stdout",
     "output_type": "stream",
     "text": [
      "PCA: -3.444444444444443\n",
      "powermeter complete\n",
      "957.334228515625\n",
      "spectrometer complete\n",
      "n_frames 50\n"
     ]
    },
    {
     "name": "stderr",
     "output_type": "stream",
     "text": [
      "\n",
      "\n",
      " 20%|██        | 4/20 [00:46<03:04, 11.50s/it]\u001B[A\u001B[A"
     ]
    },
    {
     "name": "stdout",
     "output_type": "stream",
     "text": [
      "Max pixel:  6.08\n",
      "957.334228515625\n",
      "camera complete\n",
      "PCA: -3.444444444444443\n",
      "powermeter complete\n",
      "957.2576904296875\n",
      "spectrometer complete\n",
      "n_frames 16\n"
     ]
    },
    {
     "name": "stderr",
     "output_type": "stream",
     "text": [
      "\n",
      "\n",
      " 25%|██▌       | 5/20 [00:57<02:51, 11.46s/it]\u001B[A\u001B[A"
     ]
    },
    {
     "name": "stdout",
     "output_type": "stream",
     "text": [
      "Max pixel:  124.75\n",
      "957.2576904296875\n",
      "camera complete\n",
      "PCA: -3.444444444444443\n",
      "powermeter complete\n",
      "957.2576904296875\n",
      "spectrometer complete\n",
      "n_frames 8\n",
      "Max pixel:  242.25\n",
      "957.2576904296875\n",
      "camera complete\n"
     ]
    },
    {
     "name": "stderr",
     "output_type": "stream",
     "text": [
      "\n",
      "\n",
      " 30%|███       | 6/20 [01:08<02:40, 11.46s/it]\u001B[A\u001B[A"
     ]
    },
    {
     "name": "stdout",
     "output_type": "stream",
     "text": [
      "PCA: -3.444444444444443\n",
      "powermeter complete\n",
      "957.2576904296875\n",
      "spectrometer complete\n",
      "n_frames 16\n"
     ]
    },
    {
     "name": "stderr",
     "output_type": "stream",
     "text": [
      "\n",
      "\n",
      " 35%|███▌      | 7/20 [01:20<02:28, 11.45s/it]\u001B[A\u001B[A"
     ]
    },
    {
     "name": "stdout",
     "output_type": "stream",
     "text": [
      "Max pixel:  172.1875\n",
      "957.2576904296875\n",
      "camera complete\n",
      "PCA: -3.444444444444443\n",
      "powermeter complete\n",
      "955.6439208984375\n",
      "spectrometer complete\n",
      "n_frames 16\n"
     ]
    },
    {
     "name": "stderr",
     "output_type": "stream",
     "text": [
      "\n",
      "\n",
      " 40%|████      | 8/20 [01:31<02:16, 11.41s/it]\u001B[A\u001B[A"
     ]
    },
    {
     "name": "stdout",
     "output_type": "stream",
     "text": [
      "Max pixel:  188.5\n",
      "955.6439208984375\n",
      "camera complete\n",
      "PCA: -3.444444444444443\n",
      "powermeter complete\n",
      "957.2576904296875\n",
      "spectrometer complete\n",
      "n_frames 16\n"
     ]
    },
    {
     "name": "stderr",
     "output_type": "stream",
     "text": [
      "\n",
      "\n",
      " 45%|████▌     | 9/20 [01:43<02:05, 11.40s/it]\u001B[A\u001B[A"
     ]
    },
    {
     "name": "stdout",
     "output_type": "stream",
     "text": [
      "Max pixel:  219.4375\n",
      "957.2576904296875\n",
      "camera complete\n",
      "PCA: -3.444444444444443\n",
      "powermeter complete\n",
      "957.02783203125\n",
      "spectrometer complete\n",
      "n_frames 16\n"
     ]
    },
    {
     "name": "stderr",
     "output_type": "stream",
     "text": [
      "\n",
      "\n"
     ]
    },
    {
     "name": "stdout",
     "output_type": "stream",
     "text": [
      "Max pixel:  247.25\n",
      "957.02783203125\n",
      "camera complete\n"
     ]
    },
    {
     "name": "stderr",
     "output_type": "stream",
     "text": [
      " 50%|█████     | 10/20 [01:54<01:54, 11.41s/it]\u001B[A\u001B[A"
     ]
    },
    {
     "name": "stdout",
     "output_type": "stream",
     "text": [
      "PCA: -3.444444444444443\n",
      "powermeter complete\n",
      "956.9511108398438\n",
      "spectrometer complete\n",
      "n_frames 50\n"
     ]
    },
    {
     "name": "stderr",
     "output_type": "stream",
     "text": [
      "\n",
      "\n",
      " 55%|█████▌    | 11/20 [02:04<01:39, 11.08s/it]\u001B[A\u001B[A"
     ]
    },
    {
     "name": "stdout",
     "output_type": "stream",
     "text": [
      "Max pixel:  14.36\n",
      "956.9511108398438\n",
      "camera complete\n",
      "PCA: -3.444444444444443\n",
      "powermeter complete\n",
      "957.334228515625\n",
      "spectrometer complete\n",
      "n_frames 50\n"
     ]
    },
    {
     "name": "stderr",
     "output_type": "stream",
     "text": [
      "\n",
      "\n",
      " 60%|██████    | 12/20 [02:15<01:27, 10.97s/it]\u001B[A\u001B[A"
     ]
    },
    {
     "name": "stdout",
     "output_type": "stream",
     "text": [
      "Max pixel:  119.46\n",
      "957.334228515625\n",
      "camera complete\n",
      "PCA: -3.444444444444443\n",
      "powermeter complete\n",
      "956.5673828125\n",
      "spectrometer complete\n",
      "n_frames 50\n"
     ]
    },
    {
     "name": "stderr",
     "output_type": "stream",
     "text": [
      "\n",
      "\n",
      " 65%|██████▌   | 13/20 [02:34<01:34, 13.49s/it]\u001B[A\u001B[A"
     ]
    },
    {
     "name": "stdout",
     "output_type": "stream",
     "text": [
      "Max pixel:  159.58\n",
      "956.5673828125\n",
      "camera complete\n",
      "PCA: -3.444444444444443\n",
      "powermeter complete\n",
      "957.1044921875\n",
      "spectrometer complete\n",
      "n_frames 50\n"
     ]
    },
    {
     "name": "stderr",
     "output_type": "stream",
     "text": [
      "\n",
      "\n",
      " 70%|███████   | 14/20 [02:45<01:15, 12.60s/it]\u001B[A\u001B[A"
     ]
    },
    {
     "name": "stdout",
     "output_type": "stream",
     "text": [
      "Max pixel:  220.94\n",
      "957.1044921875\n",
      "camera complete\n",
      "PCA: -3.444444444444443\n",
      "powermeter complete\n",
      "956.9511108398438\n",
      "spectrometer complete\n",
      "n_frames 50\n"
     ]
    },
    {
     "name": "stderr",
     "output_type": "stream",
     "text": [
      "\n",
      "\n",
      " 75%|███████▌  | 15/20 [02:55<00:59, 11.90s/it]\u001B[A\u001B[A"
     ]
    },
    {
     "name": "stdout",
     "output_type": "stream",
     "text": [
      "Max pixel:  177.28\n",
      "956.9511108398438\n",
      "camera complete\n",
      "PCA: -3.444444444444443\n",
      "powermeter complete\n",
      "957.1044921875\n",
      "spectrometer complete\n",
      "n_frames 50\n"
     ]
    },
    {
     "name": "stderr",
     "output_type": "stream",
     "text": [
      "\n",
      "\n",
      " 80%|████████  | 16/20 [03:05<00:45, 11.45s/it]\u001B[A\u001B[A"
     ]
    },
    {
     "name": "stdout",
     "output_type": "stream",
     "text": [
      "Max pixel:  102.32\n",
      "957.1044921875\n",
      "camera complete\n",
      "PCA: -3.444444444444443\n",
      "powermeter complete\n",
      "957.1810302734375\n",
      "spectrometer complete\n",
      "n_frames 50\n"
     ]
    },
    {
     "name": "stderr",
     "output_type": "stream",
     "text": [
      "\n",
      "\n",
      " 85%|████████▌ | 17/20 [03:16<00:33, 11.13s/it]\u001B[A\u001B[A"
     ]
    },
    {
     "name": "stdout",
     "output_type": "stream",
     "text": [
      "Max pixel:  144.1\n",
      "957.1810302734375\n",
      "camera complete\n",
      "PCA: -3.444444444444443\n",
      "powermeter complete\n",
      "956.8744506835938\n",
      "spectrometer complete\n",
      "n_frames 50\n"
     ]
    },
    {
     "name": "stderr",
     "output_type": "stream",
     "text": [
      "\n",
      "\n",
      " 90%|█████████ | 18/20 [03:26<00:21, 10.90s/it]\u001B[A\u001B[A"
     ]
    },
    {
     "name": "stdout",
     "output_type": "stream",
     "text": [
      "Max pixel:  70.88\n",
      "956.8744506835938\n",
      "camera complete\n",
      "PCA: -3.444444444444443\n",
      "powermeter complete\n",
      "956.7210083007812\n",
      "spectrometer complete\n",
      "n_frames 50\n"
     ]
    },
    {
     "name": "stderr",
     "output_type": "stream",
     "text": [
      "\n",
      "\n",
      " 95%|█████████▌| 19/20 [03:37<00:10, 10.77s/it]\u001B[A\u001B[A"
     ]
    },
    {
     "name": "stdout",
     "output_type": "stream",
     "text": [
      "Max pixel:  161.24\n",
      "956.7210083007812\n",
      "camera complete\n",
      "PCA: -3.444444444444443\n",
      "powermeter complete\n",
      "957.1044921875\n",
      "spectrometer complete\n",
      "n_frames 50\n"
     ]
    },
    {
     "name": "stderr",
     "output_type": "stream",
     "text": [
      "\n",
      "\n",
      "100%|██████████| 20/20 [03:47<00:00, 11.38s/it]\u001B[A\u001B[A\n",
      "\n",
      " 80%|████████  | 8/10 [29:44<07:29, 224.93s/it]\u001B[A"
     ]
    },
    {
     "name": "stdout",
     "output_type": "stream",
     "text": [
      "Max pixel:  72.16\n",
      "957.1044921875\n",
      "camera complete\n",
      "20240820_095028 20240820_095406\n",
      "-5.222222222222221\n",
      "41231\n"
     ]
    },
    {
     "name": "stderr",
     "output_type": "stream",
     "text": [
      "\n",
      "\n",
      "  0%|          | 0/20 [00:00<?, ?it/s]\u001B[A\u001B[A"
     ]
    },
    {
     "name": "stdout",
     "output_type": "stream",
     "text": [
      "PCA: -5.222222222222221\n",
      "powermeter complete\n",
      "929.0309448242188\n",
      "spectrometer complete\n",
      "n_frames 4\n",
      "Max pixel:  151.25\n",
      "929.0309448242188\n",
      "camera complete\n"
     ]
    },
    {
     "name": "stderr",
     "output_type": "stream",
     "text": [
      "\n",
      "\n",
      "  5%|▌         | 1/20 [00:11<03:41, 11.67s/it]\u001B[A\u001B[A"
     ]
    },
    {
     "name": "stdout",
     "output_type": "stream",
     "text": [
      "PCA: -5.222222222222221\n",
      "powermeter complete\n",
      "931.0665283203125\n",
      "spectrometer complete\n",
      "n_frames 50\n"
     ]
    },
    {
     "name": "stderr",
     "output_type": "stream",
     "text": [
      "\n",
      "\n",
      " 10%|█         | 2/20 [00:23<03:28, 11.56s/it]\u001B[A\u001B[A"
     ]
    },
    {
     "name": "stdout",
     "output_type": "stream",
     "text": [
      "Max pixel:  4.72\n",
      "931.0665283203125\n",
      "camera complete\n",
      "PCA: -5.222222222222221\n",
      "powermeter complete\n",
      "958.8603515625\n",
      "spectrometer complete\n",
      "n_frames 4\n",
      "Max pixel:  218.75\n",
      "958.8603515625\n",
      "camera complete\n"
     ]
    },
    {
     "name": "stderr",
     "output_type": "stream",
     "text": [
      "\n",
      "\n",
      " 15%|█▌        | 3/20 [00:34<03:17, 11.61s/it]\u001B[A\u001B[A"
     ]
    },
    {
     "name": "stdout",
     "output_type": "stream",
     "text": [
      "PCA: -5.222222222222221\n",
      "powermeter complete\n",
      "958.8603515625\n",
      "spectrometer complete\n",
      "n_frames 50\n"
     ]
    },
    {
     "name": "stderr",
     "output_type": "stream",
     "text": [
      "\n",
      "\n",
      " 20%|██        | 4/20 [00:46<03:04, 11.51s/it]\u001B[A\u001B[A"
     ]
    },
    {
     "name": "stdout",
     "output_type": "stream",
     "text": [
      "Max pixel:  6.08\n",
      "958.8603515625\n",
      "camera complete\n",
      "PCA: -5.222222222222221\n",
      "powermeter complete\n",
      "958.403564453125\n",
      "spectrometer complete\n",
      "n_frames 8\n",
      "Max pixel:  203.25\n",
      "958.403564453125\n",
      "camera complete\n"
     ]
    },
    {
     "name": "stderr",
     "output_type": "stream",
     "text": [
      "\n",
      "\n",
      " 25%|██▌       | 5/20 [00:57<02:52, 11.50s/it]\u001B[A\u001B[A"
     ]
    },
    {
     "name": "stdout",
     "output_type": "stream",
     "text": [
      "PCA: -5.222222222222221\n",
      "powermeter complete\n",
      "958.403564453125\n",
      "spectrometer complete\n",
      "n_frames 16\n"
     ]
    },
    {
     "name": "stderr",
     "output_type": "stream",
     "text": [
      "\n",
      "\n",
      " 30%|███       | 6/20 [01:09<02:40, 11.48s/it]\u001B[A\u001B[A"
     ]
    },
    {
     "name": "stdout",
     "output_type": "stream",
     "text": [
      "Max pixel:  139.8125\n",
      "958.403564453125\n",
      "camera complete\n",
      "PCA: -5.222222222222221\n",
      "powermeter complete\n",
      "958.7081909179688\n",
      "spectrometer complete\n",
      "n_frames 16\n"
     ]
    },
    {
     "name": "stderr",
     "output_type": "stream",
     "text": [
      "\n",
      "\n"
     ]
    },
    {
     "name": "stdout",
     "output_type": "stream",
     "text": [
      "Max pixel:  160.0625\n",
      "958.7081909179688\n",
      "camera complete\n"
     ]
    },
    {
     "name": "stderr",
     "output_type": "stream",
     "text": [
      " 35%|███▌      | 7/20 [01:20<02:29, 11.46s/it]\u001B[A\u001B[A"
     ]
    },
    {
     "name": "stdout",
     "output_type": "stream",
     "text": [
      "PCA: -5.222222222222221\n",
      "powermeter complete\n",
      "958.7081909179688\n",
      "spectrometer complete\n",
      "n_frames 16\n"
     ]
    },
    {
     "name": "stderr",
     "output_type": "stream",
     "text": [
      "\n",
      "\n"
     ]
    },
    {
     "name": "stdout",
     "output_type": "stream",
     "text": [
      "Max pixel:  181.875\n",
      "958.7081909179688\n",
      "camera complete\n"
     ]
    },
    {
     "name": "stderr",
     "output_type": "stream",
     "text": [
      " 40%|████      | 8/20 [01:31<02:16, 11.40s/it]\u001B[A\u001B[A"
     ]
    },
    {
     "name": "stdout",
     "output_type": "stream",
     "text": [
      "PCA: -5.222222222222221\n",
      "powermeter complete\n",
      "958.3273315429688\n",
      "spectrometer complete\n",
      "n_frames 16\n"
     ]
    },
    {
     "name": "stderr",
     "output_type": "stream",
     "text": [
      "\n",
      "\n"
     ]
    },
    {
     "name": "stdout",
     "output_type": "stream",
     "text": [
      "Max pixel:  206.8125\n",
      "958.3273315429688\n",
      "camera complete\n"
     ]
    },
    {
     "name": "stderr",
     "output_type": "stream",
     "text": [
      " 45%|████▌     | 9/20 [01:43<02:05, 11.41s/it]\u001B[A\u001B[A"
     ]
    },
    {
     "name": "stdout",
     "output_type": "stream",
     "text": [
      "PCA: -5.222222222222221\n",
      "powermeter complete\n",
      "958.2510986328125\n",
      "spectrometer complete\n",
      "n_frames 16\n"
     ]
    },
    {
     "name": "stderr",
     "output_type": "stream",
     "text": [
      "\n",
      "\n"
     ]
    },
    {
     "name": "stdout",
     "output_type": "stream",
     "text": [
      "Max pixel:  227.1875\n",
      "958.2510986328125\n",
      "camera complete\n"
     ]
    },
    {
     "name": "stderr",
     "output_type": "stream",
     "text": [
      " 50%|█████     | 10/20 [01:54<01:54, 11.46s/it]\u001B[A\u001B[A"
     ]
    },
    {
     "name": "stdout",
     "output_type": "stream",
     "text": [
      "PCA: -5.222222222222221\n",
      "powermeter complete\n",
      "958.3273315429688\n",
      "spectrometer complete\n",
      "n_frames 16\n"
     ]
    },
    {
     "name": "stderr",
     "output_type": "stream",
     "text": [
      "\n",
      "\n"
     ]
    },
    {
     "name": "stdout",
     "output_type": "stream",
     "text": [
      "Max pixel:  245.625\n",
      "958.3273315429688\n",
      "camera complete\n"
     ]
    },
    {
     "name": "stderr",
     "output_type": "stream",
     "text": [
      " 55%|█████▌    | 11/20 [02:06<01:43, 11.45s/it]\u001B[A\u001B[A"
     ]
    },
    {
     "name": "stdout",
     "output_type": "stream",
     "text": [
      "PCA: -5.222222222222221\n",
      "powermeter complete\n",
      "958.3273315429688\n",
      "spectrometer complete\n",
      "n_frames 16\n"
     ]
    },
    {
     "name": "stderr",
     "output_type": "stream",
     "text": [
      "\n",
      "\n"
     ]
    },
    {
     "name": "stdout",
     "output_type": "stream",
     "text": [
      "Max pixel:  248.8125\n",
      "958.3273315429688\n",
      "camera complete\n"
     ]
    },
    {
     "name": "stderr",
     "output_type": "stream",
     "text": [
      " 60%|██████    | 12/20 [02:17<01:31, 11.42s/it]\u001B[A\u001B[A"
     ]
    },
    {
     "name": "stdout",
     "output_type": "stream",
     "text": [
      "PCA: -5.222222222222221\n",
      "powermeter complete\n",
      "958.6320190429688\n",
      "spectrometer complete\n",
      "n_frames 31\n"
     ]
    },
    {
     "name": "stderr",
     "output_type": "stream",
     "text": [
      "\n",
      "\n",
      " 65%|██████▌   | 13/20 [02:28<01:19, 11.41s/it]\u001B[A\u001B[A"
     ]
    },
    {
     "name": "stdout",
     "output_type": "stream",
     "text": [
      "Max pixel:  165.5483870967742\n",
      "958.6320190429688\n",
      "camera complete\n",
      "PCA: -5.222222222222221\n",
      "powermeter complete\n",
      "958.022216796875\n",
      "spectrometer complete\n",
      "n_frames 31\n"
     ]
    },
    {
     "name": "stderr",
     "output_type": "stream",
     "text": [
      "\n",
      "\n",
      " 70%|███████   | 14/20 [02:39<01:06, 11.15s/it]\u001B[A\u001B[A"
     ]
    },
    {
     "name": "stdout",
     "output_type": "stream",
     "text": [
      "Max pixel:  199.16129032258064\n",
      "958.022216796875\n",
      "camera complete\n",
      "PCA: -5.222222222222221\n",
      "powermeter complete\n",
      "958.2510986328125\n",
      "spectrometer complete\n",
      "n_frames 50\n"
     ]
    },
    {
     "name": "stderr",
     "output_type": "stream",
     "text": [
      "\n",
      "\n",
      " 75%|███████▌  | 15/20 [02:50<00:54, 11.00s/it]\u001B[A\u001B[A"
     ]
    },
    {
     "name": "stdout",
     "output_type": "stream",
     "text": [
      "Max pixel:  104.92\n",
      "958.2510986328125\n",
      "camera complete\n",
      "PCA: -5.222222222222221\n",
      "powermeter complete\n",
      "958.479736328125\n",
      "spectrometer complete\n",
      "n_frames 50\n"
     ]
    },
    {
     "name": "stderr",
     "output_type": "stream",
     "text": [
      "\n",
      "\n",
      " 80%|████████  | 16/20 [03:01<00:44, 11.00s/it]\u001B[A\u001B[A"
     ]
    },
    {
     "name": "stdout",
     "output_type": "stream",
     "text": [
      "Max pixel:  143.18\n",
      "958.479736328125\n",
      "camera complete\n",
      "PCA: -5.222222222222221\n",
      "powermeter complete\n",
      "958.2510986328125\n",
      "spectrometer complete\n",
      "n_frames 50\n"
     ]
    },
    {
     "name": "stderr",
     "output_type": "stream",
     "text": [
      "\n",
      "\n",
      " 85%|████████▌ | 17/20 [03:20<00:40, 13.49s/it]\u001B[A\u001B[A"
     ]
    },
    {
     "name": "stdout",
     "output_type": "stream",
     "text": [
      "Max pixel:  111.9\n",
      "958.2510986328125\n",
      "camera complete\n",
      "PCA: -5.222222222222221\n",
      "powermeter complete\n",
      "958.403564453125\n",
      "spectrometer complete\n",
      "n_frames 50\n"
     ]
    },
    {
     "name": "stderr",
     "output_type": "stream",
     "text": [
      "\n",
      "\n",
      " 90%|█████████ | 18/20 [03:30<00:25, 12.59s/it]\u001B[A\u001B[A"
     ]
    },
    {
     "name": "stdout",
     "output_type": "stream",
     "text": [
      "Max pixel:  85.7\n",
      "958.403564453125\n",
      "camera complete\n",
      "PCA: -5.222222222222221\n",
      "powermeter complete\n",
      "958.2510986328125\n",
      "spectrometer complete\n",
      "n_frames 50\n"
     ]
    },
    {
     "name": "stderr",
     "output_type": "stream",
     "text": [
      "\n",
      "\n",
      " 95%|█████████▌| 19/20 [03:41<00:11, 11.96s/it]\u001B[A\u001B[A"
     ]
    },
    {
     "name": "stdout",
     "output_type": "stream",
     "text": [
      "Max pixel:  173.28\n",
      "958.2510986328125\n",
      "camera complete\n",
      "PCA: -5.222222222222221\n",
      "powermeter complete\n",
      "957.7166748046875\n",
      "spectrometer complete\n",
      "n_frames 50\n"
     ]
    },
    {
     "name": "stderr",
     "output_type": "stream",
     "text": [
      "\n",
      "\n",
      "100%|██████████| 20/20 [03:51<00:00, 11.59s/it]\u001B[A\u001B[A\n",
      "\n",
      " 90%|█████████ | 9/10 [33:36<03:47, 227.12s/it]\u001B[A"
     ]
    },
    {
     "name": "stdout",
     "output_type": "stream",
     "text": [
      "Max pixel:  138.08\n",
      "957.7166748046875\n",
      "camera complete\n",
      "20240820_095416 20240820_095757\n",
      "-7.0\n",
      "41231\n"
     ]
    },
    {
     "name": "stderr",
     "output_type": "stream",
     "text": [
      "\n",
      "\n",
      "  0%|          | 0/20 [00:00<?, ?it/s]\u001B[A\u001B[A"
     ]
    },
    {
     "name": "stdout",
     "output_type": "stream",
     "text": [
      "PCA: -7.0\n",
      "powermeter complete\n",
      "931.0665283203125\n",
      "spectrometer complete\n",
      "n_frames 4\n",
      "Max pixel:  149.5\n",
      "931.0665283203125\n",
      "camera complete\n"
     ]
    },
    {
     "name": "stderr",
     "output_type": "stream",
     "text": [
      "\n",
      "\n",
      "  5%|▌         | 1/20 [00:11<03:41, 11.64s/it]\u001B[A\u001B[A"
     ]
    },
    {
     "name": "stdout",
     "output_type": "stream",
     "text": [
      "PCA: -7.0\n",
      "powermeter complete\n",
      "931.0665283203125\n",
      "spectrometer complete\n",
      "n_frames 50\n"
     ]
    },
    {
     "name": "stderr",
     "output_type": "stream",
     "text": [
      "\n",
      "\n",
      " 10%|█         | 2/20 [00:23<03:27, 11.54s/it]\u001B[A\u001B[A"
     ]
    },
    {
     "name": "stdout",
     "output_type": "stream",
     "text": [
      "Max pixel:  4.74\n",
      "931.0665283203125\n",
      "camera complete\n",
      "PCA: -7.0\n",
      "powermeter complete\n",
      "929.0309448242188\n",
      "spectrometer complete\n",
      "n_frames 4\n",
      "Max pixel:  209.75\n",
      "929.0309448242188\n",
      "camera complete\n"
     ]
    },
    {
     "name": "stderr",
     "output_type": "stream",
     "text": [
      "\n",
      "\n",
      " 15%|█▌        | 3/20 [00:34<03:16, 11.56s/it]\u001B[A\u001B[A"
     ]
    },
    {
     "name": "stdout",
     "output_type": "stream",
     "text": [
      "PCA: -7.0\n",
      "powermeter complete\n",
      "959.922607421875\n",
      "spectrometer complete\n",
      "n_frames 50\n"
     ]
    },
    {
     "name": "stderr",
     "output_type": "stream",
     "text": [
      "\n",
      "\n",
      " 20%|██        | 4/20 [00:46<03:04, 11.53s/it]\u001B[A\u001B[A"
     ]
    },
    {
     "name": "stdout",
     "output_type": "stream",
     "text": [
      "Max pixel:  6.08\n",
      "959.922607421875\n",
      "camera complete\n",
      "PCA: -7.0\n",
      "powermeter complete\n",
      "959.922607421875\n",
      "spectrometer complete\n",
      "n_frames 8\n",
      "Max pixel:  194.5\n",
      "959.922607421875\n",
      "camera complete\n"
     ]
    },
    {
     "name": "stderr",
     "output_type": "stream",
     "text": [
      "\n",
      "\n",
      " 25%|██▌       | 5/20 [00:57<02:52, 11.48s/it]\u001B[A\u001B[A"
     ]
    },
    {
     "name": "stdout",
     "output_type": "stream",
     "text": [
      "PCA: -7.0\n",
      "powermeter complete\n",
      "959.8468627929688\n",
      "spectrometer complete\n",
      "n_frames 16\n"
     ]
    },
    {
     "name": "stderr",
     "output_type": "stream",
     "text": [
      "\n",
      "\n",
      " 30%|███       | 6/20 [01:08<02:40, 11.44s/it]\u001B[A\u001B[A"
     ]
    },
    {
     "name": "stdout",
     "output_type": "stream",
     "text": [
      "Max pixel:  133.75\n",
      "959.8468627929688\n",
      "camera complete\n",
      "PCA: -7.0\n",
      "powermeter complete\n",
      "959.3920288085938\n",
      "spectrometer complete\n",
      "n_frames 16\n"
     ]
    },
    {
     "name": "stderr",
     "output_type": "stream",
     "text": [
      "\n",
      "\n"
     ]
    },
    {
     "name": "stdout",
     "output_type": "stream",
     "text": [
      "Max pixel:  155.875\n",
      "959.3920288085938\n",
      "camera complete\n"
     ]
    },
    {
     "name": "stderr",
     "output_type": "stream",
     "text": [
      " 35%|███▌      | 7/20 [01:20<02:28, 11.44s/it]\u001B[A\u001B[A"
     ]
    },
    {
     "name": "stdout",
     "output_type": "stream",
     "text": [
      "PCA: -7.0\n",
      "powermeter complete\n",
      "959.316162109375\n",
      "spectrometer complete\n",
      "n_frames 16\n"
     ]
    },
    {
     "name": "stderr",
     "output_type": "stream",
     "text": [
      "\n",
      "\n",
      " 40%|████      | 8/20 [01:31<02:17, 11.42s/it]\u001B[A\u001B[A"
     ]
    },
    {
     "name": "stdout",
     "output_type": "stream",
     "text": [
      "Max pixel:  175.9375\n",
      "959.316162109375\n",
      "camera complete\n",
      "PCA: -7.0\n",
      "powermeter complete\n",
      "959.240234375\n",
      "spectrometer complete\n",
      "n_frames 16\n"
     ]
    },
    {
     "name": "stderr",
     "output_type": "stream",
     "text": [
      "\n",
      "\n"
     ]
    },
    {
     "name": "stdout",
     "output_type": "stream",
     "text": [
      "Max pixel:  196.375\n",
      "959.240234375\n",
      "camera complete\n"
     ]
    },
    {
     "name": "stderr",
     "output_type": "stream",
     "text": [
      " 45%|████▌     | 9/20 [01:43<02:05, 11.43s/it]\u001B[A\u001B[A"
     ]
    },
    {
     "name": "stdout",
     "output_type": "stream",
     "text": [
      "PCA: -7.0\n",
      "powermeter complete\n",
      "959.1643676757812\n",
      "spectrometer complete\n",
      "n_frames 16\n"
     ]
    },
    {
     "name": "stderr",
     "output_type": "stream",
     "text": [
      "\n",
      "\n"
     ]
    },
    {
     "name": "stdout",
     "output_type": "stream",
     "text": [
      "Max pixel:  218.0625\n",
      "959.1643676757812\n",
      "camera complete\n"
     ]
    },
    {
     "name": "stderr",
     "output_type": "stream",
     "text": [
      " 50%|█████     | 10/20 [01:54<01:54, 11.46s/it]\u001B[A\u001B[A"
     ]
    },
    {
     "name": "stdout",
     "output_type": "stream",
     "text": [
      "PCA: -7.0\n",
      "powermeter complete\n",
      "959.08837890625\n",
      "spectrometer complete\n",
      "n_frames 16\n"
     ]
    },
    {
     "name": "stderr",
     "output_type": "stream",
     "text": [
      "\n",
      "\n"
     ]
    },
    {
     "name": "stdout",
     "output_type": "stream",
     "text": [
      "Max pixel:  240.0625\n",
      "959.08837890625\n",
      "camera complete\n"
     ]
    },
    {
     "name": "stderr",
     "output_type": "stream",
     "text": [
      " 55%|█████▌    | 11/20 [02:06<01:43, 11.45s/it]\u001B[A\u001B[A"
     ]
    },
    {
     "name": "stdout",
     "output_type": "stream",
     "text": [
      "PCA: -7.0\n",
      "powermeter complete\n",
      "959.0123901367188\n",
      "spectrometer complete\n",
      "n_frames 16\n"
     ]
    },
    {
     "name": "stderr",
     "output_type": "stream",
     "text": [
      "\n",
      "\n"
     ]
    },
    {
     "name": "stdout",
     "output_type": "stream",
     "text": [
      "Max pixel:  248.5\n",
      "959.0123901367188\n",
      "camera complete\n"
     ]
    },
    {
     "name": "stderr",
     "output_type": "stream",
     "text": [
      " 60%|██████    | 12/20 [02:17<01:31, 11.45s/it]\u001B[A\u001B[A"
     ]
    },
    {
     "name": "stdout",
     "output_type": "stream",
     "text": [
      "PCA: -7.0\n",
      "powermeter complete\n",
      "959.1643676757812\n",
      "spectrometer complete\n",
      "n_frames 31\n"
     ]
    },
    {
     "name": "stderr",
     "output_type": "stream",
     "text": [
      "\n",
      "\n",
      " 65%|██████▌   | 13/20 [02:28<01:20, 11.43s/it]\u001B[A\u001B[A"
     ]
    },
    {
     "name": "stdout",
     "output_type": "stream",
     "text": [
      "Max pixel:  158.6451612903226\n",
      "959.1643676757812\n",
      "camera complete\n",
      "PCA: -7.0\n",
      "powermeter complete\n",
      "959.0123901367188\n",
      "spectrometer complete\n",
      "n_frames 31\n"
     ]
    },
    {
     "name": "stderr",
     "output_type": "stream",
     "text": [
      "\n",
      "\n",
      " 70%|███████   | 14/20 [02:40<01:08, 11.42s/it]\u001B[A\u001B[A"
     ]
    },
    {
     "name": "stdout",
     "output_type": "stream",
     "text": [
      "Max pixel:  173.8709677419355\n",
      "959.0123901367188\n",
      "camera complete\n",
      "PCA: -7.0\n",
      "powermeter complete\n",
      "958.403564453125\n",
      "spectrometer complete\n",
      "n_frames 16\n"
     ]
    },
    {
     "name": "stderr",
     "output_type": "stream",
     "text": [
      "\n",
      "\n"
     ]
    },
    {
     "name": "stdout",
     "output_type": "stream",
     "text": [
      "Max pixel:  250.875\n",
      "958.403564453125\n",
      "camera complete\n"
     ]
    },
    {
     "name": "stderr",
     "output_type": "stream",
     "text": [
      " 75%|███████▌  | 15/20 [02:51<00:57, 11.43s/it]\u001B[A\u001B[A"
     ]
    },
    {
     "name": "stdout",
     "output_type": "stream",
     "text": [
      "PCA: -7.0\n",
      "powermeter complete\n",
      "958.6320190429688\n",
      "spectrometer complete\n",
      "n_frames 50\n"
     ]
    },
    {
     "name": "stderr",
     "output_type": "stream",
     "text": [
      "\n",
      "\n",
      " 80%|████████  | 16/20 [03:02<00:44, 11.21s/it]\u001B[A\u001B[A"
     ]
    },
    {
     "name": "stdout",
     "output_type": "stream",
     "text": [
      "Max pixel:  93.22\n",
      "958.6320190429688\n",
      "camera complete\n",
      "PCA: -7.0\n",
      "powermeter complete\n",
      "958.7842407226562\n",
      "spectrometer complete\n",
      "n_frames 50\n"
     ]
    },
    {
     "name": "stderr",
     "output_type": "stream",
     "text": [
      "\n",
      "\n",
      " 85%|████████▌ | 17/20 [03:13<00:33, 11.16s/it]\u001B[A\u001B[A"
     ]
    },
    {
     "name": "stdout",
     "output_type": "stream",
     "text": [
      "Max pixel:  186.3\n",
      "958.7842407226562\n",
      "camera complete\n",
      "PCA: -7.0\n",
      "powermeter complete\n",
      "958.7081909179688\n",
      "spectrometer complete\n",
      "n_frames 50\n"
     ]
    },
    {
     "name": "stderr",
     "output_type": "stream",
     "text": [
      "\n",
      "\n",
      " 90%|█████████ | 18/20 [03:32<00:27, 13.62s/it]\u001B[A\u001B[A"
     ]
    },
    {
     "name": "stdout",
     "output_type": "stream",
     "text": [
      "Max pixel:  161.98\n",
      "958.7081909179688\n",
      "camera complete\n",
      "PCA: -7.0\n",
      "powermeter complete\n",
      "958.7081909179688\n",
      "spectrometer complete\n",
      "n_frames 50\n"
     ]
    },
    {
     "name": "stderr",
     "output_type": "stream",
     "text": [
      "\n",
      "\n",
      " 95%|█████████▌| 19/20 [03:43<00:12, 12.64s/it]\u001B[A\u001B[A"
     ]
    },
    {
     "name": "stdout",
     "output_type": "stream",
     "text": [
      "Max pixel:  219.66\n",
      "958.7081909179688\n",
      "camera complete\n",
      "PCA: -7.0\n",
      "powermeter complete\n",
      "958.7842407226562\n",
      "spectrometer complete\n",
      "n_frames 50\n"
     ]
    },
    {
     "name": "stderr",
     "output_type": "stream",
     "text": [
      "\n",
      "\n",
      "100%|██████████| 20/20 [03:53<00:00, 11.69s/it]\u001B[A\u001B[A\n",
      "\n",
      "100%|██████████| 10/10 [37:30<00:00, 225.05s/it]\u001B[A\n",
      " 40%|████      | 4/10 [2:33:32<3:50:16, 2302.75s/it]"
     ]
    },
    {
     "name": "stdout",
     "output_type": "stream",
     "text": [
      "Max pixel:  100.12\n",
      "958.7842407226562\n",
      "camera complete\n",
      "20240820_095808 20240820_100151\n",
      "-7.0\n",
      "41231\n",
      "-5.222222222222221\n",
      "41231\n",
      "-3.444444444444443\n",
      "41231\n",
      "-1.666666666666666\n",
      "41231\n",
      "0.11111111111111072\n",
      "41231\n",
      "1.8888888888888893\n",
      "41231\n",
      "3.666666666666667\n",
      "41231\n",
      "5.444444444444445\n",
      "41231\n",
      "7.222222222222222\n",
      "41231\n",
      "9.0\n",
      "41231\n"
     ]
    },
    {
     "name": "stderr",
     "output_type": "stream",
     "text": [
      "\n",
      "  0%|          | 0/10 [00:00<?, ?it/s]\u001B[A"
     ]
    },
    {
     "name": "stdout",
     "output_type": "stream",
     "text": [
      "9.0\n",
      "41231\n"
     ]
    },
    {
     "name": "stderr",
     "output_type": "stream",
     "text": [
      "\n",
      "\n",
      "  0%|          | 0/20 [00:00<?, ?it/s]\u001B[A\u001B[A"
     ]
    },
    {
     "name": "stdout",
     "output_type": "stream",
     "text": [
      "PCA: 9.0\n",
      "powermeter complete\n",
      "950.9727172851562\n",
      "spectrometer complete\n",
      "n_frames 4\n",
      "Max pixel:  145.5\n",
      "950.9727172851562\n",
      "camera complete\n"
     ]
    },
    {
     "name": "stderr",
     "output_type": "stream",
     "text": [
      "\n",
      "\n",
      "  5%|▌         | 1/20 [00:11<03:40, 11.62s/it]\u001B[A\u001B[A"
     ]
    },
    {
     "name": "stdout",
     "output_type": "stream",
     "text": [
      "PCA: 9.0\n",
      "powermeter complete\n",
      "950.8941040039062\n",
      "spectrometer complete\n",
      "n_frames 50\n"
     ]
    },
    {
     "name": "stderr",
     "output_type": "stream",
     "text": [
      "\n",
      "\n",
      " 10%|█         | 2/20 [00:22<03:26, 11.47s/it]\u001B[A\u001B[A"
     ]
    },
    {
     "name": "stdout",
     "output_type": "stream",
     "text": [
      "Max pixel:  5.52\n",
      "950.8941040039062\n",
      "camera complete\n",
      "PCA: 9.0\n",
      "powermeter complete\n",
      "950.6580810546875\n",
      "spectrometer complete\n",
      "n_frames 16\n"
     ]
    },
    {
     "name": "stderr",
     "output_type": "stream",
     "text": [
      "\n",
      "\n",
      " 15%|█▌        | 3/20 [00:34<03:14, 11.46s/it]\u001B[A\u001B[A"
     ]
    },
    {
     "name": "stdout",
     "output_type": "stream",
     "text": [
      "Max pixel:  125.5625\n",
      "950.6580810546875\n",
      "camera complete\n",
      "PCA: 9.0\n",
      "powermeter complete\n",
      "950.8154296875\n",
      "spectrometer complete\n",
      "n_frames 50\n"
     ]
    },
    {
     "name": "stderr",
     "output_type": "stream",
     "text": [
      "\n",
      "\n",
      " 20%|██        | 4/20 [00:45<03:00, 11.30s/it]\u001B[A\u001B[A"
     ]
    },
    {
     "name": "stdout",
     "output_type": "stream",
     "text": [
      "Max pixel:  239.18\n",
      "950.8154296875\n",
      "camera complete\n",
      "PCA: 9.0\n",
      "powermeter complete\n",
      "950.9727172851562\n",
      "spectrometer complete\n",
      "n_frames 50\n"
     ]
    },
    {
     "name": "stderr",
     "output_type": "stream",
     "text": [
      "\n",
      "\n",
      " 25%|██▌       | 5/20 [01:04<03:32, 14.17s/it]\u001B[A\u001B[A"
     ]
    },
    {
     "name": "stdout",
     "output_type": "stream",
     "text": [
      "Max pixel:  132.3\n",
      "950.9727172851562\n",
      "camera complete\n",
      "PCA: 9.0\n",
      "powermeter complete\n",
      "950.6580810546875\n",
      "spectrometer complete\n",
      "n_frames 50\n"
     ]
    },
    {
     "name": "stderr",
     "output_type": "stream",
     "text": [
      "\n",
      "\n",
      " 30%|███       | 6/20 [01:15<03:00, 12.90s/it]\u001B[A\u001B[A"
     ]
    },
    {
     "name": "stdout",
     "output_type": "stream",
     "text": [
      "Max pixel:  111.5\n",
      "950.6580810546875\n",
      "camera complete\n",
      "PCA: 9.0\n",
      "powermeter complete\n",
      "950.6580810546875\n",
      "spectrometer complete\n",
      "n_frames 50\n"
     ]
    },
    {
     "name": "stderr",
     "output_type": "stream",
     "text": [
      "\n",
      "\n",
      " 35%|███▌      | 7/20 [01:25<02:37, 12.12s/it]\u001B[A\u001B[A"
     ]
    },
    {
     "name": "stdout",
     "output_type": "stream",
     "text": [
      "Max pixel:  190.36\n",
      "950.6580810546875\n",
      "camera complete\n",
      "PCA: 9.0\n",
      "powermeter complete\n",
      "950.5794067382812\n",
      "spectrometer complete\n",
      "n_frames 50\n"
     ]
    },
    {
     "name": "stderr",
     "output_type": "stream",
     "text": [
      "\n",
      "\n",
      " 40%|████      | 8/20 [01:36<02:18, 11.54s/it]\u001B[A\u001B[A"
     ]
    },
    {
     "name": "stdout",
     "output_type": "stream",
     "text": [
      "Max pixel:  131.8\n",
      "950.5794067382812\n",
      "camera complete\n",
      "PCA: 9.0\n",
      "powermeter complete\n",
      "950.5794067382812\n",
      "spectrometer complete\n",
      "n_frames 50\n"
     ]
    },
    {
     "name": "stderr",
     "output_type": "stream",
     "text": [
      "\n",
      "\n",
      " 45%|████▌     | 9/20 [01:46<02:03, 11.20s/it]\u001B[A\u001B[A"
     ]
    },
    {
     "name": "stdout",
     "output_type": "stream",
     "text": [
      "Max pixel:  170.42\n",
      "950.5794067382812\n",
      "camera complete\n",
      "PCA: 9.0\n",
      "powermeter complete\n",
      "950.4219360351562\n",
      "spectrometer complete\n",
      "n_frames 50\n"
     ]
    },
    {
     "name": "stderr",
     "output_type": "stream",
     "text": [
      "\n",
      "\n",
      " 50%|█████     | 10/20 [01:56<01:49, 10.96s/it]\u001B[A\u001B[A"
     ]
    },
    {
     "name": "stdout",
     "output_type": "stream",
     "text": [
      "Max pixel:  132.1\n",
      "950.4219360351562\n",
      "camera complete\n",
      "PCA: 9.0\n",
      "powermeter complete\n",
      "950.3432006835938\n",
      "spectrometer complete\n",
      "n_frames 50\n"
     ]
    },
    {
     "name": "stderr",
     "output_type": "stream",
     "text": [
      "\n",
      "\n",
      " 55%|█████▌    | 11/20 [02:07<01:37, 10.81s/it]\u001B[A\u001B[A"
     ]
    },
    {
     "name": "stdout",
     "output_type": "stream",
     "text": [
      "Max pixel:  229.12\n",
      "950.3432006835938\n",
      "camera complete\n",
      "PCA: 9.0\n",
      "powermeter complete\n",
      "950.1854858398438\n",
      "spectrometer complete\n",
      "n_frames 50\n"
     ]
    },
    {
     "name": "stderr",
     "output_type": "stream",
     "text": [
      "\n",
      "\n",
      " 60%|██████    | 12/20 [02:17<01:25, 10.71s/it]\u001B[A\u001B[A"
     ]
    },
    {
     "name": "stdout",
     "output_type": "stream",
     "text": [
      "Max pixel:  150.26\n",
      "950.1854858398438\n",
      "camera complete\n",
      "PCA: 9.0\n",
      "powermeter complete\n",
      "950.1854858398438\n",
      "spectrometer complete\n",
      "n_frames 50\n"
     ]
    },
    {
     "name": "stderr",
     "output_type": "stream",
     "text": [
      "\n",
      "\n",
      " 65%|██████▌   | 13/20 [02:28<01:14, 10.61s/it]\u001B[A\u001B[A"
     ]
    },
    {
     "name": "stdout",
     "output_type": "stream",
     "text": [
      "Max pixel:  250.9\n",
      "950.1854858398438\n",
      "camera complete\n",
      "PCA: 9.0\n",
      "powermeter complete\n",
      "949.9487915039062\n",
      "spectrometer complete\n",
      "n_frames 50\n"
     ]
    },
    {
     "name": "stderr",
     "output_type": "stream",
     "text": [
      "\n",
      "\n",
      " 70%|███████   | 14/20 [02:38<01:03, 10.55s/it]\u001B[A\u001B[A"
     ]
    },
    {
     "name": "stdout",
     "output_type": "stream",
     "text": [
      "Max pixel:  211.68\n",
      "949.9487915039062\n",
      "camera complete\n",
      "PCA: 9.0\n",
      "powermeter complete\n",
      "950.0277099609375\n",
      "spectrometer complete\n",
      "n_frames 50\n"
     ]
    },
    {
     "name": "stderr",
     "output_type": "stream",
     "text": [
      "\n",
      "\n",
      " 75%|███████▌  | 15/20 [02:49<00:52, 10.51s/it]\u001B[A\u001B[A"
     ]
    },
    {
     "name": "stdout",
     "output_type": "stream",
     "text": [
      "Max pixel:  230.98\n",
      "950.0277099609375\n",
      "camera complete\n",
      "PCA: 9.0\n",
      "powermeter complete\n",
      "949.7909545898438\n",
      "spectrometer complete\n",
      "n_frames 50\n"
     ]
    },
    {
     "name": "stderr",
     "output_type": "stream",
     "text": [
      "\n",
      "\n",
      " 80%|████████  | 16/20 [02:59<00:42, 10.51s/it]\u001B[A\u001B[A"
     ]
    },
    {
     "name": "stdout",
     "output_type": "stream",
     "text": [
      "Max pixel:  232.8\n",
      "949.7909545898438\n",
      "camera complete\n",
      "PCA: 9.0\n",
      "powermeter complete\n",
      "949.7909545898438\n",
      "spectrometer complete\n",
      "n_frames 50\n"
     ]
    },
    {
     "name": "stderr",
     "output_type": "stream",
     "text": [
      "\n",
      "\n",
      " 85%|████████▌ | 17/20 [03:10<00:31, 10.61s/it]\u001B[A\u001B[A"
     ]
    },
    {
     "name": "stdout",
     "output_type": "stream",
     "text": [
      "Max pixel:  245.56\n",
      "949.7909545898438\n",
      "camera complete\n",
      "PCA: 9.0\n",
      "powermeter complete\n",
      "949.553955078125\n",
      "spectrometer complete\n",
      "n_frames 50\n"
     ]
    },
    {
     "name": "stderr",
     "output_type": "stream",
     "text": [
      "\n",
      "\n",
      " 90%|█████████ | 18/20 [03:21<00:21, 10.65s/it]\u001B[A\u001B[A"
     ]
    },
    {
     "name": "stdout",
     "output_type": "stream",
     "text": [
      "Max pixel:  195.66\n",
      "949.553955078125\n",
      "camera complete\n",
      "PCA: 9.0\n",
      "powermeter complete\n",
      "949.6329345703125\n",
      "spectrometer complete\n",
      "n_frames 50\n"
     ]
    },
    {
     "name": "stderr",
     "output_type": "stream",
     "text": [
      "\n",
      "\n",
      " 95%|█████████▌| 19/20 [03:31<00:10, 10.68s/it]\u001B[A\u001B[A"
     ]
    },
    {
     "name": "stdout",
     "output_type": "stream",
     "text": [
      "Max pixel:  26.46\n",
      "949.6329345703125\n",
      "camera complete\n",
      "PCA: 9.0\n",
      "powermeter complete\n",
      "949.474853515625\n",
      "spectrometer complete\n",
      "n_frames 50\n"
     ]
    },
    {
     "name": "stderr",
     "output_type": "stream",
     "text": [
      "\n",
      "\n",
      "100%|██████████| 20/20 [03:42<00:00, 11.13s/it]\u001B[A\u001B[A\n",
      "\n",
      " 10%|█         | 1/10 [03:42<33:24, 222.76s/it]\u001B[A"
     ]
    },
    {
     "name": "stdout",
     "output_type": "stream",
     "text": [
      "Max pixel:  80.3\n",
      "949.474853515625\n",
      "camera complete\n",
      "20240820_100255 20240820_100627\n",
      "7.222222222222222\n",
      "41231\n"
     ]
    },
    {
     "name": "stderr",
     "output_type": "stream",
     "text": [
      "\n",
      "\n",
      "  0%|          | 0/20 [00:00<?, ?it/s]\u001B[A\u001B[A"
     ]
    },
    {
     "name": "stdout",
     "output_type": "stream",
     "text": [
      "PCA: 7.222222222222222\n",
      "powermeter complete\n",
      "951.8357543945312\n",
      "spectrometer complete\n",
      "n_frames 4\n",
      "Max pixel:  147.25\n",
      "951.8357543945312\n",
      "camera complete\n"
     ]
    },
    {
     "name": "stderr",
     "output_type": "stream",
     "text": [
      "\n",
      "\n",
      "  5%|▌         | 1/20 [00:11<03:39, 11.57s/it]\u001B[A\u001B[A"
     ]
    },
    {
     "name": "stdout",
     "output_type": "stream",
     "text": [
      "PCA: 7.222222222222222\n",
      "powermeter complete\n",
      "951.5222778320312\n",
      "spectrometer complete\n",
      "n_frames 50\n"
     ]
    },
    {
     "name": "stderr",
     "output_type": "stream",
     "text": [
      "\n",
      "\n",
      " 10%|█         | 2/20 [00:23<03:27, 11.52s/it]\u001B[A\u001B[A"
     ]
    },
    {
     "name": "stdout",
     "output_type": "stream",
     "text": [
      "Max pixel:  5.5\n",
      "951.5222778320312\n",
      "camera complete\n",
      "PCA: 7.222222222222222\n",
      "powermeter complete\n",
      "951.3654174804688\n",
      "spectrometer complete\n",
      "n_frames 16\n"
     ]
    },
    {
     "name": "stderr",
     "output_type": "stream",
     "text": [
      "\n",
      "\n",
      " 15%|█▌        | 3/20 [00:34<03:15, 11.49s/it]\u001B[A\u001B[A"
     ]
    },
    {
     "name": "stdout",
     "output_type": "stream",
     "text": [
      "Max pixel:  102.6875\n",
      "951.3654174804688\n",
      "camera complete\n",
      "PCA: 7.222222222222222\n",
      "powermeter complete\n",
      "951.286865234375\n",
      "spectrometer complete\n",
      "n_frames 50\n"
     ]
    },
    {
     "name": "stderr",
     "output_type": "stream",
     "text": [
      "\n",
      "\n",
      " 20%|██        | 4/20 [00:45<03:00, 11.29s/it]\u001B[A\u001B[A"
     ]
    },
    {
     "name": "stdout",
     "output_type": "stream",
     "text": [
      "Max pixel:  179.6\n",
      "951.286865234375\n",
      "camera complete\n",
      "PCA: 7.222222222222222\n",
      "powermeter complete\n",
      "951.1298828125\n",
      "spectrometer complete\n",
      "n_frames 50\n"
     ]
    },
    {
     "name": "stderr",
     "output_type": "stream",
     "text": [
      "\n",
      "\n",
      " 25%|██▌       | 5/20 [01:04<03:32, 14.15s/it]\u001B[A\u001B[A"
     ]
    },
    {
     "name": "stdout",
     "output_type": "stream",
     "text": [
      "Max pixel:  215.94\n",
      "951.1298828125\n",
      "camera complete\n",
      "PCA: 7.222222222222222\n",
      "powermeter complete\n",
      "951.3654174804688\n",
      "spectrometer complete\n",
      "n_frames 50\n"
     ]
    },
    {
     "name": "stderr",
     "output_type": "stream",
     "text": [
      "\n",
      "\n",
      " 30%|███       | 6/20 [01:15<03:00, 12.87s/it]\u001B[A\u001B[A"
     ]
    },
    {
     "name": "stdout",
     "output_type": "stream",
     "text": [
      "Max pixel:  154.32\n",
      "951.3654174804688\n",
      "camera complete\n",
      "PCA: 7.222222222222222\n",
      "powermeter complete\n",
      "951.7574462890625\n",
      "spectrometer complete\n",
      "n_frames 50\n"
     ]
    },
    {
     "name": "stderr",
     "output_type": "stream",
     "text": [
      "\n",
      "\n",
      " 35%|███▌      | 7/20 [01:25<02:36, 12.07s/it]\u001B[A\u001B[A"
     ]
    },
    {
     "name": "stdout",
     "output_type": "stream",
     "text": [
      "Max pixel:  237.4\n",
      "951.7574462890625\n",
      "camera complete\n",
      "PCA: 7.222222222222222\n",
      "powermeter complete\n",
      "951.3654174804688\n",
      "spectrometer complete\n",
      "n_frames 50\n"
     ]
    },
    {
     "name": "stderr",
     "output_type": "stream",
     "text": [
      "\n",
      "\n",
      " 40%|████      | 8/20 [01:35<02:18, 11.52s/it]\u001B[A\u001B[A"
     ]
    },
    {
     "name": "stdout",
     "output_type": "stream",
     "text": [
      "Max pixel:  130.0\n",
      "951.3654174804688\n",
      "camera complete\n",
      "PCA: 7.222222222222222\n",
      "powermeter complete\n",
      "951.2083740234375\n",
      "spectrometer complete\n",
      "n_frames 50\n"
     ]
    },
    {
     "name": "stderr",
     "output_type": "stream",
     "text": [
      "\n",
      "\n",
      " 45%|████▌     | 9/20 [01:46<02:02, 11.17s/it]\u001B[A\u001B[A"
     ]
    },
    {
     "name": "stdout",
     "output_type": "stream",
     "text": [
      "Max pixel:  83.28\n",
      "951.2083740234375\n",
      "camera complete\n",
      "PCA: 7.222222222222222\n",
      "powermeter complete\n",
      "951.2083740234375\n",
      "spectrometer complete\n",
      "n_frames 50\n"
     ]
    },
    {
     "name": "stderr",
     "output_type": "stream",
     "text": [
      "\n",
      "\n",
      " 50%|█████     | 10/20 [01:56<01:49, 10.95s/it]\u001B[A\u001B[A"
     ]
    },
    {
     "name": "stdout",
     "output_type": "stream",
     "text": [
      "Max pixel:  203.08\n",
      "951.2083740234375\n",
      "camera complete\n",
      "PCA: 7.222222222222222\n",
      "powermeter complete\n",
      "951.2083740234375\n",
      "spectrometer complete\n",
      "n_frames 50\n"
     ]
    },
    {
     "name": "stderr",
     "output_type": "stream",
     "text": [
      "\n",
      "\n",
      " 55%|█████▌    | 11/20 [02:07<01:37, 10.81s/it]\u001B[A\u001B[A"
     ]
    },
    {
     "name": "stdout",
     "output_type": "stream",
     "text": [
      "Max pixel:  216.08\n",
      "951.2083740234375\n",
      "camera complete\n",
      "PCA: 7.222222222222222\n",
      "powermeter complete\n",
      "950.8154296875\n",
      "spectrometer complete\n",
      "n_frames 50\n"
     ]
    },
    {
     "name": "stderr",
     "output_type": "stream",
     "text": [
      "\n",
      "\n",
      " 60%|██████    | 12/20 [02:17<01:25, 10.66s/it]\u001B[A\u001B[A"
     ]
    },
    {
     "name": "stdout",
     "output_type": "stream",
     "text": [
      "Max pixel:  72.76\n",
      "950.8154296875\n",
      "camera complete\n",
      "PCA: 7.222222222222222\n",
      "powermeter complete\n",
      "951.2083740234375\n",
      "spectrometer complete\n",
      "n_frames 50\n"
     ]
    },
    {
     "name": "stderr",
     "output_type": "stream",
     "text": [
      "\n",
      "\n",
      " 65%|██████▌   | 13/20 [02:27<01:14, 10.58s/it]\u001B[A\u001B[A"
     ]
    },
    {
     "name": "stdout",
     "output_type": "stream",
     "text": [
      "Max pixel:  172.7\n",
      "951.2083740234375\n",
      "camera complete\n",
      "PCA: 7.222222222222222\n",
      "powermeter complete\n",
      "951.1298828125\n",
      "spectrometer complete\n",
      "n_frames 50\n"
     ]
    },
    {
     "name": "stderr",
     "output_type": "stream",
     "text": [
      "\n",
      "\n",
      " 70%|███████   | 14/20 [02:38<01:02, 10.50s/it]\u001B[A\u001B[A"
     ]
    },
    {
     "name": "stdout",
     "output_type": "stream",
     "text": [
      "Max pixel:  69.2\n",
      "951.1298828125\n",
      "camera complete\n",
      "PCA: 7.222222222222222\n",
      "powermeter complete\n",
      "950.8154296875\n",
      "spectrometer complete\n",
      "n_frames 50\n"
     ]
    },
    {
     "name": "stderr",
     "output_type": "stream",
     "text": [
      "\n",
      "\n",
      " 75%|███████▌  | 15/20 [02:48<00:52, 10.48s/it]\u001B[A\u001B[A"
     ]
    },
    {
     "name": "stdout",
     "output_type": "stream",
     "text": [
      "Max pixel:  44.34\n",
      "950.8154296875\n",
      "camera complete\n",
      "PCA: 7.222222222222222\n",
      "powermeter complete\n",
      "950.8154296875\n",
      "spectrometer complete\n",
      "n_frames 50\n"
     ]
    },
    {
     "name": "stderr",
     "output_type": "stream",
     "text": [
      "\n",
      "\n",
      " 80%|████████  | 16/20 [02:59<00:41, 10.46s/it]\u001B[A\u001B[A"
     ]
    },
    {
     "name": "stdout",
     "output_type": "stream",
     "text": [
      "Max pixel:  105.86\n",
      "950.8154296875\n",
      "camera complete\n",
      "PCA: 7.222222222222222\n",
      "powermeter complete\n",
      "950.8154296875\n",
      "spectrometer complete\n",
      "n_frames 50\n"
     ]
    },
    {
     "name": "stderr",
     "output_type": "stream",
     "text": [
      "\n",
      "\n",
      " 85%|████████▌ | 17/20 [03:09<00:31, 10.44s/it]\u001B[A\u001B[A"
     ]
    },
    {
     "name": "stdout",
     "output_type": "stream",
     "text": [
      "Max pixel:  232.4\n",
      "950.8154296875\n",
      "camera complete\n",
      "PCA: 7.222222222222222\n",
      "powermeter complete\n",
      "950.5794067382812\n",
      "spectrometer complete\n",
      "n_frames 50\n"
     ]
    },
    {
     "name": "stderr",
     "output_type": "stream",
     "text": [
      "\n",
      "\n",
      " 90%|█████████ | 18/20 [03:20<00:21, 10.51s/it]\u001B[A\u001B[A"
     ]
    },
    {
     "name": "stdout",
     "output_type": "stream",
     "text": [
      "Max pixel:  189.22\n",
      "950.5794067382812\n",
      "camera complete\n",
      "PCA: 7.222222222222222\n",
      "powermeter complete\n",
      "950.4219360351562\n",
      "spectrometer complete\n",
      "n_frames 50\n"
     ]
    },
    {
     "name": "stderr",
     "output_type": "stream",
     "text": [
      "\n",
      "\n",
      " 95%|█████████▌| 19/20 [03:30<00:10, 10.48s/it]\u001B[A\u001B[A"
     ]
    },
    {
     "name": "stdout",
     "output_type": "stream",
     "text": [
      "Max pixel:  210.6\n",
      "950.4219360351562\n",
      "camera complete\n",
      "PCA: 7.222222222222222\n",
      "powermeter complete\n",
      "950.8154296875\n",
      "spectrometer complete\n",
      "n_frames 50\n"
     ]
    },
    {
     "name": "stderr",
     "output_type": "stream",
     "text": [
      "\n",
      "\n",
      "100%|██████████| 20/20 [03:41<00:00, 11.06s/it]\u001B[A\u001B[A\n",
      "\n",
      " 20%|██        | 2/10 [07:24<29:35, 221.97s/it]\u001B[A"
     ]
    },
    {
     "name": "stdout",
     "output_type": "stream",
     "text": [
      "Max pixel:  96.0\n",
      "950.8154296875\n",
      "camera complete\n",
      "20240820_100638 20240820_101009\n",
      "5.444444444444445\n",
      "41231\n"
     ]
    },
    {
     "name": "stderr",
     "output_type": "stream",
     "text": [
      "\n",
      "\n",
      "  0%|          | 0/20 [00:00<?, ?it/s]\u001B[A\u001B[A"
     ]
    },
    {
     "name": "stdout",
     "output_type": "stream",
     "text": [
      "PCA: 5.444444444444445\n",
      "powermeter complete\n",
      "952.1488647460938\n",
      "spectrometer complete\n",
      "n_frames 4\n",
      "Max pixel:  148.5\n",
      "952.1488647460938\n",
      "camera complete\n"
     ]
    },
    {
     "name": "stderr",
     "output_type": "stream",
     "text": [
      "\n",
      "\n",
      "  5%|▌         | 1/20 [00:11<03:41, 11.68s/it]\u001B[A\u001B[A"
     ]
    },
    {
     "name": "stdout",
     "output_type": "stream",
     "text": [
      "PCA: 5.444444444444445\n",
      "powermeter complete\n",
      "952.77392578125\n",
      "spectrometer complete\n",
      "n_frames 50\n"
     ]
    },
    {
     "name": "stderr",
     "output_type": "stream",
     "text": [
      "\n",
      "\n",
      " 10%|█         | 2/20 [00:23<03:29, 11.63s/it]\u001B[A\u001B[A"
     ]
    },
    {
     "name": "stdout",
     "output_type": "stream",
     "text": [
      "Max pixel:  9.68\n",
      "952.77392578125\n",
      "camera complete\n",
      "PCA: 5.444444444444445\n",
      "powermeter complete\n",
      "952.3834838867188\n",
      "spectrometer complete\n",
      "n_frames 8\n",
      "Max pixel:  161.75\n",
      "952.3834838867188\n",
      "camera complete\n"
     ]
    },
    {
     "name": "stderr",
     "output_type": "stream",
     "text": [
      "\n",
      "\n",
      " 15%|█▌        | 3/20 [00:34<03:15, 11.53s/it]\u001B[A\u001B[A"
     ]
    },
    {
     "name": "stdout",
     "output_type": "stream",
     "text": [
      "PCA: 5.444444444444445\n",
      "powermeter complete\n",
      "952.2271728515625\n",
      "spectrometer complete\n",
      "n_frames 50\n"
     ]
    },
    {
     "name": "stderr",
     "output_type": "stream",
     "text": [
      "\n",
      "\n",
      " 20%|██        | 4/20 [00:45<02:57, 11.11s/it]\u001B[A\u001B[A"
     ]
    },
    {
     "name": "stdout",
     "output_type": "stream",
     "text": [
      "Max pixel:  46.82\n",
      "952.2271728515625\n",
      "camera complete\n",
      "PCA: 5.444444444444445\n",
      "powermeter complete\n",
      "952.3834838867188\n",
      "spectrometer complete\n",
      "n_frames 50\n"
     ]
    },
    {
     "name": "stderr",
     "output_type": "stream",
     "text": [
      "\n",
      "\n",
      " 25%|██▌       | 5/20 [01:04<03:30, 14.06s/it]\u001B[A\u001B[A"
     ]
    },
    {
     "name": "stdout",
     "output_type": "stream",
     "text": [
      "Max pixel:  210.54\n",
      "952.3834838867188\n",
      "camera complete\n",
      "PCA: 5.444444444444445\n",
      "powermeter complete\n",
      "952.2271728515625\n",
      "spectrometer complete\n",
      "n_frames 50\n"
     ]
    },
    {
     "name": "stderr",
     "output_type": "stream",
     "text": [
      "\n",
      "\n",
      " 30%|███       | 6/20 [01:14<02:59, 12.80s/it]\u001B[A\u001B[A"
     ]
    },
    {
     "name": "stdout",
     "output_type": "stream",
     "text": [
      "Max pixel:  59.48\n",
      "952.2271728515625\n",
      "camera complete\n",
      "PCA: 5.444444444444445\n",
      "powermeter complete\n",
      "952.5397338867188\n",
      "spectrometer complete\n",
      "n_frames 50\n"
     ]
    },
    {
     "name": "stderr",
     "output_type": "stream",
     "text": [
      "\n",
      "\n",
      " 35%|███▌      | 7/20 [01:25<02:36, 12.04s/it]\u001B[A\u001B[A"
     ]
    },
    {
     "name": "stdout",
     "output_type": "stream",
     "text": [
      "Max pixel:  205.98\n",
      "952.5397338867188\n",
      "camera complete\n",
      "PCA: 5.444444444444445\n",
      "powermeter complete\n",
      "952.4616088867188\n",
      "spectrometer complete\n",
      "n_frames 50\n"
     ]
    },
    {
     "name": "stderr",
     "output_type": "stream",
     "text": [
      "\n",
      "\n",
      " 40%|████      | 8/20 [01:35<02:18, 11.54s/it]\u001B[A\u001B[A"
     ]
    },
    {
     "name": "stdout",
     "output_type": "stream",
     "text": [
      "Max pixel:  249.32\n",
      "952.4616088867188\n",
      "camera complete\n",
      "PCA: 5.444444444444445\n",
      "powermeter complete\n",
      "952.3053588867188\n",
      "spectrometer complete\n",
      "n_frames 50\n"
     ]
    },
    {
     "name": "stderr",
     "output_type": "stream",
     "text": [
      "\n",
      "\n",
      " 45%|████▌     | 9/20 [01:46<02:03, 11.19s/it]\u001B[A\u001B[A"
     ]
    },
    {
     "name": "stdout",
     "output_type": "stream",
     "text": [
      "Max pixel:  217.64\n",
      "952.3053588867188\n",
      "camera complete\n",
      "PCA: 5.444444444444445\n",
      "powermeter complete\n",
      "952.0706176757812\n",
      "spectrometer complete\n",
      "n_frames 50\n"
     ]
    },
    {
     "name": "stderr",
     "output_type": "stream",
     "text": [
      "\n",
      "\n",
      " 50%|█████     | 10/20 [01:56<01:49, 10.94s/it]\u001B[A\u001B[A"
     ]
    },
    {
     "name": "stdout",
     "output_type": "stream",
     "text": [
      "Max pixel:  160.52\n",
      "952.0706176757812\n",
      "camera complete\n",
      "PCA: 5.444444444444445\n",
      "powermeter complete\n",
      "952.1488647460938\n",
      "spectrometer complete\n",
      "n_frames 50\n"
     ]
    },
    {
     "name": "stderr",
     "output_type": "stream",
     "text": [
      "\n",
      "\n",
      " 55%|█████▌    | 11/20 [02:06<01:37, 10.78s/it]\u001B[A\u001B[A"
     ]
    },
    {
     "name": "stdout",
     "output_type": "stream",
     "text": [
      "Max pixel:  119.04\n",
      "952.1488647460938\n",
      "camera complete\n",
      "PCA: 5.444444444444445\n",
      "powermeter complete\n",
      "952.3053588867188\n",
      "spectrometer complete\n",
      "n_frames 50\n"
     ]
    },
    {
     "name": "stderr",
     "output_type": "stream",
     "text": [
      "\n",
      "\n",
      " 60%|██████    | 12/20 [02:17<01:25, 10.66s/it]\u001B[A\u001B[A"
     ]
    },
    {
     "name": "stdout",
     "output_type": "stream",
     "text": [
      "Max pixel:  202.36\n",
      "952.3053588867188\n",
      "camera complete\n",
      "PCA: 5.444444444444445\n",
      "powermeter complete\n",
      "951.8357543945312\n",
      "spectrometer complete\n",
      "n_frames 50\n"
     ]
    },
    {
     "name": "stderr",
     "output_type": "stream",
     "text": [
      "\n",
      "\n",
      " 65%|██████▌   | 13/20 [02:27<01:14, 10.57s/it]\u001B[A\u001B[A"
     ]
    },
    {
     "name": "stdout",
     "output_type": "stream",
     "text": [
      "Max pixel:  199.22\n",
      "951.8357543945312\n",
      "camera complete\n",
      "PCA: 5.444444444444445\n",
      "powermeter complete\n",
      "952.2271728515625\n",
      "spectrometer complete\n",
      "n_frames 50\n"
     ]
    },
    {
     "name": "stderr",
     "output_type": "stream",
     "text": [
      "\n",
      "\n",
      " 70%|███████   | 14/20 [02:38<01:03, 10.51s/it]\u001B[A\u001B[A"
     ]
    },
    {
     "name": "stdout",
     "output_type": "stream",
     "text": [
      "Max pixel:  123.12\n",
      "952.2271728515625\n",
      "camera complete\n",
      "PCA: 5.444444444444445\n",
      "powermeter complete\n",
      "952.1488647460938\n",
      "spectrometer complete\n",
      "n_frames 50\n"
     ]
    },
    {
     "name": "stderr",
     "output_type": "stream",
     "text": [
      "\n",
      "\n",
      " 75%|███████▌  | 15/20 [02:48<00:52, 10.47s/it]\u001B[A\u001B[A"
     ]
    },
    {
     "name": "stdout",
     "output_type": "stream",
     "text": [
      "Max pixel:  217.86\n",
      "952.1488647460938\n",
      "camera complete\n",
      "PCA: 5.444444444444445\n",
      "powermeter complete\n",
      "952.0706176757812\n",
      "spectrometer complete\n",
      "n_frames 50\n"
     ]
    },
    {
     "name": "stderr",
     "output_type": "stream",
     "text": [
      "\n",
      "\n",
      " 80%|████████  | 16/20 [02:58<00:41, 10.44s/it]\u001B[A\u001B[A"
     ]
    },
    {
     "name": "stdout",
     "output_type": "stream",
     "text": [
      "Max pixel:  156.14\n",
      "952.0706176757812\n",
      "camera complete\n",
      "PCA: 5.444444444444445\n",
      "powermeter complete\n",
      "952.1488647460938\n",
      "spectrometer complete\n",
      "n_frames 50\n"
     ]
    },
    {
     "name": "stderr",
     "output_type": "stream",
     "text": [
      "\n",
      "\n",
      " 85%|████████▌ | 17/20 [03:09<00:31, 10.43s/it]\u001B[A\u001B[A"
     ]
    },
    {
     "name": "stdout",
     "output_type": "stream",
     "text": [
      "Max pixel:  230.68\n",
      "952.1488647460938\n",
      "camera complete\n",
      "PCA: 5.444444444444445\n",
      "powermeter complete\n",
      "952.0706176757812\n",
      "spectrometer complete\n",
      "n_frames 50\n"
     ]
    },
    {
     "name": "stderr",
     "output_type": "stream",
     "text": [
      "\n",
      "\n",
      " 90%|█████████ | 18/20 [03:19<00:20, 10.43s/it]\u001B[A\u001B[A"
     ]
    },
    {
     "name": "stdout",
     "output_type": "stream",
     "text": [
      "Max pixel:  250.7\n",
      "952.0706176757812\n",
      "camera complete\n",
      "PCA: 5.444444444444445\n",
      "powermeter complete\n",
      "951.992431640625\n",
      "spectrometer complete\n",
      "n_frames 50\n"
     ]
    },
    {
     "name": "stderr",
     "output_type": "stream",
     "text": [
      "\n",
      "\n",
      " 95%|█████████▌| 19/20 [03:30<00:10, 10.43s/it]\u001B[A\u001B[A"
     ]
    },
    {
     "name": "stdout",
     "output_type": "stream",
     "text": [
      "Max pixel:  122.92\n",
      "951.992431640625\n",
      "camera complete\n",
      "PCA: 5.444444444444445\n",
      "powermeter complete\n",
      "951.9141235351562\n",
      "spectrometer complete\n",
      "n_frames 50\n"
     ]
    },
    {
     "name": "stderr",
     "output_type": "stream",
     "text": [
      "\n",
      "\n",
      "100%|██████████| 20/20 [03:40<00:00, 11.03s/it]\u001B[A\u001B[A\n",
      "\n",
      " 30%|███       | 3/10 [11:04<25:49, 221.36s/it]\u001B[A"
     ]
    },
    {
     "name": "stdout",
     "output_type": "stream",
     "text": [
      "Max pixel:  120.66\n",
      "951.9141235351562\n",
      "camera complete\n",
      "20240820_101020 20240820_101350\n",
      "3.666666666666667\n",
      "41231\n"
     ]
    },
    {
     "name": "stderr",
     "output_type": "stream",
     "text": [
      "\n",
      "\n",
      "  0%|          | 0/20 [00:00<?, ?it/s]\u001B[A\u001B[A"
     ]
    },
    {
     "name": "stdout",
     "output_type": "stream",
     "text": [
      "PCA: 3.666666666666667\n",
      "powermeter complete\n",
      "953.4752197265625\n",
      "spectrometer complete\n",
      "n_frames 4\n",
      "Max pixel:  146.25\n",
      "953.4752197265625\n",
      "camera complete\n"
     ]
    },
    {
     "name": "stderr",
     "output_type": "stream",
     "text": [
      "\n",
      "\n",
      "  5%|▌         | 1/20 [00:11<03:38, 11.51s/it]\u001B[A\u001B[A"
     ]
    },
    {
     "name": "stdout",
     "output_type": "stream",
     "text": [
      "PCA: 3.666666666666667\n",
      "powermeter complete\n",
      "953.4752197265625\n",
      "spectrometer complete\n",
      "n_frames 50\n"
     ]
    },
    {
     "name": "stderr",
     "output_type": "stream",
     "text": [
      "\n",
      "\n",
      " 10%|█         | 2/20 [00:22<03:26, 11.50s/it]\u001B[A\u001B[A"
     ]
    },
    {
     "name": "stdout",
     "output_type": "stream",
     "text": [
      "Max pixel:  5.32\n",
      "953.4752197265625\n",
      "camera complete\n",
      "PCA: 3.666666666666667\n",
      "powermeter complete\n",
      "953.4752197265625\n",
      "spectrometer complete\n",
      "n_frames 16\n"
     ]
    },
    {
     "name": "stderr",
     "output_type": "stream",
     "text": [
      "\n",
      "\n",
      " 15%|█▌        | 3/20 [00:34<03:15, 11.49s/it]\u001B[A\u001B[A"
     ]
    },
    {
     "name": "stdout",
     "output_type": "stream",
     "text": [
      "Max pixel:  87.6875\n",
      "953.4752197265625\n",
      "camera complete\n",
      "PCA: 3.666666666666667\n",
      "powermeter complete\n",
      "953.552978515625\n",
      "spectrometer complete\n",
      "n_frames 8\n",
      "Max pixel:  204.25\n",
      "953.552978515625\n",
      "camera complete\n"
     ]
    },
    {
     "name": "stderr",
     "output_type": "stream",
     "text": [
      "\n",
      "\n",
      " 20%|██        | 4/20 [00:45<03:03, 11.44s/it]\u001B[A\u001B[A"
     ]
    },
    {
     "name": "stdout",
     "output_type": "stream",
     "text": [
      "PCA: 3.666666666666667\n",
      "powermeter complete\n",
      "953.4752197265625\n",
      "spectrometer complete\n",
      "n_frames 50\n"
     ]
    },
    {
     "name": "stderr",
     "output_type": "stream",
     "text": [
      "\n",
      "\n",
      " 25%|██▌       | 5/20 [00:56<02:46, 11.07s/it]\u001B[A\u001B[A"
     ]
    },
    {
     "name": "stdout",
     "output_type": "stream",
     "text": [
      "Max pixel:  5.38\n",
      "953.4752197265625\n",
      "camera complete\n",
      "PCA: 3.666666666666667\n",
      "powermeter complete\n",
      "953.8639526367188\n",
      "spectrometer complete\n",
      "n_frames 50\n"
     ]
    },
    {
     "name": "stderr",
     "output_type": "stream",
     "text": [
      "\n",
      "\n",
      " 30%|███       | 6/20 [01:07<02:33, 10.97s/it]\u001B[A\u001B[A"
     ]
    },
    {
     "name": "stdout",
     "output_type": "stream",
     "text": [
      "Max pixel:  120.82\n",
      "953.8639526367188\n",
      "camera complete\n",
      "PCA: 3.666666666666667\n",
      "powermeter complete\n",
      "953.8639526367188\n",
      "spectrometer complete\n",
      "n_frames 50\n"
     ]
    },
    {
     "name": "stderr",
     "output_type": "stream",
     "text": [
      "\n",
      "\n",
      " 35%|███▌      | 7/20 [01:18<02:22, 10.98s/it]\u001B[A\u001B[A"
     ]
    },
    {
     "name": "stdout",
     "output_type": "stream",
     "text": [
      "Max pixel:  161.54\n",
      "953.8639526367188\n",
      "camera complete\n",
      "PCA: 3.666666666666667\n",
      "powermeter complete\n",
      "954.1744384765625\n",
      "spectrometer complete\n",
      "n_frames 50\n"
     ]
    },
    {
     "name": "stderr",
     "output_type": "stream",
     "text": [
      "\n",
      "\n",
      " 40%|████      | 8/20 [01:29<02:11, 10.99s/it]\u001B[A\u001B[A"
     ]
    },
    {
     "name": "stdout",
     "output_type": "stream",
     "text": [
      "Max pixel:  218.58\n",
      "954.1744384765625\n",
      "camera complete\n",
      "PCA: 3.666666666666667\n",
      "powermeter complete\n",
      "953.8639526367188\n",
      "spectrometer complete\n",
      "n_frames 50\n"
     ]
    },
    {
     "name": "stderr",
     "output_type": "stream",
     "text": [
      "\n",
      "\n",
      " 45%|████▌     | 9/20 [01:48<02:29, 13.57s/it]\u001B[A\u001B[A"
     ]
    },
    {
     "name": "stdout",
     "output_type": "stream",
     "text": [
      "Max pixel:  170.62\n",
      "953.8639526367188\n",
      "camera complete\n",
      "PCA: 3.666666666666667\n",
      "powermeter complete\n",
      "953.7861328125\n",
      "spectrometer complete\n",
      "n_frames 50\n"
     ]
    },
    {
     "name": "stderr",
     "output_type": "stream",
     "text": [
      "\n",
      "\n",
      " 50%|█████     | 10/20 [01:58<02:05, 12.59s/it]\u001B[A\u001B[A"
     ]
    },
    {
     "name": "stdout",
     "output_type": "stream",
     "text": [
      "Max pixel:  212.08\n",
      "953.7861328125\n",
      "camera complete\n",
      "PCA: 3.666666666666667\n",
      "powermeter complete\n",
      "953.6307373046875\n",
      "spectrometer complete\n",
      "n_frames 50\n"
     ]
    },
    {
     "name": "stderr",
     "output_type": "stream",
     "text": [
      "\n",
      "\n",
      " 55%|█████▌    | 11/20 [02:08<01:46, 11.89s/it]\u001B[A\u001B[A"
     ]
    },
    {
     "name": "stdout",
     "output_type": "stream",
     "text": [
      "Max pixel:  85.22\n",
      "953.6307373046875\n",
      "camera complete\n",
      "PCA: 3.666666666666667\n",
      "powermeter complete\n",
      "954.0191650390625\n",
      "spectrometer complete\n",
      "n_frames 50\n"
     ]
    },
    {
     "name": "stderr",
     "output_type": "stream",
     "text": [
      "\n",
      "\n",
      " 60%|██████    | 12/20 [02:19<01:31, 11.42s/it]\u001B[A\u001B[A"
     ]
    },
    {
     "name": "stdout",
     "output_type": "stream",
     "text": [
      "Max pixel:  144.98\n",
      "954.0191650390625\n",
      "camera complete\n",
      "PCA: 3.666666666666667\n",
      "powermeter complete\n",
      "954.0968627929688\n",
      "spectrometer complete\n",
      "n_frames 50\n"
     ]
    },
    {
     "name": "stderr",
     "output_type": "stream",
     "text": [
      "\n",
      "\n",
      " 65%|██████▌   | 13/20 [02:29<01:17, 11.11s/it]\u001B[A\u001B[A"
     ]
    },
    {
     "name": "stdout",
     "output_type": "stream",
     "text": [
      "Max pixel:  192.04\n",
      "954.0968627929688\n",
      "camera complete\n",
      "PCA: 3.666666666666667\n",
      "powermeter complete\n",
      "953.3973999023438\n",
      "spectrometer complete\n",
      "n_frames 50\n"
     ]
    },
    {
     "name": "stderr",
     "output_type": "stream",
     "text": [
      "\n",
      "\n",
      " 70%|███████   | 14/20 [02:40<01:05, 10.89s/it]\u001B[A\u001B[A"
     ]
    },
    {
     "name": "stdout",
     "output_type": "stream",
     "text": [
      "Max pixel:  131.32\n",
      "953.3973999023438\n",
      "camera complete\n",
      "PCA: 3.666666666666667\n",
      "powermeter complete\n",
      "953.3973999023438\n",
      "spectrometer complete\n",
      "n_frames 50\n"
     ]
    },
    {
     "name": "stderr",
     "output_type": "stream",
     "text": [
      "\n",
      "\n",
      " 75%|███████▌  | 15/20 [02:50<00:53, 10.77s/it]\u001B[A\u001B[A"
     ]
    },
    {
     "name": "stdout",
     "output_type": "stream",
     "text": [
      "Max pixel:  145.72\n",
      "953.3973999023438\n",
      "camera complete\n",
      "PCA: 3.666666666666667\n",
      "powermeter complete\n",
      "953.0858764648438\n",
      "spectrometer complete\n",
      "n_frames 50\n"
     ]
    },
    {
     "name": "stderr",
     "output_type": "stream",
     "text": [
      "\n",
      "\n",
      " 80%|████████  | 16/20 [03:00<00:42, 10.63s/it]\u001B[A\u001B[A"
     ]
    },
    {
     "name": "stdout",
     "output_type": "stream",
     "text": [
      "Max pixel:  60.66\n",
      "953.0858764648438\n",
      "camera complete\n",
      "PCA: 3.666666666666667\n",
      "powermeter complete\n",
      "953.2416381835938\n",
      "spectrometer complete\n",
      "n_frames 50\n"
     ]
    },
    {
     "name": "stderr",
     "output_type": "stream",
     "text": [
      "\n",
      "\n",
      " 85%|████████▌ | 17/20 [03:11<00:31, 10.54s/it]\u001B[A\u001B[A"
     ]
    },
    {
     "name": "stdout",
     "output_type": "stream",
     "text": [
      "Max pixel:  73.7\n",
      "953.2416381835938\n",
      "camera complete\n",
      "PCA: 3.666666666666667\n",
      "powermeter complete\n",
      "953.0079345703125\n",
      "spectrometer complete\n",
      "n_frames 50\n"
     ]
    },
    {
     "name": "stderr",
     "output_type": "stream",
     "text": [
      "\n",
      "\n",
      " 90%|█████████ | 18/20 [03:21<00:20, 10.47s/it]\u001B[A\u001B[A"
     ]
    },
    {
     "name": "stdout",
     "output_type": "stream",
     "text": [
      "Max pixel:  94.08\n",
      "953.0079345703125\n",
      "camera complete\n",
      "PCA: 3.666666666666667\n",
      "powermeter complete\n",
      "953.0858764648438\n",
      "spectrometer complete\n",
      "n_frames 50\n"
     ]
    },
    {
     "name": "stderr",
     "output_type": "stream",
     "text": [
      "\n",
      "\n",
      " 95%|█████████▌| 19/20 [03:31<00:10, 10.46s/it]\u001B[A\u001B[A"
     ]
    },
    {
     "name": "stdout",
     "output_type": "stream",
     "text": [
      "Max pixel:  83.88\n",
      "953.0858764648438\n",
      "camera complete\n",
      "PCA: 3.666666666666667\n",
      "powermeter complete\n",
      "953.2416381835938\n",
      "spectrometer complete\n",
      "n_frames 50\n"
     ]
    },
    {
     "name": "stderr",
     "output_type": "stream",
     "text": [
      "\n",
      "\n",
      "100%|██████████| 20/20 [03:42<00:00, 11.12s/it]\u001B[A\u001B[A\n",
      "\n",
      " 40%|████      | 4/10 [14:47<22:10, 221.80s/it]\u001B[A"
     ]
    },
    {
     "name": "stdout",
     "output_type": "stream",
     "text": [
      "Max pixel:  181.66\n",
      "953.2416381835938\n",
      "camera complete\n",
      "20240820_101400 20240820_101732\n",
      "1.8888888888888893\n",
      "41231\n"
     ]
    },
    {
     "name": "stderr",
     "output_type": "stream",
     "text": [
      "\n",
      "\n",
      "  0%|          | 0/20 [00:00<?, ?it/s]\u001B[A\u001B[A"
     ]
    },
    {
     "name": "stdout",
     "output_type": "stream",
     "text": [
      "PCA: 1.8888888888888893\n",
      "powermeter complete\n",
      "929.0309448242188\n",
      "spectrometer complete\n",
      "n_frames 4\n",
      "Max pixel:  146.75\n",
      "929.0309448242188\n",
      "camera complete\n"
     ]
    },
    {
     "name": "stderr",
     "output_type": "stream",
     "text": [
      "\n",
      "\n",
      "  5%|▌         | 1/20 [00:11<03:40, 11.59s/it]\u001B[A\u001B[A"
     ]
    },
    {
     "name": "stdout",
     "output_type": "stream",
     "text": [
      "PCA: 1.8888888888888893\n",
      "powermeter complete\n",
      "954.4844970703125\n",
      "spectrometer complete\n",
      "n_frames 50\n"
     ]
    },
    {
     "name": "stderr",
     "output_type": "stream",
     "text": [
      "\n",
      "\n",
      " 10%|█         | 2/20 [00:23<03:27, 11.52s/it]\u001B[A\u001B[A"
     ]
    },
    {
     "name": "stdout",
     "output_type": "stream",
     "text": [
      "Max pixel:  5.08\n",
      "954.4844970703125\n",
      "camera complete\n",
      "PCA: 1.8888888888888893\n",
      "powermeter complete\n",
      "955.0262451171875\n",
      "spectrometer complete\n",
      "n_frames 8\n",
      "Max pixel:  146.0\n",
      "955.0262451171875\n",
      "camera complete\n"
     ]
    },
    {
     "name": "stderr",
     "output_type": "stream",
     "text": [
      "\n",
      "\n",
      " 15%|█▌        | 3/20 [00:34<03:15, 11.52s/it]\u001B[A\u001B[A"
     ]
    },
    {
     "name": "stdout",
     "output_type": "stream",
     "text": [
      "PCA: 1.8888888888888893\n",
      "powermeter complete\n",
      "955.0262451171875\n",
      "spectrometer complete\n",
      "n_frames 8\n",
      "Max pixel:  186.5\n",
      "955.0262451171875\n",
      "camera complete\n"
     ]
    },
    {
     "name": "stderr",
     "output_type": "stream",
     "text": [
      "\n",
      "\n",
      " 20%|██        | 4/20 [00:46<03:03, 11.49s/it]\u001B[A\u001B[A"
     ]
    },
    {
     "name": "stdout",
     "output_type": "stream",
     "text": [
      "PCA: 1.8888888888888893\n",
      "powermeter complete\n",
      "954.7943115234375\n",
      "spectrometer complete\n",
      "n_frames 50\n"
     ]
    },
    {
     "name": "stderr",
     "output_type": "stream",
     "text": [
      "\n",
      "\n",
      " 25%|██▌       | 5/20 [00:57<02:51, 11.43s/it]\u001B[A\u001B[A"
     ]
    },
    {
     "name": "stdout",
     "output_type": "stream",
     "text": [
      "Max pixel:  4.24\n",
      "954.7943115234375\n",
      "camera complete\n",
      "PCA: 1.8888888888888893\n",
      "powermeter complete\n",
      "954.4844970703125\n",
      "spectrometer complete\n",
      "n_frames 31\n"
     ]
    },
    {
     "name": "stderr",
     "output_type": "stream",
     "text": [
      "\n",
      "\n",
      " 30%|███       | 6/20 [01:08<02:39, 11.41s/it]\u001B[A\u001B[A"
     ]
    },
    {
     "name": "stdout",
     "output_type": "stream",
     "text": [
      "Max pixel:  137.09677419354838\n",
      "954.4844970703125\n",
      "camera complete\n",
      "PCA: 1.8888888888888893\n",
      "powermeter complete\n",
      "954.2520141601562\n",
      "spectrometer complete\n",
      "n_frames 50\n"
     ]
    },
    {
     "name": "stderr",
     "output_type": "stream",
     "text": [
      "\n",
      "\n",
      " 35%|███▌      | 7/20 [01:19<02:25, 11.17s/it]\u001B[A\u001B[A"
     ]
    },
    {
     "name": "stdout",
     "output_type": "stream",
     "text": [
      "Max pixel:  40.56\n",
      "954.2520141601562\n",
      "camera complete\n",
      "PCA: 1.8888888888888893\n",
      "powermeter complete\n",
      "954.56201171875\n",
      "spectrometer complete\n",
      "n_frames 50\n"
     ]
    },
    {
     "name": "stderr",
     "output_type": "stream",
     "text": [
      "\n",
      "\n",
      " 40%|████      | 8/20 [01:30<02:13, 11.11s/it]\u001B[A\u001B[A"
     ]
    },
    {
     "name": "stdout",
     "output_type": "stream",
     "text": [
      "Max pixel:  189.82\n",
      "954.56201171875\n",
      "camera complete\n",
      "PCA: 1.8888888888888893\n",
      "powermeter complete\n",
      "954.2520141601562\n",
      "spectrometer complete\n",
      "n_frames 50\n"
     ]
    },
    {
     "name": "stderr",
     "output_type": "stream",
     "text": [
      "\n",
      "\n",
      " 45%|████▌     | 9/20 [01:49<02:30, 13.66s/it]\u001B[A\u001B[A"
     ]
    },
    {
     "name": "stdout",
     "output_type": "stream",
     "text": [
      "Max pixel:  245.52\n",
      "954.2520141601562\n",
      "camera complete\n",
      "PCA: 1.8888888888888893\n",
      "powermeter complete\n",
      "954.3295288085938\n",
      "spectrometer complete\n",
      "n_frames 50\n"
     ]
    },
    {
     "name": "stderr",
     "output_type": "stream",
     "text": [
      "\n",
      "\n",
      " 50%|█████     | 10/20 [02:00<02:06, 12.68s/it]\u001B[A\u001B[A"
     ]
    },
    {
     "name": "stdout",
     "output_type": "stream",
     "text": [
      "Max pixel:  250.52\n",
      "954.3295288085938\n",
      "camera complete\n",
      "PCA: 1.8888888888888893\n",
      "powermeter complete\n",
      "954.2520141601562\n",
      "spectrometer complete\n",
      "n_frames 50\n"
     ]
    },
    {
     "name": "stderr",
     "output_type": "stream",
     "text": [
      "\n",
      "\n",
      " 55%|█████▌    | 11/20 [02:10<01:47, 11.95s/it]\u001B[A\u001B[A"
     ]
    },
    {
     "name": "stdout",
     "output_type": "stream",
     "text": [
      "Max pixel:  119.72\n",
      "954.2520141601562\n",
      "camera complete\n",
      "PCA: 1.8888888888888893\n",
      "powermeter complete\n",
      "954.0191650390625\n",
      "spectrometer complete\n",
      "n_frames 50\n"
     ]
    },
    {
     "name": "stderr",
     "output_type": "stream",
     "text": [
      "\n",
      "\n",
      " 60%|██████    | 12/20 [02:20<01:32, 11.50s/it]\u001B[A\u001B[A"
     ]
    },
    {
     "name": "stdout",
     "output_type": "stream",
     "text": [
      "Max pixel:  116.44\n",
      "954.0191650390625\n",
      "camera complete\n",
      "PCA: 1.8888888888888893\n",
      "powermeter complete\n",
      "953.8639526367188\n",
      "spectrometer complete\n",
      "n_frames 50\n"
     ]
    },
    {
     "name": "stderr",
     "output_type": "stream",
     "text": [
      "\n",
      "\n",
      " 65%|██████▌   | 13/20 [02:31<01:18, 11.20s/it]\u001B[A\u001B[A"
     ]
    },
    {
     "name": "stdout",
     "output_type": "stream",
     "text": [
      "Max pixel:  196.02\n",
      "953.8639526367188\n",
      "camera complete\n",
      "PCA: 1.8888888888888893\n",
      "powermeter complete\n",
      "953.8639526367188\n",
      "spectrometer complete\n",
      "n_frames 50\n"
     ]
    },
    {
     "name": "stderr",
     "output_type": "stream",
     "text": [
      "\n",
      "\n",
      " 70%|███████   | 14/20 [02:41<01:05, 10.98s/it]\u001B[A\u001B[A"
     ]
    },
    {
     "name": "stdout",
     "output_type": "stream",
     "text": [
      "Max pixel:  141.22\n",
      "953.8639526367188\n",
      "camera complete\n",
      "PCA: 1.8888888888888893\n",
      "powermeter complete\n",
      "954.0191650390625\n",
      "spectrometer complete\n",
      "n_frames 50\n"
     ]
    },
    {
     "name": "stderr",
     "output_type": "stream",
     "text": [
      "\n",
      "\n",
      " 75%|███████▌  | 15/20 [02:52<00:53, 10.78s/it]\u001B[A\u001B[A"
     ]
    },
    {
     "name": "stdout",
     "output_type": "stream",
     "text": [
      "Max pixel:  204.88\n",
      "954.0191650390625\n",
      "camera complete\n",
      "PCA: 1.8888888888888893\n",
      "powermeter complete\n",
      "953.70849609375\n",
      "spectrometer complete\n",
      "n_frames 50\n"
     ]
    },
    {
     "name": "stderr",
     "output_type": "stream",
     "text": [
      "\n",
      "\n",
      " 80%|████████  | 16/20 [03:02<00:42, 10.68s/it]\u001B[A\u001B[A"
     ]
    },
    {
     "name": "stdout",
     "output_type": "stream",
     "text": [
      "Max pixel:  160.88\n",
      "953.70849609375\n",
      "camera complete\n",
      "PCA: 1.8888888888888893\n",
      "powermeter complete\n",
      "953.6307373046875\n",
      "spectrometer complete\n",
      "n_frames 50\n"
     ]
    },
    {
     "name": "stderr",
     "output_type": "stream",
     "text": [
      "\n",
      "\n",
      " 85%|████████▌ | 17/20 [03:12<00:31, 10.57s/it]\u001B[A\u001B[A"
     ]
    },
    {
     "name": "stdout",
     "output_type": "stream",
     "text": [
      "Max pixel:  178.98\n",
      "953.6307373046875\n",
      "camera complete\n",
      "PCA: 1.8888888888888893\n",
      "powermeter complete\n",
      "953.552978515625\n",
      "spectrometer complete\n",
      "n_frames 50\n"
     ]
    },
    {
     "name": "stderr",
     "output_type": "stream",
     "text": [
      "\n",
      "\n",
      " 90%|█████████ | 18/20 [03:23<00:20, 10.50s/it]\u001B[A\u001B[A"
     ]
    },
    {
     "name": "stdout",
     "output_type": "stream",
     "text": [
      "Max pixel:  94.5\n",
      "953.552978515625\n",
      "camera complete\n",
      "PCA: 1.8888888888888893\n",
      "powermeter complete\n",
      "953.3973999023438\n",
      "spectrometer complete\n",
      "n_frames 50\n"
     ]
    },
    {
     "name": "stderr",
     "output_type": "stream",
     "text": [
      "\n",
      "\n",
      " 95%|█████████▌| 19/20 [03:33<00:10, 10.47s/it]\u001B[A\u001B[A"
     ]
    },
    {
     "name": "stdout",
     "output_type": "stream",
     "text": [
      "Max pixel:  59.58\n",
      "953.3973999023438\n",
      "camera complete\n",
      "PCA: 1.8888888888888893\n",
      "powermeter complete\n",
      "953.2416381835938\n",
      "spectrometer complete\n",
      "n_frames 50\n"
     ]
    },
    {
     "name": "stderr",
     "output_type": "stream",
     "text": [
      "\n",
      "\n",
      "100%|██████████| 20/20 [03:44<00:00, 11.20s/it]\u001B[A\u001B[A\n",
      "\n",
      " 50%|█████     | 5/10 [18:31<18:33, 222.67s/it]\u001B[A"
     ]
    },
    {
     "name": "stdout",
     "output_type": "stream",
     "text": [
      "Max pixel:  241.16\n",
      "953.2416381835938\n",
      "camera complete\n",
      "20240820_101743 20240820_102117\n",
      "0.11111111111111072\n",
      "41231\n"
     ]
    },
    {
     "name": "stderr",
     "output_type": "stream",
     "text": [
      "\n",
      "\n",
      "  0%|          | 0/20 [00:00<?, ?it/s]\u001B[A\u001B[A"
     ]
    },
    {
     "name": "stdout",
     "output_type": "stream",
     "text": [
      "PCA: 0.11111111111111072\n",
      "powermeter complete\n",
      "929.0309448242188\n",
      "spectrometer complete\n",
      "n_frames 2\n",
      "Max pixel:  211.0\n",
      "929.0309448242188\n",
      "camera complete\n"
     ]
    },
    {
     "name": "stderr",
     "output_type": "stream",
     "text": [
      "\n",
      "\n",
      "  5%|▌         | 1/20 [00:11<03:43, 11.78s/it]\u001B[A\u001B[A"
     ]
    },
    {
     "name": "stdout",
     "output_type": "stream",
     "text": [
      "PCA: 0.11111111111111072\n",
      "powermeter complete\n",
      "955.0262451171875\n",
      "spectrometer complete\n",
      "n_frames 50\n"
     ]
    },
    {
     "name": "stderr",
     "output_type": "stream",
     "text": [
      "\n",
      "\n",
      " 10%|█         | 2/20 [00:23<03:29, 11.66s/it]\u001B[A\u001B[A"
     ]
    },
    {
     "name": "stdout",
     "output_type": "stream",
     "text": [
      "Max pixel:  6.08\n",
      "955.0262451171875\n",
      "camera complete\n",
      "PCA: 0.11111111111111072\n",
      "powermeter complete\n",
      "954.948974609375\n",
      "spectrometer complete\n",
      "n_frames 4\n",
      "Max pixel:  230.25\n",
      "954.948974609375\n",
      "camera complete\n"
     ]
    },
    {
     "name": "stderr",
     "output_type": "stream",
     "text": [
      "\n",
      "\n",
      " 15%|█▌        | 3/20 [00:34<03:17, 11.61s/it]\u001B[A\u001B[A"
     ]
    },
    {
     "name": "stdout",
     "output_type": "stream",
     "text": [
      "PCA: 0.11111111111111072\n",
      "powermeter complete\n",
      "954.948974609375\n",
      "spectrometer complete\n",
      "n_frames 50\n"
     ]
    },
    {
     "name": "stderr",
     "output_type": "stream",
     "text": [
      "\n",
      "\n",
      " 20%|██        | 4/20 [00:46<03:04, 11.56s/it]\u001B[A\u001B[A"
     ]
    },
    {
     "name": "stdout",
     "output_type": "stream",
     "text": [
      "Max pixel:  6.08\n",
      "954.948974609375\n",
      "camera complete\n",
      "PCA: 0.11111111111111072\n",
      "powermeter complete\n",
      "954.56201171875\n",
      "spectrometer complete\n",
      "n_frames 8\n",
      "Max pixel:  236.5\n",
      "954.56201171875\n",
      "camera complete\n"
     ]
    },
    {
     "name": "stderr",
     "output_type": "stream",
     "text": [
      "\n",
      "\n",
      " 25%|██▌       | 5/20 [00:57<02:53, 11.53s/it]\u001B[A\u001B[A"
     ]
    },
    {
     "name": "stdout",
     "output_type": "stream",
     "text": [
      "PCA: 0.11111111111111072\n",
      "powermeter complete\n",
      "954.56201171875\n",
      "spectrometer complete\n",
      "n_frames 50\n"
     ]
    },
    {
     "name": "stderr",
     "output_type": "stream",
     "text": [
      "\n",
      "\n",
      " 30%|███       | 6/20 [01:08<02:35, 11.11s/it]\u001B[A\u001B[A"
     ]
    },
    {
     "name": "stdout",
     "output_type": "stream",
     "text": [
      "Max pixel:  4.2\n",
      "954.56201171875\n",
      "camera complete\n",
      "PCA: 0.11111111111111072\n",
      "powermeter complete\n",
      "954.4844970703125\n",
      "spectrometer complete\n",
      "n_frames 50\n"
     ]
    },
    {
     "name": "stderr",
     "output_type": "stream",
     "text": [
      "\n",
      "\n",
      " 35%|███▌      | 7/20 [01:18<02:22, 10.97s/it]\u001B[A\u001B[A"
     ]
    },
    {
     "name": "stdout",
     "output_type": "stream",
     "text": [
      "Max pixel:  66.7\n",
      "954.4844970703125\n",
      "camera complete\n",
      "PCA: 0.11111111111111072\n",
      "powermeter complete\n",
      "954.6394653320312\n",
      "spectrometer complete\n",
      "n_frames 50\n"
     ]
    },
    {
     "name": "stderr",
     "output_type": "stream",
     "text": [
      "\n",
      "\n",
      " 40%|████      | 8/20 [01:29<02:11, 10.99s/it]\u001B[A\u001B[A"
     ]
    },
    {
     "name": "stdout",
     "output_type": "stream",
     "text": [
      "Max pixel:  135.0\n",
      "954.6394653320312\n",
      "camera complete\n",
      "PCA: 0.11111111111111072\n",
      "powermeter complete\n",
      "954.7943115234375\n",
      "spectrometer complete\n",
      "n_frames 50\n"
     ]
    },
    {
     "name": "stderr",
     "output_type": "stream",
     "text": [
      "\n",
      "\n",
      " 45%|████▌     | 9/20 [01:41<02:01, 11.07s/it]\u001B[A\u001B[A"
     ]
    },
    {
     "name": "stdout",
     "output_type": "stream",
     "text": [
      "Max pixel:  235.0\n",
      "954.7943115234375\n",
      "camera complete\n",
      "PCA: 0.11111111111111072\n",
      "powermeter complete\n",
      "954.8716430664062\n",
      "spectrometer complete\n",
      "n_frames 50\n"
     ]
    },
    {
     "name": "stderr",
     "output_type": "stream",
     "text": [
      "\n",
      "\n",
      " 50%|█████     | 10/20 [02:00<02:15, 13.60s/it]\u001B[A\u001B[A"
     ]
    },
    {
     "name": "stdout",
     "output_type": "stream",
     "text": [
      "Max pixel:  219.44\n",
      "954.8716430664062\n",
      "camera complete\n",
      "PCA: 0.11111111111111072\n",
      "powermeter complete\n",
      "954.7168579101562\n",
      "spectrometer complete\n",
      "n_frames 50\n"
     ]
    },
    {
     "name": "stderr",
     "output_type": "stream",
     "text": [
      "\n",
      "\n",
      " 55%|█████▌    | 11/20 [02:10<01:53, 12.63s/it]\u001B[A\u001B[A"
     ]
    },
    {
     "name": "stdout",
     "output_type": "stream",
     "text": [
      "Max pixel:  248.5\n",
      "954.7168579101562\n",
      "camera complete\n",
      "PCA: 0.11111111111111072\n",
      "powermeter complete\n",
      "954.6394653320312\n",
      "spectrometer complete\n",
      "n_frames 50\n"
     ]
    },
    {
     "name": "stderr",
     "output_type": "stream",
     "text": [
      "\n",
      "\n",
      " 60%|██████    | 12/20 [02:21<01:35, 11.93s/it]\u001B[A\u001B[A"
     ]
    },
    {
     "name": "stdout",
     "output_type": "stream",
     "text": [
      "Max pixel:  63.44\n",
      "954.6394653320312\n",
      "camera complete\n",
      "PCA: 0.11111111111111072\n",
      "powermeter complete\n",
      "954.4844970703125\n",
      "spectrometer complete\n",
      "n_frames 50\n"
     ]
    },
    {
     "name": "stderr",
     "output_type": "stream",
     "text": [
      "\n",
      "\n",
      " 65%|██████▌   | 13/20 [02:31<01:20, 11.46s/it]\u001B[A\u001B[A"
     ]
    },
    {
     "name": "stdout",
     "output_type": "stream",
     "text": [
      "Max pixel:  188.3\n",
      "954.4844970703125\n",
      "camera complete\n",
      "PCA: 0.11111111111111072\n",
      "powermeter complete\n",
      "954.6394653320312\n",
      "spectrometer complete\n",
      "n_frames 50\n"
     ]
    },
    {
     "name": "stderr",
     "output_type": "stream",
     "text": [
      "\n",
      "\n",
      " 70%|███████   | 14/20 [02:41<01:06, 11.13s/it]\u001B[A\u001B[A"
     ]
    },
    {
     "name": "stdout",
     "output_type": "stream",
     "text": [
      "Max pixel:  117.48\n",
      "954.6394653320312\n",
      "camera complete\n",
      "PCA: 0.11111111111111072\n",
      "powermeter complete\n",
      "955.9521484375\n",
      "spectrometer complete\n",
      "n_frames 50\n"
     ]
    },
    {
     "name": "stderr",
     "output_type": "stream",
     "text": [
      "\n",
      "\n",
      " 75%|███████▌  | 15/20 [02:52<00:54, 10.87s/it]\u001B[A\u001B[A"
     ]
    },
    {
     "name": "stdout",
     "output_type": "stream",
     "text": [
      "Max pixel:  226.3\n",
      "955.9521484375\n",
      "camera complete\n",
      "PCA: 0.11111111111111072\n",
      "powermeter complete\n",
      "954.56201171875\n",
      "spectrometer complete\n",
      "n_frames 50\n"
     ]
    },
    {
     "name": "stderr",
     "output_type": "stream",
     "text": [
      "\n",
      "\n",
      " 80%|████████  | 16/20 [03:02<00:42, 10.74s/it]\u001B[A\u001B[A"
     ]
    },
    {
     "name": "stdout",
     "output_type": "stream",
     "text": [
      "Max pixel:  233.06\n",
      "954.56201171875\n",
      "camera complete\n",
      "PCA: 0.11111111111111072\n",
      "powermeter complete\n",
      "954.6394653320312\n",
      "spectrometer complete\n",
      "n_frames 50\n"
     ]
    },
    {
     "name": "stderr",
     "output_type": "stream",
     "text": [
      "\n",
      "\n",
      " 85%|████████▌ | 17/20 [03:12<00:31, 10.63s/it]\u001B[A\u001B[A"
     ]
    },
    {
     "name": "stdout",
     "output_type": "stream",
     "text": [
      "Max pixel:  68.14\n",
      "954.6394653320312\n",
      "camera complete\n",
      "PCA: 0.11111111111111072\n",
      "powermeter complete\n",
      "954.4844970703125\n",
      "spectrometer complete\n",
      "n_frames 50\n"
     ]
    },
    {
     "name": "stderr",
     "output_type": "stream",
     "text": [
      "\n",
      "\n",
      " 90%|█████████ | 18/20 [03:23<00:21, 10.53s/it]\u001B[A\u001B[A"
     ]
    },
    {
     "name": "stdout",
     "output_type": "stream",
     "text": [
      "Max pixel:  46.84\n",
      "954.4844970703125\n",
      "camera complete\n",
      "PCA: 0.11111111111111072\n",
      "powermeter complete\n",
      "954.2520141601562\n",
      "spectrometer complete\n",
      "n_frames 50\n"
     ]
    },
    {
     "name": "stderr",
     "output_type": "stream",
     "text": [
      "\n",
      "\n",
      " 95%|█████████▌| 19/20 [03:33<00:10, 10.48s/it]\u001B[A\u001B[A"
     ]
    },
    {
     "name": "stdout",
     "output_type": "stream",
     "text": [
      "Max pixel:  80.62\n",
      "954.2520141601562\n",
      "camera complete\n",
      "PCA: 0.11111111111111072\n",
      "powermeter complete\n",
      "954.2520141601562\n",
      "spectrometer complete\n",
      "n_frames 50\n"
     ]
    },
    {
     "name": "stderr",
     "output_type": "stream",
     "text": [
      "\n",
      "\n",
      "100%|██████████| 20/20 [03:44<00:00, 11.22s/it]\u001B[A\u001B[A\n",
      "\n",
      " 60%|██████    | 6/10 [22:15<14:53, 223.29s/it]\u001B[A"
     ]
    },
    {
     "name": "stdout",
     "output_type": "stream",
     "text": [
      "Max pixel:  85.32\n",
      "954.2520141601562\n",
      "camera complete\n",
      "20240820_102127 20240820_102501\n",
      "-1.666666666666666\n",
      "41231\n"
     ]
    },
    {
     "name": "stderr",
     "output_type": "stream",
     "text": [
      "\n",
      "\n",
      "  0%|          | 0/20 [00:00<?, ?it/s]\u001B[A\u001B[A"
     ]
    },
    {
     "name": "stdout",
     "output_type": "stream",
     "text": [
      "PCA: -1.666666666666666\n",
      "powermeter complete\n",
      "928.8607177734375\n",
      "spectrometer complete\n",
      "n_frames 4\n",
      "Max pixel:  148.0\n",
      "928.8607177734375\n",
      "camera complete\n"
     ]
    },
    {
     "name": "stderr",
     "output_type": "stream",
     "text": [
      "\n",
      "\n",
      "  5%|▌         | 1/20 [00:11<03:41, 11.64s/it]\u001B[A\u001B[A"
     ]
    },
    {
     "name": "stdout",
     "output_type": "stream",
     "text": [
      "PCA: -1.666666666666666\n",
      "powermeter complete\n",
      "956.260009765625\n",
      "spectrometer complete\n",
      "n_frames 50\n"
     ]
    },
    {
     "name": "stderr",
     "output_type": "stream",
     "text": [
      "\n",
      "\n",
      " 10%|█         | 2/20 [00:23<03:27, 11.54s/it]\u001B[A\u001B[A"
     ]
    },
    {
     "name": "stdout",
     "output_type": "stream",
     "text": [
      "Max pixel:  8.76\n",
      "956.260009765625\n",
      "camera complete\n",
      "PCA: -1.666666666666666\n",
      "powermeter complete\n",
      "956.1061401367188\n",
      "spectrometer complete\n",
      "n_frames 4\n",
      "Max pixel:  228.25\n",
      "956.1061401367188\n",
      "camera complete\n"
     ]
    },
    {
     "name": "stderr",
     "output_type": "stream",
     "text": [
      "\n",
      "\n",
      " 15%|█▌        | 3/20 [00:34<03:16, 11.56s/it]\u001B[A\u001B[A"
     ]
    },
    {
     "name": "stdout",
     "output_type": "stream",
     "text": [
      "PCA: -1.666666666666666\n",
      "powermeter complete\n",
      "956.18310546875\n",
      "spectrometer complete\n",
      "n_frames 50\n"
     ]
    },
    {
     "name": "stderr",
     "output_type": "stream",
     "text": [
      "\n",
      "\n",
      " 20%|██        | 4/20 [00:46<03:04, 11.52s/it]\u001B[A\u001B[A"
     ]
    },
    {
     "name": "stdout",
     "output_type": "stream",
     "text": [
      "Max pixel:  11.16\n",
      "956.18310546875\n",
      "camera complete\n",
      "PCA: -1.666666666666666\n",
      "powermeter complete\n",
      "956.1061401367188\n",
      "spectrometer complete\n",
      "n_frames 16\n"
     ]
    },
    {
     "name": "stderr",
     "output_type": "stream",
     "text": [
      "\n",
      "\n",
      " 25%|██▌       | 5/20 [00:57<02:52, 11.51s/it]\u001B[A\u001B[A"
     ]
    },
    {
     "name": "stdout",
     "output_type": "stream",
     "text": [
      "Max pixel:  129.0\n",
      "956.1061401367188\n",
      "camera complete\n",
      "PCA: -1.666666666666666\n",
      "powermeter complete\n",
      "956.1061401367188\n",
      "spectrometer complete\n",
      "n_frames 16\n"
     ]
    },
    {
     "name": "stderr",
     "output_type": "stream",
     "text": [
      "\n",
      "\n",
      " 30%|███       | 6/20 [01:08<02:40, 11.45s/it]\u001B[A\u001B[A"
     ]
    },
    {
     "name": "stdout",
     "output_type": "stream",
     "text": [
      "Max pixel:  152.1875\n",
      "956.1061401367188\n",
      "camera complete\n",
      "PCA: -1.666666666666666\n",
      "powermeter complete\n",
      "955.798095703125\n",
      "spectrometer complete\n",
      "n_frames 16\n"
     ]
    },
    {
     "name": "stderr",
     "output_type": "stream",
     "text": [
      "\n",
      "\n"
     ]
    },
    {
     "name": "stdout",
     "output_type": "stream",
     "text": [
      "Max pixel:  177.375\n",
      "955.798095703125\n",
      "camera complete\n"
     ]
    },
    {
     "name": "stderr",
     "output_type": "stream",
     "text": [
      " 35%|███▌      | 7/20 [01:20<02:29, 11.47s/it]\u001B[A\u001B[A"
     ]
    },
    {
     "name": "stdout",
     "output_type": "stream",
     "text": [
      "PCA: -1.666666666666666\n",
      "powermeter complete\n",
      "955.3352661132812\n",
      "spectrometer complete\n",
      "n_frames 16\n"
     ]
    },
    {
     "name": "stderr",
     "output_type": "stream",
     "text": [
      "\n",
      "\n",
      " 40%|████      | 8/20 [01:30<02:13, 11.12s/it]\u001B[A\u001B[A"
     ]
    },
    {
     "name": "stdout",
     "output_type": "stream",
     "text": [
      "Max pixel:  214.0625\n",
      "955.3352661132812\n",
      "camera complete\n",
      "PCA: -1.666666666666666\n",
      "powermeter complete\n",
      "955.3352661132812\n",
      "spectrometer complete\n",
      "n_frames 50\n"
     ]
    },
    {
     "name": "stderr",
     "output_type": "stream",
     "text": [
      "\n",
      "\n",
      " 45%|████▌     | 9/20 [01:41<02:00, 10.99s/it]\u001B[A\u001B[A"
     ]
    },
    {
     "name": "stdout",
     "output_type": "stream",
     "text": [
      "Max pixel:  54.5\n",
      "955.3352661132812\n",
      "camera complete\n",
      "PCA: -1.666666666666666\n",
      "powermeter complete\n",
      "955.3352661132812\n",
      "spectrometer complete\n",
      "n_frames 50\n"
     ]
    },
    {
     "name": "stderr",
     "output_type": "stream",
     "text": [
      "\n",
      "\n",
      " 50%|█████     | 10/20 [01:52<01:49, 10.99s/it]\u001B[A\u001B[A"
     ]
    },
    {
     "name": "stdout",
     "output_type": "stream",
     "text": [
      "Max pixel:  172.18\n",
      "955.3352661132812\n",
      "camera complete\n",
      "PCA: -1.666666666666666\n",
      "powermeter complete\n",
      "955.6439208984375\n",
      "spectrometer complete\n",
      "n_frames 50\n"
     ]
    },
    {
     "name": "stderr",
     "output_type": "stream",
     "text": [
      "\n",
      "\n",
      " 55%|█████▌    | 11/20 [02:11<02:01, 13.53s/it]\u001B[A\u001B[A"
     ]
    },
    {
     "name": "stdout",
     "output_type": "stream",
     "text": [
      "Max pixel:  170.2\n",
      "955.6439208984375\n",
      "camera complete\n",
      "PCA: -1.666666666666666\n",
      "powermeter complete\n",
      "955.5668334960938\n",
      "spectrometer complete\n",
      "n_frames 50\n"
     ]
    },
    {
     "name": "stderr",
     "output_type": "stream",
     "text": [
      "\n",
      "\n",
      " 60%|██████    | 12/20 [02:22<01:41, 12.64s/it]\u001B[A\u001B[A"
     ]
    },
    {
     "name": "stdout",
     "output_type": "stream",
     "text": [
      "Max pixel:  225.1\n",
      "955.5668334960938\n",
      "camera complete\n",
      "PCA: -1.666666666666666\n",
      "powermeter complete\n",
      "955.5668334960938\n",
      "spectrometer complete\n",
      "n_frames 50\n"
     ]
    },
    {
     "name": "stderr",
     "output_type": "stream",
     "text": [
      "\n",
      "\n",
      " 65%|██████▌   | 13/20 [02:32<01:23, 11.93s/it]\u001B[A\u001B[A"
     ]
    },
    {
     "name": "stdout",
     "output_type": "stream",
     "text": [
      "Max pixel:  215.26\n",
      "955.5668334960938\n",
      "camera complete\n",
      "PCA: -1.666666666666666\n",
      "powermeter complete\n",
      "955.4896850585938\n",
      "spectrometer complete\n",
      "n_frames 50\n"
     ]
    },
    {
     "name": "stderr",
     "output_type": "stream",
     "text": [
      "\n",
      "\n",
      " 70%|███████   | 14/20 [02:43<01:09, 11.53s/it]\u001B[A\u001B[A"
     ]
    },
    {
     "name": "stdout",
     "output_type": "stream",
     "text": [
      "Max pixel:  139.6\n",
      "955.4896850585938\n",
      "camera complete\n",
      "PCA: -1.666666666666666\n",
      "powermeter complete\n",
      "955.7210083007812\n",
      "spectrometer complete\n",
      "n_frames 50\n"
     ]
    },
    {
     "name": "stderr",
     "output_type": "stream",
     "text": [
      "\n",
      "\n",
      " 75%|███████▌  | 15/20 [02:53<00:56, 11.20s/it]\u001B[A\u001B[A"
     ]
    },
    {
     "name": "stdout",
     "output_type": "stream",
     "text": [
      "Max pixel:  83.24\n",
      "955.7210083007812\n",
      "camera complete\n",
      "PCA: -1.666666666666666\n",
      "powermeter complete\n",
      "955.5668334960938\n",
      "spectrometer complete\n",
      "n_frames 50\n"
     ]
    },
    {
     "name": "stderr",
     "output_type": "stream",
     "text": [
      "\n",
      "\n",
      " 80%|████████  | 16/20 [03:04<00:43, 10.97s/it]\u001B[A\u001B[A"
     ]
    },
    {
     "name": "stdout",
     "output_type": "stream",
     "text": [
      "Max pixel:  192.08\n",
      "955.5668334960938\n",
      "camera complete\n",
      "PCA: -1.666666666666666\n",
      "powermeter complete\n",
      "955.4896850585938\n",
      "spectrometer complete\n",
      "n_frames 50\n"
     ]
    },
    {
     "name": "stderr",
     "output_type": "stream",
     "text": [
      "\n",
      "\n",
      " 85%|████████▌ | 17/20 [03:14<00:32, 10.80s/it]\u001B[A\u001B[A"
     ]
    },
    {
     "name": "stdout",
     "output_type": "stream",
     "text": [
      "Max pixel:  207.98\n",
      "955.4896850585938\n",
      "camera complete\n",
      "PCA: -1.666666666666666\n",
      "powermeter complete\n",
      "955.6439208984375\n",
      "spectrometer complete\n",
      "n_frames 50\n"
     ]
    },
    {
     "name": "stderr",
     "output_type": "stream",
     "text": [
      "\n",
      "\n",
      " 90%|█████████ | 18/20 [03:24<00:21, 10.65s/it]\u001B[A\u001B[A"
     ]
    },
    {
     "name": "stdout",
     "output_type": "stream",
     "text": [
      "Max pixel:  67.2\n",
      "955.6439208984375\n",
      "camera complete\n",
      "PCA: -1.666666666666666\n",
      "powermeter complete\n",
      "955.6439208984375\n",
      "spectrometer complete\n",
      "n_frames 50\n"
     ]
    },
    {
     "name": "stderr",
     "output_type": "stream",
     "text": [
      "\n",
      "\n",
      " 95%|█████████▌| 19/20 [03:35<00:10, 10.60s/it]\u001B[A\u001B[A"
     ]
    },
    {
     "name": "stdout",
     "output_type": "stream",
     "text": [
      "Max pixel:  204.5\n",
      "955.6439208984375\n",
      "camera complete\n",
      "PCA: -1.666666666666666\n",
      "powermeter complete\n",
      "955.4896850585938\n",
      "spectrometer complete\n",
      "n_frames 50\n"
     ]
    },
    {
     "name": "stderr",
     "output_type": "stream",
     "text": [
      "\n",
      "\n",
      "100%|██████████| 20/20 [03:45<00:00, 11.29s/it]\u001B[A\u001B[A\n",
      "\n",
      " 70%|███████   | 7/10 [26:01<11:12, 224.13s/it]\u001B[A"
     ]
    },
    {
     "name": "stdout",
     "output_type": "stream",
     "text": [
      "Max pixel:  115.92\n",
      "955.4896850585938\n",
      "camera complete\n",
      "20240820_102511 20240820_102847\n",
      "-3.444444444444443\n",
      "41231\n"
     ]
    },
    {
     "name": "stderr",
     "output_type": "stream",
     "text": [
      "\n",
      "\n",
      "  0%|          | 0/20 [00:00<?, ?it/s]\u001B[A\u001B[A"
     ]
    },
    {
     "name": "stdout",
     "output_type": "stream",
     "text": [
      "PCA: -3.444444444444443\n",
      "powermeter complete\n",
      "931.0665283203125\n",
      "spectrometer complete\n",
      "n_frames 4\n",
      "Max pixel:  150.25\n",
      "931.0665283203125\n",
      "camera complete\n"
     ]
    },
    {
     "name": "stderr",
     "output_type": "stream",
     "text": [
      "\n",
      "\n",
      "  5%|▌         | 1/20 [00:11<03:38, 11.51s/it]\u001B[A\u001B[A"
     ]
    },
    {
     "name": "stdout",
     "output_type": "stream",
     "text": [
      "PCA: -3.444444444444443\n",
      "powermeter complete\n",
      "957.4107666015625\n",
      "spectrometer complete\n",
      "n_frames 50\n"
     ]
    },
    {
     "name": "stderr",
     "output_type": "stream",
     "text": [
      "\n",
      "\n",
      " 10%|█         | 2/20 [00:22<03:25, 11.41s/it]\u001B[A\u001B[A"
     ]
    },
    {
     "name": "stdout",
     "output_type": "stream",
     "text": [
      "Max pixel:  4.9\n",
      "957.4107666015625\n",
      "camera complete\n",
      "PCA: -3.444444444444443\n",
      "powermeter complete\n",
      "957.2576904296875\n",
      "spectrometer complete\n",
      "n_frames 4\n",
      "Max pixel:  227.0\n",
      "957.2576904296875\n",
      "camera complete\n"
     ]
    },
    {
     "name": "stderr",
     "output_type": "stream",
     "text": [
      "\n",
      "\n",
      " 15%|█▌        | 3/20 [00:34<03:15, 11.48s/it]\u001B[A\u001B[A"
     ]
    },
    {
     "name": "stdout",
     "output_type": "stream",
     "text": [
      "PCA: -3.444444444444443\n",
      "powermeter complete\n",
      "957.2576904296875\n",
      "spectrometer complete\n",
      "n_frames 50\n"
     ]
    },
    {
     "name": "stderr",
     "output_type": "stream",
     "text": [
      "\n",
      "\n",
      " 20%|██        | 4/20 [00:45<03:03, 11.47s/it]\u001B[A\u001B[A"
     ]
    },
    {
     "name": "stdout",
     "output_type": "stream",
     "text": [
      "Max pixel:  6.08\n",
      "957.2576904296875\n",
      "camera complete\n",
      "PCA: -3.444444444444443\n",
      "powermeter complete\n",
      "956.9511108398438\n",
      "spectrometer complete\n",
      "n_frames 16\n"
     ]
    },
    {
     "name": "stderr",
     "output_type": "stream",
     "text": [
      "\n",
      "\n"
     ]
    },
    {
     "name": "stdout",
     "output_type": "stream",
     "text": [
      "Max pixel:  122.25\n",
      "956.9511108398438\n",
      "camera complete\n"
     ]
    },
    {
     "name": "stderr",
     "output_type": "stream",
     "text": [
      " 25%|██▌       | 5/20 [00:57<02:51, 11.45s/it]\u001B[A\u001B[A"
     ]
    },
    {
     "name": "stdout",
     "output_type": "stream",
     "text": [
      "PCA: -3.444444444444443\n",
      "powermeter complete\n",
      "956.7977294921875\n",
      "spectrometer complete\n",
      "n_frames 16\n"
     ]
    },
    {
     "name": "stderr",
     "output_type": "stream",
     "text": [
      "\n",
      "\n",
      " 30%|███       | 6/20 [01:08<02:39, 11.42s/it]\u001B[A\u001B[A"
     ]
    },
    {
     "name": "stdout",
     "output_type": "stream",
     "text": [
      "Max pixel:  144.125\n",
      "956.7977294921875\n",
      "camera complete\n",
      "PCA: -3.444444444444443\n",
      "powermeter complete\n",
      "956.7977294921875\n",
      "spectrometer complete\n",
      "n_frames 16\n"
     ]
    },
    {
     "name": "stderr",
     "output_type": "stream",
     "text": [
      "\n",
      "\n",
      " 35%|███▌      | 7/20 [01:20<02:28, 11.41s/it]\u001B[A\u001B[A"
     ]
    },
    {
     "name": "stdout",
     "output_type": "stream",
     "text": [
      "Max pixel:  167.75\n",
      "956.7977294921875\n",
      "camera complete\n",
      "PCA: -3.444444444444443\n",
      "powermeter complete\n",
      "956.7977294921875\n",
      "spectrometer complete\n",
      "n_frames 16\n"
     ]
    },
    {
     "name": "stderr",
     "output_type": "stream",
     "text": [
      "\n",
      "\n"
     ]
    },
    {
     "name": "stdout",
     "output_type": "stream",
     "text": [
      "Max pixel:  190.75\n",
      "956.7977294921875\n",
      "camera complete\n"
     ]
    },
    {
     "name": "stderr",
     "output_type": "stream",
     "text": [
      " 40%|████      | 8/20 [01:31<02:16, 11.37s/it]\u001B[A\u001B[A"
     ]
    },
    {
     "name": "stdout",
     "output_type": "stream",
     "text": [
      "PCA: -3.444444444444443\n",
      "powermeter complete\n",
      "956.7977294921875\n",
      "spectrometer complete\n",
      "n_frames 16\n"
     ]
    },
    {
     "name": "stderr",
     "output_type": "stream",
     "text": [
      "\n",
      "\n",
      " 45%|████▌     | 9/20 [01:42<02:05, 11.37s/it]\u001B[A\u001B[A"
     ]
    },
    {
     "name": "stdout",
     "output_type": "stream",
     "text": [
      "Max pixel:  216.5\n",
      "956.7977294921875\n",
      "camera complete\n",
      "PCA: -3.444444444444443\n",
      "powermeter complete\n",
      "956.7210083007812\n",
      "spectrometer complete\n",
      "n_frames 16\n"
     ]
    },
    {
     "name": "stderr",
     "output_type": "stream",
     "text": [
      "\n",
      "\n"
     ]
    },
    {
     "name": "stdout",
     "output_type": "stream",
     "text": [
      "Max pixel:  245.3125\n",
      "956.7210083007812\n",
      "camera complete\n"
     ]
    },
    {
     "name": "stderr",
     "output_type": "stream",
     "text": [
      " 50%|█████     | 10/20 [01:53<01:53, 11.35s/it]\u001B[A\u001B[A"
     ]
    },
    {
     "name": "stdout",
     "output_type": "stream",
     "text": [
      "PCA: -3.444444444444443\n",
      "powermeter complete\n",
      "956.5673828125\n",
      "spectrometer complete\n",
      "n_frames 50\n"
     ]
    },
    {
     "name": "stderr",
     "output_type": "stream",
     "text": [
      "\n",
      "\n",
      " 55%|█████▌    | 11/20 [02:05<01:41, 11.24s/it]\u001B[A\u001B[A"
     ]
    },
    {
     "name": "stdout",
     "output_type": "stream",
     "text": [
      "Max pixel:  120.84\n",
      "956.5673828125\n",
      "camera complete\n",
      "PCA: -3.444444444444443\n",
      "powermeter complete\n",
      "956.5673828125\n",
      "spectrometer complete\n",
      "n_frames 50\n"
     ]
    },
    {
     "name": "stderr",
     "output_type": "stream",
     "text": [
      "\n",
      "\n",
      " 60%|██████    | 12/20 [02:16<01:29, 11.18s/it]\u001B[A\u001B[A"
     ]
    },
    {
     "name": "stdout",
     "output_type": "stream",
     "text": [
      "Max pixel:  176.98\n",
      "956.5673828125\n",
      "camera complete\n",
      "PCA: -3.444444444444443\n",
      "powermeter complete\n",
      "957.1044921875\n",
      "spectrometer complete\n",
      "n_frames 50\n"
     ]
    },
    {
     "name": "stderr",
     "output_type": "stream",
     "text": [
      "\n",
      "\n",
      " 65%|██████▌   | 13/20 [02:35<01:35, 13.64s/it]\u001B[A\u001B[A"
     ]
    },
    {
     "name": "stdout",
     "output_type": "stream",
     "text": [
      "Max pixel:  196.38\n",
      "957.1044921875\n",
      "camera complete\n",
      "PCA: -3.444444444444443\n",
      "powermeter complete\n",
      "957.1044921875\n",
      "spectrometer complete\n",
      "n_frames 50\n"
     ]
    },
    {
     "name": "stderr",
     "output_type": "stream",
     "text": [
      "\n",
      "\n",
      " 70%|███████   | 14/20 [02:45<01:15, 12.63s/it]\u001B[A\u001B[A"
     ]
    },
    {
     "name": "stdout",
     "output_type": "stream",
     "text": [
      "Max pixel:  66.56\n",
      "957.1044921875\n",
      "camera complete\n",
      "PCA: -3.444444444444443\n",
      "powermeter complete\n",
      "956.9511108398438\n",
      "spectrometer complete\n",
      "n_frames 50\n"
     ]
    },
    {
     "name": "stderr",
     "output_type": "stream",
     "text": [
      "\n",
      "\n",
      " 75%|███████▌  | 15/20 [02:55<00:59, 11.92s/it]\u001B[A\u001B[A"
     ]
    },
    {
     "name": "stdout",
     "output_type": "stream",
     "text": [
      "Max pixel:  169.98\n",
      "956.9511108398438\n",
      "camera complete\n",
      "PCA: -3.444444444444443\n",
      "powermeter complete\n",
      "956.9511108398438\n",
      "spectrometer complete\n",
      "n_frames 50\n"
     ]
    },
    {
     "name": "stderr",
     "output_type": "stream",
     "text": [
      "\n",
      "\n",
      " 80%|████████  | 16/20 [03:06<00:45, 11.44s/it]\u001B[A\u001B[A"
     ]
    },
    {
     "name": "stdout",
     "output_type": "stream",
     "text": [
      "Max pixel:  141.94\n",
      "956.9511108398438\n",
      "camera complete\n",
      "PCA: -3.444444444444443\n",
      "powermeter complete\n",
      "957.02783203125\n",
      "spectrometer complete\n",
      "n_frames 50\n"
     ]
    },
    {
     "name": "stderr",
     "output_type": "stream",
     "text": [
      "\n",
      "\n",
      " 85%|████████▌ | 17/20 [03:16<00:33, 11.13s/it]\u001B[A\u001B[A"
     ]
    },
    {
     "name": "stdout",
     "output_type": "stream",
     "text": [
      "Max pixel:  233.04\n",
      "957.02783203125\n",
      "camera complete\n",
      "PCA: -3.444444444444443\n",
      "powermeter complete\n",
      "956.9511108398438\n",
      "spectrometer complete\n",
      "n_frames 50\n"
     ]
    },
    {
     "name": "stderr",
     "output_type": "stream",
     "text": [
      "\n",
      "\n",
      " 90%|█████████ | 18/20 [03:27<00:21, 10.93s/it]\u001B[A\u001B[A"
     ]
    },
    {
     "name": "stdout",
     "output_type": "stream",
     "text": [
      "Max pixel:  244.08\n",
      "956.9511108398438\n",
      "camera complete\n",
      "PCA: -3.444444444444443\n",
      "powermeter complete\n",
      "956.9511108398438\n",
      "spectrometer complete\n",
      "n_frames 50\n"
     ]
    },
    {
     "name": "stderr",
     "output_type": "stream",
     "text": [
      "\n",
      "\n",
      " 95%|█████████▌| 19/20 [03:37<00:10, 10.79s/it]\u001B[A\u001B[A"
     ]
    },
    {
     "name": "stdout",
     "output_type": "stream",
     "text": [
      "Max pixel:  248.92\n",
      "956.9511108398438\n",
      "camera complete\n",
      "PCA: -3.444444444444443\n",
      "powermeter complete\n",
      "956.7210083007812\n",
      "spectrometer complete\n",
      "n_frames 50\n"
     ]
    },
    {
     "name": "stderr",
     "output_type": "stream",
     "text": [
      "\n",
      "\n",
      "100%|██████████| 20/20 [03:48<00:00, 11.40s/it]\u001B[A\u001B[A\n",
      "\n",
      " 80%|████████  | 8/10 [29:50<07:30, 225.42s/it]\u001B[A"
     ]
    },
    {
     "name": "stdout",
     "output_type": "stream",
     "text": [
      "Max pixel:  178.36\n",
      "956.7210083007812\n",
      "camera complete\n",
      "20240820_102857 20240820_103235\n",
      "-5.222222222222221\n",
      "41231\n"
     ]
    },
    {
     "name": "stderr",
     "output_type": "stream",
     "text": [
      "\n",
      "\n",
      "  0%|          | 0/20 [00:00<?, ?it/s]\u001B[A\u001B[A"
     ]
    },
    {
     "name": "stdout",
     "output_type": "stream",
     "text": [
      "PCA: -5.222222222222221\n",
      "powermeter complete\n",
      "928.8607177734375\n",
      "spectrometer complete\n",
      "n_frames 4\n",
      "Max pixel:  148.0\n",
      "928.8607177734375\n",
      "camera complete\n"
     ]
    },
    {
     "name": "stderr",
     "output_type": "stream",
     "text": [
      "\n",
      "\n",
      "  5%|▌         | 1/20 [00:11<03:37, 11.47s/it]\u001B[A\u001B[A"
     ]
    },
    {
     "name": "stdout",
     "output_type": "stream",
     "text": [
      "PCA: -5.222222222222221\n",
      "powermeter complete\n",
      "931.0665283203125\n",
      "spectrometer complete\n",
      "n_frames 50\n"
     ]
    },
    {
     "name": "stderr",
     "output_type": "stream",
     "text": [
      "\n",
      "\n",
      " 10%|█         | 2/20 [00:22<03:26, 11.47s/it]\u001B[A\u001B[A"
     ]
    },
    {
     "name": "stdout",
     "output_type": "stream",
     "text": [
      "Max pixel:  8.28\n",
      "931.0665283203125\n",
      "camera complete\n",
      "PCA: -5.222222222222221\n",
      "powermeter complete\n",
      "958.3273315429688\n",
      "spectrometer complete\n",
      "n_frames 4\n",
      "Max pixel:  217.75\n",
      "958.3273315429688\n",
      "camera complete\n"
     ]
    },
    {
     "name": "stderr",
     "output_type": "stream",
     "text": [
      "\n",
      "\n",
      " 15%|█▌        | 3/20 [00:34<03:15, 11.53s/it]\u001B[A\u001B[A"
     ]
    },
    {
     "name": "stdout",
     "output_type": "stream",
     "text": [
      "PCA: -5.222222222222221\n",
      "powermeter complete\n",
      "958.3273315429688\n",
      "spectrometer complete\n",
      "n_frames 50\n"
     ]
    },
    {
     "name": "stderr",
     "output_type": "stream",
     "text": [
      "\n",
      "\n",
      " 20%|██        | 4/20 [00:45<03:03, 11.49s/it]\u001B[A\u001B[A"
     ]
    },
    {
     "name": "stdout",
     "output_type": "stream",
     "text": [
      "Max pixel:  11.16\n",
      "958.3273315429688\n",
      "camera complete\n",
      "PCA: -5.222222222222221\n",
      "powermeter complete\n",
      "958.1748046875\n",
      "spectrometer complete\n",
      "n_frames 8\n",
      "Max pixel:  203.125\n",
      "958.1748046875\n",
      "camera complete\n"
     ]
    },
    {
     "name": "stderr",
     "output_type": "stream",
     "text": [
      "\n",
      "\n",
      " 25%|██▌       | 5/20 [00:57<02:52, 11.49s/it]\u001B[A\u001B[A"
     ]
    },
    {
     "name": "stdout",
     "output_type": "stream",
     "text": [
      "PCA: -5.222222222222221\n",
      "powermeter complete\n",
      "957.7931518554688\n",
      "spectrometer complete\n",
      "n_frames 50\n"
     ]
    },
    {
     "name": "stderr",
     "output_type": "stream",
     "text": [
      "\n",
      "\n",
      " 30%|███       | 6/20 [01:08<02:40, 11.44s/it]\u001B[A\u001B[A"
     ]
    },
    {
     "name": "stdout",
     "output_type": "stream",
     "text": [
      "Max pixel:  4.28\n",
      "957.7931518554688\n",
      "camera complete\n",
      "PCA: -5.222222222222221\n",
      "powermeter complete\n",
      "957.4107666015625\n",
      "spectrometer complete\n",
      "n_frames 16\n"
     ]
    },
    {
     "name": "stderr",
     "output_type": "stream",
     "text": [
      "\n",
      "\n",
      " 35%|███▌      | 7/20 [01:20<02:28, 11.41s/it]\u001B[A\u001B[A"
     ]
    },
    {
     "name": "stdout",
     "output_type": "stream",
     "text": [
      "Max pixel:  162.75\n",
      "957.4107666015625\n",
      "camera complete\n",
      "PCA: -5.222222222222221\n",
      "powermeter complete\n",
      "957.4107666015625\n",
      "spectrometer complete\n",
      "n_frames 16\n"
     ]
    },
    {
     "name": "stderr",
     "output_type": "stream",
     "text": [
      "\n",
      "\n"
     ]
    },
    {
     "name": "stdout",
     "output_type": "stream",
     "text": [
      "Max pixel:  184.0625\n",
      "957.4107666015625\n",
      "camera complete\n"
     ]
    },
    {
     "name": "stderr",
     "output_type": "stream",
     "text": [
      " 40%|████      | 8/20 [01:31<02:16, 11.40s/it]\u001B[A\u001B[A"
     ]
    },
    {
     "name": "stdout",
     "output_type": "stream",
     "text": [
      "PCA: -5.222222222222221\n",
      "powermeter complete\n",
      "957.2576904296875\n",
      "spectrometer complete\n",
      "n_frames 16\n"
     ]
    },
    {
     "name": "stderr",
     "output_type": "stream",
     "text": [
      "\n",
      "\n",
      " 45%|████▌     | 9/20 [01:43<02:05, 11.44s/it]\u001B[A\u001B[A"
     ]
    },
    {
     "name": "stdout",
     "output_type": "stream",
     "text": [
      "Max pixel:  206.4375\n",
      "957.2576904296875\n",
      "camera complete\n",
      "PCA: -5.222222222222221\n",
      "powermeter complete\n",
      "957.2576904296875\n",
      "spectrometer complete\n",
      "n_frames 16\n"
     ]
    },
    {
     "name": "stderr",
     "output_type": "stream",
     "text": [
      "\n",
      "\n"
     ]
    },
    {
     "name": "stdout",
     "output_type": "stream",
     "text": [
      "Max pixel:  228.25\n",
      "957.2576904296875\n",
      "camera complete\n"
     ]
    },
    {
     "name": "stderr",
     "output_type": "stream",
     "text": [
      " 50%|█████     | 10/20 [01:54<01:54, 11.41s/it]\u001B[A\u001B[A"
     ]
    },
    {
     "name": "stdout",
     "output_type": "stream",
     "text": [
      "PCA: -5.222222222222221\n",
      "powermeter complete\n",
      "957.7166748046875\n",
      "spectrometer complete\n",
      "n_frames 16\n"
     ]
    },
    {
     "name": "stderr",
     "output_type": "stream",
     "text": [
      "\n",
      "\n",
      " 55%|█████▌    | 11/20 [02:05<01:42, 11.41s/it]\u001B[A\u001B[A"
     ]
    },
    {
     "name": "stdout",
     "output_type": "stream",
     "text": [
      "Max pixel:  247.5\n",
      "957.7166748046875\n",
      "camera complete\n",
      "PCA: -5.222222222222221\n",
      "powermeter complete\n",
      "957.02783203125\n",
      "spectrometer complete\n",
      "n_frames 50\n"
     ]
    },
    {
     "name": "stderr",
     "output_type": "stream",
     "text": [
      "\n",
      "\n",
      " 60%|██████    | 12/20 [02:16<01:29, 11.20s/it]\u001B[A\u001B[A"
     ]
    },
    {
     "name": "stdout",
     "output_type": "stream",
     "text": [
      "Max pixel:  55.22\n",
      "957.02783203125\n",
      "camera complete\n",
      "PCA: -5.222222222222221\n",
      "powermeter complete\n",
      "957.4872436523438\n",
      "spectrometer complete\n",
      "n_frames 31\n"
     ]
    },
    {
     "name": "stderr",
     "output_type": "stream",
     "text": [
      "\n",
      "\n"
     ]
    },
    {
     "name": "stdout",
     "output_type": "stream",
     "text": [
      "Max pixel:  252.5483870967742\n",
      "957.4872436523438\n",
      "camera complete\n"
     ]
    },
    {
     "name": "stderr",
     "output_type": "stream",
     "text": [
      " 65%|██████▌   | 13/20 [02:27<01:17, 11.07s/it]\u001B[A\u001B[A"
     ]
    },
    {
     "name": "stdout",
     "output_type": "stream",
     "text": [
      "PCA: -5.222222222222221\n",
      "powermeter complete\n",
      "957.4872436523438\n",
      "spectrometer complete\n",
      "n_frames 50\n"
     ]
    },
    {
     "name": "stderr",
     "output_type": "stream",
     "text": [
      "\n",
      "\n",
      " 70%|███████   | 14/20 [02:38<01:06, 11.07s/it]\u001B[A\u001B[A"
     ]
    },
    {
     "name": "stdout",
     "output_type": "stream",
     "text": [
      "Max pixel:  192.8\n",
      "957.4872436523438\n",
      "camera complete\n",
      "PCA: -5.222222222222221\n",
      "powermeter complete\n",
      "957.563720703125\n",
      "spectrometer complete\n",
      "n_frames 50\n"
     ]
    },
    {
     "name": "stderr",
     "output_type": "stream",
     "text": [
      "\n",
      "\n",
      " 75%|███████▌  | 15/20 [02:57<01:07, 13.58s/it]\u001B[A\u001B[A"
     ]
    },
    {
     "name": "stdout",
     "output_type": "stream",
     "text": [
      "Max pixel:  223.88\n",
      "957.563720703125\n",
      "camera complete\n",
      "PCA: -5.222222222222221\n",
      "powermeter complete\n",
      "957.6402587890625\n",
      "spectrometer complete\n",
      "n_frames 50\n"
     ]
    },
    {
     "name": "stderr",
     "output_type": "stream",
     "text": [
      "\n",
      "\n",
      " 80%|████████  | 16/20 [03:08<00:50, 12.62s/it]\u001B[A\u001B[A"
     ]
    },
    {
     "name": "stdout",
     "output_type": "stream",
     "text": [
      "Max pixel:  202.14\n",
      "957.6402587890625\n",
      "camera complete\n",
      "PCA: -5.222222222222221\n",
      "powermeter complete\n",
      "957.7166748046875\n",
      "spectrometer complete\n",
      "n_frames 50\n"
     ]
    },
    {
     "name": "stderr",
     "output_type": "stream",
     "text": [
      "\n",
      "\n",
      " 85%|████████▌ | 17/20 [03:18<00:36, 12.03s/it]\u001B[A\u001B[A"
     ]
    },
    {
     "name": "stdout",
     "output_type": "stream",
     "text": [
      "Max pixel:  151.84\n",
      "957.7166748046875\n",
      "camera complete\n",
      "PCA: -5.222222222222221\n",
      "powermeter complete\n",
      "957.4872436523438\n",
      "spectrometer complete\n",
      "n_frames 50\n"
     ]
    },
    {
     "name": "stderr",
     "output_type": "stream",
     "text": [
      "\n",
      "\n",
      " 90%|█████████ | 18/20 [03:29<00:23, 11.55s/it]\u001B[A\u001B[A"
     ]
    },
    {
     "name": "stdout",
     "output_type": "stream",
     "text": [
      "Max pixel:  210.5\n",
      "957.4872436523438\n",
      "camera complete\n",
      "PCA: -5.222222222222221\n",
      "powermeter complete\n",
      "957.563720703125\n",
      "spectrometer complete\n",
      "n_frames 50\n"
     ]
    },
    {
     "name": "stderr",
     "output_type": "stream",
     "text": [
      "\n",
      "\n",
      " 95%|█████████▌| 19/20 [03:39<00:11, 11.22s/it]\u001B[A\u001B[A"
     ]
    },
    {
     "name": "stdout",
     "output_type": "stream",
     "text": [
      "Max pixel:  191.74\n",
      "957.563720703125\n",
      "camera complete\n",
      "PCA: -5.222222222222221\n",
      "powermeter complete\n",
      "957.4107666015625\n",
      "spectrometer complete\n",
      "n_frames 50\n"
     ]
    },
    {
     "name": "stderr",
     "output_type": "stream",
     "text": [
      "\n",
      "\n",
      "100%|██████████| 20/20 [03:50<00:00, 11.50s/it]\u001B[A\u001B[A\n",
      "\n",
      " 90%|█████████ | 9/10 [33:40<03:46, 226.91s/it]\u001B[A"
     ]
    },
    {
     "name": "stdout",
     "output_type": "stream",
     "text": [
      "Max pixel:  143.1\n",
      "957.4107666015625\n",
      "camera complete\n",
      "20240820_103246 20240820_103625\n",
      "-7.0\n",
      "41231\n"
     ]
    },
    {
     "name": "stderr",
     "output_type": "stream",
     "text": [
      "\n",
      "\n",
      "  0%|          | 0/20 [00:00<?, ?it/s]\u001B[A\u001B[A"
     ]
    },
    {
     "name": "stdout",
     "output_type": "stream",
     "text": [
      "PCA: -7.0\n",
      "powermeter complete\n",
      "931.0665283203125\n",
      "spectrometer complete\n",
      "n_frames 4\n",
      "Max pixel:  148.25\n",
      "931.0665283203125\n",
      "camera complete\n"
     ]
    },
    {
     "name": "stderr",
     "output_type": "stream",
     "text": [
      "\n",
      "\n",
      "  5%|▌         | 1/20 [00:11<03:39, 11.55s/it]\u001B[A\u001B[A"
     ]
    },
    {
     "name": "stdout",
     "output_type": "stream",
     "text": [
      "PCA: -7.0\n",
      "powermeter complete\n",
      "928.8607177734375\n",
      "spectrometer complete\n",
      "n_frames 50\n"
     ]
    },
    {
     "name": "stderr",
     "output_type": "stream",
     "text": [
      "\n",
      "\n",
      " 10%|█         | 2/20 [00:22<03:25, 11.43s/it]\u001B[A\u001B[A"
     ]
    },
    {
     "name": "stdout",
     "output_type": "stream",
     "text": [
      "Max pixel:  4.8\n",
      "928.8607177734375\n",
      "camera complete\n",
      "PCA: -7.0\n",
      "powermeter complete\n",
      "929.0309448242188\n",
      "spectrometer complete\n",
      "n_frames 4\n",
      "Max pixel:  210.0\n",
      "929.0309448242188\n",
      "camera complete\n"
     ]
    },
    {
     "name": "stderr",
     "output_type": "stream",
     "text": [
      "\n",
      "\n",
      " 15%|█▌        | 3/20 [00:34<03:15, 11.52s/it]\u001B[A\u001B[A"
     ]
    },
    {
     "name": "stdout",
     "output_type": "stream",
     "text": [
      "PCA: -7.0\n",
      "powermeter complete\n",
      "959.1643676757812\n",
      "spectrometer complete\n",
      "n_frames 50\n"
     ]
    },
    {
     "name": "stderr",
     "output_type": "stream",
     "text": [
      "\n",
      "\n",
      " 20%|██        | 4/20 [00:45<03:03, 11.44s/it]\u001B[A\u001B[A"
     ]
    },
    {
     "name": "stdout",
     "output_type": "stream",
     "text": [
      "Max pixel:  6.08\n",
      "959.1643676757812\n",
      "camera complete\n",
      "PCA: -7.0\n",
      "powermeter complete\n",
      "959.1643676757812\n",
      "spectrometer complete\n",
      "n_frames 8\n",
      "Max pixel:  193.75\n",
      "959.1643676757812\n",
      "camera complete\n"
     ]
    },
    {
     "name": "stderr",
     "output_type": "stream",
     "text": [
      "\n",
      "\n",
      " 25%|██▌       | 5/20 [00:57<02:51, 11.45s/it]\u001B[A\u001B[A"
     ]
    },
    {
     "name": "stdout",
     "output_type": "stream",
     "text": [
      "PCA: -7.0\n",
      "powermeter complete\n",
      "959.240234375\n",
      "spectrometer complete\n",
      "n_frames 50\n"
     ]
    },
    {
     "name": "stderr",
     "output_type": "stream",
     "text": [
      "\n",
      "\n",
      " 30%|███       | 6/20 [01:08<02:39, 11.36s/it]\u001B[A\u001B[A"
     ]
    },
    {
     "name": "stdout",
     "output_type": "stream",
     "text": [
      "Max pixel:  5.84\n",
      "959.240234375\n",
      "camera complete\n",
      "PCA: -7.0\n",
      "powermeter complete\n",
      "958.9364013671875\n",
      "spectrometer complete\n",
      "n_frames 16\n"
     ]
    },
    {
     "name": "stderr",
     "output_type": "stream",
     "text": [
      "\n",
      "\n",
      " 35%|███▌      | 7/20 [01:19<02:27, 11.37s/it]\u001B[A\u001B[A"
     ]
    },
    {
     "name": "stdout",
     "output_type": "stream",
     "text": [
      "Max pixel:  154.375\n",
      "958.9364013671875\n",
      "camera complete\n",
      "PCA: -7.0\n",
      "powermeter complete\n",
      "958.8603515625\n",
      "spectrometer complete\n",
      "n_frames 16\n"
     ]
    },
    {
     "name": "stderr",
     "output_type": "stream",
     "text": [
      "\n",
      "\n",
      " 40%|████      | 8/20 [01:31<02:16, 11.37s/it]\u001B[A\u001B[A"
     ]
    },
    {
     "name": "stdout",
     "output_type": "stream",
     "text": [
      "Max pixel:  174.0625\n",
      "958.8603515625\n",
      "camera complete\n",
      "PCA: -7.0\n",
      "powermeter complete\n",
      "958.555908203125\n",
      "spectrometer complete\n",
      "n_frames 16\n"
     ]
    },
    {
     "name": "stderr",
     "output_type": "stream",
     "text": [
      "\n",
      "\n"
     ]
    },
    {
     "name": "stdout",
     "output_type": "stream",
     "text": [
      "Max pixel:  196.125\n",
      "958.555908203125\n",
      "camera complete\n"
     ]
    },
    {
     "name": "stderr",
     "output_type": "stream",
     "text": [
      " 45%|████▌     | 9/20 [01:42<02:05, 11.37s/it]\u001B[A\u001B[A"
     ]
    },
    {
     "name": "stdout",
     "output_type": "stream",
     "text": [
      "PCA: -7.0\n",
      "powermeter complete\n",
      "958.479736328125\n",
      "spectrometer complete\n",
      "n_frames 16\n"
     ]
    },
    {
     "name": "stderr",
     "output_type": "stream",
     "text": [
      "\n",
      "\n"
     ]
    },
    {
     "name": "stdout",
     "output_type": "stream",
     "text": [
      "Max pixel:  218.6875\n",
      "958.479736328125\n",
      "camera complete\n"
     ]
    },
    {
     "name": "stderr",
     "output_type": "stream",
     "text": [
      " 50%|█████     | 10/20 [01:54<01:53, 11.38s/it]\u001B[A\u001B[A"
     ]
    },
    {
     "name": "stdout",
     "output_type": "stream",
     "text": [
      "PCA: -7.0\n",
      "powermeter complete\n",
      "958.7081909179688\n",
      "spectrometer complete\n",
      "n_frames 16\n"
     ]
    },
    {
     "name": "stderr",
     "output_type": "stream",
     "text": [
      "\n",
      "\n"
     ]
    },
    {
     "name": "stdout",
     "output_type": "stream",
     "text": [
      "Max pixel:  238.3125\n",
      "958.7081909179688\n",
      "camera complete\n"
     ]
    },
    {
     "name": "stderr",
     "output_type": "stream",
     "text": [
      " 55%|█████▌    | 11/20 [02:05<01:42, 11.37s/it]\u001B[A\u001B[A"
     ]
    },
    {
     "name": "stdout",
     "output_type": "stream",
     "text": [
      "PCA: -7.0\n",
      "powermeter complete\n",
      "958.479736328125\n",
      "spectrometer complete\n",
      "n_frames 16\n"
     ]
    },
    {
     "name": "stderr",
     "output_type": "stream",
     "text": [
      "\n",
      "\n"
     ]
    },
    {
     "name": "stdout",
     "output_type": "stream",
     "text": [
      "Max pixel:  248.5625\n",
      "958.479736328125\n",
      "camera complete\n"
     ]
    },
    {
     "name": "stderr",
     "output_type": "stream",
     "text": [
      " 60%|██████    | 12/20 [02:16<01:30, 11.37s/it]\u001B[A\u001B[A"
     ]
    },
    {
     "name": "stdout",
     "output_type": "stream",
     "text": [
      "PCA: -7.0\n",
      "powermeter complete\n",
      "958.403564453125\n",
      "spectrometer complete\n",
      "n_frames 31\n"
     ]
    },
    {
     "name": "stderr",
     "output_type": "stream",
     "text": [
      "\n",
      "\n",
      " 65%|██████▌   | 13/20 [02:28<01:19, 11.36s/it]\u001B[A\u001B[A"
     ]
    },
    {
     "name": "stdout",
     "output_type": "stream",
     "text": [
      "Max pixel:  160.41935483870967\n",
      "958.403564453125\n",
      "camera complete\n",
      "PCA: -7.0\n",
      "powermeter complete\n",
      "958.1748046875\n",
      "spectrometer complete\n",
      "n_frames 31\n"
     ]
    },
    {
     "name": "stderr",
     "output_type": "stream",
     "text": [
      "\n",
      "\n",
      " 70%|███████   | 14/20 [02:38<01:06, 11.03s/it]\u001B[A\u001B[A"
     ]
    },
    {
     "name": "stdout",
     "output_type": "stream",
     "text": [
      "Max pixel:  180.70967741935485\n",
      "958.1748046875\n",
      "camera complete\n",
      "PCA: -7.0\n",
      "powermeter complete\n",
      "957.9459228515625\n",
      "spectrometer complete\n",
      "n_frames 50\n"
     ]
    },
    {
     "name": "stderr",
     "output_type": "stream",
     "text": [
      "\n",
      "\n",
      " 75%|███████▌  | 15/20 [02:49<00:55, 11.02s/it]\u001B[A\u001B[A"
     ]
    },
    {
     "name": "stdout",
     "output_type": "stream",
     "text": [
      "Max pixel:  92.32\n",
      "957.9459228515625\n",
      "camera complete\n",
      "PCA: -7.0\n",
      "powermeter complete\n",
      "958.0985107421875\n",
      "spectrometer complete\n",
      "n_frames 50\n"
     ]
    },
    {
     "name": "stderr",
     "output_type": "stream",
     "text": [
      "\n",
      "\n",
      " 80%|████████  | 16/20 [03:08<00:54, 13.51s/it]\u001B[A\u001B[A"
     ]
    },
    {
     "name": "stdout",
     "output_type": "stream",
     "text": [
      "Max pixel:  91.34\n",
      "958.0985107421875\n",
      "camera complete\n",
      "PCA: -7.0\n",
      "powermeter complete\n",
      "957.8695068359375\n",
      "spectrometer complete\n",
      "n_frames 50\n"
     ]
    },
    {
     "name": "stderr",
     "output_type": "stream",
     "text": [
      "\n",
      "\n",
      " 85%|████████▌ | 17/20 [03:18<00:37, 12.56s/it]\u001B[A\u001B[A"
     ]
    },
    {
     "name": "stdout",
     "output_type": "stream",
     "text": [
      "Max pixel:  224.46\n",
      "957.8695068359375\n",
      "camera complete\n",
      "PCA: -7.0\n",
      "powermeter complete\n",
      "958.403564453125\n",
      "spectrometer complete\n",
      "n_frames 2\n",
      "Max pixel:  184.5\n",
      "958.403564453125\n",
      "camera complete\n"
     ]
    },
    {
     "name": "stderr",
     "output_type": "stream",
     "text": [
      "\n",
      "\n",
      " 90%|█████████ | 18/20 [03:29<00:23, 12.00s/it]\u001B[A\u001B[A"
     ]
    },
    {
     "name": "stdout",
     "output_type": "stream",
     "text": [
      "PCA: -7.0\n",
      "powermeter complete\n",
      "958.0985107421875\n",
      "spectrometer complete\n",
      "n_frames 50\n"
     ]
    },
    {
     "name": "stderr",
     "output_type": "stream",
     "text": [
      "\n",
      "\n",
      " 95%|█████████▌| 19/20 [03:40<00:11, 11.56s/it]\u001B[A\u001B[A"
     ]
    },
    {
     "name": "stdout",
     "output_type": "stream",
     "text": [
      "Max pixel:  11.38\n",
      "958.0985107421875\n",
      "camera complete\n",
      "PCA: -7.0\n",
      "powermeter complete\n",
      "957.9459228515625\n",
      "spectrometer complete\n",
      "n_frames 50\n"
     ]
    },
    {
     "name": "stderr",
     "output_type": "stream",
     "text": [
      "\n",
      "\n",
      "100%|██████████| 20/20 [03:50<00:00, 11.53s/it]\u001B[A\u001B[A\n",
      "\n",
      "100%|██████████| 10/10 [37:31<00:00, 225.10s/it]\u001B[A\n",
      " 50%|█████     | 5/10 [3:11:56<3:11:56, 2303.40s/it]"
     ]
    },
    {
     "name": "stdout",
     "output_type": "stream",
     "text": [
      "Max pixel:  46.86\n",
      "957.9459228515625\n",
      "camera complete\n",
      "20240820_103636 20240820_104016\n",
      "-7.0\n",
      "41231\n",
      "-5.222222222222221\n",
      "41231\n",
      "-3.444444444444443\n",
      "41231\n",
      "-1.666666666666666\n",
      "41231\n",
      "0.11111111111111072\n",
      "41231\n",
      "1.8888888888888893\n",
      "41231\n",
      "3.666666666666667\n",
      "41231\n",
      "5.444444444444445\n",
      "41231\n",
      "7.222222222222222\n",
      "41231\n",
      "9.0\n",
      "41231\n"
     ]
    },
    {
     "name": "stderr",
     "output_type": "stream",
     "text": [
      "\n",
      "  0%|          | 0/10 [00:00<?, ?it/s]\u001B[A"
     ]
    },
    {
     "name": "stdout",
     "output_type": "stream",
     "text": [
      "9.0\n",
      "41231\n"
     ]
    },
    {
     "name": "stderr",
     "output_type": "stream",
     "text": [
      "\n",
      "\n",
      "  0%|          | 0/20 [00:00<?, ?it/s]\u001B[A\u001B[A"
     ]
    },
    {
     "name": "stdout",
     "output_type": "stream",
     "text": [
      "PCA: 9.0\n",
      "powermeter complete\n",
      "951.1298828125\n",
      "spectrometer complete\n",
      "n_frames 4\n",
      "Max pixel:  147.0\n",
      "951.1298828125\n",
      "camera complete\n"
     ]
    },
    {
     "name": "stderr",
     "output_type": "stream",
     "text": [
      "\n",
      "\n",
      "  5%|▌         | 1/20 [00:11<03:40, 11.59s/it]\u001B[A\u001B[A"
     ]
    },
    {
     "name": "stdout",
     "output_type": "stream",
     "text": [
      "PCA: 9.0\n",
      "powermeter complete\n",
      "950.9727172851562\n",
      "spectrometer complete\n",
      "n_frames 50\n"
     ]
    },
    {
     "name": "stderr",
     "output_type": "stream",
     "text": [
      "\n",
      "\n",
      " 10%|█         | 2/20 [00:23<03:27, 11.53s/it]\u001B[A\u001B[A"
     ]
    },
    {
     "name": "stdout",
     "output_type": "stream",
     "text": [
      "Max pixel:  5.34\n",
      "950.9727172851562\n",
      "camera complete\n",
      "PCA: 9.0\n",
      "powermeter complete\n",
      "950.6580810546875\n",
      "spectrometer complete\n",
      "n_frames 8\n",
      "Max pixel:  163.625\n",
      "950.6580810546875\n",
      "camera complete\n"
     ]
    },
    {
     "name": "stderr",
     "output_type": "stream",
     "text": [
      "\n",
      "\n",
      " 15%|█▌        | 3/20 [00:34<03:15, 11.48s/it]\u001B[A\u001B[A"
     ]
    },
    {
     "name": "stdout",
     "output_type": "stream",
     "text": [
      "PCA: 9.0\n",
      "powermeter complete\n",
      "950.5794067382812\n",
      "spectrometer complete\n",
      "n_frames 50\n"
     ]
    },
    {
     "name": "stderr",
     "output_type": "stream",
     "text": [
      "\n",
      "\n",
      " 20%|██        | 4/20 [00:45<02:59, 11.20s/it]\u001B[A\u001B[A"
     ]
    },
    {
     "name": "stdout",
     "output_type": "stream",
     "text": [
      "Max pixel:  114.52\n",
      "950.5794067382812\n",
      "camera complete\n",
      "PCA: 9.0\n",
      "powermeter complete\n",
      "950.4219360351562\n",
      "spectrometer complete\n",
      "n_frames 50\n"
     ]
    },
    {
     "name": "stderr",
     "output_type": "stream",
     "text": [
      "\n",
      "\n",
      " 25%|██▌       | 5/20 [01:05<03:37, 14.49s/it]\u001B[A\u001B[A"
     ]
    },
    {
     "name": "stdout",
     "output_type": "stream",
     "text": [
      "Max pixel:  232.7\n",
      "950.4219360351562\n",
      "camera complete\n",
      "PCA: 9.0\n",
      "powermeter complete\n",
      "950.5794067382812\n",
      "spectrometer complete\n",
      "n_frames 50\n"
     ]
    },
    {
     "name": "stderr",
     "output_type": "stream",
     "text": [
      "\n",
      "\n",
      " 30%|███       | 6/20 [01:15<03:03, 13.08s/it]\u001B[A\u001B[A"
     ]
    },
    {
     "name": "stdout",
     "output_type": "stream",
     "text": [
      "Max pixel:  206.36\n",
      "950.5794067382812\n",
      "camera complete\n",
      "PCA: 9.0\n",
      "powermeter complete\n",
      "950.2642822265625\n",
      "spectrometer complete\n"
     ]
    }
   ],
   "execution_count": null,
   "source": [
    "# %qtconsole\n",
    "\n",
    "time_stamps = []\n",
    "\n",
    "\n",
    "print('hi')\n",
    "with comp.Translation_Stage(26000913, is_rack_system = False, scale=1) as stage, comp.FLIR_Camera(measure=True, algorithm='rising') as camera:\n",
    "    components.update({\"camera\": camera})\n",
    "    pbar = tqdm(stage_list)\n",
    "    for s in pbar:\n",
    "        stage.set(s)\n",
    "        pbar.set_description(f'Test position {s}')\n",
    "        time.sleep(1)\n",
    "    stage.set(0)\n",
    "    for s in tqdm(stage_list):\n",
    "        stage.set(s)\n",
    "        time.sleep(1)\n",
    "        comp.params.update({\"stage_pos\": s})\n",
    "        \n",
    "        #Slowly return to initial wavelength\n",
    "        for l in np.flip(length_list):\n",
    "            comp.set_lock(l)\n",
    "            time.sleep(5)\n",
    "        \n",
    "        for l in tqdm(length_list, leave=True):\n",
    "            comp.set_lock(l) #save pca value\n",
    "            ts = power_scan(power_list, components, l)\n",
    "            time_stamps.append(ts)\n",
    "    stage.set(0)\n",
    "print(\"'\"+str(time_stamps[0][0])+\"'\"+\",\"+\"'\"+str(time_stamps[-1][-1])+\"'\")\n",
    "winsound.Beep(1000, 2000)\n",
    "\n"
   ],
   "id": "b78e33f8c3f1cc64"
  }
 ],
 "metadata": {
  "kernelspec": {
   "display_name": "Python 3",
   "language": "python",
   "name": "python3"
  },
  "language_info": {
   "codemirror_mode": {
    "name": "ipython",
    "version": 2
   },
   "file_extension": ".py",
   "mimetype": "text/x-python",
   "name": "python",
   "nbconvert_exporter": "python",
   "pygments_lexer": "ipython2",
   "version": "2.7.6"
  }
 },
 "nbformat": 4,
 "nbformat_minor": 5
}
