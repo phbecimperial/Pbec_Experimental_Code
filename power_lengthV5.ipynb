{
 "cells": [
  {
   "metadata": {},
   "cell_type": "markdown",
   "source": [
    "# Power Length V5\n",
    "\n",
    "This takes a phase diagram - varies cavity length and power, and takes spectral readings, images and output power at each point. \n",
    "\n",
    "### Imports"
   ],
   "id": "8a77807f92f26ee"
  },
  {
   "metadata": {
    "ExecuteTime": {
     "end_time": "2024-07-24T15:19:51.455747Z",
     "start_time": "2024-07-24T15:19:51.127651Z"
    }
   },
   "cell_type": "code",
   "source": [
    "import numpy as np\n",
    "from tqdm import tqdm\n",
    "import Components as comp\n",
    "from Measure import power_scan"
   ],
   "id": "fbc121e30a2defb3",
   "outputs": [
    {
     "ename": "ModuleNotFoundError",
     "evalue": "No module named 'pbec_ipc'",
     "output_type": "error",
     "traceback": [
      "\u001B[1;31m---------------------------------------------------------------------------\u001B[0m",
      "\u001B[1;31mModuleNotFoundError\u001B[0m                       Traceback (most recent call last)",
      "\u001B[1;32m<ipython-input-1-ed6eaa5a1f21>\u001B[0m in \u001B[0;36m<module>\u001B[1;34m\u001B[0m\n\u001B[0;32m     12\u001B[0m \u001B[1;32mimport\u001B[0m \u001B[0mnumpy\u001B[0m \u001B[1;32mas\u001B[0m \u001B[0mnp\u001B[0m\u001B[1;33m\u001B[0m\u001B[1;33m\u001B[0m\u001B[0m\n\u001B[0;32m     13\u001B[0m \u001B[1;32mfrom\u001B[0m \u001B[0mtqdm\u001B[0m \u001B[1;32mimport\u001B[0m \u001B[0mtqdm\u001B[0m\u001B[1;33m\u001B[0m\u001B[1;33m\u001B[0m\u001B[0m\n\u001B[1;32m---> 14\u001B[1;33m \u001B[1;32mimport\u001B[0m \u001B[0mComponents\u001B[0m \u001B[1;32mas\u001B[0m \u001B[0mcomp\u001B[0m\u001B[1;33m\u001B[0m\u001B[1;33m\u001B[0m\u001B[0m\n\u001B[0m\u001B[0;32m     15\u001B[0m \u001B[1;32mfrom\u001B[0m \u001B[0mMeasure\u001B[0m \u001B[1;32mimport\u001B[0m \u001B[0mMeasure\u001B[0m\u001B[1;33m\u001B[0m\u001B[1;33m\u001B[0m\u001B[0m\n",
      "\u001B[1;32mD:\\Experiments\\Semiconductor Cavity\\PBec Experimental Code\\Components.py\u001B[0m in \u001B[0;36m<module>\u001B[1;34m\u001B[0m\n\u001B[0;32m      1\u001B[0m \u001B[1;32mimport\u001B[0m \u001B[0msocket\u001B[0m\u001B[1;33m\u001B[0m\u001B[1;33m\u001B[0m\u001B[0m\n\u001B[0;32m      2\u001B[0m \u001B[1;32mimport\u001B[0m \u001B[0msys\u001B[0m\u001B[1;33m\u001B[0m\u001B[1;33m\u001B[0m\u001B[0m\n\u001B[1;32m----> 3\u001B[1;33m \u001B[1;32mimport\u001B[0m \u001B[0mpbec_ipc\u001B[0m\u001B[1;33m\u001B[0m\u001B[1;33m\u001B[0m\u001B[0m\n\u001B[0m\u001B[0;32m      4\u001B[0m \u001B[1;33m\u001B[0m\u001B[0m\n\u001B[0;32m      5\u001B[0m \u001B[1;33m\u001B[0m\u001B[0m\n",
      "\u001B[1;31mModuleNotFoundError\u001B[0m: No module named 'pbec_ipc'"
     ]
    }
   ],
   "execution_count": 1
  },
  {
   "metadata": {},
   "cell_type": "markdown",
   "source": [
    "### Initialise Equipment\n",
    "If equipment can take measurements, can set measure = True or False when initialising them. Note some components are interdependent."
   ],
   "id": "7ffc4e537684ac8e"
  },
  {
   "metadata": {},
   "cell_type": "code",
   "outputs": [],
   "execution_count": null,
   "source": [
    "components = dict()\n",
    "\n",
    "components.update({\"powermeter\": comp.PowerMeter(num_power_readings=100, bs_factor=1/4)})\n",
    "components.update({\"spectrometer\": comp.Spectrometer(spec_nd=1 / 40000)})\n",
    "components.update({\"wheel\": comp.FilterWheel()})\n",
    "components.update({\"camera\": comp.Camera(measure=True, )})\n",
    "components.update({\"laser\": comp.HWP_Laser()})"
   ],
   "id": "19e4d490f5a99599"
  },
  {
   "metadata": {},
   "cell_type": "markdown",
   "source": [],
   "id": "db130fae7f60be"
  },
  {
   "metadata": {},
   "cell_type": "markdown",
   "source": [
    "### Choose loop parameters"
   ],
   "id": "4c0ca04888e34c6c"
  },
  {
   "metadata": {},
   "cell_type": "code",
   "outputs": [],
   "execution_count": null,
   "source": [
    "\n",
    "#Define PCA range\n",
    "length_list = np.linspace(6, 7, 2)\n",
    "#Define power range\n",
    "power_list = np.linspace(components['laser'].pmin, components['laser'].pmax, 20)\n"
   ],
   "id": "7a2eaa998d0fe77"
  },
  {
   "metadata": {},
   "cell_type": "markdown",
   "source": [
    "### Measurement Loop"
   ],
   "id": "b45ac3a20569fff5"
  },
  {
   "metadata": {},
   "cell_type": "code",
   "outputs": [],
   "execution_count": null,
   "source": [
    "time_stamps = []\n",
    "for l in tqdm(length_list, leave=True):\n",
    "    comp.set_lock(l) #save pca value\n",
    "    power_scan(power_list, components, l)\n",
    "\n",
    "print(time_stamps[0], time_stamps[-1])"
   ],
   "id": "b78e33f8c3f1cc64"
  }
 ],
 "metadata": {
  "kernelspec": {
   "display_name": "Python 3",
   "language": "python",
   "name": "python3"
  },
  "language_info": {
   "codemirror_mode": {
    "name": "ipython",
    "version": 2
   },
   "file_extension": ".py",
   "mimetype": "text/x-python",
   "name": "python",
   "nbconvert_exporter": "python",
   "pygments_lexer": "ipython2",
   "version": "2.7.6"
  }
 },
 "nbformat": 4,
 "nbformat_minor": 5
}
