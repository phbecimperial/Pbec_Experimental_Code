{
 "cells": [
  {
   "cell_type": "code",
   "execution_count": 6,
   "id": "initial_id",
   "metadata": {
    "collapsed": true,
    "ExecuteTime": {
     "end_time": "2024-08-19T14:30:58.300094500Z",
     "start_time": "2024-08-19T14:30:58.236094700Z"
    }
   },
   "outputs": [
    {
     "name": "stdout",
     "output_type": "stream",
     "text": [
      "The autoreload extension is already loaded. To reload it, use:\n",
      "  %reload_ext autoreload\n"
     ]
    }
   ],
   "source": [
    "%load_ext autoreload\n",
    "%autoreload 2\n",
    "\n",
    "import Components as comp \n",
    "from Measure import Measure\n",
    "\n",
    "#0.46 nm per step approximately\n"
   ]
  },
  {
   "cell_type": "code",
   "outputs": [
    {
     "name": "stderr",
     "output_type": "stream",
     "text": [
      "[autoreload of _pydevd_bundle.pydevd_frame failed: Traceback (most recent call last):\n",
      "  File \"C:\\ProgramData\\miniconda3\\lib\\site-packages\\IPython\\extensions\\autoreload.py\", line 276, in check\n",
      "    superreload(m, reload, self.old_objects)\n",
      "  File \"C:\\ProgramData\\miniconda3\\lib\\site-packages\\IPython\\extensions\\autoreload.py\", line 475, in superreload\n",
      "    module = reload(module)\n",
      "  File \"C:\\ProgramData\\miniconda3\\lib\\importlib\\__init__.py\", line 169, in reload\n",
      "    _bootstrap._exec(spec, module)\n",
      "  File \"<frozen importlib._bootstrap>\", line 612, in _exec\n",
      "  File \"<frozen importlib._bootstrap>\", line 556, in _init_module_attrs\n",
      "  File \"<frozen importlib._bootstrap>\", line 397, in cached\n",
      "  File \"<frozen importlib._bootstrap_external>\", line 513, in _get_cached\n",
      "  File \"<frozen importlib._bootstrap_external>\", line 406, in cache_from_source\n",
      "  File \"<frozen importlib._bootstrap_external>\", line 134, in _path_split\n",
      "  File \"<frozen importlib._bootstrap_external>\", line 134, in <genexpr>\n",
      "NameError: name 'NO_FTRACE' is not defined\n",
      "]\n",
      "[autoreload of pydevd failed: Traceback (most recent call last):\n",
      "  File \"C:\\ProgramData\\miniconda3\\lib\\site-packages\\IPython\\extensions\\autoreload.py\", line 276, in check\n",
      "    superreload(m, reload, self.old_objects)\n",
      "  File \"C:\\ProgramData\\miniconda3\\lib\\site-packages\\IPython\\extensions\\autoreload.py\", line 500, in superreload\n",
      "    update_generic(old_obj, new_obj)\n",
      "  File \"C:\\ProgramData\\miniconda3\\lib\\site-packages\\IPython\\extensions\\autoreload.py\", line 397, in update_generic\n",
      "    update(a, b)\n",
      "  File \"C:\\ProgramData\\miniconda3\\lib\\site-packages\\IPython\\extensions\\autoreload.py\", line 365, in update_class\n",
      "    update_instances(old, new)\n",
      "  File \"C:\\ProgramData\\miniconda3\\lib\\site-packages\\IPython\\extensions\\autoreload.py\", line 323, in update_instances\n",
      "    object.__setattr__(ref, \"__class__\", new)\n",
      "TypeError: __class__ assignment: 'ThreadsSuspendedSingleNotification' object layout differs from 'ThreadsSuspendedSingleNotification'\n",
      "]\n"
     ]
    },
    {
     "name": "stdout",
     "output_type": "stream",
     "text": [
      "Stage Found, postion: 0\n",
      "Stage is homed and operational\n",
      "\n",
      "\n",
      "-> Detected 2 USB3 cameras\n"
     ]
    },
    {
     "ename": "KeyError",
     "evalue": "'rising'",
     "output_type": "error",
     "traceback": [
      "\u001B[1;31m---------------------------------------------------------------------------\u001B[0m",
      "\u001B[1;31mKeyError\u001B[0m                                  Traceback (most recent call last)",
      "Cell \u001B[1;32mIn[8], line 10\u001B[0m\n\u001B[0;32m      4\u001B[0m components\u001B[38;5;241m.\u001B[39mupdate({\u001B[38;5;124m'\u001B[39m\u001B[38;5;124mlaser\u001B[39m\u001B[38;5;124m'\u001B[39m: stage})\n\u001B[0;32m      5\u001B[0m \u001B[38;5;66;03m#components.update({\"lasermeter\": comp.Thor_PowerMeter(num_power_readings=100, bs_factor=3/7, laser=True, wavelength=784)})\u001B[39;00m\n\u001B[0;32m      6\u001B[0m \u001B[38;5;66;03m#components.update({\"powermeter\": comp.Thor_PowerMeter(power_meter_usb_name='USB0::0x1313::0x8078::P0046773::INSTR', num_power_readings=100, bs_factor=0.25, wavelength=950)})\u001B[39;00m\n\u001B[0;32m      7\u001B[0m \u001B[38;5;66;03m#components.update({\"spectrometer\": comp.Spectrometer(spec_nd=1 / 40000, wheel=False)})\u001B[39;00m\n\u001B[0;32m      8\u001B[0m \u001B[38;5;66;03m#components.update({\"wheel\": comp.FilterWheel(com_port='COM9')})\u001B[39;00m\n\u001B[0;32m      9\u001B[0m \u001B[38;5;66;03m#components.update({\"camera1\": comp.Camera(measure=True)})\u001B[39;00m\n\u001B[1;32m---> 10\u001B[0m components\u001B[38;5;241m.\u001B[39mupdate({\u001B[38;5;124m\"\u001B[39m\u001B[38;5;124mcamera\u001B[39m\u001B[38;5;124m\"\u001B[39m: \u001B[43mcomp\u001B[49m\u001B[38;5;241;43m.\u001B[39;49m\u001B[43mFLIR_Camera\u001B[49m\u001B[43m(\u001B[49m\u001B[43mcamera_id\u001B[49m\u001B[38;5;241;43m=\u001B[39;49m\u001B[38;5;124;43m'\u001B[39;49m\u001B[38;5;124;43mnathans_dungeon_lock_NA0\u001B[39;49m\u001B[38;5;124;43m'\u001B[39;49m\u001B[43m,\u001B[49m\u001B[43m \u001B[49m\u001B[43mmeasure\u001B[49m\u001B[38;5;241;43m=\u001B[39;49m\u001B[38;5;28;43;01mTrue\u001B[39;49;00m\u001B[43m)\u001B[49m})\n\u001B[0;32m     12\u001B[0m \u001B[38;5;28;01mimport\u001B[39;00m \u001B[38;5;21;01mnumpy\u001B[39;00m \u001B[38;5;28;01mas\u001B[39;00m \u001B[38;5;21;01mnp\u001B[39;00m\n\u001B[0;32m     13\u001B[0m \u001B[38;5;28;01mimport\u001B[39;00m \u001B[38;5;21;01mtime\u001B[39;00m\n",
      "File \u001B[1;32mC:\\Semiconductor Cavity\\WheelBEC\\Experimental Code\\Components.py:306\u001B[0m, in \u001B[0;36mFLIR_Camera.__init__\u001B[1;34m(self, camera_id, min_exposure, max_exposure, measure, max_frames, algorithm)\u001B[0m\n\u001B[0;32m    304\u001B[0m \u001B[38;5;28;01mfrom\u001B[39;00m \u001B[38;5;21;01mCameraUSB3\u001B[39;00m \u001B[38;5;28;01mimport\u001B[39;00m CameraUSB3\n\u001B[0;32m    305\u001B[0m \u001B[38;5;28msuper\u001B[39m()\u001B[38;5;241m.\u001B[39m\u001B[38;5;21m__init__\u001B[39m(camera_id, min_exposure, max_exposure, measure, max_frames, algorithm)\n\u001B[1;32m--> 306\u001B[0m \u001B[38;5;28mself\u001B[39m\u001B[38;5;241m.\u001B[39mcamera \u001B[38;5;241m=\u001B[39m \u001B[43mCameraUSB3\u001B[49m\u001B[43m(\u001B[49m\u001B[43mverbose\u001B[49m\u001B[38;5;241;43m=\u001B[39;49m\u001B[38;5;28;43;01mTrue\u001B[39;49;00m\u001B[43m,\u001B[49m\u001B[43m \u001B[49m\u001B[43mcamera_id\u001B[49m\u001B[38;5;241;43m=\u001B[39;49m\u001B[38;5;28;43mself\u001B[39;49m\u001B[38;5;241;43m.\u001B[39;49m\u001B[43mcamera_id\u001B[49m\u001B[43m,\u001B[49m\u001B[43m \u001B[49m\u001B[43mtimeout\u001B[49m\u001B[38;5;241;43m=\u001B[39;49m\u001B[38;5;241;43m1000\u001B[39;49m\u001B[43m,\u001B[49m\u001B[43m \u001B[49m\u001B[43macquisition_mode\u001B[49m\u001B[38;5;241;43m=\u001B[39;49m\u001B[38;5;124;43m'\u001B[39;49m\u001B[38;5;124;43mcontinuous\u001B[39;49m\u001B[38;5;124;43m'\u001B[39;49m\u001B[43m)\u001B[49m\n\u001B[0;32m    307\u001B[0m \u001B[38;5;66;03m#Running in continuous mode - faster!\u001B[39;00m\n\u001B[0;32m    308\u001B[0m \u001B[38;5;28mself\u001B[39m\u001B[38;5;241m.\u001B[39mcamera\u001B[38;5;241m.\u001B[39mbegin_acquisition()\n",
      "File \u001B[1;32mC:\\Control/CameraUSB3\\CameraUSB3.py:77\u001B[0m, in \u001B[0;36mCameraUSB3.__init__\u001B[1;34m(self, verbose, camera_id, timeout, acquisition_mode)\u001B[0m\n\u001B[0;32m     74\u001B[0m     \u001B[38;5;28mprint\u001B[39m(\u001B[38;5;124m'\u001B[39m\u001B[38;5;124m-> Detected \u001B[39m\u001B[38;5;132;01m{0}\u001B[39;00m\u001B[38;5;124m USB3 cameras\u001B[39m\u001B[38;5;124m'\u001B[39m\u001B[38;5;241m.\u001B[39mformat(num_cameras))\n\u001B[0;32m     76\u001B[0m \u001B[38;5;66;03m# try:\u001B[39;00m\n\u001B[1;32m---> 77\u001B[0m \u001B[38;5;28mself\u001B[39m\u001B[38;5;241m.\u001B[39mcam \u001B[38;5;241m=\u001B[39m \u001B[38;5;28mself\u001B[39m\u001B[38;5;241m.\u001B[39mcam_list\u001B[38;5;241m.\u001B[39mGetBySerial(serialNumber\u001B[38;5;241m=\u001B[39m\u001B[38;5;28;43mself\u001B[39;49m\u001B[38;5;241;43m.\u001B[39;49m\u001B[43mlab_cameras\u001B[49m\u001B[43m[\u001B[49m\u001B[43mcamera_id\u001B[49m\u001B[43m]\u001B[49m)\n\u001B[0;32m     78\u001B[0m \u001B[38;5;28mself\u001B[39m\u001B[38;5;241m.\u001B[39mcam\u001B[38;5;241m.\u001B[39mInit()\n\u001B[0;32m     79\u001B[0m \u001B[38;5;66;03m# self.cam.BeginAcquisition()\u001B[39;00m\n\u001B[0;32m     80\u001B[0m \u001B[38;5;66;03m# self.cam.EndAcquisition()\u001B[39;00m\n\u001B[0;32m     81\u001B[0m \u001B[38;5;66;03m# self.cam.DeInit()\u001B[39;00m\n",
      "\u001B[1;31mKeyError\u001B[0m: 'rising'"
     ]
    }
   ],
   "source": [
    "with comp.Translation_Stage(26000913, is_rack_system=False, scale=1) as stage:\n",
    "\n",
    "    components = dict()\n",
    "    components.update({'laser': stage})\n",
    "    #components.update({\"lasermeter\": comp.Thor_PowerMeter(num_power_readings=100, bs_factor=3/7, laser=True, wavelength=784)})\n",
    "    #components.update({\"powermeter\": comp.Thor_PowerMeter(power_meter_usb_name='USB0::0x1313::0x8078::P0046773::INSTR', num_power_readings=100, bs_factor=0.25, wavelength=950)})\n",
    "    #components.update({\"spectrometer\": comp.Spectrometer(spec_nd=1 / 40000, wheel=False)})\n",
    "    #components.update({\"wheel\": comp.FilterWheel(com_port='COM9')})\n",
    "    #components.update({\"camera1\": comp.Camera(measure=True)})\n",
    "    components.update({\"camera\": comp.FLIR_Camera(camera_id='nathans_dungeon_lock_NA0', measure=True)})\n",
    "        \n",
    "    import numpy as np\n",
    "    import time\n",
    "    import tqdm\n",
    "    positions = np.linspace(0, 4e6, 40)\n",
    "    components['laser'].set(0)\n",
    "    time.sleep(10)\n",
    "    \n",
    "    time_stamps = []\n",
    "    \n",
    "    for pos in tqdm.tqdm(positions):\n",
    "        time.sleep(3)\n",
    "        components['laser'].set(pos)\n",
    "        measure = Measure(components, pos)\n",
    "        timestamp = measure.take_measurement()\n",
    "        time_stamps.append(timestamp)\n",
    "    \n",
    "    \n",
    "    print(\"'\"+str(time_stamps[0])+\"'\"+\",\"+\"'\"+str(time_stamps[-1])+\"'\")\n",
    "    \n",
    "    print('complete')"
   ],
   "metadata": {
    "collapsed": false,
    "ExecuteTime": {
     "end_time": "2024-08-19T14:32:20.122753800Z",
     "start_time": "2024-08-19T14:32:17.443715400Z"
    }
   },
   "id": "9cc50aa95149e8c",
   "execution_count": 8
  },
  {
   "cell_type": "code",
   "outputs": [],
   "source": [
    "components['laser'].set(0)"
   ],
   "metadata": {
    "collapsed": false,
    "ExecuteTime": {
     "start_time": "2024-08-19T14:30:59.598116600Z"
    }
   },
   "id": "627aa259ed223377",
   "execution_count": null
  },
  {
   "cell_type": "code",
   "outputs": [],
   "source": [],
   "metadata": {
    "collapsed": false,
    "ExecuteTime": {
     "end_time": "2024-08-19T14:30:59.601117500Z",
     "start_time": "2024-08-19T14:30:59.600117100Z"
    }
   },
   "id": "e44912429462fbc9",
   "execution_count": null
  },
  {
   "cell_type": "code",
   "outputs": [],
   "source": [],
   "metadata": {
    "collapsed": false,
    "ExecuteTime": {
     "start_time": "2024-08-19T14:30:59.602116800Z"
    }
   },
   "id": "6f16522988c193f3"
  }
 ],
 "metadata": {
  "kernelspec": {
   "display_name": "Python 3",
   "language": "python",
   "name": "python3"
  },
  "language_info": {
   "codemirror_mode": {
    "name": "ipython",
    "version": 2
   },
   "file_extension": ".py",
   "mimetype": "text/x-python",
   "name": "python",
   "nbconvert_exporter": "python",
   "pygments_lexer": "ipython2",
   "version": "2.7.6"
  }
 },
 "nbformat": 4,
 "nbformat_minor": 5
}
