{
 "cells": [
  {
   "cell_type": "code",
   "id": "initial_id",
   "metadata": {
    "collapsed": true,
    "ExecuteTime": {
     "end_time": "2024-08-20T14:10:04.283431Z",
     "start_time": "2024-08-20T14:10:03.900455Z"
    }
   },
   "source": [
    "%load_ext autoreload\n",
    "%autoreload 2\n",
    "\n",
    "import numpy as np\n",
    "from tqdm import tqdm\n",
    "import Components as comp\n",
    "from Measure import coherence_scan\n",
    "\n",
    "components = dict()\n",
    "\n",
    "\n",
    "components.update({\"wheel\": comp.FilterWheel()})\n"
   ],
   "outputs": [
    {
     "name": "stdout",
     "output_type": "stream",
     "text": [
      "The autoreload extension is already loaded. To reload it, use:\n",
      "  %reload_ext autoreload\n"
     ]
    }
   ],
   "execution_count": 3
  },
  {
   "metadata": {
    "jupyter": {
     "is_executing": true
    },
    "ExecuteTime": {
     "start_time": "2024-08-20T14:10:26.709280Z"
    }
   },
   "cell_type": "code",
   "source": [
    "position_list = np.arange(221,90,-1)\n",
    "\n",
    "time_stamps =[]\n",
    "\n",
    "with comp.Translation_Stage() as stage:\n",
    "    with comp.Thor_Camera(100,1999994, measure=True, max_frames = 10 ) as camera :\n",
    "        components.update({\"stage\": stage})\n",
    "        components.update({\"camera\": camera})\n",
    "        coherence_scan(position_list, components)\n",
    "        "
   ],
   "id": "a996a90fe13f21a6",
   "outputs": [
    {
     "name": "stderr",
     "output_type": "stream",
     "text": [
      "c:\\users\\photonbec\\appdata\\local\\programs\\python\\python38-32\\lib\\site-packages\\pylablib\\devices\\Thorlabs\\kinesis.py:206: UserWarning: model number BBD201 doesn't match the device ID prefix 73(BBD103)\n",
      "  warnings.warn(\"model number {} doesn't match the device ID prefix {}({})\".format(model_no,port,port_model_no))\n"
     ]
    }
   ],
   "execution_count": null
  },
  {
   "metadata": {},
   "cell_type": "code",
   "source": "",
   "id": "bda967954dd8b447",
   "outputs": [],
   "execution_count": null
  },
  {
   "metadata": {},
   "cell_type": "code",
   "outputs": [],
   "execution_count": null,
   "source": "",
   "id": "23f83ded34a9f265"
  }
 ],
 "metadata": {
  "kernelspec": {
   "display_name": "Python 3",
   "language": "python",
   "name": "python3"
  },
  "language_info": {
   "codemirror_mode": {
    "name": "ipython",
    "version": 2
   },
   "file_extension": ".py",
   "mimetype": "text/x-python",
   "name": "python",
   "nbconvert_exporter": "python",
   "pygments_lexer": "ipython2",
   "version": "2.7.6"
  }
 },
 "nbformat": 4,
 "nbformat_minor": 5
}
