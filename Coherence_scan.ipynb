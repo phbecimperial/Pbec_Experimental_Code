{
 "cells": [
  {
   "cell_type": "code",
   "id": "initial_id",
   "metadata": {
    "collapsed": true,
    "ExecuteTime": {
     "end_time": "2024-08-19T10:27:12.248533Z",
     "start_time": "2024-08-19T10:27:11.851556Z"
    }
   },
   "source": [
    "%load_ext autoreload\n",
    "%autoreload 2\n",
    "\n",
    "import numpy as np\n",
    "from tqdm import tqdm\n",
    "import Components as comp\n",
    "from Measure import coherence_scan\n",
    "\n",
    "components = dict()\n",
    "\n",
    "\n",
    "components.update({\"wheel\": comp.FilterWheel()})\n"
   ],
   "outputs": [
    {
     "name": "stdout",
     "output_type": "stream",
     "text": [
      "The autoreload extension is already loaded. To reload it, use:\n",
      "  %reload_ext autoreload\n"
     ]
    }
   ],
   "execution_count": 6
  },
  {
   "metadata": {
    "ExecuteTime": {
     "end_time": "2024-08-19T10:27:46.196273Z",
     "start_time": "2024-08-19T10:27:22.908813Z"
    }
   },
   "cell_type": "code",
   "source": [
    "position_list = np.arange(221,90,-1)\n",
    "\n",
    "time_stamps =[]\n",
    "\n",
    "with comp.Translation_Stage() as stage:\n",
    "    with comp.Thor_Camera(100,1999994, measure=True, max_frames = 10 ) as camera :\n",
    "        components.update({\"stage\": stage})\n",
    "        components.update({\"camera\": camera})\n",
    "        coherence_scan(position_list, components)\n",
    "        "
   ],
   "id": "a996a90fe13f21a6",
   "outputs": [
    {
     "name": "stdout",
     "output_type": "stream",
     "text": [
      "Stage Found, postion: 221.0\n",
      "Stage is homed and operational\n",
      "Position: 221.0\n",
      "n_frames 10\n",
      "n_frames 10\n",
      "n_frames 10\n",
      "n_frames 10\n",
      "n_frames 10\n",
      "n_frames 10\n"
     ]
    },
    {
     "ename": "Exception",
     "evalue": "Max ND filter reached",
     "output_type": "error",
     "traceback": [
      "\u001B[1;31m---------------------------------------------------------------------------\u001B[0m",
      "\u001B[1;31mException\u001B[0m                                 Traceback (most recent call last)",
      "\u001B[1;32m<ipython-input-7-01a57677ae59>\u001B[0m in \u001B[0;36m<module>\u001B[1;34m\u001B[0m\n\u001B[0;32m      7\u001B[0m         \u001B[0mcomponents\u001B[0m\u001B[1;33m.\u001B[0m\u001B[0mupdate\u001B[0m\u001B[1;33m(\u001B[0m\u001B[1;33m{\u001B[0m\u001B[1;34m\"stage\"\u001B[0m\u001B[1;33m:\u001B[0m \u001B[0mstage\u001B[0m\u001B[1;33m}\u001B[0m\u001B[1;33m)\u001B[0m\u001B[1;33m\u001B[0m\u001B[1;33m\u001B[0m\u001B[0m\n\u001B[0;32m      8\u001B[0m         \u001B[0mcomponents\u001B[0m\u001B[1;33m.\u001B[0m\u001B[0mupdate\u001B[0m\u001B[1;33m(\u001B[0m\u001B[1;33m{\u001B[0m\u001B[1;34m\"camera\"\u001B[0m\u001B[1;33m:\u001B[0m \u001B[0mcamera\u001B[0m\u001B[1;33m}\u001B[0m\u001B[1;33m)\u001B[0m\u001B[1;33m\u001B[0m\u001B[1;33m\u001B[0m\u001B[0m\n\u001B[1;32m----> 9\u001B[1;33m         \u001B[0mcoherence_scan\u001B[0m\u001B[1;33m(\u001B[0m\u001B[0mposition_list\u001B[0m\u001B[1;33m,\u001B[0m \u001B[0mcomponents\u001B[0m\u001B[1;33m)\u001B[0m\u001B[1;33m\u001B[0m\u001B[1;33m\u001B[0m\u001B[0m\n\u001B[0m\u001B[0;32m     10\u001B[0m \u001B[1;33m\u001B[0m\u001B[0m\n",
      "\u001B[1;32mD:\\Experiments\\Semiconductor Cavity\\Pbec_Experimental_Code\\Measure.py\u001B[0m in \u001B[0;36mcoherence_scan\u001B[1;34m(position_list, components, pca)\u001B[0m\n\u001B[0;32m    186\u001B[0m         \u001B[0mmeasure\u001B[0m \u001B[1;33m=\u001B[0m \u001B[0mMeasure\u001B[0m\u001B[1;33m(\u001B[0m\u001B[0mcomponents\u001B[0m\u001B[1;33m,\u001B[0m \u001B[0mposition\u001B[0m \u001B[1;33m=\u001B[0m \u001B[0mposition\u001B[0m\u001B[1;33m,\u001B[0m\u001B[0mPCA\u001B[0m\u001B[1;33m=\u001B[0m\u001B[0mpca\u001B[0m\u001B[1;33m)\u001B[0m\u001B[1;33m\u001B[0m\u001B[1;33m\u001B[0m\u001B[0m\n\u001B[0;32m    187\u001B[0m         \u001B[1;31m# Take measurement\u001B[0m\u001B[1;33m\u001B[0m\u001B[1;33m\u001B[0m\u001B[1;33m\u001B[0m\u001B[0m\n\u001B[1;32m--> 188\u001B[1;33m         \u001B[0mtimestamp\u001B[0m \u001B[1;33m=\u001B[0m \u001B[0mmeasure\u001B[0m\u001B[1;33m.\u001B[0m\u001B[0mtake_measurement\u001B[0m\u001B[1;33m(\u001B[0m\u001B[1;33m)\u001B[0m\u001B[1;33m\u001B[0m\u001B[1;33m\u001B[0m\u001B[0m\n\u001B[0m\u001B[0;32m    189\u001B[0m         \u001B[0mtime_stamps\u001B[0m\u001B[1;33m.\u001B[0m\u001B[0mappend\u001B[0m\u001B[1;33m(\u001B[0m\u001B[0mtimestamp\u001B[0m\u001B[1;33m)\u001B[0m\u001B[1;33m\u001B[0m\u001B[1;33m\u001B[0m\u001B[0m\n\u001B[0;32m    190\u001B[0m \u001B[1;33m\u001B[0m\u001B[0m\n",
      "\u001B[1;32mD:\\Experiments\\Semiconductor Cavity\\Pbec_Experimental_Code\\Measure.py\u001B[0m in \u001B[0;36mtake_measurement\u001B[1;34m(self)\u001B[0m\n\u001B[0;32m     74\u001B[0m             \u001B[1;32mif\u001B[0m \u001B[0mvalue\u001B[0m\u001B[1;33m.\u001B[0m\u001B[0mmeasure\u001B[0m \u001B[1;33m==\u001B[0m \u001B[1;32mTrue\u001B[0m\u001B[1;33m:\u001B[0m\u001B[1;33m\u001B[0m\u001B[1;33m\u001B[0m\u001B[0m\n\u001B[0;32m     75\u001B[0m                 \u001B[0mmeasure_func\u001B[0m \u001B[1;33m=\u001B[0m \u001B[0mgetattr\u001B[0m\u001B[1;33m(\u001B[0m\u001B[0mself\u001B[0m\u001B[1;33m,\u001B[0m \u001B[0mkey\u001B[0m\u001B[1;33m)\u001B[0m\u001B[1;33m\u001B[0m\u001B[1;33m\u001B[0m\u001B[0m\n\u001B[1;32m---> 76\u001B[1;33m                 \u001B[0mmeasure_func\u001B[0m\u001B[1;33m(\u001B[0m\u001B[1;33m)\u001B[0m\u001B[1;33m\u001B[0m\u001B[1;33m\u001B[0m\u001B[0m\n\u001B[0m\u001B[0;32m     77\u001B[0m                 \u001B[0mprint\u001B[0m\u001B[1;33m(\u001B[0m\u001B[0mkey\u001B[0m\u001B[1;33m,\u001B[0m \u001B[1;34m'complete'\u001B[0m\u001B[1;33m)\u001B[0m\u001B[1;33m\u001B[0m\u001B[1;33m\u001B[0m\u001B[0m\n\u001B[0;32m     78\u001B[0m \u001B[1;33m\u001B[0m\u001B[0m\n",
      "\u001B[1;32mD:\\Experiments\\Semiconductor Cavity\\Pbec_Experimental_Code\\Measure.py\u001B[0m in \u001B[0;36mcamera\u001B[1;34m(self)\u001B[0m\n\u001B[0;32m     61\u001B[0m         \u001B[0mcam\u001B[0m\u001B[1;33m.\u001B[0m\u001B[0mtake_pic\u001B[0m\u001B[1;33m(\u001B[0m\u001B[1;33m)\u001B[0m\u001B[1;33m\u001B[0m\u001B[1;33m\u001B[0m\u001B[0m\n\u001B[0;32m     62\u001B[0m         \u001B[1;32mwhile\u001B[0m \u001B[0mcam\u001B[0m\u001B[1;33m.\u001B[0m\u001B[0mcam_saturated\u001B[0m \u001B[1;32mand\u001B[0m \u001B[0mround\u001B[0m\u001B[1;33m(\u001B[0m\u001B[0mcam\u001B[0m\u001B[1;33m.\u001B[0m\u001B[0mexposure\u001B[0m\u001B[1;33m,\u001B[0m \u001B[1;36m2\u001B[0m\u001B[1;33m)\u001B[0m \u001B[1;33m<=\u001B[0m \u001B[1;36m2\u001B[0m \u001B[1;33m*\u001B[0m \u001B[0mround\u001B[0m\u001B[1;33m(\u001B[0m\u001B[0mcam\u001B[0m\u001B[1;33m.\u001B[0m\u001B[0mmin_exposure\u001B[0m\u001B[1;33m,\u001B[0m \u001B[1;36m2\u001B[0m\u001B[1;33m)\u001B[0m\u001B[1;33m:\u001B[0m\u001B[1;33m\u001B[0m\u001B[1;33m\u001B[0m\u001B[0m\n\u001B[1;32m---> 63\u001B[1;33m             \u001B[0mself\u001B[0m\u001B[1;33m.\u001B[0m\u001B[0mcomps\u001B[0m\u001B[1;33m[\u001B[0m\u001B[1;34m'wheel'\u001B[0m\u001B[1;33m]\u001B[0m\u001B[1;33m.\u001B[0m\u001B[0mincrease_filter\u001B[0m\u001B[1;33m(\u001B[0m\u001B[1;33m)\u001B[0m\u001B[1;33m\u001B[0m\u001B[1;33m\u001B[0m\u001B[0m\n\u001B[0m\u001B[0;32m     64\u001B[0m             \u001B[0mcam\u001B[0m\u001B[1;33m.\u001B[0m\u001B[0mtake_pic\u001B[0m\u001B[1;33m(\u001B[0m\u001B[1;33m)\u001B[0m\u001B[1;33m\u001B[0m\u001B[1;33m\u001B[0m\u001B[0m\n\u001B[0;32m     65\u001B[0m \u001B[1;33m\u001B[0m\u001B[0m\n",
      "\u001B[1;32mD:\\Experiments\\Semiconductor Cavity\\Pbec_Experimental_Code\\Components.py\u001B[0m in \u001B[0;36mincrease_filter\u001B[1;34m(self)\u001B[0m\n\u001B[0;32m    168\u001B[0m         \u001B[0mfilter_pos\u001B[0m \u001B[1;33m=\u001B[0m \u001B[0mself\u001B[0m\u001B[1;33m.\u001B[0m\u001B[0mfilter_wheel\u001B[0m\u001B[1;33m.\u001B[0m\u001B[0mget_position\u001B[0m\u001B[1;33m(\u001B[0m\u001B[1;33m)\u001B[0m\u001B[1;33m\u001B[0m\u001B[1;33m\u001B[0m\u001B[0m\n\u001B[0;32m    169\u001B[0m         \u001B[1;32mif\u001B[0m \u001B[0mfilter_pos\u001B[0m \u001B[1;33m==\u001B[0m \u001B[0mmax\u001B[0m\u001B[1;33m(\u001B[0m\u001B[0mself\u001B[0m\u001B[1;33m.\u001B[0m\u001B[0mallowed_filter_positions\u001B[0m\u001B[1;33m)\u001B[0m\u001B[1;33m:\u001B[0m\u001B[1;33m\u001B[0m\u001B[1;33m\u001B[0m\u001B[0m\n\u001B[1;32m--> 170\u001B[1;33m             \u001B[1;32mraise\u001B[0m \u001B[0mException\u001B[0m\u001B[1;33m(\u001B[0m\u001B[1;34m'Max ND filter reached'\u001B[0m\u001B[1;33m)\u001B[0m\u001B[1;33m\u001B[0m\u001B[1;33m\u001B[0m\u001B[0m\n\u001B[0m\u001B[0;32m    171\u001B[0m             \u001B[0mwinsound\u001B[0m\u001B[1;33m.\u001B[0m\u001B[0mBeep\u001B[0m\u001B[1;33m(\u001B[0m\u001B[1;36m1000\u001B[0m\u001B[1;33m,\u001B[0m \u001B[1;36m1000\u001B[0m\u001B[1;33m)\u001B[0m\u001B[1;33m\u001B[0m\u001B[1;33m\u001B[0m\u001B[0m\n\u001B[0;32m    172\u001B[0m         \u001B[1;32melse\u001B[0m\u001B[1;33m:\u001B[0m\u001B[1;33m\u001B[0m\u001B[1;33m\u001B[0m\u001B[0m\n",
      "\u001B[1;31mException\u001B[0m: Max ND filter reached"
     ]
    }
   ],
   "execution_count": 7
  },
  {
   "metadata": {},
   "cell_type": "code",
   "source": "",
   "id": "bda967954dd8b447",
   "outputs": [],
   "execution_count": null
  },
  {
   "metadata": {},
   "cell_type": "code",
   "outputs": [],
   "execution_count": null,
   "source": "",
   "id": "23f83ded34a9f265"
  }
 ],
 "metadata": {
  "kernelspec": {
   "display_name": "Python 3",
   "language": "python",
   "name": "python3"
  },
  "language_info": {
   "codemirror_mode": {
    "name": "ipython",
    "version": 2
   },
   "file_extension": ".py",
   "mimetype": "text/x-python",
   "name": "python",
   "nbconvert_exporter": "python",
   "pygments_lexer": "ipython2",
   "version": "2.7.6"
  }
 },
 "nbformat": 4,
 "nbformat_minor": 5
}
