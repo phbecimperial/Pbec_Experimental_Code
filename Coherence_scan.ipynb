{
 "cells": [
  {
   "cell_type": "code",
   "id": "initial_id",
   "metadata": {
    "collapsed": true,
    "ExecuteTime": {
     "end_time": "2024-08-20T15:17:35.738994Z",
     "start_time": "2024-08-20T15:17:35.352069Z"
    }
   },
   "source": [
    "%load_ext autoreload\n",
    "%autoreload 2\n",
    "\n",
    "import numpy as np\n",
    "from tqdm import tqdm\n",
    "import Components as comp\n",
    "from Measure import coherence_scan\n",
    "import logging\n",
    "import socket\n",
    "import sys\n",
    "if socket.gethostname() == \"ph-photonbec5\":\n",
    "    sys.path.append(r\"D:/Control/PythonPackages/\")\n",
    "\n",
    "from pbec_analysis import make_timestamp\n",
    "\n",
    "components = dict()\n",
    "\n",
    "\n",
    "components.update({\"wheel\": comp.FilterWheel(allowed_filter_positions=[0,1,2,3,4,5])})\n"
   ],
   "outputs": [
    {
     "name": "stdout",
     "output_type": "stream",
     "text": [
      "The autoreload extension is already loaded. To reload it, use:\n",
      "  %reload_ext autoreload\n"
     ]
    }
   ],
   "execution_count": 2
  },
  {
   "metadata": {
    "ExecuteTime": {
     "end_time": "2024-08-20T15:33:33.755054Z",
     "start_time": "2024-08-20T15:32:31.787957Z"
    }
   },
   "cell_type": "code",
   "source": [
    "position_list = np.arange(221,90,-1)\n",
    "\n",
    "# %matplotlib qt\n",
    "\n",
    "time_stamps =[]\n",
    "logging.basicConfig(filename = fr'Logs\\coherence_scan_{make_timestamp()}.log', filemode='w', level=logging.DEBUG, force=True)\n",
    "with comp.Translation_Stage() as stage:\n",
    "    with comp.Thor_Camera(100,1999994, measure=True, max_frames = 1 ) as camera :\n",
    "        components.update({\"stage\": stage})\n",
    "        components.update({\"camera\": camera})\n",
    "        coherence_scan(position_list, components)\n",
    "        "
   ],
   "id": "a996a90fe13f21a6",
   "outputs": [
    {
     "name": "stderr",
     "output_type": "stream",
     "text": [
      "c:\\users\\photonbec\\appdata\\local\\programs\\python\\python38-32\\lib\\site-packages\\pylablib\\devices\\Thorlabs\\kinesis.py:206: UserWarning: model number BBD201 doesn't match the device ID prefix 73(BBD103)\n",
      "  warnings.warn(\"model number {} doesn't match the device ID prefix {}({})\".format(model_no,port,port_model_no))\n"
     ]
    },
    {
     "name": "stdout",
     "output_type": "stream",
     "text": [
      "Position: 221.0\n"
     ]
    },
    {
     "name": "stderr",
     "output_type": "stream",
     "text": [
      "D:\\Experiments\\Semiconductor Cavity\\Pbec_Experimental_Code\\Measure.py:73: UserWarning: Spectrometer not avaliable or other error.\n",
      "  warnings.warn('Spectrometer not avaliable or other error.')\n"
     ]
    },
    {
     "name": "stdout",
     "output_type": "stream",
     "text": [
      "Position: 219.99995\n",
      "Position: 219.0\n",
      "Position: 218.0\n",
      "Position: 217.0\n"
     ]
    },
    {
     "ename": "KeyboardInterrupt",
     "evalue": "",
     "output_type": "error",
     "traceback": [
      "\u001B[1;31m---------------------------------------------------------------------------\u001B[0m",
      "\u001B[1;31mKeyboardInterrupt\u001B[0m                         Traceback (most recent call last)",
      "\u001B[1;32m<ipython-input-10-636f6c4dc7e5>\u001B[0m in \u001B[0;36m<module>\u001B[1;34m\u001B[0m\n\u001B[0;32m      9\u001B[0m         \u001B[0mcomponents\u001B[0m\u001B[1;33m.\u001B[0m\u001B[0mupdate\u001B[0m\u001B[1;33m(\u001B[0m\u001B[1;33m{\u001B[0m\u001B[1;34m\"stage\"\u001B[0m\u001B[1;33m:\u001B[0m \u001B[0mstage\u001B[0m\u001B[1;33m}\u001B[0m\u001B[1;33m)\u001B[0m\u001B[1;33m\u001B[0m\u001B[1;33m\u001B[0m\u001B[0m\n\u001B[0;32m     10\u001B[0m         \u001B[0mcomponents\u001B[0m\u001B[1;33m.\u001B[0m\u001B[0mupdate\u001B[0m\u001B[1;33m(\u001B[0m\u001B[1;33m{\u001B[0m\u001B[1;34m\"camera\"\u001B[0m\u001B[1;33m:\u001B[0m \u001B[0mcamera\u001B[0m\u001B[1;33m}\u001B[0m\u001B[1;33m)\u001B[0m\u001B[1;33m\u001B[0m\u001B[1;33m\u001B[0m\u001B[0m\n\u001B[1;32m---> 11\u001B[1;33m         \u001B[0mcoherence_scan\u001B[0m\u001B[1;33m(\u001B[0m\u001B[0mposition_list\u001B[0m\u001B[1;33m,\u001B[0m \u001B[0mcomponents\u001B[0m\u001B[1;33m)\u001B[0m\u001B[1;33m\u001B[0m\u001B[1;33m\u001B[0m\u001B[0m\n\u001B[0m\u001B[0;32m     12\u001B[0m \u001B[1;33m\u001B[0m\u001B[0m\n",
      "\u001B[1;32mD:\\Experiments\\Semiconductor Cavity\\Pbec_Experimental_Code\\Measure.py\u001B[0m in \u001B[0;36mcoherence_scan\u001B[1;34m(position_list, components, pca)\u001B[0m\n\u001B[0;32m    194\u001B[0m         \u001B[0mmeasure\u001B[0m \u001B[1;33m=\u001B[0m \u001B[0mMeasure\u001B[0m\u001B[1;33m(\u001B[0m\u001B[0mcomponents\u001B[0m\u001B[1;33m,\u001B[0m \u001B[0mposition\u001B[0m \u001B[1;33m=\u001B[0m \u001B[0mposition\u001B[0m\u001B[1;33m,\u001B[0m\u001B[0mPCA\u001B[0m\u001B[1;33m=\u001B[0m\u001B[0mpca\u001B[0m\u001B[1;33m)\u001B[0m\u001B[1;33m\u001B[0m\u001B[1;33m\u001B[0m\u001B[0m\n\u001B[0;32m    195\u001B[0m         \u001B[1;31m# Take measurement\u001B[0m\u001B[1;33m\u001B[0m\u001B[1;33m\u001B[0m\u001B[1;33m\u001B[0m\u001B[0m\n\u001B[1;32m--> 196\u001B[1;33m         \u001B[0mtimestamp\u001B[0m \u001B[1;33m=\u001B[0m \u001B[0mmeasure\u001B[0m\u001B[1;33m.\u001B[0m\u001B[0mtake_measurement\u001B[0m\u001B[1;33m(\u001B[0m\u001B[1;33m)\u001B[0m\u001B[1;33m\u001B[0m\u001B[1;33m\u001B[0m\u001B[0m\n\u001B[0m\u001B[0;32m    197\u001B[0m         \u001B[0mtime_stamps\u001B[0m\u001B[1;33m.\u001B[0m\u001B[0mappend\u001B[0m\u001B[1;33m(\u001B[0m\u001B[0mtimestamp\u001B[0m\u001B[1;33m)\u001B[0m\u001B[1;33m\u001B[0m\u001B[1;33m\u001B[0m\u001B[0m\n\u001B[0;32m    198\u001B[0m \u001B[1;33m\u001B[0m\u001B[0m\n",
      "\u001B[1;32mD:\\Experiments\\Semiconductor Cavity\\Pbec_Experimental_Code\\Measure.py\u001B[0m in \u001B[0;36mtake_measurement\u001B[1;34m(self)\u001B[0m\n\u001B[0;32m     85\u001B[0m                 \u001B[1;31m#key = re.sub(r'\\d', '', key)\u001B[0m\u001B[1;33m\u001B[0m\u001B[1;33m\u001B[0m\u001B[1;33m\u001B[0m\u001B[0m\n\u001B[0;32m     86\u001B[0m                 \u001B[0mmeasure_func\u001B[0m \u001B[1;33m=\u001B[0m \u001B[0mgetattr\u001B[0m\u001B[1;33m(\u001B[0m\u001B[0mself\u001B[0m\u001B[1;33m,\u001B[0m \u001B[0mkey\u001B[0m\u001B[1;33m)\u001B[0m\u001B[1;33m\u001B[0m\u001B[1;33m\u001B[0m\u001B[0m\n\u001B[1;32m---> 87\u001B[1;33m                 \u001B[0mmeasure_func\u001B[0m\u001B[1;33m(\u001B[0m\u001B[1;33m)\u001B[0m\u001B[1;33m\u001B[0m\u001B[1;33m\u001B[0m\u001B[0m\n\u001B[0m\u001B[0;32m     88\u001B[0m                 \u001B[0mlogging\u001B[0m\u001B[1;33m.\u001B[0m\u001B[0minfo\u001B[0m\u001B[1;33m(\u001B[0m\u001B[1;34mf'{key} complete'\u001B[0m\u001B[1;33m)\u001B[0m\u001B[1;33m\u001B[0m\u001B[1;33m\u001B[0m\u001B[0m\n\u001B[0;32m     89\u001B[0m \u001B[1;33m\u001B[0m\u001B[0m\n",
      "\u001B[1;32mD:\\Experiments\\Semiconductor Cavity\\Pbec_Experimental_Code\\Measure.py\u001B[0m in \u001B[0;36mcamera\u001B[1;34m(self)\u001B[0m\n\u001B[0;32m     63\u001B[0m         \u001B[0mcam\u001B[0m\u001B[1;33m.\u001B[0m\u001B[0mtake_pic\u001B[0m\u001B[1;33m(\u001B[0m\u001B[1;33m)\u001B[0m\u001B[1;33m\u001B[0m\u001B[1;33m\u001B[0m\u001B[0m\n\u001B[0;32m     64\u001B[0m         \u001B[1;32mwhile\u001B[0m \u001B[0mcam\u001B[0m\u001B[1;33m.\u001B[0m\u001B[0mcam_saturated\u001B[0m \u001B[1;32mand\u001B[0m \u001B[0mcam\u001B[0m\u001B[1;33m.\u001B[0m\u001B[0mexposure\u001B[0m \u001B[1;33m==\u001B[0m \u001B[0mcam\u001B[0m\u001B[1;33m.\u001B[0m\u001B[0mmin_exposure\u001B[0m\u001B[1;33m:\u001B[0m\u001B[1;33m\u001B[0m\u001B[1;33m\u001B[0m\u001B[0m\n\u001B[1;32m---> 65\u001B[1;33m             \u001B[0mself\u001B[0m\u001B[1;33m.\u001B[0m\u001B[0mcomps\u001B[0m\u001B[1;33m[\u001B[0m\u001B[1;34m'wheel'\u001B[0m\u001B[1;33m]\u001B[0m\u001B[1;33m.\u001B[0m\u001B[0mincrease_filter\u001B[0m\u001B[1;33m(\u001B[0m\u001B[1;33m)\u001B[0m\u001B[1;33m\u001B[0m\u001B[1;33m\u001B[0m\u001B[0m\n\u001B[0m\u001B[0;32m     66\u001B[0m             \u001B[0mtime\u001B[0m\u001B[1;33m.\u001B[0m\u001B[0msleep\u001B[0m\u001B[1;33m(\u001B[0m\u001B[1;36m5\u001B[0m\u001B[1;33m)\u001B[0m\u001B[1;33m\u001B[0m\u001B[1;33m\u001B[0m\u001B[0m\n\u001B[0;32m     67\u001B[0m             \u001B[0mcam\u001B[0m\u001B[1;33m.\u001B[0m\u001B[0mtake_pic\u001B[0m\u001B[1;33m(\u001B[0m\u001B[1;33m)\u001B[0m\u001B[1;33m\u001B[0m\u001B[1;33m\u001B[0m\u001B[0m\n",
      "\u001B[1;32mD:\\Experiments\\Semiconductor Cavity\\Pbec_Experimental_Code\\Components.py\u001B[0m in \u001B[0;36mincrease_filter\u001B[1;34m(self)\u001B[0m\n\u001B[0;32m    208\u001B[0m             \u001B[0mself\u001B[0m\u001B[1;33m.\u001B[0m\u001B[0mfilter_wheel\u001B[0m\u001B[1;33m.\u001B[0m\u001B[0mset_position\u001B[0m\u001B[1;33m(\u001B[0m\u001B[0mself\u001B[0m\u001B[1;33m.\u001B[0m\u001B[0mallowed_filter_positions\u001B[0m\u001B[1;33m[\u001B[0m\u001B[0mself\u001B[0m\u001B[1;33m.\u001B[0m\u001B[0mcurrent_pos_index\u001B[0m \u001B[1;33m+\u001B[0m \u001B[1;36m1\u001B[0m\u001B[1;33m]\u001B[0m\u001B[1;33m)\u001B[0m\u001B[1;33m\u001B[0m\u001B[1;33m\u001B[0m\u001B[0m\n\u001B[0;32m    209\u001B[0m             \u001B[0mself\u001B[0m\u001B[1;33m.\u001B[0m\u001B[0mcurrent_pos_index\u001B[0m \u001B[1;33m=\u001B[0m \u001B[0mself\u001B[0m\u001B[1;33m.\u001B[0m\u001B[0mcurrent_pos_index\u001B[0m \u001B[1;33m+\u001B[0m \u001B[1;36m1\u001B[0m\u001B[1;33m\u001B[0m\u001B[1;33m\u001B[0m\u001B[0m\n\u001B[1;32m--> 210\u001B[1;33m             \u001B[0mtime\u001B[0m\u001B[1;33m.\u001B[0m\u001B[0msleep\u001B[0m\u001B[1;33m(\u001B[0m\u001B[1;36m5\u001B[0m\u001B[1;33m)\u001B[0m\u001B[1;33m\u001B[0m\u001B[1;33m\u001B[0m\u001B[0m\n\u001B[0m\u001B[0;32m    211\u001B[0m             \u001B[0mparams\u001B[0m\u001B[1;33m.\u001B[0m\u001B[0mupdate\u001B[0m\u001B[1;33m(\u001B[0m\u001B[1;33m{\u001B[0m\u001B[1;34m'nd_filter'\u001B[0m\u001B[1;33m:\u001B[0m \u001B[0mself\u001B[0m\u001B[1;33m.\u001B[0m\u001B[0mallowed_filter_positions\u001B[0m\u001B[1;33m[\u001B[0m\u001B[0mself\u001B[0m\u001B[1;33m.\u001B[0m\u001B[0mcurrent_pos_index\u001B[0m\u001B[1;33m]\u001B[0m\u001B[1;33m}\u001B[0m\u001B[1;33m)\u001B[0m\u001B[1;33m\u001B[0m\u001B[1;33m\u001B[0m\u001B[0m\n\u001B[0;32m    212\u001B[0m \u001B[1;33m\u001B[0m\u001B[0m\n",
      "\u001B[1;31mKeyboardInterrupt\u001B[0m: "
     ]
    }
   ],
   "execution_count": 10
  },
  {
   "metadata": {},
   "cell_type": "code",
   "source": "",
   "id": "bda967954dd8b447",
   "outputs": [],
   "execution_count": null
  },
  {
   "metadata": {},
   "cell_type": "code",
   "outputs": [],
   "execution_count": null,
   "source": "",
   "id": "23f83ded34a9f265"
  }
 ],
 "metadata": {
  "kernelspec": {
   "display_name": "Python 3",
   "language": "python",
   "name": "python3"
  },
  "language_info": {
   "codemirror_mode": {
    "name": "ipython",
    "version": 2
   },
   "file_extension": ".py",
   "mimetype": "text/x-python",
   "name": "python",
   "nbconvert_exporter": "python",
   "pygments_lexer": "ipython2",
   "version": "2.7.6"
  }
 },
 "nbformat": 4,
 "nbformat_minor": 5
}
