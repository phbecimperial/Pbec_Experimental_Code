{
 "cells": [
  {
   "cell_type": "code",
   "id": "initial_id",
   "metadata": {
    "collapsed": true,
    "ExecuteTime": {
     "end_time": "2024-08-15T11:00:46.589339Z",
     "start_time": "2024-08-15T11:00:46.578338Z"
    }
   },
   "source": "print(1)",
   "outputs": [
    {
     "name": "stdout",
     "output_type": "stream",
     "text": [
      "1\n"
     ]
    }
   ],
   "execution_count": 2
  },
  {
   "metadata": {
    "ExecuteTime": {
     "end_time": "2024-08-15T10:55:14.171152Z",
     "start_time": "2024-08-15T10:55:04.191288Z"
    }
   },
   "cell_type": "code",
   "source": [
    "import pylablib as pll\n",
    "from pylablib.devices import Thorlabs\n",
    "import matplotlib.pyplot as plt\n",
    "\n",
    "\n",
    "serial=\"28897\"\n",
    "dll_path=r'C:\\Program Files\\Thorlabs\\Scientific Imaging\\Scientific Camera Support\\Scientific Camera Interfaces\\SDK\\Native Toolkit\\dlls\\Native_32_lib'\n",
    "pll.par['devices/dlls/thorlabs_tlcam'] = dll_path\n",
    "camera = Thorlabs.ThorlabsTLCamera(serial=serial)\n"
   ],
   "id": "fc29e23f0d1b150",
   "outputs": [],
   "execution_count": 2
  },
  {
   "metadata": {},
   "cell_type": "code",
   "outputs": [],
   "execution_count": null,
   "source": [
    "camera.set_exposure(50E-3)\n",
    "camera.set_roi(0, 128, 0, 128, hbin=2, vbin=2)\n",
    "   # start the stepping loop\n",
    "images = []\n",
    "img = camera.snap()  # grab a single frame"
   ],
   "id": "67259ec1aa248005"
  },
  {
   "metadata": {
    "ExecuteTime": {
     "end_time": "2024-08-15T10:55:43.852056Z",
     "start_time": "2024-08-15T10:55:43.782789Z"
    }
   },
   "cell_type": "code",
   "source": "camera.set_exposure(10)",
   "id": "bac2af4a0d4eb27c",
   "outputs": [
    {
     "data": {
      "text/plain": [
       "10.000029999999999"
      ]
     },
     "execution_count": 3,
     "metadata": {},
     "output_type": "execute_result"
    }
   ],
   "execution_count": 3
  },
  {
   "metadata": {
    "ExecuteTime": {
     "end_time": "2024-08-15T10:55:50.527958Z",
     "start_time": "2024-08-15T10:55:50.490029Z"
    }
   },
   "cell_type": "code",
   "source": "camera.get_exposure()",
   "id": "b79245b1663234e",
   "outputs": [
    {
     "data": {
      "text/plain": [
       "10.000029999999999"
      ]
     },
     "execution_count": 4,
     "metadata": {},
     "output_type": "execute_result"
    }
   ],
   "execution_count": 4
  },
  {
   "metadata": {
    "ExecuteTime": {
     "end_time": "2024-08-15T10:57:52.577689Z",
     "start_time": "2024-08-15T10:57:52.521808Z"
    }
   },
   "cell_type": "code",
   "source": "camera.set_exposure(0.001)",
   "id": "9d2258f6f44821a7",
   "outputs": [
    {
     "data": {
      "text/plain": [
       "0.001"
      ]
     },
     "execution_count": 5,
     "metadata": {},
     "output_type": "execute_result"
    }
   ],
   "execution_count": 5
  },
  {
   "metadata": {
    "ExecuteTime": {
     "end_time": "2024-08-15T12:26:47.136870Z",
     "start_time": "2024-08-15T12:26:47.118919Z"
    }
   },
   "cell_type": "code",
   "source": [
    "import os\n",
    "\n",
    "os.environ['PATH'] += r\";C:\\\\Program Files\\\\Thorlabs\\\\Kinesis\""
   ],
   "id": "710fd29fc87217aa",
   "outputs": [],
   "execution_count": 14
  },
  {
   "metadata": {
    "ExecuteTime": {
     "end_time": "2024-08-16T09:24:06.150298Z",
     "start_time": "2024-08-16T09:23:58.467983Z"
    }
   },
   "cell_type": "code",
   "source": [
    "import os\n",
    " \n",
    "try:\n",
    "    # if on Windows, use the provided setup script to add the DLLs folder to the PATH\n",
    "    from windows_setup import configure_path\n",
    "    configure_path()\n",
    "except ImportError:\n",
    "    configure_path = None\n",
    " \n",
    " \n",
    "import numpy as np\n",
    "os.add_dll_directory(r'C:\\Program Files\\Thorlabs\\Scientific Imaging\\Scientific Camera Support\\Scientific Camera Interfaces\\SDK\\Native Toolkit\\dlls\\Native_32_lib')\n",
    "from PIL import Image\n",
    "import time\n",
    "import datetime\n",
    "from thorlabs_tsi_sdk.tl_camera import TLCameraSDK\n",
    "def get_timestamp(accuracy):\n",
    "    ts = time.time()\n",
    "    if accuracy == 'seconds':\n",
    "        st = datetime.datetime.fromtimestamp(ts).strftime('%Y-%m-%d %H-%M-%S')\n",
    "    elif accuracy == 'milliseconds':\n",
    "        st = datetime.datetime.fromtimestamp(ts).strftime('%Y-%m-%d-%H-%M-%S-%f') \n",
    "    return st\n",
    " \n",
    " \n",
    "folder = r'D:\\Data\\2024\\202408'\n",
    " \n",
    "with TLCameraSDK() as sdk:\n",
    "    available_cameras = sdk.discover_available_cameras()\n",
    "    if len(available_cameras) < 1:\n",
    "        print(\"no cameras detected\")\n",
    " \n",
    "    with sdk.open_camera(available_cameras[0]) as camera:\n",
    "    #with sdk.open_camera('17440') as camera:\n",
    "        camera.exposure_time_us =100000  # exposure time is in microseconds\n",
    "        camera.frames_per_trigger_zero_for_unlimited = 0  # start camera in continuous mode\n",
    "        camera.image_poll_timeout_ms = 4000  # polling timeout # I don't know what this means??\n",
    "        #old_roi = camera.roi  # store the current roi\n",
    "        #print(camera.roi)\n",
    "        print(camera.exposure_time_us)\n",
    "        \"\"\"\n",
    "        uncomment the line below to set a region of interest (ROI) on the camera\n",
    "        \"\"\"\n",
    "        #camera.roi = (324, 324, 454, 454)  # set roi to be at origin point (100, 100) with a width & height of 500\n",
    " \n",
    "        \n",
    "        # if camera.gain_range.max > 0:\n",
    "        #     db_gain = 0\n",
    "        #     gain_index = camera.convert_decibels_to_gain(db_gain)\n",
    "        #     camera.gain = gain_index\n",
    "        # \n",
    "        #     #print(f\"Set camera gain to {camera.convert_gain_to_decibels(camera.gain)}\")\n",
    "        # \n",
    "        # camera.arm(2)\n",
    "        # \n",
    "        # camera.issue_software_trigger()\n",
    "        # frames_counted = 0\n",
    "        camera.arm(2)\n",
    "        camera.issue_software_trigger()\n",
    "        frame = camera.get_pending_frame_or_null()\n",
    "        image_data = frame.image_buffer\n",
    "        image8 = np.frombuffer(image_data, dtype=np.uint8)\n",
    "        \n",
    "        \n",
    "    \n",
    "    \n",
    "    \n",
    "    \n",
    "    \n",
    "        # img.save(folder + \"\\\\\"+ 'TEST' + \"_\" + str(int(round(camera.exposure_time_us/1000,0))) + \"ms.png\")\n",
    "\t  #Put loop to do things here...\n",
    "        # frame = camera.get_pending_frame_or_null()\n",
    "        # if frame is None:\n",
    "        # \traise TimeoutError(\"Timeout was reached while polling for a frame, program will now exit\")\n",
    "        # frames_counted += 1\n",
    "        # image_data = frame.image_buffer\n",
    "        # img = Image.fromarray(image_data)\n",
    "        # st = get_timestamp('seconds')\n",
    "        # img.save(folder + \"\\\\\"+ st + \"_\" + str(int(round(camera.exposure_time_us/1000,0))) + \"ms.png\")\n",
    "        # print('Image saved') \n",
    "        \n",
    "        time.sleep(0.1)\n",
    "        camera.disarm()"
   ],
   "id": "33b5c261db651077",
   "outputs": [
    {
     "name": "stdout",
     "output_type": "stream",
     "text": [
      "100000\n"
     ]
    }
   ],
   "execution_count": 3
  },
  {
   "metadata": {
    "ExecuteTime": {
     "end_time": "2024-08-15T12:57:19.366419Z",
     "start_time": "2024-08-15T12:57:19.342483Z"
    }
   },
   "cell_type": "code",
   "source": "camera.get_exposure_time_us()\n",
   "id": "31b74a0cebeef9ae",
   "outputs": [
    {
     "ename": "AttributeError",
     "evalue": "'TLCamera' object has no attribute 'get_exposure_time_us'",
     "output_type": "error",
     "traceback": [
      "\u001B[1;31m---------------------------------------------------------------------------\u001B[0m",
      "\u001B[1;31mAttributeError\u001B[0m                            Traceback (most recent call last)",
      "\u001B[1;32m<ipython-input-18-af18e43baaef>\u001B[0m in \u001B[0;36m<module>\u001B[1;34m\u001B[0m\n\u001B[1;32m----> 1\u001B[1;33m \u001B[0mcamera\u001B[0m\u001B[1;33m.\u001B[0m\u001B[0mget_exposure_time_us\u001B[0m\u001B[1;33m(\u001B[0m\u001B[1;33m)\u001B[0m\u001B[1;33m\u001B[0m\u001B[1;33m\u001B[0m\u001B[0m\n\u001B[0m\u001B[0;32m      2\u001B[0m \u001B[1;33m\u001B[0m\u001B[0m\n",
      "\u001B[1;31mAttributeError\u001B[0m: 'TLCamera' object has no attribute 'get_exposure_time_us'"
     ]
    }
   ],
   "execution_count": 18
  },
  {
   "metadata": {
    "jupyter": {
     "is_executing": true
    }
   },
   "cell_type": "code",
   "source": [
    "with TLCameraSDK().open_camera(TLCameraSDK().discover_available_cameras()[0]) as camera:\n",
    "    camera.exposure\n",
    "    camera."
   ],
   "id": "af5a60b866e11791",
   "outputs": [],
   "execution_count": null
  },
  {
   "metadata": {
    "ExecuteTime": {
     "end_time": "2024-08-16T12:28:36.990618Z",
     "start_time": "2024-08-16T12:28:30.891920Z"
    }
   },
   "cell_type": "code",
   "source": [
    "%load_ext autoreload\n",
    "%autoreload 2\n",
    "\n",
    "import Components as comp \n",
    "import matplotlib.pyplot as plt\n",
    "\n",
    "with comp.Thor_Camera() as camera:\n",
    "    camera.change_exposure(1128)\n",
    "    print(camera.get_exposure())\n",
    "    imgs = camera.get_multiple_images(num=10)\n",
    "    img = camera.get_image()\n",
    "    \n",
    "    plt.imshow(imgs[5],cmap = 'Greys')\n",
    "    "
   ],
   "id": "b2469cf28a94def8",
   "outputs": [
    {
     "name": "stdout",
     "output_type": "stream",
     "text": [
      "The autoreload extension is already loaded. To reload it, use:\n",
      "  %reload_ext autoreload\n",
      "1128\n"
     ]
    },
    {
     "data": {
      "text/plain": [
       "<Figure size 432x288 with 1 Axes>"
      ],
      "image/png": "[encoded data removed]"
     },
     "metadata": {
      "needs_background": "light"
     },
     "output_type": "display_data"
    }
   ],
   "execution_count": 6
  },
  {
   "metadata": {
    "jupyter": {
     "is_executing": true
    },
    "ExecuteTime": {
     "start_time": "2024-08-16T10:02:08.179962Z"
    }
   },
   "cell_type": "code",
   "source": "",
   "id": "c63b36446a6b630d",
   "outputs": [],
   "execution_count": null
  },
  {
   "metadata": {},
   "cell_type": "code",
   "outputs": [],
   "execution_count": null,
   "source": "",
   "id": "3dceb6e3ac5210c7"
  }
 ],
 "metadata": {
  "kernelspec": {
   "display_name": "Python 3",
   "language": "python",
   "name": "python3"
  },
  "language_info": {
   "codemirror_mode": {
    "name": "ipython",
    "version": 2
   },
   "file_extension": ".py",
   "mimetype": "text/x-python",
   "name": "python",
   "nbconvert_exporter": "python",
   "pygments_lexer": "ipython2",
   "version": "2.7.6"
  }
 },
 "nbformat": 4,
 "nbformat_minor": 5
}
